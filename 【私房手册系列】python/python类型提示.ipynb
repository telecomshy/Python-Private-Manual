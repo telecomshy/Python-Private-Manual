{
 "cells": [
  {
   "cell_type": "markdown",
   "id": "ec312779",
   "metadata": {},
   "source": [
    "# Python私房手册-类型提示"
   ]
  },
  {
   "cell_type": "markdown",
   "id": "eccfa088",
   "metadata": {},
   "source": [
    "在Python3.5版本以后，就可以使用类型提示了，几个主要的官方文档如下：\n",
    "- [PEP484: 类型提示，包含参数注释以及在#注释中写变量注释的语法](https://www.python.org/dev/peps/pep-0484/)\n",
    "- [PEP526: 变量注释，直接在代码中写变量注释的语法](https://www.python.org/dev/peps/pep-0526/)\n",
    "\n",
    "\n",
    "相关教程：\n",
    "- [Python Type Checking](https://realpython.com/python-type-checking/#type-theory)\n",
    "- [Python类型检查（中文）](https://blog.csdn.net/u011331731/article/details/108354536)\n",
    "- [Sorry, you’re just not my type](https://blog.labdigital.nl/sorry-youre-just-not-my-type-e1b8934c1013)"
   ]
  },
  {
   "cell_type": "markdown",
   "id": "56db5ae2",
   "metadata": {},
   "source": [
    "## 参数注释"
   ]
  },
  {
   "cell_type": "markdown",
   "id": "13348b9a",
   "metadata": {},
   "source": [
    "### TypeVar"
   ]
  },
  {
   "cell_type": "markdown",
   "id": "a083c3ef",
   "metadata": {},
   "source": [
    "#### TypeVar的bound参数"
   ]
  },
  {
   "cell_type": "markdown",
   "id": "59adc693",
   "metadata": {},
   "source": [
    "```python\n",
    "ST = TypeVar('ST', bound=Sized)\n",
    "\n",
    "\n",
    "def longer(x: ST, y: ST) -> ST:\n",
    "    if len(x) > len(y):\n",
    "        return x\n",
    "    else:\n",
    "        return y\n",
    "    \n",
    "    \n",
    "longer([1], [1, 2])  # ok, return type List[int]\n",
    "longer({1}, {1, 2})  # ok, return type Set[int]\n",
    "longer([1], {1, 2})  # PEP484：ok, return type Collection[int]，但是pycharm2021.3提示错误\n",
    "```\n",
    "这是PEP484的一个例子，但是`longer([1], {1, 2})`在pycharm2021.3版本中提示错误，不知道在后续的PEP中进行了修改，还是pycharm不完善，不过pycharm提示错误才更符合我的理解。因为`bound`只是提供一个类型的上限，但是`ST`应该始终代表同一类型，不然的话，`ST`和普通的`UNION`就没啥区别了。"
   ]
  },
  {
   "cell_type": "markdown",
   "id": "eee04ca5",
   "metadata": {},
   "source": [
    "## 变量注释"
   ]
  },
  {
   "cell_type": "markdown",
   "id": "7854c89a",
   "metadata": {},
   "source": [
    "### 基本语法"
   ]
  },
  {
   "cell_type": "markdown",
   "id": "ab08da2b",
   "metadata": {},
   "source": [
    "在`#`注释中写变量提示有很多不足，因此在PEP526中规定了直接在代码中书写变量提示的语法，类型提示可以直接添加到赋值语句中或者单个的表达式中，如下，两种写法都是可以的：\n",
    "```python\n",
    "# 第一种写法\n",
    "my_var: int\n",
    "my_var = 5\n",
    "\n",
    "# 第二种写法\n",
    "other_var: int = 5\n",
    "```\n",
    "虽然两种写法效果都可以，但是如果有分支的情况下，第一种写法更好：\n",
    "```python\n",
    "my_var: bool\n",
    "\n",
    "if 2 + 2 == 4:\n",
    "    my_var = True\n",
    "else:\n",
    "    my_var = False\n",
    "```\n",
    "注意，当元组打包的时候，语法允许变量提示，但是解包时，是不允许的：\n",
    "```python\n",
    "from typing import Tuple\n",
    "\n",
    "t: Tuple[int, ...] = (1, 2, 3)  # 省略号表示其它所有元素都是int类型\n",
    "t: Tuple[int, ...] = 1, 2, 3  # 3.8版本以后也可以这样写\n",
    "```\n",
    "但是解包是不能直接写类型提示的：\n",
    "```python\n",
    "a:int, b:int, c:int = (1, 2, 3)  # 不能这样写，提示语法错误\n",
    "```\n",
    "只能够每个变量先注释：\n",
    "```python\n",
    "header: str\n",
    "kind: int\n",
    "body: Optional[List[str]]  # 表示body为str构成的列表或者为None\n",
    "header, kind, body = message\n",
    "```"
   ]
  },
  {
   "cell_type": "markdown",
   "id": "71b8dfee",
   "metadata": {},
   "source": [
    "### 全局和局部的变量注释"
   ]
  },
  {
   "cell_type": "markdown",
   "id": "7af1bfb8",
   "metadata": {},
   "source": [
    "注意，当全局变量注释时，会产生一个未绑定的变量：\n",
    "```python\n",
    "a: int\n",
    "print(a)  # 抛出NameError，变量未定义\n",
    "```\n",
    "如果是在函数内被定义，那么会产生一个局部的未绑定的变量：\n",
    "```python\n",
    "a = 42\n",
    "\n",
    "def func():\n",
    "    a: int\n",
    "    print(a) \n",
    "\n",
    "func()  # UnboundLocalError: local variable 'a' referenced before assignment\n",
    "```"
   ]
  },
  {
   "cell_type": "markdown",
   "id": "15e8fd63",
   "metadata": {},
   "source": [
    "### 类和实例的变量注释"
   ]
  },
  {
   "cell_type": "markdown",
   "id": "214d977c",
   "metadata": {},
   "source": [
    "类型注释还可以用于注释类主体和方法中的类和实例变量。特别是，无值表示法`a: int`允许对应该在`__init__`或`__new__`中初始化的实例变量进行注释。建议的语法如下所示:\n",
    "```python\n",
    "class BasicStarship:\n",
    "    captain: str = 'Picard'               # instance variable with default\n",
    "    damage: int                       # instance variable without default\n",
    "    stats: ClassVar[Dict[str, int]] = {}      # class variable\n",
    "```\n",
    "虽然`caption`是类属性，但是其目的是所有实例变量设置一个默认值，所以在`__init__`中还需要定义一个`captain`的实例变量。但是，如果像下面这样写：\n",
    "```python\n",
    "class BasicStarship:\n",
    "    captain: str = 42  # captain只会检查实例属性是否是str，不会检查类属性\n",
    "```\n",
    "此时是不会提示错误的，说实话，这挺容易让人产生误解的。而真正的类变量不应该被实例变量覆盖，因此需要使用`ClassVar`注释，此时如果意外设置了实例的`stats`属性，编辑器会提示错误。\n",
    "\n",
    "也可以直接对实例变量进行注释：\n",
    "```python\n",
    "class BasicStarship:\n",
    "    def __init__(self, captain):\n",
    "        self.captain: str = captain\n",
    "```\n",
    "注意一点，ClassVar不能包含任何类型变量"
   ]
  },
  {
   "cell_type": "markdown",
   "id": "ccb0fb30",
   "metadata": {},
   "source": [
    "## 不变、协变和逆变"
   ]
  },
  {
   "cell_type": "code",
   "execution_count": null,
   "id": "bf4bc218",
   "metadata": {},
   "outputs": [],
   "source": []
  }
 ],
 "metadata": {
  "kernelspec": {
   "display_name": "python38",
   "language": "python",
   "name": "python38"
  },
  "language_info": {
   "codemirror_mode": {
    "name": "ipython",
    "version": 3
   },
   "file_extension": ".py",
   "mimetype": "text/x-python",
   "name": "python",
   "nbconvert_exporter": "python",
   "pygments_lexer": "ipython3",
   "version": "3.9.7"
  },
  "toc": {
   "base_numbering": 1,
   "nav_menu": {
    "height": "218px",
    "width": "160px"
   },
   "number_sections": true,
   "sideBar": true,
   "skip_h1_title": true,
   "title_cell": "Table of Contents",
   "title_sidebar": "Python私房手册-类型提示",
   "toc_cell": false,
   "toc_position": {},
   "toc_section_display": true,
   "toc_window_display": true
  }
 },
 "nbformat": 4,
 "nbformat_minor": 5
}
