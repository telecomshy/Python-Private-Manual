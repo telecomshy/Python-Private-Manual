{
 "cells": [
  {
   "cell_type": "markdown",
   "id": "39a3cd4b",
   "metadata": {},
   "source": [
    "# Python私房手册"
   ]
  },
  {
   "cell_type": "markdown",
   "id": "b572f257",
   "metadata": {},
   "source": [
    "## 基本类型"
   ]
  },
  {
   "cell_type": "markdown",
   "id": "9debe90a",
   "metadata": {},
   "source": [
    "### 整数、字符串、字节互转"
   ]
  },
  {
   "cell_type": "markdown",
   "id": "16403441",
   "metadata": {},
   "source": [
    "- [int.from_bytes 详解与原码反码补码的简单介绍](https://blog.csdn.net/aic1999/article/details/80102433)\n",
    "- [python整数、字符串、字节串相互转换](https://blog.csdn.net/weixin_34146805/article/details/92614243)"
   ]
  },
  {
   "cell_type": "markdown",
   "id": "1028908e",
   "metadata": {},
   "source": [
    "整数转成字节很简单，直接调用`.to_bytes`方法，注意整数需要添加括号，否则因为包含`.`，会被当成浮点数从而报错："
   ]
  },
  {
   "cell_type": "code",
   "execution_count": 14,
   "id": "20c2086c",
   "metadata": {},
   "outputs": [
    {
     "data": {
      "text/plain": [
       "b'\\x00\\x00\\x04\\x00'"
      ]
     },
     "execution_count": 14,
     "metadata": {},
     "output_type": "execute_result"
    }
   ],
   "source": [
    "(1024).to_bytes(4, byteorder='big')"
   ]
  },
  {
   "cell_type": "markdown",
   "id": "0632905e",
   "metadata": {},
   "source": [
    "`byteorder`是字节序，和cpu有关，分为大头`big`和小头`little`，查看本机的字节序可以使用`sys.byteorder`："
   ]
  },
  {
   "cell_type": "code",
   "execution_count": 12,
   "id": "7af96320",
   "metadata": {},
   "outputs": [
    {
     "data": {
      "text/plain": [
       "'little'"
      ]
     },
     "execution_count": 12,
     "metadata": {},
     "output_type": "execute_result"
    }
   ],
   "source": [
    "import sys\n",
    "sys.byteorder"
   ]
  },
  {
   "cell_type": "markdown",
   "id": "f435188c",
   "metadata": {},
   "source": [
    "另外还可以接收一个`signed`参数，表示有符号还是无符号，默认为`False`。如果是负数，`signed`必须为`True`。\n",
    "\n",
    "字节转换成整数可以使用`from_bytes`类方法，参数是类似的："
   ]
  },
  {
   "cell_type": "code",
   "execution_count": 11,
   "id": "12726998",
   "metadata": {},
   "outputs": [
    {
     "data": {
      "text/plain": [
       "1024"
      ]
     },
     "execution_count": 11,
     "metadata": {},
     "output_type": "execute_result"
    }
   ],
   "source": [
    "int.from_bytes(b'\\x00\\x00\\x04\\x00', byteorder='big')"
   ]
  },
  {
   "cell_type": "markdown",
   "id": "488ac0b4",
   "metadata": {},
   "source": [
    "## ''是空字符串？"
   ]
  },
  {
   "cell_type": "markdown",
   "id": "80cb7a92",
   "metadata": {},
   "source": [
    "今天发现一个很有意思的细节，当直接list('')时，创建的是一个空的列表，或元组或集合:"
   ]
  },
  {
   "cell_type": "code",
   "execution_count": 1,
   "id": "d779a6bf",
   "metadata": {},
   "outputs": [
    {
     "data": {
      "text/plain": [
       "[]"
      ]
     },
     "execution_count": 1,
     "metadata": {},
     "output_type": "execute_result"
    }
   ],
   "source": [
    "list('')"
   ]
  },
  {
   "cell_type": "markdown",
   "id": "961ff794",
   "metadata": {},
   "source": [
    "可是当以字面量语法创建时，却不是一个空列表："
   ]
  },
  {
   "cell_type": "code",
   "execution_count": 2,
   "id": "9788cd14",
   "metadata": {},
   "outputs": [
    {
     "data": {
      "text/plain": [
       "['']"
      ]
     },
     "execution_count": 2,
     "metadata": {},
     "output_type": "execute_result"
    }
   ],
   "source": [
    "['']"
   ]
  },
  {
   "cell_type": "markdown",
   "id": "90af11ec",
   "metadata": {},
   "source": [
    "首先''是一个长度为0的空字符串："
   ]
  },
  {
   "cell_type": "code",
   "execution_count": 16,
   "id": "fb2093ce",
   "metadata": {},
   "outputs": [
    {
     "data": {
      "text/plain": [
       "True"
      ]
     },
     "execution_count": 16,
     "metadata": {},
     "output_type": "execute_result"
    }
   ],
   "source": [
    "isinstance('', str)"
   ]
  },
  {
   "cell_type": "code",
   "execution_count": 17,
   "id": "67870248",
   "metadata": {},
   "outputs": [
    {
     "data": {
      "text/plain": [
       "0"
      ]
     },
     "execution_count": 17,
     "metadata": {},
     "output_type": "execute_result"
    }
   ],
   "source": [
    "len('')"
   ]
  },
  {
   "cell_type": "markdown",
   "id": "69d204ad",
   "metadata": {},
   "source": [
    "当以构造方法创建列表时，可以理解为轮询可迭代对象，把每个元素添加到空列表，而''由于长度为0，实际上不会迭代："
   ]
  },
  {
   "cell_type": "code",
   "execution_count": 15,
   "id": "f19fb948",
   "metadata": {},
   "outputs": [],
   "source": [
    "for i in '':\n",
    "    print(f'item is {i}')"
   ]
  },
  {
   "cell_type": "markdown",
   "id": "78ca2019",
   "metadata": {},
   "source": [
    "这和包含空格的字符串是不同的："
   ]
  },
  {
   "cell_type": "code",
   "execution_count": 13,
   "id": "41e57946",
   "metadata": {},
   "outputs": [
    {
     "name": "stdout",
     "output_type": "stream",
     "text": [
      "item is  \n"
     ]
    }
   ],
   "source": [
    "for i in ' ':\n",
    "    print(f'item is {i}')"
   ]
  },
  {
   "cell_type": "markdown",
   "id": "ff959b01",
   "metadata": {},
   "source": [
    "## 常用模块"
   ]
  },
  {
   "cell_type": "markdown",
   "id": "9fad57f0",
   "metadata": {},
   "source": [
    "### warnings"
   ]
  },
  {
   "cell_type": "markdown",
   "id": "5d5ef7d0",
   "metadata": {},
   "source": [
    "- [Python中的warnings模块详细阐述](https://blog.csdn.net/low5252/article/details/109334695)"
   ]
  },
  {
   "cell_type": "code",
   "execution_count": null,
   "id": "e7541274",
   "metadata": {},
   "outputs": [],
   "source": []
  }
 ],
 "metadata": {
  "kernelspec": {
   "display_name": "Python 3 (ipykernel)",
   "language": "python",
   "name": "python3"
  },
  "language_info": {
   "codemirror_mode": {
    "name": "ipython",
    "version": 3
   },
   "file_extension": ".py",
   "mimetype": "text/x-python",
   "name": "python",
   "nbconvert_exporter": "python",
   "pygments_lexer": "ipython3",
   "version": "3.9.7"
  },
  "toc": {
   "base_numbering": 1,
   "nav_menu": {},
   "number_sections": true,
   "sideBar": true,
   "skip_h1_title": true,
   "title_cell": "Table of Contents",
   "title_sidebar": "Python私房手册",
   "toc_cell": false,
   "toc_position": {},
   "toc_section_display": true,
   "toc_window_display": true
  }
 },
 "nbformat": 4,
 "nbformat_minor": 5
}
