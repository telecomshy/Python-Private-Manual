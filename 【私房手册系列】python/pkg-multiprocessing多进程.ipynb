{
 "cells": [
  {
   "cell_type": "markdown",
   "id": "d4c37ccb",
   "metadata": {},
   "source": [
    "# Python私房手册-multiprocessing多进程全攻略"
   ]
  },
  {
   "cell_type": "markdown",
   "id": "53fd33ec",
   "metadata": {},
   "source": [
    "- [multiprocessing --- 基于进程的并行(官网)](https://docs.python.org/zh-cn/3/library/multiprocessing.html#proxy-objects)\n",
    "- [How to Use the Multiprocessing Package in Python](https://towardsdatascience.com/how-to-use-the-multiprocessing-package-in-python3-a1c808415ec2)"
   ]
  },
  {
   "cell_type": "markdown",
   "id": "60afe0d1",
   "metadata": {},
   "source": [
    "## 引申阅读"
   ]
  },
  {
   "cell_type": "markdown",
   "id": "8d6e0d2c",
   "metadata": {},
   "source": [
    "- [python中最常用的5种线程锁](https://zhuanlan.zhihu.com/p/429101492)"
   ]
  },
  {
   "cell_type": "code",
   "execution_count": null,
   "id": "da1cea20",
   "metadata": {},
   "outputs": [],
   "source": []
  }
 ],
 "metadata": {
  "kernelspec": {
   "display_name": "Python 3 (ipykernel)",
   "language": "python",
   "name": "python3"
  },
  "language_info": {
   "codemirror_mode": {
    "name": "ipython",
    "version": 3
   },
   "file_extension": ".py",
   "mimetype": "text/x-python",
   "name": "python",
   "nbconvert_exporter": "python",
   "pygments_lexer": "ipython3",
   "version": "3.9.7"
  },
  "toc": {
   "base_numbering": 1,
   "nav_menu": {},
   "number_sections": true,
   "sideBar": true,
   "skip_h1_title": true,
   "title_cell": "Table of Contents",
   "title_sidebar": "Python私房手册-multiprocessing多进程全攻略",
   "toc_cell": false,
   "toc_position": {},
   "toc_section_display": true,
   "toc_window_display": true
  }
 },
 "nbformat": 4,
 "nbformat_minor": 5
}
