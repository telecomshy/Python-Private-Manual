{
 "cells": [
  {
   "cell_type": "code",
   "execution_count": 1,
   "id": "b202eece",
   "metadata": {},
   "outputs": [],
   "source": [
    "import pandas as pd\n",
    "from pandas import DataFrame,Series\n",
    "import matplotlib.pyplot as plt\n",
    "import numpy as np"
   ]
  },
  {
   "cell_type": "markdown",
   "id": "275f4f97",
   "metadata": {},
   "source": [
    "# Pandas私房手册-Pandas速查表"
   ]
  },
  {
   "cell_type": "markdown",
   "id": "39f598a0",
   "metadata": {},
   "source": [
    "索引：\n",
    "- 重建索引：reindex()\n",
    "- 获取最小/最大值的索引号：idxmin()/idxmax()\n",
    "\n",
    "\n",
    "填补：\n",
    "- 填补：combine_first()/combine()\n",
    "\n",
    "\n",
    "次数：\n",
    "- 统计值的次数：pd.value_counts()/value_counts()\n",
    "- 出现最多次数的值：mode()\n",
    "\n",
    "\n",
    "分桶：\n",
    "- 按值和百分比分桶：cut()/qcut()\n",
    "\n",
    "\n",
    "函数：\n",
    "- 方法链：pipe\n",
    "- 行/列函数：apply\n",
    "- 元素函数：applymap\n",
    "- 聚合函数：agg/transform\n",
    "\n",
    "\n",
    "其它：\n",
    "- 根据索引删除条目：drop()"
   ]
  },
  {
   "cell_type": "code",
   "execution_count": null,
   "id": "831ffb6c",
   "metadata": {},
   "outputs": [],
   "source": []
  }
 ],
 "metadata": {
  "kernelspec": {
   "display_name": "Python 3",
   "language": "python",
   "name": "python3"
  },
  "language_info": {
   "codemirror_mode": {
    "name": "ipython",
    "version": 3
   },
   "file_extension": ".py",
   "mimetype": "text/x-python",
   "name": "python",
   "nbconvert_exporter": "python",
   "pygments_lexer": "ipython3",
   "version": "3.7.6"
  },
  "toc": {
   "base_numbering": 1,
   "nav_menu": {},
   "number_sections": true,
   "sideBar": true,
   "skip_h1_title": true,
   "title_cell": "Table of Contents",
   "title_sidebar": "Pandas私房手册-Pandas速查表",
   "toc_cell": false,
   "toc_position": {},
   "toc_section_display": true,
   "toc_window_display": true
  }
 },
 "nbformat": 4,
 "nbformat_minor": 5
}
