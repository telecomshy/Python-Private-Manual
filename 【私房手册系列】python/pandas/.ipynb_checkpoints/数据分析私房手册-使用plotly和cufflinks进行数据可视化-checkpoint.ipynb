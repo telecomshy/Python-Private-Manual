{
 "cells": [
  {
   "cell_type": "markdown",
   "id": "71f9e5f5",
   "metadata": {},
   "source": [
    "# 数据分析私房手册-使用plotly和cufflinks进行数据可视化"
   ]
  },
  {
   "cell_type": "markdown",
   "id": "33a9e07a",
   "metadata": {},
   "source": [
    "## plotly和cufflinks是什么"
   ]
  },
  {
   "cell_type": "markdown",
   "id": "90ea478c",
   "metadata": {},
   "source": [
    "plotly是一个开源的绘图库，和matplotlib比较起来，它是可交互式的。就像seaborn封装了matplotlib一样，cufflinks在plotly的基础上做了进一步的包装，方法统一，参数配置简单。为DataFrame提供了`iplot`方法，也就是说，就像在DataFrame上调用`plot`方法一样，现在只需要调用`iplot`方法，就可以直接使用plotly画图了。"
   ]
  },
  {
   "cell_type": "markdown",
   "id": "c55393f0",
   "metadata": {},
   "source": [
    "## 安装plotly和cufflinks"
   ]
  },
  {
   "cell_type": "markdown",
   "id": "b7fb2064",
   "metadata": {},
   "source": [
    "安装非常简单：\n",
    "```\n",
    "pip install plotly -i https://pypi.tuna.tsinghua.edu.cn/simple\n",
    "pip install cufflinks -i https://pypi.tuna.tsinghua.edu.cn/simple\n",
    "```\n",
    "本教程编写的时候，最新的版本是:\n",
    "- plotly: 5.3.1\n",
    "- cufflinks: 0.17.3\n",
    "\n",
    "plotly的官网地址是：\n",
    "- https://plotly.com/python/\n",
    "\n",
    "cufflinks的官网地址是：\n",
    "- https://github.com/santosjorge/cufflinks"
   ]
  },
  {
   "cell_type": "markdown",
   "id": "a281cc6a",
   "metadata": {},
   "source": [
    "## 使用plotly"
   ]
  },
  {
   "cell_type": "code",
   "execution_count": null,
   "id": "c2f60220",
   "metadata": {},
   "outputs": [],
   "source": []
  },
  {
   "cell_type": "code",
   "execution_count": null,
   "id": "07139fbe",
   "metadata": {},
   "outputs": [],
   "source": []
  },
  {
   "cell_type": "markdown",
   "id": "bb22b2da",
   "metadata": {},
   "source": [
    "## 使用cufflinks"
   ]
  },
  {
   "cell_type": "code",
   "execution_count": null,
   "id": "0e065b81",
   "metadata": {},
   "outputs": [],
   "source": []
  },
  {
   "cell_type": "markdown",
   "id": "4e802bb8",
   "metadata": {},
   "source": [
    "## 其它教程"
   ]
  },
  {
   "cell_type": "markdown",
   "id": "1022d86e",
   "metadata": {},
   "source": [
    "下面的教程有些可能有点过时，最新的plotly和cufflinks提供更高级的API，不过仍然可以参考：\n",
    "- [Plotly Tutorial for Beginners](https://www.kaggle.com/kanncaa1/plotly-tutorial-for-beginners)\n",
    "- [Beginner’s Guide To Data Visualisation With Plotly & Cufflinks](https://analyticsindiamag.com/beginners-guide-to-data-visualisation-with-plotly-cufflinks/)\n",
    "- [Plotly and cufflinks : Advanced Python Data Visualization Libraries](https://www.analyticsvidhya.com/blog/2021/06/advanced-python-data-visualization-libraries-plotly/)\n",
    "- [炫酷的可视化工具包—cufflinks](https://www.cnblogs.com/Yang-Sen/p/11226005.html)"
   ]
  },
  {
   "cell_type": "code",
   "execution_count": null,
   "id": "d6ac62e6",
   "metadata": {},
   "outputs": [],
   "source": []
  }
 ],
 "metadata": {
  "kernelspec": {
   "display_name": "Python 3",
   "language": "python",
   "name": "python3"
  },
  "language_info": {
   "codemirror_mode": {
    "name": "ipython",
    "version": 3
   },
   "file_extension": ".py",
   "mimetype": "text/x-python",
   "name": "python",
   "nbconvert_exporter": "python",
   "pygments_lexer": "ipython3",
   "version": "3.7.6"
  },
  "toc": {
   "base_numbering": 1,
   "nav_menu": {},
   "number_sections": true,
   "sideBar": true,
   "skip_h1_title": true,
   "title_cell": "Table of Contents",
   "title_sidebar": "数据分析私房手册-使用plotly和cufflinks进行数据可视化",
   "toc_cell": false,
   "toc_position": {},
   "toc_section_display": true,
   "toc_window_display": true
  }
 },
 "nbformat": 4,
 "nbformat_minor": 5
}
