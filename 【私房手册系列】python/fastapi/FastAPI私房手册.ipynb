{
 "cells": [
  {
   "cell_type": "markdown",
   "id": "95e97324",
   "metadata": {},
   "source": [
    "# FastAPI私房手册"
   ]
  },
  {
   "cell_type": "markdown",
   "id": "70aefd4a",
   "metadata": {},
   "source": [
    "## 请求参数"
   ]
  },
  {
   "cell_type": "markdown",
   "id": "c7bb5780",
   "metadata": {},
   "source": [
    "### 路径参数"
   ]
  },
  {
   "cell_type": "code",
   "execution_count": null,
   "id": "a40d66ee",
   "metadata": {},
   "outputs": [],
   "source": []
  },
  {
   "cell_type": "markdown",
   "id": "d8c188dc",
   "metadata": {},
   "source": [
    "## 常见问题"
   ]
  },
  {
   "cell_type": "markdown",
   "id": "39d92fb9",
   "metadata": {},
   "source": [
    "### 如何在pycharm里面配置启动uvicorn服务器"
   ]
  },
  {
   "cell_type": "markdown",
   "id": "33f8e64a",
   "metadata": {},
   "source": [
    "- [How can I run the fast-api server using Pycharm?](https://stackoverflow.com/questions/62856818/how-can-i-run-the-fast-api-server-using-pycharm)\n",
    "\n",
    "这里要补充一点，使用中文版的pycharm，pycharm版本2020.1.1，不能把脚本路径改为模块名称，更改都无效。只有设置为英文版以后，把脚本路径改为模块名称，然后再改回中文版。此时模块名称一栏看起来是空的，但是实际可以运行。"
   ]
  },
  {
   "cell_type": "code",
   "execution_count": null,
   "id": "f393fa79",
   "metadata": {},
   "outputs": [],
   "source": []
  }
 ],
 "metadata": {
  "kernelspec": {
   "display_name": "python38",
   "language": "python",
   "name": "python38"
  },
  "language_info": {
   "codemirror_mode": {
    "name": "ipython",
    "version": 3
   },
   "file_extension": ".py",
   "mimetype": "text/x-python",
   "name": "python",
   "nbconvert_exporter": "python",
   "pygments_lexer": "ipython3",
   "version": "3.9.7"
  },
  "toc": {
   "base_numbering": 1,
   "nav_menu": {},
   "number_sections": true,
   "sideBar": true,
   "skip_h1_title": true,
   "title_cell": "Table of Contents",
   "title_sidebar": "FastAPI私房手册",
   "toc_cell": false,
   "toc_position": {},
   "toc_section_display": true,
   "toc_window_display": true
  }
 },
 "nbformat": 4,
 "nbformat_minor": 5
}
