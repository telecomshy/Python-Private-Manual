{
 "cells": [
  {
   "cell_type": "markdown",
   "id": "a476d092",
   "metadata": {},
   "source": [
    "# Python私房手册-pydantic"
   ]
  },
  {
   "cell_type": "markdown",
   "id": "c8999e98",
   "metadata": {},
   "source": [
    "- [pydantic1.71中文文档](https://blog.csdn.net/swinfans/article/details/89629641)"
   ]
  },
  {
   "cell_type": "markdown",
   "id": "e72da3e7",
   "metadata": {},
   "source": [
    "## 模型"
   ]
  },
  {
   "cell_type": "markdown",
   "id": "9df38185",
   "metadata": {},
   "source": [
    "### ORM模式"
   ]
  },
  {
   "cell_type": "markdown",
   "id": "613b7cab",
   "metadata": {},
   "source": [
    "pydantic可以直接解析类似sqlalchemy的模型："
   ]
  },
  {
   "cell_type": "code",
   "execution_count": 53,
   "id": "9b988330",
   "metadata": {},
   "outputs": [
    {
     "data": {
      "text/plain": [
       "CompanyModel(id=123, public_key='foobar', name='Testing', domains=['example.com', 'foobar.com'])"
      ]
     },
     "execution_count": 53,
     "metadata": {},
     "output_type": "execute_result"
    }
   ],
   "source": [
    "from typing import List\n",
    "from sqlalchemy import Column, Integer, String\n",
    "from sqlalchemy.dialects.postgresql import ARRAY\n",
    "from sqlalchemy.ext.declarative import declarative_base\n",
    "from pydantic import BaseModel, constr\n",
    "\n",
    "Base = declarative_base()\n",
    "\n",
    "\n",
    "class CompanyOrm(Base):\n",
    "    __tablename__ = 'companies'\n",
    "    id = Column(Integer, primary_key=True, nullable=False)\n",
    "    public_key = Column(String(20), index=True, nullable=False, unique=True)\n",
    "    name = Column(String(63), unique=True)\n",
    "    domains = Column(ARRAY(String(255)))\n",
    "\n",
    "\n",
    "class CompanyModel(BaseModel):\n",
    "    id: int\n",
    "    public_key: constr(max_length=20)\n",
    "    name: constr(max_length=63)\n",
    "    domains: List[constr(max_length=255)]\n",
    "\n",
    "    class Config:\n",
    "        orm_mode = True\n",
    "\n",
    "\n",
    "co_orm = CompanyOrm(\n",
    "    id=123,\n",
    "    public_key='foobar',\n",
    "    name='Testing',\n",
    "    domains=['example.com', 'foobar.com'],\n",
    ")\n",
    "\n",
    "co_model = CompanyModel.from_orm(co_orm)\n",
    "co_model"
   ]
  },
  {
   "cell_type": "markdown",
   "id": "078b1ccf",
   "metadata": {},
   "source": [
    "### 错误处理"
   ]
  },
  {
   "cell_type": "markdown",
   "id": "825bf643",
   "metadata": {},
   "source": [
    "验证如果没有通过的话，会统一抛出ValidationError错误："
   ]
  },
  {
   "cell_type": "code",
   "execution_count": 1,
   "id": "ee403bd5",
   "metadata": {},
   "outputs": [
    {
     "name": "stdout",
     "output_type": "stream",
     "text": [
      "5 validation errors for Model\n",
      "is_required\n",
      "  field required (type=value_error.missing)\n",
      "gt_int\n",
      "  ensure this value is greater than 42 (type=value_error.number.not_gt; limit_value=42)\n",
      "list_of_ints -> 2\n",
      "  value is not a valid integer (type=type_error.integer)\n",
      "a_float\n",
      "  value is not a valid float (type=type_error.float)\n",
      "recursive_model -> lng\n",
      "  value is not a valid float (type=type_error.float)\n"
     ]
    }
   ],
   "source": [
    "from typing import List\n",
    "from pydantic import BaseModel, ValidationError, conint\n",
    "\n",
    "\n",
    "class Location(BaseModel):\n",
    "    lat = 0.1\n",
    "    lng = 10.1\n",
    "\n",
    "\n",
    "class Model(BaseModel):\n",
    "    is_required: float\n",
    "    gt_int: conint(gt=42)\n",
    "    list_of_ints: List[int] = None\n",
    "    a_float: float = None\n",
    "    recursive_model: Location = None\n",
    "\n",
    "\n",
    "data = dict(\n",
    "    gt_int=21,\n",
    "    list_of_ints=['1', 2, 'bad'],\n",
    "    a_float='not a float',\n",
    "    recursive_model={'lat': 4.2, 'lng': 'New York'},\n",
    ")\n",
    "\n",
    "try:\n",
    "    Model(**data)\n",
    "except ValidationError as e:\n",
    "    print(e)"
   ]
  },
  {
   "cell_type": "markdown",
   "id": "4fdfdea5",
   "metadata": {},
   "source": [
    "除了直接打印错误，还有以下几种方式：\n",
    "1. e.errors(): 以列表形式返回错误"
   ]
  },
  {
   "cell_type": "code",
   "execution_count": 2,
   "id": "a5353d8b",
   "metadata": {},
   "outputs": [
    {
     "name": "stdout",
     "output_type": "stream",
     "text": [
      "[{'loc': ('is_required',), 'msg': 'field required', 'type': 'value_error.missing'}, {'loc': ('gt_int',), 'msg': 'ensure this value is greater than 42', 'type': 'value_error.number.not_gt', 'ctx': {'limit_value': 42}}, {'loc': ('list_of_ints', 2), 'msg': 'value is not a valid integer', 'type': 'type_error.integer'}, {'loc': ('a_float',), 'msg': 'value is not a valid float', 'type': 'type_error.float'}, {'loc': ('recursive_model', 'lng'), 'msg': 'value is not a valid float', 'type': 'type_error.float'}]\n"
     ]
    }
   ],
   "source": [
    "try:\n",
    "    Model(**data)\n",
    "except ValidationError as e:\n",
    "    print(e.errors())"
   ]
  },
  {
   "cell_type": "markdown",
   "id": "ca87ba40",
   "metadata": {},
   "source": [
    "2. e.json(): 以json形式返回错误"
   ]
  },
  {
   "cell_type": "code",
   "execution_count": 3,
   "id": "ed4e7bbe",
   "metadata": {},
   "outputs": [
    {
     "name": "stdout",
     "output_type": "stream",
     "text": [
      "[\n",
      "  {\n",
      "    \"loc\": [\n",
      "      \"is_required\"\n",
      "    ],\n",
      "    \"msg\": \"field required\",\n",
      "    \"type\": \"value_error.missing\"\n",
      "  },\n",
      "  {\n",
      "    \"loc\": [\n",
      "      \"gt_int\"\n",
      "    ],\n",
      "    \"msg\": \"ensure this value is greater than 42\",\n",
      "    \"type\": \"value_error.number.not_gt\",\n",
      "    \"ctx\": {\n",
      "      \"limit_value\": 42\n",
      "    }\n",
      "  },\n",
      "  {\n",
      "    \"loc\": [\n",
      "      \"list_of_ints\",\n",
      "      2\n",
      "    ],\n",
      "    \"msg\": \"value is not a valid integer\",\n",
      "    \"type\": \"type_error.integer\"\n",
      "  },\n",
      "  {\n",
      "    \"loc\": [\n",
      "      \"a_float\"\n",
      "    ],\n",
      "    \"msg\": \"value is not a valid float\",\n",
      "    \"type\": \"type_error.float\"\n",
      "  },\n",
      "  {\n",
      "    \"loc\": [\n",
      "      \"recursive_model\",\n",
      "      \"lng\"\n",
      "    ],\n",
      "    \"msg\": \"value is not a valid float\",\n",
      "    \"type\": \"type_error.float\"\n",
      "  }\n",
      "]\n"
     ]
    }
   ],
   "source": [
    "try:\n",
    "    Model(**data)\n",
    "except ValidationError as e:\n",
    "    print(e.json())"
   ]
  },
  {
   "cell_type": "markdown",
   "id": "1f3f49bb",
   "metadata": {},
   "source": [
    "### 定制错误"
   ]
  },
  {
   "cell_type": "markdown",
   "id": "64e04ea0",
   "metadata": {},
   "source": [
    "我们可以自定义一个验证器："
   ]
  },
  {
   "cell_type": "code",
   "execution_count": 4,
   "id": "2a6d08c5",
   "metadata": {},
   "outputs": [
    {
     "name": "stdout",
     "output_type": "stream",
     "text": [
      "[{'loc': ('foo',), 'msg': 'value must be \"bar\"', 'type': 'value_error'}]\n"
     ]
    }
   ],
   "source": [
    "from pydantic import BaseModel, ValidationError, validator\n",
    "\n",
    "\n",
    "class Model(BaseModel):\n",
    "    foo: str\n",
    "\n",
    "    @validator('foo')\n",
    "    def name_must_contain_space(cls, v):\n",
    "        if v != 'bar':\n",
    "            raise ValueError('value must be \"bar\"')\n",
    "        return v\n",
    "\n",
    "\n",
    "try:\n",
    "    Model(foo='ber')\n",
    "except ValidationError as e:\n",
    "    print(e.errors())  # 注意msg和type"
   ]
  },
  {
   "cell_type": "markdown",
   "id": "053eb490",
   "metadata": {},
   "source": [
    "上面我们抛出的是python的内部异常类，我们还可以根据pydantic给的模板类，自己定义一个错误类："
   ]
  },
  {
   "cell_type": "code",
   "execution_count": 16,
   "id": "3045d679",
   "metadata": {},
   "outputs": [
    {
     "name": "stdout",
     "output_type": "stream",
     "text": [
      "[\n",
      "  {\n",
      "    \"loc\": [\n",
      "      \"foo\"\n",
      "    ],\n",
      "    \"msg\": \"value is not bar, got ber\",\n",
      "    \"type\": \"value_error.not_a_bar\",\n",
      "    \"ctx\": {\n",
      "      \"wrong_value\": \"ber\"\n",
      "    }\n",
      "  }\n",
      "]\n"
     ]
    }
   ],
   "source": [
    "from pydantic import BaseModel, PydanticValueError, PydanticTypeError, ValidationError, validator\n",
    "\n",
    "\n",
    "class NotABarError(PydanticValueError):\n",
    "    code = 'not_a_bar'\n",
    "    msg_template = 'value is not bar, got {wrong_value}'\n",
    "\n",
    "\n",
    "class Model(BaseModel):\n",
    "    foo: str\n",
    "\n",
    "    @validator('foo')\n",
    "    def name_must_contain_space(cls, v):\n",
    "        if v != 'bar':\n",
    "            raise NotABarError(wrong_value=v)\n",
    "        return v\n",
    "\n",
    "\n",
    "try:\n",
    "    Model(foo='ber')\n",
    "except ValidationError as e:\n",
    "    print(e.json())"
   ]
  },
  {
   "cell_type": "markdown",
   "id": "c0936f4c",
   "metadata": {},
   "source": [
    "继承的类主要有PydanticValueError和PydanticTypeError。其中code类属性定义了type，类接受wrong_value的参数，作为ctx的内容。"
   ]
  },
  {
   "cell_type": "markdown",
   "id": "837acd87",
   "metadata": {},
   "source": [
    "### 帮助函数"
   ]
  },
  {
   "cell_type": "code",
   "execution_count": 17,
   "id": "da484934",
   "metadata": {},
   "outputs": [],
   "source": [
    "class User(BaseModel):\n",
    "    name: str\n",
    "    age: conint(gt=0)\n",
    "    sex: str\n",
    "    \n",
    "    @validator('sex')\n",
    "    def validate_sex(cls, v):\n",
    "        if v.lower() not in ['m', 'f', 'male', 'female']:\n",
    "            raise ValueError(f'{v} is not eligible value')\n",
    "        return v"
   ]
  },
  {
   "cell_type": "markdown",
   "id": "9a4bd7da",
   "metadata": {},
   "source": [
    "#### parse_obj"
   ]
  },
  {
   "cell_type": "markdown",
   "id": "65bdb059",
   "metadata": {},
   "source": [
    "直接解析字典："
   ]
  },
  {
   "cell_type": "code",
   "execution_count": 26,
   "id": "fdb938fe",
   "metadata": {},
   "outputs": [
    {
     "data": {
      "text/plain": [
       "User(name='telecomshy', age=43, sex='male')"
      ]
     },
     "execution_count": 26,
     "metadata": {},
     "output_type": "execute_result"
    }
   ],
   "source": [
    "user_d = {\n",
    "    'name': 'telecomshy',\n",
    "    'age': 43,\n",
    "    'sex': 'male'\n",
    "}\n",
    "\n",
    "User.parse_obj(user_d)"
   ]
  },
  {
   "cell_type": "markdown",
   "id": "a07cd274",
   "metadata": {},
   "source": [
    "#### parse_raw"
   ]
  },
  {
   "cell_type": "code",
   "execution_count": 23,
   "id": "fe390bde",
   "metadata": {},
   "outputs": [],
   "source": [
    "import json\n",
    "\n",
    "user_str = json.dumps(user_d)"
   ]
  },
  {
   "cell_type": "markdown",
   "id": "f917266c",
   "metadata": {},
   "source": [
    "解析json字串:"
   ]
  },
  {
   "cell_type": "code",
   "execution_count": 24,
   "id": "f65445df",
   "metadata": {},
   "outputs": [
    {
     "data": {
      "text/plain": [
       "User(name='telecomshy', age=43, sex='male')"
      ]
     },
     "execution_count": 24,
     "metadata": {},
     "output_type": "execute_result"
    }
   ],
   "source": [
    "User.parse_raw(user_str)"
   ]
  },
  {
   "cell_type": "markdown",
   "id": "ae922e43",
   "metadata": {},
   "source": [
    "适当设置可以解析pickle数据："
   ]
  },
  {
   "cell_type": "code",
   "execution_count": 28,
   "id": "02a30f36",
   "metadata": {},
   "outputs": [
    {
     "data": {
      "text/plain": [
       "b'\\x80\\x04\\x95.\\x00\\x00\\x00\\x00\\x00\\x00\\x00}\\x94(\\x8c\\x04name\\x94\\x8c\\ntelecomshy\\x94\\x8c\\x03age\\x94K+\\x8c\\x03sex\\x94\\x8c\\x04male\\x94u.'"
      ]
     },
     "execution_count": 28,
     "metadata": {},
     "output_type": "execute_result"
    }
   ],
   "source": [
    "import pickle\n",
    "\n",
    "user_pickle = pickle.dumps(user_d)\n",
    "user_pickle"
   ]
  },
  {
   "cell_type": "code",
   "execution_count": 29,
   "id": "10e39c83",
   "metadata": {},
   "outputs": [
    {
     "data": {
      "text/plain": [
       "User(name='telecomshy', age=43, sex='male')"
      ]
     },
     "execution_count": 29,
     "metadata": {},
     "output_type": "execute_result"
    }
   ],
   "source": [
    "User.parse_raw(user_pickle, content_type='application/pickle', allow_pickle=True)"
   ]
  },
  {
   "cell_type": "markdown",
   "id": "c22d0d0a",
   "metadata": {},
   "source": [
    "#### parse_file"
   ]
  },
  {
   "cell_type": "markdown",
   "id": "31c45cec",
   "metadata": {},
   "source": [
    "直接解析文件，实际上就是读入文件然后用`parse_raw`处理："
   ]
  },
  {
   "cell_type": "markdown",
   "id": "5051f7a9",
   "metadata": {},
   "source": [
    "#### construct"
   ]
  },
  {
   "cell_type": "markdown",
   "id": "d6f487dd",
   "metadata": {},
   "source": [
    "还有一个construct方法，它不会对数据进行验证，优点就是快："
   ]
  },
  {
   "cell_type": "code",
   "execution_count": 37,
   "id": "1d6f1997",
   "metadata": {},
   "outputs": [
    {
     "data": {
      "text/plain": [
       "User(name='telecomshy', age=43, sex='ale')"
      ]
     },
     "execution_count": 37,
     "metadata": {},
     "output_type": "execute_result"
    }
   ],
   "source": [
    "user_d2 = {'name': 'telecomshy', 'age': 43, 'sex': 'ale'}\n",
    "\n",
    "User.construct(**user_d2)  # sex是错误的，但是没有验证"
   ]
  },
  {
   "cell_type": "markdown",
   "id": "e3dbcc44",
   "metadata": {},
   "source": [
    "`construct`有一个`_fields_set`参数，传入一个集合，可以指明哪些字段是需要初始化的，哪些是有默认值的，如果不传入，则模型实例的`__fields_set_`只包含传入的字段。"
   ]
  },
  {
   "cell_type": "markdown",
   "id": "fb7ab6b6",
   "metadata": {},
   "source": [
    "### 泛型模型"
   ]
  },
  {
   "cell_type": "markdown",
   "id": "6906ac3a",
   "metadata": {},
   "source": [
    "待补充"
   ]
  },
  {
   "cell_type": "markdown",
   "id": "a3be2aeb",
   "metadata": {},
   "source": [
    "### 动态模型"
   ]
  },
  {
   "cell_type": "markdown",
   "id": "ec57a185",
   "metadata": {},
   "source": [
    "有时候，我们需要动态的创建模型，此时可以使用`create_model`方法，以编程方式创建模型："
   ]
  },
  {
   "cell_type": "code",
   "execution_count": 48,
   "id": "eb51b138",
   "metadata": {},
   "outputs": [],
   "source": [
    "from pydantic import BaseModel, create_model\n",
    "\n",
    "DynamicFoobarModel = create_model('DynamicFoobarModel', foo=(str, ...), bar=123)\n",
    "\n",
    "\n",
    "class StaticFoobarModel(BaseModel):\n",
    "    foo: str\n",
    "    bar: int = 123"
   ]
  },
  {
   "cell_type": "markdown",
   "id": "6a0c600c",
   "metadata": {},
   "source": [
    "通过一个元组来定义字段，元组第一个值为类型，第二个值为字段的默认值，如果字段是必填的，使用`...`。\n",
    "\n",
    "`__base__`参数指定父类："
   ]
  },
  {
   "cell_type": "code",
   "execution_count": 50,
   "id": "bc1d2851",
   "metadata": {},
   "outputs": [
    {
     "name": "stdout",
     "output_type": "stream",
     "text": [
      "dict_keys(['foo', 'bar', 'apple', 'banana'])\n"
     ]
    }
   ],
   "source": [
    "from pydantic import BaseModel, create_model\n",
    "\n",
    "\n",
    "class FooModel(BaseModel):\n",
    "    foo: str\n",
    "    bar: int = 123\n",
    "\n",
    "\n",
    "BarModel = create_model(\n",
    "    'BarModel',\n",
    "    apple='russet',\n",
    "    banana='yellow',\n",
    "    __base__=FooModel,\n",
    ")\n",
    "\n",
    "print(BarModel.__fields__.keys())"
   ]
  },
  {
   "cell_type": "markdown",
   "id": "9e96d30c",
   "metadata": {},
   "source": [
    "`__validators__`指定验证器，注意：validator也是动态创建的："
   ]
  },
  {
   "cell_type": "code",
   "execution_count": 51,
   "id": "0651faaf",
   "metadata": {},
   "outputs": [
    {
     "name": "stdout",
     "output_type": "stream",
     "text": [
      "1 validation error for UserModel\n",
      "username\n",
      "  must be alphanumeric (type=assertion_error)\n"
     ]
    }
   ],
   "source": [
    "from pydantic import create_model, ValidationError, validator\n",
    "\n",
    "\n",
    "def username_alphanumeric(cls, v):\n",
    "    assert v.isalnum(), 'must be alphanumeric'\n",
    "    return v\n",
    "\n",
    "\n",
    "validators = {\n",
    "    'username_validator': validator('username')(username_alphanumeric)\n",
    "}\n",
    "\n",
    "UserModel = create_model('UserModel',\n",
    "                         username=(str, ...),\n",
    "                         __validators__=validators)\n",
    "\n",
    "user = UserModel(username='scolvin')\n",
    "\n",
    "try:\n",
    "    UserModel(username='scolvi%n')\n",
    "except ValidationError as e:\n",
    "    print(e)"
   ]
  },
  {
   "cell_type": "markdown",
   "id": "0987c90b",
   "metadata": {},
   "source": [
    "### 伪不变性"
   ]
  },
  {
   "cell_type": "markdown",
   "id": "30b1aafa",
   "metadata": {},
   "source": [
    "可以通过`allow_mutation = False`将模型配置为不可变的："
   ]
  },
  {
   "cell_type": "code",
   "execution_count": 54,
   "id": "c3a9a603",
   "metadata": {},
   "outputs": [
    {
     "name": "stdout",
     "output_type": "stream",
     "text": [
      "\"FooBarModel\" is immutable and does not support item assignment\n",
      "hello\n",
      "{'apple': 'pear'}\n",
      "{'apple': 'grape'}\n"
     ]
    }
   ],
   "source": [
    "from pydantic import BaseModel\n",
    "\n",
    "\n",
    "class FooBarModel(BaseModel):\n",
    "    a: str\n",
    "    b: dict\n",
    "\n",
    "    class Config:\n",
    "        allow_mutation = False\n",
    "\n",
    "\n",
    "foobar = FooBarModel(a='hello', b={'apple': 'pear'})\n",
    "\n",
    "try:\n",
    "    foobar.a = 'different'\n",
    "except TypeError as e:\n",
    "    print(e)\n",
    "\n",
    "print(foobar.a)\n",
    "print(foobar.b)\n",
    "foobar.b['apple'] = 'grape'  # 不可变不能阻止修改可变对象\n",
    "print(foobar.b)"
   ]
  },
  {
   "cell_type": "markdown",
   "id": "8f749f04",
   "metadata": {},
   "source": [
    "#### 字段排序"
   ]
  },
  {
   "cell_type": "markdown",
   "id": "8b054f4a",
   "metadata": {},
   "source": [
    "pydantic字段排序规则为：所有具有注解的字段(无论是只有注解还是具有默认值)都将位于没有注解的字段之前。在各自的组中，字段按照定义时的顺序保存："
   ]
  },
  {
   "cell_type": "code",
   "execution_count": 55,
   "id": "c2f7d20c",
   "metadata": {},
   "outputs": [
    {
     "name": "stdout",
     "output_type": "stream",
     "text": [
      "dict_keys(['a', 'c', 'e', 'b', 'd'])\n",
      "{'a': 1, 'c': 1, 'e': 2.0, 'b': 2, 'd': 0}\n",
      "[('a',), ('c',), ('e',), ('b',), ('d',)]\n"
     ]
    }
   ],
   "source": [
    "from pydantic import BaseModel, ValidationError\n",
    "\n",
    "\n",
    "class Model(BaseModel):\n",
    "    a: int\n",
    "    b = 2\n",
    "    c: int = 1\n",
    "    d = 0\n",
    "    e: float\n",
    "\n",
    "\n",
    "print(Model.__fields__.keys())\n",
    "\n",
    "m = Model(e=2, a=1)\n",
    "print(m.dict())\n",
    "\n",
    "try:\n",
    "    Model(a='x', b='x', c='x', d='x', e='x')\n",
    "except ValidationError as e:\n",
    "    error_locations = [e['loc'] for e in e.errors()]\n",
    "\n",
    "print(error_locations)"
   ]
  },
  {
   "cell_type": "markdown",
   "id": "f0c7da8f",
   "metadata": {},
   "source": [
    "#### 必需字段"
   ]
  },
  {
   "cell_type": "markdown",
   "id": "ba317bff",
   "metadata": {},
   "source": [
    "要声明一个字段是必需的，可以只添加注释，或者使用`...`："
   ]
  },
  {
   "cell_type": "code",
   "execution_count": 59,
   "id": "2e10183a",
   "metadata": {},
   "outputs": [],
   "source": [
    "from pydantic import BaseModel, Field\n",
    "\n",
    "\n",
    "class Model(BaseModel):\n",
    "    a: int\n",
    "    b: int = ...\n",
    "    c: int = Field(...)"
   ]
  },
  {
   "cell_type": "markdown",
   "id": "2139dcfd",
   "metadata": {},
   "source": [
    "如果要指定一个可以接受None值的必需字段，使用`Optional`。注意，此时a不再是必需的，变成可选的，相当于默认值为None，但是b和c是必需的，即使是None，也要明确的输入："
   ]
  },
  {
   "cell_type": "code",
   "execution_count": 61,
   "id": "b2164cda",
   "metadata": {},
   "outputs": [
    {
     "name": "stdout",
     "output_type": "stream",
     "text": [
      "a=None b=1 c=2\n",
      "1 validation error for Model\n",
      "c\n",
      "  field required (type=value_error.missing)\n"
     ]
    }
   ],
   "source": [
    "from typing import Optional\n",
    "from pydantic import BaseModel, Field, ValidationError\n",
    "\n",
    "\n",
    "class Model(BaseModel):\n",
    "    a: Optional[int]\n",
    "    b: Optional[int] = ...\n",
    "    c: Optional[int] = Field(...)\n",
    "\n",
    "\n",
    "print(Model(b=1, c=2))\n",
    "\n",
    "try:\n",
    "    Model(a=1, b=2)\n",
    "except ValidationError as e:\n",
    "    print(e)"
   ]
  },
  {
   "cell_type": "markdown",
   "id": "3ee4d08d",
   "metadata": {},
   "source": [
    "#### 动态默认值"
   ]
  },
  {
   "cell_type": "code",
   "execution_count": 1,
   "id": "cf180e5c",
   "metadata": {},
   "outputs": [
    {
     "name": "stdout",
     "output_type": "stream",
     "text": [
      "841db694-00c1-48d9-a071-049f229a479a != 4d63cfae-d87c-4f90-8b00-6506b4c2e09a\n",
      "2022-04-13 00:55:02.175128 != 2022-04-13 00:55:02.176129\n"
     ]
    }
   ],
   "source": [
    "from datetime import datetime\n",
    "from uuid import UUID, uuid4\n",
    "from pydantic import BaseModel, Field\n",
    "\n",
    "\n",
    "class Model(BaseModel):\n",
    "    uid: UUID = Field(default_factory=uuid4)\n",
    "    updated: datetime = Field(default_factory=datetime.utcnow)\n",
    "\n",
    "\n",
    "m1 = Model()\n",
    "m2 = Model()\n",
    "print(f'{m1.uid} != {m2.uid}')\n",
    "print(f'{m1.updated} != {m2.updated}')"
   ]
  },
  {
   "cell_type": "markdown",
   "id": "5038a599",
   "metadata": {},
   "source": [
    "#### 私有属性"
   ]
  },
  {
   "cell_type": "code",
   "execution_count": 5,
   "id": "d89706f5",
   "metadata": {},
   "outputs": [
    {
     "name": "stdout",
     "output_type": "stream",
     "text": [
      "2022-04-13 09:02:35.946331\n",
      "42\n"
     ]
    }
   ],
   "source": [
    "from datetime import datetime\n",
    "from random import randint\n",
    "\n",
    "from pydantic import BaseModel, PrivateAttr\n",
    "\n",
    "\n",
    "class TimeAwareModel(BaseModel):\n",
    "    _processed_at: datetime = PrivateAttr(default_factory=datetime.now)\n",
    "    _secret_value: str = PrivateAttr()\n",
    "\n",
    "    def __init__(self, **data):\n",
    "        super().__init__(**data)\n",
    "        self._secret_value = 42\n",
    "\n",
    "\n",
    "m = TimeAwareModel()\n",
    "print(m._processed_at)\n",
    "print(m._secret_value)"
   ]
  },
  {
   "cell_type": "markdown",
   "id": "582f0a15",
   "metadata": {},
   "source": [
    "可见，传入的参数不影响私有属性的值。在内部，私有属性保存在`__slots__`中："
   ]
  },
  {
   "cell_type": "code",
   "execution_count": 8,
   "id": "817a8646",
   "metadata": {},
   "outputs": [
    {
     "data": {
      "text/plain": [
       "42"
      ]
     },
     "execution_count": 8,
     "metadata": {},
     "output_type": "execute_result"
    }
   ],
   "source": [
    "m = TimeAwareModel(_secret_value=3)\n",
    "m._secret_value"
   ]
  },
  {
   "cell_type": "markdown",
   "id": "a279e4d7",
   "metadata": {},
   "source": [
    "可以设置`Config.underscore_attrs_are_private`为`True`，此时任何非`ClassVar`的下划线属性都将被当做实例的私有属性："
   ]
  },
  {
   "cell_type": "code",
   "execution_count": 9,
   "id": "31da4fc8",
   "metadata": {},
   "outputs": [
    {
     "name": "stdout",
     "output_type": "stream",
     "text": [
      "class var value\n",
      "<member '_private_attr' of 'Model' objects>\n",
      "private attr value\n"
     ]
    }
   ],
   "source": [
    "from typing import ClassVar\n",
    "from pydantic import BaseModel\n",
    "\n",
    "\n",
    "class Model(BaseModel):\n",
    "    _class_var: ClassVar[str] = 'class var value'\n",
    "    _private_attr: str = 'private attr value'\n",
    "\n",
    "    class Config:\n",
    "        underscore_attrs_are_private = True\n",
    "\n",
    "\n",
    "print(Model._class_var)\n",
    "print(Model._private_attr)\n",
    "print(Model()._private_attr)"
   ]
  },
  {
   "cell_type": "markdown",
   "id": "a326b673",
   "metadata": {},
   "source": [
    "当使用`ClassVar`声明了为类属性，则不会再初始化为实例属性："
   ]
  },
  {
   "cell_type": "code",
   "execution_count": 13,
   "id": "44e2ba8d",
   "metadata": {},
   "outputs": [
    {
     "data": {
      "text/plain": [
       "'class var value'"
      ]
     },
     "execution_count": 13,
     "metadata": {},
     "output_type": "execute_result"
    }
   ],
   "source": [
    "m = Model(_class_var='instance value')\n",
    "m._class_var"
   ]
  },
  {
   "cell_type": "markdown",
   "id": "5a81a78a",
   "metadata": {},
   "source": [
    "#### parse_obj_as"
   ]
  },
  {
   "cell_type": "markdown",
   "id": "9b6bd7ad",
   "metadata": {},
   "source": [
    "想象一下我们有这样的数据："
   ]
  },
  {
   "cell_type": "code",
   "execution_count": 14,
   "id": "3af8b909",
   "metadata": {},
   "outputs": [],
   "source": [
    "data = [{'id': 1, 'name': 'my item 1'}, {'id': 2, 'name': 'my item 2'}]"
   ]
  },
  {
   "cell_type": "markdown",
   "id": "94f24ffe",
   "metadata": {},
   "source": [
    "如果要解析成模型，可能会想到新建一个列表，然后循环迭代，把data中的每一项转换成模型，添加到新列表中。或者建立一个嵌套的复合模型："
   ]
  },
  {
   "cell_type": "code",
   "execution_count": 22,
   "id": "7fd2ac09",
   "metadata": {},
   "outputs": [
    {
     "data": {
      "text/plain": [
       "Items(items=[Item(id=1, name='my item 1'), Item(id=2, name='my item 2')])"
      ]
     },
     "execution_count": 22,
     "metadata": {},
     "output_type": "execute_result"
    }
   ],
   "source": [
    "from pydantic import BaseModel, parse_obj_as\n",
    "from typing import List\n",
    "\n",
    "class Item(BaseModel):\n",
    "    id: int\n",
    "    name: str\n",
    "\n",
    "\n",
    "class Items(BaseModel):\n",
    "    items: list[Item]\n",
    "        \n",
    "\n",
    "model = Items(items=data)\n",
    "model"
   ]
  },
  {
   "cell_type": "markdown",
   "id": "dcfb0a44",
   "metadata": {},
   "source": [
    "其实不用这么麻烦，用`parse_obj_as`可以直接解析，其第一个参数为类型注释，第二个为值："
   ]
  },
  {
   "cell_type": "code",
   "execution_count": 23,
   "id": "bb5ed03f",
   "metadata": {},
   "outputs": [
    {
     "data": {
      "text/plain": [
       "[Item(id=1, name='my item 1'), Item(id=2, name='my item 2')]"
      ]
     },
     "execution_count": 23,
     "metadata": {},
     "output_type": "execute_result"
    }
   ],
   "source": [
    "parse_obj_as(List[Item], data)"
   ]
  },
  {
   "cell_type": "markdown",
   "id": "82d2aee0",
   "metadata": {},
   "source": [
    "pydantic还包含两个独立函数，`parse_file_as`和`parse_raw_as`，类似`parse_obj_as`，分别解析文件和字符串。"
   ]
  },
  {
   "cell_type": "markdown",
   "id": "87a0e867",
   "metadata": {},
   "source": [
    "## 字段类型"
   ]
  },
  {
   "cell_type": "markdown",
   "id": "cd5dccb9",
   "metadata": {},
   "source": [
    "### 标准库类型"
   ]
  },
  {
   "cell_type": "markdown",
   "id": "b04f0f08",
   "metadata": {},
   "source": [
    "#### Sequence和Iterable"
   ]
  },
  {
   "cell_type": "markdown",
   "id": "20528b6a",
   "metadata": {},
   "source": [
    "Sequence类型会把传入的对象转换成列表保存，所以如果传入的是生成器，会被消耗掉，如果是无限循环的生成器，则不能设置为Sequence类型。此时可以设置为Iterable类型，Iterable不会转换原始对象，它只会检查对象有没有`__iter__`方法。\n",
    "\n",
    "这自然而然会产生一个问题，既然Iterable仅仅只检查对象的`__iter__`方法，那它怎么知道这个容器对象包含的值的类型呢？此时需要手动创建一个验证器，来进行验证："
   ]
  },
  {
   "cell_type": "code",
   "execution_count": 8,
   "id": "694f055f",
   "metadata": {},
   "outputs": [
    {
     "name": "stdout",
     "output_type": "stream",
     "text": [
      "field is: name='infinite' type=Iterable[int] required=True\n",
      "[{'loc': ('infinite', 'first_value'), 'msg': 'value is not a valid integer', 'type': 'type_error.integer'}]\n"
     ]
    }
   ],
   "source": [
    "import itertools\n",
    "from typing import Iterable\n",
    "from pydantic import BaseModel, validator, ValidationError\n",
    "from pydantic.fields import ModelField\n",
    "\n",
    "\n",
    "class Model(BaseModel):\n",
    "    infinite: Iterable[int]\n",
    "\n",
    "    @validator('infinite')\n",
    "    # You don't need to add the \"ModelField\", but it will help your\n",
    "    # editor give you completion and catch errors\n",
    "    # field是值iterable对应的Model中定义的字段对象\n",
    "    def infinite_first_int(cls, iterable, field: ModelField):\n",
    "        first_value = next(iterable)\n",
    "        print(f'field is: {field}')\n",
    "        if field.sub_fields:\n",
    "            # The Iterable had a parameter type, in this case it's int\n",
    "            # We use it to validate the first value\n",
    "            sub_field = field.sub_fields[0]\n",
    "            v, error = sub_field.validate(first_value, {}, loc='first_value')\n",
    "            if error:\n",
    "                raise ValidationError([error], cls)\n",
    "        return itertools.chain([first_value], iterable)\n",
    "    \n",
    "\n",
    "def infinite_strs():\n",
    "    while True:\n",
    "        for letter in 'allthesingleladies':\n",
    "            yield letter\n",
    "\n",
    "\n",
    "try:\n",
    "    Model(infinite=infinite_strs())\n",
    "except ValidationError as e:\n",
    "    print(e.errors())"
   ]
  },
  {
   "cell_type": "markdown",
   "id": "fd0da1cb",
   "metadata": {},
   "source": [
    "#### Enum和Choice"
   ]
  },
  {
   "cell_type": "markdown",
   "id": "81488e13",
   "metadata": {},
   "source": [
    "Enum类型的话，实例化的时候传入的要是枚举的值，不能传入键："
   ]
  },
  {
   "cell_type": "code",
   "execution_count": 30,
   "id": "edc83099",
   "metadata": {},
   "outputs": [
    {
     "name": "stdout",
     "output_type": "stream",
     "text": [
      "fruit=<FruitEnum.pear: 'pear'> tool=<ToolEnum.spanner: 1>\n",
      "fruit=<FruitEnum.banana: 'banana'> tool=<ToolEnum.wrench: 2>\n",
      "1 validation error for CookingModel\n",
      "fruit\n",
      "  value is not a valid enumeration member; permitted: 'pear', 'banana' (type=type_error.enum; enum_values=[<FruitEnum.pear: 'pear'>, <FruitEnum.banana: 'banana'>])\n"
     ]
    }
   ],
   "source": [
    "from enum import Enum, IntEnum\n",
    "\n",
    "from pydantic import BaseModel, ValidationError\n",
    "\n",
    "\n",
    "class FruitEnum(str, Enum):\n",
    "    pear = 'pear'\n",
    "    banana = 'banana'\n",
    "\n",
    "\n",
    "class ToolEnum(IntEnum):\n",
    "    spanner = 1\n",
    "    wrench = 2\n",
    "\n",
    "\n",
    "class CookingModel(BaseModel):\n",
    "    fruit: FruitEnum = FruitEnum.pear\n",
    "    tool: ToolEnum = ToolEnum.spanner\n",
    "\n",
    "\n",
    "print(CookingModel())\n",
    "print(CookingModel(tool=2, fruit='banana'))\n",
    "\n",
    "try:\n",
    "    CookingModel(fruit='other')\n",
    "except ValidationError as e:\n",
    "    print(e)"
   ]
  },
  {
   "cell_type": "markdown",
   "id": "7d33b292",
   "metadata": {},
   "source": [
    "#### Type"
   ]
  },
  {
   "cell_type": "markdown",
   "id": "121be502",
   "metadata": {},
   "source": [
    "Type表示只能是某个类的子类，比如下面`Type[Foo]`，表示`just_subclasses`字段只能是Foo类及其子类。如果只是`Type`，表示可以是任意类，注意不能是实例："
   ]
  },
  {
   "cell_type": "code",
   "execution_count": 24,
   "id": "867c6bbd",
   "metadata": {},
   "outputs": [
    {
     "name": "stdout",
     "output_type": "stream",
     "text": [
      "1 validation error for SimpleModel\n",
      "just_subclasses\n",
      "  subclass of Foo expected (type=type_error.subclass; expected_class=Foo)\n"
     ]
    }
   ],
   "source": [
    "from typing import Type\n",
    "\n",
    "from pydantic import BaseModel\n",
    "from pydantic import ValidationError\n",
    "\n",
    "\n",
    "class Foo:\n",
    "    pass\n",
    "\n",
    "\n",
    "class Bar(Foo):\n",
    "    pass\n",
    "\n",
    "\n",
    "class Other:\n",
    "    pass\n",
    "\n",
    "\n",
    "class SimpleModel(BaseModel):\n",
    "    just_subclasses: Type[Foo]\n",
    "\n",
    "\n",
    "SimpleModel(just_subclasses=Foo)\n",
    "SimpleModel(just_subclasses=Bar)\n",
    "try:\n",
    "    SimpleModel(just_subclasses=Other)\n",
    "except ValidationError as e:\n",
    "    print(e)"
   ]
  },
  {
   "cell_type": "markdown",
   "id": "66af67bd",
   "metadata": {},
   "source": [
    "#### Literal类型"
   ]
  },
  {
   "cell_type": "markdown",
   "id": "14bf8b45",
   "metadata": {},
   "source": [
    "Literal是3.8引入的typing新类型，有点类似Enum，不过是个轻量级的多选一，比如下面的模型，表示`flavor`只能是`apple`或者`pumpkun`："
   ]
  },
  {
   "cell_type": "code",
   "execution_count": 33,
   "id": "eb42b1ca",
   "metadata": {},
   "outputs": [
    {
     "name": "stdout",
     "output_type": "stream",
     "text": [
      "1 validation error for Pie\n",
      "flavor\n",
      "  unexpected value; permitted: 'apple', 'pumpkin' (type=value_error.const; given=cherry; permitted=('apple', 'pumpkin'))\n"
     ]
    }
   ],
   "source": [
    "from typing import Literal\n",
    "\n",
    "from pydantic import BaseModel, ValidationError\n",
    "\n",
    "\n",
    "class Pie(BaseModel):\n",
    "    flavor: Literal['apple', 'pumpkin']\n",
    "\n",
    "\n",
    "Pie(flavor='apple')\n",
    "Pie(flavor='pumpkin')\n",
    "try:\n",
    "    Pie(flavor='cherry')\n",
    "except ValidationError as e:\n",
    "    print(str(e))"
   ]
  },
  {
   "cell_type": "markdown",
   "id": "dca1448b",
   "metadata": {},
   "source": [
    "#### 约束类型"
   ]
  },
  {
   "cell_type": "markdown",
   "id": "d1742738",
   "metadata": {},
   "source": [
    "pydantic提供`con*`类型函数来约束许多常见类型的值，相当于是为常见类型提供了验证，注意`Field`类型，相当于一个通用的验证器："
   ]
  },
  {
   "cell_type": "code",
   "execution_count": 31,
   "id": "dc956902",
   "metadata": {},
   "outputs": [],
   "source": [
    "from decimal import Decimal\n",
    "\n",
    "from pydantic import (\n",
    "    BaseModel,\n",
    "    NegativeFloat,\n",
    "    NegativeInt,\n",
    "    PositiveFloat,\n",
    "    PositiveInt,\n",
    "    conbytes,\n",
    "    condecimal,\n",
    "    confloat,\n",
    "    conint,\n",
    "    conlist,\n",
    "    conset,\n",
    "    constr,\n",
    "    Field,\n",
    ")\n",
    "\n",
    "\n",
    "class Model(BaseModel):\n",
    "    short_bytes: conbytes(min_length=2, max_length=10)\n",
    "    strip_bytes: conbytes(strip_whitespace=True)\n",
    "\n",
    "    short_str: constr(min_length=2, max_length=10)\n",
    "    regex_str: constr(regex=r'^apple (pie|tart|sandwich)$')\n",
    "    strip_str: constr(strip_whitespace=True)\n",
    "\n",
    "    big_int: conint(gt=1000, lt=1024)\n",
    "    mod_int: conint(multiple_of=5)  # 5的倍数\n",
    "    pos_int: PositiveInt\n",
    "    neg_int: NegativeInt\n",
    "\n",
    "    big_float: confloat(gt=1000, lt=1024)\n",
    "    unit_interval: confloat(ge=0, le=1)\n",
    "    mod_float: confloat(multiple_of=0.5)\n",
    "    pos_float: PositiveFloat\n",
    "    neg_float: NegativeFloat\n",
    "\n",
    "    short_list: conlist(int, min_items=1, max_items=4)\n",
    "    short_set: conset(int, min_items=1, max_items=4)\n",
    "\n",
    "    decimal_positive: condecimal(gt=0)\n",
    "    decimal_negative: condecimal(lt=0)\n",
    "    decimal_max_digits_and_places: condecimal(max_digits=2, decimal_places=2)\n",
    "    mod_decimal: condecimal(multiple_of=Decimal('0.25'))\n",
    "\n",
    "    bigger_int: int = Field(..., gt=10000)"
   ]
  },
  {
   "cell_type": "markdown",
   "id": "b28a7d04",
   "metadata": {},
   "source": [
    "`conint`类型可以传入一个`strict=True`的参数，表示不进行类型的转换，相当于直接使用`StrcitInt`类型，默认情况下，字段类型为float，传入int值会转换成float，如果设置了`strict=True`，则会报错。"
   ]
  },
  {
   "cell_type": "markdown",
   "id": "431de7ef",
   "metadata": {},
   "source": [
    "#### ByteSize"
   ]
  },
  {
   "cell_type": "markdown",
   "id": "18f68c39",
   "metadata": {},
   "source": [
    "ByteSize挺有意思，专门用来表示磁盘容量大小，并且有个`human_readable`方法，可以在不同的单位之间进行转换："
   ]
  },
  {
   "cell_type": "code",
   "execution_count": 38,
   "id": "408b01d4",
   "metadata": {},
   "outputs": [
    {
     "data": {
      "text/plain": [
       "50000000000"
      ]
     },
     "execution_count": 38,
     "metadata": {},
     "output_type": "execute_result"
    }
   ],
   "source": [
    "from pydantic import BaseModel, ByteSize\n",
    "\n",
    "\n",
    "class DiskSize(BaseModel):\n",
    "    size: ByteSize\n",
    "\n",
    "\n",
    "disk_a_size = DiskSize(size='50GB')\n",
    "disk_a_size.size  # 单位是字节"
   ]
  },
  {
   "cell_type": "markdown",
   "id": "60b40503",
   "metadata": {},
   "source": [
    "默认是GiB，和GB的差异可以参考这篇文章：\n",
    "- [GB 和 GiB 的区别](https://www.cnblogs.com/miracle-luna/p/11275414.html)\n",
    "\n",
    "简单来说，以前我们说的1024，实际上是iB的进制，1000是B的进制。"
   ]
  },
  {
   "cell_type": "code",
   "execution_count": 42,
   "id": "d0161330",
   "metadata": {},
   "outputs": [
    {
     "data": {
      "text/plain": [
       "'46.6GiB'"
      ]
     },
     "execution_count": 42,
     "metadata": {},
     "output_type": "execute_result"
    }
   ],
   "source": [
    "disk_a_size.size.human_readable()"
   ]
  },
  {
   "cell_type": "code",
   "execution_count": 44,
   "id": "a10ec665",
   "metadata": {},
   "outputs": [
    {
     "data": {
      "text/plain": [
       "0.05"
      ]
     },
     "execution_count": 44,
     "metadata": {},
     "output_type": "execute_result"
    }
   ],
   "source": [
    "disk_a_size.size.to('TB')"
   ]
  },
  {
   "cell_type": "markdown",
   "id": "e7d2db12",
   "metadata": {},
   "source": [
    "#### 自定义类型"
   ]
  },
  {
   "cell_type": "markdown",
   "id": "186170a0",
   "metadata": {},
   "source": [
    "##### 带有 `__get_validators__ `的类"
   ]
  },
  {
   "cell_type": "markdown",
   "id": "f55a6834",
   "metadata": {},
   "source": [
    "我们甚至还可以自定义数据类型，首先定义一个具有`__get_validators__`类方法的类，通过它调用相应的验证器："
   ]
  },
  {
   "cell_type": "code",
   "execution_count": 19,
   "id": "231e1060",
   "metadata": {},
   "outputs": [
    {
     "name": "stdout",
     "output_type": "stream",
     "text": [
      "post_code=PostCode('SW8 5EL')\n",
      "SW8 5EL\n",
      "{\n",
      "    \"title\": \"Model\",\n",
      "    \"type\": \"object\",\n",
      "    \"properties\": {\n",
      "        \"post_code\": {\n",
      "            \"title\": \"Post Code\",\n",
      "            \"pattern\": \"^[A-Z]{1,2}[0-9][A-Z0-9]? ?[0-9][A-Z]{2}$\",\n",
      "            \"examples\": [\n",
      "                \"SP11 9DG\",\n",
      "                \"w1j7bu\"\n",
      "            ],\n",
      "            \"type\": \"string\"\n",
      "        }\n",
      "    },\n",
      "    \"required\": [\n",
      "        \"post_code\"\n",
      "    ]\n",
      "}\n"
     ]
    }
   ],
   "source": [
    "import re\n",
    "from pydantic import BaseModel\n",
    "from pprint import pprint\n",
    "\n",
    "# https://en.wikipedia.org/wiki/Postcodes_in_the_United_Kingdom#Validation\n",
    "post_code_regex = re.compile(\n",
    "    r'(?:'\n",
    "    r'([A-Z]{1,2}[0-9][A-Z0-9]?|ASCN|STHL|TDCU|BBND|[BFS]IQQ|PCRN|TKCA) ?'\n",
    "    r'([0-9][A-Z]{2})|'\n",
    "    r'(BFPO) ?([0-9]{1,4})|'\n",
    "    r'(KY[0-9]|MSR|VG|AI)[ -]?[0-9]{4}|'\n",
    "    r'([A-Z]{2}) ?([0-9]{2})|'\n",
    "    r'(GE) ?(CX)|'\n",
    "    r'(GIR) ?(0A{2})|'\n",
    "    r'(SAN) ?(TA1)'\n",
    "    r')'\n",
    ")\n",
    "\n",
    "\n",
    "class PostCode(str):\n",
    "    \"\"\"\n",
    "    Partial UK postcode validation. Note: this is just an example, and is not\n",
    "    intended for use in production; in particular this does NOT guarantee\n",
    "    a postcode exists, just that it has a valid format.\n",
    "    \"\"\"\n",
    "\n",
    "    @classmethod\n",
    "    def __get_validators__(cls):\n",
    "        # one or more validators may be yielded which will be called in the\n",
    "        # order to validate the input, each validator will receive as an input\n",
    "        # the value returned from the previous validator\n",
    "        yield cls.validate\n",
    "\n",
    "    @classmethod\n",
    "    def __modify_schema__(cls, field_schema):\n",
    "        # __modify_schema__ should mutate the dict it receives in place,\n",
    "        # the returned value will be ignored\n",
    "        field_schema.update(\n",
    "            # simplified regex here for brevity, see the wikipedia link above\n",
    "            pattern='^[A-Z]{1,2}[0-9][A-Z0-9]? ?[0-9][A-Z]{2}$',\n",
    "            # some example postcodes\n",
    "            examples=['SP11 9DG', 'w1j7bu'],\n",
    "        )\n",
    "\n",
    "    @classmethod\n",
    "    def validate(cls, v):\n",
    "        if not isinstance(v, str):\n",
    "            raise TypeError('string required')\n",
    "        m = post_code_regex.fullmatch(v.upper())\n",
    "        if not m:\n",
    "            raise ValueError('invalid postcode format')\n",
    "        # you could also return a string here which would mean model.post_code\n",
    "        # would be a string, pydantic won't care but you could end up with some\n",
    "        # confusion since the value's type won't match the type annotation\n",
    "        # exactly\n",
    "        return cls(f'{m.group(1)} {m.group(2)}')  # 这里实际上调用的是str的构造函数\n",
    "\n",
    "    def __repr__(self):\n",
    "        return f'PostCode({super().__repr__()})'\n",
    "\n",
    "\n",
    "class Model(BaseModel):\n",
    "    post_code: PostCode\n",
    "\n",
    "\n",
    "model = Model(post_code='sw8 5el')\n",
    "print(model)\n",
    "print(model.post_code)\n",
    "print(Model.schema_json(indent=4))"
   ]
  },
  {
   "cell_type": "markdown",
   "id": "4a9dcf02",
   "metadata": {},
   "source": [
    "##### 允许任意类型"
   ]
  },
  {
   "cell_type": "markdown",
   "id": "fd97b331",
   "metadata": {},
   "source": [
    "甚至普通的类也可以，由于此时没有定义验证器，因此只会判断是不是该类的实例。普通类的话，一定要在Config中设置`arbitrary_types_allowed = True`："
   ]
  },
  {
   "cell_type": "code",
   "execution_count": 22,
   "id": "adef8028",
   "metadata": {},
   "outputs": [],
   "source": [
    "from pydantic import BaseModel, ValidationError\n",
    "\n",
    "\n",
    "# This is not a pydantic model, it's an arbitrary class\n",
    "class Pet:\n",
    "    def __init__(self, name: str):\n",
    "        self.name = name\n",
    "\n",
    "\n",
    "class Model(BaseModel):\n",
    "    pet: Pet\n",
    "    owner: str\n",
    "\n",
    "    class Config:\n",
    "        arbitrary_types_allowed = True"
   ]
  },
  {
   "cell_type": "code",
   "execution_count": 25,
   "id": "bbc95bb4",
   "metadata": {},
   "outputs": [
    {
     "name": "stdout",
     "output_type": "stream",
     "text": [
      "pet=<__main__.Pet object at 0x00000200228034F0> owner='Harry'\n",
      "<__main__.Pet object at 0x00000200228034F0>\n",
      "Hedwig\n",
      "<class '__main__.Pet'>\n"
     ]
    }
   ],
   "source": [
    "pet = Pet(name='Hedwig')\n",
    "model = Model(owner='Harry', pet=pet)\n",
    "print(model)\n",
    "print(model.pet)\n",
    "print(model.pet.name)\n",
    "print(type(model.pet))"
   ]
  },
  {
   "cell_type": "code",
   "execution_count": 26,
   "id": "3d28a842",
   "metadata": {},
   "outputs": [
    {
     "name": "stdout",
     "output_type": "stream",
     "text": [
      "1 validation error for Model\n",
      "pet\n",
      "  instance of Pet expected (type=type_error.arbitrary_type; expected_arbitrary_type=Pet)\n"
     ]
    }
   ],
   "source": [
    "try:\n",
    "    # If the value is not an instance of the type, it's invalid\n",
    "    Model(owner='Harry', pet='Hedwig')\n",
    "except ValidationError as e:\n",
    "    print(e)"
   ]
  },
  {
   "cell_type": "markdown",
   "id": "def298fa",
   "metadata": {},
   "source": [
    "##### 泛型类作为类型"
   ]
  },
  {
   "cell_type": "markdown",
   "id": "29890ebe",
   "metadata": {},
   "source": [
    "待补充"
   ]
  },
  {
   "cell_type": "markdown",
   "id": "04a788a1",
   "metadata": {},
   "source": [
    "### Field字段"
   ]
  },
  {
   "cell_type": "markdown",
   "id": "96008b92",
   "metadata": {},
   "source": [
    "前面已经见识过Field字段，这里详细加以阐述，Field是一个函数，它可以为字段提供一些额外的信息或者约束，它接受的参数如下：\n",
    "- default：该参数为位置参数。表示字段的默认值。因为 Field 替换字段的默认值，所以可以使用第一个参数设置默认值。使用省略号表示字段是必需的。★★★★★\n",
    "- default_factory：一个零参数的可调用对象，当需要该字段的默认值时将调用它。除了其他用途外，它还可用于设置动态默认值。禁止同时设置default和default_factory。★★★★★\n",
    "- alias：字段的公开名称。★★★★\n",
    "- title：如果忽略，则使用 filed_name.title()。\n",
    "- description：如果忽略并且注解是子模型，将会使用子模型的文档字符串。\n",
    "- const：如果该参数出现，则必须与字段的默认值相同。\n",
    "- gt：对于数值值 (int，float，Decimal)，将向 JSON 模式添加一个 “大于” 验证和一个 exclusiveMinimum 注解。\n",
    "- ge：对于数值值 ，将向 JSON 模式添加一个 “大于等于” 验证和一个 minimum 注解。\n",
    "- lt：对于数值值 ，将向 JSON 模式添加一个\"小于\" 验证和一个 exclusiveMaximum 注解。\n",
    "- le：对于数值值 ，将向 JSON 模式添加一个 “小于等于” 验证和一个 maximum 注解。\n",
    "- multiple_of：对于数值值，将向 JSON 模式添加一个 “倍数” 验证和一个 multipleOf 注解。\n",
    "- min_items：对于列表值，将向 JSON 模式添加相应的验证和 minItems 注解。\n",
    "- max_items：对于列表值，将向 JSON 模式添加相应的验证和 maxItems 注解。\n",
    "- min_length：对于字符串值，将向 JSON 模式添加相应的验证和 minLength 注解。\n",
    "- max_length：对于字符串值，将向 JSON 模式添加相应的验证和 maxLength 注解。\n",
    "- regex：对于字符串值，将向 JSON 模式添加一个从传递的字符串生成的正则表达式验证和一个 pattern 注解。\n",
    "\n",
    "可见，Field也可以对字段进行验证，总结一下，目前我们已经有三种方式可以对字段进行验证：\n",
    "1. 内置约束类型\n",
    "2. Field字段\n",
    "3. 自定义验证器"
   ]
  },
  {
   "cell_type": "markdown",
   "id": "9e6a03da",
   "metadata": {},
   "source": [
    "#### 和约束类型关系"
   ]
  },
  {
   "cell_type": "markdown",
   "id": "f312095b",
   "metadata": {},
   "source": [
    "Field字段的约束不能和约束类型一起使用，因为约束类型的优先级高一些，当定义了约束类型，Field字段定义的约束就不会再生效了。此时会抛出相应错误："
   ]
  },
  {
   "cell_type": "code",
   "execution_count": 45,
   "id": "4966fb0f",
   "metadata": {},
   "outputs": [
    {
     "name": "stdout",
     "output_type": "stream",
     "text": [
      "On field \"foo\" the following field constraints are set but not enforced: lt. \n",
      "For more details see https://pydantic-docs.helpmanual.io/usage/schema/#unenforced-field-constraints\n"
     ]
    }
   ],
   "source": [
    "try:\n",
    "    class Model(BaseModel):\n",
    "        foo: PositiveInt = Field(..., lt=10)\n",
    "except ValueError as e:\n",
    "    print(e)"
   ]
  },
  {
   "cell_type": "markdown",
   "id": "2b9eed69",
   "metadata": {},
   "source": [
    "但是此时Field字段可以接收类似`exclusiveMaximum`关键字参数，此时会在schema中改约束，但实际上并不生效："
   ]
  },
  {
   "cell_type": "code",
   "execution_count": 46,
   "id": "fb640f99",
   "metadata": {},
   "outputs": [
    {
     "name": "stdout",
     "output_type": "stream",
     "text": [
      "{'properties': {'foo': {'exclusiveMaximum': 10,\n",
      "                        'exclusiveMinimum': 0,\n",
      "                        'title': 'Foo',\n",
      "                        'type': 'integer'}},\n",
      " 'required': ['foo'],\n",
      " 'title': 'Model',\n",
      " 'type': 'object'}\n"
     ]
    }
   ],
   "source": [
    "class Model(BaseModel):\n",
    "    foo: PositiveInt = Field(..., exclusiveMaximum=10)\n",
    "\n",
    "pprint(Model.schema())"
   ]
  },
  {
   "cell_type": "code",
   "execution_count": 48,
   "id": "0f42f7ea",
   "metadata": {},
   "outputs": [
    {
     "data": {
      "text/plain": [
       "Model(foo=42)"
      ]
     },
     "execution_count": 48,
     "metadata": {},
     "output_type": "execute_result"
    }
   ],
   "source": [
    "Model(foo=42)  # 小于约束并未生效"
   ]
  },
  {
   "cell_type": "markdown",
   "id": "c06a3bfc",
   "metadata": {},
   "source": [
    "## 验证器"
   ]
  },
  {
   "cell_type": "markdown",
   "id": "107092be",
   "metadata": {},
   "source": [
    "用`validator`装饰器可以自定义对值的验证，以下几种情况需要自定义验证器：\n",
    "1. 复杂的验证逻辑\n",
    "2. 验证时需要用到其它的字段\n",
    "3. 动态的默认值"
   ]
  },
  {
   "cell_type": "code",
   "execution_count": 45,
   "id": "44b978c8",
   "metadata": {},
   "outputs": [
    {
     "name": "stdout",
     "output_type": "stream",
     "text": [
      "name='Samuel Colvin' username='scolvin' password1='zxcvbn' password2='zxcvbn'\n",
      "2 validation errors for UserModel\n",
      "name\n",
      "  must contain a space (type=value_error)\n",
      "password2\n",
      "  passwords do not match (type=value_error)\n"
     ]
    }
   ],
   "source": [
    "from pydantic import BaseModel, ValidationError, validator\n",
    "\n",
    "\n",
    "class UserModel(BaseModel):\n",
    "    name: str\n",
    "    username: str\n",
    "    password1: str\n",
    "    password2: str\n",
    "\n",
    "    @validator('name')\n",
    "    def name_must_contain_space(cls, v):\n",
    "        if ' ' not in v:\n",
    "            raise ValueError('must contain a space')\n",
    "        return v.title()\n",
    "\n",
    "    @validator('password2')\n",
    "    def passwords_match(cls, v, values, **kwargs):\n",
    "        if 'password1' in values and v != values['password1']:\n",
    "            raise ValueError('passwords do not match')\n",
    "        return v\n",
    "\n",
    "    @validator('username')\n",
    "    def username_alphanumeric(cls, v):\n",
    "        assert v.isalnum(), 'must be alphanumeric'\n",
    "        return v\n",
    "\n",
    "\n",
    "user = UserModel(\n",
    "    name='samuel colvin',\n",
    "    username='scolvin',\n",
    "    password1='zxcvbn',\n",
    "    password2='zxcvbn',\n",
    ")\n",
    "print(user)\n",
    "\n",
    "try:\n",
    "    UserModel(\n",
    "        name='samuel',\n",
    "        username='scolvin',\n",
    "        password1='zxcvbn',\n",
    "        password2='zxcvbn2',\n",
    "    )\n",
    "except ValidationError as e:\n",
    "    print(e)"
   ]
  },
  {
   "cell_type": "markdown",
   "id": "8e87a2b3",
   "metadata": {},
   "source": [
    "被装饰的函数，除了cls和v，还有几个参数：\n",
    "- values：已验证的其它字段的字段名到字段值的映射。\n",
    "- config：模型的配置\n",
    "- field：要验证的字段，注意，是字段不是值。v是值，field是字段对象，可以获取字段的类型注释等属性。\n",
    "\n",
    "验证器只能抛出`ValueError`、`TypeError`或`AssertionError`三种异常。"
   ]
  },
  {
   "cell_type": "markdown",
   "id": "91ac8136",
   "metadata": {},
   "source": [
    "### pre和each-item验证器"
   ]
  },
  {
   "cell_type": "markdown",
   "id": "13c9ccdb",
   "metadata": {},
   "source": [
    "验证器可以添加很多参数：\n",
    "- pre: 保证这个验证器在其它验证器之前运行\n",
    "- each_item: 被装饰的函数里的v是容器字段里面的每一个元素\n",
    "\n",
    "另外，还有两点要注意：\n",
    "- `*`表示应用于所有字段\n",
    "- 验证器可以传递多个字段名称，作用于多个字段"
   ]
  },
  {
   "cell_type": "code",
   "execution_count": 7,
   "id": "5d41c73b",
   "metadata": {},
   "outputs": [
    {
     "name": "stdout",
     "output_type": "stream",
     "text": [
      "square_numbers=[1, 4, 9] cube_numbers=[]\n",
      "square_numbers=[1, 4, 16] cube_numbers=[]\n",
      "square_numbers=[16] cube_numbers=[8, 27]\n",
      "1 validation error for DemoModel\n",
      "square_numbers -> 2\n",
      "  2 is not a square number (type=assertion_error)\n",
      "1 validation error for DemoModel\n",
      "cube_numbers\n",
      "  sum of numbers greater than 42 (type=value_error)\n"
     ]
    }
   ],
   "source": [
    "from typing import List\n",
    "from pydantic import BaseModel, ValidationError, validator\n",
    "\n",
    "\n",
    "class DemoModel(BaseModel):\n",
    "    square_numbers: List[int] = []\n",
    "    cube_numbers: List[int] = []\n",
    "\n",
    "    @validator('*', pre=True)\n",
    "    def split_str(cls, v):\n",
    "        if isinstance(v, str):\n",
    "            return v.split('|')\n",
    "        return v\n",
    "\n",
    "    @validator('cube_numbers', 'square_numbers')\n",
    "    def check_sum(cls, v):\n",
    "        if sum(v) > 42:\n",
    "            raise ValueError('sum of numbers greater than 42')\n",
    "        return v\n",
    "\n",
    "    @validator('square_numbers', each_item=True)\n",
    "    def check_squares(cls, v):\n",
    "        assert v ** 0.5 % 1 == 0, f'{v} is not a square number'\n",
    "        return v\n",
    "\n",
    "    @validator('cube_numbers', each_item=True)\n",
    "    def check_cubes(cls, v):\n",
    "        # 64 ** (1 / 3) == 3.9999999999999996 (!)\n",
    "        # this is not a good way of checking cubes\n",
    "        assert v ** (1 / 3) % 1 == 0, f'{v} is not a cubed number'\n",
    "        return v\n",
    "\n",
    "\n",
    "print(DemoModel(square_numbers=[1, 4, 9]))\n",
    "print(DemoModel(square_numbers='1|4|16'))\n",
    "print(DemoModel(square_numbers=[16], cube_numbers=[8, 27]))\n",
    "\n",
    "try:\n",
    "    DemoModel(square_numbers=[1, 4, 2])\n",
    "except ValidationError as e:\n",
    "    print(e)\n",
    "\n",
    "try:\n",
    "    DemoModel(cube_numbers=[27, 27])\n",
    "except ValidationError as e:\n",
    "    print(e)"
   ]
  },
  {
   "cell_type": "markdown",
   "id": "d243e51c",
   "metadata": {},
   "source": [
    "注意，如果包含`each_item`验证器验证的字段不能是父类的字段，此时只能使用普通验证器，`v`是原字段，手动的进行拆分："
   ]
  },
  {
   "cell_type": "code",
   "execution_count": 14,
   "id": "1bdd8f39",
   "metadata": {},
   "outputs": [
    {
     "name": "stdout",
     "output_type": "stream",
     "text": [
      "No ValidationError caught.\n",
      "\n",
      "1 validation error for ChildModel2\n",
      "names\n",
      "  Empty strings are not allowed. (type=assertion_error)\n"
     ]
    }
   ],
   "source": [
    "from typing import List\n",
    "from pydantic import BaseModel, ValidationError, validator\n",
    "\n",
    "\n",
    "class ParentModel(BaseModel):\n",
    "    names: List[str]\n",
    "\n",
    "\n",
    "# 这种情况验证器根本不会运行\n",
    "class ChildModel(ParentModel):\n",
    "    @validator('names', each_item=True)\n",
    "    def check_names_not_empty(cls, v):\n",
    "        assert v != '', 'Empty strings are not allowed.'\n",
    "        return v\n",
    "\n",
    "    \n",
    "try:\n",
    "    child = ChildModel(names=['Alice', 'Bob', 'Eve', ''])\n",
    "except ValidationError as e:\n",
    "    print(e)\n",
    "else:\n",
    "    print('No ValidationError caught.')\n",
    "\n",
    "\n",
    "class ChildModel2(ParentModel):\n",
    "    @validator('names')\n",
    "    def check_names_not_empty(cls, v):\n",
    "        for name in v:\n",
    "            assert name != '', 'Empty strings are not allowed.'\n",
    "        return v\n",
    "\n",
    "print()\n",
    "\n",
    "try:\n",
    "    child = ChildModel2(names=['Alice', 'Bob', 'Eve', ''])\n",
    "except ValidationError as e:\n",
    "    print(e)"
   ]
  },
  {
   "cell_type": "markdown",
   "id": "767f7bb4",
   "metadata": {},
   "source": [
    "### always验证"
   ]
  },
  {
   "cell_type": "markdown",
   "id": "5a91a921",
   "metadata": {},
   "source": [
    "默认情况下，只有传入了参数才会进行验证，默认值是不验证的，即不会调用验证器："
   ]
  },
  {
   "cell_type": "code",
   "execution_count": 1,
   "id": "ee3d08db",
   "metadata": {},
   "outputs": [
    {
     "name": "stdout",
     "output_type": "stream",
     "text": [
      "name='telecomshy'\n"
     ]
    }
   ],
   "source": [
    "from datetime import datetime\n",
    "from pydantic import BaseModel, validator\n",
    "\n",
    "\n",
    "class DemoModel(BaseModel):\n",
    "    name: str = 'telecomshy'\n",
    "\n",
    "    @validator('name')\n",
    "    def set_ts_now(cls, v):\n",
    "        print(\"name's validator is running\")\n",
    "        if v != 'shy':\n",
    "            raise ValueError('name must be shy')\n",
    "        return v\n",
    "\n",
    "\n",
    "print(DemoModel())"
   ]
  },
  {
   "cell_type": "markdown",
   "id": "224235d9",
   "metadata": {},
   "source": [
    "如果添加了always，则总是会执行验证器，这可以用在一些需要动态默认值的场合："
   ]
  },
  {
   "cell_type": "code",
   "execution_count": 36,
   "id": "cd07c3c3",
   "metadata": {},
   "outputs": [
    {
     "name": "stdout",
     "output_type": "stream",
     "text": [
      "ts=datetime.datetime(2022, 4, 19, 11, 18, 14, 933904)\n",
      "ts=datetime.datetime(2017, 11, 8, 14, 0)\n"
     ]
    }
   ],
   "source": [
    "from datetime import datetime\n",
    "from pydantic import BaseModel, validator\n",
    "\n",
    "\n",
    "class DemoModel(BaseModel):\n",
    "    ts: datetime = None\n",
    "\n",
    "    @validator('ts', pre=True, always=True)\n",
    "    def set_ts_now(cls, v):\n",
    "        return v or datetime.now()\n",
    "\n",
    "\n",
    "print(DemoModel())\n",
    "print(DemoModel(ts='2017-11-08 14:00'))"
   ]
  },
  {
   "cell_type": "markdown",
   "id": "20125d21",
   "metadata": {},
   "source": [
    "### 复用验证器"
   ]
  },
  {
   "cell_type": "markdown",
   "id": "3cc250ab",
   "metadata": {},
   "source": [
    "`allow_reuse`参数可以设定复用验证器："
   ]
  },
  {
   "cell_type": "code",
   "execution_count": 37,
   "id": "08c92204",
   "metadata": {},
   "outputs": [],
   "source": [
    "from pydantic import BaseModel, validator\n",
    "\n",
    "\n",
    "def normalize(name: str) -> str:\n",
    "    return ' '.join((word.capitalize()) for word in name.split(' '))\n",
    "\n",
    "\n",
    "class Producer(BaseModel):\n",
    "    name: str\n",
    "\n",
    "    _normalize_name = validator('name', allow_reuse=True)(normalize)\n",
    "\n",
    "\n",
    "class Consumer(BaseModel):\n",
    "    name: str\n",
    "\n",
    "    _normalize_name = validator('name', allow_reuse=True)(normalize)\n",
    "\n",
    "\n",
    "jane_doe = Producer(name='JaNe DOE')\n",
    "john_doe = Consumer(name='joHN dOe')\n",
    "assert jane_doe.name == 'Jane Doe'\n",
    "assert john_doe.name == 'John Doe'"
   ]
  },
  {
   "cell_type": "markdown",
   "id": "e7f305bc",
   "metadata": {},
   "source": [
    "也可以这样写，更简洁一点："
   ]
  },
  {
   "cell_type": "code",
   "execution_count": 38,
   "id": "715ec110",
   "metadata": {},
   "outputs": [],
   "source": [
    "from pydantic import validator, BaseModel\n",
    "\n",
    "\n",
    "@validator('name', allow_reuse=True)\n",
    "def normalize(name: str) -> str:\n",
    "    return ' '.join((word.capitalize()) for word in name.split(' '))\n",
    "\n",
    "\n",
    "class Producer(BaseModel):\n",
    "    name: str\n",
    "\n",
    "    _normalize_name = normalize\n",
    "\n",
    "\n",
    "class Consumer(BaseModel):\n",
    "    name: str\n",
    "\n",
    "    _normalize_name = normalize\n",
    "\n",
    "\n",
    "jane_doe = Producer(name='JaNe DOE')\n",
    "john_doe = Consumer(name='joHN dOe')\n",
    "assert jane_doe.name == 'Jane Doe'\n",
    "assert john_doe.name == 'John Doe'"
   ]
  },
  {
   "cell_type": "markdown",
   "id": "731c34ca",
   "metadata": {},
   "source": [
    "### 根验证器"
   ]
  },
  {
   "cell_type": "markdown",
   "id": "04323c25",
   "metadata": {},
   "source": [
    "除了单独的字段，还可以定义`root_validator`根验证器，比如多个字段的之间的关系，比较适合使用根验证器："
   ]
  },
  {
   "cell_type": "code",
   "execution_count": 43,
   "id": "a83f3855",
   "metadata": {},
   "outputs": [
    {
     "name": "stdout",
     "output_type": "stream",
     "text": [
      "{'username': 'scolvin', 'password1': 'zxcvbn', 'password2': 'zxcvbn'}\n",
      "username='scolvin' password1='zxcvbn' password2='zxcvbn'\n"
     ]
    }
   ],
   "source": [
    "from pydantic import BaseModel, ValidationError, root_validator\n",
    "\n",
    "\n",
    "class UserModel(BaseModel):\n",
    "    username: str\n",
    "    password1: str\n",
    "    password2: str\n",
    "\n",
    "    @root_validator(pre=True)\n",
    "    def check_card_number_omitted(cls, values):\n",
    "        print(values)\n",
    "        assert 'card_number' not in values, 'card_number should not be included'\n",
    "        return values\n",
    "\n",
    "    @root_validator\n",
    "    def check_passwords_match(cls, values):\n",
    "        pw1, pw2 = values.get('password1'), values.get('password2')\n",
    "        if pw1 is not None and pw2 is not None and pw1 != pw2:\n",
    "            raise ValueError('passwords do not match')\n",
    "        return values\n",
    "\n",
    "\n",
    "print(UserModel(username='scolvin', password1='zxcvbn', password2='zxcvbn'))"
   ]
  },
  {
   "cell_type": "code",
   "execution_count": 40,
   "id": "5408087f",
   "metadata": {},
   "outputs": [
    {
     "name": "stdout",
     "output_type": "stream",
     "text": [
      "1 validation error for UserModel\n",
      "__root__\n",
      "  passwords do not match (type=value_error)\n"
     ]
    }
   ],
   "source": [
    "try:\n",
    "    UserModel(username='scolvin', password1='zxcvbn', password2='zxcvbn2')\n",
    "except ValidationError as e:\n",
    "    print(e)"
   ]
  },
  {
   "cell_type": "code",
   "execution_count": 44,
   "id": "a35dffe3",
   "metadata": {},
   "outputs": [
    {
     "name": "stdout",
     "output_type": "stream",
     "text": [
      "{'username': 'scolvin', 'password1': 'zxcvbn', 'password2': 'zxcvbn', 'card_number': '1234'}\n",
      "1 validation error for UserModel\n",
      "__root__\n",
      "  card_number should not be included (type=assertion_error)\n"
     ]
    }
   ],
   "source": [
    "try:\n",
    "    UserModel(\n",
    "        username='scolvin',\n",
    "        password1='zxcvbn',\n",
    "        password2='zxcvbn',\n",
    "        card_number='1234',\n",
    "    )\n",
    "except ValidationError as e:\n",
    "    print(e)"
   ]
  },
  {
   "cell_type": "markdown",
   "id": "b556b74c",
   "metadata": {},
   "source": [
    "其中values是一个包含字段名和字段值的字典。根验证器的`pre=True`表示在所有字段验证之前运行，默认是`pre=False`。\n",
    "\n",
    "如果`pre=True`时根验证器引发错误，则不会进行字段验证。否则即使之前的验证器失败，默认情况下也会调用根验证器，可以通过为验证器设置 `skip_on_failure=True`关键字参数来改变这种行为。"
   ]
  },
  {
   "cell_type": "markdown",
   "id": "bc9f27d9",
   "metadata": {},
   "source": [
    "### 字段检查"
   ]
  },
  {
   "cell_type": "markdown",
   "id": "613fd2ba",
   "metadata": {},
   "source": [
    "默认情况下，当定义了一个验证器，创建类的时候，会检查验证器相关的字段是否存在。但是有时候，我们继承了一个模型，要验证继承模型的字段，则可以设置`check_fields=False`，不抛出错误。"
   ]
  },
  {
   "cell_type": "code",
   "execution_count": 48,
   "id": "30855812",
   "metadata": {},
   "outputs": [
    {
     "name": "stdout",
     "output_type": "stream",
     "text": [
      "Validators defined with incorrect fields: set_ts_now (use check_fields=False if you're inheriting from the model and intended this)\n"
     ]
    }
   ],
   "source": [
    "from datetime import datetime\n",
    "from pydantic import BaseModel, validator\n",
    "\n",
    "\n",
    "try:\n",
    "    class DemoModel(BaseModel):\n",
    "\n",
    "        @validator('ts', pre=True, always=True)\n",
    "        def set_ts_now(cls, v):\n",
    "            return v or datetime.now()\n",
    "except Exception as e:\n",
    "    print(e)"
   ]
  },
  {
   "cell_type": "markdown",
   "id": "8c1364bd",
   "metadata": {},
   "source": [
    "测试发现，继承模型的话，不设置`check_feilds`貌似也不会抛出错误，不知道这个功能可以应用在哪里："
   ]
  },
  {
   "cell_type": "code",
   "execution_count": 63,
   "id": "9999107c",
   "metadata": {},
   "outputs": [],
   "source": [
    "class DemoModel(BaseModel):\n",
    "    ts: datetime = None\n",
    "    \n",
    "\n",
    "class SubDemo(DemoModel):\n",
    "    \n",
    "    @validator('ts', pre=True, always=True)\n",
    "    def set_ts_now(cls, v):\n",
    "        return v or datetime.now()"
   ]
  },
  {
   "cell_type": "markdown",
   "id": "7c68798f",
   "metadata": {},
   "source": [
    "## 模型配置"
   ]
  },
  {
   "cell_type": "markdown",
   "id": "312661ce",
   "metadata": {},
   "source": [
    "可以在模型内定义Config类对模型进行配置，可配置项如下：\n",
    "- title：声成的 JSON 模式的标题。\n",
    "- anystr_strip_whitespace：是否移除 str 和 bytes 类型中前导和尾随的空白字符(默认值为 False)。★★★★★\n",
    "- min_anystr_length：str 和 bytes 类型的最小长度 (默认为 0)。★★★★★\n",
    "- max_anystr_length：str 和 bytes 类型的最小长度 (默认为 2 ** 16)。★★★★★\n",
    "- validate_all：是否验证字段的默认值 (默认为 False)。★★★\n",
    "- extra：在模型初始化时是否忽略、允许或禁止额外的属性。可接受字符串值 ignore、allow 或 forbid 以及 Extra 枚举 (例如， Extra.ignore)。如果模型包含了额外的属性，则 forbid 将会导致验证失败。ignore 将静默忽略任何额外属性。allow 将属性分配给模型。★★★\n",
    "- allow_mutation：模型是否是伪不可变的。例如，是否允许`__setattr__`(默认为 True)。\n",
    "- use_enum_values：是否使用枚举的 value 属性而不是原始枚举填充模型。如果之后想要序列化 model.dict() ，这可能会很有用 (默认值为 False)。★★★\n",
    "- fields：包含每个字段的模式信息的字典； 这等效于使用Field类(默认为 None)。\n",
    "- validate_assignment：是否对属性的赋值执行验证 (默认为 False)。\n",
    "- allow_population_by_field_name：是否可以用模型属性给出的名称填充别名字段，以及别名 (默认为 False )。\n",
    "- error_msg_templates：用于覆盖默认错误消息模板的字典。传入一个字典，其中的键与您想要覆盖的错误消息相匹配 (默认为 {})。\n",
    "- arbitrary_types_allowed：是否允许字段使用任意用户类型(只需检查值是否为该类型的实例即可对它们进行验证)。如果为 False，则会在模型声明时引发RuntimeError(默认为 False)。\n",
    "- orm_mode：是否允许使用ORM模式。★★★★★\n",
    "- getter_dict：一个自定义类 (应该继承自 GetterDict)，用于分解ORM类进行验证，并与orm_mode一起使用。\n",
    "- alias_generator：接受字段名并返回其别名的可调用对象。\n",
    "- keep_untouched：模型的默认值的类型元组 (例如，描述符)，该默认值在模型创建期间不应更改，也不会包含在模型模式中。注意：这意味着模型上具有此类型的默认值的属性 (而不是此类型的注释) 将被保留。\n",
    "- schema_extra：用于拓展/更新生成的JSON 模式的字典，或用于对其进行后处理(post-process)的可调用对象。参见模式定制。\n",
    "- json_loads：用于解码 JSON 的自定义函数。参见自定义JSON反序列化。\n",
    "- json_dumps：用于编码 JSON的自定义函数。参见自定义JSON反序列化。\n",
    "- json_encoders：用于自定义类型被编码成JSON的方式的字典。参见JSON序列化。\n",
    "- underscore_attrs_are_private：是否将任何下划线非类 (non-class) 变量属性当做私有属性，或让它们保持原样。参见私有模型属性。"
   ]
  },
  {
   "cell_type": "code",
   "execution_count": 11,
   "id": "532943af",
   "metadata": {},
   "outputs": [
    {
     "name": "stdout",
     "output_type": "stream",
     "text": [
      "1 validation error for Model\n",
      "v\n",
      "  max_length:10 (type=value_error.any_str.max_length; limit_value=10)\n"
     ]
    }
   ],
   "source": [
    "from pydantic import BaseModel, ValidationError\n",
    "\n",
    "\n",
    "class Model(BaseModel):\n",
    "    v: str\n",
    "\n",
    "    class Config:\n",
    "        max_anystr_length = 10\n",
    "        error_msg_templates = {\n",
    "            'value_error.any_str.max_length': 'max_length:{limit_value}',\n",
    "        }\n",
    "\n",
    "\n",
    "try:\n",
    "    Model(v='x' * 20)\n",
    "except ValidationError as e:\n",
    "    print(e)"
   ]
  },
  {
   "cell_type": "markdown",
   "id": "406f6348",
   "metadata": {},
   "source": [
    "### 别名生成器"
   ]
  },
  {
   "cell_type": "markdown",
   "id": "cec68214",
   "metadata": {},
   "source": [
    "可以通过`alias_generator`指定一个函数以对名称进行处理，注意和别名的区别，我们可以通过`Field`字段或者在`Config`中通过`fields`设置别名，而别名生成器对所有名称进行处理，这个函数也可以放在`Config`类内部，此时是一个类方法："
   ]
  },
  {
   "cell_type": "code",
   "execution_count": 15,
   "id": "58ac9848",
   "metadata": {},
   "outputs": [
    {
     "name": "stdout",
     "output_type": "stream",
     "text": [
      "tr-TR\n",
      "{'Name': 'Filiz', 'LanguageCode': 'tr-TR'}\n"
     ]
    }
   ],
   "source": [
    "from pydantic import BaseModel\n",
    "\n",
    "\n",
    "def to_camel(string: str) -> str:\n",
    "    return ''.join(word.capitalize() for word in string.split('_'))\n",
    "\n",
    "\n",
    "class Voice(BaseModel):\n",
    "    name: str\n",
    "    language_code: str\n",
    "\n",
    "    class Config:\n",
    "        alias_generator = to_camel\n",
    "\n",
    "\n",
    "voice = Voice(Name='Filiz', LanguageCode='tr-TR')\n",
    "print(voice.language_code)\n",
    "print(voice.dict(by_alias=True))"
   ]
  },
  {
   "cell_type": "markdown",
   "id": "9f0a9697",
   "metadata": {},
   "source": [
    "### 别名优先级"
   ]
  },
  {
   "cell_type": "markdown",
   "id": "06fbbe1d",
   "metadata": {},
   "source": [
    "生成别名有很多种方式，其优先级为：\n",
    "- 在模型上直接通过`Field(..., alias=<alias>)`设置。\n",
    "- 在模型上的`Config.fields`中定义。\n",
    "- 在父模型上通过`Field(..., alias=<alias>)`。\n",
    "- 在父模型上的`Config.fields`中定义。\n",
    "- 由`alias_generator`生成，无论它是在模型上还是在父模型上。"
   ]
  },
  {
   "cell_type": "code",
   "execution_count": 21,
   "id": "60b0d252",
   "metadata": {},
   "outputs": [
    {
     "name": "stdout",
     "output_type": "stream",
     "text": [
      "{'properties': {'Act': {'default': 1, 'title': 'Act', 'type': 'integer'},\n",
      "                'ActorName': {'title': 'Actorname', 'type': 'string'},\n",
      "                'Mood': {'title': 'Mood', 'type': 'string'},\n",
      "                'lang': {'title': 'Lang', 'type': 'string'}},\n",
      " 'title': 'Character',\n",
      " 'type': 'object'}\n"
     ]
    }
   ],
   "source": [
    "from pydantic import BaseModel, Field\n",
    "from pprint import pprint\n",
    "\n",
    "\n",
    "class Voice(BaseModel):\n",
    "    name: str = Field(None, alias='ActorName')  # 可以通过\n",
    "    language_code: str = None\n",
    "    mood: str = None\n",
    "\n",
    "\n",
    "class Character(Voice):\n",
    "    act: int = 1\n",
    "\n",
    "    class Config:\n",
    "        # 通过fields设置别名\n",
    "        fields = {'language_code': 'lang'}\n",
    "        \n",
    "        @classmethod\n",
    "        def alias_generator(cls, string: str) -> str:\n",
    "            return ''.join(word.capitalize() for word in string.split('_'))\n",
    "\n",
    "\n",
    "# schema可以打印模型的信息\n",
    "pprint(Character.schema(by_alias=True))"
   ]
  },
  {
   "cell_type": "markdown",
   "id": "fe190b6d",
   "metadata": {},
   "source": [
    "## schema"
   ]
  },
  {
   "cell_type": "markdown",
   "id": "362800f2",
   "metadata": {},
   "source": [
    "有些中文教程把schema翻译成模式，但是我觉得难以理解。schema其实是用来描述模型结构的字典，或者json...pydantic可以方便的生成不同格式的schema："
   ]
  },
  {
   "cell_type": "code",
   "execution_count": 25,
   "id": "cfbb6835",
   "metadata": {},
   "outputs": [
    {
     "name": "stdout",
     "output_type": "stream",
     "text": [
      "{'definitions': {'FooBar': {'properties': {'count': {'title': 'Count',\n",
      "                                                     'type': 'integer'},\n",
      "                                           'size': {'title': 'Size',\n",
      "                                                    'type': 'number'}},\n",
      "                            'required': ['count'],\n",
      "                            'title': 'FooBar',\n",
      "                            'type': 'object'},\n",
      "                 'Gender': {'description': 'An enumeration.',\n",
      "                            'enum': ['male', 'female', 'other', 'not_given'],\n",
      "                            'title': 'Gender',\n",
      "                            'type': 'string'}},\n",
      " 'properties': {'Gender': {'$ref': '#/definitions/Gender'},\n",
      "                'foo_bar': {'$ref': '#/definitions/FooBar'},\n",
      "                'snap': {'default': 42,\n",
      "                         'description': 'this is the value of snap',\n",
      "                         'exclusiveMaximum': 50,\n",
      "                         'exclusiveMinimum': 30,\n",
      "                         'title': 'The Snap',\n",
      "                         'type': 'integer'}},\n",
      " 'required': ['foo_bar'],\n",
      " 'title': 'Main',\n",
      " 'type': 'object'}\n"
     ]
    }
   ],
   "source": [
    "from enum import Enum\n",
    "from pydantic import BaseModel, Field\n",
    "\n",
    "\n",
    "class FooBar(BaseModel):\n",
    "    count: int\n",
    "    size: float = None\n",
    "\n",
    "\n",
    "class Gender(str, Enum):\n",
    "    male = 'male'\n",
    "    female = 'female'\n",
    "    other = 'other'\n",
    "    not_given = 'not_given'\n",
    "\n",
    "\n",
    "class MainModel(BaseModel):\n",
    "    foo_bar: FooBar = Field(...)\n",
    "    gender: Gender = Field(None, alias='Gender')\n",
    "    snap: int = Field(\n",
    "        42,\n",
    "        title='The Snap',\n",
    "        description='this is the value of snap',\n",
    "        gt=30,\n",
    "        lt=50,\n",
    "    )\n",
    "\n",
    "    class Config:\n",
    "        title = 'Main'\n",
    "\n",
    "\n",
    "pprint(MainModel.schema())"
   ]
  },
  {
   "cell_type": "markdown",
   "id": "fd7b3a87",
   "metadata": {},
   "source": [
    "`schema()`返回字典，`schema_json()`返回json字符串："
   ]
  },
  {
   "cell_type": "code",
   "execution_count": 29,
   "id": "eb627159",
   "metadata": {},
   "outputs": [
    {
     "name": "stdout",
     "output_type": "stream",
     "text": [
      "{\n",
      "  \"title\": \"Main\",\n",
      "  \"type\": \"object\",\n",
      "  \"properties\": {\n",
      "    \"foo_bar\": {\n",
      "      \"$ref\": \"#/definitions/FooBar\"\n",
      "    },\n",
      "    \"Gender\": {\n",
      "      \"$ref\": \"#/definitions/Gender\"\n",
      "    },\n",
      "    \"snap\": {\n",
      "      \"title\": \"The Snap\",\n",
      "      \"description\": \"this is the value of snap\",\n",
      "      \"default\": 42,\n",
      "      \"exclusiveMinimum\": 30,\n",
      "      \"exclusiveMaximum\": 50,\n",
      "      \"type\": \"integer\"\n",
      "    }\n",
      "  },\n",
      "  \"required\": [\n",
      "    \"foo_bar\"\n",
      "  ],\n",
      "  \"definitions\": {\n",
      "    \"FooBar\": {\n",
      "      \"title\": \"FooBar\",\n",
      "      \"type\": \"object\",\n",
      "      \"properties\": {\n",
      "        \"count\": {\n",
      "          \"title\": \"Count\",\n",
      "          \"type\": \"integer\"\n",
      "        },\n",
      "        \"size\": {\n",
      "          \"title\": \"Size\",\n",
      "          \"type\": \"number\"\n",
      "        }\n",
      "      },\n",
      "      \"required\": [\n",
      "        \"count\"\n",
      "      ]\n",
      "    },\n",
      "    \"Gender\": {\n",
      "      \"title\": \"Gender\",\n",
      "      \"description\": \"An enumeration.\",\n",
      "      \"enum\": [\n",
      "        \"male\",\n",
      "        \"female\",\n",
      "        \"other\",\n",
      "        \"not_given\"\n",
      "      ],\n",
      "      \"type\": \"string\"\n",
      "    }\n",
      "  }\n",
      "}\n"
     ]
    }
   ],
   "source": [
    "print(MainModel.schema_json(indent=2))"
   ]
  },
  {
   "cell_type": "markdown",
   "id": "5c845e0d",
   "metadata": {},
   "source": [
    "有关schema还有很多内容，但这方面内容平时可能使用比较少，因此省略，留待补充。"
   ]
  },
  {
   "cell_type": "markdown",
   "id": "d5b9352c",
   "metadata": {},
   "source": [
    "## 导出模型"
   ]
  },
  {
   "cell_type": "markdown",
   "id": "0ed53286",
   "metadata": {},
   "source": [
    "### model.dict(...)"
   ]
  },
  {
   "cell_type": "markdown",
   "id": "0d74e044",
   "metadata": {},
   "source": [
    "模型转换成字典，接受以下参数：\n",
    "- include：包含在返回的字典中的字段。参见《包含和排序的高级用法》。\n",
    "- exclude：从返回的字典中排除的字段。参见《包含和排序的高级用法》。\n",
    "- by_alias：字段别名是否应该在返回的字典中作为键，默认为 False。\n",
    "- exclude_unset：创建模型时未显式设置的字段是否应从返回的字典中排除，默认为 False。在v1.0之前，exclude_unset被称skip_defaults；现在不赞成使用skip_defaults。\n",
    "- exclude_defaults：是否应从返回的字典中排除等于其默认值的字段 (无论是否设置)，默认为 False。\n",
    "- exclude_none：是否应从返回的字典中排除等于 None 的字段，默认为False。\n",
    "\n",
    "这种方法嵌套的模型也会被转换成字典。"
   ]
  },
  {
   "cell_type": "code",
   "execution_count": 49,
   "id": "ca918057",
   "metadata": {},
   "outputs": [
    {
     "name": "stdout",
     "output_type": "stream",
     "text": [
      "{'banana': 3.14, 'foo': 'hello', 'bar': {'whatever': 123}}\n",
      "{'foo': 'hello', 'bar': {'whatever': 123}}\n",
      "{'banana': 3.14}\n"
     ]
    }
   ],
   "source": [
    "from pydantic import BaseModel\n",
    "\n",
    "\n",
    "class BarModel(BaseModel):\n",
    "    whatever: int\n",
    "\n",
    "\n",
    "class FooBarModel(BaseModel):\n",
    "    banana: float\n",
    "    foo: str\n",
    "    bar: BarModel\n",
    "\n",
    "\n",
    "m = FooBarModel(banana=3.14, foo='hello', bar={'whatever': 123})\n",
    "\n",
    "print(m.dict())\n",
    "print(m.dict(include={'foo', 'bar'}))\n",
    "print(m.dict(exclude={'foo', 'bar'}))"
   ]
  },
  {
   "cell_type": "markdown",
   "id": "182733de",
   "metadata": {},
   "source": [
    "### dict(model)和迭代"
   ]
  },
  {
   "cell_type": "markdown",
   "id": "ca03814a",
   "metadata": {},
   "source": [
    "可以直接使用内置的`dict`转换模型，也可以直接对模型进行迭代，就像是迭代一个字典一样。但是此时嵌套的子模型不会转换成字典："
   ]
  },
  {
   "cell_type": "code",
   "execution_count": 50,
   "id": "2c002e46",
   "metadata": {},
   "outputs": [
    {
     "name": "stdout",
     "output_type": "stream",
     "text": [
      "{'banana': 3.14, 'foo': 'hello', 'bar': BarModel(whatever=123)}\n",
      "banana: 3.14\n",
      "foo: hello\n",
      "bar: whatever=123\n"
     ]
    }
   ],
   "source": [
    "from pydantic import BaseModel\n",
    "\n",
    "\n",
    "class BarModel(BaseModel):\n",
    "    whatever: int\n",
    "\n",
    "\n",
    "class FooBarModel(BaseModel):\n",
    "    banana: float\n",
    "    foo: str\n",
    "    bar: BarModel\n",
    "\n",
    "\n",
    "m = FooBarModel(banana=3.14, foo='hello', bar={'whatever': 123})\n",
    "\n",
    "print(dict(m))\n",
    "for name, value in m:\n",
    "    print(f'{name}: {value}')"
   ]
  },
  {
   "cell_type": "markdown",
   "id": "df590001",
   "metadata": {},
   "source": [
    "### model.copy(...)"
   ]
  },
  {
   "cell_type": "markdown",
   "id": "2592890f",
   "metadata": {},
   "source": [
    "`copy`方法可以复制模型，接受以下参数：\n",
    "- include：要包含在返回的字典中的字段。参见《包含和排序的高级用法》\n",
    "- exclude：要从返回的字典中排序的字典。参见《包含和排序的高级用法》。\n",
    "- update：创建复制的模型时要更改的值的字典。\n",
    "- deep：是否对新模型进行深复制；默认为 False。"
   ]
  },
  {
   "cell_type": "code",
   "execution_count": 51,
   "id": "1d8c1ddc",
   "metadata": {},
   "outputs": [
    {
     "name": "stdout",
     "output_type": "stream",
     "text": [
      "foo='hello' bar=BarModel(whatever=123)\n",
      "banana=3.14\n",
      "banana=0 foo='hello' bar=BarModel(whatever=123)\n",
      "2009639472768 2009639472768\n",
      "2009639472768 2009651214368\n"
     ]
    }
   ],
   "source": [
    "from pydantic import BaseModel\n",
    "\n",
    "\n",
    "class BarModel(BaseModel):\n",
    "    whatever: int\n",
    "\n",
    "\n",
    "class FooBarModel(BaseModel):\n",
    "    banana: float\n",
    "    foo: str\n",
    "    bar: BarModel\n",
    "\n",
    "\n",
    "m = FooBarModel(banana=3.14, foo='hello', bar={'whatever': 123})\n",
    "\n",
    "print(m.copy(include={'foo', 'bar'}))\n",
    "print(m.copy(exclude={'foo', 'bar'}))\n",
    "print(m.copy(update={'banana': 0}))\n",
    "print(id(m.bar), id(m.copy().bar))  # 普通的copy，copy的是子模型的引用\n",
    "print(id(m.bar), id(m.copy(deep=True).bar))  # 深度copy，创建了一个新的子模型"
   ]
  },
  {
   "cell_type": "markdown",
   "id": "65cd0721",
   "metadata": {},
   "source": [
    "### model.json(...)"
   ]
  },
  {
   "cell_type": "markdown",
   "id": "ed8864f1",
   "metadata": {},
   "source": [
    "`.json()`方法会将模型序列化为JSON。通常，在内部，`.json()`依次调用`.dict()`并序列化其结果。因此它接收的参数和`.dict()`方法基本一致，增加的参数如下：\n",
    "- `encoder`：传递给 json.dumps() 的 default 参数的自义编码器函数，默认为设计用于所有常见类型的自定义编码器。\n",
    "- `**dumps_kwargs`：传递给 json.dumps() 的其他关键字参数。例如，indent。"
   ]
  },
  {
   "cell_type": "markdown",
   "id": "abd21f39",
   "metadata": {},
   "source": [
    "#### json.encoders"
   ]
  },
  {
   "cell_type": "markdown",
   "id": "d28bfbda",
   "metadata": {},
   "source": [
    "序列化可以使用`json_encoders`配置属性在模型上定制，键应该是类型，值应该是序列化该类型的函数："
   ]
  },
  {
   "cell_type": "code",
   "execution_count": 9,
   "id": "662747dd",
   "metadata": {},
   "outputs": [
    {
     "name": "stdout",
     "output_type": "stream",
     "text": [
      "{\"dt\": 1969632000.0, \"diff\": \"P4DT4H0M0.000000S\"}\n"
     ]
    }
   ],
   "source": [
    "from datetime import datetime, timedelta\n",
    "from pydantic import BaseModel\n",
    "from pydantic.json import timedelta_isoformat\n",
    "\n",
    "\n",
    "class WithCustomEncoders(BaseModel):\n",
    "    dt: datetime\n",
    "    diff: timedelta\n",
    "\n",
    "    class Config:\n",
    "        json_encoders = {\n",
    "            datetime: lambda v: v.timestamp(),\n",
    "            timedelta: timedelta_isoformat,\n",
    "        }\n",
    "\n",
    "\n",
    "m = WithCustomEncoders(dt=datetime(2032, 6, 1), diff=timedelta(hours=100))\n",
    "print(m.json())"
   ]
  },
  {
   "cell_type": "markdown",
   "id": "8a93fc04",
   "metadata": {},
   "source": [
    "#### 自定义json反序列化"
   ]
  },
  {
   "cell_type": "markdown",
   "id": "e8a27081",
   "metadata": {},
   "source": [
    "为了提高json解码编码的性能，我们有时候可以通过可以配置中的`json_load`和`json_dumps`属性来指定其它的json实现："
   ]
  },
  {
   "cell_type": "code",
   "execution_count": 52,
   "id": "6ebf4048",
   "metadata": {},
   "outputs": [],
   "source": [
    "from datetime import datetime\n",
    "import ujson\n",
    "from pydantic import BaseModel\n",
    "\n",
    "\n",
    "class User(BaseModel):\n",
    "    id: int\n",
    "    name = 'John Doe'\n",
    "    signup_ts: datetime = None\n",
    "\n",
    "    class Config:\n",
    "        json_loads = ujson.loads"
   ]
  },
  {
   "cell_type": "code",
   "execution_count": 53,
   "id": "b70ecf02",
   "metadata": {},
   "outputs": [
    {
     "name": "stdout",
     "output_type": "stream",
     "text": [
      "id=123 signup_ts=datetime.datetime(2009, 2, 13, 23, 31, 30, tzinfo=datetime.timezone.utc) name='John Doe'\n"
     ]
    }
   ],
   "source": [
    "user = User.parse_raw('{\"id\": 123,\"signup_ts\":1234567890,\"name\":\"John Doe\"}')\n",
    "print(user)"
   ]
  },
  {
   "cell_type": "markdown",
   "id": "06c771ba",
   "metadata": {},
   "source": [
    "但是ujson通常不能用于转储JSON，因为它不支持对像`datetime`这样的对象进行编码，也不接受`default`回退函数参数："
   ]
  },
  {
   "cell_type": "code",
   "execution_count": 54,
   "id": "c884499d",
   "metadata": {},
   "outputs": [],
   "source": [
    "class User(BaseModel):\n",
    "    id: int\n",
    "    name = 'John Doe'\n",
    "    signup_ts: datetime = None\n",
    "\n",
    "    class Config:\n",
    "        json_loads = ujson.loads\n",
    "        json_dumps = ujson.dumps"
   ]
  },
  {
   "cell_type": "code",
   "execution_count": 58,
   "id": "729c4888",
   "metadata": {},
   "outputs": [
    {
     "name": "stdout",
     "output_type": "stream",
     "text": [
      "'default' is an invalid keyword argument for this function\n"
     ]
    }
   ],
   "source": [
    "user = User.parse_raw('{\"id\": 123,\"signup_ts\":1234567890,\"name\":\"John Doe\"}')\n",
    "try:\n",
    "    user.json()\n",
    "except TypeError as e:\n",
    "    print(e)"
   ]
  },
  {
   "cell_type": "markdown",
   "id": "aaaabd76",
   "metadata": {},
   "source": [
    "此时可以不指定`json_dumps`，也可以使用orjson："
   ]
  },
  {
   "cell_type": "code",
   "execution_count": 69,
   "id": "aa3a1765",
   "metadata": {},
   "outputs": [
    {
     "name": "stdout",
     "output_type": "stream",
     "text": [
      "{\"id\":123,\"signup_ts\":\"2009-02-13T23:31:30+00:00\",\"name\":\"John Doe\"}\n"
     ]
    }
   ],
   "source": [
    "from datetime import datetime\n",
    "import orjson\n",
    "from pydantic import BaseModel\n",
    "\n",
    "\n",
    "def orjson_dumps(v, *, default):\n",
    "    # orjson.dumps returns bytes, to match standard json.dumps we need to decode\n",
    "    return orjson.dumps(v, default=default).decode()\n",
    "\n",
    "\n",
    "class User(BaseModel):\n",
    "    id: int\n",
    "    name = 'John Doe'\n",
    "    signup_ts: datetime = None\n",
    "\n",
    "    class Config:\n",
    "        json_loads = orjson.loads\n",
    "        json_dumps = orjson_dumps\n",
    "\n",
    "\n",
    "user = User.parse_raw('{\"id\":123,\"signup_ts\":1234567890,\"name\":\"John Doe\"}')\n",
    "print(user.json())  # 此时就不能接收比如indent等参数了"
   ]
  },
  {
   "cell_type": "markdown",
   "id": "5440c937",
   "metadata": {},
   "source": [
    "### `include`和`exclude`"
   ]
  },
  {
   "cell_type": "markdown",
   "id": "25600bf0",
   "metadata": {},
   "source": [
    "`include`和`exclude`可以指定包含或者排除的字段，但是有几点要注意。"
   ]
  },
  {
   "cell_type": "code",
   "execution_count": 71,
   "id": "41d36d00",
   "metadata": {},
   "outputs": [
    {
     "name": "stdout",
     "output_type": "stream",
     "text": [
      "{'id': '1234567890'}\n",
      "{'id': '1234567890', 'user': {'id': 42}}\n",
      "{'id': '1234567890', 'user': {'id': 42}}\n"
     ]
    }
   ],
   "source": [
    "from pydantic import BaseModel, SecretStr\n",
    "\n",
    "\n",
    "class User(BaseModel):\n",
    "    id: int\n",
    "    username: str\n",
    "    password: SecretStr\n",
    "\n",
    "\n",
    "class Transaction(BaseModel):\n",
    "    id: str\n",
    "    user: User\n",
    "    value: int\n",
    "\n",
    "\n",
    "t = Transaction(\n",
    "    id='1234567890',\n",
    "    user=User(\n",
    "        id=42,\n",
    "        username='JohnDoe',\n",
    "        password='hashedpassword'\n",
    "    ),\n",
    "    value=9876543210,\n",
    ")\n",
    "\n",
    "# 没有嵌套模型的情况下我们可以直接使用集合\n",
    "print(t.dict(exclude={'user', 'value'}))\n",
    "\n",
    "# 如果有嵌套的模型，测试使用字典，此时值是普通类型的字段，比如value，字典中的值可以设置为省略号\n",
    "print(t.dict(exclude={'user': {'username', 'password'}, 'value': ...}))\n",
    "print(t.dict(include={'id': ..., 'user': {'id'}}))"
   ]
  },
  {
   "cell_type": "markdown",
   "id": "fbc1d655",
   "metadata": {},
   "source": [
    "如果子模型或者字段的值是序列，我们想排除或者包含其中某部分值怎么办呢？可以像索引一样，直接使用数字来选取："
   ]
  },
  {
   "cell_type": "code",
   "execution_count": 3,
   "id": "135b8ba8",
   "metadata": {},
   "outputs": [],
   "source": [
    "import datetime\n",
    "from typing import List\n",
    "from pprint import pprint\n",
    "\n",
    "from pydantic import BaseModel, SecretStr\n",
    "\n",
    "\n",
    "class Country(BaseModel):\n",
    "    name: str\n",
    "    phone_code: int\n",
    "\n",
    "\n",
    "class Address(BaseModel):\n",
    "    post_code: int\n",
    "    country: Country\n",
    "\n",
    "\n",
    "class CardDetails(BaseModel):\n",
    "    number: SecretStr\n",
    "    expires: datetime.date\n",
    "\n",
    "\n",
    "class Hobby(BaseModel):\n",
    "    name: str\n",
    "    info: str\n",
    "\n",
    "\n",
    "class User(BaseModel):\n",
    "    first_name: str\n",
    "    second_name: str\n",
    "    address: Address\n",
    "    card_details: CardDetails\n",
    "    hobbies: List[Hobby]\n",
    "\n",
    "\n",
    "user = User(\n",
    "    first_name='John',\n",
    "    second_name='Doe',\n",
    "    address=Address(\n",
    "        post_code=123456,\n",
    "        country=Country(\n",
    "            name='USA',\n",
    "            phone_code=1\n",
    "        )\n",
    "    ),\n",
    "    card_details=CardDetails(\n",
    "        number=4212934504460000,\n",
    "        expires=datetime.date(2020, 5, 1)\n",
    "    ),\n",
    "    hobbies=[\n",
    "        Hobby(name='Programming', info='Writing code and stuff'),\n",
    "        Hobby(name='Gaming', info='Hell Yeah!!!'),\n",
    "    ],\n",
    ")"
   ]
  },
  {
   "cell_type": "code",
   "execution_count": 7,
   "id": "b5ce5277",
   "metadata": {},
   "outputs": [
    {
     "name": "stdout",
     "output_type": "stream",
     "text": [
      "{'address': {'country': {'name': 'USA'}},\n",
      " 'first_name': 'John',\n",
      " 'hobbies': [{'info': 'Writing code and stuff', 'name': 'Programming'},\n",
      "             {'name': 'Gaming'}]}\n"
     ]
    }
   ],
   "source": [
    "include_keys = {\n",
    "    'first_name': ...,\n",
    "    'address': {'country': {'name'}},\n",
    "    'hobbies': {0: ..., -1: {'name'}},\n",
    "}\n",
    "\n",
    "pprint(user.dict(include=include_keys))"
   ]
  },
  {
   "cell_type": "markdown",
   "id": "43c898b1",
   "metadata": {},
   "source": [
    "如果序列里所有的项都要排除或者选取，可以使用`__all__`作为键："
   ]
  },
  {
   "cell_type": "code",
   "execution_count": 9,
   "id": "885a48d8",
   "metadata": {},
   "outputs": [
    {
     "name": "stdout",
     "output_type": "stream",
     "text": [
      "{'address': {'country': {'name': 'USA', 'phone_code': 1}, 'post_code': 123456},\n",
      " 'card_details': {'expires': datetime.date(2020, 5, 1),\n",
      "                  'number': SecretStr('**********')},\n",
      " 'first_name': 'John',\n",
      " 'hobbies': [{'name': 'Programming'}, {'name': 'Gaming'}],\n",
      " 'second_name': 'Doe'}\n"
     ]
    }
   ],
   "source": [
    "# To exclude a field from all members of a nested list or tuple, use \"__all__\":\n",
    "pprint(user.dict(exclude={'hobbies': {'__all__': {'info'}}}))"
   ]
  },
  {
   "cell_type": "markdown",
   "id": "62d9a2dd",
   "metadata": {},
   "source": [
    "## 代码生成"
   ]
  },
  {
   "cell_type": "markdown",
   "id": "8a29dd5d",
   "metadata": {},
   "source": [
    "`datamodel-code-generator`是一个插件，它甚至能够根据已有的json和yaml等几乎任何数据源，自动生成pydantic模型。\n",
    "- [官网地址](https://koxudaxi.github.io/datamodel-code-generator/)\n",
    "\n",
    "使用很简单，运行`pip install datamodel-code-generator`安装以后，命令行运行：\n",
    "```\n",
    "datamodel-codegen --input api.yaml --output model.py\n",
    "```\n",
    "即可把文件生成相应的模型。"
   ]
  },
  {
   "cell_type": "code",
   "execution_count": null,
   "id": "0015a4df",
   "metadata": {},
   "outputs": [],
   "source": []
  }
 ],
 "metadata": {
  "kernelspec": {
   "display_name": "Python 3 (ipykernel)",
   "language": "python",
   "name": "python3"
  },
  "language_info": {
   "codemirror_mode": {
    "name": "ipython",
    "version": 3
   },
   "file_extension": ".py",
   "mimetype": "text/x-python",
   "name": "python",
   "nbconvert_exporter": "python",
   "pygments_lexer": "ipython3",
   "version": "3.9.7"
  },
  "toc": {
   "base_numbering": 1,
   "nav_menu": {
    "height": "211px",
    "width": "208.733px"
   },
   "number_sections": true,
   "sideBar": true,
   "skip_h1_title": true,
   "title_cell": "Python私房手册-pydantic",
   "title_sidebar": "Python私房手册-pydantic",
   "toc_cell": false,
   "toc_position": {
    "height": "calc(100% - 180px)",
    "left": "10px",
    "top": "150px",
    "width": "275.2px"
   },
   "toc_section_display": true,
   "toc_window_display": true
  }
 },
 "nbformat": 4,
 "nbformat_minor": 5
}
