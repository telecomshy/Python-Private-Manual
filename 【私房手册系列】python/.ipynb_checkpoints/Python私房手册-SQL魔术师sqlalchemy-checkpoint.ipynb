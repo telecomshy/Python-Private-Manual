{
 "cells": [
  {
   "cell_type": "markdown",
   "id": "ba83787d",
   "metadata": {},
   "source": [
    "# Python私房手册-SQL魔术师sqlalchemy "
   ]
  },
  {
   "cell_type": "code",
   "execution_count": 1,
   "id": "d14f5c33",
   "metadata": {},
   "outputs": [],
   "source": [
    "import sqlalchemy as sa\n",
    "\n",
    "from sqlalchemy.orm import declarative_base, create_session, Session, aliased\n",
    "from sqlalchemy import create_engine, Column, Integer, String, select, ForeignKey, MetaData, func, union_all, insert, delete"
   ]
  },
  {
   "cell_type": "markdown",
   "id": "c66ee0fe",
   "metadata": {},
   "source": [
    "当前版本是1.4.22，使用`future`关键字参数可以使用2.0版本语法，2.0将core和orm方式在查询方面的语法进行了统一，降低了学习难度。另外如果`echo`关键字参数设置为`True`，则会打印语句执行的信息："
   ]
  },
  {
   "cell_type": "code",
   "execution_count": 2,
   "id": "965f3334",
   "metadata": {},
   "outputs": [],
   "source": [
    "engine = create_engine(\"sqlite+pysqlite:///sqlalchemy_study.db\", future=True, echo=True)"
   ]
  },
  {
   "cell_type": "markdown",
   "id": "91ae6105",
   "metadata": {},
   "source": [
    "## 使用事务和DBAPI"
   ]
  },
  {
   "cell_type": "code",
   "execution_count": null,
   "id": "12c8a32b",
   "metadata": {},
   "outputs": [],
   "source": []
  },
  {
   "cell_type": "markdown",
   "id": "0f13810b",
   "metadata": {},
   "source": [
    "## 元数据"
   ]
  },
  {
   "cell_type": "markdown",
   "id": "e618ceaf",
   "metadata": {},
   "source": [
    "### core方式"
   ]
  },
  {
   "cell_type": "code",
   "execution_count": 3,
   "id": "f0085aad",
   "metadata": {},
   "outputs": [],
   "source": [
    "metadata_obj = MetaData()"
   ]
  },
  {
   "cell_type": "code",
   "execution_count": 4,
   "id": "f0ec4cfd",
   "metadata": {},
   "outputs": [],
   "source": [
    "from sqlalchemy import Table, Column, Integer, String\n",
    "user_table = Table(\n",
    "    \"user_account\",\n",
    "    metadata_obj,\n",
    "    Column('id', Integer, primary_key=True),\n",
    "    Column('name', String(30)),\n",
    "    Column('fullname', String)\n",
    ")"
   ]
  },
  {
   "cell_type": "markdown",
   "id": "28924ce7",
   "metadata": {},
   "source": [
    "core方式中，如果要引用列，使用`Table.c`的方式："
   ]
  },
  {
   "cell_type": "code",
   "execution_count": 5,
   "id": "51a3ca65",
   "metadata": {},
   "outputs": [
    {
     "data": {
      "text/plain": [
       "Column('name', String(length=30), table=<user_account>)"
      ]
     },
     "execution_count": 5,
     "metadata": {},
     "output_type": "execute_result"
    }
   ],
   "source": [
    "user_table.c.name"
   ]
  },
  {
   "cell_type": "markdown",
   "id": "0b632a8d",
   "metadata": {},
   "source": [
    "`Table.c`本身是个`ImmutableColumnCollection`对象，有`keys`,`values`和`items`方法："
   ]
  },
  {
   "cell_type": "code",
   "execution_count": 6,
   "id": "7cd2eac9",
   "metadata": {},
   "outputs": [
    {
     "data": {
      "text/plain": [
       "['id', 'name', 'fullname']"
      ]
     },
     "execution_count": 6,
     "metadata": {},
     "output_type": "execute_result"
    }
   ],
   "source": [
    "user_table.c.keys()"
   ]
  },
  {
   "cell_type": "code",
   "execution_count": 5,
   "id": "9d14e7f8",
   "metadata": {},
   "outputs": [],
   "source": [
    "from sqlalchemy import ForeignKey\n",
    "address_table = Table(\n",
    "    \"address\",\n",
    "    metadata_obj,\n",
    "    Column('id', Integer, primary_key=True),\n",
    "    Column('user_id', ForeignKey('user_account.id'), nullable=False),\n",
    "    Column('email_address', String, nullable=False)\n",
    ")"
   ]
  },
  {
   "cell_type": "markdown",
   "id": "2c075ccf",
   "metadata": {},
   "source": [
    "定义了Table对象以后，就可以利用metadata来创建表："
   ]
  },
  {
   "cell_type": "code",
   "execution_count": 8,
   "id": "03692f73",
   "metadata": {},
   "outputs": [
    {
     "name": "stdout",
     "output_type": "stream",
     "text": [
      "2022-04-05 23:39:55,275 INFO sqlalchemy.engine.Engine BEGIN (implicit)\n",
      "2022-04-05 23:39:55,275 INFO sqlalchemy.engine.Engine PRAGMA main.table_info(\"user_account\")\n",
      "2022-04-05 23:39:55,275 INFO sqlalchemy.engine.Engine [raw sql] ()\n",
      "2022-04-05 23:39:55,291 INFO sqlalchemy.engine.Engine PRAGMA main.table_info(\"address\")\n",
      "2022-04-05 23:39:55,291 INFO sqlalchemy.engine.Engine [raw sql] ()\n",
      "2022-04-05 23:39:55,291 INFO sqlalchemy.engine.Engine COMMIT\n"
     ]
    }
   ],
   "source": [
    "metadata_obj.create_all(engine)"
   ]
  },
  {
   "cell_type": "markdown",
   "id": "c03af31c",
   "metadata": {},
   "source": [
    "### orm方式"
   ]
  },
  {
   "cell_type": "code",
   "execution_count": 6,
   "id": "b1ff88a4",
   "metadata": {},
   "outputs": [],
   "source": [
    "Base = declarative_base()"
   ]
  },
  {
   "cell_type": "code",
   "execution_count": 7,
   "id": "869ccb3e",
   "metadata": {},
   "outputs": [],
   "source": [
    "from sqlalchemy.orm import relationship\n",
    "\n",
    "\n",
    "class User(Base):\n",
    "    __tablename__ = 'user_account'\n",
    "    id = Column(Integer, primary_key=True)\n",
    "    name = Column(String(30))\n",
    "    fullname = Column(String)\n",
    "    addresses = relationship(\"Address\", back_populates=\"user\")\n",
    "\n",
    "    def __repr__(self):\n",
    "        return f\"User(id={self.id!r}, name={self.name!r}, fullname={self.fullname!r})\"\n",
    "\n",
    "\n",
    "class Address(Base):\n",
    "    __tablename__ = 'address'\n",
    "    id = Column(Integer, primary_key=True)\n",
    "    email_address = Column(String, nullable=False)\n",
    "    user_id = Column(Integer, ForeignKey('user_account.id'))\n",
    "    user = relationship(\"User\", back_populates=\"addresses\")\n",
    "\n",
    "    def __repr__(self):\n",
    "        return f\"Address(id={self.id!r}, email_address={self.email_address!r})\""
   ]
  },
  {
   "cell_type": "markdown",
   "id": "ee33b0f9",
   "metadata": {},
   "source": [
    "orm方式实际上是对core方式的进一步封装，其模型的`__table__`属性就包含一个Table对象："
   ]
  },
  {
   "cell_type": "code",
   "execution_count": 9,
   "id": "306f88e1",
   "metadata": {},
   "outputs": [
    {
     "data": {
      "text/plain": [
       "Table('user_account', MetaData(), Column('id', Integer(), table=<user_account>, primary_key=True, nullable=False), Column('name', String(length=30), table=<user_account>), Column('fullname', String(), table=<user_account>), schema=None)"
      ]
     },
     "execution_count": 9,
     "metadata": {},
     "output_type": "execute_result"
    }
   ],
   "source": [
    "User.__table__"
   ]
  },
  {
   "cell_type": "markdown",
   "id": "f8bf157f",
   "metadata": {},
   "source": [
    "使用orm方式不需要显示的定义metadata对象，创建Base实例的时候就已经创建了："
   ]
  },
  {
   "cell_type": "code",
   "execution_count": 10,
   "id": "84914338",
   "metadata": {},
   "outputs": [
    {
     "data": {
      "text/plain": [
       "MetaData()"
      ]
     },
     "execution_count": 10,
     "metadata": {},
     "output_type": "execute_result"
    }
   ],
   "source": [
    "Base.metadata"
   ]
  },
  {
   "cell_type": "markdown",
   "id": "2924504b",
   "metadata": {},
   "source": [
    "实际上`declarative_base`是个帮助函数，让我们少些一些代码，实际的过程是这样的:"
   ]
  },
  {
   "cell_type": "code",
   "execution_count": 11,
   "id": "05778677",
   "metadata": {},
   "outputs": [
    {
     "data": {
      "text/plain": [
       "MetaData()"
      ]
     },
     "execution_count": 11,
     "metadata": {},
     "output_type": "execute_result"
    }
   ],
   "source": [
    "from sqlalchemy.orm import registry\n",
    "\n",
    "mapping_registry = registry()\n",
    "mapping_registry.metadata"
   ]
  },
  {
   "cell_type": "code",
   "execution_count": 91,
   "id": "85bf4421",
   "metadata": {},
   "outputs": [],
   "source": [
    "Base = mapping_registry.generate_base()"
   ]
  },
  {
   "cell_type": "markdown",
   "id": "b9e610c9",
   "metadata": {},
   "source": [
    "如果已经定义了table对象，再创建模型类可以更简单，`__table__`直接引用table对象即可：\n",
    "```python\n",
    "class User(Base):\n",
    "    __table__ = user_table\n",
    "    \n",
    "    addresses = relationship(\"Address\", back_populates=\"user\")\n",
    "\n",
    "    def __repr__(self):\n",
    "        return f\"User(id={self.id!r}, name={self.name!r}, fullname={self.fullname!r})\"\n",
    "\n",
    "\n",
    "class Address(Base):\n",
    "    __table__ = address_table\n",
    "    \n",
    "    user = relationship(\"User\", back_populates=\"addresses\")\n",
    "\n",
    "    def __repr__(self):\n",
    "        return f\"Address(id={self.id!r}, email_address={self.email_address!r})\"\n",
    "```"
   ]
  },
  {
   "cell_type": "markdown",
   "id": "f65af007",
   "metadata": {},
   "source": [
    "## 操作数据"
   ]
  },
  {
   "cell_type": "markdown",
   "id": "1a79be7b",
   "metadata": {},
   "source": [
    "### 使用core插入行"
   ]
  },
  {
   "cell_type": "markdown",
   "id": "be90299c",
   "metadata": {},
   "source": [
    "#### `insert().values()`插入"
   ]
  },
  {
   "cell_type": "code",
   "execution_count": 29,
   "id": "063d5a7a",
   "metadata": {},
   "outputs": [],
   "source": [
    "from sqlalchemy import insert\n",
    "stmt = insert(user_table).values(name='spongebob', fullname=\"Spongebob Squarepants\")\n",
    "\n",
    "with engine.connect() as conn:\n",
    "    result = conn.execute(stmt)\n",
    "    conn.commit()"
   ]
  },
  {
   "cell_type": "markdown",
   "id": "58a3dc28",
   "metadata": {},
   "source": [
    "`result`有个`inserted_primary_key`方法可以查看插入的行的主键很有用："
   ]
  },
  {
   "cell_type": "code",
   "execution_count": 31,
   "id": "f9e00cc5",
   "metadata": {},
   "outputs": [
    {
     "data": {
      "text/plain": [
       "(5,)"
      ]
     },
     "execution_count": 31,
     "metadata": {},
     "output_type": "execute_result"
    }
   ],
   "source": [
    "result.inserted_primary_key"
   ]
  },
  {
   "cell_type": "markdown",
   "id": "a7ee2bcd",
   "metadata": {},
   "source": [
    "批量插入的话直接传入列表："
   ]
  },
  {
   "cell_type": "code",
   "execution_count": 51,
   "id": "ca9daf21",
   "metadata": {},
   "outputs": [],
   "source": [
    "stmt = insert(user_table).values([{\n",
    "    \"name\": \"sandy\",\n",
    "    \"fullname\": \"Sandy Cheeks\"\n",
    "}, {\n",
    "    \"name\": \"patrick\",\n",
    "    \"fullname\": \"Patrick Star\"\n",
    "}])"
   ]
  },
  {
   "cell_type": "code",
   "execution_count": 52,
   "id": "c217684c",
   "metadata": {},
   "outputs": [],
   "source": [
    "with engine.connect() as conn:\n",
    "    result = conn.execute(stmt)\n",
    "    conn.commit()"
   ]
  },
  {
   "cell_type": "markdown",
   "id": "dd5ff336",
   "metadata": {},
   "source": [
    "#### `execute`直接插入"
   ]
  },
  {
   "cell_type": "markdown",
   "id": "dd60600c",
   "metadata": {},
   "source": [
    "还可以像下面这样："
   ]
  },
  {
   "cell_type": "code",
   "execution_count": 36,
   "id": "ea076519",
   "metadata": {},
   "outputs": [],
   "source": [
    "with engine.connect() as conn:\n",
    "    result = conn.execute(\n",
    "        insert(user_table),\n",
    "        [\n",
    "            {\"name\": \"sandy\", \"fullname\": \"Sandy Cheeks\"},\n",
    "            {\"name\": \"patrick\", \"fullname\": \"Patrick Star\"}\n",
    "        ]\n",
    "    )\n",
    "    conn.commit()"
   ]
  },
  {
   "cell_type": "markdown",
   "id": "1a888bb5",
   "metadata": {},
   "source": [
    "#### INSERT…FROM SELECT"
   ]
  },
  {
   "cell_type": "markdown",
   "id": "09946144",
   "metadata": {},
   "source": [
    "from_select第一个参数为要插入的列名："
   ]
  },
  {
   "cell_type": "code",
   "execution_count": 15,
   "id": "63b99fa2",
   "metadata": {},
   "outputs": [],
   "source": [
    "select_stmt = select(user_table.c.id, user_table.c.name + \"@aol.com\")\n",
    "\n",
    "insert_stmt = insert(address_table).from_select(\n",
    "    [\"user_id\", \"email_address\"], select_stmt\n",
    ")\n",
    "\n",
    "with engine.connect() as conn:\n",
    "    conn.execute(insert_stmt)\n",
    "    conn.commit()"
   ]
  },
  {
   "cell_type": "markdown",
   "id": "9b5af598",
   "metadata": {},
   "source": [
    "#### INSERT…RETURNING"
   ]
  },
  {
   "cell_type": "markdown",
   "id": "d471552c",
   "metadata": {},
   "source": [
    "sqlite不支持returning，使用returning时，返回的result对象有一些行可以被获取："
   ]
  },
  {
   "cell_type": "code",
   "execution_count": 17,
   "id": "bcbc674b",
   "metadata": {},
   "outputs": [
    {
     "name": "stdout",
     "output_type": "stream",
     "text": [
      "INSERT INTO address (id, user_id, email_address) VALUES (:id, :user_id, :email_address) RETURNING address.id, address.email_address\n"
     ]
    }
   ],
   "source": [
    "insert_stmt = insert(address_table).returning(address_table.c.id, address_table.c.email_address)\n",
    "print(insert_stmt)"
   ]
  },
  {
   "cell_type": "markdown",
   "id": "37c11977",
   "metadata": {},
   "source": [
    "### 使用core或orm查询行"
   ]
  },
  {
   "cell_type": "markdown",
   "id": "d04b4e76",
   "metadata": {},
   "source": [
    "#### 创建select表达式"
   ]
  },
  {
   "cell_type": "markdown",
   "id": "21617af0",
   "metadata": {},
   "source": [
    "core方式，返回元组："
   ]
  },
  {
   "cell_type": "code",
   "execution_count": 18,
   "id": "7757cc34",
   "metadata": {},
   "outputs": [
    {
     "name": "stdout",
     "output_type": "stream",
     "text": [
      "(1, 'spongebob', 'spongebob Squarepants')\n"
     ]
    }
   ],
   "source": [
    "stmt = select(user_table).where(user_table.c.name == 'spongebob')\n",
    "\n",
    "with engine.connect() as conn:\n",
    "    for row in conn.execute(stmt):\n",
    "        print(row)"
   ]
  },
  {
   "cell_type": "markdown",
   "id": "3080e7e8",
   "metadata": {},
   "source": [
    "orm方式，注意返回的是元组，需要用`row[0]`获取User实例，教程说可以使用session.scalars代替execute直接获取实例，但是1.4版本提示没有这个方法，估计2.0才有："
   ]
  },
  {
   "cell_type": "code",
   "execution_count": 39,
   "id": "0af6a4dd",
   "metadata": {},
   "outputs": [
    {
     "name": "stdout",
     "output_type": "stream",
     "text": [
      "(User(id=1, name='spongebob', fullname='spongebob Squarepants'),)\n",
      "(User(id=2, name='sandy', fullname='Sandy Cheeks'),)\n",
      "(User(id=3, name='patrick', fullname='Patrick Star'),)\n"
     ]
    }
   ],
   "source": [
    "stmt = select(User).where(User.name == 'spongebob')\n",
    "\n",
    "with Session(engine) as session:\n",
    "    for row in session.execute(stmt):\n",
    "        print(row)"
   ]
  },
  {
   "cell_type": "markdown",
   "id": "4ef547e1",
   "metadata": {},
   "source": [
    "#### COLUMNS和FROM从句"
   ]
  },
  {
   "cell_type": "markdown",
   "id": "3c662052",
   "metadata": {},
   "source": [
    "##### 标签"
   ]
  },
  {
   "cell_type": "markdown",
   "id": "a6658c2c",
   "metadata": {},
   "source": [
    "有时候，我们不是直接`select`列名，而是进行一些计算，这些计算被成为SQL表达式，此时可以使用label方法为SQL表达式添加标签，方便后面引用：\n",
    "```sql\n",
    "select \"Username: \" + name from user_account\n",
    "```"
   ]
  },
  {
   "cell_type": "code",
   "execution_count": null,
   "id": "40325563",
   "metadata": {},
   "outputs": [],
   "source": [
    "from sqlalchemy import func, cast\n",
    "\n",
    "stmt = (\n",
    "    select(\n",
    "        (\"Username: \" + user_table.c.name).label(\"username\"),\n",
    "    ).order_by(user_table.c.name)\n",
    ")\n",
    "\n",
    "with engine.connect() as conn:\n",
    "    for row in conn.execute(stmt):\n",
    "        print(f\"{row.username}\")"
   ]
  },
  {
   "cell_type": "markdown",
   "id": "6ed20451",
   "metadata": {},
   "source": [
    "##### 文本列表达式"
   ]
  },
  {
   "cell_type": "markdown",
   "id": "811656c7",
   "metadata": {},
   "source": [
    "注意text里面的文本还要加一层引号："
   ]
  },
  {
   "cell_type": "code",
   "execution_count": 49,
   "id": "1caf775b",
   "metadata": {},
   "outputs": [
    {
     "name": "stdout",
     "output_type": "stream",
     "text": [
      "SELECT 'some phrase', user_account.name \n",
      "FROM user_account ORDER BY user_account.name\n"
     ]
    }
   ],
   "source": [
    "from sqlalchemy import text\n",
    "\n",
    "stmt = (\n",
    "    select(\n",
    "        text(\"'some phrase'\"), user_table.c.name\n",
    "    ).order_by(user_table.c.name)\n",
    ")\n",
    "\n",
    "print(stmt)"
   ]
  },
  {
   "cell_type": "code",
   "execution_count": 41,
   "id": "5ae5fa21",
   "metadata": {},
   "outputs": [
    {
     "name": "stdout",
     "output_type": "stream",
     "text": [
      "[('some phrase', 'patrick'), ('some phrase', 'sandy'), ('some phrase', 'spongebob')]\n"
     ]
    }
   ],
   "source": [
    "with engine.connect() as conn:\n",
    "    print(conn.execute(stmt).all())"
   ]
  },
  {
   "cell_type": "markdown",
   "id": "fa15aab2",
   "metadata": {},
   "source": [
    "如果要为文本添加标签，不能使用`text`，要使用`literal_column`:"
   ]
  },
  {
   "cell_type": "code",
   "execution_count": 51,
   "id": "9104d7f8",
   "metadata": {},
   "outputs": [
    {
     "name": "stdout",
     "output_type": "stream",
     "text": [
      "some phrase - patrick\n",
      "some phrase - sandy\n",
      "some phrase - spongebob\n"
     ]
    }
   ],
   "source": [
    "from sqlalchemy import literal_column\n",
    "\n",
    "stmt = (\n",
    "    select(\n",
    "        literal_column(\"'some phrase'\").label(\"p\"), user_table.c.name\n",
    "    ).order_by(user_table.c.name)\n",
    ")\n",
    "\n",
    "with engine.connect() as conn:\n",
    "    for row in conn.execute(stmt):\n",
    "        print(f\"{row.p} - {row.name}\")"
   ]
  },
  {
   "cell_type": "markdown",
   "id": "66b59bec",
   "metadata": {},
   "source": [
    "#### WHERE从句"
   ]
  },
  {
   "cell_type": "markdown",
   "id": "3b2aa573",
   "metadata": {},
   "source": [
    "有好几种方式可以定义where从句："
   ]
  },
  {
   "cell_type": "code",
   "execution_count": 12,
   "id": "c42fd621",
   "metadata": {},
   "outputs": [
    {
     "name": "stdout",
     "output_type": "stream",
     "text": [
      "SELECT address.email_address \n",
      "FROM address, user_account \n",
      "WHERE user_account.name = :name_1 AND address.user_id = user_account.id\n"
     ]
    }
   ],
   "source": [
    "# 链式，只能是and关系\n",
    "print(\n",
    "    select(address_table.c.email_address).\n",
    "    where(user_table.c.name == 'squidward').\n",
    "    where(address_table.c.user_id == user_table.c.id)\n",
    ")"
   ]
  },
  {
   "cell_type": "code",
   "execution_count": 29,
   "id": "3a3e013e",
   "metadata": {},
   "outputs": [
    {
     "name": "stdout",
     "output_type": "stream",
     "text": [
      "SELECT address.email_address \n",
      "FROM address, user_account \n",
      "WHERE user_account.name = :name_1 AND address.user_id = user_account.id\n"
     ]
    }
   ],
   "source": [
    "# 多个表达式做参数，也只能是and关系\n",
    "print(\n",
    "    select(address_table.c.email_address).\n",
    "    where(\n",
    "         user_table.c.name == 'squidward',\n",
    "         address_table.c.user_id == user_table.c.id\n",
    "    )\n",
    ")"
   ]
  },
  {
   "cell_type": "code",
   "execution_count": 18,
   "id": "40e2e4e8",
   "metadata": {},
   "outputs": [
    {
     "name": "stdout",
     "output_type": "stream",
     "text": [
      "SELECT address.email_address \n",
      "FROM address, user_account \n",
      "WHERE (user_account.name = :name_1 OR user_account.name = :name_2) AND address.user_id = user_account.id\n"
     ]
    }
   ],
   "source": [
    "# 复杂的逻辑关系，使用and_和or_方法\n",
    "from sqlalchemy import and_, or_\n",
    "print(\n",
    "    select(Address.email_address).\n",
    "    where(\n",
    "        and_(\n",
    "            or_(User.name == 'squidward', User.name == 'sandy'),\n",
    "            Address.user_id == User.id\n",
    "        )\n",
    "    )\n",
    ")"
   ]
  },
  {
   "cell_type": "markdown",
   "id": "4c6826b4",
   "metadata": {},
   "source": [
    "如果仅仅只是相等关系，有一个快捷方法`filter_by`，注意`filter_by`接受的是关键字参数而不是表达式："
   ]
  },
  {
   "cell_type": "code",
   "execution_count": 16,
   "id": "9fdd6177",
   "metadata": {},
   "outputs": [
    {
     "name": "stdout",
     "output_type": "stream",
     "text": [
      "SELECT user_account.id, user_account.name, user_account.fullname \n",
      "FROM user_account \n",
      "WHERE user_account.name = :name_1 AND user_account.fullname = :fullname_1\n"
     ]
    }
   ],
   "source": [
    "print(\n",
    "    select(User).filter_by(name='spongebob', fullname='Spongebob Squarepants')\n",
    ")"
   ]
  },
  {
   "cell_type": "markdown",
   "id": "4035d62d",
   "metadata": {},
   "source": [
    "#### 显式FROM从句和JOINS"
   ]
  },
  {
   "cell_type": "markdown",
   "id": "0d713c09",
   "metadata": {},
   "source": [
    "通常情况下，不需要显式书写FROM从句，sqlalchemy会根据COLUMN的内容自动推断："
   ]
  },
  {
   "cell_type": "code",
   "execution_count": 30,
   "id": "18219ce8",
   "metadata": {},
   "outputs": [
    {
     "name": "stdout",
     "output_type": "stream",
     "text": [
      "SELECT user_account.name, address.email_address \n",
      "FROM user_account, address\n"
     ]
    }
   ],
   "source": [
    "print(select(user_table.c.name, address_table.c.email_address))"
   ]
  },
  {
   "cell_type": "markdown",
   "id": "7eca1360",
   "metadata": {},
   "source": [
    "但如果是JOIN从句，需要显式的指定："
   ]
  },
  {
   "cell_type": "code",
   "execution_count": 31,
   "id": "ef056af0",
   "metadata": {},
   "outputs": [
    {
     "name": "stdout",
     "output_type": "stream",
     "text": [
      "SELECT user_account.name, address.email_address \n",
      "FROM user_account JOIN address ON user_account.id = address.user_id\n"
     ]
    }
   ],
   "source": [
    "print(\n",
    "    select(user_table.c.name, address_table.c.email_address).\n",
    "    join_from(user_table, address_table)\n",
    ")"
   ]
  },
  {
   "cell_type": "markdown",
   "id": "5dc0eb12",
   "metadata": {},
   "source": [
    "`join_from`明确指定了左表和右表，也可以使用`join`方法，只需要指定右表，左表会自动推断出来："
   ]
  },
  {
   "cell_type": "code",
   "execution_count": 32,
   "id": "5562417a",
   "metadata": {},
   "outputs": [
    {
     "name": "stdout",
     "output_type": "stream",
     "text": [
      "SELECT user_account.name, address.email_address \n",
      "FROM user_account JOIN address ON user_account.id = address.user_id\n"
     ]
    }
   ],
   "source": [
    "print(\n",
    "    select(user_table.c.name, address_table.c.email_address).\n",
    "    join(address_table)\n",
    ")"
   ]
  },
  {
   "cell_type": "markdown",
   "id": "10ee9e7e",
   "metadata": {},
   "source": [
    "注意，因为有外键约束，所以ON从句此时也是自动推断出来的。\n",
    "\n",
    "除此之外，还有一些情况需要我们显式指定FROM从句，此时可以使用`select_from`方法，比如:"
   ]
  },
  {
   "cell_type": "code",
   "execution_count": 35,
   "id": "77cb8d0f",
   "metadata": {},
   "outputs": [
    {
     "name": "stdout",
     "output_type": "stream",
     "text": [
      "SELECT count(:count_2) AS count_1 \n",
      "FROM user_account\n"
     ]
    }
   ],
   "source": [
    "from sqlalchemy import func\n",
    "print (\n",
    "    select(func.count('*')).select_from(user_table)\n",
    ")"
   ]
  },
  {
   "cell_type": "markdown",
   "id": "84ac1a09",
   "metadata": {},
   "source": [
    "##### 设置ON从句"
   ]
  },
  {
   "cell_type": "markdown",
   "id": "607b6628",
   "metadata": {},
   "source": [
    "如果两个表之间没有外键约束或者有多个约束，则需要明确的指定约束条件，和WHERE一样，只需要把表达式作为第二个参数传入`join`或者`join_from`即可："
   ]
  },
  {
   "cell_type": "code",
   "execution_count": 61,
   "id": "473cb7c0",
   "metadata": {},
   "outputs": [
    {
     "name": "stdout",
     "output_type": "stream",
     "text": [
      "SELECT address.email_address \n",
      "FROM user_account JOIN address ON user_account.id = address.user_id\n"
     ]
    }
   ],
   "source": [
    "print(\n",
    "    select(address_table.c.email_address).\n",
    "    select_from(user_table).  # 可以省略，会自动推断\n",
    "    join(address_table, user_table.c.id == address_table.c.user_id)\n",
    ")"
   ]
  },
  {
   "cell_type": "markdown",
   "id": "112ddb3a",
   "metadata": {},
   "source": [
    "##### OUTER和FULL join"
   ]
  },
  {
   "cell_type": "markdown",
   "id": "a5fd36e7",
   "metadata": {},
   "source": [
    "通过join的参数来设置outer join和full join，sqlalchemy只有left join，没有right join，调换两个表的位置即可："
   ]
  },
  {
   "cell_type": "code",
   "execution_count": 46,
   "id": "08044247",
   "metadata": {},
   "outputs": [
    {
     "name": "stdout",
     "output_type": "stream",
     "text": [
      "SELECT user_account.id, user_account.name, user_account.fullname \n",
      "FROM user_account LEFT OUTER JOIN address ON user_account.id = address.user_id\n"
     ]
    }
   ],
   "source": [
    "print(\n",
    "    select(user_table).join(address_table, isouter=True)\n",
    ")"
   ]
  },
  {
   "cell_type": "code",
   "execution_count": 48,
   "id": "36a1bae0",
   "metadata": {},
   "outputs": [
    {
     "name": "stdout",
     "output_type": "stream",
     "text": [
      "SELECT user_account.id, user_account.name, user_account.fullname \n",
      "FROM user_account FULL OUTER JOIN address ON user_account.id = address.user_id\n"
     ]
    }
   ],
   "source": [
    "print(\n",
    "    select(user_table).join(address_table, full=True)\n",
    ")"
   ]
  },
  {
   "cell_type": "markdown",
   "id": "1f4b1993",
   "metadata": {},
   "source": [
    "默认都是`False`，渲染出来就是普通的join，left join就是`isouter`为`True`,left outer join就是left join。"
   ]
  },
  {
   "cell_type": "markdown",
   "id": "0d371e10",
   "metadata": {},
   "source": [
    "#### ORDER BY, GROUP BY, HAVING"
   ]
  },
  {
   "cell_type": "markdown",
   "id": "7581ac5a",
   "metadata": {},
   "source": [
    "##### orderby"
   ]
  },
  {
   "cell_type": "markdown",
   "id": "368945c9",
   "metadata": {},
   "source": [
    "order by直接调用select对象的order_by方法即可，参数为列对象，调用列对象的`asc`或者`desc`方法决定升序还是降序，可以传入多个参数："
   ]
  },
  {
   "cell_type": "code",
   "execution_count": 52,
   "id": "cf0d7c54",
   "metadata": {},
   "outputs": [
    {
     "name": "stdout",
     "output_type": "stream",
     "text": [
      "SELECT user_account.id, user_account.name, user_account.fullname \n",
      "FROM user_account ORDER BY user_account.name DESC, user_account.id\n"
     ]
    }
   ],
   "source": [
    "print(select(user_table).order_by(user_table.c.name.desc())"
   ]
  },
  {
   "cell_type": "markdown",
   "id": "22726c75",
   "metadata": {},
   "source": [
    "##### 聚合函数和GROUP BY/HAVING"
   ]
  },
  {
   "cell_type": "markdown",
   "id": "7b0eb02b",
   "metadata": {},
   "source": [
    "groupby和having没什么好说的，就是having还没有太弄懂，后期补充："
   ]
  },
  {
   "cell_type": "code",
   "execution_count": 57,
   "id": "4a5ec980",
   "metadata": {},
   "outputs": [
    {
     "name": "stdout",
     "output_type": "stream",
     "text": [
      "SELECT user_account.name, count(address.id) AS count \n",
      "FROM user_account JOIN address ON user_account.id = address.user_id GROUP BY user_account.name \n",
      "HAVING count(address.id) > :count_1\n",
      "[]\n"
     ]
    }
   ],
   "source": [
    "with engine.connect() as conn:\n",
    "    stmt = select(User.name,\n",
    "                  func.count(\n",
    "                      Address.id).label(\"count\")).join(Address).group_by(\n",
    "                          User.name).having(func.count(Address.id) > 1)\n",
    "    print(stmt)\n",
    "    result = conn.execute(stmt)\n",
    "    print(result.all())"
   ]
  },
  {
   "cell_type": "markdown",
   "id": "bd2553a9",
   "metadata": {},
   "source": [
    "##### order或者group从句中引用标签"
   ]
  },
  {
   "cell_type": "markdown",
   "id": "67fa3d39",
   "metadata": {},
   "source": [
    "如果为`count`结果添加了标签，groupby或者order中引用的话，可以直接使用字符串引用，降序的话可使用`desc`函数："
   ]
  },
  {
   "cell_type": "code",
   "execution_count": 69,
   "id": "c6014085",
   "metadata": {},
   "outputs": [
    {
     "name": "stdout",
     "output_type": "stream",
     "text": [
      "SELECT address.user_id, count(address.id) AS num_addresses \n",
      "FROM address GROUP BY address.user_id ORDER BY address.user_id, num_addresses DESC\n"
     ]
    }
   ],
   "source": [
    "from sqlalchemy import func, desc\n",
    "stmt = select(\n",
    "        Address.user_id,\n",
    "        func.count(Address.id).label('num_addresses')).\\\n",
    "        group_by(\"user_id\").order_by(\"user_id\", desc(\"num_addresses\"))\n",
    "print(stmt)"
   ]
  },
  {
   "cell_type": "markdown",
   "id": "276a4753",
   "metadata": {},
   "source": [
    "#### 使用别名"
   ]
  },
  {
   "cell_type": "markdown",
   "id": "94c9863f",
   "metadata": {},
   "source": [
    "有时候要给整个表起别名，比如自己和自己join，如果是core方式，直接调用table对象的`alias`方法："
   ]
  },
  {
   "cell_type": "code",
   "execution_count": 70,
   "id": "ec3730a5",
   "metadata": {},
   "outputs": [
    {
     "name": "stdout",
     "output_type": "stream",
     "text": [
      "SELECT user_account_1.name, user_account_2.name AS name_1 \n",
      "FROM user_account AS user_account_1 JOIN user_account AS user_account_2 ON user_account_1.id > user_account_2.id\n"
     ]
    }
   ],
   "source": [
    "user_alias_1 = user_table.alias()\n",
    "user_alias_2 = user_table.alias()\n",
    "print(\n",
    "    select(user_alias_1.c.name, user_alias_2.c.name).\n",
    "    join_from(user_alias_1, user_alias_2, user_alias_1.c.id > user_alias_2.c.id)\n",
    ")"
   ]
  },
  {
   "cell_type": "markdown",
   "id": "cd047bfb",
   "metadata": {},
   "source": [
    "##### ORM实体对象的别名"
   ]
  },
  {
   "cell_type": "markdown",
   "id": "8009c0e0",
   "metadata": {},
   "source": [
    "orm的话，直接调用sqlalchemy.orm的`alias`方法："
   ]
  },
  {
   "cell_type": "code",
   "execution_count": 71,
   "id": "dd7bb544",
   "metadata": {},
   "outputs": [
    {
     "name": "stdout",
     "output_type": "stream",
     "text": [
      "SELECT user_account.id, user_account.name, user_account.fullname \n",
      "FROM user_account JOIN address AS address_1 ON user_account.id = address_1.user_id JOIN address AS address_2 ON user_account.id = address_2.user_id \n",
      "WHERE address_1.email_address = :email_address_1 AND address_2.email_address = :email_address_2\n"
     ]
    }
   ],
   "source": [
    "from sqlalchemy.orm import aliased\n",
    "address_alias_1 = aliased(Address)\n",
    "address_alias_2 = aliased(Address)\n",
    "print(\n",
    "    select(User).\n",
    "    join_from(User, address_alias_1).\n",
    "    where(address_alias_1.email_address == 'patrick@aol.com').\n",
    "    join_from(User, address_alias_2).\n",
    "    where(address_alias_2.email_address == 'patrick@gmail.com')\n",
    ")"
   ]
  },
  {
   "cell_type": "markdown",
   "id": "f10c159b",
   "metadata": {},
   "source": [
    "#### 子查询和CTEs（公共表表达式）"
   ]
  },
  {
   "cell_type": "markdown",
   "id": "caf43bd0",
   "metadata": {},
   "source": [
    "子查询的使用的套路是，先调用select对象的`subquery`或者`cte`方法定义一个字查询或者cte，然后就可以在外层select中使用了："
   ]
  },
  {
   "cell_type": "code",
   "execution_count": 72,
   "id": "ac9cc2ab",
   "metadata": {},
   "outputs": [],
   "source": [
    "subq = select(\n",
    "    func.count(address_table.c.id).label(\"count\"),\n",
    "    address_table.c.user_id\n",
    ").group_by(address_table.c.user_id).subquery()"
   ]
  },
  {
   "cell_type": "code",
   "execution_count": 73,
   "id": "f88fb7b8",
   "metadata": {},
   "outputs": [
    {
     "name": "stdout",
     "output_type": "stream",
     "text": [
      "SELECT anon_1.user_id, anon_1.count \n",
      "FROM (SELECT count(address.id) AS count, address.user_id AS user_id \n",
      "FROM address GROUP BY address.user_id) AS anon_1\n"
     ]
    }
   ],
   "source": [
    "print(select(subq.c.user_id, subq.c.count))"
   ]
  },
  {
   "cell_type": "markdown",
   "id": "d2fb3942",
   "metadata": {},
   "source": [
    "可以视子查询为一个表，其列名根据子查询的select从句推断得出。"
   ]
  },
  {
   "cell_type": "markdown",
   "id": "705b5a5d",
   "metadata": {},
   "source": [
    "##### 公共表表达式（CTEs）"
   ]
  },
  {
   "cell_type": "markdown",
   "id": "02c5ea40",
   "metadata": {},
   "source": [
    "cte完全可以视为和子查询一样的东西，但是渲染出来的sql语句有很大不同，cte使用的是with从句："
   ]
  },
  {
   "cell_type": "code",
   "execution_count": 76,
   "id": "bd0fe70a",
   "metadata": {},
   "outputs": [],
   "source": [
    "subq = select(\n",
    "    func.count(address_table.c.id).label(\"count\"),\n",
    "    address_table.c.user_id\n",
    ").group_by(address_table.c.user_id).cte()"
   ]
  },
  {
   "cell_type": "code",
   "execution_count": 77,
   "id": "4c3a3946",
   "metadata": {},
   "outputs": [
    {
     "name": "stdout",
     "output_type": "stream",
     "text": [
      "SELECT count(address.id) AS count, address.user_id \n",
      "FROM address GROUP BY address.user_id\n"
     ]
    }
   ],
   "source": [
    "print(subq)"
   ]
  },
  {
   "cell_type": "code",
   "execution_count": 78,
   "id": "5c0ae3d6",
   "metadata": {},
   "outputs": [
    {
     "name": "stdout",
     "output_type": "stream",
     "text": [
      "WITH anon_1 AS \n",
      "(SELECT count(address.id) AS count, address.user_id AS user_id \n",
      "FROM address GROUP BY address.user_id)\n",
      " SELECT user_account.name, user_account.fullname, anon_1.count \n",
      "FROM user_account JOIN anon_1 ON user_account.id = anon_1.user_id\n"
     ]
    }
   ],
   "source": [
    "stmt = select(\n",
    "   user_table.c.name,\n",
    "   user_table.c.fullname,\n",
    "   subq.c.count\n",
    ").join_from(user_table, subq)\n",
    "\n",
    "print(stmt)"
   ]
  },
  {
   "cell_type": "markdown",
   "id": "3e941c8e",
   "metadata": {},
   "source": [
    "##### ORM实体子查询"
   ]
  },
  {
   "cell_type": "markdown",
   "id": "626204be",
   "metadata": {},
   "source": [
    "当子查询select的不是具体的列而直接是模型类时，需要使用`aliased`方法为其指定一个别名，且第一个参数需要是一个模型类："
   ]
  },
  {
   "cell_type": "code",
   "execution_count": 96,
   "id": "9acdfbd9",
   "metadata": {},
   "outputs": [],
   "source": [
    "subq = select(Address).where(~Address.email_address.like('%@aol.com')).subquery()\n",
    "address_subq = aliased(Address, subq)  # 为什么别名第一个参数需要是Attress类？\n",
    "stmt = select(User, address_subq).join_from(User, address_subq).order_by(User.id, address_subq.id)"
   ]
  },
  {
   "cell_type": "code",
   "execution_count": 98,
   "id": "03b362f5",
   "metadata": {},
   "outputs": [
    {
     "data": {
      "text/plain": [
       "['id', 'email_address', 'user_id']"
      ]
     },
     "execution_count": 98,
     "metadata": {},
     "output_type": "execute_result"
    }
   ],
   "source": [
    "subq.c.keys()"
   ]
  },
  {
   "cell_type": "markdown",
   "id": "6ac393e4",
   "metadata": {},
   "source": [
    "如上所述，`subquery()`返回一个带有FromClause.c集合的Subquery对象，可以在外围的Select()中引用它，但是不能把子查询对象当成模型类直接使用，比如："
   ]
  },
  {
   "cell_type": "code",
   "execution_count": 88,
   "id": "2d71029d",
   "metadata": {},
   "outputs": [
    {
     "name": "stdout",
     "output_type": "stream",
     "text": [
      "'CTE' object has no attribute 'id'\n"
     ]
    }
   ],
   "source": [
    "address_subq = aliased(subq)\n",
    "try:\n",
    "    stmt = select(User, address_subq).join_from(User, address_subq).order_by(User.id, address_subq.id)\n",
    "except Exception as e:\n",
    "    print(e)  # 不出意外报错了，别名对象没有id属性"
   ]
  },
  {
   "cell_type": "markdown",
   "id": "67a829a4",
   "metadata": {},
   "source": [
    "因此，在ORM中，我们操作的是模型类，别名既然只是另一个名字，显然它也需要对应一个orm实体。`aliased`的第一个参数就是指定这样一个orm实体，第二个参数指定子查询。整个过程可以这样理解，子查询代表一些行的集合，而这些行的集合对应一个orm模型，最后为这个模型起一个别名。"
   ]
  },
  {
   "cell_type": "markdown",
   "id": "e13b9b41",
   "metadata": {},
   "source": [
    "#### 标量和关联子查询"
   ]
  },
  {
   "cell_type": "markdown",
   "id": "7bdc670d",
   "metadata": {},
   "source": [
    "子查询平时用的不多，可以先看看下面这篇文章：\n",
    "- [sql子查询](https://blog.csdn.net/qq_27623337/article/details/52814235)\n",
    "\n",
    "关联子查询不是很好理解，当子查询在嵌入一个复杂的查询中，如下："
   ]
  },
  {
   "cell_type": "code",
   "execution_count": 41,
   "id": "d48551ec",
   "metadata": {},
   "outputs": [
    {
     "name": "stdout",
     "output_type": "stream",
     "text": [
      "(SELECT count(address.id) AS count_1 \n",
      "FROM address, user_account \n",
      "WHERE user_account.id = address.user_id)\n"
     ]
    }
   ],
   "source": [
    "subq = select(func.count(address_table.c.id)).where(user_table.c.id == address_table.c.user_id).scalar_subquery()\n",
    "print(subq)"
   ]
  },
  {
   "cell_type": "code",
   "execution_count": 42,
   "id": "e56b4db6",
   "metadata": {},
   "outputs": [
    {
     "name": "stdout",
     "output_type": "stream",
     "text": [
      "Select statement '<sqlalchemy.sql.selectable.Select object at 0x00000222E1D32130>' returned no FROM clauses due to auto-correlation; specify correlate(<tables>) to control correlation manually.\n"
     ]
    }
   ],
   "source": [
    "stmt = select(\n",
    "    user_table.c.name,\n",
    "    address_table.c.email_address,\n",
    "    subq.label(\"address_count\")\n",
    ").join_from(user_table, address_table).order_by(user_table.c.id, address_table.c.id)\n",
    "\n",
    "try:\n",
    "    print(stmt)\n",
    "except Exception as e:\n",
    "    print(e)"
   ]
  },
  {
   "cell_type": "markdown",
   "id": "0d453023",
   "metadata": {},
   "source": [
    "此时会报错，提示自动关联没法生成子查询的from从句，即`FROM address, user_account`，首先看没有子查询时生成的sql语句："
   ]
  },
  {
   "cell_type": "code",
   "execution_count": 43,
   "id": "305b340a",
   "metadata": {},
   "outputs": [
    {
     "name": "stdout",
     "output_type": "stream",
     "text": [
      "SELECT user_account.name, address.email_address \n",
      "FROM user_account JOIN address ON user_account.id = address.user_id ORDER BY user_account.id, address.id\n"
     ]
    }
   ],
   "source": [
    "stmt = select(\n",
    "    user_table.c.name,\n",
    "    address_table.c.email_address,\n",
    ").join_from(user_table, address_table).order_by(user_table.c.id, address_table.c.id)\n",
    "\n",
    "print(stmt)"
   ]
  },
  {
   "cell_type": "markdown",
   "id": "d005091f",
   "metadata": {},
   "source": [
    "此时，主查询语句from从句包含表user_acount，同时join从句包含表address。所谓的`correlate`就是指明子查询from从句里哪一张表关联主查询的表，比如："
   ]
  },
  {
   "cell_type": "code",
   "execution_count": 89,
   "id": "bfa023da",
   "metadata": {},
   "outputs": [],
   "source": [
    "subq = select(func.count(address_table.c.id)).where(\n",
    "    user_table.c.id == address_table.c.user_id).scalar_subquery().correlate(\n",
    "        user_table)"
   ]
  },
  {
   "cell_type": "code",
   "execution_count": 50,
   "id": "ad764873",
   "metadata": {},
   "outputs": [
    {
     "name": "stdout",
     "output_type": "stream",
     "text": [
      "SELECT user_account.name, address.email_address, (SELECT count(address.id) AS count_1 \n",
      "FROM address \n",
      "WHERE user_account.id = address.user_id) AS address_count \n",
      "FROM user_account JOIN address ON user_account.id = address.user_id ORDER BY user_account.id, address.id\n"
     ]
    }
   ],
   "source": [
    "stmt = select(\n",
    "    user_table.c.name,\n",
    "    address_table.c.email_address,\n",
    "    subq.label(\"address_count\")\n",
    ").join_from(user_table, address_table).order_by(user_table.c.id, address_table.c.id)\n",
    "print(stmt)"
   ]
  },
  {
   "cell_type": "markdown",
   "id": "a08a0542",
   "metadata": {},
   "source": [
    "user_table关联主查询的user_table表，则子查询里面只剩下address_table，可以关联多张表："
   ]
  },
  {
   "cell_type": "code",
   "execution_count": 51,
   "id": "d2af220e",
   "metadata": {},
   "outputs": [],
   "source": [
    "subq = select(func.count(address_table.c.id)).where(\n",
    "    user_table.c.id == address_table.c.user_id).scalar_subquery().correlate(\n",
    "        user_table, address_table)"
   ]
  },
  {
   "cell_type": "code",
   "execution_count": 53,
   "id": "6b32cb3c",
   "metadata": {},
   "outputs": [
    {
     "name": "stdout",
     "output_type": "stream",
     "text": [
      "SELECT user_account.name, address.email_address, (SELECT count(address.id) AS count_1 \n",
      "WHERE user_account.id = address.user_id) AS address_count \n",
      "FROM user_account JOIN address ON user_account.id = address.user_id ORDER BY user_account.id, address.id\n"
     ]
    }
   ],
   "source": [
    "stmt = select(\n",
    "    user_table.c.name,\n",
    "    address_table.c.email_address,\n",
    "    subq.label(\"address_count\")\n",
    ").join_from(user_table, address_table).order_by(user_table.c.id, address_table.c.id)\n",
    "print(stmt)"
   ]
  },
  {
   "cell_type": "markdown",
   "id": "4c060295",
   "metadata": {},
   "source": [
    "此时子查询甚至不需要from从句，但是这种情况下，搜索结果是否正确未知，子查询关联还是没有理解透彻，为什么from join时，无法自动关联呢？要彻底理解，可能还涉及到sql语句执行顺序，这里有一些可供参考：\n",
    "- [The 6 Steps of a SQL Select Statement Process](https://towardsdatascience.com/the-6-steps-of-a-sql-select-statement-process-b3696a49a642)\n",
    "- [SQL Subqueries](https://www.w3resource.com/sql/subqueries/understanding-sql-subqueries.php)"
   ]
  },
  {
   "cell_type": "markdown",
   "id": "6c9247c7",
   "metadata": {},
   "source": [
    "#### UNION、UNION ALL等集合操作"
   ]
  },
  {
   "cell_type": "code",
   "execution_count": 79,
   "id": "af01f58c",
   "metadata": {},
   "outputs": [
    {
     "name": "stdout",
     "output_type": "stream",
     "text": [
      "[(2, 'sandy', 'Sandy Cheeks'), (1, 'spongebob', 'spongebob Squarepants')]\n"
     ]
    }
   ],
   "source": [
    "from sqlalchemy import union_all\n",
    "stmt1 = select(user_table).where(user_table.c.name == 'sandy')\n",
    "stmt2 = select(user_table).where(user_table.c.name == 'spongebob')\n",
    "u = union_all(stmt1, stmt2)\n",
    "with engine.connect() as conn:\n",
    "    result = conn.execute(u)\n",
    "    print(result.all())"
   ]
  },
  {
   "cell_type": "markdown",
   "id": "4f50657c",
   "metadata": {},
   "source": [
    "union返回的是一个CompoundSelect复合select对象，复合select对象仍然可以作为子查询："
   ]
  },
  {
   "cell_type": "code",
   "execution_count": 93,
   "id": "6b0d914f",
   "metadata": {},
   "outputs": [
    {
     "name": "stdout",
     "output_type": "stream",
     "text": [
      "[('sandy', 'sandy@aol.com'), ('spongebob', 'spongebob@aol.com')]\n"
     ]
    }
   ],
   "source": [
    "u_subq = u.subquery()\n",
    "stmt = (\n",
    "    select(u_subq.c.name, address_table.c.email_address).\n",
    "    join_from(address_table, u_subq).\n",
    "    order_by(u_subq.c.name, address_table.c.email_address)\n",
    ")\n",
    "with engine.connect() as conn:\n",
    "    result = conn.execute(stmt)\n",
    "    print(result.all())"
   ]
  },
  {
   "cell_type": "markdown",
   "id": "c585c1e9",
   "metadata": {},
   "source": [
    "##### 从union中选择orm实体"
   ]
  },
  {
   "cell_type": "markdown",
   "id": "569cfbef",
   "metadata": {},
   "source": [
    "复合select对象有个问题，直接execute的时候，返回的是元组而不是orm实体："
   ]
  },
  {
   "cell_type": "code",
   "execution_count": 11,
   "id": "b8c71ec5",
   "metadata": {},
   "outputs": [
    {
     "name": "stdout",
     "output_type": "stream",
     "text": [
      "(2, 'sandy', 'Sandy Cheeks')\n",
      "(1, 'spongebob', 'spongebob Squarepants')\n"
     ]
    }
   ],
   "source": [
    "stmt1 = select(User).where(User.name == 'sandy')\n",
    "stmt2 = select(User).where(User.name == 'spongebob')\n",
    "u = union_all(stmt1, stmt2)\n",
    "\n",
    "with Session(engine) as session:\n",
    "    for obj in session.execute(u):\n",
    "        print(obj)"
   ]
  },
  {
   "cell_type": "markdown",
   "id": "3c7e467f",
   "metadata": {},
   "source": [
    "如果要返回实体，需要多做一步："
   ]
  },
  {
   "cell_type": "code",
   "execution_count": 14,
   "id": "06953711",
   "metadata": {},
   "outputs": [
    {
     "name": "stdout",
     "output_type": "stream",
     "text": [
      "User(id=2, name='sandy', fullname='Sandy Cheeks')\n",
      "User(id=1, name='spongebob', fullname='spongebob Squarepants')\n"
     ]
    }
   ],
   "source": [
    "orm_stmt = select(User).from_statement(u)\n",
    "\n",
    "with Session(engine) as session:\n",
    "    for obj in session.execute(orm_stmt).scalars():\n",
    "        print(obj)"
   ]
  },
  {
   "cell_type": "markdown",
   "id": "6cff0bb4",
   "metadata": {},
   "source": [
    "还有一种方法，就是把复合select对象当作子查询，就可以直接使用`aliased`方法："
   ]
  },
  {
   "cell_type": "code",
   "execution_count": 12,
   "id": "bb12364e",
   "metadata": {},
   "outputs": [
    {
     "name": "stdout",
     "output_type": "stream",
     "text": [
      "User(id=1, name='spongebob', fullname='spongebob Squarepants')\n",
      "User(id=2, name='sandy', fullname='Sandy Cheeks')\n"
     ]
    }
   ],
   "source": [
    "user_alias = aliased(User, u.subquery())\n",
    "orm_stmt = select(user_alias).order_by(user_alias.id)\n",
    "\n",
    "with Session(engine) as session:\n",
    "    for obj in session.execute(orm_stmt).scalars():\n",
    "        print(obj)"
   ]
  },
  {
   "cell_type": "markdown",
   "id": "fc0565f4",
   "metadata": {},
   "source": [
    "#### EXSITS子查询"
   ]
  },
  {
   "cell_type": "markdown",
   "id": "08561f60",
   "metadata": {},
   "source": [
    "`exists`直接接子查询对象后，注意没有`not_exists`方法，直接使用`~`对子查询取反即可："
   ]
  },
  {
   "cell_type": "code",
   "execution_count": 17,
   "id": "a6be34ee",
   "metadata": {},
   "outputs": [
    {
     "name": "stdout",
     "output_type": "stream",
     "text": [
      "[]\n"
     ]
    }
   ],
   "source": [
    "subq = (\n",
    "    select(address_table.c.id).\n",
    "    where(user_table.c.id == address_table.c.user_id)\n",
    ").exists()\n",
    "\n",
    "with engine.connect() as conn:\n",
    "    result = conn.execute(\n",
    "        select(user_table.c.name).where(~subq)\n",
    "    )\n",
    "    print(result.all())"
   ]
  },
  {
   "cell_type": "markdown",
   "id": "35e58f54",
   "metadata": {},
   "source": [
    "#### SQL函数"
   ]
  },
  {
   "cell_type": "markdown",
   "id": "32f2b5b9",
   "metadata": {},
   "source": [
    "SQL函数有很多内容平时用的比较少，官方教程不是很理解，留待以后补充。\n",
    "\n",
    "- [官方文档](https://docs.sqlalchemy.org/en/14/tutorial/data_select.html#working-with-sql-functions)"
   ]
  },
  {
   "cell_type": "markdown",
   "id": "c2adb013",
   "metadata": {},
   "source": [
    "### 使用core更新或删除行"
   ]
  },
  {
   "cell_type": "markdown",
   "id": "3b78d9ed",
   "metadata": {},
   "source": [
    "#### `update()`SQL表达式"
   ]
  },
  {
   "cell_type": "markdown",
   "id": "13e81173",
   "metadata": {},
   "source": [
    "通用结构是`update().where().values()`，注意values接收的是关键字参数，形参直接是列名:"
   ]
  },
  {
   "cell_type": "code",
   "execution_count": 31,
   "id": "59c31b02",
   "metadata": {},
   "outputs": [
    {
     "name": "stdout",
     "output_type": "stream",
     "text": [
      "UPDATE user_account SET fullname=:fullname WHERE user_account.name = :name_1\n"
     ]
    }
   ],
   "source": [
    "from sqlalchemy import update\n",
    "stmt = (\n",
    "    update(user_table).where(user_table.c.name == 'patrick').\n",
    "    values(fullname='Patrick the Star')\n",
    ")\n",
    "print(stmt)"
   ]
  },
  {
   "cell_type": "markdown",
   "id": "70c2535b",
   "metadata": {},
   "source": [
    "批量更新可能会用到`bindparam`方法："
   ]
  },
  {
   "cell_type": "code",
   "execution_count": 33,
   "id": "660aaad8",
   "metadata": {},
   "outputs": [],
   "source": [
    "from sqlalchemy import bindparam\n",
    "\n",
    "stmt = (update(user_table).where(\n",
    "    user_table.c.name == bindparam('oldname')).values(\n",
    "        name=bindparam('newname')))\n",
    "with engine.begin() as conn:\n",
    "    conn.execute(stmt, [\n",
    "        {\n",
    "            'oldname': 'jack',\n",
    "            'newname': 'ed'\n",
    "        },\n",
    "        {\n",
    "            'oldname': 'wendy',\n",
    "            'newname': 'mary'\n",
    "        },\n",
    "        {\n",
    "            'oldname': 'jim',\n",
    "            'newname': 'jake'\n",
    "        },\n",
    "    ])"
   ]
  },
  {
   "cell_type": "markdown",
   "id": "23ae9680",
   "metadata": {},
   "source": [
    "##### 关联更新"
   ]
  },
  {
   "cell_type": "markdown",
   "id": "8e6e70e5",
   "metadata": {},
   "source": [
    "update可以使用子查询，注意此时使用`scalar_subquery`而不是`subquery`创建子查询，`scalar_subquery`最终返回的是标量而不是集合："
   ]
  },
  {
   "cell_type": "code",
   "execution_count": 36,
   "id": "2ca9960b",
   "metadata": {},
   "outputs": [
    {
     "name": "stdout",
     "output_type": "stream",
     "text": [
      "UPDATE user_account SET fullname=(SELECT address.email_address \n",
      "FROM address \n",
      "WHERE address.user_id = user_account.id ORDER BY address.id\n",
      " LIMIT :param_1)\n"
     ]
    }
   ],
   "source": [
    "scalar_subq = (\n",
    "  select(address_table.c.email_address).\n",
    "  where(address_table.c.user_id == user_table.c.id).\n",
    "  order_by(address_table.c.id).\n",
    "  limit(1).\n",
    "  scalar_subquery()\n",
    ")\n",
    "update_stmt = update(user_table).values(fullname=scalar_subq)\n",
    "print(update_stmt)"
   ]
  },
  {
   "cell_type": "markdown",
   "id": "493467c0",
   "metadata": {},
   "source": [
    "##### UPDATE...FROM"
   ]
  },
  {
   "cell_type": "markdown",
   "id": "e4088e68",
   "metadata": {},
   "source": [
    "还有一种MySQL特定的语法可以更新多个表，此时需要在values中包含其它的表："
   ]
  },
  {
   "cell_type": "code",
   "execution_count": 37,
   "id": "f65916c6",
   "metadata": {},
   "outputs": [
    {
     "name": "stdout",
     "output_type": "stream",
     "text": [
      "UPDATE user_account, address SET address.email_address=%s, user_account.fullname=%s WHERE user_account.id = address.user_id AND address.email_address = %s\n"
     ]
    }
   ],
   "source": [
    "update_stmt = (\n",
    "   update(user_table).\n",
    "   where(user_table.c.id == address_table.c.user_id).\n",
    "   where(address_table.c.email_address == 'patrick@aol.com').\n",
    "   values(\n",
    "       {\n",
    "           user_table.c.fullname: \"Pat\",\n",
    "           address_table.c.email_address: \"pat@aol.com\"\n",
    "       }\n",
    "   )\n",
    " )\n",
    "\n",
    "from sqlalchemy.dialects import mysql\n",
    "print(update_stmt.compile(dialect=mysql.dialect()))"
   ]
  },
  {
   "cell_type": "markdown",
   "id": "b17d55ba",
   "metadata": {},
   "source": [
    "注意和直接生成的sql的区别："
   ]
  },
  {
   "cell_type": "code",
   "execution_count": 38,
   "id": "3c91c5b5",
   "metadata": {},
   "outputs": [
    {
     "name": "stdout",
     "output_type": "stream",
     "text": [
      "UPDATE user_account SET email_address=:address_email_address, fullname=:fullname FROM address WHERE user_account.id = address.user_id AND address.email_address = :email_address_1\n"
     ]
    }
   ],
   "source": [
    "print(update_stmt)"
   ]
  },
  {
   "cell_type": "markdown",
   "id": "f3b415dd",
   "metadata": {},
   "source": [
    "##### 有序参数"
   ]
  },
  {
   "cell_type": "markdown",
   "id": "e370d33d",
   "metadata": {},
   "source": [
    "还有一个mysql独有的行为是参数的顺序会影响最终更新的值，因此可以使用`ordered_values`方法，它接收元组："
   ]
  },
  {
   "cell_type": "markdown",
   "id": "cb9ca32a",
   "metadata": {},
   "source": [
    "```python\n",
    "update_stmt = (\n",
    "    update(some_table).\n",
    "    ordered_values(\n",
    "        (some_table.c.y, 20),\n",
    "        (some_table.c.x, some_table.c.y + 10)\n",
    "    )\n",
    ")\n",
    "```"
   ]
  },
  {
   "cell_type": "markdown",
   "id": "830b9d66",
   "metadata": {},
   "source": [
    "#### `delete()`SQL表达式"
   ]
  },
  {
   "cell_type": "markdown",
   "id": "9c5407b7",
   "metadata": {},
   "source": [
    "mysql有特殊的语法可以删除多表，使用的是`USING`关键字："
   ]
  },
  {
   "cell_type": "code",
   "execution_count": 42,
   "id": "30b63682",
   "metadata": {},
   "outputs": [
    {
     "name": "stdout",
     "output_type": "stream",
     "text": [
      "DELETE FROM user_account USING user_account, address WHERE user_account.id = address.user_id AND address.email_address = %s\n"
     ]
    }
   ],
   "source": [
    "delete_stmt = (\n",
    "   delete(user_table).\n",
    "   where(user_table.c.id == address_table.c.user_id).\n",
    "   where(address_table.c.email_address == 'patrick@aol.com')\n",
    " )\n",
    "from sqlalchemy.dialects import mysql\n",
    "print(delete_stmt.compile(dialect=mysql.dialect()))"
   ]
  },
  {
   "cell_type": "markdown",
   "id": "fcf0d6ca",
   "metadata": {},
   "source": [
    "#### 获取UPDATE，DELETE受影响的行"
   ]
  },
  {
   "cell_type": "markdown",
   "id": "31939c8b",
   "metadata": {},
   "source": [
    "execute返回对象的rowcount属性表示受影响的行："
   ]
  },
  {
   "cell_type": "code",
   "execution_count": 43,
   "id": "71417433",
   "metadata": {},
   "outputs": [
    {
     "name": "stdout",
     "output_type": "stream",
     "text": [
      "1\n"
     ]
    }
   ],
   "source": [
    "with engine.begin() as conn:\n",
    "    result = conn.execute(\n",
    "        update(user_table).\n",
    "        values(fullname=\"Patrick McStar\").\n",
    "        where(user_table.c.name == 'patrick')\n",
    "    )\n",
    "    print(result.rowcount)"
   ]
  },
  {
   "cell_type": "markdown",
   "id": "1c947136",
   "metadata": {},
   "source": [
    "##### RETRUNING从句"
   ]
  },
  {
   "cell_type": "markdown",
   "id": "378bf8fb",
   "metadata": {},
   "source": [
    "和insert一样，update和delete支持returning从句，从满足WHERE从句的行中选择列，并返回一个可迭代对象："
   ]
  },
  {
   "cell_type": "code",
   "execution_count": 44,
   "id": "190daf32",
   "metadata": {},
   "outputs": [
    {
     "name": "stdout",
     "output_type": "stream",
     "text": [
      "UPDATE user_account SET fullname=:fullname WHERE user_account.name = :name_1 RETURNING user_account.id, user_account.name\n",
      "DELETE FROM user_account WHERE user_account.name = :name_1 RETURNING user_account.id, user_account.name\n"
     ]
    }
   ],
   "source": [
    "update_stmt = (\n",
    "    update(user_table).where(user_table.c.name == 'patrick').\n",
    "    values(fullname='Patrick the Star').\n",
    "    returning(user_table.c.id, user_table.c.name)\n",
    ")\n",
    "print(update_stmt)\n",
    "\n",
    "\n",
    "delete_stmt = (\n",
    "    delete(user_table).where(user_table.c.name == 'patrick').\n",
    "    returning(user_table.c.id, user_table.c.name)\n",
    ")\n",
    "print(delete_stmt)"
   ]
  },
  {
   "cell_type": "markdown",
   "id": "c30c0a32",
   "metadata": {},
   "source": [
    "## 使用ORM操作数据"
   ]
  },
  {
   "cell_type": "markdown",
   "id": "26d00b51",
   "metadata": {},
   "source": [
    "### 使用ORM插入行"
   ]
  },
  {
   "cell_type": "markdown",
   "id": "794b6c64",
   "metadata": {},
   "source": [
    "#### 类实例表示行"
   ]
  },
  {
   "cell_type": "code",
   "execution_count": 45,
   "id": "8ed3d027",
   "metadata": {},
   "outputs": [],
   "source": [
    "squidward = User(name=\"squidward\", fullname=\"Squidward Tentacles\")\n",
    "krabs = User(name=\"ehkrabs\", fullname=\"Eugene H. Krabs\")"
   ]
  },
  {
   "cell_type": "markdown",
   "id": "e87fde63",
   "metadata": {},
   "source": [
    "此时，主键id为`None`，实例并未写入数据库，此时的状态被称作transient："
   ]
  },
  {
   "cell_type": "code",
   "execution_count": 46,
   "id": "003850aa",
   "metadata": {},
   "outputs": [
    {
     "data": {
      "text/plain": [
       "User(id=None, name='squidward', fullname='Squidward Tentacles')"
      ]
     },
     "execution_count": 46,
     "metadata": {},
     "output_type": "execute_result"
    }
   ],
   "source": [
    "squidward"
   ]
  },
  {
   "cell_type": "markdown",
   "id": "e9bf77e8",
   "metadata": {},
   "source": [
    "#### 添加到session"
   ]
  },
  {
   "cell_type": "code",
   "execution_count": 9,
   "id": "8b3542d9",
   "metadata": {},
   "outputs": [],
   "source": [
    "session = Session(engine)"
   ]
  },
  {
   "cell_type": "markdown",
   "id": "5d503205",
   "metadata": {},
   "source": [
    "add以后，状态变为pending，此时仍然没有插入数据库："
   ]
  },
  {
   "cell_type": "code",
   "execution_count": 48,
   "id": "42592081",
   "metadata": {},
   "outputs": [],
   "source": [
    "session.add(squidward)\n",
    "session.add(krabs)"
   ]
  },
  {
   "cell_type": "markdown",
   "id": "694429f1",
   "metadata": {},
   "source": [
    "当处于pending状态，可以调用`session.new`属性，查看状态："
   ]
  },
  {
   "cell_type": "code",
   "execution_count": 49,
   "id": "43ee1185",
   "metadata": {},
   "outputs": [
    {
     "data": {
      "text/plain": [
       "IdentitySet([User(id=None, name='squidward', fullname='Squidward Tentacles'), User(id=None, name='ehkrabs', fullname='Eugene H. Krabs')])"
      ]
     },
     "execution_count": 49,
     "metadata": {},
     "output_type": "execute_result"
    }
   ],
   "source": [
    "session.new"
   ]
  },
  {
   "cell_type": "markdown",
   "id": "f63eafac",
   "metadata": {},
   "source": [
    "#### flush"
   ]
  },
  {
   "cell_type": "markdown",
   "id": "f119de4a",
   "metadata": {},
   "source": [
    "flush启动一个事务："
   ]
  },
  {
   "cell_type": "code",
   "execution_count": 50,
   "id": "55bf51a8",
   "metadata": {},
   "outputs": [],
   "source": [
    "session.flush()"
   ]
  },
  {
   "cell_type": "markdown",
   "id": "934b84c6",
   "metadata": {},
   "source": [
    "此时事务仍然保持开启状态，直到执行了`Session.commit()`, `Session.rollback()`, `Session.close()`等方法。注意，此时仍然未写入数据库，只是将数据发送到数据库的缓存，直到执行`commit`才会真正写入数据库，但是此时主键已经被分配。"
   ]
  },
  {
   "cell_type": "code",
   "execution_count": null,
   "id": "3f313554",
   "metadata": {},
   "outputs": [],
   "source": [
    "session.commit()"
   ]
  },
  {
   "cell_type": "markdown",
   "id": "8b4d1ad2",
   "metadata": {},
   "source": [
    "#### 自动生成的主键属性"
   ]
  },
  {
   "cell_type": "markdown",
   "id": "20f8bbbc",
   "metadata": {},
   "source": [
    "当行被插入(执行了flush之后)，此时实例的状态被称为persistent，实例会自动分配主键："
   ]
  },
  {
   "cell_type": "code",
   "execution_count": 52,
   "id": "d086a9ca",
   "metadata": {},
   "outputs": [
    {
     "data": {
      "text/plain": [
       "5"
      ]
     },
     "execution_count": 52,
     "metadata": {},
     "output_type": "execute_result"
    }
   ],
   "source": [
    "krabs.id"
   ]
  },
  {
   "cell_type": "markdown",
   "id": "7812cd46",
   "metadata": {},
   "source": [
    "注意，使用orm模式插入时，总是一行一行的插入，因为sqlite如果要获取主键，只能一次插入一行。如果创建实例时，我们提前分配了主键，sqlalchemy会进行优化，批量插入多行。有些数据库允许批量插入，并且能够返回每一行的主键。"
   ]
  },
  {
   "cell_type": "markdown",
   "id": "eaaa88ba",
   "metadata": {},
   "source": [
    "#### 标志映射"
   ]
  },
  {
   "cell_type": "markdown",
   "id": "ad938c20",
   "metadata": {},
   "source": [
    "所谓标志映射就是把主键、ORM实例以及数据库中的行关联对应起来，保存在内存中的一个映射。只要知道主键，可以使用`get`方法获取实例，替代`select`："
   ]
  },
  {
   "cell_type": "code",
   "execution_count": 63,
   "id": "6552a11a",
   "metadata": {},
   "outputs": [
    {
     "data": {
      "text/plain": [
       "User(id=5, name='ehkrabs', fullname='Eugene H. Krabs')"
      ]
     },
     "execution_count": 63,
     "metadata": {},
     "output_type": "execute_result"
    }
   ],
   "source": [
    "session.get(User, 5)"
   ]
  },
  {
   "cell_type": "markdown",
   "id": "e68fc7c9",
   "metadata": {},
   "source": [
    "### 更新ORM对象"
   ]
  },
  {
   "cell_type": "markdown",
   "id": "bd6069a6",
   "metadata": {},
   "source": [
    "更新orm对象有两种方式，一种是在分配了主键的orm实例上直接修改："
   ]
  },
  {
   "cell_type": "code",
   "execution_count": 248,
   "id": "4f21cddb",
   "metadata": {},
   "outputs": [
    {
     "data": {
      "text/plain": [
       "User(id=2, name='sandy', fullname='Sandy Cheeks')"
      ]
     },
     "execution_count": 248,
     "metadata": {},
     "output_type": "execute_result"
    }
   ],
   "source": [
    "sandy = session.execute(select(User).filter_by(name=\"sandy\")).scalar_one()\n",
    "sandy"
   ]
  },
  {
   "cell_type": "code",
   "execution_count": 249,
   "id": "86af73d2",
   "metadata": {},
   "outputs": [],
   "source": [
    "sandy.fullname = \"Sandy Squirrel\""
   ]
  },
  {
   "cell_type": "code",
   "execution_count": 250,
   "id": "5ad4a0ad",
   "metadata": {},
   "outputs": [
    {
     "data": {
      "text/plain": [
       "{'_sa_instance_state': <sqlalchemy.orm.state.InstanceState at 0x1fda9135a30>,\n",
       " 'name': 'sandy',\n",
       " 'id': 2,\n",
       " 'fullname': 'Sandy Squirrel'}"
      ]
     },
     "execution_count": 250,
     "metadata": {},
     "output_type": "execute_result"
    }
   ],
   "source": [
    "sandy.__dict__"
   ]
  },
  {
   "cell_type": "markdown",
   "id": "cc5a1693",
   "metadata": {},
   "source": [
    "修改以后的实例保存在session的dirty属性中，而不是new属性："
   ]
  },
  {
   "cell_type": "code",
   "execution_count": 244,
   "id": "15e1a9ee",
   "metadata": {},
   "outputs": [
    {
     "data": {
      "text/plain": [
       "IdentitySet([User(id=2, name='sandy', fullname='Sandy Squirrel')])"
      ]
     },
     "execution_count": 244,
     "metadata": {},
     "output_type": "execute_result"
    }
   ],
   "source": [
    "session.dirty"
   ]
  },
  {
   "cell_type": "code",
   "execution_count": 215,
   "id": "7d967bc6",
   "metadata": {},
   "outputs": [
    {
     "data": {
      "text/plain": [
       "True"
      ]
     },
     "execution_count": 215,
     "metadata": {},
     "output_type": "execute_result"
    }
   ],
   "source": [
    "sandy in session.dirty"
   ]
  },
  {
   "cell_type": "markdown",
   "id": "b7f5b257",
   "metadata": {},
   "source": [
    "当执行`flush`时，会写入数据库。但是sqlalchemy有自动刷新的机制，当接下来执行任何select语句，前面的所有更改都会自动flush。所以select获取的是更改后的实例："
   ]
  },
  {
   "cell_type": "code",
   "execution_count": 251,
   "id": "37748ade",
   "metadata": {},
   "outputs": [
    {
     "name": "stdout",
     "output_type": "stream",
     "text": [
      "Sandy Squirrel\n"
     ]
    }
   ],
   "source": [
    "sandy_fullname = session.execute(\n",
    "    select(User.fullname).where(User.id == 2)\n",
    ").scalar_one()\n",
    "\n",
    "\n",
    "print(sandy_fullname)"
   ]
  },
  {
   "cell_type": "markdown",
   "id": "65366374",
   "metadata": {},
   "source": [
    "注意，此时并未commit，数据库里实际的值是Sandy Cheeks而不是Sandy Squirrel。可见，select是从数据库缓存中获取值。此时，已经自动flush："
   ]
  },
  {
   "cell_type": "code",
   "execution_count": 217,
   "id": "03b2bd4f",
   "metadata": {},
   "outputs": [
    {
     "data": {
      "text/plain": [
       "False"
      ]
     },
     "execution_count": 217,
     "metadata": {},
     "output_type": "execute_result"
    }
   ],
   "source": [
    "sandy in session.dirty"
   ]
  },
  {
   "cell_type": "markdown",
   "id": "1e054dbb",
   "metadata": {},
   "source": [
    "#### UPDATE语句"
   ]
  },
  {
   "cell_type": "markdown",
   "id": "889384fe",
   "metadata": {},
   "source": [
    "orm还可以直接使用update语句，这种方式可以一次更新多行："
   ]
  },
  {
   "cell_type": "code",
   "execution_count": 218,
   "id": "0a557230",
   "metadata": {},
   "outputs": [
    {
     "data": {
      "text/plain": [
       "<sqlalchemy.engine.cursor.CursorResult at 0x1fdab64b8b0>"
      ]
     },
     "execution_count": 218,
     "metadata": {},
     "output_type": "execute_result"
    }
   ],
   "source": [
    "session.execute(\n",
    "    update(User).\n",
    "    where(User.name == \"sandy\").\n",
    "    values(fullname=\"Sandy Squirrel Extraordinaire\")\n",
    ")"
   ]
  },
  {
   "cell_type": "code",
   "execution_count": 219,
   "id": "873b2320",
   "metadata": {},
   "outputs": [
    {
     "data": {
      "text/plain": [
       "'Sandy Squirrel Extraordinaire'"
      ]
     },
     "execution_count": 219,
     "metadata": {},
     "output_type": "execute_result"
    }
   ],
   "source": [
    "sandy.fullname"
   ]
  },
  {
   "cell_type": "markdown",
   "id": "84160115",
   "metadata": {},
   "source": [
    "注意，此时仍然是flush，执行commit以后才会永久存储到数据库。"
   ]
  },
  {
   "cell_type": "markdown",
   "id": "1bfc00c3",
   "metadata": {},
   "source": [
    "### 删除ORM对象"
   ]
  },
  {
   "cell_type": "code",
   "execution_count": 220,
   "id": "6a86da5a",
   "metadata": {},
   "outputs": [],
   "source": [
    "patrick = session.get(User, 3)"
   ]
  },
  {
   "cell_type": "code",
   "execution_count": 221,
   "id": "10086509",
   "metadata": {},
   "outputs": [],
   "source": [
    "session.commit()"
   ]
  },
  {
   "cell_type": "markdown",
   "id": "7b1c6ae0",
   "metadata": {},
   "source": [
    "delete仍然在映射中，处于pending状态，直到flush："
   ]
  },
  {
   "cell_type": "code",
   "execution_count": 222,
   "id": "927a42be",
   "metadata": {},
   "outputs": [],
   "source": [
    "session.delete(patrick)"
   ]
  },
  {
   "cell_type": "markdown",
   "id": "9bac7d4b",
   "metadata": {},
   "source": [
    "直接`in session`也可以："
   ]
  },
  {
   "cell_type": "code",
   "execution_count": 224,
   "id": "21ac48f2",
   "metadata": {},
   "outputs": [
    {
     "data": {
      "text/plain": [
       "False"
      ]
     },
     "execution_count": 224,
     "metadata": {},
     "output_type": "execute_result"
    }
   ],
   "source": [
    "patrick in session"
   ]
  },
  {
   "cell_type": "markdown",
   "id": "fa5ba82b",
   "metadata": {},
   "source": [
    "调用select会自动flush，所以返回为空:"
   ]
  },
  {
   "cell_type": "code",
   "execution_count": 225,
   "id": "c860eea8",
   "metadata": {},
   "outputs": [],
   "source": [
    "session.execute(select(User).where(User.name == \"patrick\")).first()"
   ]
  },
  {
   "cell_type": "markdown",
   "id": "08a304f0",
   "metadata": {},
   "source": [
    "flush以后，实例从映射中删除："
   ]
  },
  {
   "cell_type": "code",
   "execution_count": 226,
   "id": "d423aa1d",
   "metadata": {},
   "outputs": [
    {
     "data": {
      "text/plain": [
       "False"
      ]
     },
     "execution_count": 226,
     "metadata": {},
     "output_type": "execute_result"
    }
   ],
   "source": [
    "patrick in session"
   ]
  },
  {
   "cell_type": "markdown",
   "id": "589fcfb4",
   "metadata": {},
   "source": [
    "此时并未真正从数据库删除，调用rollback可以还原，或者执行commit写入数据库。"
   ]
  },
  {
   "cell_type": "markdown",
   "id": "3800b473",
   "metadata": {},
   "source": [
    "#### DELETE语句"
   ]
  },
  {
   "cell_type": "markdown",
   "id": "d013fa39",
   "metadata": {},
   "source": [
    "和update一样，可以使用delete语句："
   ]
  },
  {
   "cell_type": "code",
   "execution_count": 227,
   "id": "cce3246f",
   "metadata": {},
   "outputs": [],
   "source": [
    "squidward = session.get(User, 4)"
   ]
  },
  {
   "cell_type": "code",
   "execution_count": 228,
   "id": "75ce1e00",
   "metadata": {},
   "outputs": [
    {
     "data": {
      "text/plain": [
       "<sqlalchemy.engine.cursor.CursorResult at 0x1fdab622940>"
      ]
     },
     "execution_count": 228,
     "metadata": {},
     "output_type": "execute_result"
    }
   ],
   "source": [
    "session.execute(delete(User).where(User.name == \"squidward\"))"
   ]
  },
  {
   "cell_type": "code",
   "execution_count": 229,
   "id": "a974249f",
   "metadata": {},
   "outputs": [
    {
     "data": {
      "text/plain": [
       "True"
      ]
     },
     "execution_count": 229,
     "metadata": {},
     "output_type": "execute_result"
    }
   ],
   "source": [
    "sandy in session"
   ]
  },
  {
   "cell_type": "markdown",
   "id": "21df910a",
   "metadata": {},
   "source": [
    "execute会自动flush:"
   ]
  },
  {
   "cell_type": "code",
   "execution_count": 230,
   "id": "be48529a",
   "metadata": {},
   "outputs": [
    {
     "data": {
      "text/plain": [
       "False"
      ]
     },
     "execution_count": 230,
     "metadata": {},
     "output_type": "execute_result"
    }
   ],
   "source": [
    "squidward in session"
   ]
  },
  {
   "cell_type": "markdown",
   "id": "1da39bc4",
   "metadata": {},
   "source": [
    "### 回滚"
   ]
  },
  {
   "cell_type": "markdown",
   "id": "4bdb8ba9",
   "metadata": {},
   "source": [
    "注意，执行rollback，不仅会撤销所有的更改操作，而且会将和session关联的orm实例标记为过期："
   ]
  },
  {
   "cell_type": "code",
   "execution_count": 264,
   "id": "935f9fad",
   "metadata": {},
   "outputs": [],
   "source": [
    "sandy = session.get(User, 2)"
   ]
  },
  {
   "cell_type": "code",
   "execution_count": 265,
   "id": "a42ffc19",
   "metadata": {},
   "outputs": [
    {
     "data": {
      "text/plain": [
       "{'_sa_instance_state': <sqlalchemy.orm.state.InstanceState at 0x1fda9135a30>,\n",
       " 'name': 'sandy',\n",
       " 'id': 2,\n",
       " 'fullname': 'Sandy Cheeks'}"
      ]
     },
     "execution_count": 265,
     "metadata": {},
     "output_type": "execute_result"
    }
   ],
   "source": [
    "sandy.__dict__"
   ]
  },
  {
   "cell_type": "code",
   "execution_count": 281,
   "id": "7f79c7f8",
   "metadata": {},
   "outputs": [],
   "source": [
    "sandy.fullname = 'Sandy Squirrel'"
   ]
  },
  {
   "cell_type": "code",
   "execution_count": 283,
   "id": "a3e4cd07",
   "metadata": {},
   "outputs": [],
   "source": [
    "session.flush()"
   ]
  },
  {
   "cell_type": "code",
   "execution_count": 284,
   "id": "1cdd03b5",
   "metadata": {},
   "outputs": [],
   "source": [
    "session.rollback()"
   ]
  },
  {
   "cell_type": "markdown",
   "id": "5f3ebf43",
   "metadata": {},
   "source": [
    "sandy此时会被标记为过期，其`__dict__`属性不包含`name`,`id`等属性："
   ]
  },
  {
   "cell_type": "code",
   "execution_count": 285,
   "id": "0936e855",
   "metadata": {},
   "outputs": [
    {
     "data": {
      "text/plain": [
       "{'_sa_instance_state': <sqlalchemy.orm.state.InstanceState at 0x1fda9135a30>}"
      ]
     },
     "execution_count": 285,
     "metadata": {},
     "output_type": "execute_result"
    }
   ],
   "source": [
    "sandy.__dict__"
   ]
  },
  {
   "cell_type": "markdown",
   "id": "75260c91",
   "metadata": {},
   "source": [
    "此时，如果访问sandy任意属性，会开启一个新的事务并且重新刷新实例："
   ]
  },
  {
   "cell_type": "code",
   "execution_count": 286,
   "id": "ace24c0d",
   "metadata": {},
   "outputs": [
    {
     "data": {
      "text/plain": [
       "'Sandy Cheeks'"
      ]
     },
     "execution_count": 286,
     "metadata": {},
     "output_type": "execute_result"
    }
   ],
   "source": [
    "sandy.fullname"
   ]
  },
  {
   "cell_type": "code",
   "execution_count": 287,
   "id": "aecaa134",
   "metadata": {},
   "outputs": [
    {
     "data": {
      "text/plain": [
       "{'_sa_instance_state': <sqlalchemy.orm.state.InstanceState at 0x1fda9135a30>,\n",
       " 'name': 'sandy',\n",
       " 'id': 2,\n",
       " 'fullname': 'Sandy Cheeks'}"
      ]
     },
     "execution_count": 287,
     "metadata": {},
     "output_type": "execute_result"
    }
   ],
   "source": [
    "sandy.__dict__"
   ]
  },
  {
   "cell_type": "markdown",
   "id": "56964d22",
   "metadata": {},
   "source": [
    "删除了的实例也被恢复："
   ]
  },
  {
   "cell_type": "code",
   "execution_count": 288,
   "id": "9fe1ec07",
   "metadata": {},
   "outputs": [
    {
     "data": {
      "text/plain": [
       "True"
      ]
     },
     "execution_count": 288,
     "metadata": {},
     "output_type": "execute_result"
    }
   ],
   "source": [
    "patrick in session"
   ]
  },
  {
   "cell_type": "markdown",
   "id": "81e6fecc",
   "metadata": {},
   "source": [
    "也如预期一样，可以从数据库查询到该实例："
   ]
  },
  {
   "cell_type": "code",
   "execution_count": 289,
   "id": "a1273a7a",
   "metadata": {},
   "outputs": [
    {
     "data": {
      "text/plain": [
       "True"
      ]
     },
     "execution_count": 289,
     "metadata": {},
     "output_type": "execute_result"
    }
   ],
   "source": [
    "session.execute(select(User).where(User.name == 'patrick')).scalar_one() is patrick"
   ]
  },
  {
   "cell_type": "markdown",
   "id": "ed5b64ae",
   "metadata": {},
   "source": [
    "### 关闭session"
   ]
  },
  {
   "cell_type": "markdown",
   "id": "330e2486",
   "metadata": {},
   "source": [
    "关闭session，会完成以下几件事：\n",
    "- 释放所有连接资源到连接池，取消(例如回滚)任何正在进行的事务。\n",
    "- 从session中擦除所有实例。"
   ]
  },
  {
   "cell_type": "code",
   "execution_count": 333,
   "id": "61fb8896",
   "metadata": {},
   "outputs": [
    {
     "data": {
      "text/plain": [
       "User(id=3, name='patrick', fullname='Patrick McStar')"
      ]
     },
     "execution_count": 333,
     "metadata": {},
     "output_type": "execute_result"
    }
   ],
   "source": [
    "patrick = session.get(User, 3)\n",
    "patrick"
   ]
  },
  {
   "cell_type": "code",
   "execution_count": 334,
   "id": "fda1b4ba",
   "metadata": {},
   "outputs": [
    {
     "data": {
      "text/plain": [
       "True"
      ]
     },
     "execution_count": 334,
     "metadata": {},
     "output_type": "execute_result"
    }
   ],
   "source": [
    "patrick in session"
   ]
  },
  {
   "cell_type": "code",
   "execution_count": 335,
   "id": "468b29a6",
   "metadata": {},
   "outputs": [],
   "source": [
    "session.close()"
   ]
  },
  {
   "cell_type": "markdown",
   "id": "b56d7d16",
   "metadata": {},
   "source": [
    "此时实例从session中擦除："
   ]
  },
  {
   "cell_type": "code",
   "execution_count": 336,
   "id": "23ea1ad9",
   "metadata": {},
   "outputs": [
    {
     "data": {
      "text/plain": [
       "False"
      ]
     },
     "execution_count": 336,
     "metadata": {},
     "output_type": "execute_result"
    }
   ],
   "source": [
    "patrick in session"
   ]
  },
  {
   "cell_type": "markdown",
   "id": "2ea0003d",
   "metadata": {},
   "source": [
    "但是实例本身还在，只不过处于detached的状态，即没有和任何session关联。可以重新开启一个连接，并把实例添加到session："
   ]
  },
  {
   "cell_type": "code",
   "execution_count": 338,
   "id": "e61da141",
   "metadata": {},
   "outputs": [],
   "source": [
    "session.add(patrick)  # session重新从连接池拿到一个新的连接，并把实例关联到自身"
   ]
  },
  {
   "cell_type": "code",
   "execution_count": 339,
   "id": "28883bde",
   "metadata": {},
   "outputs": [
    {
     "data": {
      "text/plain": [
       "True"
      ]
     },
     "execution_count": 339,
     "metadata": {},
     "output_type": "execute_result"
    }
   ],
   "source": [
    "patrick in session"
   ]
  },
  {
   "cell_type": "markdown",
   "id": "7830fc68",
   "metadata": {},
   "source": [
    "注意，如果是一个过期的实例，关闭session以后，访问实例的属性此时不会访问数据库刷新（因为所有连接已经被关闭了），而是会抛出错误。"
   ]
  },
  {
   "cell_type": "markdown",
   "id": "c2267928",
   "metadata": {},
   "source": [
    "## 使用相关对象"
   ]
  },
  {
   "cell_type": "markdown",
   "id": "c75b9d5f",
   "metadata": {},
   "source": [
    "### 持久化和加载关系"
   ]
  },
  {
   "cell_type": "code",
   "execution_count": 41,
   "id": "7686f91a",
   "metadata": {},
   "outputs": [
    {
     "data": {
      "text/plain": [
       "[]"
      ]
     },
     "execution_count": 41,
     "metadata": {},
     "output_type": "execute_result"
    }
   ],
   "source": [
    "u1 = User(name='pkrabs', fullname='Pearl Krabs')\n",
    "u1.addresses"
   ]
  },
  {
   "cell_type": "code",
   "execution_count": 42,
   "id": "2a0070fb",
   "metadata": {},
   "outputs": [],
   "source": [
    "a1 = Address(email_address=\"pearl.krabs@gmail.com\")\n",
    "u1.addresses.append(a1)"
   ]
  },
  {
   "cell_type": "code",
   "execution_count": 43,
   "id": "bb8a78b2",
   "metadata": {},
   "outputs": [
    {
     "data": {
      "text/plain": [
       "[Address(id=None, email_address='pearl.krabs@gmail.com')]"
      ]
     },
     "execution_count": 43,
     "metadata": {},
     "output_type": "execute_result"
    }
   ],
   "source": [
    "u1.addresses"
   ]
  },
  {
   "cell_type": "code",
   "execution_count": 44,
   "id": "acc77d0a",
   "metadata": {},
   "outputs": [
    {
     "data": {
      "text/plain": [
       "User(id=None, name='pkrabs', fullname='Pearl Krabs')"
      ]
     },
     "execution_count": 44,
     "metadata": {},
     "output_type": "execute_result"
    }
   ],
   "source": [
    "a1.user"
   ]
  },
  {
   "cell_type": "markdown",
   "id": "c032d2a4",
   "metadata": {},
   "source": [
    "也可以从另外一个方向，分配两者之间的关系："
   ]
  },
  {
   "cell_type": "code",
   "execution_count": 45,
   "id": "0495a4da",
   "metadata": {},
   "outputs": [
    {
     "data": {
      "text/plain": [
       "[Address(id=None, email_address='pearl.krabs@gmail.com'),\n",
       " Address(id=None, email_address='pearl@aol.com')]"
      ]
     },
     "execution_count": 45,
     "metadata": {},
     "output_type": "execute_result"
    }
   ],
   "source": [
    "a2 = Address(email_address=\"pearl@aol.com\", user=u1)\n",
    "u1.addresses"
   ]
  },
  {
   "cell_type": "markdown",
   "id": "dd2bac86",
   "metadata": {},
   "source": [
    "等效于："
   ]
  },
  {
   "cell_type": "code",
   "execution_count": 46,
   "id": "abda38e5",
   "metadata": {},
   "outputs": [],
   "source": [
    "a2.user = u1"
   ]
  },
  {
   "cell_type": "markdown",
   "id": "89b4645f",
   "metadata": {},
   "source": [
    "#### 对象级联到会话"
   ]
  },
  {
   "cell_type": "markdown",
   "id": "9b27e0de",
   "metadata": {},
   "source": [
    "关联对象，只要把其中一方添加到会话，另一方也自动被添加到会话："
   ]
  },
  {
   "cell_type": "code",
   "execution_count": 47,
   "id": "50056ea3",
   "metadata": {},
   "outputs": [],
   "source": [
    "session = Session(engine)\n",
    "session.add(u1)"
   ]
  },
  {
   "cell_type": "code",
   "execution_count": 48,
   "id": "489ff5d8",
   "metadata": {},
   "outputs": [
    {
     "data": {
      "text/plain": [
       "True"
      ]
     },
     "execution_count": 48,
     "metadata": {},
     "output_type": "execute_result"
    }
   ],
   "source": [
    "u1 in session"
   ]
  },
  {
   "cell_type": "code",
   "execution_count": 49,
   "id": "dff84804",
   "metadata": {},
   "outputs": [
    {
     "data": {
      "text/plain": [
       "True"
      ]
     },
     "execution_count": 49,
     "metadata": {},
     "output_type": "execute_result"
    }
   ],
   "source": [
    "a1 in session"
   ]
  },
  {
   "cell_type": "code",
   "execution_count": 50,
   "id": "9ba46076",
   "metadata": {},
   "outputs": [
    {
     "data": {
      "text/plain": [
       "True"
      ]
     },
     "execution_count": 50,
     "metadata": {},
     "output_type": "execute_result"
    }
   ],
   "source": [
    "a2 in session"
   ]
  },
  {
   "cell_type": "markdown",
   "id": "96cf4233",
   "metadata": {},
   "source": [
    "现在这3个对象均处于pending状态，u1的主键为None，address的user_id值也为None，因为并未flush到数据库中，没有分配值："
   ]
  },
  {
   "cell_type": "code",
   "execution_count": 51,
   "id": "d7f5941d",
   "metadata": {},
   "outputs": [
    {
     "name": "stdout",
     "output_type": "stream",
     "text": [
      "None\n"
     ]
    }
   ],
   "source": [
    "print(u1.id)"
   ]
  },
  {
   "cell_type": "code",
   "execution_count": 52,
   "id": "b5aa7905",
   "metadata": {},
   "outputs": [
    {
     "name": "stdout",
     "output_type": "stream",
     "text": [
      "None\n"
     ]
    }
   ],
   "source": [
    "print(a1.user_id)"
   ]
  },
  {
   "cell_type": "markdown",
   "id": "5cfca9fc",
   "metadata": {},
   "source": [
    "commit的时候，会以正确的顺序写入数据库："
   ]
  },
  {
   "cell_type": "code",
   "execution_count": 53,
   "id": "af57502d",
   "metadata": {},
   "outputs": [
    {
     "name": "stdout",
     "output_type": "stream",
     "text": [
      "2022-04-11 22:30:41,248 INFO sqlalchemy.engine.Engine BEGIN (implicit)\n",
      "2022-04-11 22:30:41,256 INFO sqlalchemy.engine.Engine INSERT INTO user_account (name, fullname) VALUES (?, ?)\n",
      "2022-04-11 22:30:41,257 INFO sqlalchemy.engine.Engine [generated in 0.00057s] ('pkrabs', 'Pearl Krabs')\n",
      "2022-04-11 22:30:41,261 INFO sqlalchemy.engine.Engine INSERT INTO address (email_address, user_id) VALUES (?, ?)\n",
      "2022-04-11 22:30:41,261 INFO sqlalchemy.engine.Engine [generated in 0.00056s] ('pearl.krabs@gmail.com', 7)\n",
      "2022-04-11 22:30:41,262 INFO sqlalchemy.engine.Engine INSERT INTO address (email_address, user_id) VALUES (?, ?)\n",
      "2022-04-11 22:30:41,263 INFO sqlalchemy.engine.Engine [cached since 0.001947s ago] ('pearl@aol.com', 7)\n",
      "2022-04-11 22:30:41,263 INFO sqlalchemy.engine.Engine COMMIT\n"
     ]
    }
   ],
   "source": [
    "session.commit()"
   ]
  },
  {
   "cell_type": "markdown",
   "id": "cf3d5930",
   "metadata": {},
   "source": [
    "### 加载关联关系"
   ]
  },
  {
   "cell_type": "markdown",
   "id": "787453f3",
   "metadata": {},
   "source": [
    "当我们commit时，所有的对象被设置为过期："
   ]
  },
  {
   "cell_type": "code",
   "execution_count": 54,
   "id": "8d5467d9",
   "metadata": {},
   "outputs": [
    {
     "data": {
      "text/plain": [
       "{'_sa_instance_state': <sqlalchemy.orm.state.InstanceState at 0x1e6dd12c5e0>}"
      ]
     },
     "execution_count": 54,
     "metadata": {},
     "output_type": "execute_result"
    }
   ],
   "source": [
    "u1.__dict__"
   ]
  },
  {
   "cell_type": "markdown",
   "id": "79d518dd",
   "metadata": {},
   "source": [
    "再次读取时，会自动开启事务，刷新对象的值："
   ]
  },
  {
   "cell_type": "code",
   "execution_count": 55,
   "id": "9fca6fb6",
   "metadata": {},
   "outputs": [
    {
     "name": "stdout",
     "output_type": "stream",
     "text": [
      "2022-04-11 22:33:19,682 INFO sqlalchemy.engine.Engine BEGIN (implicit)\n",
      "2022-04-11 22:33:19,683 INFO sqlalchemy.engine.Engine SELECT user_account.id AS user_account_id, user_account.name AS user_account_name, user_account.fullname AS user_account_fullname \n",
      "FROM user_account \n",
      "WHERE user_account.id = ?\n",
      "2022-04-11 22:33:19,684 INFO sqlalchemy.engine.Engine [cached since 180.7s ago] (7,)\n"
     ]
    },
    {
     "data": {
      "text/plain": [
       "User(id=7, name='pkrabs', fullname='Pearl Krabs')"
      ]
     },
     "execution_count": 55,
     "metadata": {},
     "output_type": "execute_result"
    }
   ],
   "source": [
    "u1  # 可以看到，此时开启了新的事务，连接了数据库，重新获取u1的值"
   ]
  },
  {
   "cell_type": "code",
   "execution_count": 56,
   "id": "98efb40e",
   "metadata": {},
   "outputs": [
    {
     "data": {
      "text/plain": [
       "{'_sa_instance_state': <sqlalchemy.orm.state.InstanceState at 0x1e6dd12c5e0>,\n",
       " 'name': 'pkrabs',\n",
       " 'id': 7,\n",
       " 'fullname': 'Pearl Krabs'}"
      ]
     },
     "execution_count": 56,
     "metadata": {},
     "output_type": "execute_result"
    }
   ],
   "source": [
    "u1.__dict__"
   ]
  },
  {
   "cell_type": "markdown",
   "id": "df1dbb7d",
   "metadata": {},
   "source": [
    "注意，由于懒加载机制，此时u1关联的对象并未加载，只有访问其属性时，才会读取数据库加载："
   ]
  },
  {
   "cell_type": "code",
   "execution_count": 57,
   "id": "2d57f38c",
   "metadata": {},
   "outputs": [
    {
     "name": "stdout",
     "output_type": "stream",
     "text": [
      "2022-04-11 22:36:15,958 INFO sqlalchemy.engine.Engine SELECT address.id AS address_id, address.email_address AS address_email_address, address.user_id AS address_user_id \n",
      "FROM address \n",
      "WHERE ? = address.user_id\n",
      "2022-04-11 22:36:15,959 INFO sqlalchemy.engine.Engine [generated in 0.00093s] (7,)\n"
     ]
    },
    {
     "data": {
      "text/plain": [
       "[Address(id=5, email_address='pearl.krabs@gmail.com'),\n",
       " Address(id=6, email_address='pearl@aol.com')]"
      ]
     },
     "execution_count": 57,
     "metadata": {},
     "output_type": "execute_result"
    }
   ],
   "source": [
    "u1.addresses"
   ]
  },
  {
   "cell_type": "markdown",
   "id": "07111778",
   "metadata": {},
   "source": [
    "一旦读取到内存，就相当于读入缓存，直到对象过期。"
   ]
  },
  {
   "cell_type": "markdown",
   "id": "3ae78968",
   "metadata": {},
   "source": [
    "### 查询中使用关系"
   ]
  },
  {
   "cell_type": "markdown",
   "id": "e3564599",
   "metadata": {},
   "source": [
    "#### 利用关系进行连接"
   ]
  },
  {
   "cell_type": "markdown",
   "id": "dcf9282a",
   "metadata": {},
   "source": [
    "当设置了relationship时候，我们可以通过关系来指定join的参数，如下："
   ]
  },
  {
   "cell_type": "code",
   "execution_count": 58,
   "id": "2f183b20",
   "metadata": {},
   "outputs": [
    {
     "name": "stdout",
     "output_type": "stream",
     "text": [
      "SELECT address.email_address \n",
      "FROM user_account JOIN address ON user_account.id = address.user_id\n"
     ]
    }
   ],
   "source": [
    "print(\n",
    "    select(Address.email_address).\n",
    "    select_from(User).\n",
    "    join(User.addresses)  # 注意使用的是User.addresses而不是Address\n",
    ")"
   ]
  },
  {
   "cell_type": "markdown",
   "id": "14b94da2",
   "metadata": {},
   "source": [
    "当然，也可以直接使用模型类:"
   ]
  },
  {
   "cell_type": "code",
   "execution_count": 63,
   "id": "6457b787",
   "metadata": {},
   "outputs": [
    {
     "name": "stdout",
     "output_type": "stream",
     "text": [
      "SELECT address.email_address \n",
      "FROM user_account JOIN address ON user_account.id = address.user_id\n"
     ]
    }
   ],
   "source": [
    "print(\n",
    "    select(Address.email_address).\n",
    "    select_from(User).\n",
    "    join(Address)  # 注意使用的是User.addresses而不是Address\n",
    ")"
   ]
  },
  {
   "cell_type": "markdown",
   "id": "b7268418",
   "metadata": {},
   "source": [
    "注意，上面的例子，是因为有外键约束，所以我们可以推断出ON字句而不是因为我们定义了relationship。"
   ]
  },
  {
   "cell_type": "markdown",
   "id": "ea549eb2",
   "metadata": {},
   "source": [
    "#### 别名目标之间的连接"
   ]
  },
  {
   "cell_type": "markdown",
   "id": "32134b15",
   "metadata": {},
   "source": [
    "我们可以给orm实体类起一个别名，但是使用关联关系join其它实体类时，需要使用`of_type`才能使用这个别名："
   ]
  },
  {
   "cell_type": "code",
   "execution_count": 66,
   "id": "071cb856",
   "metadata": {},
   "outputs": [
    {
     "name": "stdout",
     "output_type": "stream",
     "text": [
      "SELECT user_account.id, user_account.name, user_account.fullname \n",
      "FROM user_account JOIN address AS address_1 ON user_account.id = address_1.user_id JOIN address AS address_2 ON user_account.id = address_2.user_id \n",
      "WHERE address_1.email_address = :email_address_1 AND address_2.email_address = :email_address_2\n"
     ]
    }
   ],
   "source": [
    "from sqlalchemy.orm import aliased\n",
    "\n",
    "address_alias_1 = aliased(Address)\n",
    "address_alias_2 = aliased(Address)\n",
    "\n",
    "print(\n",
    "       select(User).\n",
    "       join(User.addresses.of_type(address_alias_1)).\n",
    "       where(address_alias_1.email_address == 'patrick@aol.com').\n",
    "       join(User.addresses.of_type(address_alias_2)).\n",
    "       where(address_alias_2.email_address == 'patrick@gmail.com')\n",
    "   )"
   ]
  },
  {
   "cell_type": "markdown",
   "id": "bd73ec6f",
   "metadata": {},
   "source": [
    "#### 增强的ON标准"
   ]
  },
  {
   "cell_type": "markdown",
   "id": "868f1bea",
   "metadata": {},
   "source": [
    "使用relationship join关联表,如果是复杂的条件，写法也不一样，如下："
   ]
  },
  {
   "cell_type": "code",
   "execution_count": 9,
   "id": "cbba7932",
   "metadata": {},
   "outputs": [
    {
     "name": "stdout",
     "output_type": "stream",
     "text": [
      "2022-04-12 21:56:05,350 INFO sqlalchemy.engine.Engine BEGIN (implicit)\n",
      "2022-04-12 21:56:05,352 INFO sqlalchemy.engine.Engine SELECT user_account.fullname \n",
      "FROM user_account JOIN address ON user_account.id = address.user_id AND address.email_address = ?\n",
      "2022-04-12 21:56:05,353 INFO sqlalchemy.engine.Engine [generated in 0.00061s] ('pearl.krabs@gmail.com',)\n"
     ]
    },
    {
     "data": {
      "text/plain": [
       "[('Pearl Krabs',), ('Pearl Krabs',)]"
      ]
     },
     "execution_count": 9,
     "metadata": {},
     "output_type": "execute_result"
    }
   ],
   "source": [
    "session = Session(engine)\n",
    "\n",
    "stmt = (\n",
    "  select(User.fullname).\n",
    "  join(User.addresses.and_(Address.email_address == 'pearl.krabs@gmail.com'))\n",
    ")\n",
    "session.execute(stmt).all()"
   ]
  },
  {
   "cell_type": "markdown",
   "id": "aa4c2c56",
   "metadata": {},
   "source": [
    "#### EXISTS forms: has() / any()"
   ]
  },
  {
   "cell_type": "markdown",
   "id": "9f270023",
   "metadata": {},
   "source": [
    "使用relationship关联表，使where exsit子查询更简单："
   ]
  },
  {
   "cell_type": "code",
   "execution_count": 10,
   "id": "58eac0bc",
   "metadata": {},
   "outputs": [
    {
     "name": "stdout",
     "output_type": "stream",
     "text": [
      "2022-04-12 22:13:30,391 INFO sqlalchemy.engine.Engine SELECT user_account.fullname \n",
      "FROM user_account \n",
      "WHERE EXISTS (SELECT 1 \n",
      "FROM address \n",
      "WHERE user_account.id = address.user_id AND address.email_address = ?)\n",
      "2022-04-12 22:13:30,392 INFO sqlalchemy.engine.Engine [generated in 0.00137s] ('pearl.krabs@gmail.com',)\n"
     ]
    },
    {
     "data": {
      "text/plain": [
       "[('Pearl Krabs',), ('Pearl Krabs',)]"
      ]
     },
     "execution_count": 10,
     "metadata": {},
     "output_type": "execute_result"
    }
   ],
   "source": [
    "stmt = (\n",
    "  select(User.fullname).\n",
    "  where(User.addresses.any(Address.email_address == 'pearl.krabs@gmail.com'))\n",
    ")\n",
    "session.execute(stmt).all()"
   ]
  },
  {
   "cell_type": "code",
   "execution_count": 11,
   "id": "fd9e23a8",
   "metadata": {},
   "outputs": [
    {
     "name": "stdout",
     "output_type": "stream",
     "text": [
      "2022-04-12 22:16:16,080 INFO sqlalchemy.engine.Engine SELECT user_account.fullname \n",
      "FROM user_account \n",
      "WHERE NOT (EXISTS (SELECT 1 \n",
      "FROM address \n",
      "WHERE user_account.id = address.user_id))\n",
      "2022-04-12 22:16:16,084 INFO sqlalchemy.engine.Engine [generated in 0.00183s] ()\n"
     ]
    },
    {
     "data": {
      "text/plain": [
       "[('Patrick McStar',), ('Squidward Tentacles',), ('Eugene H. Krabs',)]"
      ]
     },
     "execution_count": 11,
     "metadata": {},
     "output_type": "execute_result"
    }
   ],
   "source": [
    "stmt = (\n",
    "  select(User.fullname).\n",
    "  where(~User.addresses.any())\n",
    ")\n",
    "session.execute(stmt).all()"
   ]
  },
  {
   "cell_type": "markdown",
   "id": "deb206f7",
   "metadata": {},
   "source": [
    "has和any基本一样，除了多对一关系时，使用has，而不是any："
   ]
  },
  {
   "cell_type": "code",
   "execution_count": 14,
   "id": "03e15394",
   "metadata": {},
   "outputs": [
    {
     "name": "stdout",
     "output_type": "stream",
     "text": [
      "2022-04-12 22:21:38,080 INFO sqlalchemy.engine.Engine SELECT address.email_address \n",
      "FROM address \n",
      "WHERE EXISTS (SELECT 1 \n",
      "FROM user_account \n",
      "WHERE user_account.id = address.user_id AND user_account.name = ?)\n",
      "2022-04-12 22:21:38,080 INFO sqlalchemy.engine.Engine [cached since 33.48s ago] ('pkrabs',)\n"
     ]
    },
    {
     "data": {
      "text/plain": [
       "[('pearl.krabs@gmail.com',),\n",
       " ('pearl@aol.com',),\n",
       " ('pearl.krabs@gmail.com',),\n",
       " ('pearl@aol.com',)]"
      ]
     },
     "execution_count": 14,
     "metadata": {},
     "output_type": "execute_result"
    }
   ],
   "source": [
    "stmt = (\n",
    "  select(Address.email_address).\n",
    "  where(Address.user.has(User.name==\"pkrabs\"))\n",
    ")\n",
    "session.execute(stmt).all()"
   ]
  },
  {
   "cell_type": "markdown",
   "id": "b46a6e97",
   "metadata": {},
   "source": [
    "#### 常见的关系操作符"
   ]
  },
  {
   "cell_type": "markdown",
   "id": "39310531",
   "metadata": {},
   "source": [
    "有一些常见的关系操作，注意第一个和第三个其实是一样的，只是理解问题角度不同：\n",
    "- 多对一相等操作：\n",
    "```python\n",
    "print(select(Address).where(Address.user == u1))  # 不等为!=,地址关联的用户为某个特定的用户\n",
    "```\n",
    "- 对象在一对多集合中：\n",
    "```python\n",
    "print(select(User).where(User.addresses.contains(a1)))  # 用户关联的地址不包含某个特定的地址\n",
    "```\n",
    "- 一对多的角度看，多的一方有某个特定的一的一方的实例：\n",
    "```python\n",
    "from sqlalchemy.orm import with_parent\n",
    "print(select(Address).where(with_parent(u1, User.addresses)))  # 用户关联的地址均属于某个特定的用户\n",
    "```"
   ]
  },
  {
   "cell_type": "markdown",
   "id": "cd362bad",
   "metadata": {},
   "source": [
    "### 加载策略"
   ]
  },
  {
   "cell_type": "markdown",
   "id": "c17a9c9e",
   "metadata": {},
   "source": [
    "懒加载可能会带来很多问题，当内存中有大量的orm实例，访问它的某些关联属性时，可能会发起大量的select查询。\n",
    "\n",
    "有效使用ORM延迟加载的第一步是测试应用程序，打开SQL回显，并观察发出的SQL。如果有很多冗余的SELECT语句，它们看起来非常像可以更有效地整合到一个语句中，如果对于已经从Session分离出来的对象有不适当的负载发生，那么就应该考虑使用加载器策略。\n",
    "\n",
    "正常情况下，访问关联属性会触发多条查询："
   ]
  },
  {
   "cell_type": "code",
   "execution_count": 21,
   "id": "33e44af1",
   "metadata": {},
   "outputs": [
    {
     "name": "stdout",
     "output_type": "stream",
     "text": [
      "2022-04-12 23:31:16,831 INFO sqlalchemy.engine.Engine SELECT user_account.id, user_account.name, user_account.fullname \n",
      "FROM user_account\n",
      "2022-04-12 23:31:16,847 INFO sqlalchemy.engine.Engine [generated in 0.00195s] ()\n",
      "2022-04-12 23:31:16,850 INFO sqlalchemy.engine.Engine SELECT address.id AS address_id, address.email_address AS address_email_address, address.user_id AS address_user_id \n",
      "FROM address \n",
      "WHERE ? = address.user_id\n",
      "2022-04-12 23:31:16,850 INFO sqlalchemy.engine.Engine [generated in 0.00039s] (1,)\n",
      "2022-04-12 23:31:16,854 INFO sqlalchemy.engine.Engine SELECT address.id AS address_id, address.email_address AS address_email_address, address.user_id AS address_user_id \n",
      "FROM address \n",
      "WHERE ? = address.user_id\n",
      "2022-04-12 23:31:16,854 INFO sqlalchemy.engine.Engine [cached since 0.003685s ago] (2,)\n",
      "2022-04-12 23:31:16,856 INFO sqlalchemy.engine.Engine SELECT address.id AS address_id, address.email_address AS address_email_address, address.user_id AS address_user_id \n",
      "FROM address \n",
      "WHERE ? = address.user_id\n",
      "2022-04-12 23:31:16,856 INFO sqlalchemy.engine.Engine [cached since 0.005852s ago] (3,)\n",
      "2022-04-12 23:31:16,856 INFO sqlalchemy.engine.Engine SELECT address.id AS address_id, address.email_address AS address_email_address, address.user_id AS address_user_id \n",
      "FROM address \n",
      "WHERE ? = address.user_id\n",
      "2022-04-12 23:31:16,856 INFO sqlalchemy.engine.Engine [cached since 0.007866s ago] (4,)\n",
      "2022-04-12 23:31:16,856 INFO sqlalchemy.engine.Engine SELECT address.id AS address_id, address.email_address AS address_email_address, address.user_id AS address_user_id \n",
      "FROM address \n",
      "WHERE ? = address.user_id\n",
      "2022-04-12 23:31:16,856 INFO sqlalchemy.engine.Engine [cached since 0.009661s ago] (5,)\n",
      "2022-04-12 23:31:16,856 INFO sqlalchemy.engine.Engine SELECT address.id AS address_id, address.email_address AS address_email_address, address.user_id AS address_user_id \n",
      "FROM address \n",
      "WHERE ? = address.user_id\n",
      "2022-04-12 23:31:16,856 INFO sqlalchemy.engine.Engine [cached since 0.01114s ago] (6,)\n"
     ]
    }
   ],
   "source": [
    "for user_obj in session.execute(select(User)).scalars():\n",
    "    user_obj.addresses  # 懒加载，多条查询语句"
   ]
  },
  {
   "cell_type": "markdown",
   "id": "e6025792",
   "metadata": {},
   "source": [
    "也可以在定义orm模型时指定：\n",
    "```python\n",
    "from sqlalchemy.orm import relationship\n",
    "class User(Base):\n",
    "    __tablename__ = 'user_account'\n",
    "\n",
    "    addresses = relationship(\"Address\", back_populates=\"user\", lazy=\"selectin\")\n",
    "```"
   ]
  },
  {
   "cell_type": "markdown",
   "id": "54b177bc",
   "metadata": {},
   "source": [
    "#### Selectin加载"
   ]
  },
  {
   "cell_type": "markdown",
   "id": "73b87102",
   "metadata": {},
   "source": [
    "在select statement后调用`Select.options()`来定制加载策略，Selectin会产生两条查询，适合一对多查询："
   ]
  },
  {
   "cell_type": "code",
   "execution_count": 22,
   "id": "d1075830",
   "metadata": {},
   "outputs": [
    {
     "name": "stdout",
     "output_type": "stream",
     "text": [
      "2022-04-12 23:38:19,418 INFO sqlalchemy.engine.Engine SELECT user_account.id, user_account.name, user_account.fullname \n",
      "FROM user_account\n",
      "2022-04-12 23:38:19,418 INFO sqlalchemy.engine.Engine [cached since 585.2s ago] ()\n",
      "2022-04-12 23:38:19,436 INFO sqlalchemy.engine.Engine SELECT address.user_id AS address_user_id, address.id AS address_id, address.email_address AS address_email_address \n",
      "FROM address \n",
      "WHERE address.user_id IN (?, ?, ?, ?, ?, ?, ?)\n",
      "2022-04-12 23:38:19,437 INFO sqlalchemy.engine.Engine [cached since 585.2s ago] (1, 2, 3, 4, 5, 6, 7)\n"
     ]
    }
   ],
   "source": [
    "from sqlalchemy.orm import selectinload\n",
    "\n",
    "\n",
    "for user_obj in session.execute(select(User).options(selectinload(User.addresses))).scalars():\n",
    "    user_obj.addresses  # 此时不会触发懒加载，会一次性全部加载"
   ]
  },
  {
   "cell_type": "markdown",
   "id": "28df5204",
   "metadata": {},
   "source": [
    "#### Joined加载"
   ]
  },
  {
   "cell_type": "markdown",
   "id": "6b566f52",
   "metadata": {},
   "source": [
    "Joined加载使用join从句，产生一条语句，适合多对一查询："
   ]
  },
  {
   "cell_type": "code",
   "execution_count": 23,
   "id": "464347d9",
   "metadata": {},
   "outputs": [
    {
     "name": "stdout",
     "output_type": "stream",
     "text": [
      "2022-04-12 23:39:41,742 INFO sqlalchemy.engine.Engine SELECT address.id, address.email_address, address.user_id, user_account_1.id AS id_1, user_account_1.name, user_account_1.fullname \n",
      "FROM address JOIN user_account AS user_account_1 ON user_account_1.id = address.user_id ORDER BY address.id\n",
      "2022-04-12 23:39:41,742 INFO sqlalchemy.engine.Engine [generated in 0.00140s] ()\n",
      "spongebob@aol.com spongebob\n",
      "sandy@aol.com sandy\n",
      "pearl.krabs@gmail.com pkrabs\n",
      "pearl@aol.com pkrabs\n",
      "pearl.krabs@gmail.com pkrabs\n",
      "pearl@aol.com pkrabs\n"
     ]
    }
   ],
   "source": [
    "from sqlalchemy.orm import joinedload\n",
    "stmt = (\n",
    "  select(Address).options(joinedload(Address.user, innerjoin=True)).order_by(Address.id)\n",
    ")\n",
    "for row in session.execute(stmt):\n",
    "    print(f\"{row.Address.email_address} {row.Address.user.name}\")"
   ]
  },
  {
   "cell_type": "markdown",
   "id": "8217c0ce",
   "metadata": {},
   "source": [
    "#### 显式连接+即时加载"
   ]
  },
  {
   "cell_type": "markdown",
   "id": "f0f7ccd9",
   "metadata": {},
   "source": [
    "当我们自己明确的使用了join语句，就不能再使用joined加载，否则会生成两个join语句，此时使用contains_eager："
   ]
  },
  {
   "cell_type": "code",
   "execution_count": 26,
   "id": "52f993fb",
   "metadata": {},
   "outputs": [
    {
     "name": "stdout",
     "output_type": "stream",
     "text": [
      "2022-04-12 23:51:38,566 INFO sqlalchemy.engine.Engine SELECT user_account.id, user_account.name, user_account.fullname, address.id AS id_1, address.email_address, address.user_id \n",
      "FROM address JOIN user_account ON user_account.id = address.user_id \n",
      "WHERE user_account.name = ? ORDER BY address.id\n",
      "2022-04-12 23:51:38,566 INFO sqlalchemy.engine.Engine [cached since 160.2s ago] ('pkrabs',)\n",
      "pearl.krabs@gmail.com pkrabs\n",
      "pearl@aol.com pkrabs\n",
      "pearl.krabs@gmail.com pkrabs\n",
      "pearl@aol.com pkrabs\n"
     ]
    }
   ],
   "source": [
    "from sqlalchemy.orm import contains_eager\n",
    "stmt = (\n",
    "  select(Address).\n",
    "  join(Address.user).\n",
    "  where(User.name == 'pkrabs').\n",
    "  options(contains_eager(Address.user)).order_by(Address.id)\n",
    ")\n",
    "for row in session.execute(stmt):\n",
    "    print(f\"{row.Address.email_address} {row.Address.user.name}\")"
   ]
  },
  {
   "cell_type": "markdown",
   "id": "3df34ee0",
   "metadata": {},
   "source": [
    "#### 增强的加载策略"
   ]
  },
  {
   "cell_type": "markdown",
   "id": "ec2c7623",
   "metadata": {},
   "source": [
    "与增强的ON标准一样，加载也可以添加复杂的条件。`execution_options(populate_existing=True)`不是特别理解，初步理解是，orm读取模型实例只读取一次，下次再读取行时，不会更新已存于内存的模型实例。如果添加了`execution_options(populate_existing=True)`，则会强制性的更新已存实例。即更新一个User的时候，也更新一批Address。但是不加这个选项，会导致什么结果，目前不是很清楚，留待补充。"
   ]
  },
  {
   "cell_type": "code",
   "execution_count": 55,
   "id": "51496667",
   "metadata": {},
   "outputs": [],
   "source": [
    "from sqlalchemy.orm import selectinload\n",
    "stmt = (\n",
    "  select(User).\n",
    "  options(\n",
    "      selectinload(\n",
    "          User.addresses.and_(\n",
    "            ~Address.email_address.endswith(\"sqlalchemy.org\")\n",
    "          )\n",
    "      )\n",
    "  ).\n",
    "  order_by(User.id).execution_options(populate_existing=True)\n",
    ")"
   ]
  },
  {
   "cell_type": "markdown",
   "id": "8290115b",
   "metadata": {},
   "source": [
    "orm方式可以使用`row.User`的方式引用模型实例："
   ]
  },
  {
   "cell_type": "code",
   "execution_count": 56,
   "id": "62e7d584",
   "metadata": {},
   "outputs": [
    {
     "name": "stdout",
     "output_type": "stream",
     "text": [
      "2022-04-13 23:20:44,488 INFO sqlalchemy.engine.Engine SELECT user_account.id, user_account.name, user_account.fullname \n",
      "FROM user_account ORDER BY user_account.id\n",
      "2022-04-13 23:20:44,489 INFO sqlalchemy.engine.Engine [cached since 3292s ago] ()\n",
      "2022-04-13 23:20:44,490 INFO sqlalchemy.engine.Engine SELECT address.user_id AS address_user_id, address.id AS address_id, address.email_address AS address_email_address \n",
      "FROM address \n",
      "WHERE address.user_id IN (?, ?, ?, ?, ?, ?, ?) AND (address.email_address NOT LIKE '%' || ?)\n",
      "2022-04-13 23:20:44,491 INFO sqlalchemy.engine.Engine [cached since 3292s ago] (1, 2, 3, 4, 5, 6, 7, 'sqlalchemy.org')\n",
      "spongebob  (telecomshy@126.com)\n",
      "sandy  (sandy@aol.com)\n",
      "patrick  ()\n",
      "squidward  ()\n",
      "ehkrabs  ()\n",
      "pkrabs  (pearl.krabs@gmail.com, pearl@aol.com)\n",
      "pkrabs  (pearl.krabs@gmail.com, pearl@aol.com)\n"
     ]
    }
   ],
   "source": [
    "for row in session.execute(stmt):\n",
    "    print(f\"{row.User.name}  ({', '.join(a.email_address for a in row.User.addresses)})\")"
   ]
  },
  {
   "cell_type": "markdown",
   "id": "3632586c",
   "metadata": {},
   "source": [
    "#### Raiseload"
   ]
  },
  {
   "cell_type": "markdown",
   "id": "a688ae93",
   "metadata": {},
   "source": [
    "这个策略用来完全组织懒加载：\n",
    "```python\n",
    "class User(Base):\n",
    "    __tablename__ = 'user_account'\n",
    "\n",
    "    # ... Column mappings\n",
    "\n",
    "    addresses = relationship(\"Address\", back_populates=\"user\", lazy=\"raise_on_sql\")\n",
    "\n",
    "\n",
    "class Address(Base):\n",
    "    __tablename__ = 'address'\n",
    "\n",
    "    # ... Column mappings\n",
    "\n",
    "    user = relationship(\"User\", back_populates=\"addresses\", lazy=\"raise_on_sql\")\n",
    "```\n",
    "当配置了`raise_on_sql`，当像下面这样调用时：\n",
    "```python\n",
    "u1 = s.execute(select(User)).scalars().first()\n",
    "u1.addresses\n",
    "```\n",
    "会抛出错误：\n",
    "```python\n",
    "sqlalchemy.exc.InvalidRequestError: 'User.addresses' is not available due to lazy='raise_on_sql'\n",
    "```\n",
    "此时必须要指定加载策略才不会报错：\n",
    "```python\n",
    "u1 = s.execute(select(User).options(selectinload(User.addresses))).scalars().first()\n",
    "```"
   ]
  },
  {
   "cell_type": "code",
   "execution_count": null,
   "id": "1084f259",
   "metadata": {},
   "outputs": [],
   "source": []
  }
 ],
 "metadata": {
  "kernelspec": {
   "display_name": "Python 3 (ipykernel)",
   "language": "python",
   "name": "python3"
  },
  "language_info": {
   "codemirror_mode": {
    "name": "ipython",
    "version": 3
   },
   "file_extension": ".py",
   "mimetype": "text/x-python",
   "name": "python",
   "nbconvert_exporter": "python",
   "pygments_lexer": "ipython3",
   "version": "3.9.7"
  },
  "toc": {
   "base_numbering": 1,
   "nav_menu": {},
   "number_sections": true,
   "sideBar": true,
   "skip_h1_title": true,
   "title_cell": "Table of Contents",
   "title_sidebar": "Python私房手册-SQL魔术师sqlalchemy ",
   "toc_cell": false,
   "toc_position": {
    "height": "calc(100% - 180px)",
    "left": "10px",
    "top": "150px",
    "width": "307.2px"
   },
   "toc_section_display": true,
   "toc_window_display": true
  }
 },
 "nbformat": 4,
 "nbformat_minor": 5
}
