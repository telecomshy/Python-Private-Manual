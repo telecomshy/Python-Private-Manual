{
 "cells": [
  {
   "cell_type": "markdown",
   "id": "19c7210b",
   "metadata": {},
   "source": [
    "# Python私房手册-常用代码收集"
   ]
  },
  {
   "cell_type": "markdown",
   "id": "61b3ccb2",
   "metadata": {},
   "source": [
    "## 根据字典的值查找字典的键"
   ]
  },
  {
   "cell_type": "code",
   "execution_count": 90,
   "id": "1d24f8d5",
   "metadata": {},
   "outputs": [
    {
     "data": {
      "text/plain": [
       "'a'"
      ]
     },
     "execution_count": 90,
     "metadata": {},
     "output_type": "execute_result"
    }
   ],
   "source": [
    "dic = {'a': '001', 'b': '002', 'c': '001'}\n",
    "list(dic.keys())[list(dic.values()).index(\"001\")]"
   ]
  },
  {
   "cell_type": "markdown",
   "id": "b2f86442",
   "metadata": {},
   "source": [
    "## 如果可迭代对象的过滤结果只有一个值"
   ]
  },
  {
   "cell_type": "markdown",
   "id": "652a4e69",
   "metadata": {},
   "source": [
    "当过滤一个可迭代对象，一般我们是用`filter`方法或者列表推导，最后再将`filter`的结果转化为列表，如下："
   ]
  },
  {
   "cell_type": "code",
   "execution_count": 6,
   "id": "b8c4c67e",
   "metadata": {},
   "outputs": [
    {
     "data": {
      "text/plain": [
       "[5]"
      ]
     },
     "execution_count": 6,
     "metadata": {},
     "output_type": "execute_result"
    }
   ],
   "source": [
    "list(filter(lambda x:x==5, range(1, 10)))"
   ]
  },
  {
   "cell_type": "code",
   "execution_count": 7,
   "id": "98eb12be",
   "metadata": {},
   "outputs": [
    {
     "data": {
      "text/plain": [
       "[5]"
      ]
     },
     "execution_count": 7,
     "metadata": {},
     "output_type": "execute_result"
    }
   ],
   "source": [
    "[x for x in range(1, 10) if x==5]"
   ]
  },
  {
   "cell_type": "markdown",
   "id": "28e34039",
   "metadata": {},
   "source": [
    "但是如果确定结果只有一个，那么可以巧妙的利用`next()`加生成器："
   ]
  },
  {
   "cell_type": "code",
   "execution_count": 8,
   "id": "9922d80a",
   "metadata": {},
   "outputs": [
    {
     "data": {
      "text/plain": [
       "5"
      ]
     },
     "execution_count": 8,
     "metadata": {},
     "output_type": "execute_result"
    }
   ],
   "source": [
    "next(x for x in range(1, 10) if x==5)"
   ]
  },
  {
   "cell_type": "markdown",
   "id": "0d5724cb",
   "metadata": {},
   "source": [
    "## 获取字典的第一个键"
   ]
  },
  {
   "cell_type": "markdown",
   "id": "3bbf360b",
   "metadata": {},
   "source": [
    "字典的keys(),values(),items()返回的dict_keys, dict_values和dict_items对象，这些对象不能够直接进行切片运算，因此如果要获取第一个键，不能直接`d.keys()[0]`，可以利用生成器："
   ]
  },
  {
   "cell_type": "code",
   "execution_count": 12,
   "id": "50fa8c52",
   "metadata": {},
   "outputs": [
    {
     "name": "stdout",
     "output_type": "stream",
     "text": [
      "a\n"
     ]
    }
   ],
   "source": [
    "d = {\"a\":42, \"b\":24}\n",
    "first_key = next(iter(d))\n",
    "print(first_key)"
   ]
  },
  {
   "cell_type": "markdown",
   "id": "cb50493e",
   "metadata": {},
   "source": [
    "同理，可以获取字典的第一个值或者第一个键值对："
   ]
  },
  {
   "cell_type": "code",
   "execution_count": 13,
   "id": "9608e45d",
   "metadata": {},
   "outputs": [
    {
     "name": "stdout",
     "output_type": "stream",
     "text": [
      "42\n",
      "('a', 42)\n"
     ]
    }
   ],
   "source": [
    "print(next(iter(d.values())))\n",
    "print(next(iter(d.items())))"
   ]
  },
  {
   "cell_type": "markdown",
   "id": "b08f34c8",
   "metadata": {},
   "source": [
    "如果要切片的话，可以利用itertools的islice函数:"
   ]
  },
  {
   "cell_type": "code",
   "execution_count": 22,
   "id": "23833881",
   "metadata": {},
   "outputs": [
    {
     "name": "stdout",
     "output_type": "stream",
     "text": [
      "b\n"
     ]
    }
   ],
   "source": [
    "import itertools\n",
    "\n",
    "print(next(itertools.islice(d, 1, 2)))"
   ]
  },
  {
   "cell_type": "markdown",
   "id": "13f73de1",
   "metadata": {},
   "source": [
    "## 获取一个随机的端口"
   ]
  },
  {
   "cell_type": "markdown",
   "id": "7a345adb",
   "metadata": {},
   "source": [
    "```python\n",
    "def get_rand_local_port():\n",
    "    \"\"\"\n",
    "    获取随机的端口\n",
    "    :return: 返回一个随机的10000到20000之间的端口\n",
    "    \"\"\"\n",
    "    ostype = platform.system()\n",
    "    if ostype == \"Linux\":\n",
    "        # linux服务器下使用\n",
    "        pscmd = \"netstat -ntl |grep -v Active| grep -v Proto|awk '{print $4}'|awk -F: '{print $NF}'\"\n",
    "        procs = os.popen(pscmd).read()\n",
    "        procarr = procs.split(\"\\n\")\n",
    "        while True:\n",
    "            localport = random.randint(10000, 20000)\n",
    "            if str(localport) not in procarr:\n",
    "                return localport\n",
    "    else:\n",
    "        # 其它操作系统随意返回一个10000到20000之间的端口\n",
    "        return random.randint(10000, 20000)\n",
    "```"
   ]
  },
  {
   "cell_type": "code",
   "execution_count": null,
   "id": "eb9a1a7a",
   "metadata": {},
   "outputs": [],
   "source": []
  }
 ],
 "metadata": {
  "kernelspec": {
   "display_name": "Python 3 (ipykernel)",
   "language": "python",
   "name": "python3"
  },
  "language_info": {
   "codemirror_mode": {
    "name": "ipython",
    "version": 3
   },
   "file_extension": ".py",
   "mimetype": "text/x-python",
   "name": "python",
   "nbconvert_exporter": "python",
   "pygments_lexer": "ipython3",
   "version": "3.9.7"
  },
  "toc": {
   "base_numbering": 1,
   "nav_menu": {},
   "number_sections": true,
   "sideBar": true,
   "skip_h1_title": true,
   "title_cell": "Table of Contents",
   "title_sidebar": "Python私房手册-有用的代码收集",
   "toc_cell": false,
   "toc_position": {},
   "toc_section_display": true,
   "toc_window_display": true
  }
 },
 "nbformat": 4,
 "nbformat_minor": 5
}
