{
 "cells": [
  {
   "cell_type": "code",
   "execution_count": 1,
   "metadata": {},
   "outputs": [],
   "source": [
    "from IPython.core.interactiveshell import InteractiveShell\n",
    "InteractiveShell.ast_node_interactivity = 'all'"
   ]
  },
  {
   "cell_type": "markdown",
   "metadata": {},
   "source": [
    "# python私房手册-日期文件处理,正则表达式和常用内置包"
   ]
  },
  {
   "cell_type": "markdown",
   "metadata": {},
   "source": [
    "## 时间和日期"
   ]
  },
  {
   "cell_type": "markdown",
   "metadata": {},
   "source": [
    "`python`中时间和日期不难，但是常常写代码的时候，却有不知从何下手的感觉，特别是内置有`time`和`datetime`两个库，不知道用那个。这里在别人的基础上添加一点自己的理解，先看[Python时间日期格式化之time与datetime模块总结](https://www.cnblogs.com/chenhuabin/p/10099766.html)。\n",
    "\n",
    "`time`在官方文档中,被分类在通用操作系统服务中，`datetime`是对`time`的封装，分类在数据类型中，从分类就可以看出,`time`倾向于提供开发中与系统时间相关的功能，它还包含诸如 返回指定的线程id的特定于线程的CPU时间时钟的clk_id 这样的函数，而`datetime`更倾向于用作数据分析和处理。"
   ]
  },
  {
   "cell_type": "markdown",
   "metadata": {},
   "source": [
    "### `time`模块"
   ]
  },
  {
   "attachments": {
    "%E5%9B%BE%E7%89%87.png": {
     "image/png": "[encoded data removed]"
    }
   },
   "cell_type": "markdown",
   "metadata": {},
   "source": [
    "在`python`中，所有的时间有三种基本格式，分别是时间戳，时间元组和时间字符串。它们的关系如下：\n",
    "![%E5%9B%BE%E7%89%87.png](attachment:%E5%9B%BE%E7%89%87.png)"
   ]
  },
  {
   "cell_type": "markdown",
   "metadata": {},
   "source": [
    "这里记录几个要点：\n",
    "1. 所有这些函数都是`time`的顶层函数，是没有对象的转换方法的。\n",
    "2. `localtime`是转换为本地时间，`gmtime`是转换为标准时间。\n",
    "3. `asctime`和`ctime`相当于两个快捷方法，直接将时间元组和时间戳转换为固定格式的字符串。\n",
    "4. 格式化参数见[官方文档](https://docs.python.org/zh-cn/3/library/time.html)。"
   ]
  },
  {
   "cell_type": "code",
   "execution_count": 154,
   "metadata": {},
   "outputs": [
    {
     "data": {
      "text/plain": [
       "time.struct_time(tm_year=2020, tm_mon=12, tm_mday=30, tm_hour=16, tm_min=50, tm_sec=31, tm_wday=2, tm_yday=365, tm_isdst=0)"
      ]
     },
     "execution_count": 154,
     "metadata": {},
     "output_type": "execute_result"
    },
    {
     "data": {
      "text/plain": [
       "time.struct_time(tm_year=2020, tm_mon=12, tm_mday=30, tm_hour=8, tm_min=50, tm_sec=31, tm_wday=2, tm_yday=365, tm_isdst=0)"
      ]
     },
     "execution_count": 154,
     "metadata": {},
     "output_type": "execute_result"
    },
    {
     "data": {
      "text/plain": [
       "'2020-12-30 16:50'"
      ]
     },
     "execution_count": 154,
     "metadata": {},
     "output_type": "execute_result"
    },
    {
     "data": {
      "text/plain": [
       "'Wed Dec 30 16:50:31 2020'"
      ]
     },
     "execution_count": 154,
     "metadata": {},
     "output_type": "execute_result"
    },
    {
     "data": {
      "text/plain": [
       "'Wed Dec 30 08:50:31 2020'"
      ]
     },
     "execution_count": 154,
     "metadata": {},
     "output_type": "execute_result"
    }
   ],
   "source": [
    "import time\n",
    "\n",
    "now = time.time()\n",
    "localtime = time.localtime(now)\n",
    "gmtime = time.gmtime(now)\n",
    "localtime\n",
    "gmtime\n",
    "time.strftime(\"%Y-%m-%d %H:%M\", localtime)\n",
    "time.ctime(now)\n",
    "time.asctime(gmtime)"
   ]
  },
  {
   "cell_type": "markdown",
   "metadata": {},
   "source": [
    "### `datetime`模块"
   ]
  },
  {
   "cell_type": "markdown",
   "metadata": {},
   "source": [
    "`datetime`模块有`date`，`time`，`datetime`，`timedelta`和`tzinfo`五个类，分别提供对日期、时间、时间日期、时间间隔、时区的处理。"
   ]
  },
  {
   "cell_type": "markdown",
   "metadata": {},
   "source": [
    "#### `datetime.date`和`datetime.time`"
   ]
  },
  {
   "cell_type": "markdown",
   "metadata": {},
   "source": [
    "`date`和`time`本质上是时间元组，由于只包含部分时间信息，除了直接通过参数构造对象以外，`date`只提供了将时间戳转换为`date`对象，以及转换成字符串的方法，而`time`只提供转换成字符串的方法，均不能反向转换，即将字符串转换成`date`或者`time`对象，也不能将`date`或者`time`对象还原成时间戳。"
   ]
  },
  {
   "cell_type": "code",
   "execution_count": 156,
   "metadata": {},
   "outputs": [
    {
     "data": {
      "text/plain": [
       "datetime.date(2020, 12, 30)"
      ]
     },
     "execution_count": 156,
     "metadata": {},
     "output_type": "execute_result"
    },
    {
     "data": {
      "text/plain": [
       "datetime.date(2019, 12, 12)"
      ]
     },
     "execution_count": 156,
     "metadata": {},
     "output_type": "execute_result"
    },
    {
     "data": {
      "text/plain": [
       "datetime.date(2020, 12, 30)"
      ]
     },
     "execution_count": 156,
     "metadata": {},
     "output_type": "execute_result"
    },
    {
     "data": {
      "text/plain": [
       "'2020-12-30'"
      ]
     },
     "execution_count": 156,
     "metadata": {},
     "output_type": "execute_result"
    }
   ],
   "source": [
    "from datetime import date\n",
    "import time\n",
    "\n",
    "now = time.time()\n",
    "# 通过today函数\n",
    "d1 = date.today()\n",
    "# 通过参数构造\n",
    "d2 = date(year=2019, month=12, day=12)\n",
    "# 通过时间戳构造\n",
    "d3 = date.fromtimestamp(now)\n",
    "d1\n",
    "d2\n",
    "d3\n",
    "d1.strftime(\"%Y-%m-%d\")"
   ]
  },
  {
   "cell_type": "markdown",
   "metadata": {},
   "source": [
    "#### `datetime.datetime`"
   ]
  },
  {
   "cell_type": "markdown",
   "metadata": {},
   "source": [
    "`datetime`类结合了`date`和`time`两个类，因为它具备了所有的时间信息，因此它可以在各种不同的时间格式中自由转换："
   ]
  },
  {
   "cell_type": "code",
   "execution_count": 64,
   "metadata": {},
   "outputs": [],
   "source": [
    "from datetime import datetime"
   ]
  },
  {
   "cell_type": "code",
   "execution_count": 69,
   "metadata": {},
   "outputs": [
    {
     "data": {
      "text/plain": [
       "datetime.datetime(2019, 12, 12, 17, 42, 36, 795643)"
      ]
     },
     "execution_count": 69,
     "metadata": {},
     "output_type": "execute_result"
    },
    {
     "data": {
      "text/plain": [
       "datetime.datetime(2019, 12, 12, 17, 42, 36, 795644)"
      ]
     },
     "execution_count": 69,
     "metadata": {},
     "output_type": "execute_result"
    }
   ],
   "source": [
    "now = datetime.now()\n",
    "today = datetime.today()\n",
    "now\n",
    "today"
   ]
  },
  {
   "cell_type": "code",
   "execution_count": 84,
   "metadata": {},
   "outputs": [
    {
     "data": {
      "text/plain": [
       "datetime.datetime(2019, 12, 12, 17, 51, 11, 221928)"
      ]
     },
     "execution_count": 84,
     "metadata": {},
     "output_type": "execute_result"
    },
    {
     "data": {
      "text/plain": [
       "datetime.datetime(2019, 12, 12, 23, 59, 59)"
      ]
     },
     "execution_count": 84,
     "metadata": {},
     "output_type": "execute_result"
    },
    {
     "data": {
      "text/plain": [
       "'Thu Dec 12 17:42:36 2019'"
      ]
     },
     "execution_count": 84,
     "metadata": {},
     "output_type": "execute_result"
    }
   ],
   "source": [
    "datetime.fromtimestamp(time.time())\n",
    "datetime.strptime(\"2019-12-12 23:59:59\", \"%Y-%m-%d %H:%M:%S\")\n",
    "# 同样有ctime方法，注意和time.ctime方法不同，datetime.ctime的参数是datetime对象而不是时间戳\n",
    "datetime.ctime(now)"
   ]
  },
  {
   "cell_type": "markdown",
   "metadata": {},
   "source": [
    "可以分别获取日期和时间，再用`combine`同时可以将日期和时间合并："
   ]
  },
  {
   "cell_type": "code",
   "execution_count": 73,
   "metadata": {},
   "outputs": [
    {
     "data": {
      "text/plain": [
       "datetime.datetime(2019, 12, 12, 17, 42, 36, 795643)"
      ]
     },
     "execution_count": 73,
     "metadata": {},
     "output_type": "execute_result"
    }
   ],
   "source": [
    "d = now.date()\n",
    "t = now.time()\n",
    "datetime.combine(d, t)"
   ]
  },
  {
   "cell_type": "markdown",
   "metadata": {},
   "source": [
    "#### `datetime.timetelta`"
   ]
  },
  {
   "cell_type": "markdown",
   "metadata": {},
   "source": [
    "`timedelta`主要是用来进行时间之间的运算，比如："
   ]
  },
  {
   "cell_type": "code",
   "execution_count": 2,
   "metadata": {},
   "outputs": [],
   "source": [
    "from datetime import datetime, timedelta\n",
    "import time\n",
    "\n",
    "now = datetime.now() \n",
    "three_hours_ago = now - timedelta(hours=3)\n",
    "now\n",
    "three_hours_ago"
   ]
  },
  {
   "cell_type": "markdown",
   "metadata": {},
   "source": [
    "#### 时区转换"
   ]
  },
  {
   "cell_type": "markdown",
   "metadata": {},
   "source": [
    "`datetime`模块可以把utc格式的时间转换成本地时间，但是不太好用。先来看个概念，`python`的`datetime`对象和`time`对象分为感知型和简单型两种，简单来说，不带时区信息的是简单型，带了时区信息的是感知型，准确的判断条件是，对象同时满足以下两个条件则为感知型：\n",
    "1. `d.tzinfo` 不为 `None`\n",
    "2. `d.tzinfo.utcoffset(d)` 不返回 `None`\n",
    "\n",
    "先看以下一段代码，使用`astimezone`方法将`utc`标准时间转换成本地时间："
   ]
  },
  {
   "cell_type": "code",
   "execution_count": 5,
   "metadata": {},
   "outputs": [
    {
     "name": "stdout",
     "output_type": "stream",
     "text": [
      "2020-03-25 11:14:09.708928\n",
      "2020-03-25 11:14:09.708928+00:00\n",
      "2020-03-25 19:14:09.708928+08:00\n"
     ]
    }
   ],
   "source": [
    "from datetime import datetime, timezone\n",
    "\n",
    "now = datetime.now()\n",
    "now_utc = now.replace(tzinfo=timezone.utc)\n",
    "local = now_utc.astimezone()\n",
    "\n",
    "print(now)\n",
    "print(now_utc)\n",
    "print(local)"
   ]
  },
  {
   "cell_type": "markdown",
   "metadata": {},
   "source": [
    "如果不了解感知型和简单型两种时间类型，会觉得转换方法很别扭。因为平时我们通过`datetime`的`now`函数虽然获取的是本机的时间（也就是本地的当前时间），但是是简单型，不带时区信息。当使用`replace`方法加入时区信息的时候，变成了感知型，但是注意，此时只是简单加了时区信息，并未发生时区的转换。再使用`astimezone`函数将`utc`时间转换成本地时间。\n",
    "\n",
    "如果要在时区之间转换，最简单的方法是使用`pytz`库（《编写高质量python的59个方法》中说要执行时区偏移的操作，需要先转成`utc`格式的`datetime`对象，但是自己测试仅仅只是时区转换的话，貌似可以直接转换）："
   ]
  },
  {
   "cell_type": "code",
   "execution_count": 97,
   "metadata": {},
   "outputs": [
    {
     "name": "stdout",
     "output_type": "stream",
     "text": [
      "2020-01-10 11:40:53.035046+08:00\n",
      "2020-01-09 22:40:53.035046-05:00\n"
     ]
    }
   ],
   "source": [
    "import pytz\n",
    "\n",
    "now = datetime.now()\n",
    "tz_sh = pytz.timezone('Asia/Shanghai')\n",
    "sh_dt = tz_sh.localize(now)\n",
    "tz_eastern = pytz.timezone('US/Eastern')\n",
    "eastern_dt = tz_eastern.normalize(sh_dt)\n",
    "print(sh_dt)\n",
    "print(eastern_dt)"
   ]
  },
  {
   "cell_type": "markdown",
   "metadata": {},
   "source": [
    "#### 时间格式转换"
   ]
  },
  {
   "cell_type": "markdown",
   "metadata": {},
   "source": [
    "`datetime`类构造的是一个`datetime.datetime`对象，可以转换成`time`的三种时间格式，即时间元组，字符串，时间戳。\n",
    "\n",
    "- `datetime.timetuple()`: 转换成时间元组\n",
    "- `datetime.timestamp()`: 转换成时间戳\n",
    "- `datetime.strftime()`: 转换成字符串\n",
    "\n",
    "其中，转换成字符串需要提供时间格式模板，常用的时间格式符如下：\n",
    "- [时间格式符查询](https://www.cnblogs.com/fwl8888/p/9635505.html)"
   ]
  },
  {
   "cell_type": "code",
   "execution_count": 5,
   "metadata": {},
   "outputs": [],
   "source": [
    "from datetime import datetime\n",
    "\n",
    "now = datetime.now()"
   ]
  },
  {
   "cell_type": "code",
   "execution_count": 6,
   "metadata": {},
   "outputs": [
    {
     "data": {
      "text/plain": [
       "time.struct_time(tm_year=2021, tm_mon=6, tm_mday=18, tm_hour=16, tm_min=59, tm_sec=7, tm_wday=4, tm_yday=169, tm_isdst=-1)"
      ]
     },
     "execution_count": 6,
     "metadata": {},
     "output_type": "execute_result"
    }
   ],
   "source": [
    "now.timetuple()"
   ]
  },
  {
   "cell_type": "code",
   "execution_count": 7,
   "metadata": {},
   "outputs": [
    {
     "data": {
      "text/plain": [
       "1624006747.105055"
      ]
     },
     "execution_count": 7,
     "metadata": {},
     "output_type": "execute_result"
    }
   ],
   "source": [
    "now.timestamp()"
   ]
  },
  {
   "cell_type": "code",
   "execution_count": 9,
   "metadata": {},
   "outputs": [
    {
     "data": {
      "text/plain": [
       "'2021-06-18 16:59:07'"
      ]
     },
     "execution_count": 9,
     "metadata": {},
     "output_type": "execute_result"
    }
   ],
   "source": [
    "now.strftime(\"%Y-%m-%d %H:%M:%S\")"
   ]
  },
  {
   "cell_type": "markdown",
   "metadata": {},
   "source": [
    "## 文件与路径"
   ]
  },
  {
   "cell_type": "markdown",
   "metadata": {},
   "source": [
    "### 文件读写的t模式和b模式"
   ]
  },
  {
   "cell_type": "markdown",
   "metadata": {},
   "source": [
    "1. t：控制文件读写内容的模式\n",
    " - 读写都是以字符串（unicode）为单位\n",
    " - 只能针对文本文件\n",
    " - 必须指定字符编码，即必须指定encoding参数\n",
    "2. b: binary模式\n",
    " - 读写都是以bytes为单位\n",
    " - 可以针对所有文件\n",
    " - 一定不能指定字符编码，即一定不能指定encoding参数\n",
    "\n",
    "另外，除了w,r,a以及文件读写模式外，比较少见的还有一个x模式，表示当文件存在时抛出错误。而普通的w,a，文件存在时，会覆盖现有文件。"
   ]
  },
  {
   "cell_type": "markdown",
   "metadata": {},
   "source": [
    "### `os.path.abspath`和`os.path.realpath`的区别"
   ]
  },
  {
   "cell_type": "markdown",
   "metadata": {},
   "source": [
    "主要在`Linux`系统上，这两个命令有区别，`abspath`返回文件的绝对目录，不管是实际的文件还是软链接，`realpath`总是返回文件真实的绝对目录。"
   ]
  },
  {
   "cell_type": "markdown",
   "metadata": {},
   "source": [
    "## 正则表达式"
   ]
  },
  {
   "cell_type": "markdown",
   "metadata": {},
   "source": [
    "### 易错概念"
   ]
  },
  {
   "cell_type": "markdown",
   "metadata": {},
   "source": [
    "#### 深入理解`r`"
   ]
  },
  {
   "cell_type": "markdown",
   "metadata": {},
   "source": [
    "- [How to use a variable inside a regular expression?](https://stackoverflow.com/questions/6930982/how-to-use-a-variable-inside-a-regular-expression)\n",
    "\n",
    "`r`是看起来简单，但是实际上比较难彻底掌握的一个概念，要彻底弄懂这个概念，首先要分清楚原始字符串、字符串字面量、正则表达式三个概念： \n",
    "在python中，我们输入是字符串字面量，和原始字符串不同，有一些特殊的符号通过`\\`+转义字符来表示，比如："
   ]
  },
  {
   "cell_type": "code",
   "execution_count": 4,
   "metadata": {},
   "outputs": [
    {
     "name": "stdout",
     "output_type": "stream",
     "text": [
      "1\b2\n"
     ]
    }
   ],
   "source": [
    "s = '1\\b2'  # 这是对象字面量，\\b表示特殊字符 退格\n",
    "print(s)    # 原始字符串为1退格2，打印出来的是原始字符串"
   ]
  },
  {
   "cell_type": "markdown",
   "metadata": {},
   "source": [
    "如果想表示斜杠+b怎么办呢，则需要先使用`\\`对`\\`进行转义，让它表示原始的斜杠，比如："
   ]
  },
  {
   "cell_type": "code",
   "execution_count": 5,
   "metadata": {},
   "outputs": [
    {
     "name": "stdout",
     "output_type": "stream",
     "text": [
      "1\\b2\n"
     ]
    }
   ],
   "source": [
    "s = '1\\\\b2'\n",
    "print(s)"
   ]
  },
  {
   "cell_type": "markdown",
   "metadata": {},
   "source": [
    "`r`就表示`\\`没有特殊意义，就表示原始的斜杠："
   ]
  },
  {
   "cell_type": "code",
   "execution_count": 6,
   "metadata": {},
   "outputs": [
    {
     "name": "stdout",
     "output_type": "stream",
     "text": [
      "1\\b2\n"
     ]
    }
   ],
   "source": [
    "s = r'1\\b2'\n",
    "print(s)"
   ]
  },
  {
   "cell_type": "markdown",
   "metadata": {},
   "source": [
    "那么我们在做正则匹配的时候，正则表达式里面也有一些特殊字符使用`\\`+字母表示，比如`\\w`，`\\s`等，这就和字符串字面量的转义有了冲突，因此在正则表达式中，我们还需要进行一次去转义："
   ]
  },
  {
   "cell_type": "code",
   "execution_count": 2,
   "metadata": {},
   "outputs": [],
   "source": [
    "import re"
   ]
  },
  {
   "cell_type": "code",
   "execution_count": 9,
   "metadata": {},
   "outputs": [
    {
     "data": {
      "text/plain": [
       "<re.Match object; span=(0, 0), match=''>"
      ]
     },
     "execution_count": 9,
     "metadata": {},
     "output_type": "execute_result"
    }
   ],
   "source": [
    "re.search(r'\\b', r'a\\bc')"
   ]
  },
  {
   "cell_type": "markdown",
   "metadata": {},
   "source": [
    "字符串字面量中`r'a\\bc'`，对`\\`进行了去转义，`\\`就表示普通的斜杠，但是在前面的模式`r'\\b'`中，注意此时的`\\b`在正则当中表示的是单词边界，r仅仅只是表示对字符串字面量不进行转义，但是不表示对正则也不进行转义。所以，此时匹配到的是单词边界，而并不如想象中的，匹配到字符'\\b'，如果要匹配'\\b'，还需要对模式中的斜杠进行转义："
   ]
  },
  {
   "cell_type": "code",
   "execution_count": 10,
   "metadata": {},
   "outputs": [
    {
     "data": {
      "text/plain": [
       "<re.Match object; span=(1, 3), match='\\\\b'>"
      ]
     },
     "execution_count": 10,
     "metadata": {},
     "output_type": "execute_result"
    }
   ],
   "source": [
    "re.search(r'\\\\b', r'a\\bc')"
   ]
  },
  {
   "cell_type": "markdown",
   "metadata": {},
   "source": [
    "在`r'a\\bc'`中，要匹配的是一个斜杠和一个b，首先匹配斜杠，正则中匹配斜杠需要先转义，再次提醒，r只是表示对字符串字面量去转义，不代表对正则也去转义。斜杠在正则模式中也有特殊意义，如果要单纯的匹配斜杠，在正则中还是要去转义。再来看："
   ]
  },
  {
   "cell_type": "code",
   "execution_count": 12,
   "metadata": {},
   "outputs": [
    {
     "data": {
      "text/plain": [
       "<re.Match object; span=(0, 4), match='1\\\\b2'>"
      ]
     },
     "execution_count": 12,
     "metadata": {},
     "output_type": "execute_result"
    }
   ],
   "source": [
    "import re\n",
    "\n",
    "re.search('1\\\\\\\\b2', '1\\\\b2') # 要匹配的对象字面量有两个\\，因此正则表达式要转义两次"
   ]
  },
  {
   "cell_type": "markdown",
   "metadata": {},
   "source": [
    "由于没有加上r，所以`'1\\\\b2'`实际上并不是两个斜杠，去转义后最终要匹配的实际是`'1\\b2'`，而在正则模式中，匹配一个斜杠，首先要对对象字面量进行一次去转义变成两个斜杠`'\\\\'`，然后对每一个斜杠再进行正则的去转义，这就变成了四个斜杠`'\\\\\\\\'`。"
   ]
  },
  {
   "cell_type": "markdown",
   "metadata": {},
   "source": [
    "简单来说，在字符串字面量中，如果要表示普通的`\\`斜杠，需要用两个`\\\\`斜杠表示，而如果是正则表达式中，则需要用`\\\\\\\\`四个斜杠表示。加上`r`只是表示对象字面量的`\\`无特殊意义，所以在正则表达式中，可以少两个`\\`，只用两个`\\`表示普通的斜杠。\n",
    "\n",
    "还有两个知识点要注意：\n",
    "1. 字符串字面量中，斜杠+字母没有特殊意义时，python会自动加一个\\"
   ]
  },
  {
   "cell_type": "code",
   "execution_count": 17,
   "metadata": {},
   "outputs": [
    {
     "data": {
      "text/plain": [
       "'\\x08'"
      ]
     },
     "execution_count": 17,
     "metadata": {},
     "output_type": "execute_result"
    }
   ],
   "source": [
    "'\\b'  # '\\b'在字符串字面量中有特殊意义"
   ]
  },
  {
   "cell_type": "code",
   "execution_count": 43,
   "metadata": {},
   "outputs": [
    {
     "data": {
      "text/plain": [
       "'\\\\wait'"
      ]
     },
     "execution_count": 43,
     "metadata": {},
     "output_type": "execute_result"
    }
   ],
   "source": [
    "'\\wait'  # \\w在字符串字面量中无特殊意义，python会自动给其加上一个\\，所以它的字符串字面量是\\\\wait"
   ]
  },
  {
   "cell_type": "markdown",
   "metadata": {},
   "source": [
    "所以，匹配`\\wait`和匹配`\\\\wait`是一样的，我们只需要关注的是最终要匹配的是什么，`\\w`和`\\\\w`最终要匹配的都是一个斜杠和字母`w`："
   ]
  },
  {
   "cell_type": "code",
   "execution_count": 42,
   "metadata": {},
   "outputs": [
    {
     "data": {
      "text/plain": [
       "<re.Match object; span=(0, 5), match='\\\\wait'>"
      ]
     },
     "execution_count": 42,
     "metadata": {},
     "output_type": "execute_result"
    }
   ],
   "source": [
    "re.search('\\\\\\\\wait', '\\wait')   # 此时匹配\\wait和匹配\\\\wait是一样的"
   ]
  },
  {
   "cell_type": "code",
   "execution_count": 36,
   "metadata": {},
   "outputs": [
    {
     "data": {
      "text/plain": [
       "<re.Match object; span=(0, 5), match='\\\\wait'>"
      ]
     },
     "execution_count": 36,
     "metadata": {},
     "output_type": "execute_result"
    }
   ],
   "source": [
    "re.search('\\\\\\\\wait', '\\\\wait')"
   ]
  },
  {
   "cell_type": "markdown",
   "metadata": {},
   "source": [
    "2. 正则中，会先按字符串字面量进行转义，再按正则规则进行转义"
   ]
  },
  {
   "cell_type": "code",
   "execution_count": 57,
   "metadata": {},
   "outputs": [],
   "source": [
    "re.search('\\bworld', 'hello world')   # 这里的\\b表示的是退格键"
   ]
  },
  {
   "cell_type": "code",
   "execution_count": 20,
   "metadata": {},
   "outputs": [
    {
     "data": {
      "text/plain": [
       "<re.Match object; span=(6, 11), match='world'>"
      ]
     },
     "execution_count": 20,
     "metadata": {},
     "output_type": "execute_result"
    }
   ],
   "source": [
    "re.search('\\\\bworld', 'hello world')  #  这里的\\\\b才是表示正则的单词边界"
   ]
  },
  {
   "cell_type": "markdown",
   "metadata": {},
   "source": [
    "#### `rf`搭配使用注意事项"
   ]
  },
  {
   "cell_type": "markdown",
   "metadata": {},
   "source": [
    "在python3.6以后，可以`rf`搭配使用，不过要注意一点就是，`rf`中，如果表示正则的`{}`，需要两个括号，否则表示变量替换："
   ]
  },
  {
   "cell_type": "code",
   "execution_count": 62,
   "metadata": {},
   "outputs": [
    {
     "data": {
      "text/plain": [
       "<re.Match object; span=(0, 19), match='shy height is 176cm'>"
      ]
     },
     "execution_count": 62,
     "metadata": {},
     "output_type": "execute_result"
    }
   ],
   "source": [
    "import re\n",
    "\n",
    "name = 'shy'\n",
    "re.search(rf'{name} height is \\d{{3}}cm', 'shy height is 176cm')  # {name}表示变量替换，{{3}}表示3个数字"
   ]
  },
  {
   "cell_type": "markdown",
   "metadata": {},
   "source": [
    "#### `search`、`findall`，`finditer`和的区别"
   ]
  },
  {
   "cell_type": "markdown",
   "metadata": {},
   "source": [
    "刚开始的时候对于什么时候用哪个方法总是弄不太清楚，所以这里做个梳理，并且总结重难点：\n",
    "1. `findall`和`finditer`是全局匹配，简单说如果文本中有2个及以上能匹配上正则，则都会找出来。而`search`只会返回第一个匹配成功的结果。\n",
    "2. 如果正则表达式不包含分组，则`findall`返回所有匹配成功的结果构成的列表，如果包含分组，则返回的列表只包含所有匹配成功的分组构成的元组，而不会包含匹配成功的完整结果。\n",
    "3. `finditer`弥补了有分组时，无法返回完整结果的缺点。它是一个生成器，每次返回一个匹配成功的`match`对象，和`search`返回的结果一样。因此可以根据需求提取想要的结果。"
   ]
  },
  {
   "cell_type": "code",
   "execution_count": 1,
   "metadata": {},
   "outputs": [
    {
     "data": {
      "text/plain": [
       "('This', 'test')"
      ]
     },
     "execution_count": 7,
     "metadata": {},
     "output_type": "execute_result"
    },
    {
     "data": {
      "text/plain": [
       "'This is a test'"
      ]
     },
     "execution_count": 1,
     "metadata": {},
     "output_type": "execute_result"
    }
   ],
   "source": [
    "import re\n",
    "text = \"This is a test string, That has two test lines\"\n",
    "m = re.search(r\"(Th\\w+).*?(test)\", text)  # 注意是非贪婪匹配\n",
    "\n",
    "# search方法只能匹配第一句，匹配成功就返回了。\n",
    "m.groups()\n",
    "m.group(0)"
   ]
  },
  {
   "cell_type": "code",
   "execution_count": 8,
   "metadata": {},
   "outputs": [
    {
     "data": {
      "text/plain": [
       "['This is a test', 'That has two test']"
      ]
     },
     "execution_count": 8,
     "metadata": {},
     "output_type": "execute_result"
    }
   ],
   "source": [
    "# 正则里面不包含分组，则返回完整的匹配成功的结果\n",
    "re.findall(r\"Th\\w+.*?test\", text)"
   ]
  },
  {
   "cell_type": "code",
   "execution_count": 9,
   "metadata": {},
   "outputs": [
    {
     "data": {
      "text/plain": [
       "[('This', 'test'), ('That', 'test')]"
      ]
     },
     "execution_count": 9,
     "metadata": {},
     "output_type": "execute_result"
    }
   ],
   "source": [
    "# 正则里面包含分组，则列表只返回匹配成功的分组构成的元组\n",
    "re.findall(r\"(Th\\w+).*?(test)\", text)"
   ]
  },
  {
   "cell_type": "code",
   "execution_count": 4,
   "metadata": {},
   "outputs": [
    {
     "name": "stdout",
     "output_type": "stream",
     "text": [
      "This is a test\n",
      "That has two test\n"
     ]
    }
   ],
   "source": [
    "# 如果正则里面包含分组，又要获取完整的匹配结果，只能用finditer\n",
    "# 返回的每一个匹配成功的match对象，通过match对象的group(0)获取完整结果\n",
    "for m in re.finditer(r\"(Th\\w+).*?(test)\", text):\n",
    "    print(m.group(0))"
   ]
  },
  {
   "cell_type": "markdown",
   "metadata": {},
   "source": [
    "#### 扩展表示法"
   ]
  },
  {
   "cell_type": "markdown",
   "metadata": {},
   "source": [
    "这里记录正则表达式中常用的扩展表示法："
   ]
  },
  {
   "cell_type": "markdown",
   "metadata": {},
   "source": [
    "```python\n",
    "(?:)              :    不捕获分组\n",
    "(?#)              :    不做匹配，只是用作注释\n",
    "(?=)              :    右等于零宽断言\n",
    "(?!)              :    右不等于零宽断言\n",
    "(?<=)             :    左等于零宽断言\n",
    "(?<!)             :    左不等于零宽断言\n",
    "(?(1)y|x)         :    根据捕获的分组选择，如果捕获的分组1存在，就选y，否则选x\n",
    "(?P<name>)        :    为分组命名\n",
    " ```"
   ]
  },
  {
   "cell_type": "markdown",
   "metadata": {},
   "source": [
    "#### 嵌套的括号分组"
   ]
  },
  {
   "cell_type": "markdown",
   "metadata": {},
   "source": [
    "如果分组是嵌套的，则先从外向内数，数字依次增加，然后从左往右数，数字依次增加，如："
   ]
  },
  {
   "cell_type": "code",
   "execution_count": 70,
   "metadata": {},
   "outputs": [
    {
     "data": {
      "text/plain": [
       "('This', 'is', 'string', 'tr')"
      ]
     },
     "execution_count": 70,
     "metadata": {},
     "output_type": "execute_result"
    }
   ],
   "source": [
    "import re\n",
    "\n",
    "text = \"This is a test string\"\n",
    "m = re.search(r\"(T\\w+(is)).*(s(tr)\\w+)\", text)\n",
    "m.groups()"
   ]
  },
  {
   "cell_type": "markdown",
   "metadata": {},
   "source": [
    "#### 命名分组以及如何引用分组"
   ]
  },
  {
   "cell_type": "markdown",
   "metadata": {},
   "source": [
    "可以对分组命名，主要注意一下写法，命名分组可以通过`group(name)`调用，同时位置分组仍然可用。另外后续引用有几点要注意：\n",
    "1. 后续引用前面匹配的结果，可以`(?P=)`这样写，注意此时不会捕获后续引用的分组，如果想要捕获，要在外面再加个括号。\n",
    "2. 在`sub`方法中如果要引用前面的命名分组，使用`\\g<>`的方式，如果是位置分组，使用`\\1`,`\\2`的形式引用。"
   ]
  },
  {
   "cell_type": "code",
   "execution_count": 60,
   "metadata": {},
   "outputs": [
    {
     "data": {
      "text/plain": [
       "'This'"
      ]
     },
     "execution_count": 60,
     "metadata": {},
     "output_type": "execute_result"
    },
    {
     "data": {
      "text/plain": [
       "'This'"
      ]
     },
     "execution_count": 60,
     "metadata": {},
     "output_type": "execute_result"
    },
    {
     "data": {
      "text/plain": [
       "('This', 'This')"
      ]
     },
     "execution_count": 60,
     "metadata": {},
     "output_type": "execute_result"
    }
   ],
   "source": [
    "import re\n",
    "\n",
    "text = \"This is a test string\\nThis has two lines\"\n",
    "m = re.search(r\"(?P<a>t\\w+s).*((?P=a)).*\", text,\n",
    "              re.I + re.S)  # 要捕获引用的分组，要再加个括号，即((?P=a))，其中(?P=a)是引用前面的命名捕获\n",
    "m.group(\"a\")\n",
    "m.group(1)  # 位置分组和命名分组均可用\n",
    "m.groups()"
   ]
  },
  {
   "cell_type": "markdown",
   "metadata": {},
   "source": [
    "注意，此时`r\"(?P<a>t\\w+s).*\"`匹配上整个句子，用`\"\\g<a> is over\"`替换掉整个句子，且使用`\\g<a>`保留了之前匹配上的命名分组。此时位置分组用`\\1,\\2`来表示："
   ]
  },
  {
   "cell_type": "code",
   "execution_count": 67,
   "metadata": {},
   "outputs": [
    {
     "data": {
      "text/plain": [
       "'This is over'"
      ]
     },
     "execution_count": 67,
     "metadata": {},
     "output_type": "execute_result"
    }
   ],
   "source": [
    "re.sub(r\"(?P<a>t\\w+s).*\", r\"\\g<a> is over\", text, flags=re.I + re.S)"
   ]
  },
  {
   "cell_type": "markdown",
   "metadata": {},
   "source": [
    "#### 零宽断言"
   ]
  },
  {
   "cell_type": "markdown",
   "metadata": {},
   "source": [
    "所谓零宽，指的是匹配的是位置，而不是字符，宽度为0，因此叫零宽。网上或者一些书里面都称作向前（向后）正向（负向）零宽断言，感觉很不好理解，不如叫做左边（右边）等于（不等于）零宽断言好记。一般的形式有4种：\n",
    "- `(?=条件)`  这个位置的右边等于条件。\n",
    "- `(?!条件)`  这个位置的右边不等于条件。\n",
    "- `(?<=条件)` 这个位置的左边等于条件。\n",
    "- `(?<!条件)` 这个位置的左边不等于条件。\n",
    "\n",
    "如下的例子，仔细分辨其中的细微差别："
   ]
  },
  {
   "cell_type": "code",
   "execution_count": 4,
   "metadata": {},
   "outputs": [
    {
     "name": "stdout",
     "output_type": "stream",
     "text": [
      "no\n"
     ]
    },
    {
     "data": {
      "text/plain": [
       "<re.Match object; span=(6, 17), match='p up states'>"
      ]
     },
     "execution_count": 4,
     "metadata": {},
     "output_type": "execute_result"
    },
    {
     "data": {
      "text/plain": [
       "<re.Match object; span=(0, 5), match='port '>"
      ]
     },
     "execution_count": 4,
     "metadata": {},
     "output_type": "execute_result"
    },
    {
     "data": {
      "text/plain": [
       "<re.Match object; span=(0, 17), match='port up up states'>"
      ]
     },
     "execution_count": 4,
     "metadata": {},
     "output_type": "execute_result"
    }
   ],
   "source": [
    "import re\n",
    "\n",
    "text = \"port up up states\"\n",
    "# 括号里面匹配一个位置和一个任意字符，表示任意字符前面的位置后面都不能是up\\s+up，因此匹配不上，返回None\n",
    "re.search(r\"^((?!up\\s+up).)*$\", text)\n",
    "# 下面都可以匹配上\n",
    "re.search(r\"((?!up\\s+up).)*$\", text)\n",
    "# 从头开始匹配，当匹配到第一个u时不满足条件，因此结果为`port `\n",
    "re.search(r\"^((?!up\\s+up).)*\", text)\n",
    "# 不加括号仅仅表示只要开头不是`up\\s+up`，就可以匹配后面所有字符\n",
    "re.search(r\"^(?!up\\s+up).*\", text)"
   ]
  },
  {
   "cell_type": "markdown",
   "metadata": {},
   "source": [
    "#### `groups`，`group`的区别"
   ]
  },
  {
   "cell_type": "markdown",
   "metadata": {},
   "source": [
    "正则匹配以后，如果没有匹配上，返回`None`，如果匹配上，返回一个`match`对象。`match`对象有`groups`和`group`方法，区别如下：\n",
    "1. `groups`返回捕获的分组构成的元组，如果没有分组，则返回一个空的元组。\n",
    "2. `group`指单独的捕获的分组，其中`group(0)`和`group()`均指匹配上的整个字符串，注意，捕获的分组从1开始计数。"
   ]
  },
  {
   "cell_type": "code",
   "execution_count": 20,
   "metadata": {},
   "outputs": [
    {
     "data": {
      "text/plain": [
       "('This', 'Text')"
      ]
     },
     "execution_count": 20,
     "metadata": {},
     "output_type": "execute_result"
    },
    {
     "data": {
      "text/plain": [
       "'This is a test string\\nText has two lines'"
      ]
     },
     "execution_count": 20,
     "metadata": {},
     "output_type": "execute_result"
    },
    {
     "data": {
      "text/plain": [
       "'This is a test string\\nText has two lines'"
      ]
     },
     "execution_count": 20,
     "metadata": {},
     "output_type": "execute_result"
    },
    {
     "data": {
      "text/plain": [
       "'This'"
      ]
     },
     "execution_count": 20,
     "metadata": {},
     "output_type": "execute_result"
    },
    {
     "data": {
      "text/plain": [
       "'Text'"
      ]
     },
     "execution_count": 20,
     "metadata": {},
     "output_type": "execute_result"
    }
   ],
   "source": [
    "import re\n",
    "\n",
    "text = \"This is a test string\\nText has two lines\"\n",
    "m = re.search(r\"(t\\w+s).*(t\\w+t).*\", text, re.I + re.S)\n",
    "m.groups()\n",
    "m.group()\n",
    "m.group(0)\n",
    "m.group(1)\n",
    "m.group(2)"
   ]
  },
  {
   "cell_type": "markdown",
   "metadata": {},
   "source": [
    "#### 贪婪匹配和非贪婪匹配"
   ]
  },
  {
   "cell_type": "markdown",
   "metadata": {},
   "source": [
    "默认情况下是贪婪匹配，还是上面的例子，`.`会尽可能多的匹配符合条件的字符，因此第二个分组匹配到的是\"Text\"，如果在匹配模式`(*,+,?,{m,n})`后面加上`?`，则开启非贪婪模式，表示尽可能少的匹配，如下面的例子，因此，第二个分组匹配到的是`test`："
   ]
  },
  {
   "cell_type": "code",
   "execution_count": 22,
   "metadata": {},
   "outputs": [
    {
     "data": {
      "text/plain": [
       "('This', 'test')"
      ]
     },
     "execution_count": 22,
     "metadata": {},
     "output_type": "execute_result"
    }
   ],
   "source": [
    "import re\n",
    "\n",
    "text = \"This is a test string\\nText has two lines\"\n",
    "m = re.search(r\"(t\\w+s).*?(t\\w+t).*\", text, re.I + re.S)\n",
    "m.groups()"
   ]
  },
  {
   "cell_type": "markdown",
   "metadata": {},
   "source": [
    "#### 括号的一些少有人知的特性"
   ]
  },
  {
   "cell_type": "markdown",
   "metadata": {},
   "source": [
    "1. `(?i:xxxx)`不区分大小写。\n",
    "2. `(?s:.*)`跨行匹配.可以匹配回车符。"
   ]
  },
  {
   "cell_type": "code",
   "execution_count": 11,
   "metadata": {},
   "outputs": [
    {
     "data": {
      "text/plain": [
       "<re.Match object; span=(5, 10), match='up up'>"
      ]
     },
     "execution_count": 11,
     "metadata": {},
     "output_type": "execute_result"
    }
   ],
   "source": [
    "import re\n",
    "\n",
    "text = \"port up up states\"\n",
    "re.search(r\"(?i:UP)\\sup\", text)"
   ]
  },
  {
   "cell_type": "markdown",
   "metadata": {},
   "source": [
    "### `re`标识符"
   ]
  },
  {
   "cell_type": "markdown",
   "metadata": {},
   "source": [
    "#### 同时添加多个标识"
   ]
  },
  {
   "cell_type": "markdown",
   "metadata": {},
   "source": [
    "如果要同时添加多个标识（`flag`），使用`+`号："
   ]
  },
  {
   "cell_type": "code",
   "execution_count": 18,
   "metadata": {},
   "outputs": [
    {
     "data": {
      "text/plain": [
       "<re.Match object; span=(0, 32), match='This is a test string\\nText has t'>"
      ]
     },
     "execution_count": 18,
     "metadata": {},
     "output_type": "execute_result"
    }
   ],
   "source": [
    "import re\n",
    "\n",
    "text = \"This is a test string\\nText has two lines\"\n",
    "re.search(r\"t.*t\", text, re.I + re.S)"
   ]
  },
  {
   "cell_type": "markdown",
   "metadata": {},
   "source": [
    "#### `re.S`标识符（同`re.DOTALL`）"
   ]
  },
  {
   "cell_type": "markdown",
   "metadata": {},
   "source": [
    "`re.S`将`.`的作用扩展到整个字符串，包括`“\\n”`，默认情况下`.`不匹配`\\n`。"
   ]
  },
  {
   "cell_type": "code",
   "execution_count": 2,
   "metadata": {},
   "outputs": [
    {
     "data": {
      "text/plain": [
       "True"
      ]
     },
     "execution_count": 2,
     "metadata": {},
     "output_type": "execute_result"
    }
   ],
   "source": [
    "import re\n",
    "\n",
    "text = '123\\n\\tabc'\n",
    "result1 = re.findall('.+', text, re.S)  #re.S表示.的作用扩展到整个字符串，包括“\\n”。\n",
    "result2 = re.findall('.+', text, re.DOTALL)  #re.DOTALL作用与re.S一样\n",
    "result1 == result2"
   ]
  },
  {
   "cell_type": "code",
   "execution_count": 3,
   "metadata": {},
   "outputs": [
    {
     "data": {
      "text/plain": [
       "['123\\n\\tabc']"
      ]
     },
     "execution_count": 3,
     "metadata": {},
     "output_type": "execute_result"
    }
   ],
   "source": [
    "result1"
   ]
  },
  {
   "cell_type": "code",
   "execution_count": 5,
   "metadata": {},
   "outputs": [
    {
     "data": {
      "text/plain": [
       "['123', '\\tabc']"
      ]
     },
     "execution_count": 5,
     "metadata": {},
     "output_type": "execute_result"
    }
   ],
   "source": [
    "result3 = re.findall('.+', text)\n",
    "result3"
   ]
  },
  {
   "cell_type": "markdown",
   "metadata": {},
   "source": [
    "#### `re.M`标识符(同`re.MULTiLine`)"
   ]
  },
  {
   "cell_type": "markdown",
   "metadata": {},
   "source": [
    "`re.M`主要影响`^`和`$`，默认情况下，匹配整个字符串的开头和结尾，比如："
   ]
  },
  {
   "cell_type": "code",
   "execution_count": 11,
   "metadata": {},
   "outputs": [
    {
     "data": {
      "text/plain": [
       "[]"
      ]
     },
     "execution_count": 11,
     "metadata": {},
     "output_type": "execute_result"
    }
   ],
   "source": [
    "import re\n",
    "\n",
    "text = '123\\n\\tabc'\n",
    "re.findall('^123$', text)  # 只能匹配123前和abc后"
   ]
  },
  {
   "cell_type": "markdown",
   "metadata": {},
   "source": [
    "如果添加了`re.M`标识符，则可以匹配每一行的开头和结尾："
   ]
  },
  {
   "cell_type": "code",
   "execution_count": 12,
   "metadata": {},
   "outputs": [
    {
     "data": {
      "text/plain": [
       "['123']"
      ]
     },
     "execution_count": 12,
     "metadata": {},
     "output_type": "execute_result"
    }
   ],
   "source": [
    "re.findall('^123$', text, re.M)"
   ]
  },
  {
   "cell_type": "markdown",
   "metadata": {},
   "source": [
    "#### `re.X`标识符（同`re.VERBOSE`）"
   ]
  },
  {
   "cell_type": "markdown",
   "metadata": {},
   "source": [
    "`re.X`表示可以把正则表达式的`pat`写成多行，并且自动忽略空格，主要是方便对复杂的正则表达式写注释："
   ]
  },
  {
   "cell_type": "code",
   "execution_count": 4,
   "metadata": {},
   "outputs": [
    {
     "data": {
      "text/plain": [
       "['345abc']"
      ]
     },
     "execution_count": 4,
     "metadata": {},
     "output_type": "execute_result"
    }
   ],
   "source": [
    "text = '12345abcd'\n",
    "re.findall('345 abc', text, re.VERBOSE) #re.VERBOSE可以把正则表达式写成多行，并且自动忽略空格"
   ]
  },
  {
   "cell_type": "code",
   "execution_count": 23,
   "metadata": {},
   "outputs": [
    {
     "data": {
      "text/plain": [
       "['345ab']"
      ]
     },
     "execution_count": 23,
     "metadata": {},
     "output_type": "execute_result"
    }
   ],
   "source": [
    "text = '12345abcd'\n",
    "pat = re.compile(\"\"\"\n",
    "345 #方便对复杂的正则表达式进行注释\n",
    "ab  #re.X和re.VERBOSE是一样的\n",
    "\"\"\", re.X)\n",
    "pat.findall(text)"
   ]
  },
  {
   "cell_type": "markdown",
   "metadata": {},
   "source": [
    "### `re`方法"
   ]
  },
  {
   "cell_type": "markdown",
   "metadata": {},
   "source": [
    "#### `re.subn()`"
   ]
  },
  {
   "cell_type": "markdown",
   "metadata": {},
   "source": [
    "`subn()`第三个参数代表替换的次数，其返回的一个元组，包含替换后的字符串和替换次数"
   ]
  },
  {
   "cell_type": "code",
   "execution_count": 119,
   "metadata": {},
   "outputs": [
    {
     "data": {
      "text/plain": [
       "('111', 3)"
      ]
     },
     "execution_count": 119,
     "metadata": {},
     "output_type": "execute_result"
    },
    {
     "data": {
      "text/plain": [
       "('11c', 2)"
      ]
     },
     "execution_count": 119,
     "metadata": {},
     "output_type": "execute_result"
    }
   ],
   "source": [
    "import re\n",
    "re.subn('[a-z]','1','abc') \n",
    "re.subn('[a-z]','1','abc', 2)"
   ]
  },
  {
   "cell_type": "markdown",
   "metadata": {},
   "source": [
    "#### `re.escape()`"
   ]
  },
  {
   "cell_type": "markdown",
   "metadata": {},
   "source": [
    "`escape`可以对字符串中所有可能被解释为正则运算符的字符进行转义"
   ]
  },
  {
   "cell_type": "code",
   "execution_count": 96,
   "metadata": {
    "scrolled": true
   },
   "outputs": [
    {
     "data": {
      "text/plain": [
       "'hello\\\\ \\\\.python'"
      ]
     },
     "execution_count": 96,
     "metadata": {},
     "output_type": "execute_result"
    },
    {
     "data": {
      "text/plain": [
       "['w.py', 'w.py']"
      ]
     },
     "execution_count": 96,
     "metadata": {},
     "output_type": "execute_result"
    }
   ],
   "source": [
    "re.escape('hello .python') \n",
    "re.findall(re.escape('w.py'),'jw.pyji w.py.f')"
   ]
  },
  {
   "cell_type": "markdown",
   "metadata": {},
   "source": [
    "## 常用内置包"
   ]
  },
  {
   "cell_type": "markdown",
   "metadata": {},
   "source": [
    "### 常用库查询手册"
   ]
  },
  {
   "cell_type": "markdown",
   "metadata": {},
   "source": [
    "官方[内置的标准库](https://docs.python.org/zh-cn/3.8/library/index.html)的说明，以下是收集的关于各种库的解释比较好的文章：\n",
    "\n",
    "- `time`和`datetime`：内置，时间和日期处理，参考[《python time模块和datetime模块详解》](https://www.cnblogs.com/tkqasn/p/6001134.html)\n",
    "- `difflib`：内置，对比文本之间的差异。参考[《python difflib模块讲解示例》](https://blog.csdn.net/lockey23/article/details/77913855)\n",
    "- `math`和`cmath`：内置，`math`模块包含浮点数的数学运算函数，`cmath`模块运算的是复数。参考[《python math和cmath模块介绍》](https://blog.csdn.net/hdutigerkin/article/details/6694884)\n",
    "- `aiohttp`： 内置，异步的http请求库，参考[《python aiohttp简易使用教程》](https://blog.csdn.net/weixin_41004350/article/details/78780452)\n",
    "- `click`：第三方库，命令行参数神器，[官方地址](https://click.palletsprojects.com/en/7.x/)，参考[《click--命令行神器》](https://www.jianshu.com/p/6a533a892167)\n",
    "- `sqlite3`：内置，`sqlite`数据库处理，参考[《Python Sqlite教程》](https://blog.csdn.net/pansaky/article/details/99674449)"
   ]
  },
  {
   "cell_type": "markdown",
   "metadata": {},
   "source": [
    "### 使用`fnmatch`，`glob`，`os.path`和`pathlib`匹配文件"
   ]
  },
  {
   "cell_type": "markdown",
   "metadata": {},
   "source": [
    "文件目录操作常用的一共4个模块，分别是`fnmatch`，`glob`，`os.path`和`pathlib`，其中，`fnmatch`和`glob`主要用于文件名的匹配，`os.path`和`pathlib`主要用于目录操作，在3.6以后，使用面对对象的`pathlib`更好。\n",
    "\n",
    "相关的文章：\n",
    "- [Python模块学习 - fnmatch & glob](https://www.cnblogs.com/dachenzi/p/8215584.html)\n",
    "- [超好用的pathlib](https://blog.csdn.net/weixin_42232219/article/details/91349908)\n",
    "- [pathlib官方文档](https://docs.python.org/zh-cn/3/library/pathlib.html#pathlib.Path.replace)\n",
    "\n",
    "`fnmatch`一般和`os.listdir`搭配来匹配文件名："
   ]
  },
  {
   "cell_type": "code",
   "execution_count": 64,
   "metadata": {},
   "outputs": [
    {
     "data": {
      "text/plain": [
       "['The.Equalizer.2014.伸冤人.双语字幕.HR-HDTV.AC3.1024X576.x264.mkv',\n",
       " '[教父 3.1990.国英双语.中英字幕].九洲客.mkv']"
      ]
     },
     "execution_count": 64,
     "metadata": {},
     "output_type": "execute_result"
    }
   ],
   "source": [
    "import fnmatch\n",
    "\n",
    "[name for name in os.listdir(\"F:\\\\movie\\\\movie\\\\\") if fnmatch.fnmatch(name, \"*.mkv\")]"
   ]
  },
  {
   "cell_type": "markdown",
   "metadata": {},
   "source": [
    "`glob`结合了`os.listdir`和`fnmatch`的功能，可以输入路径进行匹配，默认是在当前目录："
   ]
  },
  {
   "cell_type": "code",
   "execution_count": 65,
   "metadata": {},
   "outputs": [
    {
     "data": {
      "text/plain": [
       "['F:\\\\movie\\\\movie\\\\The.Equalizer.2014.伸冤人.双语字幕.HR-HDTV.AC3.1024X576.x264.mkv',\n",
       " 'F:\\\\movie\\\\movie\\\\[教父 3.1990.国英双语.中英字幕].九洲客.mkv']"
      ]
     },
     "execution_count": 65,
     "metadata": {},
     "output_type": "execute_result"
    }
   ],
   "source": [
    "import glob\n",
    "\n",
    "glob.glob(\"F:\\\\movie\\\\movie\\\\*.mkv\")"
   ]
  },
  {
   "cell_type": "markdown",
   "metadata": {},
   "source": [
    "`pathlib`包含上述功能："
   ]
  },
  {
   "cell_type": "code",
   "execution_count": 69,
   "metadata": {},
   "outputs": [
    {
     "data": {
      "text/plain": [
       "[WindowsPath('F:/movie/movie/The.Equalizer.2014.伸冤人.双语字幕.HR-HDTV.AC3.1024X576.x264.mkv'),\n",
       " WindowsPath('F:/movie/movie/[教父 3.1990.国英双语.中英字幕].九洲客.mkv')]"
      ]
     },
     "execution_count": 69,
     "metadata": {},
     "output_type": "execute_result"
    }
   ],
   "source": [
    "from pathlib import Path\n",
    "\n",
    "list(Path(\"F:\\\\movie\\\\movie\\\\\").glob(\"*.mkv\"))"
   ]
  },
  {
   "cell_type": "markdown",
   "metadata": {},
   "source": [
    "### `sqlite3`使用技巧"
   ]
  },
  {
   "cell_type": "markdown",
   "metadata": {},
   "source": [
    "1. 以字典类型返回`select`的数据\n",
    "默认情况下，`select`出来的`row`只能使用数字作为下标，可以以字典类型返回数据，在`cur = conn.cursor()`之前加入`con.row_factory = sqlite.Row`即可。\n",
    "2. 以编程方式获取列名：有两种方式，一种是通过`PRAGMA`，`cur.execute(\"PRAGMA table_info(table_name)\")`，返回每一列的元数据，是元组构成的列表，如下：\n",
    "```python\n",
    "[(0, 'ID', 'INTEGER', 0, None, 1), (1, 'CARDID', 'TEXT', 0, None, 0), (2, 'CHARGETIME', 'TEXT', 0, None, 0), (3, 'CHARGE', 'REAL', 0, None, 0), (4, 'REMAINING', 'REAL', 0, None, 0), (5, 'CHECKTIME', 'TEXT', 0, None, 0)]\n",
    "```\n",
    "\n",
    "一种是通过`cursor`的`description`属性，当执行`select`语句以后，`cursor`的`description`返回一个元组构成的元组，如下：\n",
    "```python\n",
    "(('ID', None, None, None, None, None, None), ('CARDID', None, None, None, None, None, None), ('CHARGETIME', None, None, None, None, None, None), ('CHARGE', None, None, None, None, None, None), ('REMAINING', None, None, None, None, None, None), ('CHECKTIME', None, None, None, None, None, None))\n",
    "```\n",
    "3. 使用`'\\n'.join(conn.iterdump())`语句可以将数据库进行备份，原理上就是根据目前的数据生成相应的多个`sql`语句。相反的，可以使用`cur.executescript(sql)`导入。注意，这里的`sql`是多行字符串。\n",
    "4. 默认支持回滚，可以设置为自动提交模式，`con = sqlite.connect('ydb.db', isolation_level=None)`。注意，不传入`isolation_level`或者设置为`isolation_level==''`，为智能提交模式，即在进行执行`Data Modification Language (DML)`操作，即`(INSERT/UPDATE/DELETE/REPLACE)`时, 会自动打开一个事务，在执行非DML，非query(非SELECT和上面提到的)语句时, 会隐式执行`commit`。具体有什么区别，查看下面的文章：\n",
    "  - [python sqlite3 的事务控制](https://my.oschina.net/tinyhare/blog/719039?utm_source=debugrun&utm_medium=referral)"
   ]
  },
  {
   "cell_type": "markdown",
   "metadata": {},
   "source": [
    "### 枚举类型Enum"
   ]
  },
  {
   "cell_type": "markdown",
   "metadata": {},
   "source": [
    "- [Python枚举类Enum用法详解](https://www.jianshu.com/p/29fd0aa370fd)\n",
    "- [官方文档](https://docs.python.org/zh-cn/3/library/enum.html)"
   ]
  },
  {
   "cell_type": "markdown",
   "metadata": {},
   "source": [
    "除了使用继承的方法，还可以直接通过`Enum`直接构造一个枚举类，如："
   ]
  },
  {
   "cell_type": "code",
   "execution_count": 1,
   "metadata": {},
   "outputs": [
    {
     "data": {
      "text/plain": [
       "<enum 'color'>"
      ]
     },
     "execution_count": 1,
     "metadata": {},
     "output_type": "execute_result"
    }
   ],
   "source": [
    "from enum import Enum\n",
    "\n",
    "color = Enum('color', 'green blue red')\n",
    "color"
   ]
  },
  {
   "cell_type": "markdown",
   "metadata": {},
   "source": [
    "以上代码创建的其实是一个枚举类，等同于下面的代码："
   ]
  },
  {
   "cell_type": "code",
   "execution_count": 2,
   "metadata": {},
   "outputs": [
    {
     "data": {
      "text/plain": [
       "<enum 'color'>"
      ]
     },
     "execution_count": 2,
     "metadata": {},
     "output_type": "execute_result"
    }
   ],
   "source": [
    "class Color(Enum):\n",
    "    green = 1\n",
    "    blue = 2\n",
    "    red = 3\n",
    "\n",
    "color"
   ]
  },
  {
   "cell_type": "markdown",
   "metadata": {},
   "source": [
    "### contextlib上下文管理器"
   ]
  },
  {
   "cell_type": "markdown",
   "metadata": {},
   "source": [
    "#### ExitStack"
   ]
  },
  {
   "cell_type": "markdown",
   "metadata": {},
   "source": [
    "- [On the Beauty of Python's ExitStack](https://www.rath.org/on-the-beauty-of-pythons-exitstack.html)"
   ]
  },
  {
   "cell_type": "markdown",
   "metadata": {},
   "source": [
    "如果要同时处理多个上下文管理器，比如读取多个文件，一个常规的写法是："
   ]
  },
  {
   "cell_type": "code",
   "execution_count": 69,
   "metadata": {},
   "outputs": [
    {
     "name": "stdout",
     "output_type": "stream",
     "text": [
      "hello world!\n",
      "\n",
      "file1\n",
      "hello world!\n",
      "\n",
      "file2\n"
     ]
    }
   ],
   "source": [
    "with open(\"file1.txt\") as file1, open(\"file2.txt\") as file2:\n",
    "    for line in chain(file1, file2):\n",
    "        print(line)"
   ]
  },
  {
   "cell_type": "markdown",
   "metadata": {},
   "source": [
    "但是如果文件很多，或者文件数是未知的，上面的方法就不好用了，此时可以使用ExitStack："
   ]
  },
  {
   "cell_type": "code",
   "execution_count": 27,
   "metadata": {},
   "outputs": [],
   "source": [
    "from contextlib import ExitStack, closing\n",
    "from itertools import chain"
   ]
  },
  {
   "cell_type": "markdown",
   "metadata": {},
   "source": [
    "```python\n",
    "with ExitStack() as stack:\n",
    "    files = (stack.enter_context(open(file, \"rt\")) for file in ['file1.txt', 'file2.txt'])\n",
    "    for line in chain.from_iterable(f.readlines() for f in files):\n",
    "        print(line)\n",
    "```"
   ]
  },
  {
   "cell_type": "markdown",
   "metadata": {},
   "source": [
    "ExitStack的几个方法都不是很好理解，接下来一一进行解释：\n",
    "1. `stack.enter_context(open(file, \"rt\")`相当于调用了`with open(file, \"rt\") as f`，返回f。同时将`open(file, \"rt\")`上下文管理器的`__exit__`方法压入一个堆栈。当`with ExitStack()`结束的时候，会依次弹出堆栈的`__exit__`方法并运行。注意它的错误处理的时间点，当错误发生在最后时，总是被最后加入堆栈的`__exit__`函数捕获。如下："
   ]
  },
  {
   "cell_type": "code",
   "execution_count": 30,
   "metadata": {},
   "outputs": [
    {
     "name": "stdout",
     "output_type": "stream",
     "text": [
      "enter cm1\n",
      "enter cm2\n",
      "exit cm2\n",
      "catch error occured!\n",
      "exit cm1\n",
      "\n",
      "enter cm1\n",
      "exit cm1\n",
      "catch error occured!\n"
     ]
    }
   ],
   "source": [
    "class CM:\n",
    "    def __init__(self, name):\n",
    "        self.name = name\n",
    "        \n",
    "    def __enter__(self):\n",
    "        print(f'enter {self.name}')\n",
    "        return self\n",
    "\n",
    "    def __exit__(self, exc_type, exc_value, exc_tb):\n",
    "        print(f'exit {self.name}')\n",
    "        if exc_type:\n",
    "            print(f\"catch {exc_value}\")\n",
    "        return True\n",
    "\n",
    "\n",
    "def es_demo1():\n",
    "    with ExitStack() as stack:\n",
    "        stack.enter_context(CM('cm1'))         \n",
    "        stack.enter_context(CM('cm2'))     \n",
    "        raise RuntimeError('error occured!') # 捕获到错误，会依次执行stack里面的__exit__\n",
    "\n",
    "def es_demo2():\n",
    "    with ExitStack() as stack:\n",
    "        stack.enter_context(CM('cm1'))    \n",
    "        raise RuntimeError('error occured!') # 异常后面的语句不会执行\n",
    "        stack.enter_context(CM('cm2'))     \n",
    "                \n",
    "es_demo1()\n",
    "print()\n",
    "es_demo2()"
   ]
  },
  {
   "cell_type": "markdown",
   "metadata": {},
   "source": [
    "2. 某些情况下，需要长时间保持某个资源，比如一个网络连接，这个网络连接的存在时间甚至要比ExitStack的上下文管理器存在的时间还要长，当with结束的时候，并不想进行清理，此时可以使用`pop_all()`和`close`，`pop_all()`会返回一个堆栈，其中填充了同样的上下文管理器和回调，可以理解成原来的一个副本，同时原来的堆栈清空。如下："
   ]
  },
  {
   "cell_type": "code",
   "execution_count": 36,
   "metadata": {},
   "outputs": [
    {
     "name": "stdout",
     "output_type": "stream",
     "text": [
      "enter cm1\n",
      "enter cm2\n",
      "exit cm2\n",
      "catch error occurred!\n",
      "exit cm1\n"
     ]
    }
   ],
   "source": [
    "def es_demo3():\n",
    "    with ExitStack() as stack:\n",
    "        stack.enter_context(CM('cm1'))         \n",
    "        stack.enter_context(CM('cm2'))     \n",
    "        raise RuntimeError(\"error occurred!\") \n",
    "        # 如果在ExitStack里面发生了异常，则会直接由__exit__处理，不会执行下面的语句，并且最终返回None\n",
    "        print(\"after raise exception!\")\n",
    "        return stack.pop_all()\n",
    "\n",
    "stack = es_demo3()"
   ]
  },
  {
   "cell_type": "code",
   "execution_count": 35,
   "metadata": {},
   "outputs": [
    {
     "data": {
      "text/plain": [
       "True"
      ]
     },
     "execution_count": 35,
     "metadata": {},
     "output_type": "execute_result"
    }
   ],
   "source": [
    "stack is None"
   ]
  },
  {
   "cell_type": "markdown",
   "metadata": {},
   "source": [
    "如果执行过程没有出现异常，则最终会执行`stack.pop_all()`："
   ]
  },
  {
   "cell_type": "code",
   "execution_count": 4,
   "metadata": {},
   "outputs": [],
   "source": [
    "def es_demo4():\n",
    "    with ExitStack() as stack:\n",
    "        stack.enter_context(CM('cm1'))         \n",
    "        stack.enter_context(CM('cm2'))     \n",
    "        return stack.pop_all()"
   ]
  },
  {
   "cell_type": "code",
   "execution_count": 168,
   "metadata": {},
   "outputs": [
    {
     "name": "stdout",
     "output_type": "stream",
     "text": [
      "enter cm1\n",
      "enter cm2\n"
     ]
    }
   ],
   "source": [
    "stack_copy = es_demo4()"
   ]
  },
  {
   "cell_type": "markdown",
   "metadata": {},
   "source": [
    "由于此时原来的stack已经清空，因此不会执行任何`__exit__`方法，同时返回了一个最初stack的副本，然后可以在任意时候调用`close`方法手动的进行清理："
   ]
  },
  {
   "cell_type": "code",
   "execution_count": 169,
   "metadata": {
    "scrolled": true
   },
   "outputs": [
    {
     "name": "stdout",
     "output_type": "stream",
     "text": [
      "exit cm2\n",
      "exit cm1\n"
     ]
    }
   ],
   "source": [
    "stack_copy.close()"
   ]
  },
  {
   "cell_type": "markdown",
   "metadata": {},
   "source": [
    "#### closing"
   ]
  },
  {
   "cell_type": "markdown",
   "metadata": {},
   "source": [
    "如果一个对象没有`__enter__`和`__exit__`方法，但是有`close`方法，那么可以直接使用contextlib的`closing`方法，比如："
   ]
  },
  {
   "cell_type": "code",
   "execution_count": 28,
   "metadata": {},
   "outputs": [
    {
     "name": "stdout",
     "output_type": "stream",
     "text": [
      "in with\n",
      "close c\n"
     ]
    }
   ],
   "source": [
    "class C:\n",
    "    def close(self):\n",
    "        print(\"close c\")\n",
    "        \n",
    "with closing(C()):\n",
    "    print(\"in with\")"
   ]
  },
  {
   "cell_type": "markdown",
   "metadata": {},
   "source": [
    "它的原理如下：\n",
    "```python\n",
    "class closing(object):\n",
    "    def __init__(self, thing):\n",
    "        self.thing = thing\n",
    "    def __enter__(self):\n",
    "        return self.thing\n",
    "    def __exit__(self, *exc_info):\n",
    "        self.thing.close()\n",
    "```"
   ]
  },
  {
   "cell_type": "markdown",
   "metadata": {},
   "source": [
    "### subprocess模块"
   ]
  },
  {
   "cell_type": "markdown",
   "metadata": {},
   "source": [
    "- [官网地址](https://docs.python.org/zh-cn/3/library/subprocess.html)\n",
    "\n",
    "官网关于参数的一些说明：\n",
    "> args 被所有调用需要，应当为一个字符串，或者一个程序参数序列。提供一个参数序列通常更好，它可以更小心地使用参数中的转义字符以及引用（例如允许文件名中的空格）。如果传递一个简单的字符串，则 shell 参数必须为 True （见下文）或者该字符串中将被运行的程序名必须用简单的命名而不指定任何参数。  \n",
    "stdin， stdout 和 stderr 分别指定了执行的程序的标准输入、输出和标准错误文件句柄。合法的值有 PIPE 、 DEVNULL 、 一个现存的文件描述符（一个正整数）、一个现存的文件对象以及 None。 PIPE 表示应该新建一个对子进程的管道。 DEVNULL 表示使用特殊的文件 os.devnull。当使用默认设置 None 时，将不会进行重定向，子进程的文件流将继承自父进程。另外， stderr 可能为 STDOUT，表示来自于子进程的标准错误数据应该被 stdout 相同的句柄捕获。  \n",
    "如果 encoding 或 errors 被指定，或者 text （也名为 universal_newlines）为真，则文件对象 stdin 、 stdout 与 stderr 将会使用在此次调用中指定的 encoding 和 errors 以文本模式打开或者为默认的 io.TextIOWrapper。  \n",
    "当构造函数的 newline 参数为 None 时。对于 stdin， 输入的换行符 '\\n' 将被转换为默认的换行符 os.linesep。对于 stdout 和 stderr， 所有输出的换行符都被转换为 '\\n'。更多信息，查看 io.TextIOWrapper 类的文档。\n",
    "\n",
    "subprocess主要用来新开一个子进程执行外部程序，比如说要通过python代码来运行QQ，打开浏览器或者运行cmd里面的命令，学习过程中遇到一些疑问，特别记录下来：\n",
    "1. 为什么运行`subprocess([\"dir\"])`报错，提示系统找不到指定的文件？"
   ]
  },
  {
   "cell_type": "code",
   "execution_count": 2,
   "metadata": {},
   "outputs": [
    {
     "name": "stdout",
     "output_type": "stream",
     "text": [
      "[WinError 2] 系统找不到指定的文件。\n"
     ]
    }
   ],
   "source": [
    "import subprocess\n",
    "\n",
    "try:\n",
    "    subprocess.run([\"dir\"])\n",
    "except FileNotFoundError as e:\n",
    "    print(e)"
   ]
  },
  {
   "cell_type": "markdown",
   "metadata": {},
   "source": [
    "因为\"dir\"属于shell内部集成的命令，系统中并不存在\"dir\"这样一个可执行文件，如果要运行shell内部集成的命令，可以添加`shell=True`参数。"
   ]
  },
  {
   "cell_type": "code",
   "execution_count": 3,
   "metadata": {},
   "outputs": [
    {
     "data": {
      "text/plain": [
       "CompletedProcess(args=['dir'], returncode=0)"
      ]
     },
     "execution_count": 3,
     "metadata": {},
     "output_type": "execute_result"
    }
   ],
   "source": [
    "subprocess.run([\"dir\"], shell=True)"
   ]
  },
  {
   "cell_type": "markdown",
   "metadata": {},
   "source": [
    "2. 为什么在shell里面执行`subprocess.run([\"dir\"], shell=True)`可以显示结果，而在idle解释器里面执行却不显示？  \n",
    "这个问题涉及到进程和子进程的通信等一些底层的实现，没有完全弄清楚，大概的猜想是`subprocess.run([\"dir\"], shell=True)`是在一个子进程中执行，子进程的stdout、stderr和父进程的不一定一样，如果父进程是idle解释器，子进程和父进程的stdout和stderr不同，所以不会打印。idle解释器的stdout是对底层的包装，是一个对象，甚至没有fileno这样的描述符编号，所以如果像下面这样设置，会提示`UnsupportedOperation: fileno`错误。而如果在shell里面执行脚本或者shell的交互式界面执行，父子进程的stdout，stdin是相同的（不确定是相同的，还是因为子进程可以将结果返回给父进程的stdout和stderr），所以可以打印。"
   ]
  },
  {
   "cell_type": "code",
   "execution_count": 15,
   "metadata": {},
   "outputs": [
    {
     "name": "stdout",
     "output_type": "stream",
     "text": [
      "fileno\n"
     ]
    }
   ],
   "source": [
    "try:\n",
    "    subprocess.run([\"dir\"], shell=True, stdout=sys.stdout)\n",
    "except Exception as e:\n",
    "    print(e)"
   ]
  },
  {
   "cell_type": "markdown",
   "metadata": {},
   "source": [
    "这里的`sys.stdout`实际上是jupyter的ipykernel内核的一个对象，如下。其根本没有对应的底层的fileno描述符，输入`sys.stdout.fileno()`会报错。在python自带的idle里面运行也一样，`sys.stdout`是`<idlelib.run.StdOutputFile object at 0x00000144A66C0908>`对象，同样调用`sys.stdout.fileno()`会报错，而在shell里面，返回的结果是`<_io.TextIOWrapper name='<stdout>' mode='w' encoding='utf-8'>`,其有`fileno`属性，调用`sys.stdout.fileno()`会返回对应的文件句柄。\n",
    "\n",
    "所以，当我们运行`sys.stdout`，不同的环境返回的对象其实是不同的，都是对底层的`stdout`,`stderr`等文件句柄的封装对象，像idle解释器，封装对象并没有暴露底层句柄的`fileno`。"
   ]
  },
  {
   "cell_type": "code",
   "execution_count": 22,
   "metadata": {},
   "outputs": [
    {
     "data": {
      "text/plain": [
       "<ipykernel.iostream.OutStream at 0x1ce6332f788>"
      ]
     },
     "execution_count": 22,
     "metadata": {},
     "output_type": "execute_result"
    }
   ],
   "source": [
    "sys.stdout"
   ]
  },
  {
   "cell_type": "markdown",
   "metadata": {},
   "source": [
    "3. 如何捕获子进程的输出？ \n",
    "  3.7以后可以通过`capture_output=True`，3.7之前可以通过`stdout=subprocess.PIPE, stderr=subprocess.PIPE`，然后访问结果的`result.stdout`或者`result.stderr`即可。\n",
    "```python\n",
    "r = subprocess.run([\"dir\"], shell=True, capture_output=True)\n",
    "r.stdout\n",
    "```\n",
    "另外，输入的是字节字符串，3.7以后，可以直接使用`text=True`参数，这样返回的就是普通的字符串:\n",
    "```python\n",
    "r = subprocess.run([\"dir\"], shell=True, capture_output=True, text=True)\n",
    "print(r.stdout)\n",
    "```\n",
    "在3.7之前，使用`universal_newlines`参数，两者是一样的，只是换了个名字。\n",
    "\n",
    "4. 如何完全抑制输出？  \n",
    "如果想要完全抑制子进程的输出，可以设置`stdout=subprocess.DEVNULL`，错误也是一样。注意，设置`capture_text=False`只是不捕获，不会抑制子进程的输出。\n",
    "\n",
    "5. check参数起什么作用？  \n",
    "如果子进程返回的retcode不为0，表示子进程发生了错误，如果设置了`check=True`，此时主进程会抛出一个`CalledProcessError`错误，如果设置为`False`，则不会抛出错误。"
   ]
  },
  {
   "cell_type": "markdown",
   "metadata": {},
   "source": [
    "### telnetlib中各种read的意义"
   ]
  },
  {
   "cell_type": "markdown",
   "metadata": {},
   "source": [
    "- [telnetlib中各种read的意义](https://blog.csdn.net/ilufam1314/article/details/84874295)\n",
    "\n",
    "使用telnetlib的`expect`接收数据发现一个问题，程序是登录到服务器上面执行指令，指令执行完毕以后等待数据返回，同时配置了期待的正则，比如`>\\s*$`号，本意是当返回的数据结尾为`>\\s*`，则认为捕获到执行界面的提示符，指令执行完毕。结果发现报告返回不全，有时多，有时少，检查发现所有返回的报告结尾都是`>`加空格。\n",
    "\n",
    "出现问题的原因推测是，返回的报告里面包含有`>`，telnet返回数据并不是一次性的全部返回，它是流式的，当返回的部分数据刚好是以`>`结尾时，程序就会认为已经返回完毕，导致返回的报告不全。 \n",
    "\n",
    "即`expect`并不是等到所有数据返回以后，再去进行匹配，而是只要有数据返回就会去进行匹配，当返回的部分数据正好是以`>`结尾时，程序就会返回，从而导致报告返回不全的问题。"
   ]
  },
  {
   "cell_type": "markdown",
   "metadata": {},
   "source": [
    "### dataclass模块"
   ]
  },
  {
   "cell_type": "markdown",
   "metadata": {},
   "source": [
    "python dataclass数据类模块在3.7引入，提供类型注释，比`dict`和`namedtuple`更灵活：\n",
    "\n",
    "- [Python数据类dataclasses实践](https://www.jianshu.com/p/470aea3df22b)\n",
    "\n",
    "有几点要注意：\n",
    "1. 当类属性没有类型注释且没有赋值的时候，不会自动生成实例属性。"
   ]
  },
  {
   "cell_type": "code",
   "execution_count": 1,
   "metadata": {},
   "outputs": [
    {
     "name": "stdout",
     "output_type": "stream",
     "text": [
      "{'name': 'shy', 'age': 42}\n"
     ]
    }
   ],
   "source": [
    "from dataclasses import dataclass\n",
    "\n",
    "@dataclass\n",
    "class C:\n",
    "    name: str\n",
    "    age: int = 42\n",
    "    sex = \"male\"\n",
    "    \n",
    "c = C(name='shy')\n",
    "print(c.__dict__)"
   ]
  },
  {
   "cell_type": "code",
   "execution_count": 2,
   "metadata": {},
   "outputs": [
    {
     "data": {
      "text/plain": [
       "False"
      ]
     },
     "execution_count": 2,
     "metadata": {},
     "output_type": "execute_result"
    }
   ],
   "source": [
    "\"name\" in C.__dict__"
   ]
  },
  {
   "cell_type": "code",
   "execution_count": 3,
   "metadata": {},
   "outputs": [
    {
     "data": {
      "text/plain": [
       "True"
      ]
     },
     "execution_count": 3,
     "metadata": {},
     "output_type": "execute_result"
    }
   ],
   "source": [
    "\"age\" in C.__dict__"
   ]
  },
  {
   "cell_type": "code",
   "execution_count": 4,
   "metadata": {},
   "outputs": [
    {
     "data": {
      "text/plain": [
       "True"
      ]
     },
     "execution_count": 4,
     "metadata": {},
     "output_type": "execute_result"
    }
   ],
   "source": [
    "\"sex\" in C.__dict__"
   ]
  },
  {
   "cell_type": "markdown",
   "metadata": {},
   "source": [
    "### sys模块"
   ]
  },
  {
   "cell_type": "markdown",
   "metadata": {},
   "source": [
    "#### 使用`sys.stdin`进行交互"
   ]
  },
  {
   "cell_type": "markdown",
   "metadata": {},
   "source": [
    "平时我们与用户交互，大部分时候都是使用`input`函数，但是`input`只能接收单行。如果想接收多行的话呢？此时我们可以使用`sys.stdin.read()`，`sys.stdin.readlines()`,`sys.stdin.readline()`方法。但是有个小问题，多行输入的时候如何才能结束呢？\n",
    "\n",
    "这里涉及到一个系统方面的知识，只有输入`EOF`（end of file)文件结束符，系统才认为你的输入已经结束。对于windows来说，`EOF`是`CTRL+Z`的组合，对于Linux，`EOF`是`CTRL+D`的组合。\n",
    "\n",
    "这里有几点要注意：\n",
    "1. 对于windows系统，每当我们输入一行按回车的时候，系统会把这一行数据先送到一个缓存存储起来。当在一行的中间或者末尾按下`CTRL+Z`，系统不会认为这是一个`EOF`，而是把它当作一个普通的字符。当在一行的行首按下`CTRL+Z`，系统就会认为这是一个`EOF`，然后把缓存中的数据全部输出到程序。研究以下代码：\n",
    "```\n",
    ">>> r = sys.stdin.read()\n",
    "the sky is ^Z blue,\n",
    "the sea is blue^Z,\n",
    "^Z\n",
    ">>> r\n",
    "'the sky is \\x1a blue,\\nthe sea is blue\\x1a,\\n'\n",
    "```\n",
    "可见，`CTRL+Z`在行首才能结束输入，否则系统只是把它当作`\\xla`的字符。\n",
    "2. linux目前还未测试，但是它与windows不同，待以后测试后补上。"
   ]
  },
  {
   "cell_type": "markdown",
   "metadata": {},
   "source": [
    "#### 获取python执行程序的位置"
   ]
  },
  {
   "cell_type": "markdown",
   "metadata": {},
   "source": [
    "`sys.executable`可以获取python在本机的可执行程序的位置。"
   ]
  },
  {
   "cell_type": "code",
   "execution_count": 23,
   "metadata": {},
   "outputs": [
    {
     "data": {
      "text/plain": [
       "'D:\\\\programs\\\\Anaconda3\\\\python.exe'"
      ]
     },
     "execution_count": 23,
     "metadata": {},
     "output_type": "execute_result"
    }
   ],
   "source": [
    "import sys\n",
    "\n",
    "sys.executable"
   ]
  },
  {
   "cell_type": "markdown",
   "metadata": {},
   "source": [
    "## 相关阅读"
   ]
  },
  {
   "cell_type": "markdown",
   "metadata": {},
   "source": [
    "### conda使用手册"
   ]
  },
  {
   "cell_type": "markdown",
   "metadata": {},
   "source": [
    "- [conda的简单使用](http://lizhiqiang.me/conda/)"
   ]
  },
  {
   "cell_type": "markdown",
   "metadata": {},
   "source": [
    "### python文档中的:==是啥？"
   ]
  },
  {
   "cell_type": "markdown",
   "metadata": {},
   "source": [
    "这是专门用来描述计算机编程语法的一种通用的格式，具体的说明查看下面链接，简单来说就是左边的表达式可以用右边的来代替。\n",
    "\n",
    "[维基百科Backus–Naur样式(要翻墙)](https://en.wikipedia.org/wiki/Backus%E2%80%93Naur_form)"
   ]
  },
  {
   "cell_type": "code",
   "execution_count": null,
   "metadata": {},
   "outputs": [],
   "source": []
  }
 ],
 "metadata": {
  "kernelspec": {
   "display_name": "Python 3 (ipykernel)",
   "language": "python",
   "name": "python3"
  },
  "language_info": {
   "codemirror_mode": {
    "name": "ipython",
    "version": 3
   },
   "file_extension": ".py",
   "mimetype": "text/x-python",
   "name": "python",
   "nbconvert_exporter": "python",
   "pygments_lexer": "ipython3",
   "version": "3.9.7"
  },
  "toc": {
   "base_numbering": 1,
   "nav_menu": {
    "height": "272px",
    "width": "204px"
   },
   "number_sections": true,
   "sideBar": true,
   "skip_h1_title": true,
   "title_cell": "Table of Contents",
   "title_sidebar": "日期文件处理,正则表达式和常用内置包",
   "toc_cell": false,
   "toc_position": {
    "height": "calc(100% - 180px)",
    "left": "10px",
    "top": "150px",
    "width": "284.4px"
   },
   "toc_section_display": true,
   "toc_window_display": true
  },
  "varInspector": {
   "cols": {
    "lenName": 16,
    "lenType": 16,
    "lenVar": 40
   },
   "kernels_config": {
    "python": {
     "delete_cmd_postfix": "",
     "delete_cmd_prefix": "del ",
     "library": "var_list.py",
     "varRefreshCmd": "print(var_dic_list())"
    },
    "r": {
     "delete_cmd_postfix": ") ",
     "delete_cmd_prefix": "rm(",
     "library": "var_list.r",
     "varRefreshCmd": "cat(var_dic_list()) "
    }
   },
   "types_to_exclude": [
    "module",
    "function",
    "builtin_function_or_method",
    "instance",
    "_Feature"
   ],
   "window_display": false
  }
 },
 "nbformat": 4,
 "nbformat_minor": 2
}
