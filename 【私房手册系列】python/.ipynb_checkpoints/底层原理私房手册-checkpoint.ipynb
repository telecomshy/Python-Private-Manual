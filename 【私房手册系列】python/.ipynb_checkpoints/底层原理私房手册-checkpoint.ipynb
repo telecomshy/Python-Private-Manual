{
 "cells": [
  {
   "cell_type": "markdown",
   "id": "canadian-thomas",
   "metadata": {},
   "source": [
    "# 底层原理私房手册"
   ]
  },
  {
   "cell_type": "markdown",
   "id": "dense-powder",
   "metadata": {},
   "source": [
    "## 教程收集"
   ]
  },
  {
   "cell_type": "markdown",
   "id": "offshore-barrel",
   "metadata": {},
   "source": [
    "- [套接字学习教程之一](https://blog.csdn.net/zjl_1026_2001/article/details/2155743)\n",
    "- [理解文件描述符](https://www.jianshu.com/p/a2df1d402b4d)"
   ]
  },
  {
   "cell_type": "code",
   "execution_count": null,
   "id": "according-helena",
   "metadata": {},
   "outputs": [],
   "source": []
  }
 ],
 "metadata": {
  "kernelspec": {
   "display_name": "Python 3",
   "language": "python",
   "name": "python3"
  },
  "language_info": {
   "codemirror_mode": {
    "name": "ipython",
    "version": 3
   },
   "file_extension": ".py",
   "mimetype": "text/x-python",
   "name": "python",
   "nbconvert_exporter": "python",
   "pygments_lexer": "ipython3",
   "version": "3.7.6"
  },
  "toc": {
   "base_numbering": 1,
   "nav_menu": {},
   "number_sections": true,
   "sideBar": true,
   "skip_h1_title": true,
   "title_cell": "Table of Contents",
   "title_sidebar": "底层原理私房手册",
   "toc_cell": false,
   "toc_position": {},
   "toc_section_display": true,
   "toc_window_display": true
  }
 },
 "nbformat": 4,
 "nbformat_minor": 5
}
