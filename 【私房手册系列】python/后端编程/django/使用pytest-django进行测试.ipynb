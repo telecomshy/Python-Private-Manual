{
 "cells": [
  {
   "cell_type": "markdown",
   "metadata": {},
   "source": [
    "# 使用pytest-django进行测试"
   ]
  },
  {
   "cell_type": "markdown",
   "metadata": {},
   "source": [
    "## 相关教程"
   ]
  },
  {
   "cell_type": "markdown",
   "metadata": {},
   "source": [
    "- [How to Provide Test Fixtures for Django Models in Pytest](https://realpython.com/django-pytest-fixtures/)\n",
    "- [Testing Your Django App With Pytest](https://djangostars.com/blog/django-pytest-testing/)"
   ]
  },
  {
   "cell_type": "markdown",
   "metadata": {},
   "source": [
    "## 安装"
   ]
  },
  {
   "cell_type": "markdown",
   "metadata": {},
   "source": [
    "最简单的方法，运行`pip install pytest-django`以后，在项目的根目录下新建一个pytest.ini文件，配置如下：\n",
    "```ini\n",
    "[pytest]\n",
    "DJANGO_SETTINGS_MODULE = yourproject.settings\n",
    "```\n",
    "然后在根目录下直接运行pytest即可，pytest会搜集各个目录下的测试用例。"
   ]
  },
  {
   "cell_type": "markdown",
   "metadata": {},
   "source": [
    "### 数据库辅助"
   ]
  },
  {
   "cell_type": "markdown",
   "metadata": {},
   "source": [
    "1. 可以使用`@pytest.mark.django_db`标记，这样就可以在测试用例里面链接数据库了。\n",
    "2. 如果是在自定义的fixture里面连接数据库，则使用`db`和`transactional_db`或者`django_db_reset_sequences` fixture。一般情况下，使用`db`就够了。"
   ]
  },
  {
   "cell_type": "markdown",
   "metadata": {},
   "source": [
    "### 客户端辅助"
   ]
  },
  {
   "cell_type": "markdown",
   "metadata": {},
   "source": [
    "如果要模拟客户端发起的请求，可以使用`client` fixture：\n",
    "```python\n",
    "import pytest\n",
    "\n",
    "from django.urls import reverse\n",
    "\n",
    "@pytest.mark.django_db\n",
    "def test_view(client):\n",
    "   url = reverse('homepage-url')\n",
    "   response = client.get(url)\n",
    "   assert response.status_code == 200\n",
    "```\n",
    "有时候只想测试视图的逻辑，可是普通用户还需要先登录授权，此时可以使用`admin_client` fixture：\n",
    "```python\n",
    "import pytest\n",
    "\n",
    "from django.urls import reverse\n",
    "\n",
    "\n",
    "@pytest.mark.django_db\n",
    "def test_unauthorized(client):\n",
    "   url = reverse('superuser-url')\n",
    "   response = client.get(url)\n",
    "   assert response.status_code == 401\n",
    "\n",
    "\n",
    "@pytest.mark.django_db\n",
    "def test_superuser_view(admin_client):\n",
    "   url = reverse('superuser-url')\n",
    "   response = admin_client.get(url)\n",
    "   assert response.status_code == 200\n",
    "```"
   ]
  },
  {
   "cell_type": "markdown",
   "metadata": {},
   "source": [
    "### 创建用户"
   ]
  },
  {
   "cell_type": "markdown",
   "metadata": {},
   "source": [
    "有2个fixture和用户相关，一个是`django_user_model`，通过配置文件获取user的模型，这样就不用再手动的导入用户模型了。一个是`admin_user`，直接返回管理员user。\n",
    "\n",
    "也可以使用工厂函数自定义fixture来创建user，比如：\n",
    "```python\n",
    "from typing import List, Optional\n",
    "\n",
    "import pytest\n",
    "from django.contrib.auth.models import User, Group, Permission\n",
    "\n",
    "@pytest.fixture\n",
    "def app_user_group(db) -> Group:\n",
    "    group = Group.objects.create(name=\"app_user\")\n",
    "    change_user_permissions = Permission.objects.filter(\n",
    "        codename__in=[\"change_user\", \"view_user\"],\n",
    "    )\n",
    "    group.permissions.add(*change_user_permissions)\n",
    "    return group\n",
    "\n",
    "@pytest.fixture\n",
    "def app_user_factory(db, app_user_group: Group):\n",
    "    # 使用闭包来传递参数，因为普通的fixture不能接受自己的参数\n",
    "    def create_app_user(\n",
    "        username: str,\n",
    "        password: Optional[str] = None,\n",
    "        first_name: Optional[str] = \"first name\",\n",
    "        last_name: Optional[str] = \"last name\",\n",
    "        email: Optional[str] = \"foo@bar.com\",\n",
    "        is_staff: str = False,\n",
    "        is_superuser: str = False,\n",
    "        is_active: str = True,\n",
    "        groups: List[Group] = [],\n",
    "    ) -> User:\n",
    "        user = User.objects.create_user(\n",
    "            username=username,\n",
    "            password=password,\n",
    "            first_name=first_name,\n",
    "            last_name=last_name,\n",
    "            email=email,\n",
    "            is_staff=is_staff,\n",
    "            is_superuser=is_superuser,\n",
    "            is_active=is_active,\n",
    "        )\n",
    "        user.groups.add(app_user_group)\n",
    "        # Add additional groups, if provided.\n",
    "        user.groups.add(*groups)\n",
    "        return user\n",
    "    return create_app_user\n",
    "\n",
    "@pytest.fixture\n",
    "def user_A(db, app_user_factory) -> User:\n",
    "    return app_user_factory(\"A\")\n",
    "\n",
    "@pytest.fixture\n",
    "def user_B(db, app_user_factory) -> User:\n",
    "    return app_user_factory(\"B\")\n",
    "\n",
    "def test_should_create_user_in_app_user_group(\n",
    "    user_A: User,\n",
    "    app_user_group: Group,\n",
    ") -> None:\n",
    "    assert user_A.groups.filter(pk=app_user_group.pk).exists()\n",
    "\n",
    "def test_should_create_two_users(user_A: User, user_B: User) -> None:\n",
    "    assert user_A.pk != user_B.pk\n",
    "```"
   ]
  },
  {
   "cell_type": "markdown",
   "metadata": {},
   "source": [
    "## 使用pytest测试Django REST Framework"
   ]
  },
  {
   "cell_type": "markdown",
   "metadata": {},
   "source": [
    "### rest framework的api"
   ]
  },
  {
   "cell_type": "markdown",
   "metadata": {},
   "source": [
    "rest框架提供一个client，可以自定义一个fixture方便使用：\n",
    "```python\n",
    "import pytest\n",
    "\n",
    "\n",
    "@pytest.fixture\n",
    "def api_client():\n",
    "   from rest_framework.test import APIClient\n",
    "   return APIClient()\n",
    "```"
   ]
  },
  {
   "cell_type": "markdown",
   "metadata": {},
   "source": [
    "### rest framework登录"
   ]
  },
  {
   "cell_type": "markdown",
   "metadata": {},
   "source": [
    "rest framework一般使用token登录，测试方法如下：\n",
    "```python\n",
    "import pytest\n",
    "from django.urls import reverse\n",
    "from rest_framework.authtoken.models import Token\n",
    "\n",
    "\n",
    "@pytest.fixture\n",
    "def get_or_create_token(db, create_user):\n",
    "   user = create_user()\n",
    "   token, _ = Token.objects.get_or_create(user=user)\n",
    "   return token\n",
    "\n",
    "\n",
    "@pytest.mark.django_db\n",
    "def test_unauthorized_request(api_client, get_or_create_token):\n",
    "   url = reverse('need-token-url')\n",
    "   token = get_or_create_token()\n",
    "   api_client.credentials(HTTP_AUTHORIZATION='Token ' + token.key)\n",
    "   response = api_client.get(url)\n",
    "   assert response.status_code == 200\n",
    "```"
   ]
  },
  {
   "cell_type": "markdown",
   "metadata": {},
   "source": [
    "可以继续改造成fixture，避免每个测试用例都要重新定义一次：\n",
    "```python\n",
    "@pytest.fixture\n",
    "def api_client_with_credentials(\n",
    "   db, create_user, api_client\n",
    "):\n",
    "   user = create_user()\n",
    "   api_client.force_authenticate(user=user)\n",
    "   yield api_client\n",
    "   api_client.force_authenticate(user=None)\n",
    "```"
   ]
  },
  {
   "cell_type": "markdown",
   "metadata": {},
   "source": [
    "### 参数化测试"
   ]
  },
  {
   "cell_type": "markdown",
   "metadata": {},
   "source": [
    "```python\n",
    "import pytest\n",
    "\n",
    "\n",
    "@pytest.mark.django_db\n",
    "@pytest.mark.parametrize(\n",
    "   'email, password, status_code', [\n",
    "       (None, None, 400),\n",
    "       (None, 'strong_pass', 400),\n",
    "       ('user@example.com', None, 400),\n",
    "       ('user@example.com', 'invalid_pass', 400),\n",
    "       ('user@example.com, 'strong_pass', 201),\n",
    "   ]\n",
    ")\n",
    "def test_login_data_validation(\n",
    "   email, password, status_code, api_client\n",
    "):\n",
    "   url = reverse('login-url')\n",
    "   data = {\n",
    "       'email': email,\n",
    "       'password': password\n",
    "   }\n",
    "   response = api_client.post(url, data=data)\n",
    "   assert response.status_code == status_code\n",
    "```"
   ]
  },
  {
   "cell_type": "markdown",
   "metadata": {},
   "source": [
    "### 使用mock"
   ]
  },
  {
   "cell_type": "markdown",
   "metadata": {},
   "source": [
    "mock有好几种方式，比如官方的`unittest.mock`，pytest的`monkeypatch`和第三方包`pytest-mock`。"
   ]
  },
  {
   "cell_type": "code",
   "execution_count": null,
   "metadata": {},
   "outputs": [],
   "source": []
  }
 ],
 "metadata": {
  "kernelspec": {
   "display_name": "Python 3",
   "language": "python",
   "name": "python3"
  },
  "language_info": {
   "codemirror_mode": {
    "name": "ipython",
    "version": 3
   },
   "file_extension": ".py",
   "mimetype": "text/x-python",
   "name": "python",
   "nbconvert_exporter": "python",
   "pygments_lexer": "ipython3",
   "version": "3.7.6"
  },
  "toc": {
   "base_numbering": 1,
   "nav_menu": {},
   "number_sections": true,
   "sideBar": true,
   "skip_h1_title": true,
   "title_cell": "Table of Contents",
   "title_sidebar": "使用pytest-django进行测试",
   "toc_cell": false,
   "toc_position": {},
   "toc_section_display": true,
   "toc_window_display": true
  }
 },
 "nbformat": 4,
 "nbformat_minor": 4
}
