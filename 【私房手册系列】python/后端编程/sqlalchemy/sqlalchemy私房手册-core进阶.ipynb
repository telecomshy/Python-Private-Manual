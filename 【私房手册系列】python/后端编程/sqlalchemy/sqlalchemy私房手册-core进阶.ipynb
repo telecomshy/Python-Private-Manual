{
 "cells": [
  {
   "cell_type": "markdown",
   "id": "dc16ed99",
   "metadata": {},
   "source": [
    "# sqlalchemy私房手册-core进阶"
   ]
  },
  {
   "cell_type": "markdown",
   "id": "acb5d740",
   "metadata": {},
   "source": [
    "## engine和connections"
   ]
  },
  {
   "cell_type": "markdown",
   "id": "cbb8f07c",
   "metadata": {},
   "source": [
    "### 基本用法"
   ]
  },
  {
   "cell_type": "code",
   "execution_count": 2,
   "id": "e9410d72",
   "metadata": {},
   "outputs": [],
   "source": [
    "from sqlalchemy import create_engine\n",
    "\n",
    "engine = create_engine('sqlite:///localhost/core.db')"
   ]
  },
  {
   "cell_type": "markdown",
   "id": "e57d069b",
   "metadata": {},
   "source": [
    "engine和DBAPI的connect函数并不同义，connect仅代表一次连接。而engine应该在应用程序的模块级别创建一次是最有效的，而不是每个对象或者每个函数创建。\n",
    "```python\n",
    "\n",
    "from sqlalchemy import text\n",
    "\n",
    "with engine.connect() as connection:\n",
    "    result = connection.execute(text(\"select username from users\"))\n",
    "    for row in result:\n",
    "        print(\"username:\", row['username'])\n",
    "```\n",
    "`engine.connect()`创建的connection对象是DBAPI连接的一个代理对象。`execute`方法返回一个`CursorResult`对象，它引用了DBAPI的游标对象。这里注意两点：\n",
    "1. DBAPI游标将被`CursorResult`关闭，当它的所有结果行(如果有的话)被耗尽。当`CursorResult`没有返回行，则在创建的时候就会释放游标资源。\n",
    "2. 当`connection.close()`调用，引用的DBAPI连接被释放到连接池，从数据库的角度来看，如果连接池还有空间存储这个连接以供下次使用，那么连接池实际上不会关闭连接。当连接被返回到池中供重用时，池机制会对DBAPI连接发出`rollback()`调用，删除任何事务状态或锁，并且连接为下一次使用做好准备。\n",
    "\n",
    "`rollback`调用不是所有操作都回退了吗？这里没太理解。"
   ]
  },
  {
   "cell_type": "markdown",
   "id": "9d5fa137",
   "metadata": {},
   "source": [
    "### 使用事务"
   ]
  },
  {
   "cell_type": "markdown",
   "id": "0667469a",
   "metadata": {},
   "source": [
    "不象orm的session自动启用事务，在core中，需要手动的启用事务，有两种启用方法：\n",
    "- 方法一：\n",
    "```python\n",
    "with engine.connect() as connection:\n",
    "    with connection.begin():\n",
    "        r1 = connection.execute(table1.select())\n",
    "        connection.execute(table1.insert(), {\"col1\": 7, \"col2\": \"this is some data\"})\n",
    "```\n",
    "- 方法二：\n",
    "```python\n",
    "with engine.begin() as connection:\n",
    "    r1 = connection.execute(table1.select())\n",
    "    connection.execute(table1.insert(), {\"col1\": 7, \"col2\": \"this is some data\"})\n",
    "```\n",
    "\n",
    "使用with上下文管理器，在抛出异常时会自动的回退，如果没有异常则会自动的提交。`connection.begin()`返回的实际上是一个`transaction`对象，具有`rollback`和`commit`方法。"
   ]
  },
  {
   "cell_type": "code",
   "execution_count": null,
   "id": "312fd21c",
   "metadata": {},
   "outputs": [],
   "source": []
  }
 ],
 "metadata": {
  "kernelspec": {
   "display_name": "Python 3 (ipykernel)",
   "language": "python",
   "name": "python3"
  },
  "language_info": {
   "codemirror_mode": {
    "name": "ipython",
    "version": 3
   },
   "file_extension": ".py",
   "mimetype": "text/x-python",
   "name": "python",
   "nbconvert_exporter": "python",
   "pygments_lexer": "ipython3",
   "version": "3.10.9"
  },
  "toc": {
   "base_numbering": 1,
   "nav_menu": {},
   "number_sections": true,
   "sideBar": true,
   "skip_h1_title": true,
   "title_cell": "Table of Contents",
   "title_sidebar": "sqlalchemy私房手册-core进阶",
   "toc_cell": false,
   "toc_position": {},
   "toc_section_display": true,
   "toc_window_display": true
  }
 },
 "nbformat": 4,
 "nbformat_minor": 5
}
