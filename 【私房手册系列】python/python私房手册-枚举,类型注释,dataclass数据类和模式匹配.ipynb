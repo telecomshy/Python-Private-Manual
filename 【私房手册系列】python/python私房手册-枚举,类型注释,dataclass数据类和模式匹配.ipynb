{
 "cells": [
  {
   "cell_type": "markdown",
   "id": "ec312779",
   "metadata": {},
   "source": [
    "# 枚举,类型注释,dataclass数据类和模式匹配"
   ]
  },
  {
   "cell_type": "markdown",
   "id": "c5377473",
   "metadata": {},
   "source": [
    "## Enum枚举"
   ]
  },
  {
   "cell_type": "markdown",
   "id": "1ab5bb12",
   "metadata": {},
   "source": [
    "枚举是3.4以后添加的，很容易使用，这里记录几个容易错误的点："
   ]
  },
  {
   "cell_type": "code",
   "execution_count": 21,
   "id": "b2534c58",
   "metadata": {},
   "outputs": [],
   "source": [
    "from enum import Enum\n",
    "\n",
    "\n",
    "class Color(Enum):\n",
    "    GREEN = 1\n",
    "    YELLOW = 2\n",
    "    RED = 3\n",
    "    BLUE = 1"
   ]
  },
  {
   "cell_type": "markdown",
   "id": "2897998a",
   "metadata": {},
   "source": [
    "枚举的意义在于标签而不是数值，`print(color.GREEN)`打印的是`Color.GREEN`而不是1："
   ]
  },
  {
   "cell_type": "code",
   "execution_count": 22,
   "id": "fbbd9bdb",
   "metadata": {},
   "outputs": [
    {
     "name": "stdout",
     "output_type": "stream",
     "text": [
      "Color.GREEN\n"
     ]
    }
   ],
   "source": [
    "print(Color.GREEN)"
   ]
  },
  {
   "cell_type": "markdown",
   "id": "25ccf10b",
   "metadata": {},
   "source": [
    "### 枚举类型，名称和值"
   ]
  },
  {
   "cell_type": "markdown",
   "id": "c3992de3",
   "metadata": {},
   "source": [
    "我们来梳理几个概念，`Color.GREEN`是枚举类型，每个枚举类型都有标签`name`和值`value`属性，`Color.GREEN.name`返回的是`str`，`Color.GREEN.value`返回的是`int`："
   ]
  },
  {
   "cell_type": "code",
   "execution_count": 17,
   "id": "5bb42af4",
   "metadata": {},
   "outputs": [
    {
     "data": {
      "text/plain": [
       "<Color.GREEN: 1>"
      ]
     },
     "execution_count": 17,
     "metadata": {},
     "output_type": "execute_result"
    }
   ],
   "source": [
    "Color.GREEN"
   ]
  },
  {
   "cell_type": "code",
   "execution_count": 18,
   "id": "82252eb2",
   "metadata": {},
   "outputs": [
    {
     "data": {
      "text/plain": [
       "'GREEN'"
      ]
     },
     "execution_count": 18,
     "metadata": {},
     "output_type": "execute_result"
    }
   ],
   "source": [
    "Color.GREEN.name"
   ]
  },
  {
   "cell_type": "code",
   "execution_count": 19,
   "id": "e9f8ea2c",
   "metadata": {},
   "outputs": [
    {
     "data": {
      "text/plain": [
       "1"
      ]
     },
     "execution_count": 19,
     "metadata": {},
     "output_type": "execute_result"
    }
   ],
   "source": [
    "Color.GREEN.value"
   ]
  },
  {
   "cell_type": "markdown",
   "id": "a58d7336",
   "metadata": {},
   "source": [
    "### 枚举的比较"
   ]
  },
  {
   "cell_type": "markdown",
   "id": "73fb9527",
   "metadata": {},
   "source": [
    "枚举类型之间不能进行`>`或者`<`的比较，只能进行等值`==`或者身份`is`比较，比较的其实是枚举类型的值："
   ]
  },
  {
   "cell_type": "code",
   "execution_count": 26,
   "id": "a509e796",
   "metadata": {},
   "outputs": [
    {
     "data": {
      "text/plain": [
       "True"
      ]
     },
     "execution_count": 26,
     "metadata": {},
     "output_type": "execute_result"
    }
   ],
   "source": [
    "Color.GREEN == Color.BLUE"
   ]
  },
  {
   "cell_type": "code",
   "execution_count": 27,
   "id": "ff8c44ab",
   "metadata": {},
   "outputs": [
    {
     "data": {
      "text/plain": [
       "True"
      ]
     },
     "execution_count": 27,
     "metadata": {},
     "output_type": "execute_result"
    }
   ],
   "source": [
    "Color.GREEN is Color.BLUE"
   ]
  },
  {
   "cell_type": "markdown",
   "id": "cadaaa8f",
   "metadata": {},
   "source": [
    "不同枚举类之间的枚举类型比较返回全部都是`False`："
   ]
  },
  {
   "cell_type": "code",
   "execution_count": 29,
   "id": "2974775e",
   "metadata": {},
   "outputs": [],
   "source": [
    "class C(Enum):\n",
    "    GREEN = 1"
   ]
  },
  {
   "cell_type": "code",
   "execution_count": 30,
   "id": "9a6b111a",
   "metadata": {},
   "outputs": [
    {
     "data": {
      "text/plain": [
       "False"
      ]
     },
     "execution_count": 30,
     "metadata": {},
     "output_type": "execute_result"
    }
   ],
   "source": [
    "C.GREEN == Color.GREEN"
   ]
  },
  {
   "cell_type": "markdown",
   "id": "51c0dfdd",
   "metadata": {},
   "source": [
    "### 枚举类型别名"
   ]
  },
  {
   "cell_type": "markdown",
   "id": "62826dac",
   "metadata": {},
   "source": [
    "如果枚举类型的值相同，那么后面的枚举类型是前面的别名："
   ]
  },
  {
   "cell_type": "code",
   "execution_count": 33,
   "id": "b5c73c9d",
   "metadata": {},
   "outputs": [],
   "source": [
    "from enum import Enum\n",
    "\n",
    "\n",
    "class Color(Enum):\n",
    "    GREEN = 1\n",
    "    YELLOW = 2\n",
    "    RED = 3\n",
    "    BLUE = 1  # BLUE是GREEN的别名"
   ]
  },
  {
   "cell_type": "markdown",
   "id": "e964d508",
   "metadata": {},
   "source": [
    "遍历枚举类的时候，别名不会被遍历到："
   ]
  },
  {
   "cell_type": "code",
   "execution_count": 36,
   "id": "f9163a64",
   "metadata": {},
   "outputs": [
    {
     "name": "stdout",
     "output_type": "stream",
     "text": [
      "Color.GREEN\n",
      "Color.YELLOW\n",
      "Color.RED\n"
     ]
    }
   ],
   "source": [
    "for e in Color:\n",
    "    print(e)"
   ]
  },
  {
   "cell_type": "markdown",
   "id": "6826111f",
   "metadata": {},
   "source": [
    "枚举类的`__members__`属性包含了所有的枚举类型："
   ]
  },
  {
   "cell_type": "code",
   "execution_count": 37,
   "id": "0f4db932",
   "metadata": {},
   "outputs": [
    {
     "data": {
      "text/plain": [
       "mappingproxy({'GREEN': <Color.GREEN: 1>,\n",
       "              'YELLOW': <Color.YELLOW: 2>,\n",
       "              'RED': <Color.RED: 3>,\n",
       "              'BLUE': <Color.GREEN: 1>})"
      ]
     },
     "execution_count": 37,
     "metadata": {},
     "output_type": "execute_result"
    }
   ],
   "source": [
    "Color.__members__"
   ]
  },
  {
   "cell_type": "markdown",
   "id": "635bc655",
   "metadata": {},
   "source": [
    "### IntEnum和unique装饰器"
   ]
  },
  {
   "cell_type": "markdown",
   "id": "4f5d5947",
   "metadata": {},
   "source": [
    "普通`Enum`类，枚举类型的值可以是任意类型，`IntEnum`，枚举类型的值只能是整数。另外，不同的枚举类型的值可以是相同的，其中一个是另一个的别名，如果要保证值不同，可以使用`@unique`装饰器："
   ]
  },
  {
   "cell_type": "code",
   "execution_count": 43,
   "id": "b7d959a7",
   "metadata": {},
   "outputs": [],
   "source": [
    "from enum import IntEnum, unique\n",
    "\n",
    "@unique\n",
    "class Color(IntEnum):\n",
    "    GREEN = 1\n",
    "    RED = 2\n",
    "    YELLOW = 3\n",
    "    # BLUE = 'blue' # IntEnum不允许值为非整数\n",
    "    # BLUE = 1  # 添加了unique装饰器以后会报错"
   ]
  },
  {
   "cell_type": "markdown",
   "id": "30b742ae",
   "metadata": {},
   "source": [
    "### 使用场景"
   ]
  },
  {
   "cell_type": "markdown",
   "id": "b1612d0f",
   "metadata": {},
   "source": [
    "#### 数值和枚举类型的转换"
   ]
  },
  {
   "cell_type": "markdown",
   "id": "14df47a1",
   "metadata": {},
   "source": [
    "我们数据库里面为减少存储空间，一般都存储整数，比如用户性别，男性用0表示，女性用1表示，但是这样可读性不好，此时可以使用枚举类："
   ]
  },
  {
   "cell_type": "code",
   "execution_count": 44,
   "id": "ef61cb81",
   "metadata": {},
   "outputs": [],
   "source": [
    "class SEX(IntEnum):\n",
    "    MALE = 0\n",
    "    FEMALE = 1"
   ]
  },
  {
   "cell_type": "markdown",
   "id": "3c7108e9",
   "metadata": {},
   "source": [
    "我们可以直接将数值转换为枚举类型，增加可读性："
   ]
  },
  {
   "cell_type": "code",
   "execution_count": 52,
   "id": "c4ec6eaa",
   "metadata": {},
   "outputs": [
    {
     "data": {
      "text/plain": [
       "<SEX.MALE: 0>"
      ]
     },
     "execution_count": 52,
     "metadata": {},
     "output_type": "execute_result"
    }
   ],
   "source": [
    "male = SEX(0)\n",
    "male"
   ]
  },
  {
   "cell_type": "markdown",
   "id": "9df4f960",
   "metadata": {},
   "source": [
    "## 模式匹配"
   ]
  },
  {
   "cell_type": "markdown",
   "id": "addb26d0",
   "metadata": {},
   "source": [
    "3.10最重要的新增语法特性是`match/case`模式匹配，看起来有点像javascript的`switch/case`，但是功能要强大很多。\n",
    "\n",
    "- [Python case|match - structural pattern matching](https://www.mybluelinux.com/python-casematch-structural-pattern-matching/)"
   ]
  },
  {
   "cell_type": "markdown",
   "id": "6e93a95a",
   "metadata": {},
   "source": [
    "### 匹配序列"
   ]
  },
  {
   "cell_type": "markdown",
   "id": "4b8606ae",
   "metadata": {},
   "source": [
    "匹配序列挺好理解的，不过python的模式匹配除了判断条件，还和解包有点类似，可以赋值给变量：\n",
    "```python\n",
    "metro_areas = [\n",
    "    ('Tokyo', 'JP', 36.933, (35.689722, 139.691667)),\n",
    "    ('Delhi NCR', 'IN', 21.935, (28.613889, 77.208889)),\n",
    "    ('Mexico City', 'MX', 20.142, (19.433333, -99.133333)),\n",
    "    ('New York-Newark', 'US', 20.104, (40.808611, -74.020386)),\n",
    "    ('São Paulo', 'BR', 19.649, (-23.547778, -46.635833)),\n",
    "]\n",
    "\n",
    "for record in metro_areas:\n",
    "    match record:\n",
    "        case [city, _, _, (lat, lon)] if lon < 0:\n",
    "            print(f\"{city:15} | {lat:9.4f} | {lon:9.4f}\")\n",
    "```\n",
    "我们甚至可以这样写，来指定要匹配的类型：\n",
    "```python\n",
    "case [str(city), *_, (float(lat), float(lon))] if lon < 0:\n",
    "```\n",
    "其中，`*_`表示匹配多个条目。注意一点，其实是先解构然后再执行`if`语句，因此在`if`里面可以使用变量。"
   ]
  },
  {
   "cell_type": "markdown",
   "id": "fc323096",
   "metadata": {},
   "source": [
    "### 匹配字典"
   ]
  },
  {
   "cell_type": "markdown",
   "id": "d6c89838",
   "metadata": {},
   "source": [
    "模式匹配还可以匹配字典，比如：\n",
    "```python\n",
    "d = {0: \"zero\", 1: \"one\", 2: \"two\", 3: \"three\"}\n",
    "\n",
    "match d:\n",
    "    case {2: \"two\"}:\n",
    "        print(\"yes\")\n",
    "```\n",
    "此时表示，只要字典包含`{2: \"two\"}`的键值对，则认为匹配。\n",
    "\n",
    "同样，可以进行变量赋值：\n",
    "```python\n",
    "d = {0: \"zero\", 1: \"one\", 2: \"two\", 3: \"three\"}\n",
    "\n",
    "match d:\n",
    "    case {0: zero_val, 1: one_val}:\n",
    "        print(f\"0 mapped to {zero_val} and 1 to {one_val}\")\n",
    "```\n",
    "类似解包，还可以使用`**`号收集多余的项：\n",
    "```python\n",
    "d = {0: \"zero\", 1: \"one\", 2: \"two\", 3: \"three\"}\n",
    "match d:\n",
    "    case {2: \"two\", **remainder}:\n",
    "        print(remainder)\n",
    "```\n",
    "输出为：`{0: 'zero', 1: 'one', 3: 'three'}`\n",
    "\n",
    "注意，只能把变量绑定给值，不能绑定给键。下面这样是错的：\n",
    "```python\n",
    "d = {0: \"zero\", 1: \"one\", 2: \"two\", 3: \"three\"}\n",
    "match d:\n",
    "    case {two: \"two\"}:\n",
    "        print(two)\n",
    "```"
   ]
  },
  {
   "cell_type": "markdown",
   "id": "af29ca6c",
   "metadata": {},
   "source": [
    "### 匹配类实例"
   ]
  },
  {
   "cell_type": "markdown",
   "id": "ea58c3b7",
   "metadata": {},
   "source": [
    "类模式匹配有三个变种，简单的、关键字和基于位置的。"
   ]
  },
  {
   "cell_type": "markdown",
   "id": "a07f4b09",
   "metadata": {},
   "source": [
    "#### 简单的类实例"
   ]
  },
  {
   "cell_type": "markdown",
   "id": "af71f925",
   "metadata": {},
   "source": [
    "```python\n",
    "class C:\n",
    "    pass\n",
    "\n",
    "\n",
    "class SubC(C):\n",
    "    pass\n",
    "\n",
    "\n",
    "sc = SubC()\n",
    "match sc:\n",
    "    case C():\n",
    "        print(\"match\")\n",
    "    case _:\n",
    "        print(\"not match\")\n",
    "```\n",
    "输出为`match`，说明模式匹配检查`sc`是不是`C`的实例，注意这里只能是`C()`，不能是`C`，如果是`C`的话，python会认为`C`是一个变量，同时将`sc`绑定给变量。\n",
    "\n",
    "匹配类实例也可以绑定变量，前面已经见识过：\n",
    "```python\n",
    "case [str(city), *_, (float(lat), float(lon))] if lon < 0:\n",
    "```\n",
    "注意，上面这种绑定变量只适用于9种内置的类型：\n",
    "```\n",
    "bytes dict float frozenset int list set str tuple\n",
    "```\n",
    "如果不是这9种，则会认为是类的属性，就像他们是关键字或者位置参数，这句话不太好理解，继续往下看。"
   ]
  },
  {
   "cell_type": "markdown",
   "id": "e0c7e92b",
   "metadata": {},
   "source": [
    "#### 关键字模式"
   ]
  },
  {
   "cell_type": "markdown",
   "id": "e9e7ec2f",
   "metadata": {},
   "source": [
    "类模式匹配的语法说实话有点奇怪，比如：\n",
    "```python\n",
    "from collections import namedtuple\n",
    "\n",
    "Hero = namedtuple('Hero', 'name male')\n",
    "widow = Hero('black widow', 'female')\n",
    "\n",
    "match widow:\n",
    "    case Hero(name='black widow'):\n",
    "        print(\"match\")\n",
    "    case _:\n",
    "        print(\"not match\")\n",
    "```\n",
    "这里，只要类实例的`name`属性是`black widow`则认为匹配，不管有没有其它属性。其它属性还可以绑定变量：\n",
    "```python\n",
    "from collections import namedtuple\n",
    "\n",
    "Hero = namedtuple('Hero', 'name sex')\n",
    "widow = Hero('black widow', 'female')\n",
    "\n",
    "match widow:\n",
    "    case Hero(name='black widow', sex=sex):\n",
    "        print(f\"match, sex is: {sex}\")\n",
    "    case _:\n",
    "        print(\"not match\")\n",
    "```\n",
    "这里把`window`的`sex`属性绑定给了`sex`的变量。"
   ]
  },
  {
   "cell_type": "markdown",
   "id": "404ef9d9",
   "metadata": {},
   "source": [
    "#### 位置模式"
   ]
  },
  {
   "cell_type": "markdown",
   "id": "fb8a84a2",
   "metadata": {},
   "source": [
    "位置模式和关键字参数基本一致，只不过参数按照位置传递：\n",
    "```python\n",
    "from collections import namedtuple\n",
    "\n",
    "Hero = namedtuple('Hero', 'name sex')\n",
    "widow = Hero('black widow', 'female')\n",
    "\n",
    "match widow:\n",
    "    case Hero('black widow', sex):\n",
    "        print(f\"match, sex is: {sex}\")\n",
    "    case _:\n",
    "        print(\"not match\")\n",
    "```\n",
    "要注意，模式匹配的位置参数和构造函数的参数不是一回事，它的位置在背后是由这个类的一个特殊的魔术方法`__match__args__`定义的，自定义的类是没有这个方法的，因此不能使用位置模式进行匹配：\n",
    "```python\n",
    "class C:\n",
    "    def __init__(self, name, age):\n",
    "        self.name = name\n",
    "        self.age = age\n",
    "\n",
    "\n",
    "c = C(\"spider man\", 16)\n",
    "\n",
    "match c:\n",
    "    case C('spider man', age):\n",
    "        print(f\"match, age is: {age}\")\n",
    "    case _:\n",
    "        print(\"not match\")\n",
    "```\n",
    "上面代码会报错，提示`C() accepts 0 positional sub-patterns (2 given)`，因为自定义的类没有`__match_args__`方法，因此匹配的时候不接受位置参数。上面的代码，如果使用关键字参数是可以的：\n",
    "```python\n",
    "case C(name='spider man', age=age)\n",
    "```\n",
    "因此，在模式匹配中，不能把`()`号理解成构造函数。"
   ]
  },
  {
   "cell_type": "markdown",
   "id": "60e3ee80",
   "metadata": {},
   "source": [
    "## DataClass数据类"
   ]
  },
  {
   "cell_type": "markdown",
   "id": "629a6976",
   "metadata": {},
   "source": [
    "### 为什么需要数据类"
   ]
  },
  {
   "cell_type": "markdown",
   "id": "d42dc888",
   "metadata": {},
   "source": [
    "通常情况下，我们使用命名元组或者字典来保存数据，但有时候我们希望像类一样，为数据提供一些方法，有点类似ORM映射。通常是这样做的："
   ]
  },
  {
   "cell_type": "code",
   "execution_count": 1,
   "id": "583ad71e",
   "metadata": {},
   "outputs": [],
   "source": [
    "class Coordinate:\n",
    "    def __init__(self, lat, lon):\n",
    "        self.lat = lat\n",
    "        self.lon = lon"
   ]
  },
  {
   "cell_type": "markdown",
   "id": "cef08065",
   "metadata": {},
   "source": [
    "但是这显然有几个问题：\n",
    "1. 字符串显示不友好\n",
    "2. 实例默认彼此之间不相等"
   ]
  },
  {
   "cell_type": "code",
   "execution_count": 7,
   "id": "d98e2e61",
   "metadata": {},
   "outputs": [
    {
     "data": {
      "text/plain": [
       "<__main__.Coordinate at 0x2a7ea8503a0>"
      ]
     },
     "execution_count": 7,
     "metadata": {},
     "output_type": "execute_result"
    }
   ],
   "source": [
    "moscow = Coordinate(55.76, 37.62)\n",
    "moscow  # 打印信息不友好"
   ]
  },
  {
   "cell_type": "code",
   "execution_count": 8,
   "id": "79289788",
   "metadata": {},
   "outputs": [
    {
     "data": {
      "text/plain": [
       "False"
      ]
     },
     "execution_count": 8,
     "metadata": {},
     "output_type": "execute_result"
    }
   ],
   "source": [
    "loc = Coordinate(55.76, 37.62)\n",
    "moscow == loc  # 默认不相等"
   ]
  },
  {
   "cell_type": "code",
   "execution_count": 9,
   "id": "7e5c6796",
   "metadata": {},
   "outputs": [
    {
     "data": {
      "text/plain": [
       "True"
      ]
     },
     "execution_count": 9,
     "metadata": {},
     "output_type": "execute_result"
    }
   ],
   "source": [
    "(loc.lat, loc.lon) == (moscow.lat, moscow.lon)  # 只能够捉对比较属性"
   ]
  },
  {
   "cell_type": "markdown",
   "id": "e95ab394",
   "metadata": {},
   "source": [
    "我们看看使用命名元组和字典来实现这个数据结构："
   ]
  },
  {
   "cell_type": "code",
   "execution_count": 12,
   "id": "8609b3dd",
   "metadata": {},
   "outputs": [
    {
     "data": {
      "text/plain": [
       "Coordinate(lat=55.76, lon=37.62)"
      ]
     },
     "execution_count": 12,
     "metadata": {},
     "output_type": "execute_result"
    }
   ],
   "source": [
    "# 使用命名元组\n",
    "from collections import namedtuple\n",
    "\n",
    "Coordinate = namedtuple('Coordinate', 'lat lon')\n",
    "moscow = Coordinate(55.76, 37.62)\n",
    "moscow  # 命名元组打印信息非常友好"
   ]
  },
  {
   "cell_type": "code",
   "execution_count": 13,
   "id": "e60c8119",
   "metadata": {},
   "outputs": [
    {
     "data": {
      "text/plain": [
       "True"
      ]
     },
     "execution_count": 13,
     "metadata": {},
     "output_type": "execute_result"
    }
   ],
   "source": [
    "moscow == Coordinate(lat=55.76, lon=37.62)  # 相等也是有意义的"
   ]
  },
  {
   "cell_type": "code",
   "execution_count": 14,
   "id": "469d9177",
   "metadata": {},
   "outputs": [
    {
     "data": {
      "text/plain": [
       "True"
      ]
     },
     "execution_count": 14,
     "metadata": {},
     "output_type": "execute_result"
    }
   ],
   "source": [
    "issubclass(Coordinate, tuple) # 命名元组是元组的子类"
   ]
  },
  {
   "cell_type": "markdown",
   "id": "ddc0c0f6",
   "metadata": {},
   "source": [
    "3.7以后还提供了一个类型命名元组，可以提供类型注释："
   ]
  },
  {
   "cell_type": "code",
   "execution_count": 21,
   "id": "ce8fb8bf",
   "metadata": {},
   "outputs": [
    {
     "data": {
      "text/plain": [
       "Coordinate(lat=55.76, lon=37.62)"
      ]
     },
     "execution_count": 21,
     "metadata": {},
     "output_type": "execute_result"
    }
   ],
   "source": [
    "from typing import NamedTuple\n",
    "Coordinate = NamedTuple('Coordinate', [('lat', float), ('lon', float)])\n",
    "# 也可以使用关键字参数\n",
    "# Coordinate = NamedTuple('Coordinate', lat=float, lon=float)\n",
    "moscow = Coordinate(55.76, 37.62)\n",
    "moscow"
   ]
  },
  {
   "cell_type": "markdown",
   "id": "0da0be4c",
   "metadata": {},
   "source": [
    "其它特性和`namedtuple`一样，不过可以额外通过`typing.get_type_hints`方法获取其类型注释："
   ]
  },
  {
   "cell_type": "code",
   "execution_count": 22,
   "id": "84e06f39",
   "metadata": {},
   "outputs": [
    {
     "data": {
      "text/plain": [
       "{'lat': float, 'lon': float}"
      ]
     },
     "execution_count": 22,
     "metadata": {},
     "output_type": "execute_result"
    }
   ],
   "source": [
    "import typing\n",
    "typing.get_type_hints(moscow)"
   ]
  },
  {
   "cell_type": "markdown",
   "id": "c1290e24",
   "metadata": {},
   "source": [
    "3.6以后还可以采用继承`Namedtuple`的方式写一个类："
   ]
  },
  {
   "cell_type": "code",
   "execution_count": 25,
   "id": "250c5ac4",
   "metadata": {},
   "outputs": [],
   "source": [
    "# 注意：这里看起来是继承了NamedTuple，但是实际上是利用了元类，创建的并不是一个NamedTuple子类，而是一个tuple的子类\n",
    "class Coordinate(NamedTuple):\n",
    "    lat: float\n",
    "    lon: float"
   ]
  },
  {
   "cell_type": "code",
   "execution_count": 28,
   "id": "e8f7ce8b",
   "metadata": {},
   "outputs": [
    {
     "data": {
      "text/plain": [
       "Coordinate(lat=55.76, lon=37.72)"
      ]
     },
     "execution_count": 28,
     "metadata": {},
     "output_type": "execute_result"
    }
   ],
   "source": [
    "moscow = Coordinate(55.76, 37.72)\n",
    "moscow"
   ]
  },
  {
   "cell_type": "code",
   "execution_count": 31,
   "id": "357060f8",
   "metadata": {},
   "outputs": [
    {
     "data": {
      "text/plain": [
       "True"
      ]
     },
     "execution_count": 31,
     "metadata": {},
     "output_type": "execute_result"
    }
   ],
   "source": [
    "moscow == Coordinate(lat=55.76, lon=37.72)"
   ]
  },
  {
   "cell_type": "markdown",
   "id": "ac487fc9",
   "metadata": {},
   "source": [
    "最后再来看字典："
   ]
  },
  {
   "cell_type": "code",
   "execution_count": 35,
   "id": "b0321ece",
   "metadata": {},
   "outputs": [
    {
     "data": {
      "text/plain": [
       "{'lat': 55.76, 'lon': 37.72}"
      ]
     },
     "execution_count": 35,
     "metadata": {},
     "output_type": "execute_result"
    }
   ],
   "source": [
    "moscow = {\"lat\":55.76, \"lon\":37.72}\n",
    "moscow"
   ]
  },
  {
   "cell_type": "code",
   "execution_count": 36,
   "id": "0a0993c0",
   "metadata": {},
   "outputs": [
    {
     "data": {
      "text/plain": [
       "True"
      ]
     },
     "execution_count": 36,
     "metadata": {},
     "output_type": "execute_result"
    }
   ],
   "source": [
    "moscow == {\"lat\":55.76, \"lon\":37.72}"
   ]
  },
  {
   "cell_type": "markdown",
   "id": "f57c7a5b",
   "metadata": {},
   "source": [
    "可见命名元组和字典可以较好的完成任务。\n",
    "\n",
    "3.7新增了一个`dataclass`类："
   ]
  },
  {
   "cell_type": "code",
   "execution_count": 38,
   "id": "5bf3176a",
   "metadata": {},
   "outputs": [],
   "source": [
    "from dataclasses import dataclass\n",
    "\n",
    "@dataclass\n",
    "class Coordinate:\n",
    "    lat: float\n",
    "    lon: float"
   ]
  },
  {
   "cell_type": "code",
   "execution_count": 39,
   "id": "c1f45a12",
   "metadata": {},
   "outputs": [
    {
     "data": {
      "text/plain": [
       "Coordinate(lat=55.76, lon=37.62)"
      ]
     },
     "execution_count": 39,
     "metadata": {},
     "output_type": "execute_result"
    }
   ],
   "source": [
    "moscow = Coordinate(55.76, 37.62)\n",
    "moscow"
   ]
  },
  {
   "cell_type": "code",
   "execution_count": 40,
   "id": "3d076cf9",
   "metadata": {},
   "outputs": [
    {
     "data": {
      "text/plain": [
       "True"
      ]
     },
     "execution_count": 40,
     "metadata": {},
     "output_type": "execute_result"
    }
   ],
   "source": [
    "moscow == Coordinate(55.76, 37.62)"
   ]
  },
  {
   "cell_type": "code",
   "execution_count": 41,
   "id": "c2bf6048",
   "metadata": {},
   "outputs": [
    {
     "data": {
      "text/plain": [
       "{'lat': float, 'lon': float}"
      ]
     },
     "execution_count": 41,
     "metadata": {},
     "output_type": "execute_result"
    }
   ],
   "source": [
    "typing.get_type_hints(moscow)"
   ]
  },
  {
   "cell_type": "markdown",
   "id": "9a39983a",
   "metadata": {},
   "source": [
    "### 数据类特性"
   ]
  },
  {
   "cell_type": "markdown",
   "id": "02ac8f38",
   "metadata": {},
   "source": [
    "dataclass除了和命名元组类似的作用以外，还提供了更多的功能："
   ]
  },
  {
   "cell_type": "markdown",
   "id": "e38acefd",
   "metadata": {},
   "source": [
    "#### 可变不可变"
   ]
  },
  {
   "cell_type": "markdown",
   "id": "8f8a75c8",
   "metadata": {},
   "source": [
    "默认情况下，dataclass创建的数据类是可变的。比如："
   ]
  },
  {
   "cell_type": "code",
   "execution_count": 45,
   "id": "2456fa99",
   "metadata": {},
   "outputs": [
    {
     "data": {
      "text/plain": [
       "Coordinate(lat=55.76, lon=37.62)"
      ]
     },
     "execution_count": 45,
     "metadata": {},
     "output_type": "execute_result"
    }
   ],
   "source": [
    "moscow.area = 422000\n",
    "# 此时添加的属性不会打印\n",
    "moscow"
   ]
  },
  {
   "cell_type": "markdown",
   "id": "0ef45ab6",
   "metadata": {},
   "source": [
    "可以给dataclass装饰器添加一个frozen参数，使之称为不可变的："
   ]
  },
  {
   "cell_type": "code",
   "execution_count": 56,
   "id": "88906aee",
   "metadata": {},
   "outputs": [],
   "source": [
    "from dataclasses import dataclass\n",
    "\n",
    "@dataclass(frozen=True)\n",
    "class Coordinate:\n",
    "    lat: float\n",
    "    lon: float"
   ]
  },
  {
   "cell_type": "code",
   "execution_count": 57,
   "id": "df383c23",
   "metadata": {},
   "outputs": [
    {
     "name": "stdout",
     "output_type": "stream",
     "text": [
      "cannot assign to field 'area'\n"
     ]
    }
   ],
   "source": [
    "from dataclasses import FrozenInstanceError\n",
    "\n",
    "moscow = Coordinate(lat=55.76, lon=37.62)\n",
    "try:\n",
    "    moscow.area = 422000\n",
    "except FrozenInstanceError as e:\n",
    "    print(e)"
   ]
  },
  {
   "cell_type": "markdown",
   "id": "f107c13b",
   "metadata": {},
   "source": [
    "#### 获取字段"
   ]
  },
  {
   "cell_type": "markdown",
   "id": "01608c6d",
   "metadata": {},
   "source": [
    "可以使用`dataclasses`的fields方法获取数据类的字段，返回一个`field`对象，包含这个字段的所有信息：比如字段名，默认值等等。"
   ]
  },
  {
   "cell_type": "code",
   "execution_count": 67,
   "id": "138cc095",
   "metadata": {},
   "outputs": [
    {
     "data": {
      "text/plain": [
       "['lat', 'lon']"
      ]
     },
     "execution_count": 67,
     "metadata": {},
     "output_type": "execute_result"
    }
   ],
   "source": [
    "import dataclasses\n",
    "\n",
    "[f.name for f in dataclasses.fields(moscow)]"
   ]
  },
  {
   "cell_type": "markdown",
   "id": "ccd3095a",
   "metadata": {},
   "source": [
    "如果要获取字段的类型，可以查看`__annotations__`属性，不过建议使用`typing.get_type_hints`方法："
   ]
  },
  {
   "cell_type": "code",
   "execution_count": 68,
   "id": "689f9e58",
   "metadata": {},
   "outputs": [
    {
     "data": {
      "text/plain": [
       "{'lat': float, 'lon': float}"
      ]
     },
     "execution_count": 68,
     "metadata": {},
     "output_type": "execute_result"
    }
   ],
   "source": [
    "moscow.__annotations__"
   ]
  },
  {
   "cell_type": "code",
   "execution_count": 71,
   "id": "e0d14f95",
   "metadata": {},
   "outputs": [
    {
     "data": {
      "text/plain": [
       "{'lat': float, 'lon': float}"
      ]
     },
     "execution_count": 71,
     "metadata": {},
     "output_type": "execute_result"
    }
   ],
   "source": [
    "typing.get_type_hints(moscow)"
   ]
  },
  {
   "cell_type": "markdown",
   "id": "52bf1b6c",
   "metadata": {},
   "source": [
    "#### 修改字段值"
   ]
  },
  {
   "cell_type": "markdown",
   "id": "513cbbc7",
   "metadata": {},
   "source": [
    "当`frozen`设置为`True`的时候，数据类是不可变的，但是如果想要修改其中某个字段的值，我们可以使用`repalce`方法，该方法会返回一个新的数据类实例："
   ]
  },
  {
   "cell_type": "code",
   "execution_count": 76,
   "id": "f5e4c37d",
   "metadata": {},
   "outputs": [
    {
     "name": "stdout",
     "output_type": "stream",
     "text": [
      "cannot assign to field 'lat'\n"
     ]
    }
   ],
   "source": [
    "# 不能对字段进行赋值\n",
    "try:\n",
    "    moscow.lat = 58.75\n",
    "except FrozenInstanceError as e:\n",
    "    print(e)"
   ]
  },
  {
   "cell_type": "code",
   "execution_count": 77,
   "id": "dcf3c16b",
   "metadata": {},
   "outputs": [
    {
     "data": {
      "text/plain": [
       "Coordinate(lat=58.75, lon=37.62)"
      ]
     },
     "execution_count": 77,
     "metadata": {},
     "output_type": "execute_result"
    }
   ],
   "source": [
    "# 返回一个新的实例\n",
    "dataclasses.replace(moscow, lat=58.75)"
   ]
  },
  {
   "cell_type": "markdown",
   "id": "54a0f1ff",
   "metadata": {},
   "source": [
    "#### 动态创建数据类"
   ]
  },
  {
   "cell_type": "markdown",
   "id": "788e4bfe",
   "metadata": {},
   "source": [
    "对于`namedtuple`和`NamedTuple`，可以使用构造函数动态的创建命名元组。`dataclasses`也提供`make_dataclass`方法，可以传入参数动态创建数据类："
   ]
  },
  {
   "cell_type": "code",
   "execution_count": 79,
   "id": "bfc92335",
   "metadata": {},
   "outputs": [],
   "source": [
    "Coordinate = dataclasses.make_dataclass('Coordinate', [('lat', float),\n",
    "                                                       ('lon', float)])"
   ]
  },
  {
   "cell_type": "code",
   "execution_count": 81,
   "id": "12036708",
   "metadata": {},
   "outputs": [
    {
     "data": {
      "text/plain": [
       "Coordinate(lat=55.76, lon=37.62)"
      ]
     },
     "execution_count": 81,
     "metadata": {},
     "output_type": "execute_result"
    }
   ],
   "source": [
    "moscow = Coordinate(lat=55.76, lon=37.62)\n",
    "moscow"
   ]
  },
  {
   "cell_type": "markdown",
   "id": "ea02a1e7",
   "metadata": {},
   "source": [
    "#### 数据类细节"
   ]
  },
  {
   "cell_type": "markdown",
   "id": "a65b4b82",
   "metadata": {},
   "source": [
    "可以把数据类的类属性认为是实例属性的默认值，只要在类属性中添加了注释，则会在数据类实例中创建相应的实例属性："
   ]
  },
  {
   "cell_type": "code",
   "execution_count": 1,
   "id": "650188f9",
   "metadata": {},
   "outputs": [],
   "source": [
    "from dataclasses import dataclass\n",
    "\n",
    "@dataclass\n",
    "class DemoDataClass:\n",
    "    a: int          # 不会创建类属性a，但是会要求创建对应的实例属性b\n",
    "    b: float = 1.1  # 会创建类属性b，也会要求创建对应的实例属性b\n",
    "    c = 'spam'      # 普通的类属性，对实例属性没有约束"
   ]
  },
  {
   "cell_type": "code",
   "execution_count": 24,
   "id": "df3e6ba2",
   "metadata": {},
   "outputs": [
    {
     "name": "stdout",
     "output_type": "stream",
     "text": [
      "type object 'DemoDataClass' has no attribute 'a'\n"
     ]
    }
   ],
   "source": [
    "try:\n",
    "    DemoDataClass.a  # 并不存在a这样的类属性\n",
    "except AttributeError as e:\n",
    "    print(e)"
   ]
  },
  {
   "cell_type": "code",
   "execution_count": 21,
   "id": "233f1b2f",
   "metadata": {},
   "outputs": [
    {
     "name": "stdout",
     "output_type": "stream",
     "text": [
      "__init__() missing 1 required positional argument: 'a'\n"
     ]
    }
   ],
   "source": [
    "try:\n",
    "    dc = DemoDataClass()\n",
    "except TypeError as e:\n",
    "    print(e)"
   ]
  },
  {
   "cell_type": "code",
   "execution_count": 22,
   "id": "cfc844dd",
   "metadata": {},
   "outputs": [
    {
     "data": {
      "text/plain": [
       "{'a': 42, 'b': 1.1}"
      ]
     },
     "execution_count": 22,
     "metadata": {},
     "output_type": "execute_result"
    }
   ],
   "source": [
    "dc = DemoDataClass(42)\n",
    "dc.__dict__  # 创建了实例属性a,b"
   ]
  },
  {
   "cell_type": "markdown",
   "id": "2075822e",
   "metadata": {},
   "source": [
    "#### dataclass装饰器签名"
   ]
  },
  {
   "cell_type": "markdown",
   "id": "355bb90c",
   "metadata": {},
   "source": [
    "`dataclass`装饰器完整的签名是：\n",
    "```python\n",
    "@dataclass(*, init=True, repr=True, eq=True, order=False, unsafe_hash=False, frozen=False)\n",
    "```\n",
    "其中除了`frozen`意外，其它的参数表示是否自动生成对应的方法，比如`order`，表示是否自动生成`__lt__`，`__gt__`，`__le__`，`__ge__`方法。"
   ]
  },
  {
   "cell_type": "code",
   "execution_count": 48,
   "id": "f43c1263",
   "metadata": {},
   "outputs": [
    {
     "data": {
      "text/plain": [
       "{'b': 33}"
      ]
     },
     "execution_count": 48,
     "metadata": {},
     "output_type": "execute_result"
    }
   ],
   "source": [
    "# 如果init为False，则不会自动生成__init__方法\n",
    "@dataclass\n",
    "class C:\n",
    "    a: int = 42\n",
    "        \n",
    "    def __init__(self):\n",
    "        self.b = 33\n",
    "\n",
    "c = C()\n",
    "c.__dict__ "
   ]
  },
  {
   "cell_type": "markdown",
   "id": "1012616d",
   "metadata": {},
   "source": [
    "`unsafe_hash`需要提一嘴，当设置了`frozen=True`，即为不可变时，会自动生成`__hash__`方法。但如果`frozen=False`，则`__hash__`为None。但是如果你仍然想自动生成`__hash__`方法，可以设置`unsafe_hash`为`True`，此时会根据所有`field`的值计算一个hash值，但是由于是可变的，所以要格外小心："
   ]
  },
  {
   "cell_type": "code",
   "execution_count": 83,
   "id": "c4140cdc",
   "metadata": {},
   "outputs": [],
   "source": [
    "@dataclass(unsafe_hash=True)\n",
    "class C:\n",
    "    a: int = 42"
   ]
  },
  {
   "cell_type": "code",
   "execution_count": 84,
   "id": "e1999655",
   "metadata": {},
   "outputs": [
    {
     "data": {
      "text/plain": [
       "-3075770106605038476"
      ]
     },
     "execution_count": 84,
     "metadata": {},
     "output_type": "execute_result"
    }
   ],
   "source": [
    "c1 = C()\n",
    "hash(c1)"
   ]
  },
  {
   "cell_type": "code",
   "execution_count": 85,
   "id": "32a99c4d",
   "metadata": {},
   "outputs": [
    {
     "data": {
      "text/plain": [
       "-3075770106605038476"
      ]
     },
     "execution_count": 85,
     "metadata": {},
     "output_type": "execute_result"
    }
   ],
   "source": [
    "c2 = C()\n",
    "hash(c2)"
   ]
  },
  {
   "cell_type": "code",
   "execution_count": 86,
   "id": "e5c96927",
   "metadata": {},
   "outputs": [
    {
     "data": {
      "text/plain": [
       "True"
      ]
     },
     "execution_count": 86,
     "metadata": {},
     "output_type": "execute_result"
    }
   ],
   "source": [
    "c1 == c2"
   ]
  },
  {
   "cell_type": "markdown",
   "id": "639ab117",
   "metadata": {},
   "source": [
    "### Field字段"
   ]
  },
  {
   "cell_type": "markdown",
   "id": "c93a8282",
   "metadata": {},
   "source": [
    "使用可变对象作为默认值往往是造成bug的源头，因此dataclass就不允许这种行为："
   ]
  },
  {
   "cell_type": "code",
   "execution_count": 4,
   "id": "10bf313e",
   "metadata": {},
   "outputs": [
    {
     "name": "stdout",
     "output_type": "stream",
     "text": [
      "mutable default <class 'list'> for field lst is not allowed: use default_factory\n"
     ]
    }
   ],
   "source": [
    "from dataclasses import dataclass\n",
    "\n",
    "try:\n",
    "    @dataclass\n",
    "    class C:\n",
    "        lst: list = []\n",
    "except ValueError as e:\n",
    "    print(e)"
   ]
  },
  {
   "cell_type": "markdown",
   "id": "ca32beb2",
   "metadata": {},
   "source": [
    "错误信息很明确，使用`default_factory`："
   ]
  },
  {
   "cell_type": "code",
   "execution_count": 6,
   "id": "995ef760",
   "metadata": {},
   "outputs": [],
   "source": [
    "from dataclasses import field\n",
    "\n",
    "@dataclass\n",
    "class C:\n",
    "    lst: list = field(default_factory=list)"
   ]
  },
  {
   "cell_type": "markdown",
   "id": "85fcd3e4",
   "metadata": {},
   "source": [
    "此时，在生成数据类实例的时候，会给`lst`传入一个空列表的实参，而不是使用空列表作为`lst`的默认参数："
   ]
  },
  {
   "cell_type": "code",
   "execution_count": 9,
   "id": "c2f47732",
   "metadata": {},
   "outputs": [
    {
     "data": {
      "text/plain": [
       "[]"
      ]
     },
     "execution_count": 9,
     "metadata": {},
     "output_type": "execute_result"
    }
   ],
   "source": [
    "c = C()\n",
    "c.lst"
   ]
  },
  {
   "cell_type": "markdown",
   "id": "272e873f",
   "metadata": {},
   "source": [
    "`field`可以接收很多参数，以下是一些场景，比如某个字段你不想打印出来，同时你想提供默认值，则可以："
   ]
  },
  {
   "cell_type": "code",
   "execution_count": 11,
   "id": "cb4d8892",
   "metadata": {},
   "outputs": [
    {
     "data": {
      "text/plain": [
       "C(name='shy')"
      ]
     },
     "execution_count": 11,
     "metadata": {},
     "output_type": "execute_result"
    }
   ],
   "source": [
    "@dataclass\n",
    "class C:\n",
    "    name: str\n",
    "    leader: bool = field(default=False, repr=False)\n",
    "        \n",
    "c = C('shy')\n",
    "c"
   ]
  },
  {
   "cell_type": "code",
   "execution_count": 12,
   "id": "1ec55058",
   "metadata": {},
   "outputs": [
    {
     "data": {
      "text/plain": [
       "False"
      ]
     },
     "execution_count": 12,
     "metadata": {},
     "output_type": "execute_result"
    }
   ],
   "source": [
    "c.leader"
   ]
  },
  {
   "cell_type": "markdown",
   "id": "1fec0894",
   "metadata": {},
   "source": [
    "### `__post_init__`"
   ]
  },
  {
   "cell_type": "markdown",
   "id": "e257cd88",
   "metadata": {},
   "source": [
    "有时候，我们希望对字段进行验证或者生成一些计算属性，则可以使用`__post_init__`方法，这个方法会在数据类自动生成的`__init__`的最后一步调用，比如："
   ]
  },
  {
   "cell_type": "code",
   "execution_count": 14,
   "id": "9f742a0b",
   "metadata": {},
   "outputs": [],
   "source": [
    "@dataclass\n",
    "class ClubMember:\n",
    "    name: str\n",
    "    guests: list = field(default_factory=list)\n",
    "    athlete: bool = field(default=False, repr=False)\n",
    "        \n",
    "@dataclass\n",
    "class HackerClubMember(ClubMember):\n",
    "    all_handles = set()\n",
    "    handle: str = ''\n",
    "        \n",
    "    def __post_init__(self):\n",
    "        cls = self.__class__\n",
    "        if self.handle == '':\n",
    "            self.handle = self.name.split()[0]\n",
    "        if self.handle in cls.all_handles:\n",
    "            msg = f'handle {self.handle!r} already exists.'\n",
    "            raise ValueError(msg)\n",
    "        cls.all_handles.add(self.handle)"
   ]
  },
  {
   "cell_type": "code",
   "execution_count": 15,
   "id": "6941d86e",
   "metadata": {},
   "outputs": [
    {
     "data": {
      "text/plain": [
       "HackerClubMember(name='Leo Rochael', guests=[], handle='Leo')"
      ]
     },
     "execution_count": 15,
     "metadata": {},
     "output_type": "execute_result"
    }
   ],
   "source": [
    "leo = HackerClubMember('Leo Rochael')\n",
    "leo"
   ]
  },
  {
   "cell_type": "markdown",
   "id": "201b00dc",
   "metadata": {},
   "source": [
    "### 注释类属性"
   ]
  },
  {
   "cell_type": "markdown",
   "id": "af4671de",
   "metadata": {},
   "source": [
    "在数据类中，只要添加了类型注释，则会自动的作为参数传入`__init__`方法，生成实例属性。如果想创建一个类属性，则得像下面这样，借助`ClassVar`："
   ]
  },
  {
   "cell_type": "code",
   "execution_count": 21,
   "id": "7baffcc9",
   "metadata": {},
   "outputs": [],
   "source": [
    "from typing import ClassVar\n",
    "\n",
    "@dataclass\n",
    "class C:\n",
    "    members: ClassVar[list[str]] = []"
   ]
  },
  {
   "cell_type": "markdown",
   "id": "ac92c439",
   "metadata": {},
   "source": [
    "此时不会创建`members`实例属性："
   ]
  },
  {
   "cell_type": "code",
   "execution_count": 22,
   "id": "e041250c",
   "metadata": {},
   "outputs": [
    {
     "data": {
      "text/plain": [
       "{}"
      ]
     },
     "execution_count": 22,
     "metadata": {},
     "output_type": "execute_result"
    }
   ],
   "source": [
    "c = C()\n",
    "c.__dict__"
   ]
  },
  {
   "cell_type": "markdown",
   "id": "2855e3ae",
   "metadata": {},
   "source": [
    "### 非字段的初始化变量"
   ]
  },
  {
   "cell_type": "markdown",
   "id": "70404020",
   "metadata": {},
   "source": [
    "有时候我们就需要给`__init__`传入一些参数，但是又不希望这个参数成为实例属性。此时可以使用`InitVar`，注意,`InitVar`是从`dataclasses`里导入的，`__init__`会将这些参数继续传递给`__post_init__`：\n",
    "```python\n",
    "from dataclasses import InitVar\n",
    "\n",
    "@dataclass\n",
    "class C:\n",
    "    i: int\n",
    "    j: int = None\n",
    "    database: InitVar[DatabaseType] = None\n",
    "    \n",
    "    def __post_init__(self, database):\n",
    "        if self.j is None and database is not None:\n",
    "        self.j = database.lookup('j')\n",
    "```"
   ]
  },
  {
   "cell_type": "markdown",
   "id": "4cb59cfd",
   "metadata": {},
   "source": [
    "## 类型注释"
   ]
  },
  {
   "cell_type": "markdown",
   "id": "973860db",
   "metadata": {},
   "source": [
    "因为python是动态语言，类型对其来说并不重要。而且对于python的鸭子类型来说，类型的定义和静态语言都有所不同，把python的某种类型理解成实现了某个特定方法的对象可能更合适。"
   ]
  },
  {
   "cell_type": "markdown",
   "id": "328f202e",
   "metadata": {},
   "source": [
    "### Subtype-of关系"
   ]
  },
  {
   "cell_type": "markdown",
   "id": "0f7e5ce9",
   "metadata": {},
   "source": [
    "传统的面对对象的静态语言系统，依赖Subtype-of关系。即如果T2是T1的子类，则T2是T1的子类型，比如："
   ]
  },
  {
   "cell_type": "code",
   "execution_count": 4,
   "id": "e5af472e",
   "metadata": {},
   "outputs": [],
   "source": [
    "class T1:\n",
    "    pass\n",
    "\n",
    "class T2(T1):\n",
    "    pass\n",
    "\n",
    "def func(o: T1):\n",
    "    pass\n",
    "\n",
    "func(T2)  # 因为T2 is subtype-of T1，所以检查通过，不会报错"
   ]
  },
  {
   "cell_type": "markdown",
   "id": "f5e4e6ea",
   "metadata": {},
   "source": [
    "如果定义时，参数规定是T1类型，那么调用的时候，可以传入T2作为参数，可以这么理解，因为定义时希望传入的参数是T1类型，而T2是T1的子类，可以实现所有T1的方法，因此T2显然是可以作为参数传递的。因此，我们把T2称为T1的子类型。\n",
    "\n",
    "用通俗的话来讲，儿子总比老子强，任何子类型都可以代替父类型，这就是所谓的里氏替换原则。"
   ]
  },
  {
   "cell_type": "markdown",
   "id": "ccfc1a3d",
   "metadata": {},
   "source": [
    "### The Any type和Consistent-of关系"
   ]
  },
  {
   "cell_type": "markdown",
   "id": "5a3eb525",
   "metadata": {},
   "source": [
    "想象一下我们要注释以下的函数，假设`x`可以接受任意的类型："
   ]
  },
  {
   "cell_type": "code",
   "execution_count": 1,
   "id": "e46e278a",
   "metadata": {},
   "outputs": [],
   "source": [
    "def double(x: object)->object:\n",
    "    return x * 2"
   ]
  },
  {
   "cell_type": "markdown",
   "id": "fc593455",
   "metadata": {},
   "source": [
    "使用mypy检查的话，会报错，因为mypy其实检查的是x是否支持`*`操作，或者说是否有`__mul__`方法。所以，如果是接受任意的类型，正确的做法是使用`Any`类型："
   ]
  },
  {
   "cell_type": "code",
   "execution_count": 3,
   "id": "e7327d4d",
   "metadata": {},
   "outputs": [],
   "source": [
    "from typing import Any\n",
    "\n",
    "def double(x: Any) -> Any:\n",
    "    return x * 2"
   ]
  },
  {
   "cell_type": "markdown",
   "id": "3b129241",
   "metadata": {},
   "source": [
    "如果知道里氏替换原则，那么`Any`就显得非常违和，因为注释为`Any`的参数必须是任何类型的子类型，也就是说是任何类的子类。因此，python中，换了一个名词来定义类型和类型之间的关系，即兼容（consistent-of）关系，它适用于subtype-of，并对Any类型有特殊规定：\n",
    "1. T1和它的子类型T2，则T2兼容(consistent-of)T1。\n",
    "2. 任何类型都兼容Any：你可以将每种类型的对象传递给声明为Any类型的参数。\n",
    "3. Any兼容任何类型：当需要某种类型的参数时，你总是可以传递Any类型的对象。\n",
    "\n",
    "简单来说，Any就代表任意类型，不管是在声明的时候，还是在调用传参的时候，只要传递Any类型的对象，就不会报错。"
   ]
  },
  {
   "cell_type": "markdown",
   "id": "27aea72e",
   "metadata": {},
   "source": [
    "### Optional和Union"
   ]
  },
  {
   "cell_type": "markdown",
   "id": "fb784420",
   "metadata": {},
   "source": [
    "当参数为可变对象的时候，我们经常会把默认值设置为`None`，此时注释应该为`Optional[type]`，表示参数为`type`类型或者为`None`。另外，`Optional`其实是`Union[type, None]`的一个快捷方式。\n",
    "\n",
    "关于`Union`没有太多好说的，就是代表或的一个关系。不过有一个细节要注意，`Union`应该包含彼此之间不兼容的类型，比如：\n",
    "`Union[str, int]`，如果彼此之间包含兼容关系，比如`int`和`float`，那么`Union[int, float]`的写法就多余了。直接写成`float`就够了，因为`int`兼容`float`，任何声明为`float`的地方都可以传入`int`。"
   ]
  },
  {
   "cell_type": "markdown",
   "id": "13ad77f5",
   "metadata": {},
   "source": [
    "### 通用集合类型"
   ]
  },
  {
   "cell_type": "markdown",
   "id": "c5e34ea4",
   "metadata": {},
   "source": [
    "#### 列表、集合"
   ]
  },
  {
   "cell_type": "markdown",
   "id": "937a3b7d",
   "metadata": {},
   "source": [
    "所谓的通用集合类型，就是指内置的`list`,`set`等，还有一些内置类型，平时比较少用到，可以查阅流畅的python第三版第8章节。可以通过如下的形式写类型声明：\n",
    "```python\n",
    "container[item]\n",
    "```\n",
    "比如`list[str]`，表示对象是一个`list`，包含的元素全部为`str`类型。注意，虽然`list`可以包含任意类型的元素，但是通常情况下，我们是对`list`里面的元素进行操作，所以元素应包含相同方法，应该是同类型的。也就是说，在python中，一般`list`保存的是同质的元素，而`tuple`才是保存异质的元素。\n",
    "\n",
    "如果`list`包含多种类型的值，那么可以使用`Union`,就像这样：`list[Union[str, int]]`。"
   ]
  },
  {
   "cell_type": "markdown",
   "id": "0b86691c",
   "metadata": {},
   "source": [
    "#### 元组"
   ]
  },
  {
   "cell_type": "markdown",
   "id": "60ac2772",
   "metadata": {},
   "source": [
    "元组的类型声明很简单，`tuple[str, float, str]`这样按位置依次指定元素的类型。如果全部都是相同的类型，则可以`tuple[str, ...]`这样声明。\n",
    "\n",
    "如果是命名元组，`typing`模块提供了一个`NamedTuple`的数据类型，使用方法也很简单，如下："
   ]
  },
  {
   "cell_type": "code",
   "execution_count": 5,
   "id": "c40a5b74",
   "metadata": {},
   "outputs": [],
   "source": [
    "from typing import NamedTuple\n",
    "\n",
    "class Coordinate(NamedTuple):\n",
    "    lat: float\n",
    "    lon: float"
   ]
  },
  {
   "cell_type": "markdown",
   "id": "ff757865",
   "metadata": {},
   "source": [
    "然后就可以像下面这样进行声明："
   ]
  },
  {
   "cell_type": "code",
   "execution_count": 7,
   "id": "f6831ffb",
   "metadata": {},
   "outputs": [],
   "source": [
    "def geohash(lat_lon: Coordinate) -> str:\n",
    "    pass"
   ]
  },
  {
   "cell_type": "markdown",
   "id": "843b4924",
   "metadata": {},
   "source": [
    "注意，`Coordinate`兼容`tuple[float, float]`，但是反过来不行。因此，可以在函数定义的时候使用`tuple[float, float]`的声明，调用的时候传入`Coordinate`。"
   ]
  },
  {
   "cell_type": "markdown",
   "id": "cfd27720",
   "metadata": {},
   "source": [
    "#### 字典"
   ]
  },
  {
   "cell_type": "markdown",
   "id": "7281f7c0",
   "metadata": {},
   "source": [
    "字典的注释很简单，如下："
   ]
  },
  {
   "cell_type": "code",
   "execution_count": 58,
   "id": "8344cfc3",
   "metadata": {},
   "outputs": [],
   "source": [
    "d: dict[str, str] = {\"name\": \"telecomshy\"}"
   ]
  },
  {
   "cell_type": "markdown",
   "id": "608f2ef0",
   "metadata": {},
   "source": [
    "中括号里接收两个类型参数，分别代表键的类型和值的类型，但是你可能会发现一个问题，就是如果值的类型不同怎么办，一个方法是使用`Union`，但是这样丢失了键和值之间的关系。python3.8以后可以使用`TypedDict`，具体查看进阶的内容。"
   ]
  },
  {
   "cell_type": "markdown",
   "id": "d3c8730a",
   "metadata": {},
   "source": [
    "### 抽象基类"
   ]
  },
  {
   "cell_type": "markdown",
   "id": "2e7773b0",
   "metadata": {},
   "source": [
    "原则上，一个函数的参数类型都应该用collections.abc模块的抽象类进行声明，而返回值都应该用具体的类，这样可以让函数更加灵活。"
   ]
  },
  {
   "cell_type": "markdown",
   "id": "d6170f67",
   "metadata": {},
   "source": [
    "#### 键值对类型的参数"
   ]
  },
  {
   "cell_type": "markdown",
   "id": "b7fb1f39",
   "metadata": {},
   "source": [
    "如果是键值对类型的参数话，那么最好是使用`abc`下的`Mapping`或者`MutableMapping`。\n",
    "\n",
    "因为`Mapping`除了`dict`，`defaultdict`，`ChainMap`，还可以兼容`UserDict`的子类。如果是`dict`的话，则只能兼容`defaultdict`，`ChainMap`，不能兼容`UserDict`的子类，因为`UserDict`不是`dict`的子类型，他们是兄弟关系，都是`MutableMapping`抽象类的子类。\n",
    "\n",
    "`MutableMapping`是`Mapping`的子类，如果确定不会使用到类似`pop`，`update`这样更改字典的操作，那么使用`Mapping`，否则就使用`MutableMapping`。"
   ]
  },
  {
   "cell_type": "markdown",
   "id": "1f0f48f0",
   "metadata": {},
   "source": [
    "#### 序列类型的参数"
   ]
  },
  {
   "cell_type": "markdown",
   "id": "78fc7124",
   "metadata": {},
   "source": [
    "如果是序列类型的参数，那么使用`Sequence`或者`Iterable`这样的抽象类型比`list`,`tuple`这样的具体类要好。只要实现了`__iter__`方法的就属于可迭代对象，而`Sequence`则是实现了`__getitem__`这些方法的类。\n",
    "\n",
    "这两者有类似的地方，不过如果只是对参数进行迭代的话，或者要接受生成器，那么就使用`iterable`，如果还有切片或者使用`len`求长度之类的操作的话，就使用`Sequence`。比如："
   ]
  },
  {
   "cell_type": "code",
   "execution_count": 5,
   "id": "5026cb8e",
   "metadata": {},
   "outputs": [
    {
     "name": "stdout",
     "output_type": "stream",
     "text": [
      "((1, 2, 3),),((4, 5, 6),)\n"
     ]
    }
   ],
   "source": [
    "from collections.abc import Iterable, Sequence\n",
    "\n",
    "\n",
    "def func(it: Sequence):\n",
    "    print(','.join([str(i) for i in it]))\n",
    "\n",
    "\n",
    "z = zip([(1, 2, 3), (4, 5, 6)])\n",
    "\n",
    "func(z)"
   ]
  },
  {
   "cell_type": "markdown",
   "id": "055b06d4",
   "metadata": {},
   "source": [
    "`zip`对象没有`__getitem__`方法，但是有`__iterable__`方法，函数只是对传入的参数进行迭代，因此使用`__iterable__`更好。对比下面的例子，看什么时候使用`Sequence`，什么时候使用`Iterable`。"
   ]
  },
  {
   "cell_type": "code",
   "execution_count": 6,
   "id": "db2b7db6",
   "metadata": {},
   "outputs": [],
   "source": [
    "def func(it: Iterable):\n",
    "    print(it[0])  # 这里会提示错误，因为Iterable没有__getitem__方法，这里需要使用Sequence"
   ]
  },
  {
   "cell_type": "markdown",
   "id": "4e1abcdc",
   "metadata": {},
   "source": [
    "最后，某些情况下，需要使用`Iterator`类型，这部分内容后续在补充。"
   ]
  },
  {
   "cell_type": "markdown",
   "id": "97a5fb0d",
   "metadata": {},
   "source": [
    "#### Numbers"
   ]
  },
  {
   "cell_type": "markdown",
   "id": "eac5e04c",
   "metadata": {},
   "source": [
    "Python的内部类numbers定义了数字类型的层次结构，依次是Number，Complex，Real，Rational，Integral。这个层次结构，在运行时的类型检查中工作的很好："
   ]
  },
  {
   "cell_type": "code",
   "execution_count": 6,
   "id": "aae5bbe9",
   "metadata": {},
   "outputs": [
    {
     "data": {
      "text/plain": [
       "True"
      ]
     },
     "execution_count": 6,
     "metadata": {},
     "output_type": "execute_result"
    }
   ],
   "source": [
    "x = 32\n",
    "isinstance(x, numbers.Number)"
   ]
  },
  {
   "cell_type": "markdown",
   "id": "3c2be454",
   "metadata": {},
   "source": [
    "但是很遗憾，在静态类型检查中，numbers的这些类型完全不起作用了，这是因为python的静态类型本质上是检查对象是否包含某个特定的方法，而numbers中的类型是不包含方法的，因此对于数字，目前能使用的，只能是原生的complex, float, int。"
   ]
  },
  {
   "cell_type": "markdown",
   "id": "3d4d04de",
   "metadata": {},
   "source": [
    "### 类型别名"
   ]
  },
  {
   "cell_type": "markdown",
   "id": "6413fc8c",
   "metadata": {},
   "source": [
    "你可以直接把类型声明赋值给一个变量，作为声明的别名："
   ]
  },
  {
   "cell_type": "code",
   "execution_count": 8,
   "id": "6697a438",
   "metadata": {},
   "outputs": [],
   "source": [
    "FromTo = tuple[str, int, str]"
   ]
  },
  {
   "cell_type": "markdown",
   "id": "eb2c61cf",
   "metadata": {},
   "source": [
    "但是在3.10以后，对于别名也有一个专门的声明，以便typechecker工具能够更好的工作：\n",
    "```python\n",
    "from typing import TypeAlias\n",
    "\n",
    "FromTo: TypeAlias = tuple[str, int, str]\n",
    "```"
   ]
  },
  {
   "cell_type": "markdown",
   "id": "13348b9a",
   "metadata": {},
   "source": [
    "### 类型变量TypeVar"
   ]
  },
  {
   "cell_type": "markdown",
   "id": "3227b3c3",
   "metadata": {},
   "source": [
    "我们有时候会遇到这样的场景，即返回的值的类型和参数的类型一致。比如函数的参数接受字符串或者整数，当是字符串的时候，返回的是字符串，此时可以使用泛型："
   ]
  },
  {
   "cell_type": "code",
   "execution_count": 21,
   "id": "cc41a43d",
   "metadata": {},
   "outputs": [],
   "source": [
    "from typing import TypeVar\n",
    "\n",
    "T = TypeVar('T')\n",
    "\n",
    "def func(i: T) -> T:\n",
    "    pass"
   ]
  },
  {
   "cell_type": "markdown",
   "id": "cc0b1904",
   "metadata": {},
   "source": [
    "此时`T`表示一个泛型，只有在第一次调用时才进行绑定。\n",
    "\n",
    "如果我要对泛型进行一些约束，比如`T`只能够为数字或者字符串，则可以添加更多的参数："
   ]
  },
  {
   "cell_type": "code",
   "execution_count": 22,
   "id": "e9141bc1",
   "metadata": {},
   "outputs": [],
   "source": [
    "from decimal import Decimal\n",
    "from fractions import Fraction\n",
    "\n",
    "T = TypeVar('T', float, Decimal, Fraction, str)"
   ]
  },
  {
   "cell_type": "markdown",
   "id": "a85c45f4",
   "metadata": {},
   "source": [
    "但是这样会发现，这个约束太宽泛了，此时我们可以使用`bound`参数，指定类型的上限，只要传入的是上限类型的子类型就可以。"
   ]
  },
  {
   "cell_type": "code",
   "execution_count": 23,
   "id": "064e8e6e",
   "metadata": {},
   "outputs": [],
   "source": [
    "T = TypeVar('T', bound=float)"
   ]
  },
  {
   "cell_type": "markdown",
   "id": "249faeab",
   "metadata": {},
   "source": [
    "我们仔细思考下面这个例子，理解如果使用泛型以及`bound`参数："
   ]
  },
  {
   "cell_type": "code",
   "execution_count": 26,
   "id": "1b9b7e49",
   "metadata": {},
   "outputs": [],
   "source": [
    "from collections import Counter\n",
    "from collections.abc import Iterable, Hashable\n",
    "from typing import TypeVar\n",
    "\n",
    "\n",
    "def mode(data):\n",
    "    pairs = Counter(data).most_common(1)\n",
    "    if len(pairs) == 0:\n",
    "        raise ValueError('no mode for empty data')\n",
    "    return pairs[0][0]"
   ]
  },
  {
   "cell_type": "markdown",
   "id": "347923d7",
   "metadata": {},
   "source": [
    "首先，`data`必须要是一个可迭代序列，而且由于内部`Counter`将序列的值全部转换成字典的键，说明序列的值只要是`Hashable`即可，那么可能会这样写："
   ]
  },
  {
   "cell_type": "code",
   "execution_count": 25,
   "id": "d7d5ae05",
   "metadata": {},
   "outputs": [],
   "source": [
    "def mode(data: Iterable[Hashable]) -> Hashable:\n",
    "    ..."
   ]
  },
  {
   "cell_type": "markdown",
   "id": "37b50f88",
   "metadata": {},
   "source": [
    "这样写很明显会有一个问题就是，type checker只会检查返回对象是不是包含`__hash__`方法，不会做更多的事情了。如果这个返回值是数字或者字符串，我们后续要使用这个返回值，那么IDE不会提示任何关于字符串或者数字的方法。因此，最好的做法是像下面这样使用泛型："
   ]
  },
  {
   "cell_type": "code",
   "execution_count": 27,
   "id": "558f82a3",
   "metadata": {},
   "outputs": [],
   "source": [
    "from collections import Counter\n",
    "\n",
    "\n",
    "HashableT = TypeVar('HashableT', bound=Hashable)\n",
    "\n",
    "def mode(data: Iterable[HashableT]) -> HashableT:\n",
    "    pairs = Counter(data).most_common(1)\n",
    "    if len(pairs) == 0:\n",
    "        raise ValueError('no mode for empty data')\n",
    "    return pairs[0][0]"
   ]
  },
  {
   "cell_type": "markdown",
   "id": "e000f590",
   "metadata": {},
   "source": [
    "关于`TypeVar`非常重要的是，直觉上，`TypeVar`代表一种类型，比如：下面的代码，会给我们这样的感觉：\n",
    "```python\n",
    "def func(arg1: T, arg2: T) -> None:\n",
    "    pass\n",
    "\n",
    "func(\"a\", 24)  # 这里会提示应为str，但是收到为int\n",
    "```\n",
    "所以，可能会理所当然的认为，当它用于表示容器内部的元素类型时，意味着容器内部元素的类型要保持一致，比如：\n",
    "```python\n",
    "def func(arg1: list[T]) -> None:\n",
    "    pass\n",
    "\n",
    "func([\"a\", 42])  # 可能认为这里会报错\n",
    "```\n",
    "但是实际上，上面的代码没有报错。第三方工具会根据列表内部的元素去推断T的类型，有两种方式，一种是判断T是和所有元素类型都兼容的类型，mypy采用这种方式，所以它会推断T的类型为object，另一种类似`Union`，认为T是所有元素类型的并集，pycharm似乎是采用这种方式。这回导致以下的结果：\n",
    "```python\n",
    "def func(arg: list[T]) -> T:\n",
    "    return 42\n",
    "\n",
    "\n",
    "a = func([\"hello\", 42])\n",
    "b = a + 42\n",
    "```\n",
    "mypy会认为T为object,所以a也为object，a + 42会提示错误。而pycharm会认为T相当于`Union[str, int]`，所以不会报错。pycharm的这种方式更容易被理解。\n",
    "\n",
    "另外，对于上面的代码，mypy还会抛出一个错误，会认为返回的42是`int`和`T`不兼容。mypy会检查`return`返回的结果，只有返回`arg[0]`这样的形式才不会报错。甚至如下的代码：\n",
    "```python\n",
    "def func(arg: T) -> T:\n",
    "    return 42\n",
    "```\n",
    "mypy也报错，只有原样返回`arg`，mypy才不会报错。但是pycharm不会。\n",
    "\n",
    "但是pycharm也有缺陷，它似乎并不检查函数实际返回的值的类型，而是仅仅以声明的返回类型为准：\n",
    "```python\n",
    "def func(arg: T) -> T:\n",
    "    return 42\n",
    "\n",
    "\n",
    "a = func(\"hello\")\n",
    "```\n",
    "这样的情况，pycharm是不报错的，再输入`b = a + 42`，pycharm会提示错误，因为它仅根据声明判断返回的值`a`为字符串，会提示`a + 42`有错误。"
   ]
  },
  {
   "cell_type": "markdown",
   "id": "9db940f6",
   "metadata": {},
   "source": [
    "### AnyStr"
   ]
  },
  {
   "cell_type": "markdown",
   "id": "597c690e",
   "metadata": {},
   "source": [
    "AnyStr是一个语法糖，相当于："
   ]
  },
  {
   "cell_type": "code",
   "execution_count": 28,
   "id": "cbc0a332",
   "metadata": {},
   "outputs": [],
   "source": [
    "from typing import TypeVar\n",
    "\n",
    "AnyStr = TypeVar('AnyStr', str, bytes)"
   ]
  },
  {
   "cell_type": "markdown",
   "id": "21cc4442",
   "metadata": {},
   "source": [
    "### 静态协议"
   ]
  },
  {
   "cell_type": "markdown",
   "id": "ce8a2e96",
   "metadata": {},
   "source": [
    "我们先来考虑下面的一段代码，想一下我们应该如果给它添加类型声明："
   ]
  },
  {
   "cell_type": "code",
   "execution_count": 29,
   "id": "547c2430",
   "metadata": {},
   "outputs": [],
   "source": [
    "def top(series, length):\n",
    "    ordered = sorted(series, reverse=True)\n",
    "    return ordered[:length]"
   ]
  },
  {
   "cell_type": "markdown",
   "id": "eeff84eb",
   "metadata": {},
   "source": [
    "很明显，series是序列，length应该是个整型："
   ]
  },
  {
   "cell_type": "code",
   "execution_count": 31,
   "id": "fc347cab",
   "metadata": {},
   "outputs": [],
   "source": [
    "from collections.abc import Iterable\n",
    "\n",
    "\n",
    "def top(series: Iterable, length: int) -> list:\n",
    "    ordered = sorted(series, reverse=True)\n",
    "    return ordered[:length]"
   ]
  },
  {
   "cell_type": "markdown",
   "id": "b4bb3d7a",
   "metadata": {},
   "source": [
    "这样是可以的，但是太宽泛，series里可以是任意的值，这有两个缺点：\n",
    "1. 如果series里的值输入错误，type checker并不能发现错误。\n",
    "2. 如果我们后续要使用返回的值，由于可以是任意值，IDE不会给我们什么提示。\n",
    "\n",
    "可是如何对series里的元素进行注释呢？我们观察发现，函数主要是对series进行排序，我们可以传入一个`object`构成的序列："
   ]
  },
  {
   "cell_type": "code",
   "execution_count": 32,
   "id": "a48ebda5",
   "metadata": {},
   "outputs": [
    {
     "ename": "TypeError",
     "evalue": "'<' not supported between instances of 'type' and 'type'",
     "output_type": "error",
     "traceback": [
      "\u001b[1;31m---------------------------------------------------------------------------\u001b[0m",
      "\u001b[1;31mTypeError\u001b[0m                                 Traceback (most recent call last)",
      "\u001b[1;32m~\\AppData\\Local\\Temp/ipykernel_30248/1586175960.py\u001b[0m in \u001b[0;36m<module>\u001b[1;34m\u001b[0m\n\u001b[1;32m----> 1\u001b[1;33m \u001b[0msorted\u001b[0m\u001b[1;33m(\u001b[0m\u001b[1;33m[\u001b[0m\u001b[0mobject\u001b[0m \u001b[1;32mfor\u001b[0m \u001b[0m_\u001b[0m \u001b[1;32min\u001b[0m \u001b[0mrange\u001b[0m\u001b[1;33m(\u001b[0m\u001b[1;36m4\u001b[0m\u001b[1;33m)\u001b[0m\u001b[1;33m]\u001b[0m\u001b[1;33m)\u001b[0m\u001b[1;33m\u001b[0m\u001b[1;33m\u001b[0m\u001b[0m\n\u001b[0m",
      "\u001b[1;31mTypeError\u001b[0m: '<' not supported between instances of 'type' and 'type'"
     ]
    }
   ],
   "source": [
    "sorted([object for _ in range(4)])"
   ]
  },
  {
   "cell_type": "markdown",
   "id": "988a6862",
   "metadata": {},
   "source": [
    "错误提示很明确，序列里的对象需要支持`<`操作。现在我们可以编写一个静态协议："
   ]
  },
  {
   "cell_type": "code",
   "execution_count": 33,
   "id": "611c1eac",
   "metadata": {},
   "outputs": [],
   "source": [
    "from typing import Protocol, Any, TypeVar\n",
    "\n",
    "class SupportsLessThan(Protocol):\n",
    "    def __lt__(self, other: Any) -> bool: ..."
   ]
  },
  {
   "cell_type": "code",
   "execution_count": 34,
   "id": "32eddb2f",
   "metadata": {},
   "outputs": [],
   "source": [
    "LT = TypeVar('LT', bound=SupportsLessThan)\n",
    "\n",
    "def top(series: Iterable[LT], length: int) -> list[LT]:\n",
    "    ordered = sorted(series, reverse=True)\n",
    "    return ordered[:length]"
   ]
  },
  {
   "cell_type": "markdown",
   "id": "8b051d49",
   "metadata": {},
   "source": [
    "### Callable"
   ]
  },
  {
   "cell_type": "markdown",
   "id": "647be504",
   "metadata": {},
   "source": [
    "如果参数是函数或者可调用的类型，那么可以使用`typing`的`Callable`类型：\n",
    "```python\n",
    "Callable[[ParamType1, ParamType2], ReturnType]\n",
    "```\n",
    "`Callable`需要注意的一点是，如果参数是动态的，可以使用`...`来标注，即：\n",
    "```python\n",
    "Callable[..., ReturnType]\n",
    "```"
   ]
  },
  {
   "cell_type": "markdown",
   "id": "8ef238b8",
   "metadata": {},
   "source": [
    "### NoReturn"
   ]
  },
  {
   "cell_type": "markdown",
   "id": "25d3cb35",
   "metadata": {},
   "source": [
    "这是个特殊的类型，专门用来标注那些永远也不会返回值的函数。比如函数会抛出异常。"
   ]
  },
  {
   "cell_type": "markdown",
   "id": "e44f38b8",
   "metadata": {},
   "source": [
    "### 位置参数和可变参数"
   ]
  },
  {
   "cell_type": "markdown",
   "id": "b3669e13",
   "metadata": {},
   "source": [
    "3.8新增了仅位置参数，类似以前`*`后面的必为关键字参数一样，在`/`前面的参数，在函数调用时，只能根据位置传参。我们看一个函数的签名："
   ]
  },
  {
   "cell_type": "code",
   "execution_count": 38,
   "id": "041a833f",
   "metadata": {},
   "outputs": [],
   "source": [
    "from typing import Optional\n",
    "\n",
    "\n",
    "def tag(\n",
    "    name: str,\n",
    "    /,\n",
    "    *content: str,\n",
    "    class_: Optional[str] = None,\n",
    "    **attrs: str,\n",
    ") -> str:\n",
    "    pass"
   ]
  },
  {
   "cell_type": "markdown",
   "id": "4e247203",
   "metadata": {},
   "source": [
    "`*content: str`表示除`name`外的所有的其它位置参数都要是`str`类型。因此，在函数体内，`content`这个变量的类型声明为`tuple[str, ...]`。\n",
    "\n",
    "`**attrs: str`表示所有关键字参数的值是`str`类型，在函数体内，`attrs`变量的类型声明为`dict[str, str]`，如果是`**attrs: float`，那么，在函数体内，`attrs`变量的类型声明为`dict[str, float]`。如果`attrs`要接收不同类型的值，那么可以使用`Union`或者`Any`，`**attrs: Any`。"
   ]
  },
  {
   "cell_type": "markdown",
   "id": "c9e4651f",
   "metadata": {},
   "source": [
    "### 静态声明的缺陷"
   ]
  },
  {
   "cell_type": "markdown",
   "id": "c01bea83",
   "metadata": {},
   "source": [
    "静态声明可以帮助我们提前发现错误，可以帮助IDE给出代码提示，但是它仍然有缺陷，某些情况下它会出错。而且以下几种情况，静态声明表示无能为力：\n",
    "- 参数解包，比如当我们使用`config(**settings)`调用函数时，静态检查是无法生效的。\n",
    "- 一些高级的特性比如特性、描述符、元类，在元编程领域，静态检查能做的很有限。\n",
    "- 类型声明无法发现一些数据约束，比如整数大于0，或者一个字符串，长度在6到12个字符之间这样的约束。"
   ]
  },
  {
   "cell_type": "markdown",
   "id": "d12616b4",
   "metadata": {},
   "source": [
    "### 变量注释"
   ]
  },
  {
   "cell_type": "markdown",
   "id": "daf76ee3",
   "metadata": {},
   "source": [
    "#### 基本语法"
   ]
  },
  {
   "cell_type": "markdown",
   "id": "62472f65",
   "metadata": {},
   "source": [
    "除了函数的参数和返回值，某些情况下我们需要直接对变量进行类型声明，如下，两种写法都是可以的："
   ]
  },
  {
   "cell_type": "code",
   "execution_count": 62,
   "id": "3ba96631",
   "metadata": {},
   "outputs": [],
   "source": [
    "# 第一种写法\n",
    "my_var: int\n",
    "my_var = 5"
   ]
  },
  {
   "cell_type": "code",
   "execution_count": 63,
   "id": "118a5d05",
   "metadata": {},
   "outputs": [],
   "source": [
    "# 第二种写法\n",
    "other_var: int = 5"
   ]
  },
  {
   "cell_type": "markdown",
   "id": "6e0c8249",
   "metadata": {},
   "source": [
    "虽然两种写法效果都可以，但是如果有分支的情况下，第一种写法更好："
   ]
  },
  {
   "cell_type": "code",
   "execution_count": 64,
   "id": "73792204",
   "metadata": {},
   "outputs": [],
   "source": [
    "my_var: bool\n",
    "\n",
    "if 2 + 2 == 4:\n",
    "    my_var = True\n",
    "else:\n",
    "    my_var = False"
   ]
  },
  {
   "cell_type": "markdown",
   "id": "b5405074",
   "metadata": {},
   "source": [
    "注意，当元组打包的时候，语法允许变量提示，但是解包时，是不允许的："
   ]
  },
  {
   "cell_type": "code",
   "execution_count": 65,
   "id": "bfdd975a",
   "metadata": {},
   "outputs": [],
   "source": [
    "from typing import Tuple\n",
    "\n",
    "t: Tuple[int, ...] = (1, 2, 3)  # 省略号表示其它所有元素都是int类型\n",
    "t: Tuple[int, ...] = 1, 2, 3  # 3.8版本以后也可以这样写"
   ]
  },
  {
   "cell_type": "markdown",
   "id": "b3c08908",
   "metadata": {},
   "source": [
    "但是解包是不能直接写类型提示的："
   ]
  },
  {
   "cell_type": "code",
   "execution_count": 66,
   "id": "c8caa707",
   "metadata": {},
   "outputs": [
    {
     "ename": "SyntaxError",
     "evalue": "invalid syntax (Temp/ipykernel_17180/434319214.py, line 1)",
     "output_type": "error",
     "traceback": [
      "\u001b[1;36m  File \u001b[1;32m\"C:\\Users\\admin\\AppData\\Local\\Temp/ipykernel_17180/434319214.py\"\u001b[1;36m, line \u001b[1;32m1\u001b[0m\n\u001b[1;33m    a:int, b:int, c:int = (1, 2, 3)  # 不能这样写，提示语法错误\u001b[0m\n\u001b[1;37m         ^\u001b[0m\n\u001b[1;31mSyntaxError\u001b[0m\u001b[1;31m:\u001b[0m invalid syntax\n"
     ]
    }
   ],
   "source": [
    "a:int, b:int, c:int = (1, 2, 3)  # 不能这样写，提示语法错误"
   ]
  },
  {
   "cell_type": "markdown",
   "id": "ece2c9d9",
   "metadata": {},
   "source": [
    "只能够每个变量先注释："
   ]
  },
  {
   "cell_type": "code",
   "execution_count": 70,
   "id": "287ff78a",
   "metadata": {},
   "outputs": [],
   "source": [
    "from typing import Optional\n",
    "\n",
    "header: str\n",
    "kind: int\n",
    "body: Optional[list[str]]  # 表示body为str构成的列表或者为None\n",
    "header, kind, body = [\"header\", 42, None]"
   ]
  },
  {
   "cell_type": "markdown",
   "id": "7244f266",
   "metadata": {},
   "source": [
    "#### 全局和局部的变量注释"
   ]
  },
  {
   "cell_type": "markdown",
   "id": "4069e29a",
   "metadata": {},
   "source": [
    "注意，当全局变量注释时，会产生一个未绑定的变量：\n",
    "```python\n",
    "a: int\n",
    "print(a)  # 抛出NameError，变量未定义\n",
    "```\n",
    "如果是在函数内被定义，那么会产生一个局部的未绑定的变量：\n",
    "```python\n",
    "a = 42\n",
    "\n",
    "def func():\n",
    "    a: int\n",
    "    print(a) \n",
    "\n",
    "func()  # UnboundLocalError: local variable 'a' referenced before assignment\n",
    "```"
   ]
  },
  {
   "cell_type": "markdown",
   "id": "b2a157b1",
   "metadata": {},
   "source": [
    "#### 类和实例的变量注释"
   ]
  },
  {
   "cell_type": "markdown",
   "id": "d3388480",
   "metadata": {},
   "source": [
    "类型注释还可以用于注释类主体和方法中的类和实例变量。特别是，无值表示法`a: int`允许对应该在`__init__`或`__new__`中初始化的实例变量进行注释。建议的语法如下所示:\n",
    "```python\n",
    "class BasicStarship:\n",
    "    captain: str = 'Picard'               # instance variable with default\n",
    "    damage: int                       # instance variable without default\n",
    "    stats: ClassVar[Dict[str, int]] = {}      # class variable\n",
    "```\n",
    "虽然`caption`是类属性，但是其目的是所有实例变量设置一个默认值，所以在`__init__`中还需要定义一个`captain`的实例变量。但是，如果像下面这样写：\n",
    "```python\n",
    "class BasicStarship:\n",
    "    captain: str = 42  # captain只会检查实例属性是否是str，不会检查类属性\n",
    "```\n",
    "此时是不会提示错误的，说实话，这挺容易让人产生误解的。而真正的类变量不应该被实例变量覆盖，因此需要使用`ClassVar`注释，此时如果意外设置了实例的`stats`属性，编辑器会提示错误。\n",
    "\n",
    "也可以直接对实例变量进行注释：\n",
    "```python\n",
    "class BasicStarship:\n",
    "    def __init__(self, captain):\n",
    "        self.captain: str = captain\n",
    "```\n",
    "注意一点，ClassVar不能包含任何类型变量"
   ]
  },
  {
   "cell_type": "markdown",
   "id": "fcf3d7f5",
   "metadata": {},
   "source": [
    "### 类型注释进阶"
   ]
  },
  {
   "cell_type": "markdown",
   "id": "4a497364",
   "metadata": {},
   "source": [
    "类型注释的内容很多，因此分为两个部分，这部分的内容属于进阶内容。"
   ]
  },
  {
   "cell_type": "markdown",
   "id": "73f2c2b2",
   "metadata": {},
   "source": [
    "#### 签名重载"
   ]
  },
  {
   "cell_type": "markdown",
   "id": "84b418ee",
   "metadata": {},
   "source": [
    "2023/10/11更新：该章节解释不清楚，参考下面的文章：\n",
    "- [Python Type Hints - How to Use @overload](https://adamj.eu/tech/2021/05/29/python-type-hints-how-to-use-overload/)\n",
    "- [function overloading](https://mypy.readthedocs.io/en/stable/more_types.html#function-overloading)"
   ]
  },
  {
   "cell_type": "markdown",
   "id": "e96fc096",
   "metadata": {},
   "source": [
    "有时候，我们会根据参数的类型返回不同的记过，此时可以使用`overload`装饰器对函数签名进行重载。比如内置的`sum`函数："
   ]
  },
  {
   "cell_type": "code",
   "execution_count": 42,
   "id": "bbaa0fca",
   "metadata": {},
   "outputs": [],
   "source": [
    "from typing import overload\n",
    "\n",
    "@overload\n",
    "def sum(__iterable: Iterable[_T]) -> Union[_T, int]: ...\n",
    "@overload\n",
    "def sum(__iterable: Iterable[_T], start: _S) -> Union[_T, _S]: ..."
   ]
  },
  {
   "cell_type": "markdown",
   "id": "138c5896",
   "metadata": {},
   "source": [
    "先看第一种，`start`采用默认值为0的情况，则返回值为参数类型或者为整型（当`__iterable`为空列表时），如果输入了`start`参数，则为第二种情况。\n",
    "\n",
    "你可能会疑惑为什么不直接这样写："
   ]
  },
  {
   "cell_type": "code",
   "execution_count": 44,
   "id": "92b04cc1",
   "metadata": {},
   "outputs": [],
   "source": [
    "def get_sum(it: Iterable[T], /, start: int = 0) -> Union[T, int]: ..."
   ]
  },
  {
   "cell_type": "markdown",
   "id": "c20696e4",
   "metadata": {},
   "source": [
    "这样写的话，当给start赋值浮点数的时候，比如`get_sum([1, 2, 3], 2.3)`，mypy会报错，提示`Argument 2 to \"get_sum\" has incompatible type \"float\"; expected \"int\"`。而如果这样写："
   ]
  },
  {
   "cell_type": "code",
   "execution_count": 45,
   "id": "95a3d9e4",
   "metadata": {},
   "outputs": [],
   "source": [
    "def get_sum(it: Iterable[T], /, start: S = 0) -> Union[T, S]: ..."
   ]
  },
  {
   "cell_type": "markdown",
   "id": "211d13c1",
   "metadata": {},
   "source": [
    "pycharm倒是不报错了，但是mypy会提示错误：`Incompatible default for argument \"start\" (default has type \"int\", argument has type \"S\")`。\n",
    "\n",
    "如果参数有默认值，且调用时的值和默认值类型不一致的话，可能就需要使用使用`overload`定义函数。\n",
    "\n",
    "所以，代码越灵活，注释声明就越难写。没有必要追求完美注释，python本来就是动态语言，所以要有取舍。"
   ]
  },
  {
   "cell_type": "markdown",
   "id": "df09d6bf",
   "metadata": {},
   "source": [
    "#### TypedDict"
   ]
  },
  {
   "cell_type": "markdown",
   "id": "d0631d74",
   "metadata": {},
   "source": [
    "前面我们提到过，对普通的字典进行类型声明，存在缺陷。所以python3.8以后，typing模块提供了一个`TypedDict`的类型："
   ]
  },
  {
   "cell_type": "code",
   "execution_count": 60,
   "id": "d86ad371",
   "metadata": {},
   "outputs": [],
   "source": [
    "from typing import TypedDict\n",
    "\n",
    "class Book(TypedDict):\n",
    "    name: str\n",
    "    auther: list[str]"
   ]
  },
  {
   "cell_type": "markdown",
   "id": "65a65313",
   "metadata": {},
   "source": [
    "但是，`TypedDict`的作用没有想象的那么大，它不能进行运行时的验证，仅仅只是为键值提供了对应的类型声明。特别是在对json,xml的转换中，流畅的python第二版15章详细讨论了`TypedDict`的缺点，这种场景下，最好使用`pydantic`库。"
   ]
  },
  {
   "cell_type": "markdown",
   "id": "80ef3d20",
   "metadata": {},
   "source": [
    "#### Type Cast"
   ]
  },
  {
   "cell_type": "markdown",
   "id": "9d98251f",
   "metadata": {},
   "source": [
    "类型系统不是完美的，很多时候都只能根据代码进行推断，有些情况下会推断错误，这种情况下，可以使用`cast`函数人为指定类型，类型系统会相信你，从而不会报错。"
   ]
  },
  {
   "cell_type": "code",
   "execution_count": 61,
   "id": "4cf87ef7",
   "metadata": {},
   "outputs": [],
   "source": [
    "def find_first_str(a: list[object]) -> str:\n",
    "    index = next(i for i, x in enumerate(a) if isinstance(x, str))\n",
    "    return cast(str, a[index])"
   ]
  },
  {
   "cell_type": "markdown",
   "id": "fbfe5f22",
   "metadata": {},
   "source": [
    "这里，类型系统会认为`a[index]`是`object`类型，和返回的`str`不一致，会提示错误，因此需要手动的指定为`str`类型。\n",
    "\n",
    "如果要屏蔽类型检查系统，还有几种方法：\n",
    "1. 在注释中标明：`# type: ignore`\n",
    "2. 使用`Any`类型\n",
    "\n",
    "但是两种方法都有缺点，第一种方法不够明确，而第二个如果滥用的话可能会造成连锁效应，降低类型检测的作用。这三种方法各有应用场景，应根据实际情况进行选择。"
   ]
  },
  {
   "cell_type": "markdown",
   "id": "a2f8e810",
   "metadata": {},
   "source": [
    "#### 实现一个泛型类"
   ]
  },
  {
   "cell_type": "markdown",
   "id": "2caffb26",
   "metadata": {},
   "source": [
    "这部分的内容目前比较少用到，后期再补充"
   ]
  },
  {
   "cell_type": "markdown",
   "id": "6665c54e",
   "metadata": {},
   "source": [
    "#### 不变、逆变和协变"
   ]
  },
  {
   "cell_type": "markdown",
   "id": "00db7951",
   "metadata": {},
   "source": [
    "这部分的内容目前比较少用到，后期再补充"
   ]
  },
  {
   "cell_type": "markdown",
   "id": "e93fd167",
   "metadata": {},
   "source": [
    "## 模式匹配"
   ]
  },
  {
   "cell_type": "markdown",
   "id": "b1067c16",
   "metadata": {},
   "source": [
    "### 匹配序列"
   ]
  },
  {
   "cell_type": "code",
   "execution_count": null,
   "id": "324b1765",
   "metadata": {},
   "outputs": [],
   "source": []
  },
  {
   "cell_type": "markdown",
   "id": "18058042",
   "metadata": {},
   "source": [
    "### 匹配字典"
   ]
  },
  {
   "cell_type": "code",
   "execution_count": null,
   "id": "23874ab9",
   "metadata": {},
   "outputs": [],
   "source": []
  },
  {
   "cell_type": "markdown",
   "id": "cb98ac64",
   "metadata": {},
   "source": [
    "### 匹配实例"
   ]
  },
  {
   "cell_type": "code",
   "execution_count": null,
   "id": "5d58a220",
   "metadata": {},
   "outputs": [],
   "source": []
  }
 ],
 "metadata": {
  "kernelspec": {
   "display_name": "Python 3 (ipykernel)",
   "language": "python",
   "name": "python3"
  },
  "language_info": {
   "codemirror_mode": {
    "name": "ipython",
    "version": 3
   },
   "file_extension": ".py",
   "mimetype": "text/x-python",
   "name": "python",
   "nbconvert_exporter": "python",
   "pygments_lexer": "ipython3",
   "version": "3.9.7"
  },
  "toc": {
   "base_numbering": 1,
   "nav_menu": {
    "height": "218px",
    "width": "160px"
   },
   "number_sections": true,
   "sideBar": true,
   "skip_h1_title": true,
   "title_cell": "Table of Contents",
   "title_sidebar": "枚举,类型注释,dataclass数据类和模式匹配",
   "toc_cell": false,
   "toc_position": {},
   "toc_section_display": true,
   "toc_window_display": true
  }
 },
 "nbformat": 4,
 "nbformat_minor": 5
}
