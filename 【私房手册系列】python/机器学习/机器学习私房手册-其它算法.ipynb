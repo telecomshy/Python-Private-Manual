{
 "cells": [
  {
   "cell_type": "markdown",
   "metadata": {},
   "source": [
    "# ML私房手册-其它算法"
   ]
  },
  {
   "cell_type": "markdown",
   "metadata": {},
   "source": [
    "## Apriori算法"
   ]
  },
  {
   "cell_type": "markdown",
   "metadata": {},
   "source": [
    "知乎上面这两篇文章讲的比较清楚：\n",
    "- [关联分析](https://zhuanlan.zhihu.com/p/36669198)\n",
    "- [关联规则挖掘(原理篇)](https://zhuanlan.zhihu.com/p/66944900)\n",
    "\n",
    "由Aprior算法衍生的FP算法，可以参考这篇文章：\n",
    "- [FP Tree算法原理总结](https://www.cnblogs.com/zhengxingpeng/p/6679280.html)"
   ]
  },
  {
   "cell_type": "markdown",
   "metadata": {},
   "source": [
    "## 狄克斯特拉算法"
   ]
  },
  {
   "cell_type": "code",
   "execution_count": 396,
   "metadata": {},
   "outputs": [],
   "source": [
    "from collections import MutableMapping\n",
    "\n",
    "\n",
    "class DijkstraAlgorithm:\n",
    "    def __init__(self, graph, start_node=\"start\"):\n",
    "        self.graph = graph\n",
    "        self.processed = set()\n",
    "        self.costs = {}\n",
    "        self.parents = {}\n",
    "        self.start_node = start_node\n",
    "\n",
    "    def _init_costs_and_parents(self, graph):\n",
    "        for key, val in graph.items():\n",
    "            if key == self.start_node:\n",
    "                self.costs[key] = 0\n",
    "            else:\n",
    "                self.costs[key] = float(\"inf\")\n",
    "                self.parents[key] = None\n",
    "            if isinstance(val, MutableMapping):\n",
    "                self._init_costs_and_parents(val)\n",
    "\n",
    "    def _find_lowest_cost_node(self):\n",
    "        lowest_cost_node = None\n",
    "        lowest_cost = float('inf')\n",
    "        for node in self.costs.keys():\n",
    "            cost = self.costs[node]\n",
    "            if cost < lowest_cost and node not in self.processed:\n",
    "                lowest_cost, lowest_cost_node = cost, node\n",
    "        return lowest_cost_node\n",
    "\n",
    "    def execute(self):\n",
    "        self._init_costs_and_parents(self.graph)\n",
    "        node = self._find_lowest_cost_node()\n",
    "        while node:\n",
    "            cost = self.costs[node]\n",
    "            if node in self.graph:\n",
    "                neighbors = self.graph[node]\n",
    "            else:\n",
    "                break\n",
    "            for n in neighbors:\n",
    "                new_cost = cost + neighbors[n]\n",
    "                if new_cost < self.costs[n]:\n",
    "                    self.costs[n] = new_cost\n",
    "                    self.parents[n] = node\n",
    "            self.processed.add(node)\n",
    "            node = self._find_lowest_cost_node()\n",
    "\n",
    "    def output_path(self):\n",
    "        self.execute()\n",
    "        d = {val: key for key, val in self.parents.items()}\n",
    "        path = [self.start_node]\n",
    "        node = self.start_node\n",
    "        while d:\n",
    "            node = d.pop(node)\n",
    "            path.append(node)\n",
    "        print(\"---->\".join(path))"
   ]
  },
  {
   "cell_type": "code",
   "execution_count": null,
   "metadata": {},
   "outputs": [],
   "source": []
  }
 ],
 "metadata": {
  "kernelspec": {
   "display_name": "Python 3",
   "language": "python",
   "name": "python3"
  },
  "language_info": {
   "codemirror_mode": {
    "name": "ipython",
    "version": 3
   },
   "file_extension": ".py",
   "mimetype": "text/x-python",
   "name": "python",
   "nbconvert_exporter": "python",
   "pygments_lexer": "ipython3",
   "version": "3.7.6"
  },
  "toc": {
   "base_numbering": 1,
   "nav_menu": {},
   "number_sections": true,
   "sideBar": true,
   "skip_h1_title": true,
   "title_cell": "Table of Contents",
   "title_sidebar": "ML私房手册-模型算法",
   "toc_cell": false,
   "toc_position": {},
   "toc_section_display": true,
   "toc_window_display": true
  }
 },
 "nbformat": 4,
 "nbformat_minor": 2
}
