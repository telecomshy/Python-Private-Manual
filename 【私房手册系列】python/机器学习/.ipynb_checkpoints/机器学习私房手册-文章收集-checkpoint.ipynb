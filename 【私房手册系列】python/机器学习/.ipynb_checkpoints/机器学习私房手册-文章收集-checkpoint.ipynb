{
 "cells": [
  {
   "cell_type": "markdown",
   "id": "abdc59b3",
   "metadata": {},
   "source": [
    "# ML私房手册-文章收集"
   ]
  },
  {
   "cell_type": "markdown",
   "id": "d4b2bec3",
   "metadata": {},
   "source": [
    "## 基础原理"
   ]
  },
  {
   "cell_type": "markdown",
   "id": "f9af5a2a",
   "metadata": {},
   "source": [
    "### 知识点"
   ]
  },
  {
   "cell_type": "markdown",
   "id": "86bc1745",
   "metadata": {},
   "source": [
    "#### 机器学习中距离的不同类型"
   ]
  },
  {
   "cell_type": "markdown",
   "id": "d9cdf17e",
   "metadata": {},
   "source": [
    "- [Different Types of Distance Metrics used in Machine Learning](https://medium.com/@kunal_gohrani/different-types-of-distance-metrics-used-in-machine-learning-e9928c5e26c7#:~:text=Manhattan%20distance%20is%20usually%20preferred,similarity%20between%20two%20data%20points.)"
   ]
  },
  {
   "cell_type": "markdown",
   "id": "cc1d8293",
   "metadata": {},
   "source": [
    "## keras的使用"
   ]
  },
  {
   "cell_type": "markdown",
   "id": "c6a941fd",
   "metadata": {},
   "source": [
    "### 知识点"
   ]
  },
  {
   "cell_type": "markdown",
   "id": "96a174a4",
   "metadata": {},
   "source": [
    "#### 神经网络训练时batch_size参数的作用"
   ]
  },
  {
   "cell_type": "markdown",
   "id": "96c00a5c",
   "metadata": {},
   "source": [
    "- [What is batch size in neural network?](https://stats.stackexchange.com/questions/153531/what-is-batch-size-in-neural-network)"
   ]
  },
  {
   "cell_type": "markdown",
   "id": "f1d00bee",
   "metadata": {},
   "source": [
    "#### LSTM层dropout和recurrent_dropout参数的区别"
   ]
  },
  {
   "cell_type": "markdown",
   "id": "d9be2d28",
   "metadata": {},
   "source": [
    "- [LSTM层dropout和recurrent_dropout参数的区别](https://stackoverflow.com/questions/44924690/keras-the-difference-between-lstm-dropout-and-lstm-recurrent-dropout)"
   ]
  },
  {
   "cell_type": "markdown",
   "id": "34856335",
   "metadata": {},
   "source": [
    "#### 如何保存keras模型"
   ]
  },
  {
   "cell_type": "markdown",
   "id": "86095232",
   "metadata": {},
   "source": [
    "- [How to Save and Load Your Keras Deep Learning Model](https://machinelearningmastery.com/save-load-keras-deep-learning-models/)"
   ]
  },
  {
   "cell_type": "markdown",
   "id": "4e3d5fbe",
   "metadata": {},
   "source": [
    "### 案例和教程"
   ]
  },
  {
   "cell_type": "markdown",
   "id": "f10177d9",
   "metadata": {},
   "source": [
    "- [Sequence Classification with LSTM Recurrent Neural Networks in Python with Keras](https://machinelearningmastery.com/sequence-classification-lstm-recurrent-neural-networks-python-keras/)\n",
    "- [Multi-Class Text Classification with LSTM](https://towardsdatascience.com/multi-class-text-classification-with-lstm-1590bee1bd17)"
   ]
  },
  {
   "cell_type": "markdown",
   "id": "9f9123cd",
   "metadata": {},
   "source": [
    "## sklearn的使用"
   ]
  },
  {
   "cell_type": "markdown",
   "id": "5a54762b",
   "metadata": {},
   "source": [
    "### 知识点"
   ]
  },
  {
   "cell_type": "markdown",
   "id": "a033be96",
   "metadata": {},
   "source": [
    "#### OneHotEncoder使用方法"
   ]
  },
  {
   "cell_type": "markdown",
   "id": "48d1b0fe",
   "metadata": {},
   "source": [
    "- [scikit-learn 中 OneHotEncoder 解析](https://www.cnblogs.com/zhoukui/p/9159909.html)"
   ]
  },
  {
   "cell_type": "markdown",
   "id": "e67478a8",
   "metadata": {},
   "source": [
    "#### StratifieldFold和StratifieldShuffleSplit的区别"
   ]
  },
  {
   "cell_type": "markdown",
   "id": "30fccac1",
   "metadata": {},
   "source": [
    "- [difference between StratifiedKFold and StratifiedShuffleSplit in sklearn](https://stackoverflow.com/questions/45969390/difference-between-stratifiedkfold-and-stratifiedshufflesplit-in-sklearn)"
   ]
  },
  {
   "cell_type": "markdown",
   "id": "a675cfa6",
   "metadata": {},
   "source": [
    "#### sklearn交叉验证介绍"
   ]
  },
  {
   "cell_type": "markdown",
   "id": "f6a7e802",
   "metadata": {},
   "source": [
    "- [关于交叉验证的一点事儿](https://zhuanlan.zhihu.com/p/98209649)\n",
    "\n",
    "这里稍微总结一下，如果`repeat`开头的验证方式，则重复运行某种验证n次，重复的时候才会`shuffle`，所以都属于无放回的采样，每次的`test`数据集不会有重叠。而如果带`shuffle`的验证方式，则属于有放回的采样，每次迭代都会`shuffle`，因此每次的`test`数据集会有重叠。"
   ]
  },
  {
   "cell_type": "markdown",
   "id": "0cb6a009",
   "metadata": {},
   "source": [
    "#### 重复K折交叉验证"
   ]
  },
  {
   "cell_type": "markdown",
   "id": "a53b7749",
   "metadata": {},
   "source": [
    "- [Repeated k-Fold Cross-Validation for Model Evaluation in Python](https://machinelearningmastery.com/repeated-k-fold-cross-validation-with-python/)"
   ]
  },
  {
   "cell_type": "markdown",
   "id": "0c4fa7ec",
   "metadata": {},
   "source": [
    "#### cross_val_score的 scoring参数值解析"
   ]
  },
  {
   "cell_type": "markdown",
   "id": "af606ade",
   "metadata": {},
   "source": [
    "- [cross_val_score的 scoring参数值解析](https://blog.csdn.net/qq_32590631/article/details/82831613)"
   ]
  },
  {
   "cell_type": "markdown",
   "id": "9362df05",
   "metadata": {},
   "source": [
    "### 案例和教程"
   ]
  },
  {
   "cell_type": "markdown",
   "id": "dc70bb0c",
   "metadata": {},
   "source": [
    "#### sklearn逻辑回归solver优化器详解"
   ]
  },
  {
   "cell_type": "markdown",
   "id": "fcc422ea",
   "metadata": {},
   "source": [
    "- [Don’t Sweat the Solver Stuff](https://towardsdatascience.com/dont-sweat-the-solver-stuff-aea7cddc3451)"
   ]
  },
  {
   "cell_type": "markdown",
   "id": "85eac64b",
   "metadata": {},
   "source": [
    "## 自然语言处理"
   ]
  },
  {
   "cell_type": "markdown",
   "id": "3be2c583",
   "metadata": {},
   "source": [
    "### 知识点"
   ]
  },
  {
   "cell_type": "markdown",
   "id": "afe92d9a",
   "metadata": {},
   "source": [
    "#### 中文文本的分词、去标点符号、去停用词、词性标注"
   ]
  },
  {
   "cell_type": "markdown",
   "id": "e5cb122e",
   "metadata": {},
   "source": [
    "- [『NLP自然语言处理』中文文本的分词、去标点符号、去停用词、词性标注](https://blog.csdn.net/qq_42491242/article/details/105006651)"
   ]
  },
  {
   "cell_type": "markdown",
   "id": "3841f004",
   "metadata": {},
   "source": [
    "### 案例和教程"
   ]
  },
  {
   "cell_type": "markdown",
   "id": "3194c49f",
   "metadata": {},
   "source": [
    "#### 用keras优雅的使用bert"
   ]
  },
  {
   "cell_type": "markdown",
   "id": "45d6df6a",
   "metadata": {},
   "source": [
    "- [用keras优雅的使用bert](https://blog.csdn.net/qq_32796253/article/details/98844242?utm_medium=distribute.pc_relevant.none-task-blog-2%7Edefault%7EBlogCommendFromMachineLearnPai2%7Edefault-1.control&depth_1-utm_source=distribute.pc_relevant.none-task-blog-2%7Edefault%7EBlogCommendFromMachineLearnPai2%7Edefault-1.control)"
   ]
  },
  {
   "cell_type": "markdown",
   "id": "45bda04d",
   "metadata": {},
   "source": [
    "#### 结巴分词详细讲解"
   ]
  },
  {
   "cell_type": "markdown",
   "id": "fcd945b3",
   "metadata": {},
   "source": [
    "- [结巴分词详细讲解](https://www.cnblogs.com/palace/p/9599443.html)"
   ]
  },
  {
   "cell_type": "code",
   "execution_count": null,
   "id": "e2cf0019",
   "metadata": {},
   "outputs": [],
   "source": []
  }
 ],
 "metadata": {
  "kernelspec": {
   "display_name": "Python 3",
   "language": "python",
   "name": "python3"
  },
  "language_info": {
   "codemirror_mode": {
    "name": "ipython",
    "version": 3
   },
   "file_extension": ".py",
   "mimetype": "text/x-python",
   "name": "python",
   "nbconvert_exporter": "python",
   "pygments_lexer": "ipython3",
   "version": "3.7.6"
  },
  "toc": {
   "base_numbering": 1,
   "nav_menu": {},
   "number_sections": true,
   "sideBar": true,
   "skip_h1_title": true,
   "title_cell": "Table of Contents",
   "title_sidebar": "ML私房手册-文章收集",
   "toc_cell": false,
   "toc_position": {
    "height": "calc(100% - 180px)",
    "left": "10px",
    "top": "150px",
    "width": "307.2px"
   },
   "toc_section_display": true,
   "toc_window_display": true
  }
 },
 "nbformat": 4,
 "nbformat_minor": 5
}
