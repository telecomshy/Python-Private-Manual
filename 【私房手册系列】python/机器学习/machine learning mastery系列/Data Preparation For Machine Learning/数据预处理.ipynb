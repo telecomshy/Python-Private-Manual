{
 "cells": [
  {
   "cell_type": "markdown",
   "id": "816a3170",
   "metadata": {},
   "source": [
    "# 数据预处理"
   ]
  },
  {
   "cell_type": "markdown",
   "id": "d5c80315",
   "metadata": {},
   "source": [
    "## 数据清理"
   ]
  },
  {
   "cell_type": "markdown",
   "id": "2f2c1cbe",
   "metadata": {},
   "source": [
    "### 基础清理"
   ]
  },
  {
   "cell_type": "markdown",
   "id": "35908705",
   "metadata": {},
   "source": [
    "#### 包含单个值的列"
   ]
  },
  {
   "cell_type": "markdown",
   "id": "151ecf38",
   "metadata": {},
   "source": [
    "如果一列数据中的值全部一样，也就是说，特征列只包含单个值，则这一列特征的方差为零，对建模毫无用处。"
   ]
  },
  {
   "cell_type": "code",
   "execution_count": 42,
   "id": "8ccd831e",
   "metadata": {},
   "outputs": [],
   "source": [
    "import pandas as pd\n",
    "from pandas import DataFrame, Series\n",
    "\n",
    "df = pd.read_csv('oil-spill.csv', header=None)"
   ]
  },
  {
   "cell_type": "code",
   "execution_count": 43,
   "id": "a43dee67",
   "metadata": {},
   "outputs": [
    {
     "data": {
      "text/html": [
       "<div>\n",
       "<style scoped>\n",
       "    .dataframe tbody tr th:only-of-type {\n",
       "        vertical-align: middle;\n",
       "    }\n",
       "\n",
       "    .dataframe tbody tr th {\n",
       "        vertical-align: top;\n",
       "    }\n",
       "\n",
       "    .dataframe thead th {\n",
       "        text-align: right;\n",
       "    }\n",
       "</style>\n",
       "<table border=\"1\" class=\"dataframe\">\n",
       "  <thead>\n",
       "    <tr style=\"text-align: right;\">\n",
       "      <th></th>\n",
       "      <th>0</th>\n",
       "      <th>1</th>\n",
       "      <th>2</th>\n",
       "      <th>3</th>\n",
       "      <th>4</th>\n",
       "      <th>5</th>\n",
       "      <th>6</th>\n",
       "      <th>7</th>\n",
       "      <th>8</th>\n",
       "      <th>9</th>\n",
       "      <th>...</th>\n",
       "      <th>40</th>\n",
       "      <th>41</th>\n",
       "      <th>42</th>\n",
       "      <th>43</th>\n",
       "      <th>44</th>\n",
       "      <th>45</th>\n",
       "      <th>46</th>\n",
       "      <th>47</th>\n",
       "      <th>48</th>\n",
       "      <th>49</th>\n",
       "    </tr>\n",
       "  </thead>\n",
       "  <tbody>\n",
       "    <tr>\n",
       "      <th>0</th>\n",
       "      <td>1</td>\n",
       "      <td>2558</td>\n",
       "      <td>1506.09</td>\n",
       "      <td>456.63</td>\n",
       "      <td>90</td>\n",
       "      <td>6395000.0</td>\n",
       "      <td>40.88</td>\n",
       "      <td>7.89</td>\n",
       "      <td>29780.0</td>\n",
       "      <td>0.19</td>\n",
       "      <td>...</td>\n",
       "      <td>2850.00</td>\n",
       "      <td>1000.00</td>\n",
       "      <td>763.16</td>\n",
       "      <td>135.46</td>\n",
       "      <td>3.73</td>\n",
       "      <td>0</td>\n",
       "      <td>33243.19</td>\n",
       "      <td>65.74</td>\n",
       "      <td>7.95</td>\n",
       "      <td>1</td>\n",
       "    </tr>\n",
       "    <tr>\n",
       "      <th>1</th>\n",
       "      <td>2</td>\n",
       "      <td>22325</td>\n",
       "      <td>79.11</td>\n",
       "      <td>841.03</td>\n",
       "      <td>180</td>\n",
       "      <td>55812500.0</td>\n",
       "      <td>51.11</td>\n",
       "      <td>1.21</td>\n",
       "      <td>61900.0</td>\n",
       "      <td>0.02</td>\n",
       "      <td>...</td>\n",
       "      <td>5750.00</td>\n",
       "      <td>11500.00</td>\n",
       "      <td>9593.48</td>\n",
       "      <td>1648.80</td>\n",
       "      <td>0.60</td>\n",
       "      <td>0</td>\n",
       "      <td>51572.04</td>\n",
       "      <td>65.73</td>\n",
       "      <td>6.26</td>\n",
       "      <td>0</td>\n",
       "    </tr>\n",
       "    <tr>\n",
       "      <th>2</th>\n",
       "      <td>3</td>\n",
       "      <td>115</td>\n",
       "      <td>1449.85</td>\n",
       "      <td>608.43</td>\n",
       "      <td>88</td>\n",
       "      <td>287500.0</td>\n",
       "      <td>40.42</td>\n",
       "      <td>7.34</td>\n",
       "      <td>3340.0</td>\n",
       "      <td>0.18</td>\n",
       "      <td>...</td>\n",
       "      <td>1400.00</td>\n",
       "      <td>250.00</td>\n",
       "      <td>150.00</td>\n",
       "      <td>45.13</td>\n",
       "      <td>9.33</td>\n",
       "      <td>1</td>\n",
       "      <td>31692.84</td>\n",
       "      <td>65.81</td>\n",
       "      <td>7.84</td>\n",
       "      <td>1</td>\n",
       "    </tr>\n",
       "    <tr>\n",
       "      <th>3</th>\n",
       "      <td>4</td>\n",
       "      <td>1201</td>\n",
       "      <td>1562.53</td>\n",
       "      <td>295.65</td>\n",
       "      <td>66</td>\n",
       "      <td>3002500.0</td>\n",
       "      <td>42.40</td>\n",
       "      <td>7.97</td>\n",
       "      <td>18030.0</td>\n",
       "      <td>0.19</td>\n",
       "      <td>...</td>\n",
       "      <td>6041.52</td>\n",
       "      <td>761.58</td>\n",
       "      <td>453.21</td>\n",
       "      <td>144.97</td>\n",
       "      <td>13.33</td>\n",
       "      <td>1</td>\n",
       "      <td>37696.21</td>\n",
       "      <td>65.67</td>\n",
       "      <td>8.07</td>\n",
       "      <td>1</td>\n",
       "    </tr>\n",
       "    <tr>\n",
       "      <th>4</th>\n",
       "      <td>5</td>\n",
       "      <td>312</td>\n",
       "      <td>950.27</td>\n",
       "      <td>440.86</td>\n",
       "      <td>37</td>\n",
       "      <td>780000.0</td>\n",
       "      <td>41.43</td>\n",
       "      <td>7.03</td>\n",
       "      <td>3350.0</td>\n",
       "      <td>0.17</td>\n",
       "      <td>...</td>\n",
       "      <td>1320.04</td>\n",
       "      <td>710.63</td>\n",
       "      <td>512.54</td>\n",
       "      <td>109.16</td>\n",
       "      <td>2.58</td>\n",
       "      <td>0</td>\n",
       "      <td>29038.17</td>\n",
       "      <td>65.66</td>\n",
       "      <td>7.35</td>\n",
       "      <td>0</td>\n",
       "    </tr>\n",
       "  </tbody>\n",
       "</table>\n",
       "<p>5 rows × 50 columns</p>\n",
       "</div>"
      ],
      "text/plain": [
       "   0      1        2       3    4           5      6     7        8     9   \\\n",
       "0   1   2558  1506.09  456.63   90   6395000.0  40.88  7.89  29780.0  0.19   \n",
       "1   2  22325    79.11  841.03  180  55812500.0  51.11  1.21  61900.0  0.02   \n",
       "2   3    115  1449.85  608.43   88    287500.0  40.42  7.34   3340.0  0.18   \n",
       "3   4   1201  1562.53  295.65   66   3002500.0  42.40  7.97  18030.0  0.19   \n",
       "4   5    312   950.27  440.86   37    780000.0  41.43  7.03   3350.0  0.17   \n",
       "\n",
       "   ...       40        41       42       43     44  45        46     47    48  \\\n",
       "0  ...  2850.00   1000.00   763.16   135.46   3.73   0  33243.19  65.74  7.95   \n",
       "1  ...  5750.00  11500.00  9593.48  1648.80   0.60   0  51572.04  65.73  6.26   \n",
       "2  ...  1400.00    250.00   150.00    45.13   9.33   1  31692.84  65.81  7.84   \n",
       "3  ...  6041.52    761.58   453.21   144.97  13.33   1  37696.21  65.67  8.07   \n",
       "4  ...  1320.04    710.63   512.54   109.16   2.58   0  29038.17  65.66  7.35   \n",
       "\n",
       "   49  \n",
       "0   1  \n",
       "1   0  \n",
       "2   1  \n",
       "3   1  \n",
       "4   0  \n",
       "\n",
       "[5 rows x 50 columns]"
      ]
     },
     "execution_count": 43,
     "metadata": {},
     "output_type": "execute_result"
    }
   ],
   "source": [
    "df.head()"
   ]
  },
  {
   "cell_type": "markdown",
   "id": "779e2647",
   "metadata": {},
   "source": [
    "使用`nunique`方法可以直接查看没一列有几个不同的值："
   ]
  },
  {
   "cell_type": "code",
   "execution_count": 2,
   "id": "08b7549c",
   "metadata": {},
   "outputs": [
    {
     "data": {
      "text/plain": [
       "0     238\n",
       "1     297\n",
       "2     927\n",
       "3     933\n",
       "4     179\n",
       "5     375\n",
       "6     820\n",
       "7     618\n",
       "8     561\n",
       "9      57\n",
       "10    577\n",
       "11     59\n",
       "12     73\n",
       "13    107\n",
       "14     53\n",
       "15     91\n",
       "16    893\n",
       "17    810\n",
       "18    170\n",
       "19     53\n",
       "20     68\n",
       "21      9\n",
       "22      1\n",
       "23     92\n",
       "24      9\n",
       "25      8\n",
       "26      9\n",
       "27    308\n",
       "28    447\n",
       "29    392\n",
       "30    107\n",
       "31     42\n",
       "32      4\n",
       "33     45\n",
       "34    141\n",
       "35    110\n",
       "36      3\n",
       "37    758\n",
       "38      9\n",
       "39      9\n",
       "40    388\n",
       "41    220\n",
       "42    644\n",
       "43    649\n",
       "44    499\n",
       "45      2\n",
       "46    937\n",
       "47    169\n",
       "48    286\n",
       "49      2\n",
       "dtype: int64"
      ]
     },
     "execution_count": 2,
     "metadata": {},
     "output_type": "execute_result"
    }
   ],
   "source": [
    "counts = df.nunique()\n",
    "counts"
   ]
  },
  {
   "cell_type": "markdown",
   "id": "bfded03c",
   "metadata": {},
   "source": [
    "简单的删除掉这一行即可："
   ]
  },
  {
   "cell_type": "code",
   "execution_count": 3,
   "id": "a49331bf",
   "metadata": {},
   "outputs": [
    {
     "data": {
      "text/plain": [
       "(937, 50)"
      ]
     },
     "execution_count": 3,
     "metadata": {},
     "output_type": "execute_result"
    }
   ],
   "source": [
    "df.shape"
   ]
  },
  {
   "cell_type": "code",
   "execution_count": 4,
   "id": "419b5eb3",
   "metadata": {},
   "outputs": [
    {
     "data": {
      "text/plain": [
       "[22]"
      ]
     },
     "execution_count": 4,
     "metadata": {},
     "output_type": "execute_result"
    }
   ],
   "source": [
    "to_del = [idx for idx, val in counts.items() if val == 1]\n",
    "to_del"
   ]
  },
  {
   "cell_type": "code",
   "execution_count": 5,
   "id": "ed7f9d61",
   "metadata": {},
   "outputs": [],
   "source": [
    "df2 = df.drop(to_del, axis=1)"
   ]
  },
  {
   "cell_type": "code",
   "execution_count": 6,
   "id": "da8ef150",
   "metadata": {},
   "outputs": [
    {
     "data": {
      "text/plain": [
       "(937, 49)"
      ]
     },
     "execution_count": 6,
     "metadata": {},
     "output_type": "execute_result"
    }
   ],
   "source": [
    "df2.shape"
   ]
  },
  {
   "cell_type": "markdown",
   "id": "aeffe21b",
   "metadata": {},
   "source": [
    "#### 包含很少值的列"
   ]
  },
  {
   "cell_type": "markdown",
   "id": "48fa3e4c",
   "metadata": {},
   "source": [
    "包含很少值的特征列也需要注意，这些列被称为近零方差预测器，这些特征可能只包含很少的有价值的预测信息，但是不能武断的过滤掉（比如对类别数据进行独热编码）。"
   ]
  },
  {
   "cell_type": "code",
   "execution_count": 7,
   "id": "73260f87",
   "metadata": {},
   "outputs": [
    {
     "data": {
      "text/plain": [
       "(937, 50)"
      ]
     },
     "execution_count": 7,
     "metadata": {},
     "output_type": "execute_result"
    }
   ],
   "source": [
    "# 数据集一共有937个样本，49个特征列\n",
    "df.shape"
   ]
  },
  {
   "cell_type": "markdown",
   "id": "ce81731d",
   "metadata": {},
   "source": [
    "我们可以用特征列值的个数除以样本总数，查看唯一值的百分比："
   ]
  },
  {
   "cell_type": "code",
   "execution_count": 8,
   "id": "13aa927c",
   "metadata": {},
   "outputs": [
    {
     "data": {
      "text/html": [
       "<div>\n",
       "<style scoped>\n",
       "    .dataframe tbody tr th:only-of-type {\n",
       "        vertical-align: middle;\n",
       "    }\n",
       "\n",
       "    .dataframe tbody tr th {\n",
       "        vertical-align: top;\n",
       "    }\n",
       "\n",
       "    .dataframe thead th {\n",
       "        text-align: right;\n",
       "    }\n",
       "</style>\n",
       "<table border=\"1\" class=\"dataframe\">\n",
       "  <thead>\n",
       "    <tr style=\"text-align: right;\">\n",
       "      <th></th>\n",
       "      <th>0</th>\n",
       "      <th>1</th>\n",
       "      <th>2</th>\n",
       "    </tr>\n",
       "  </thead>\n",
       "  <tbody>\n",
       "    <tr>\n",
       "      <th>0</th>\n",
       "      <td>238</td>\n",
       "      <td>25.400213</td>\n",
       "      <td>25.40%</td>\n",
       "    </tr>\n",
       "    <tr>\n",
       "      <th>1</th>\n",
       "      <td>297</td>\n",
       "      <td>31.696905</td>\n",
       "      <td>31.70%</td>\n",
       "    </tr>\n",
       "    <tr>\n",
       "      <th>2</th>\n",
       "      <td>927</td>\n",
       "      <td>98.932764</td>\n",
       "      <td>98.93%</td>\n",
       "    </tr>\n",
       "    <tr>\n",
       "      <th>3</th>\n",
       "      <td>933</td>\n",
       "      <td>99.573106</td>\n",
       "      <td>99.57%</td>\n",
       "    </tr>\n",
       "    <tr>\n",
       "      <th>4</th>\n",
       "      <td>179</td>\n",
       "      <td>19.103522</td>\n",
       "      <td>19.10%</td>\n",
       "    </tr>\n",
       "    <tr>\n",
       "      <th>5</th>\n",
       "      <td>375</td>\n",
       "      <td>40.021345</td>\n",
       "      <td>40.02%</td>\n",
       "    </tr>\n",
       "    <tr>\n",
       "      <th>6</th>\n",
       "      <td>820</td>\n",
       "      <td>87.513340</td>\n",
       "      <td>87.51%</td>\n",
       "    </tr>\n",
       "    <tr>\n",
       "      <th>7</th>\n",
       "      <td>618</td>\n",
       "      <td>65.955176</td>\n",
       "      <td>65.96%</td>\n",
       "    </tr>\n",
       "    <tr>\n",
       "      <th>8</th>\n",
       "      <td>561</td>\n",
       "      <td>59.871932</td>\n",
       "      <td>59.87%</td>\n",
       "    </tr>\n",
       "    <tr>\n",
       "      <th>9</th>\n",
       "      <td>57</td>\n",
       "      <td>6.083244</td>\n",
       "      <td>6.08%</td>\n",
       "    </tr>\n",
       "    <tr>\n",
       "      <th>10</th>\n",
       "      <td>577</td>\n",
       "      <td>61.579509</td>\n",
       "      <td>61.58%</td>\n",
       "    </tr>\n",
       "    <tr>\n",
       "      <th>11</th>\n",
       "      <td>59</td>\n",
       "      <td>6.296692</td>\n",
       "      <td>6.30%</td>\n",
       "    </tr>\n",
       "    <tr>\n",
       "      <th>12</th>\n",
       "      <td>73</td>\n",
       "      <td>7.790822</td>\n",
       "      <td>7.79%</td>\n",
       "    </tr>\n",
       "    <tr>\n",
       "      <th>13</th>\n",
       "      <td>107</td>\n",
       "      <td>11.419424</td>\n",
       "      <td>11.42%</td>\n",
       "    </tr>\n",
       "    <tr>\n",
       "      <th>14</th>\n",
       "      <td>53</td>\n",
       "      <td>5.656350</td>\n",
       "      <td>5.66%</td>\n",
       "    </tr>\n",
       "    <tr>\n",
       "      <th>15</th>\n",
       "      <td>91</td>\n",
       "      <td>9.711846</td>\n",
       "      <td>9.71%</td>\n",
       "    </tr>\n",
       "    <tr>\n",
       "      <th>16</th>\n",
       "      <td>893</td>\n",
       "      <td>95.304162</td>\n",
       "      <td>95.30%</td>\n",
       "    </tr>\n",
       "    <tr>\n",
       "      <th>17</th>\n",
       "      <td>810</td>\n",
       "      <td>86.446105</td>\n",
       "      <td>86.45%</td>\n",
       "    </tr>\n",
       "    <tr>\n",
       "      <th>18</th>\n",
       "      <td>170</td>\n",
       "      <td>18.143010</td>\n",
       "      <td>18.14%</td>\n",
       "    </tr>\n",
       "    <tr>\n",
       "      <th>19</th>\n",
       "      <td>53</td>\n",
       "      <td>5.656350</td>\n",
       "      <td>5.66%</td>\n",
       "    </tr>\n",
       "    <tr>\n",
       "      <th>20</th>\n",
       "      <td>68</td>\n",
       "      <td>7.257204</td>\n",
       "      <td>7.26%</td>\n",
       "    </tr>\n",
       "    <tr>\n",
       "      <th>21</th>\n",
       "      <td>9</td>\n",
       "      <td>0.960512</td>\n",
       "      <td>0.96%</td>\n",
       "    </tr>\n",
       "    <tr>\n",
       "      <th>22</th>\n",
       "      <td>1</td>\n",
       "      <td>0.106724</td>\n",
       "      <td>0.11%</td>\n",
       "    </tr>\n",
       "    <tr>\n",
       "      <th>23</th>\n",
       "      <td>92</td>\n",
       "      <td>9.818570</td>\n",
       "      <td>9.82%</td>\n",
       "    </tr>\n",
       "    <tr>\n",
       "      <th>24</th>\n",
       "      <td>9</td>\n",
       "      <td>0.960512</td>\n",
       "      <td>0.96%</td>\n",
       "    </tr>\n",
       "    <tr>\n",
       "      <th>25</th>\n",
       "      <td>8</td>\n",
       "      <td>0.853789</td>\n",
       "      <td>0.85%</td>\n",
       "    </tr>\n",
       "    <tr>\n",
       "      <th>26</th>\n",
       "      <td>9</td>\n",
       "      <td>0.960512</td>\n",
       "      <td>0.96%</td>\n",
       "    </tr>\n",
       "    <tr>\n",
       "      <th>27</th>\n",
       "      <td>308</td>\n",
       "      <td>32.870864</td>\n",
       "      <td>32.87%</td>\n",
       "    </tr>\n",
       "    <tr>\n",
       "      <th>28</th>\n",
       "      <td>447</td>\n",
       "      <td>47.705443</td>\n",
       "      <td>47.71%</td>\n",
       "    </tr>\n",
       "    <tr>\n",
       "      <th>29</th>\n",
       "      <td>392</td>\n",
       "      <td>41.835646</td>\n",
       "      <td>41.84%</td>\n",
       "    </tr>\n",
       "    <tr>\n",
       "      <th>30</th>\n",
       "      <td>107</td>\n",
       "      <td>11.419424</td>\n",
       "      <td>11.42%</td>\n",
       "    </tr>\n",
       "    <tr>\n",
       "      <th>31</th>\n",
       "      <td>42</td>\n",
       "      <td>4.482391</td>\n",
       "      <td>4.48%</td>\n",
       "    </tr>\n",
       "    <tr>\n",
       "      <th>32</th>\n",
       "      <td>4</td>\n",
       "      <td>0.426894</td>\n",
       "      <td>0.43%</td>\n",
       "    </tr>\n",
       "    <tr>\n",
       "      <th>33</th>\n",
       "      <td>45</td>\n",
       "      <td>4.802561</td>\n",
       "      <td>4.80%</td>\n",
       "    </tr>\n",
       "    <tr>\n",
       "      <th>34</th>\n",
       "      <td>141</td>\n",
       "      <td>15.048026</td>\n",
       "      <td>15.05%</td>\n",
       "    </tr>\n",
       "    <tr>\n",
       "      <th>35</th>\n",
       "      <td>110</td>\n",
       "      <td>11.739594</td>\n",
       "      <td>11.74%</td>\n",
       "    </tr>\n",
       "    <tr>\n",
       "      <th>36</th>\n",
       "      <td>3</td>\n",
       "      <td>0.320171</td>\n",
       "      <td>0.32%</td>\n",
       "    </tr>\n",
       "    <tr>\n",
       "      <th>37</th>\n",
       "      <td>758</td>\n",
       "      <td>80.896478</td>\n",
       "      <td>80.90%</td>\n",
       "    </tr>\n",
       "    <tr>\n",
       "      <th>38</th>\n",
       "      <td>9</td>\n",
       "      <td>0.960512</td>\n",
       "      <td>0.96%</td>\n",
       "    </tr>\n",
       "    <tr>\n",
       "      <th>39</th>\n",
       "      <td>9</td>\n",
       "      <td>0.960512</td>\n",
       "      <td>0.96%</td>\n",
       "    </tr>\n",
       "    <tr>\n",
       "      <th>40</th>\n",
       "      <td>388</td>\n",
       "      <td>41.408751</td>\n",
       "      <td>41.41%</td>\n",
       "    </tr>\n",
       "    <tr>\n",
       "      <th>41</th>\n",
       "      <td>220</td>\n",
       "      <td>23.479189</td>\n",
       "      <td>23.48%</td>\n",
       "    </tr>\n",
       "    <tr>\n",
       "      <th>42</th>\n",
       "      <td>644</td>\n",
       "      <td>68.729989</td>\n",
       "      <td>68.73%</td>\n",
       "    </tr>\n",
       "    <tr>\n",
       "      <th>43</th>\n",
       "      <td>649</td>\n",
       "      <td>69.263607</td>\n",
       "      <td>69.26%</td>\n",
       "    </tr>\n",
       "    <tr>\n",
       "      <th>44</th>\n",
       "      <td>499</td>\n",
       "      <td>53.255069</td>\n",
       "      <td>53.26%</td>\n",
       "    </tr>\n",
       "    <tr>\n",
       "      <th>45</th>\n",
       "      <td>2</td>\n",
       "      <td>0.213447</td>\n",
       "      <td>0.21%</td>\n",
       "    </tr>\n",
       "    <tr>\n",
       "      <th>46</th>\n",
       "      <td>937</td>\n",
       "      <td>100.000000</td>\n",
       "      <td>100.00%</td>\n",
       "    </tr>\n",
       "    <tr>\n",
       "      <th>47</th>\n",
       "      <td>169</td>\n",
       "      <td>18.036286</td>\n",
       "      <td>18.04%</td>\n",
       "    </tr>\n",
       "    <tr>\n",
       "      <th>48</th>\n",
       "      <td>286</td>\n",
       "      <td>30.522946</td>\n",
       "      <td>30.52%</td>\n",
       "    </tr>\n",
       "    <tr>\n",
       "      <th>49</th>\n",
       "      <td>2</td>\n",
       "      <td>0.213447</td>\n",
       "      <td>0.21%</td>\n",
       "    </tr>\n",
       "  </tbody>\n",
       "</table>\n",
       "</div>"
      ],
      "text/plain": [
       "      0           1        2\n",
       "0   238   25.400213   25.40%\n",
       "1   297   31.696905   31.70%\n",
       "2   927   98.932764   98.93%\n",
       "3   933   99.573106   99.57%\n",
       "4   179   19.103522   19.10%\n",
       "5   375   40.021345   40.02%\n",
       "6   820   87.513340   87.51%\n",
       "7   618   65.955176   65.96%\n",
       "8   561   59.871932   59.87%\n",
       "9    57    6.083244    6.08%\n",
       "10  577   61.579509   61.58%\n",
       "11   59    6.296692    6.30%\n",
       "12   73    7.790822    7.79%\n",
       "13  107   11.419424   11.42%\n",
       "14   53    5.656350    5.66%\n",
       "15   91    9.711846    9.71%\n",
       "16  893   95.304162   95.30%\n",
       "17  810   86.446105   86.45%\n",
       "18  170   18.143010   18.14%\n",
       "19   53    5.656350    5.66%\n",
       "20   68    7.257204    7.26%\n",
       "21    9    0.960512    0.96%\n",
       "22    1    0.106724    0.11%\n",
       "23   92    9.818570    9.82%\n",
       "24    9    0.960512    0.96%\n",
       "25    8    0.853789    0.85%\n",
       "26    9    0.960512    0.96%\n",
       "27  308   32.870864   32.87%\n",
       "28  447   47.705443   47.71%\n",
       "29  392   41.835646   41.84%\n",
       "30  107   11.419424   11.42%\n",
       "31   42    4.482391    4.48%\n",
       "32    4    0.426894    0.43%\n",
       "33   45    4.802561    4.80%\n",
       "34  141   15.048026   15.05%\n",
       "35  110   11.739594   11.74%\n",
       "36    3    0.320171    0.32%\n",
       "37  758   80.896478   80.90%\n",
       "38    9    0.960512    0.96%\n",
       "39    9    0.960512    0.96%\n",
       "40  388   41.408751   41.41%\n",
       "41  220   23.479189   23.48%\n",
       "42  644   68.729989   68.73%\n",
       "43  649   69.263607   69.26%\n",
       "44  499   53.255069   53.26%\n",
       "45    2    0.213447    0.21%\n",
       "46  937  100.000000  100.00%\n",
       "47  169   18.036286   18.04%\n",
       "48  286   30.522946   30.52%\n",
       "49    2    0.213447    0.21%"
      ]
     },
     "execution_count": 8,
     "metadata": {},
     "output_type": "execute_result"
    }
   ],
   "source": [
    "data = DataFrame(df.nunique())\n",
    "data[1] = (data[0] / df.shape[0]) * 100\n",
    "# 转换成百分数显示\n",
    "data[2] = Series([\"{:.2f}%\".format(v) for v in data[1]], index=data.index)\n",
    "data"
   ]
  },
  {
   "cell_type": "markdown",
   "id": "8f9a95dd",
   "metadata": {},
   "source": [
    "我们可以把占比小于1%的过滤出来："
   ]
  },
  {
   "cell_type": "code",
   "execution_count": 9,
   "id": "493b22ba",
   "metadata": {},
   "outputs": [
    {
     "data": {
      "text/html": [
       "<div>\n",
       "<style scoped>\n",
       "    .dataframe tbody tr th:only-of-type {\n",
       "        vertical-align: middle;\n",
       "    }\n",
       "\n",
       "    .dataframe tbody tr th {\n",
       "        vertical-align: top;\n",
       "    }\n",
       "\n",
       "    .dataframe thead th {\n",
       "        text-align: right;\n",
       "    }\n",
       "</style>\n",
       "<table border=\"1\" class=\"dataframe\">\n",
       "  <thead>\n",
       "    <tr style=\"text-align: right;\">\n",
       "      <th></th>\n",
       "      <th>0</th>\n",
       "      <th>1</th>\n",
       "      <th>2</th>\n",
       "    </tr>\n",
       "  </thead>\n",
       "  <tbody>\n",
       "    <tr>\n",
       "      <th>21</th>\n",
       "      <td>9</td>\n",
       "      <td>0.960512</td>\n",
       "      <td>0.96%</td>\n",
       "    </tr>\n",
       "    <tr>\n",
       "      <th>22</th>\n",
       "      <td>1</td>\n",
       "      <td>0.106724</td>\n",
       "      <td>0.11%</td>\n",
       "    </tr>\n",
       "    <tr>\n",
       "      <th>24</th>\n",
       "      <td>9</td>\n",
       "      <td>0.960512</td>\n",
       "      <td>0.96%</td>\n",
       "    </tr>\n",
       "    <tr>\n",
       "      <th>25</th>\n",
       "      <td>8</td>\n",
       "      <td>0.853789</td>\n",
       "      <td>0.85%</td>\n",
       "    </tr>\n",
       "    <tr>\n",
       "      <th>26</th>\n",
       "      <td>9</td>\n",
       "      <td>0.960512</td>\n",
       "      <td>0.96%</td>\n",
       "    </tr>\n",
       "    <tr>\n",
       "      <th>32</th>\n",
       "      <td>4</td>\n",
       "      <td>0.426894</td>\n",
       "      <td>0.43%</td>\n",
       "    </tr>\n",
       "    <tr>\n",
       "      <th>36</th>\n",
       "      <td>3</td>\n",
       "      <td>0.320171</td>\n",
       "      <td>0.32%</td>\n",
       "    </tr>\n",
       "    <tr>\n",
       "      <th>38</th>\n",
       "      <td>9</td>\n",
       "      <td>0.960512</td>\n",
       "      <td>0.96%</td>\n",
       "    </tr>\n",
       "    <tr>\n",
       "      <th>39</th>\n",
       "      <td>9</td>\n",
       "      <td>0.960512</td>\n",
       "      <td>0.96%</td>\n",
       "    </tr>\n",
       "    <tr>\n",
       "      <th>45</th>\n",
       "      <td>2</td>\n",
       "      <td>0.213447</td>\n",
       "      <td>0.21%</td>\n",
       "    </tr>\n",
       "    <tr>\n",
       "      <th>49</th>\n",
       "      <td>2</td>\n",
       "      <td>0.213447</td>\n",
       "      <td>0.21%</td>\n",
       "    </tr>\n",
       "  </tbody>\n",
       "</table>\n",
       "</div>"
      ],
      "text/plain": [
       "    0         1      2\n",
       "21  9  0.960512  0.96%\n",
       "22  1  0.106724  0.11%\n",
       "24  9  0.960512  0.96%\n",
       "25  8  0.853789  0.85%\n",
       "26  9  0.960512  0.96%\n",
       "32  4  0.426894  0.43%\n",
       "36  3  0.320171  0.32%\n",
       "38  9  0.960512  0.96%\n",
       "39  9  0.960512  0.96%\n",
       "45  2  0.213447  0.21%\n",
       "49  2  0.213447  0.21%"
      ]
     },
     "execution_count": 9,
     "metadata": {},
     "output_type": "execute_result"
    }
   ],
   "source": [
    "data[data[1] < 1]"
   ]
  },
  {
   "cell_type": "markdown",
   "id": "70ca9e7d",
   "metadata": {},
   "source": [
    "并不是说需要删除这些特征列，但是要注意以下几点：\n",
    "1. 唯一值是否包含天然的顺序，可以编码成有序的列。\n",
    "2. 是否可以将唯一值编码为类别值。\n",
    "3. 可以将特征列从数据集中删除，比较模型的性能，看是否有提升。\n",
    "\n",
    "比如：如果要删除占比小于1%的列，则可以这么做："
   ]
  },
  {
   "cell_type": "code",
   "execution_count": 10,
   "id": "1da50a0b",
   "metadata": {},
   "outputs": [
    {
     "data": {
      "text/plain": [
       "[21, 22, 24, 25, 26, 32, 36, 38, 39, 45, 49]"
      ]
     },
     "execution_count": 10,
     "metadata": {},
     "output_type": "execute_result"
    }
   ],
   "source": [
    "counts = df.nunique()\n",
    "to_del = [idx for idx, val in counts.items() if val / df.shape[0] < 0.01]\n",
    "to_del"
   ]
  },
  {
   "cell_type": "code",
   "execution_count": 11,
   "id": "354bae50",
   "metadata": {},
   "outputs": [
    {
     "data": {
      "text/plain": [
       "(937, 39)"
      ]
     },
     "execution_count": 11,
     "metadata": {},
     "output_type": "execute_result"
    }
   ],
   "source": [
    "df2 = df.drop(columns=to_del)\n",
    "\n",
    "df2.shape"
   ]
  },
  {
   "cell_type": "markdown",
   "id": "9891a429",
   "metadata": {},
   "source": [
    "sklearn里包含根据方差进行特征选择的工具："
   ]
  },
  {
   "cell_type": "code",
   "execution_count": 12,
   "id": "2548e367",
   "metadata": {},
   "outputs": [
    {
     "name": "stdout",
     "output_type": "stream",
     "text": [
      "(937, 49) (937,)\n"
     ]
    }
   ],
   "source": [
    "from sklearn.feature_selection import VarianceThreshold\n",
    "\n",
    "data = df.values\n",
    "X = data[:, :-1]\n",
    "Y = data[:, -1]\n",
    "print(X.shape, Y.shape)"
   ]
  },
  {
   "cell_type": "markdown",
   "id": "6a789212",
   "metadata": {},
   "source": [
    "默认会删除方差为0的列，也就是上面提到的，整个特征列只有一个值："
   ]
  },
  {
   "cell_type": "code",
   "execution_count": 13,
   "id": "f0ba33bb",
   "metadata": {},
   "outputs": [
    {
     "name": "stdout",
     "output_type": "stream",
     "text": [
      "(937, 48)\n"
     ]
    }
   ],
   "source": [
    "transformer = VarianceThreshold()\n",
    "X_sel = transformer.fit_transform(X)\n",
    "print(X_sel.shape)"
   ]
  },
  {
   "cell_type": "markdown",
   "id": "0fb752df",
   "metadata": {},
   "source": [
    "也可以手动设定方差的门限，低于这个门限的特征列会被删除："
   ]
  },
  {
   "cell_type": "code",
   "execution_count": 14,
   "id": "4e5bafef",
   "metadata": {},
   "outputs": [
    {
     "name": "stdout",
     "output_type": "stream",
     "text": [
      ">Threshold=0.00, Features=48\n",
      ">Threshold=0.05, Features=37\n",
      ">Threshold=0.10, Features=36\n",
      ">Threshold=0.15, Features=35\n",
      ">Threshold=0.20, Features=35\n",
      ">Threshold=0.25, Features=35\n",
      ">Threshold=0.30, Features=35\n",
      ">Threshold=0.35, Features=35\n",
      ">Threshold=0.40, Features=35\n",
      ">Threshold=0.45, Features=33\n",
      ">Threshold=0.50, Features=31\n"
     ]
    }
   ],
   "source": [
    "import numpy as np\n",
    "\n",
    "thresholds = np.arange(0.0, 0.55, 0.05)\n",
    "results = []\n",
    "\n",
    "for t in thresholds:\n",
    "    transform = VarianceThreshold(threshold=t)\n",
    "    X_sel = transform.fit_transform(X)\n",
    "    n_features = X_sel.shape[1]\n",
    "    print('>Threshold={:.2f}, Features={:d}'.format(t, n_features))\n",
    "    results.append(n_features)"
   ]
  },
  {
   "cell_type": "markdown",
   "id": "41fd3cf0",
   "metadata": {},
   "source": [
    "可以作图查看特征的变化："
   ]
  },
  {
   "cell_type": "code",
   "execution_count": 15,
   "id": "2c8f9621",
   "metadata": {},
   "outputs": [
    {
     "data": {
      "text/plain": [
       "array([0.  , 0.05, 0.1 , 0.15, 0.2 , 0.25, 0.3 , 0.35, 0.4 , 0.45, 0.5 ])"
      ]
     },
     "execution_count": 15,
     "metadata": {},
     "output_type": "execute_result"
    }
   ],
   "source": [
    "thresholds"
   ]
  },
  {
   "cell_type": "code",
   "execution_count": 16,
   "id": "1dcddaad",
   "metadata": {},
   "outputs": [
    {
     "data": {
      "image/png": "[encoded data removed]",
      "text/plain": [
       "<Figure size 640x480 with 1 Axes>"
      ]
     },
     "metadata": {},
     "output_type": "display_data"
    }
   ],
   "source": [
    "import matplotlib.pyplot as plt\n",
    "\n",
    "plt.plot(thresholds, results);"
   ]
  },
  {
   "cell_type": "markdown",
   "id": "c5d7d4b6",
   "metadata": {},
   "source": [
    "#### 标识删除重复的行"
   ]
  },
  {
   "cell_type": "markdown",
   "id": "d9b90ae8",
   "metadata": {},
   "source": [
    "重复的行对建模毫无帮助，而且在模型评估的环节还有可能产生误导--相同的行分别在训练集和测试集中。从概率的角度来看，可以将重复数据看作是调整类标签或数据分布的先验，这对朴素贝叶斯之类的算法可能有帮助，但一般情况下，删除重复行，模型会表现更好。"
   ]
  },
  {
   "cell_type": "code",
   "execution_count": 17,
   "id": "f0850838",
   "metadata": {},
   "outputs": [
    {
     "data": {
      "text/html": [
       "<div>\n",
       "<style scoped>\n",
       "    .dataframe tbody tr th:only-of-type {\n",
       "        vertical-align: middle;\n",
       "    }\n",
       "\n",
       "    .dataframe tbody tr th {\n",
       "        vertical-align: top;\n",
       "    }\n",
       "\n",
       "    .dataframe thead th {\n",
       "        text-align: right;\n",
       "    }\n",
       "</style>\n",
       "<table border=\"1\" class=\"dataframe\">\n",
       "  <thead>\n",
       "    <tr style=\"text-align: right;\">\n",
       "      <th></th>\n",
       "      <th>0</th>\n",
       "      <th>1</th>\n",
       "      <th>2</th>\n",
       "      <th>3</th>\n",
       "      <th>4</th>\n",
       "    </tr>\n",
       "  </thead>\n",
       "  <tbody>\n",
       "    <tr>\n",
       "      <th>0</th>\n",
       "      <td>5.1</td>\n",
       "      <td>3.5</td>\n",
       "      <td>1.4</td>\n",
       "      <td>0.2</td>\n",
       "      <td>Iris-setosa</td>\n",
       "    </tr>\n",
       "    <tr>\n",
       "      <th>1</th>\n",
       "      <td>4.9</td>\n",
       "      <td>3.0</td>\n",
       "      <td>1.4</td>\n",
       "      <td>0.2</td>\n",
       "      <td>Iris-setosa</td>\n",
       "    </tr>\n",
       "    <tr>\n",
       "      <th>2</th>\n",
       "      <td>4.7</td>\n",
       "      <td>3.2</td>\n",
       "      <td>1.3</td>\n",
       "      <td>0.2</td>\n",
       "      <td>Iris-setosa</td>\n",
       "    </tr>\n",
       "    <tr>\n",
       "      <th>3</th>\n",
       "      <td>4.6</td>\n",
       "      <td>3.1</td>\n",
       "      <td>1.5</td>\n",
       "      <td>0.2</td>\n",
       "      <td>Iris-setosa</td>\n",
       "    </tr>\n",
       "    <tr>\n",
       "      <th>4</th>\n",
       "      <td>5.0</td>\n",
       "      <td>3.6</td>\n",
       "      <td>1.4</td>\n",
       "      <td>0.2</td>\n",
       "      <td>Iris-setosa</td>\n",
       "    </tr>\n",
       "  </tbody>\n",
       "</table>\n",
       "</div>"
      ],
      "text/plain": [
       "     0    1    2    3            4\n",
       "0  5.1  3.5  1.4  0.2  Iris-setosa\n",
       "1  4.9  3.0  1.4  0.2  Iris-setosa\n",
       "2  4.7  3.2  1.3  0.2  Iris-setosa\n",
       "3  4.6  3.1  1.5  0.2  Iris-setosa\n",
       "4  5.0  3.6  1.4  0.2  Iris-setosa"
      ]
     },
     "execution_count": 17,
     "metadata": {},
     "output_type": "execute_result"
    }
   ],
   "source": [
    "df_iris = pd.read_csv('iris.csv', header=None)\n",
    "df_iris.head(5)"
   ]
  },
  {
   "cell_type": "markdown",
   "id": "a928f09a",
   "metadata": {},
   "source": [
    "注意：第一次出现的行总是`False`，后面重复出现的行才会是`True`:"
   ]
  },
  {
   "cell_type": "code",
   "execution_count": 18,
   "id": "d2bbc6bc",
   "metadata": {},
   "outputs": [
    {
     "data": {
      "text/plain": [
       "True"
      ]
     },
     "execution_count": 18,
     "metadata": {},
     "output_type": "execute_result"
    }
   ],
   "source": [
    "dups = df_iris.duplicated()\n",
    "# 可以通过any方法查看是否有重复的行\n",
    "dups.any()"
   ]
  },
  {
   "cell_type": "code",
   "execution_count": 19,
   "id": "c5323f56",
   "metadata": {},
   "outputs": [
    {
     "data": {
      "text/html": [
       "<div>\n",
       "<style scoped>\n",
       "    .dataframe tbody tr th:only-of-type {\n",
       "        vertical-align: middle;\n",
       "    }\n",
       "\n",
       "    .dataframe tbody tr th {\n",
       "        vertical-align: top;\n",
       "    }\n",
       "\n",
       "    .dataframe thead th {\n",
       "        text-align: right;\n",
       "    }\n",
       "</style>\n",
       "<table border=\"1\" class=\"dataframe\">\n",
       "  <thead>\n",
       "    <tr style=\"text-align: right;\">\n",
       "      <th></th>\n",
       "      <th>0</th>\n",
       "      <th>1</th>\n",
       "      <th>2</th>\n",
       "      <th>3</th>\n",
       "      <th>4</th>\n",
       "    </tr>\n",
       "  </thead>\n",
       "  <tbody>\n",
       "    <tr>\n",
       "      <th>34</th>\n",
       "      <td>4.9</td>\n",
       "      <td>3.1</td>\n",
       "      <td>1.5</td>\n",
       "      <td>0.1</td>\n",
       "      <td>Iris-setosa</td>\n",
       "    </tr>\n",
       "    <tr>\n",
       "      <th>37</th>\n",
       "      <td>4.9</td>\n",
       "      <td>3.1</td>\n",
       "      <td>1.5</td>\n",
       "      <td>0.1</td>\n",
       "      <td>Iris-setosa</td>\n",
       "    </tr>\n",
       "    <tr>\n",
       "      <th>142</th>\n",
       "      <td>5.8</td>\n",
       "      <td>2.7</td>\n",
       "      <td>5.1</td>\n",
       "      <td>1.9</td>\n",
       "      <td>Iris-virginica</td>\n",
       "    </tr>\n",
       "  </tbody>\n",
       "</table>\n",
       "</div>"
      ],
      "text/plain": [
       "       0    1    2    3               4\n",
       "34   4.9  3.1  1.5  0.1     Iris-setosa\n",
       "37   4.9  3.1  1.5  0.1     Iris-setosa\n",
       "142  5.8  2.7  5.1  1.9  Iris-virginica"
      ]
     },
     "execution_count": 19,
     "metadata": {},
     "output_type": "execute_result"
    }
   ],
   "source": [
    "# 把重复的行过滤出来\n",
    "df_iris[dups] "
   ]
  },
  {
   "cell_type": "markdown",
   "id": "344b1f3f",
   "metadata": {},
   "source": [
    "pandas删除重复行很简单："
   ]
  },
  {
   "cell_type": "code",
   "execution_count": 20,
   "id": "a7fa0e88",
   "metadata": {},
   "outputs": [
    {
     "data": {
      "text/plain": [
       "(150, 5)"
      ]
     },
     "execution_count": 20,
     "metadata": {},
     "output_type": "execute_result"
    }
   ],
   "source": [
    "df_iris.shape"
   ]
  },
  {
   "cell_type": "code",
   "execution_count": 21,
   "id": "ae6b169c",
   "metadata": {},
   "outputs": [
    {
     "data": {
      "text/plain": [
       "(147, 5)"
      ]
     },
     "execution_count": 21,
     "metadata": {},
     "output_type": "execute_result"
    }
   ],
   "source": [
    "df_iris2 = df_iris.drop_duplicates()\n",
    "df_iris2.shape"
   ]
  },
  {
   "cell_type": "markdown",
   "id": "329d6c61",
   "metadata": {},
   "source": [
    "### 异常值的识别和删除"
   ]
  },
  {
   "cell_type": "markdown",
   "id": "f6666b7b",
   "metadata": {},
   "source": [
    "异常值，也叫离群值通常是下列原因造成的：\n",
    "- 测量或者输入误差\n",
    "- 资料损坏\n",
    "- 离群值就是真实的记录\n",
    "\n",
    "由于每个数据集的特殊性，通常没有定义和识别离群值的精确方法。相反，必须解释原始的观察结果，并决定一个值是否为离群值。通常情况下，即使对数据有了透彻的理解，离群值也很难定义，所以要非常小心，不要匆忙地删除或改变值，特别是在样本容量很小的情况下。"
   ]
  },
  {
   "cell_type": "code",
   "execution_count": 22,
   "id": "9adeae8e",
   "metadata": {},
   "outputs": [
    {
     "name": "stdout",
     "output_type": "stream",
     "text": [
      "mean=50.049 stdv=4.994\n"
     ]
    }
   ],
   "source": [
    "# randn生成均值为0，标准差为1的正态分布的数据，*5使标准差扩大5被，+50将均值移动到50\n",
    "np.random.seed(1)\n",
    "data = 5 * np.random.randn(10000) + 50\n",
    "print(\"mean={:.3f} stdv={:.3f}\".format(np.mean(data), np.std(data)))"
   ]
  },
  {
   "cell_type": "markdown",
   "id": "300e201e",
   "metadata": {},
   "source": [
    "画出直方图，查看数据的分布："
   ]
  },
  {
   "cell_type": "code",
   "execution_count": 23,
   "id": "9e450245",
   "metadata": {},
   "outputs": [
    {
     "data": {
      "image/png": "[encoded data removed]",
      "text/plain": [
       "<Figure size 640x480 with 1 Axes>"
      ]
     },
     "metadata": {},
     "output_type": "display_data"
    }
   ],
   "source": [
    "plt.rcParams['font.sans-serif'] = ['SimHei']  # 用来正常显示中文标签\n",
    "plt.rcParams['axes.unicode_minus'] = False  # 用来正常显示负号\n",
    "\n",
    "plt.hist(data, bins=50, facecolor='blue', edgecolor='black', alpha=0.7)\n",
    "plt.xlabel(\"区间\")\n",
    "plt.ylabel(\"频数\")\n",
    "plt.title(\"频数分布直方图\");"
   ]
  },
  {
   "cell_type": "markdown",
   "id": "f7f37478",
   "metadata": {},
   "source": [
    "#### 标准差方法"
   ]
  },
  {
   "cell_type": "markdown",
   "id": "1eb2ada2",
   "metadata": {},
   "source": [
    "如果数据符合正态分布，那么：\n",
    "1. 68%的数据在一个标准差内。\n",
    "2. 95%的数据在两个标准差内。\n",
    "3. 99.7%的数据在三个标准差内。\n",
    "4. 99.9%的数据在四个标准差内。\n",
    "\n",
    "一般而言，如果比较小的数据集，可以选用2个标准差，比较大的数据集，可以选用4个标准差。"
   ]
  },
  {
   "cell_type": "code",
   "execution_count": 24,
   "id": "b37ae42a",
   "metadata": {},
   "outputs": [],
   "source": [
    "# 计算均值和标准差\n",
    "data_mean, data_std = np.mean(data), np.std(data)\n",
    "# 定义离群值的阈值\n",
    "cut_off = data_std * 3\n",
    "lower, upper = data_mean - cut_off, data_mean + cut_off"
   ]
  },
  {
   "cell_type": "markdown",
   "id": "04c73ddc",
   "metadata": {},
   "source": [
    "现在可以根据阈值来筛选离群值："
   ]
  },
  {
   "cell_type": "code",
   "execution_count": 25,
   "id": "e18a30ae",
   "metadata": {},
   "outputs": [
    {
     "data": {
      "text/plain": [
       "29"
      ]
     },
     "execution_count": 25,
     "metadata": {},
     "output_type": "execute_result"
    }
   ],
   "source": [
    "outliers = [x for x in data if x < lower or x > upper]\n",
    "len(outliers)"
   ]
  },
  {
   "cell_type": "markdown",
   "id": "96cef77a",
   "metadata": {},
   "source": [
    "#### 四分位距"
   ]
  },
  {
   "cell_type": "markdown",
   "id": "8f7275d5",
   "metadata": {},
   "source": [
    "使用numpy的`percentile`方法或者Series的`quantile`方法计算IQR:"
   ]
  },
  {
   "cell_type": "code",
   "execution_count": 26,
   "id": "5aaa045b",
   "metadata": {},
   "outputs": [
    {
     "data": {
      "text/plain": [
       "6.673668386862346"
      ]
     },
     "execution_count": 26,
     "metadata": {},
     "output_type": "execute_result"
    }
   ],
   "source": [
    "q25, q75 = np.percentile(data, 25), np.percentile(data, 75)\n",
    "iqr = q75 - q25\n",
    "iqr"
   ]
  },
  {
   "cell_type": "code",
   "execution_count": 27,
   "id": "dd1b5741",
   "metadata": {},
   "outputs": [
    {
     "data": {
      "text/plain": [
       "6.673668386862346"
      ]
     },
     "execution_count": 27,
     "metadata": {},
     "output_type": "execute_result"
    }
   ],
   "source": [
    "ser = pd.Series(data)\n",
    "ser_q25, ser_q75 = ser.quantile(.25), ser.quantile(.75)\n",
    "ser_iqr = ser_q75 - ser_q25\n",
    "ser_iqr"
   ]
  },
  {
   "cell_type": "markdown",
   "id": "98301842",
   "metadata": {},
   "source": [
    "然后就可以根据iqr计算上下边界："
   ]
  },
  {
   "cell_type": "code",
   "execution_count": 28,
   "id": "adcc4750",
   "metadata": {},
   "outputs": [
    {
     "data": {
      "text/plain": [
       "(36.674873210195926, 63.36954675764531)"
      ]
     },
     "execution_count": 28,
     "metadata": {},
     "output_type": "execute_result"
    }
   ],
   "source": [
    "lower, upper = q25 - 1.5 * iqr, q75 + 1.5 * iqr\n",
    "lower, upper"
   ]
  },
  {
   "cell_type": "markdown",
   "id": "4cbccbf5",
   "metadata": {},
   "source": [
    "同标准差方法，找到上下边界以后就可以筛选异常值了："
   ]
  },
  {
   "cell_type": "code",
   "execution_count": 29,
   "id": "bc948094",
   "metadata": {},
   "outputs": [
    {
     "data": {
      "text/plain": [
       "81"
      ]
     },
     "execution_count": 29,
     "metadata": {},
     "output_type": "execute_result"
    }
   ],
   "source": [
    "outliers = [x for x in data if x < lower or x > upper]\n",
    "len(outliers)"
   ]
  },
  {
   "cell_type": "markdown",
   "id": "c0f067a0",
   "metadata": {},
   "source": [
    "#### 自动异常值检测"
   ]
  },
  {
   "cell_type": "markdown",
   "id": "15e4398a",
   "metadata": {},
   "source": [
    "局部离群因子，简称LOF，就是一种试图利用最近邻的思想进行离群检测的技术。每个样本会根据孤立的程度打分，分数越高越可能是离群值。sklearn的`LocalOutlierFactor`类提供这种方法的实现。\n",
    "\n",
    "通过波士顿数据集来查看去掉异常值前后，回归模型性能变化情况："
   ]
  },
  {
   "cell_type": "code",
   "execution_count": 30,
   "id": "a3fb37c3",
   "metadata": {},
   "outputs": [
    {
     "name": "stdout",
     "output_type": "stream",
     "text": [
      "(506, 13) (506,)\n",
      "(339, 13) (167, 13) (339,) (167,)\n"
     ]
    }
   ],
   "source": [
    "# 首先读取数据\n",
    "import pandas as pd\n",
    "from sklearn.model_selection import train_test_split\n",
    "from sklearn.linear_model import LinearRegression\n",
    "from sklearn.metrics import mean_absolute_error\n",
    "\n",
    "\n",
    "df = pd.read_csv(\"housing.csv\", header=None)\n",
    "data = df.values\n",
    "X, Y = data[:, :-1], data[:, -1]\n",
    "print(X.shape, Y.shape)\n",
    "X_train, X_test, Y_train, Y_test = train_test_split(X, Y, test_size=0.33, random_state=1)\n",
    "print(X_train.shape, X_test.shape, Y_train.shape, Y_test.shape)"
   ]
  },
  {
   "cell_type": "code",
   "execution_count": 31,
   "id": "ea62341b",
   "metadata": {},
   "outputs": [
    {
     "name": "stdout",
     "output_type": "stream",
     "text": [
      "MAE: 3.417\n"
     ]
    }
   ],
   "source": [
    "model = LinearRegression()\n",
    "model.fit(X_train, Y_train)\n",
    "yhat = model.predict(X_test)\n",
    "mae = mean_absolute_error(Y_test, yhat)\n",
    "print(\"MAE: {:.3f}\".format(mae))"
   ]
  },
  {
   "cell_type": "markdown",
   "id": "a874698a",
   "metadata": {},
   "source": [
    "回归算法受离群值的影响比较大，`LocalOutlierFactor`返回的是每一行，即每一个样本的标志，如果是离群值则为-1，否则为1。\n",
    "\n",
    "可见：删除掉异常值以后，模型的性能有所提升。"
   ]
  },
  {
   "cell_type": "code",
   "execution_count": 32,
   "id": "284d72c7",
   "metadata": {},
   "outputs": [
    {
     "name": "stdout",
     "output_type": "stream",
     "text": [
      "Sample numbers                          : 339\n",
      "After delete outliers, sample numbers   : 305\n",
      "MAE: 3.356\n"
     ]
    }
   ],
   "source": [
    "from sklearn.neighbors import LocalOutlierFactor\n",
    "from sklearn.model_selection import KFold, cross_val_score\n",
    "\n",
    "lof = LocalOutlierFactor()  # LocalOutlierFactor有很多参数可以调，这里都采用默认值\n",
    "\n",
    "outliers = lof.fit_predict(X_train)  # 异常值为-1\n",
    "mask = outliers != -1  # 将-1转化为布尔值\n",
    "print(\"{:<40}: {}\".format(\"Sample numbers\", X_train.shape[0]))\n",
    "X_train, Y_train = X_train[mask, :], Y_train[mask]  # 异常样本全部删除掉，相应的，标签也要对应的异常值\n",
    "print(\"{:<40}: {}\".format(\"After delete outliers, sample numbers\", X_train.shape[0]))\n",
    "\n",
    "model.fit(X_train, Y_train)\n",
    "yhat = model.predict(X_test)\n",
    "mae = mean_absolute_error(Y_test, yhat)\n",
    "print(\"MAE: {:.3f}\".format(mae))"
   ]
  },
  {
   "cell_type": "markdown",
   "id": "c4e4e8f4",
   "metadata": {},
   "source": [
    "sklearn还提供了一些别的算法来识别离群值，比如`IsolationForest`。"
   ]
  },
  {
   "cell_type": "markdown",
   "id": "95f37bb4",
   "metadata": {},
   "source": [
    "### 缺失值的识别和删除"
   ]
  },
  {
   "cell_type": "markdown",
   "id": "90dfadaa",
   "metadata": {},
   "source": [
    "#### 标记缺失值"
   ]
  },
  {
   "cell_type": "markdown",
   "id": "ae244250",
   "metadata": {},
   "source": [
    "在实际的数据中，经常使用范围之外的数字来表示缺失值，比如-1，0。"
   ]
  },
  {
   "cell_type": "code",
   "execution_count": 33,
   "id": "a5171758",
   "metadata": {},
   "outputs": [
    {
     "data": {
      "text/html": [
       "<div>\n",
       "<style scoped>\n",
       "    .dataframe tbody tr th:only-of-type {\n",
       "        vertical-align: middle;\n",
       "    }\n",
       "\n",
       "    .dataframe tbody tr th {\n",
       "        vertical-align: top;\n",
       "    }\n",
       "\n",
       "    .dataframe thead th {\n",
       "        text-align: right;\n",
       "    }\n",
       "</style>\n",
       "<table border=\"1\" class=\"dataframe\">\n",
       "  <thead>\n",
       "    <tr style=\"text-align: right;\">\n",
       "      <th></th>\n",
       "      <th>0</th>\n",
       "      <th>1</th>\n",
       "      <th>2</th>\n",
       "      <th>3</th>\n",
       "      <th>4</th>\n",
       "      <th>5</th>\n",
       "      <th>6</th>\n",
       "      <th>7</th>\n",
       "      <th>8</th>\n",
       "    </tr>\n",
       "  </thead>\n",
       "  <tbody>\n",
       "    <tr>\n",
       "      <th>count</th>\n",
       "      <td>768.000000</td>\n",
       "      <td>768.000000</td>\n",
       "      <td>768.000000</td>\n",
       "      <td>768.000000</td>\n",
       "      <td>768.000000</td>\n",
       "      <td>768.000000</td>\n",
       "      <td>768.000000</td>\n",
       "      <td>768.000000</td>\n",
       "      <td>768.000000</td>\n",
       "    </tr>\n",
       "    <tr>\n",
       "      <th>mean</th>\n",
       "      <td>3.845052</td>\n",
       "      <td>120.894531</td>\n",
       "      <td>69.105469</td>\n",
       "      <td>20.536458</td>\n",
       "      <td>79.799479</td>\n",
       "      <td>31.992578</td>\n",
       "      <td>0.471876</td>\n",
       "      <td>33.240885</td>\n",
       "      <td>0.348958</td>\n",
       "    </tr>\n",
       "    <tr>\n",
       "      <th>std</th>\n",
       "      <td>3.369578</td>\n",
       "      <td>31.972618</td>\n",
       "      <td>19.355807</td>\n",
       "      <td>15.952218</td>\n",
       "      <td>115.244002</td>\n",
       "      <td>7.884160</td>\n",
       "      <td>0.331329</td>\n",
       "      <td>11.760232</td>\n",
       "      <td>0.476951</td>\n",
       "    </tr>\n",
       "    <tr>\n",
       "      <th>min</th>\n",
       "      <td>0.000000</td>\n",
       "      <td>0.000000</td>\n",
       "      <td>0.000000</td>\n",
       "      <td>0.000000</td>\n",
       "      <td>0.000000</td>\n",
       "      <td>0.000000</td>\n",
       "      <td>0.078000</td>\n",
       "      <td>21.000000</td>\n",
       "      <td>0.000000</td>\n",
       "    </tr>\n",
       "    <tr>\n",
       "      <th>25%</th>\n",
       "      <td>1.000000</td>\n",
       "      <td>99.000000</td>\n",
       "      <td>62.000000</td>\n",
       "      <td>0.000000</td>\n",
       "      <td>0.000000</td>\n",
       "      <td>27.300000</td>\n",
       "      <td>0.243750</td>\n",
       "      <td>24.000000</td>\n",
       "      <td>0.000000</td>\n",
       "    </tr>\n",
       "    <tr>\n",
       "      <th>50%</th>\n",
       "      <td>3.000000</td>\n",
       "      <td>117.000000</td>\n",
       "      <td>72.000000</td>\n",
       "      <td>23.000000</td>\n",
       "      <td>30.500000</td>\n",
       "      <td>32.000000</td>\n",
       "      <td>0.372500</td>\n",
       "      <td>29.000000</td>\n",
       "      <td>0.000000</td>\n",
       "    </tr>\n",
       "    <tr>\n",
       "      <th>75%</th>\n",
       "      <td>6.000000</td>\n",
       "      <td>140.250000</td>\n",
       "      <td>80.000000</td>\n",
       "      <td>32.000000</td>\n",
       "      <td>127.250000</td>\n",
       "      <td>36.600000</td>\n",
       "      <td>0.626250</td>\n",
       "      <td>41.000000</td>\n",
       "      <td>1.000000</td>\n",
       "    </tr>\n",
       "    <tr>\n",
       "      <th>max</th>\n",
       "      <td>17.000000</td>\n",
       "      <td>199.000000</td>\n",
       "      <td>122.000000</td>\n",
       "      <td>99.000000</td>\n",
       "      <td>846.000000</td>\n",
       "      <td>67.100000</td>\n",
       "      <td>2.420000</td>\n",
       "      <td>81.000000</td>\n",
       "      <td>1.000000</td>\n",
       "    </tr>\n",
       "  </tbody>\n",
       "</table>\n",
       "</div>"
      ],
      "text/plain": [
       "                0           1           2           3           4           5  \\\n",
       "count  768.000000  768.000000  768.000000  768.000000  768.000000  768.000000   \n",
       "mean     3.845052  120.894531   69.105469   20.536458   79.799479   31.992578   \n",
       "std      3.369578   31.972618   19.355807   15.952218  115.244002    7.884160   \n",
       "min      0.000000    0.000000    0.000000    0.000000    0.000000    0.000000   \n",
       "25%      1.000000   99.000000   62.000000    0.000000    0.000000   27.300000   \n",
       "50%      3.000000  117.000000   72.000000   23.000000   30.500000   32.000000   \n",
       "75%      6.000000  140.250000   80.000000   32.000000  127.250000   36.600000   \n",
       "max     17.000000  199.000000  122.000000   99.000000  846.000000   67.100000   \n",
       "\n",
       "                6           7           8  \n",
       "count  768.000000  768.000000  768.000000  \n",
       "mean     0.471876   33.240885    0.348958  \n",
       "std      0.331329   11.760232    0.476951  \n",
       "min      0.078000   21.000000    0.000000  \n",
       "25%      0.243750   24.000000    0.000000  \n",
       "50%      0.372500   29.000000    0.000000  \n",
       "75%      0.626250   41.000000    1.000000  \n",
       "max      2.420000   81.000000    1.000000  "
      ]
     },
     "execution_count": 33,
     "metadata": {},
     "output_type": "execute_result"
    }
   ],
   "source": [
    "df = pd.read_csv(\"pima-indians-diabetes.csv\", header=None)\n",
    "df.describe()"
   ]
  },
  {
   "cell_type": "markdown",
   "id": "26a2fa5a",
   "metadata": {},
   "source": [
    "我们来看每一列的含义：\n",
    "1. 怀孕次数\n",
    "2. 口服葡萄糖耐量试验2小时后的血糖浓度\n",
    "3. 舒张压\n",
    "4. 三头肌皮褶厚度\n",
    "5. 2小时血清胰岛素\n",
    "6. 体质指数\n",
    "7. 糖尿病血统函数\n",
    "8. 年龄\n",
    "\n",
    "其中1，2，3，4，5列都不可能为0。"
   ]
  },
  {
   "cell_type": "code",
   "execution_count": 34,
   "id": "c75db7c3",
   "metadata": {},
   "outputs": [
    {
     "data": {
      "text/plain": [
       "1      5\n",
       "2     35\n",
       "3    227\n",
       "4    374\n",
       "5     11\n",
       "dtype: int64"
      ]
     },
     "execution_count": 34,
     "metadata": {},
     "output_type": "execute_result"
    }
   ],
   "source": [
    "num_missing = (df[[1, 2, 3, 4, 5]] == 0).sum()\n",
    "num_missing"
   ]
  },
  {
   "cell_type": "markdown",
   "id": "c8020ef4",
   "metadata": {},
   "source": [
    "可以看到，第1列、第2列和第5列只有几个零值，而第3列和第4列有将近一半的零值。这强调了对于不同的列可能需要不同的缺失值策略。\n",
    "\n",
    "接下来将0设置为`nan`，然后通过`isnull`方法来统计缺失值。"
   ]
  },
  {
   "cell_type": "code",
   "execution_count": 35,
   "id": "20f077a4",
   "metadata": {},
   "outputs": [
    {
     "data": {
      "text/plain": [
       "0      0\n",
       "1      5\n",
       "2     35\n",
       "3    227\n",
       "4    374\n",
       "5     11\n",
       "6      0\n",
       "7      0\n",
       "8      0\n",
       "dtype: int64"
      ]
     },
     "execution_count": 35,
     "metadata": {},
     "output_type": "execute_result"
    }
   ],
   "source": [
    "import numpy as np\n",
    "\n",
    "df[[1,2,3,4,5]] = df[[1,2,3,4,5]].replace(0, np.nan)\n",
    "df.isnull().sum()"
   ]
  },
  {
   "cell_type": "markdown",
   "id": "4c4f79e0",
   "metadata": {},
   "source": [
    "#### 缺失值导致的问题"
   ]
  },
  {
   "cell_type": "markdown",
   "id": "a63958cf",
   "metadata": {},
   "source": [
    "缺失值是数据中常见的现象。不幸的是，大多数预测建模技术不能处理任何缺失的值。因此，必须在建模之前解决这个问题。以LDA线性判别方法为例："
   ]
  },
  {
   "cell_type": "markdown",
   "id": "7b67f2a7",
   "metadata": {},
   "source": [
    "```python\n",
    "from sklearn.discriminant_analysis import LinearDiscriminantAnalysis\n",
    "from sklearn.model_selection import KFold, cross_val_score\n",
    "\n",
    "data = df.values\n",
    "X, Y = data[:, :-1], data[:, -1]\n",
    "model = LinearDiscriminantAnalysis()\n",
    "cv = KFold(n_splits=3, shuffle=True, random_state=1)\n",
    "results = cross_val_score(model, X, Y, cv=cv, scoring='accuracy')\n",
    "print(f'Accuracy: {results.mean()}')\n",
    "```"
   ]
  },
  {
   "cell_type": "markdown",
   "id": "46d37689",
   "metadata": {},
   "source": [
    "上面的代码会报错，提示有缺失值。除了LDA，很多算法，比如支持向量机，神经网络，glmnet（这是啥？）都不允许数据中间包含缺失值。"
   ]
  },
  {
   "cell_type": "markdown",
   "id": "97fda2fc",
   "metadata": {},
   "source": [
    "#### 删除缺少值的行"
   ]
  },
  {
   "cell_type": "markdown",
   "id": "e772ebe8",
   "metadata": {},
   "source": [
    "处理缺失值最简单的方法就是删除包含缺失值的样本，也就是删除整行。"
   ]
  },
  {
   "cell_type": "code",
   "execution_count": 36,
   "id": "e72e86d6",
   "metadata": {},
   "outputs": [
    {
     "name": "stdout",
     "output_type": "stream",
     "text": [
      "(768, 9)\n",
      "(392, 9)\n"
     ]
    }
   ],
   "source": [
    "df = pd.read_csv(\"pima-indians-diabetes.csv\", header=None)\n",
    "print(df.shape)\n",
    "df[[1,2,3,4,5]] = df[[1,2,3,4,5]].replace(0, np.nan)\n",
    "df.dropna(inplace=True)\n",
    "print(df.shape)"
   ]
  },
  {
   "cell_type": "markdown",
   "id": "7c6199d7",
   "metadata": {},
   "source": [
    "这里补充一个技巧，即如果只需要删除某一列或者某几列包含缺失值的行，则可以通过向`dropna`方法传递`subset`参数实现："
   ]
  },
  {
   "cell_type": "code",
   "execution_count": 37,
   "id": "51ad9e92",
   "metadata": {},
   "outputs": [
    {
     "data": {
      "text/html": [
       "<div>\n",
       "<style scoped>\n",
       "    .dataframe tbody tr th:only-of-type {\n",
       "        vertical-align: middle;\n",
       "    }\n",
       "\n",
       "    .dataframe tbody tr th {\n",
       "        vertical-align: top;\n",
       "    }\n",
       "\n",
       "    .dataframe thead th {\n",
       "        text-align: right;\n",
       "    }\n",
       "</style>\n",
       "<table border=\"1\" class=\"dataframe\">\n",
       "  <thead>\n",
       "    <tr style=\"text-align: right;\">\n",
       "      <th></th>\n",
       "      <th>a</th>\n",
       "      <th>b</th>\n",
       "      <th>c</th>\n",
       "    </tr>\n",
       "  </thead>\n",
       "  <tbody>\n",
       "    <tr>\n",
       "      <th>0</th>\n",
       "      <td>1.0</td>\n",
       "      <td>2</td>\n",
       "      <td>NaN</td>\n",
       "    </tr>\n",
       "    <tr>\n",
       "      <th>1</th>\n",
       "      <td>3.0</td>\n",
       "      <td>4</td>\n",
       "      <td>5.0</td>\n",
       "    </tr>\n",
       "    <tr>\n",
       "      <th>2</th>\n",
       "      <td>NaN</td>\n",
       "      <td>2</td>\n",
       "      <td>3.0</td>\n",
       "    </tr>\n",
       "  </tbody>\n",
       "</table>\n",
       "</div>"
      ],
      "text/plain": [
       "     a  b    c\n",
       "0  1.0  2  NaN\n",
       "1  3.0  4  5.0\n",
       "2  NaN  2  3.0"
      ]
     },
     "execution_count": 37,
     "metadata": {},
     "output_type": "execute_result"
    }
   ],
   "source": [
    "from pandas import DataFrame\n",
    "import numpy as np\n",
    "\n",
    "df = DataFrame([[1, 2, np.nan], [3, 4, 5], [np.nan, 2, 3]], columns=['a', 'b', 'c'])\n",
    "df"
   ]
  },
  {
   "cell_type": "code",
   "execution_count": 38,
   "id": "0a3c905f",
   "metadata": {},
   "outputs": [
    {
     "data": {
      "text/html": [
       "<div>\n",
       "<style scoped>\n",
       "    .dataframe tbody tr th:only-of-type {\n",
       "        vertical-align: middle;\n",
       "    }\n",
       "\n",
       "    .dataframe tbody tr th {\n",
       "        vertical-align: top;\n",
       "    }\n",
       "\n",
       "    .dataframe thead th {\n",
       "        text-align: right;\n",
       "    }\n",
       "</style>\n",
       "<table border=\"1\" class=\"dataframe\">\n",
       "  <thead>\n",
       "    <tr style=\"text-align: right;\">\n",
       "      <th></th>\n",
       "      <th>a</th>\n",
       "      <th>b</th>\n",
       "      <th>c</th>\n",
       "    </tr>\n",
       "  </thead>\n",
       "  <tbody>\n",
       "    <tr>\n",
       "      <th>1</th>\n",
       "      <td>3.0</td>\n",
       "      <td>4</td>\n",
       "      <td>5.0</td>\n",
       "    </tr>\n",
       "    <tr>\n",
       "      <th>2</th>\n",
       "      <td>NaN</td>\n",
       "      <td>2</td>\n",
       "      <td>3.0</td>\n",
       "    </tr>\n",
       "  </tbody>\n",
       "</table>\n",
       "</div>"
      ],
      "text/plain": [
       "     a  b    c\n",
       "1  3.0  4  5.0\n",
       "2  NaN  2  3.0"
      ]
     },
     "execution_count": 38,
     "metadata": {},
     "output_type": "execute_result"
    }
   ],
   "source": [
    "df.dropna(subset=['c'])"
   ]
  },
  {
   "cell_type": "markdown",
   "id": "8fd3d4d4",
   "metadata": {},
   "source": [
    "现在再使用LDA进行建模："
   ]
  },
  {
   "cell_type": "code",
   "execution_count": 39,
   "id": "9dd9a36f",
   "metadata": {},
   "outputs": [
    {
     "ename": "ValueError",
     "evalue": "\nAll the 3 fits failed.\nIt is very likely that your model is misconfigured.\nYou can try to debug the error by setting error_score='raise'.\n\nBelow are more details about the failures:\n--------------------------------------------------------------------------------\n2 fits failed with the following error:\nTraceback (most recent call last):\n  File \"D:\\programs\\anaconda3\\lib\\site-packages\\sklearn\\model_selection\\_validation.py\", line 686, in _fit_and_score\n    estimator.fit(X_train, y_train, **fit_params)\n  File \"D:\\programs\\anaconda3\\lib\\site-packages\\sklearn\\discriminant_analysis.py\", line 575, in fit\n    X, y = self._validate_data(\n  File \"D:\\programs\\anaconda3\\lib\\site-packages\\sklearn\\base.py\", line 565, in _validate_data\n    X, y = check_X_y(X, y, **check_params)\n  File \"D:\\programs\\anaconda3\\lib\\site-packages\\sklearn\\utils\\validation.py\", line 1106, in check_X_y\n    X = check_array(\n  File \"D:\\programs\\anaconda3\\lib\\site-packages\\sklearn\\utils\\validation.py\", line 921, in check_array\n    _assert_all_finite(\n  File \"D:\\programs\\anaconda3\\lib\\site-packages\\sklearn\\utils\\validation.py\", line 161, in _assert_all_finite\n    raise ValueError(msg_err)\nValueError: Input X contains NaN.\nLinearDiscriminantAnalysis does not accept missing values encoded as NaN natively. For supervised learning, you might want to consider sklearn.ensemble.HistGradientBoostingClassifier and Regressor which accept missing values encoded as NaNs natively. Alternatively, it is possible to preprocess the data, for instance by using an imputer transformer in a pipeline or drop samples with missing values. See https://scikit-learn.org/stable/modules/impute.html You can find a list of all estimators that handle NaN values at the following page: https://scikit-learn.org/stable/modules/impute.html#estimators-that-handle-nan-values\n\n--------------------------------------------------------------------------------\n1 fits failed with the following error:\nTraceback (most recent call last):\n  File \"D:\\programs\\anaconda3\\lib\\site-packages\\sklearn\\model_selection\\_validation.py\", line 686, in _fit_and_score\n    estimator.fit(X_train, y_train, **fit_params)\n  File \"D:\\programs\\anaconda3\\lib\\site-packages\\sklearn\\discriminant_analysis.py\", line 575, in fit\n    X, y = self._validate_data(\n  File \"D:\\programs\\anaconda3\\lib\\site-packages\\sklearn\\base.py\", line 565, in _validate_data\n    X, y = check_X_y(X, y, **check_params)\n  File \"D:\\programs\\anaconda3\\lib\\site-packages\\sklearn\\utils\\validation.py\", line 1122, in check_X_y\n    y = _check_y(y, multi_output=multi_output, y_numeric=y_numeric, estimator=estimator)\n  File \"D:\\programs\\anaconda3\\lib\\site-packages\\sklearn\\utils\\validation.py\", line 1144, in _check_y\n    _assert_all_finite(y, input_name=\"y\", estimator_name=estimator_name)\n  File \"D:\\programs\\anaconda3\\lib\\site-packages\\sklearn\\utils\\validation.py\", line 161, in _assert_all_finite\n    raise ValueError(msg_err)\nValueError: Input y contains NaN.\n",
     "output_type": "error",
     "traceback": [
      "\u001b[1;31m---------------------------------------------------------------------------\u001b[0m",
      "\u001b[1;31mValueError\u001b[0m                                Traceback (most recent call last)",
      "Cell \u001b[1;32mIn[39], line 8\u001b[0m\n\u001b[0;32m      6\u001b[0m model \u001b[38;5;241m=\u001b[39m LinearDiscriminantAnalysis()\n\u001b[0;32m      7\u001b[0m cv \u001b[38;5;241m=\u001b[39m KFold(n_splits\u001b[38;5;241m=\u001b[39m\u001b[38;5;241m3\u001b[39m, shuffle\u001b[38;5;241m=\u001b[39m\u001b[38;5;28;01mTrue\u001b[39;00m, random_state\u001b[38;5;241m=\u001b[39m\u001b[38;5;241m1\u001b[39m)\n\u001b[1;32m----> 8\u001b[0m results \u001b[38;5;241m=\u001b[39m \u001b[43mcross_val_score\u001b[49m\u001b[43m(\u001b[49m\u001b[43mmodel\u001b[49m\u001b[43m,\u001b[49m\u001b[43m \u001b[49m\u001b[43mX\u001b[49m\u001b[43m,\u001b[49m\u001b[43m \u001b[49m\u001b[43mY\u001b[49m\u001b[43m,\u001b[49m\u001b[43m \u001b[49m\u001b[43mcv\u001b[49m\u001b[38;5;241;43m=\u001b[39;49m\u001b[43mcv\u001b[49m\u001b[43m,\u001b[49m\u001b[43m \u001b[49m\u001b[43mscoring\u001b[49m\u001b[38;5;241;43m=\u001b[39;49m\u001b[38;5;124;43m'\u001b[39;49m\u001b[38;5;124;43maccuracy\u001b[39;49m\u001b[38;5;124;43m'\u001b[39;49m\u001b[43m)\u001b[49m\n\u001b[0;32m      9\u001b[0m \u001b[38;5;28mprint\u001b[39m(\u001b[38;5;124mf\u001b[39m\u001b[38;5;124m'\u001b[39m\u001b[38;5;124mAccuracy: \u001b[39m\u001b[38;5;132;01m{\u001b[39;00mresults\u001b[38;5;241m.\u001b[39mmean()\u001b[38;5;132;01m}\u001b[39;00m\u001b[38;5;124m'\u001b[39m)\n",
      "File \u001b[1;32mD:\\programs\\anaconda3\\lib\\site-packages\\sklearn\\model_selection\\_validation.py:515\u001b[0m, in \u001b[0;36mcross_val_score\u001b[1;34m(estimator, X, y, groups, scoring, cv, n_jobs, verbose, fit_params, pre_dispatch, error_score)\u001b[0m\n\u001b[0;32m    512\u001b[0m \u001b[38;5;66;03m# To ensure multimetric format is not supported\u001b[39;00m\n\u001b[0;32m    513\u001b[0m scorer \u001b[38;5;241m=\u001b[39m check_scoring(estimator, scoring\u001b[38;5;241m=\u001b[39mscoring)\n\u001b[1;32m--> 515\u001b[0m cv_results \u001b[38;5;241m=\u001b[39m \u001b[43mcross_validate\u001b[49m\u001b[43m(\u001b[49m\n\u001b[0;32m    516\u001b[0m \u001b[43m    \u001b[49m\u001b[43mestimator\u001b[49m\u001b[38;5;241;43m=\u001b[39;49m\u001b[43mestimator\u001b[49m\u001b[43m,\u001b[49m\n\u001b[0;32m    517\u001b[0m \u001b[43m    \u001b[49m\u001b[43mX\u001b[49m\u001b[38;5;241;43m=\u001b[39;49m\u001b[43mX\u001b[49m\u001b[43m,\u001b[49m\n\u001b[0;32m    518\u001b[0m \u001b[43m    \u001b[49m\u001b[43my\u001b[49m\u001b[38;5;241;43m=\u001b[39;49m\u001b[43my\u001b[49m\u001b[43m,\u001b[49m\n\u001b[0;32m    519\u001b[0m \u001b[43m    \u001b[49m\u001b[43mgroups\u001b[49m\u001b[38;5;241;43m=\u001b[39;49m\u001b[43mgroups\u001b[49m\u001b[43m,\u001b[49m\n\u001b[0;32m    520\u001b[0m \u001b[43m    \u001b[49m\u001b[43mscoring\u001b[49m\u001b[38;5;241;43m=\u001b[39;49m\u001b[43m{\u001b[49m\u001b[38;5;124;43m\"\u001b[39;49m\u001b[38;5;124;43mscore\u001b[39;49m\u001b[38;5;124;43m\"\u001b[39;49m\u001b[43m:\u001b[49m\u001b[43m \u001b[49m\u001b[43mscorer\u001b[49m\u001b[43m}\u001b[49m\u001b[43m,\u001b[49m\n\u001b[0;32m    521\u001b[0m \u001b[43m    \u001b[49m\u001b[43mcv\u001b[49m\u001b[38;5;241;43m=\u001b[39;49m\u001b[43mcv\u001b[49m\u001b[43m,\u001b[49m\n\u001b[0;32m    522\u001b[0m \u001b[43m    \u001b[49m\u001b[43mn_jobs\u001b[49m\u001b[38;5;241;43m=\u001b[39;49m\u001b[43mn_jobs\u001b[49m\u001b[43m,\u001b[49m\n\u001b[0;32m    523\u001b[0m \u001b[43m    \u001b[49m\u001b[43mverbose\u001b[49m\u001b[38;5;241;43m=\u001b[39;49m\u001b[43mverbose\u001b[49m\u001b[43m,\u001b[49m\n\u001b[0;32m    524\u001b[0m \u001b[43m    \u001b[49m\u001b[43mfit_params\u001b[49m\u001b[38;5;241;43m=\u001b[39;49m\u001b[43mfit_params\u001b[49m\u001b[43m,\u001b[49m\n\u001b[0;32m    525\u001b[0m \u001b[43m    \u001b[49m\u001b[43mpre_dispatch\u001b[49m\u001b[38;5;241;43m=\u001b[39;49m\u001b[43mpre_dispatch\u001b[49m\u001b[43m,\u001b[49m\n\u001b[0;32m    526\u001b[0m \u001b[43m    \u001b[49m\u001b[43merror_score\u001b[49m\u001b[38;5;241;43m=\u001b[39;49m\u001b[43merror_score\u001b[49m\u001b[43m,\u001b[49m\n\u001b[0;32m    527\u001b[0m \u001b[43m\u001b[49m\u001b[43m)\u001b[49m\n\u001b[0;32m    528\u001b[0m \u001b[38;5;28;01mreturn\u001b[39;00m cv_results[\u001b[38;5;124m\"\u001b[39m\u001b[38;5;124mtest_score\u001b[39m\u001b[38;5;124m\"\u001b[39m]\n",
      "File \u001b[1;32mD:\\programs\\anaconda3\\lib\\site-packages\\sklearn\\model_selection\\_validation.py:285\u001b[0m, in \u001b[0;36mcross_validate\u001b[1;34m(estimator, X, y, groups, scoring, cv, n_jobs, verbose, fit_params, pre_dispatch, return_train_score, return_estimator, error_score)\u001b[0m\n\u001b[0;32m    265\u001b[0m parallel \u001b[38;5;241m=\u001b[39m Parallel(n_jobs\u001b[38;5;241m=\u001b[39mn_jobs, verbose\u001b[38;5;241m=\u001b[39mverbose, pre_dispatch\u001b[38;5;241m=\u001b[39mpre_dispatch)\n\u001b[0;32m    266\u001b[0m results \u001b[38;5;241m=\u001b[39m parallel(\n\u001b[0;32m    267\u001b[0m     delayed(_fit_and_score)(\n\u001b[0;32m    268\u001b[0m         clone(estimator),\n\u001b[1;32m   (...)\u001b[0m\n\u001b[0;32m    282\u001b[0m     \u001b[38;5;28;01mfor\u001b[39;00m train, test \u001b[38;5;129;01min\u001b[39;00m cv\u001b[38;5;241m.\u001b[39msplit(X, y, groups)\n\u001b[0;32m    283\u001b[0m )\n\u001b[1;32m--> 285\u001b[0m \u001b[43m_warn_or_raise_about_fit_failures\u001b[49m\u001b[43m(\u001b[49m\u001b[43mresults\u001b[49m\u001b[43m,\u001b[49m\u001b[43m \u001b[49m\u001b[43merror_score\u001b[49m\u001b[43m)\u001b[49m\n\u001b[0;32m    287\u001b[0m \u001b[38;5;66;03m# For callabe scoring, the return type is only know after calling. If the\u001b[39;00m\n\u001b[0;32m    288\u001b[0m \u001b[38;5;66;03m# return type is a dictionary, the error scores can now be inserted with\u001b[39;00m\n\u001b[0;32m    289\u001b[0m \u001b[38;5;66;03m# the correct key.\u001b[39;00m\n\u001b[0;32m    290\u001b[0m \u001b[38;5;28;01mif\u001b[39;00m callable(scoring):\n",
      "File \u001b[1;32mD:\\programs\\anaconda3\\lib\\site-packages\\sklearn\\model_selection\\_validation.py:367\u001b[0m, in \u001b[0;36m_warn_or_raise_about_fit_failures\u001b[1;34m(results, error_score)\u001b[0m\n\u001b[0;32m    360\u001b[0m \u001b[38;5;28;01mif\u001b[39;00m num_failed_fits \u001b[38;5;241m==\u001b[39m num_fits:\n\u001b[0;32m    361\u001b[0m     all_fits_failed_message \u001b[38;5;241m=\u001b[39m (\n\u001b[0;32m    362\u001b[0m         \u001b[38;5;124mf\u001b[39m\u001b[38;5;124m\"\u001b[39m\u001b[38;5;130;01m\\n\u001b[39;00m\u001b[38;5;124mAll the \u001b[39m\u001b[38;5;132;01m{\u001b[39;00mnum_fits\u001b[38;5;132;01m}\u001b[39;00m\u001b[38;5;124m fits failed.\u001b[39m\u001b[38;5;130;01m\\n\u001b[39;00m\u001b[38;5;124m\"\u001b[39m\n\u001b[0;32m    363\u001b[0m         \u001b[38;5;124m\"\u001b[39m\u001b[38;5;124mIt is very likely that your model is misconfigured.\u001b[39m\u001b[38;5;130;01m\\n\u001b[39;00m\u001b[38;5;124m\"\u001b[39m\n\u001b[0;32m    364\u001b[0m         \u001b[38;5;124m\"\u001b[39m\u001b[38;5;124mYou can try to debug the error by setting error_score=\u001b[39m\u001b[38;5;124m'\u001b[39m\u001b[38;5;124mraise\u001b[39m\u001b[38;5;124m'\u001b[39m\u001b[38;5;124m.\u001b[39m\u001b[38;5;130;01m\\n\u001b[39;00m\u001b[38;5;130;01m\\n\u001b[39;00m\u001b[38;5;124m\"\u001b[39m\n\u001b[0;32m    365\u001b[0m         \u001b[38;5;124mf\u001b[39m\u001b[38;5;124m\"\u001b[39m\u001b[38;5;124mBelow are more details about the failures:\u001b[39m\u001b[38;5;130;01m\\n\u001b[39;00m\u001b[38;5;132;01m{\u001b[39;00mfit_errors_summary\u001b[38;5;132;01m}\u001b[39;00m\u001b[38;5;124m\"\u001b[39m\n\u001b[0;32m    366\u001b[0m     )\n\u001b[1;32m--> 367\u001b[0m     \u001b[38;5;28;01mraise\u001b[39;00m \u001b[38;5;167;01mValueError\u001b[39;00m(all_fits_failed_message)\n\u001b[0;32m    369\u001b[0m \u001b[38;5;28;01melse\u001b[39;00m:\n\u001b[0;32m    370\u001b[0m     some_fits_failed_message \u001b[38;5;241m=\u001b[39m (\n\u001b[0;32m    371\u001b[0m         \u001b[38;5;124mf\u001b[39m\u001b[38;5;124m\"\u001b[39m\u001b[38;5;130;01m\\n\u001b[39;00m\u001b[38;5;132;01m{\u001b[39;00mnum_failed_fits\u001b[38;5;132;01m}\u001b[39;00m\u001b[38;5;124m fits failed out of a total of \u001b[39m\u001b[38;5;132;01m{\u001b[39;00mnum_fits\u001b[38;5;132;01m}\u001b[39;00m\u001b[38;5;124m.\u001b[39m\u001b[38;5;130;01m\\n\u001b[39;00m\u001b[38;5;124m\"\u001b[39m\n\u001b[0;32m    372\u001b[0m         \u001b[38;5;124m\"\u001b[39m\u001b[38;5;124mThe score on these train-test partitions for these parameters\u001b[39m\u001b[38;5;124m\"\u001b[39m\n\u001b[1;32m   (...)\u001b[0m\n\u001b[0;32m    376\u001b[0m         \u001b[38;5;124mf\u001b[39m\u001b[38;5;124m\"\u001b[39m\u001b[38;5;124mBelow are more details about the failures:\u001b[39m\u001b[38;5;130;01m\\n\u001b[39;00m\u001b[38;5;132;01m{\u001b[39;00mfit_errors_summary\u001b[38;5;132;01m}\u001b[39;00m\u001b[38;5;124m\"\u001b[39m\n\u001b[0;32m    377\u001b[0m     )\n",
      "\u001b[1;31mValueError\u001b[0m: \nAll the 3 fits failed.\nIt is very likely that your model is misconfigured.\nYou can try to debug the error by setting error_score='raise'.\n\nBelow are more details about the failures:\n--------------------------------------------------------------------------------\n2 fits failed with the following error:\nTraceback (most recent call last):\n  File \"D:\\programs\\anaconda3\\lib\\site-packages\\sklearn\\model_selection\\_validation.py\", line 686, in _fit_and_score\n    estimator.fit(X_train, y_train, **fit_params)\n  File \"D:\\programs\\anaconda3\\lib\\site-packages\\sklearn\\discriminant_analysis.py\", line 575, in fit\n    X, y = self._validate_data(\n  File \"D:\\programs\\anaconda3\\lib\\site-packages\\sklearn\\base.py\", line 565, in _validate_data\n    X, y = check_X_y(X, y, **check_params)\n  File \"D:\\programs\\anaconda3\\lib\\site-packages\\sklearn\\utils\\validation.py\", line 1106, in check_X_y\n    X = check_array(\n  File \"D:\\programs\\anaconda3\\lib\\site-packages\\sklearn\\utils\\validation.py\", line 921, in check_array\n    _assert_all_finite(\n  File \"D:\\programs\\anaconda3\\lib\\site-packages\\sklearn\\utils\\validation.py\", line 161, in _assert_all_finite\n    raise ValueError(msg_err)\nValueError: Input X contains NaN.\nLinearDiscriminantAnalysis does not accept missing values encoded as NaN natively. For supervised learning, you might want to consider sklearn.ensemble.HistGradientBoostingClassifier and Regressor which accept missing values encoded as NaNs natively. Alternatively, it is possible to preprocess the data, for instance by using an imputer transformer in a pipeline or drop samples with missing values. See https://scikit-learn.org/stable/modules/impute.html You can find a list of all estimators that handle NaN values at the following page: https://scikit-learn.org/stable/modules/impute.html#estimators-that-handle-nan-values\n\n--------------------------------------------------------------------------------\n1 fits failed with the following error:\nTraceback (most recent call last):\n  File \"D:\\programs\\anaconda3\\lib\\site-packages\\sklearn\\model_selection\\_validation.py\", line 686, in _fit_and_score\n    estimator.fit(X_train, y_train, **fit_params)\n  File \"D:\\programs\\anaconda3\\lib\\site-packages\\sklearn\\discriminant_analysis.py\", line 575, in fit\n    X, y = self._validate_data(\n  File \"D:\\programs\\anaconda3\\lib\\site-packages\\sklearn\\base.py\", line 565, in _validate_data\n    X, y = check_X_y(X, y, **check_params)\n  File \"D:\\programs\\anaconda3\\lib\\site-packages\\sklearn\\utils\\validation.py\", line 1122, in check_X_y\n    y = _check_y(y, multi_output=multi_output, y_numeric=y_numeric, estimator=estimator)\n  File \"D:\\programs\\anaconda3\\lib\\site-packages\\sklearn\\utils\\validation.py\", line 1144, in _check_y\n    _assert_all_finite(y, input_name=\"y\", estimator_name=estimator_name)\n  File \"D:\\programs\\anaconda3\\lib\\site-packages\\sklearn\\utils\\validation.py\", line 161, in _assert_all_finite\n    raise ValueError(msg_err)\nValueError: Input y contains NaN.\n"
     ]
    }
   ],
   "source": [
    "from sklearn.discriminant_analysis import LinearDiscriminantAnalysis\n",
    "from sklearn.model_selection import KFold, cross_val_score\n",
    "\n",
    "data = df.values\n",
    "X, Y = data[:, :-1], data[:, -1]\n",
    "model = LinearDiscriminantAnalysis()\n",
    "cv = KFold(n_splits=3, shuffle=True, random_state=1)\n",
    "results = cross_val_score(model, X, Y, cv=cv, scoring='accuracy')\n",
    "print(f'Accuracy: {results.mean()}')"
   ]
  },
  {
   "cell_type": "markdown",
   "id": "7b23303f",
   "metadata": {},
   "source": [
    "但是，简单粗暴的删除行，会导致丢失很多样本，另一种方法是估算缺失值。"
   ]
  },
  {
   "cell_type": "markdown",
   "id": "4f4789fe",
   "metadata": {},
   "source": [
    "### 统计方法填补缺失值"
   ]
  },
  {
   "cell_type": "markdown",
   "id": "8cb7764f",
   "metadata": {},
   "source": [
    "#### Statistical Imputation"
   ]
  },
  {
   "cell_type": "markdown",
   "id": "6a43a499",
   "metadata": {},
   "source": [
    "一般可以使用以下几种值进行填补：\n",
    "- 列的均值\n",
    "- 列的中位数\n",
    "- 固定的模式值\n",
    "- 一个连续的值"
   ]
  },
  {
   "cell_type": "code",
   "execution_count": null,
   "id": "74128959",
   "metadata": {},
   "outputs": [],
   "source": [
    "import pandas as pd\n",
    "\n",
    "# 马绞痛数据集，默认的缺失值使用？标记\n",
    "df = pd.read_csv(\"horse-colic.csv\", header=None, na_values='?')\n",
    "df.head(5)"
   ]
  },
  {
   "cell_type": "markdown",
   "id": "0eba5904",
   "metadata": {},
   "source": [
    "查看每一列缺失值的个数以及占比："
   ]
  },
  {
   "cell_type": "code",
   "execution_count": null,
   "id": "18e9ead5",
   "metadata": {},
   "outputs": [],
   "source": [
    "for i in range(df.shape[1]):\n",
    "    n_miss = df.iloc[:, i].isnull().sum()\n",
    "    perc = n_miss / df.shape[0] * 100\n",
    "    print(\"> {:<2}, Missing: {:<4} ({:>5.2f}%)\".format(i, n_miss, perc))"
   ]
  },
  {
   "cell_type": "markdown",
   "id": "565be2fe",
   "metadata": {},
   "source": [
    "使用`SimpleImputer`填充，注意数据集的标签是第23列："
   ]
  },
  {
   "cell_type": "code",
   "execution_count": null,
   "id": "1d4c97a3",
   "metadata": {},
   "outputs": [],
   "source": [
    "import numpy as np\n",
    "from sklearn.impute import SimpleImputer\n",
    "\n",
    "df = pd.read_csv('horse-colic.csv', header=None, na_values='?')\n",
    "X, Y = df.drop(columns=23).values, df[23].values  # 注意drop默认是删除行而不是列\n",
    "print('Missing: {}'.format(sum(np.isnan(X).flatten())))\n",
    "\n",
    "imputer = SimpleImputer(strategy='mean')\n",
    "imputer.fit(X)\n",
    "X_trans = imputer.transform(X)\n",
    "print('Missing: {}'.format(sum(np.isnan(X_trans).flatten())))"
   ]
  },
  {
   "cell_type": "markdown",
   "id": "be2e8cfb",
   "metadata": {},
   "source": [
    "#### 模型评估"
   ]
  },
  {
   "cell_type": "markdown",
   "id": "e0213225",
   "metadata": {},
   "source": [
    "使用随机森林进行评估："
   ]
  },
  {
   "cell_type": "code",
   "execution_count": null,
   "id": "0c565846",
   "metadata": {},
   "outputs": [],
   "source": [
    "from sklearn.ensemble import RandomForestClassifier\n",
    "from sklearn.model_selection import cross_val_score, RepeatedStratifiedKFold\n",
    "from sklearn.pipeline import Pipeline\n",
    "\n",
    "model = RandomForestClassifier()\n",
    "imputer = SimpleImputer(strategy='mean')\n",
    "pipeline = Pipeline(steps=[('i', imputer), ('m', model)])\n",
    "cv = RepeatedStratifiedKFold(n_splits=10, n_repeats=3, random_state=1)\n",
    "scores = cross_val_score(pipeline, X, Y, scoring='accuracy', cv=cv, n_jobs=-1)\n",
    "print('Mean Accuracy: {:.3f} ({:.3f})'.format(np.mean(scores), np.std(scores)))"
   ]
  },
  {
   "cell_type": "markdown",
   "id": "c5885cd9",
   "metadata": {},
   "source": [
    "#### 比较不同的填补策略"
   ]
  },
  {
   "cell_type": "markdown",
   "id": "118354e9",
   "metadata": {},
   "source": [
    "分别使用`mean`,`median`,`most_frequent`, `constant`四种策略，注意`constant`表示用常数进行填补，默认为0，可以使用`fill_value`参数指定要填补的值："
   ]
  },
  {
   "cell_type": "code",
   "execution_count": null,
   "id": "55fff2fc",
   "metadata": {},
   "outputs": [],
   "source": [
    "import matplotlib.pyplot as plt\n",
    "\n",
    "strategies = ['mean', 'median', 'most_frequent', 'constant']\n",
    "\n",
    "results = []\n",
    "\n",
    "for s in strategies:\n",
    "    pipeline = Pipeline([('i', SimpleImputer(strategy=s)), ('m', RandomForestClassifier())])\n",
    "    cv = RepeatedStratifiedKFold(n_splits=10, n_repeats=3, random_state=1)\n",
    "    scores = cross_val_score(pipeline, X, Y, cv=cv, n_jobs=-1)\n",
    "    results.append(scores)\n",
    "    print('>{:<15} {:.3f} ({:.3f})'.format(s, np.mean(scores), np.std(scores)))\n",
    "    \n",
    "plt.boxplot(results, labels=strategies, showmeans=True);"
   ]
  },
  {
   "cell_type": "markdown",
   "id": "ab6c6682",
   "metadata": {},
   "source": [
    "#### 完整模型"
   ]
  },
  {
   "cell_type": "code",
   "execution_count": null,
   "id": "a4d3667d",
   "metadata": {},
   "outputs": [],
   "source": [
    "row = [\n",
    "    2, 1, 530101, 38.50, 66, 28, 3, 3, np.nan, 2, 5, 4, 4, np.nan, np.nan,\n",
    "    np.nan, 3, 5, 45.00, 8.40, np.nan, np.nan, 2, 11300, 0, 0, 2\n",
    "]\n",
    "\n",
    "pipeline = Pipeline([('i', SimpleImputer(strategy='constant')), ('m', RandomForestClassifier())])\n",
    "pipeline.fit(X, Y)\n",
    "yhat = pipeline.predict([row])\n",
    "print(f\"Predicted class: {yhat[0]}\")"
   ]
  },
  {
   "cell_type": "markdown",
   "id": "b6eb3cf6",
   "metadata": {},
   "source": [
    "### 使用KNN填补缺失值"
   ]
  },
  {
   "cell_type": "markdown",
   "id": "9ca84a0f",
   "metadata": {},
   "source": [
    "一般情况下，使用KNN进行填补的效果要好于使用均值填补或者使用常数（比如0）进行填补。"
   ]
  },
  {
   "cell_type": "markdown",
   "id": "00285c20",
   "metadata": {},
   "source": [
    "#### KNN Imputer"
   ]
  },
  {
   "cell_type": "markdown",
   "id": "6ac7ad34",
   "metadata": {},
   "source": [
    "KNN有几个超参：\n",
    "- n_neighbors: 邻居的个数，默认为5\n",
    "- metric: 距离的度量，默认为nan_euclidean，即欧几里得距离。\n",
    "- weights: 距离加权方式，默认为uniform，即不加权"
   ]
  },
  {
   "cell_type": "code",
   "execution_count": null,
   "id": "65e5cb40",
   "metadata": {},
   "outputs": [],
   "source": [
    "import numpy as np\n",
    "import pandas as pd\n",
    "from sklearn.impute import KNNImputer\n",
    "from sklearn.pipeline import Pipeline\n",
    "from sklearn.ensemble import RandomForestClassifier\n",
    "from sklearn.model_selection import RepeatedStratifiedKFold, cross_val_score\n",
    "\n",
    "df = pd.read_csv('horse-colic.csv', header=None, na_values='?')\n",
    "X, Y = df.drop(columns=23).values, df[23].values  # 注意drop默认是删除行而不是列\n",
    "model = RandomForestClassifier()\n",
    "imputer = KNNImputer()\n",
    "pipeline = Pipeline([('i', imputer), ('m', model)])\n",
    "cv = RepeatedStratifiedKFold(n_splits=10, n_repeats=3, random_state=1)\n",
    "scores = cross_val_score(pipeline, X, Y, scoring='accuracy', cv=cv, n_jobs=-1)\n",
    "print('Mean Accuracy: {:.3f} ({:.3f})'.format(np.mean(scores), np.std(scores)))"
   ]
  },
  {
   "cell_type": "markdown",
   "id": "fd09d810",
   "metadata": {},
   "source": [
    "#### 比较不同的n_neighbors"
   ]
  },
  {
   "cell_type": "markdown",
   "id": "79ad7a4d",
   "metadata": {},
   "source": [
    "这个数据集表现最好的`n_neighbors`是5，但是还是比使用常数0填补要差一些。"
   ]
  },
  {
   "cell_type": "code",
   "execution_count": null,
   "id": "d1e77f82",
   "metadata": {},
   "outputs": [],
   "source": [
    "results = []\n",
    "strategies = [1, 3, 5, 7, 9, 15, 18, 21]\n",
    "\n",
    "for i in strategies:\n",
    "    pipeline = Pipeline([('i', KNNImputer(n_neighbors=i)), ('m', RandomForestClassifier())])\n",
    "    cv = RepeatedStratifiedKFold(n_splits=10, n_repeats=3, random_state=1)\n",
    "    scores = cross_val_score(pipeline, X, Y, scoring='accuracy', cv=cv, n_jobs=-1)\n",
    "    results.append(scores)    \n",
    "    print('>{:<3} {:.3f} ({:.3f})'.format(i, np.mean(scores), np.std(scores)))\n",
    "    \n",
    "plt.boxplot(results, labels=strategies, showmeans=True);"
   ]
  },
  {
   "cell_type": "markdown",
   "id": "732f5812",
   "metadata": {},
   "source": [
    "#### 完整模型"
   ]
  },
  {
   "cell_type": "code",
   "execution_count": null,
   "id": "5d0089c3",
   "metadata": {},
   "outputs": [],
   "source": [
    "row = [\n",
    "    2, 1, 530101, 38.50, 66, 28, 3, 3, np.nan, 2, 5, 4, 4, np.nan, np.nan,\n",
    "    np.nan, 3, 5, 45.00, 8.40, np.nan, np.nan, 2, 11300, 0, 0, 2\n",
    "]\n",
    "\n",
    "pipeline = Pipeline([('i', KNNImputer(n_neighbors=5)), ('m', RandomForestClassifier())])\n",
    "pipeline.fit(X, Y)\n",
    "yhat = pipeline.predict([row])\n",
    "print(f\"Predicted class: {yhat[0]}\")"
   ]
  },
  {
   "cell_type": "markdown",
   "id": "8ca13aa8",
   "metadata": {},
   "source": [
    "### 使用迭代填补缺失值"
   ]
  },
  {
   "cell_type": "markdown",
   "id": "14141ebb",
   "metadata": {},
   "source": [
    "#### IterativeImputer"
   ]
  },
  {
   "cell_type": "markdown",
   "id": "962bf867",
   "metadata": {},
   "source": [
    "IterativeImputer没有弄懂它的原理是什么，书上介绍的也不详细。单纯从介绍来看，效果应该最好。这个模块还在实验阶段，要使用要先导入`enable_iterative_imputer`。\n",
    "\n",
    "- [官方文档](https://sklearn.apachecn.org/docs/master/41.html?h=iterativei)\n",
    "- [Using scikit-learn’s Iterative Imputer](https://medium.com/analytics-vidhya/using-scikit-learns-iterative-imputer-694c3cca34de)"
   ]
  },
  {
   "cell_type": "code",
   "execution_count": null,
   "id": "a4cd09d3",
   "metadata": {},
   "outputs": [],
   "source": [
    "import numpy as np\n",
    "import pandas as pd\n",
    "from sklearn.experimental import enable_iterative_imputer\n",
    "from sklearn.impute import IterativeImputer\n",
    "from sklearn.pipeline import Pipeline\n",
    "from sklearn.ensemble import RandomForestClassifier\n",
    "from sklearn.model_selection import RepeatedStratifiedKFold, cross_val_score\n",
    "\n",
    "df = pd.read_csv('horse-colic.csv', header=None, na_values='?')\n",
    "X, Y = df.drop(columns=23).values, df[23].values  # 注意drop默认是删除行而不是列\n",
    "model = RandomForestClassifier()\n",
    "imputer = IterativeImputer()\n",
    "pipeline = Pipeline([('i', imputer), ('m', model)])\n",
    "cv = RepeatedStratifiedKFold(n_splits=10, n_repeats=3, random_state=1)\n",
    "scores = cross_val_score(pipeline, X, Y, scoring='accuracy', cv=cv, n_jobs=-1)\n",
    "print('Mean Accuracy: {:.3f} ({:.3f})'.format(np.mean(scores), np.std(scores)))"
   ]
  },
  {
   "cell_type": "markdown",
   "id": "4135da23",
   "metadata": {},
   "source": [
    "#### 比较不同的imputation_order"
   ]
  },
  {
   "cell_type": "markdown",
   "id": "a6321fd9",
   "metadata": {},
   "source": [
    "`IterativeImputer`有个`imputation_order`的超参，设置不同的值查看效果。但是由于模型选择的是随机森林，每次的结果区别都较大，如果采用逻辑回归等简单的模型，结果可以固定。"
   ]
  },
  {
   "cell_type": "code",
   "execution_count": null,
   "id": "2826e936",
   "metadata": {},
   "outputs": [],
   "source": [
    "results = []\n",
    "strategies = ['ascending', 'descending', 'roman', 'arabic', 'random']\n",
    "\n",
    "for s in strategies:\n",
    "    pipeline = Pipeline([('i', IterativeImputer(imputation_order=s)), ('m', RandomForestClassifier())])\n",
    "    cv = RepeatedStratifiedKFold(n_splits=10, n_repeats=3, random_state=1)\n",
    "    scores = cross_val_score(pipeline, X, Y, scoring='accuracy', cv=cv, n_jobs=-1)\n",
    "    results.append(scores)    \n",
    "    print('>{:<10} {:.3f} ({:.3f})'.format(s, np.mean(scores), np.std(scores)))\n",
    "    \n",
    "plt.boxplot(results, labels=strategies, showmeans=True);"
   ]
  },
  {
   "cell_type": "markdown",
   "id": "aa958dc9",
   "metadata": {},
   "source": [
    "#### 比较不同的max_iter"
   ]
  },
  {
   "cell_type": "markdown",
   "id": "08a86501",
   "metadata": {},
   "source": [
    "书上使用的是随机森林模型，但是每次生成的结果都有较大差异。"
   ]
  },
  {
   "cell_type": "code",
   "execution_count": null,
   "id": "1758913e",
   "metadata": {},
   "outputs": [],
   "source": [
    "results = []\n",
    "strategies = list(range(1, 21))\n",
    "\n",
    "for s in strategies:\n",
    "    pipeline = Pipeline([('i', IterativeImputer(max_iter=s)), ('m', RandomForestClassifier())])\n",
    "    cv = RepeatedStratifiedKFold(n_splits=10, n_repeats=3, random_state=1)\n",
    "    scores = cross_val_score(pipeline, X, Y, scoring='accuracy', cv=cv, n_jobs=-1)\n",
    "    results.append(scores)    \n",
    "    print('>{:<10} {:.3f} ({:.3f})'.format(s, np.mean(scores), np.std(scores)))\n",
    "    \n",
    "plt.boxplot(results, labels=strategies, showmeans=True);"
   ]
  },
  {
   "cell_type": "markdown",
   "id": "b00669c4",
   "metadata": {},
   "source": [
    "#### 完整模型"
   ]
  },
  {
   "cell_type": "code",
   "execution_count": null,
   "id": "7fdb4e55",
   "metadata": {},
   "outputs": [],
   "source": [
    "row = [\n",
    "    2, 1, 530101, 38.50, 66, 28, 3, 3, np.nan, 2, 5, 4, 4, np.nan, np.nan,\n",
    "    np.nan, 3, 5, 45.00, 8.40, np.nan, np.nan, 2, 11300, 0, 0, 2\n",
    "]\n",
    "\n",
    "pipeline = Pipeline([('i', IterativeImputer()), ('m', RandomForestClassifier())])\n",
    "pipeline.fit(X, Y)\n",
    "yhat = pipeline.predict([row])\n",
    "print(f\"Predicted class: {yhat[0]}\")"
   ]
  },
  {
   "cell_type": "markdown",
   "id": "d4c5c36e",
   "metadata": {},
   "source": [
    "## 特征选择"
   ]
  },
  {
   "cell_type": "markdown",
   "id": "e9be3c2d",
   "metadata": {},
   "source": [
    "### 什么是特征选择"
   ]
  },
  {
   "cell_type": "markdown",
   "id": "e5ea5abc",
   "metadata": {},
   "source": [
    "#### 特征选择"
   ]
  },
  {
   "cell_type": "markdown",
   "id": "96485bfd",
   "metadata": {},
   "source": [
    "特征选择的方法也可以分成监督和非监督方法。监督方法是利用输入特征和标签之间的关系进行特征选择，非监督方法则是利用特征之间的相关性或者特征方差之类的统计学方法进行选择。\n",
    "\n",
    "监督方法又分为以下几种：\n",
    "- Intrinsic（本质的，固有的）：利用某些自动会进行特征选择的算法，比如回归中的L1正则、决策树、随机森林。\n",
    "- Filter（过滤器）：基于特征和标签之间的关系进行选择。\n",
    "- Wrapper（包装器）：根据模型的性能表现进行选择。\n",
    "\n",
    "另外，降维和特征选择不同，降维产生了全新的输入数据，因此，降维是特征选择的一种替代，而不是一种特征选择。"
   ]
  },
  {
   "cell_type": "markdown",
   "id": "b1a1dae3",
   "metadata": {},
   "source": [
    "#### 基于统计的filter方法"
   ]
  },
  {
   "attachments": {
    "%E5%9B%BE%E7%89%87.png": {
     "image/png": "[encoded data removed]"
    }
   },
   "cell_type": "markdown",
   "id": "0b1780e2",
   "metadata": {},
   "source": [
    "使用统计方法进行特征选择一般以输入特征和输出标签之间的相关性作为基准，大部分方法是单变量的，即一次只看一个输入特征与输出标签之间的关系，副作用就是选择出来的特征有可能是冗余的，也就是说会导致共线性问题。\n",
    "\n",
    "如何选择统计方法可以参考下图：\n",
    "![%E5%9B%BE%E7%89%87.png](attachment:%E5%9B%BE%E7%89%87.png)"
   ]
  },
  {
   "cell_type": "markdown",
   "id": "3d23654c",
   "metadata": {},
   "source": [
    "#### wrapper和intrinsic方法"
   ]
  },
  {
   "cell_type": "markdown",
   "id": "65835f4a",
   "metadata": {},
   "source": [
    "统计方法需要一列一列的计算特征和标签之间的关系，也就是前面说的filter过滤器方法。\n",
    "\n",
    "包装器方法通过整体考虑输入特征对模型性能的影响来进行特征选择。比如：\n",
    "1. Step-Wise Models\n",
    "2. RFE。\n",
    "\n",
    "最后一种intrinsic方法是使用一个模型对输入特征进行评分，并使用基于过滤器的选择方法，也就是说模型本身可以对特征进行打分，这类模型有：\n",
    "1. 决策树\n",
    "2. 随机森林\n",
    "3. bagged decision trees\n",
    "4. 梯度提升"
   ]
  },
  {
   "cell_type": "markdown",
   "id": "8f96f43d",
   "metadata": {},
   "source": [
    "#### 常见问题"
   ]
  },
  {
   "cell_type": "markdown",
   "id": "6940249e",
   "metadata": {},
   "source": [
    "Q1：如何过滤输入特征？  \n",
    "有两种主要的过滤输入变量的技术。第一种方法是根据分数对所有输入变量进行排序，并选择分数最大的k-top输入变量。第二种方法是将分数转换为最大分数的百分比，并选择所有高于最小百分比的特征。这两种方法都可以在scikit-learn库中找到：\n",
    "- SelectKBest\n",
    "- SelectPercentile"
   ]
  },
  {
   "cell_type": "markdown",
   "id": "8e64d164",
   "metadata": {},
   "source": [
    "### 如何选择类别特征"
   ]
  },
  {
   "cell_type": "markdown",
   "id": "631f8b7b",
   "metadata": {},
   "source": [
    "输入特征和输出标签都是数字的化，最常用的就是根据皮尔逊相关系数来进行特征选择。但是如果输入和输出都是类别数据的话，常用的统计方法有：\n",
    "- 卡方检验\n",
    "- mutual information(互信息)"
   ]
  },
  {
   "cell_type": "markdown",
   "id": "644acc14",
   "metadata": {},
   "source": [
    "#### 读取数据"
   ]
  },
  {
   "cell_type": "code",
   "execution_count": null,
   "id": "48d50a7d",
   "metadata": {},
   "outputs": [],
   "source": [
    "import pandas as pd\n",
    "from sklearn.model_selection import train_test_split\n",
    "\n",
    "\n",
    "df = pd.read_csv('breast-cancer.csv', header=None)\n",
    "df.head(5)"
   ]
  },
  {
   "cell_type": "markdown",
   "id": "d6afe689",
   "metadata": {},
   "source": [
    "首先查看是否有重复的行，并删除："
   ]
  },
  {
   "cell_type": "code",
   "execution_count": null,
   "id": "0cd15f54",
   "metadata": {},
   "outputs": [],
   "source": [
    "# df.duplicated().sum()"
   ]
  },
  {
   "cell_type": "code",
   "execution_count": null,
   "id": "26807efe",
   "metadata": {},
   "outputs": [],
   "source": [
    "# df.drop_duplicates(inplace=True) # 删除所有重复行"
   ]
  },
  {
   "cell_type": "markdown",
   "id": "037936d8",
   "metadata": {},
   "source": [
    "<font color='red'>**疑问：另外类别数据的缺失值如何处理？sklean的imputer只能针对数字类型。而如果通过OrdinalEncoder编码，则缺失值会变成一类。**</font>\n",
    "\n",
    "查看是否有缺失值，发现第4列，第7列有缺失值："
   ]
  },
  {
   "cell_type": "code",
   "execution_count": null,
   "id": "3e22e384",
   "metadata": {},
   "outputs": [],
   "source": [
    "# df.info()"
   ]
  },
  {
   "cell_type": "markdown",
   "id": "528298b8",
   "metadata": {},
   "source": [
    "缺失值直接删除以后，后面的类别转换会报错，暂时注释掉。"
   ]
  },
  {
   "cell_type": "code",
   "execution_count": null,
   "id": "deabeec1",
   "metadata": {},
   "outputs": [],
   "source": [
    "# df.shape\n",
    "\n",
    "# df.dropna(inplace=True)\n",
    "# df.shape"
   ]
  },
  {
   "cell_type": "markdown",
   "id": "ecb0fc8e",
   "metadata": {},
   "source": [
    "将数据划分为训练集和测试集："
   ]
  },
  {
   "cell_type": "code",
   "execution_count": null,
   "id": "1bf0c41e",
   "metadata": {},
   "outputs": [],
   "source": [
    "data = df.values\n",
    "X = data[:, :-1]\n",
    "Y = data[:, -1]\n",
    "X = X.astype(str)\n",
    "\n",
    "X_train, X_test, Y_train, Y_test = train_test_split(X, Y, test_size=0.33, random_state=1)\n",
    "print(f'Train {X_train.shape}, {Y_train.shape}')\n",
    "print(f'Test  {X_test.shape}, {Y_test.shape}')"
   ]
  },
  {
   "cell_type": "markdown",
   "id": "1921dcc8",
   "metadata": {},
   "source": [
    "可见，特征全部都是类别数据，可以使用sklearn的`OrdinalEncoder`方法把字符串类别全部转换成整数，注意`OrdinalEncoder`会把字符串转换为有序的整数，如果类别本身是无序的，此时会人为的增加信息："
   ]
  },
  {
   "cell_type": "code",
   "execution_count": null,
   "id": "da9961e3",
   "metadata": {},
   "outputs": [],
   "source": [
    "from sklearn.preprocessing import OrdinalEncoder\n",
    "\n",
    "oe = OrdinalEncoder()\n",
    "oe.fit(X_train)  # 注意，原始数据中是有缺失值的，在进行编码的时候，缺失值成了单独的一类\n",
    "X_train_enc, X_test_enc = oe.transform(X_train), oe.transform(X_test)"
   ]
  },
  {
   "cell_type": "markdown",
   "id": "91bdd5e1",
   "metadata": {},
   "source": [
    "标签的编码使用`LabelEncoder`:"
   ]
  },
  {
   "cell_type": "code",
   "execution_count": null,
   "id": "b77f1777",
   "metadata": {},
   "outputs": [],
   "source": [
    "from sklearn.preprocessing import LabelEncoder\n",
    "\n",
    "le = LabelEncoder()\n",
    "le.fit(Y_train)\n",
    "Y_train_enc, Y_test_enc = le.transform(Y_train), le.transform(Y_test)"
   ]
  },
  {
   "cell_type": "markdown",
   "id": "a8640bde",
   "metadata": {},
   "source": [
    "#### 卡方特征选择"
   ]
  },
  {
   "cell_type": "markdown",
   "id": "b9cff82c",
   "metadata": {},
   "source": [
    "卡方特征选择的原理是利用统计中的卡方检验查看特征和标签是否是独立的，完全独立的特征则被删除。注意卡方检验需要有3个或3个以上的特征："
   ]
  },
  {
   "cell_type": "code",
   "execution_count": null,
   "id": "9d593a78",
   "metadata": {},
   "outputs": [],
   "source": [
    "from sklearn.feature_selection import chi2, SelectKBest\n",
    "\n",
    "fs = SelectKBest(score_func=chi2, k='all')\n",
    "fs.fit(X_train_enc, Y_train_enc)  # 注意，这种方法是监督的，因此fit的时候要传入标签值\n",
    "X_train_fs = fs.transform(X_train_enc)\n",
    "X_test_fs = fs.transform(X_test_enc) # 测试集也要记得删除相应的特征"
   ]
  },
  {
   "cell_type": "markdown",
   "id": "05e59dbe",
   "metadata": {},
   "source": [
    "打印每一个特征的分数："
   ]
  },
  {
   "cell_type": "code",
   "execution_count": null,
   "id": "7b699fbb",
   "metadata": {},
   "outputs": [],
   "source": [
    "for idx, score in enumerate(fs.scores_):\n",
    "    print(\"Feature {}: {:>8.3f}\".format(idx, score))"
   ]
  },
  {
   "cell_type": "code",
   "execution_count": null,
   "id": "4eb8c440",
   "metadata": {
    "scrolled": true
   },
   "outputs": [],
   "source": [
    "import matplotlib.pyplot as plt\n",
    "\n",
    "plt.bar(range(len(fs.scores_)), fs.scores_);"
   ]
  },
  {
   "cell_type": "markdown",
   "id": "53da21d4",
   "metadata": {},
   "source": [
    "另外可以看p值，p值低说明原假设-即特征和标签无关-的可能性越低，也就是说p值越低特征和标签之间越相关："
   ]
  },
  {
   "cell_type": "code",
   "execution_count": null,
   "id": "93b30f71",
   "metadata": {},
   "outputs": [],
   "source": [
    "for idx, score in enumerate(fs.pvalues_):\n",
    "    print(\"Feature {}: {:>8.3f}\".format(idx, score))"
   ]
  },
  {
   "cell_type": "markdown",
   "id": "1d50d8cd",
   "metadata": {},
   "source": [
    "#### 互信息特征选择"
   ]
  },
  {
   "cell_type": "markdown",
   "id": "158a0d6d",
   "metadata": {},
   "source": [
    "互信息就是信息增益的另一种叫法，在决策树算法中，特征和标签之间就叫信息增益，在特征选择中，特征和特征之间就叫互信息。\n",
    "\n",
    "<font color='red'>**每一次运行，得分竟然是不同的，意味着每次选择的特征都是不同的？**</font>"
   ]
  },
  {
   "cell_type": "code",
   "execution_count": null,
   "id": "202e5a0a",
   "metadata": {},
   "outputs": [],
   "source": [
    "from sklearn.feature_selection import mutual_info_classif, SelectKBest\n",
    "\n",
    "fs = SelectKBest(score_func=mutual_info_classif, k='all')\n",
    "fs.fit(X_train_enc, Y_train_enc)  # 注意，这种方法是监督的，因此fit的时候要传入标签值\n",
    "X_train_fs = fs.transform(X_train_enc)\n",
    "X_test_fs = fs.transform(X_test_enc) # 测试集也要记得删除相应的特征\n",
    "\n",
    "for idx, score in enumerate(fs.scores_):\n",
    "    print(\"Feature {}: {:>8.3f}\".format(idx, score))"
   ]
  },
  {
   "cell_type": "code",
   "execution_count": null,
   "id": "8eea30c5",
   "metadata": {},
   "outputs": [],
   "source": [
    "import matplotlib.pyplot as plt\n",
    "\n",
    "plt.bar(range(len(fs.scores_)), fs.scores_);"
   ]
  },
  {
   "cell_type": "markdown",
   "id": "b689162f",
   "metadata": {},
   "source": [
    "#### 使用选择的特征建模"
   ]
  },
  {
   "cell_type": "markdown",
   "id": "3b869384",
   "metadata": {},
   "source": [
    "首先不使用特征选择进行建模："
   ]
  },
  {
   "cell_type": "code",
   "execution_count": null,
   "id": "4ea1469b",
   "metadata": {},
   "outputs": [],
   "source": [
    "from sklearn.linear_model import LogisticRegression\n",
    "from sklearn.metrics import accuracy_score\n",
    "\n",
    "model = LogisticRegression()\n",
    "model.fit(X_train_enc, Y_train_enc)\n",
    "yhat = model.predict(X_test_enc)\n",
    "accuracy = accuracy_score(Y_test_enc, yhat)\n",
    "print(\"Accuracy: {:.2f}%\".format(accuracy * 100))"
   ]
  },
  {
   "cell_type": "markdown",
   "id": "501306eb",
   "metadata": {},
   "source": [
    "使用卡方进行特征选择建模："
   ]
  },
  {
   "cell_type": "code",
   "execution_count": null,
   "id": "a2ec6dee",
   "metadata": {},
   "outputs": [],
   "source": [
    "from sklearn.feature_selection import chi2, SelectKBest\n",
    "\n",
    "fs = SelectKBest(score_func=chi2, k=4)  # 选择4个特征\n",
    "fs.fit(X_train_enc, Y_train_enc)\n",
    "X_train_fs = fs.transform(X_train_enc)\n",
    "X_test_fs = fs.transform(X_test_enc)\n",
    "\n",
    "model = LogisticRegression()\n",
    "model.fit(X_train_fs, Y_train_enc)\n",
    "yhat = model.predict(X_test_fs)\n",
    "accuracy = accuracy_score(Y_test_enc, yhat)\n",
    "print(\"Accuracy: {:.2f}%\".format(accuracy * 100))"
   ]
  },
  {
   "cell_type": "markdown",
   "id": "32d657b2",
   "metadata": {},
   "source": [
    "使用互信息进行特征选择建模，实际上，互信息选择的特征每次都不同，导致模型每次的结果也不同："
   ]
  },
  {
   "cell_type": "code",
   "execution_count": null,
   "id": "1bae8fc7",
   "metadata": {},
   "outputs": [],
   "source": [
    "from sklearn.feature_selection import mutual_info_classif, SelectKBest\n",
    "\n",
    "fs = SelectKBest(score_func=mutual_info_classif, k=4)  # 选择4个特征\n",
    "fs.fit(X_train_enc, Y_train_enc)\n",
    "X_train_fs = fs.transform(X_train_enc)\n",
    "X_test_fs = fs.transform(X_test_enc)\n",
    "\n",
    "model = LogisticRegression()\n",
    "model.fit(X_train_fs, Y_train_enc)\n",
    "yhat = model.predict(X_test_fs)\n",
    "accuracy = accuracy_score(Y_test_enc, yhat)\n",
    "print(\"Accuracy: {:.2f}%\".format(accuracy * 100))"
   ]
  },
  {
   "cell_type": "markdown",
   "id": "e3cd099c",
   "metadata": {},
   "source": [
    "### 如何选择数字特征"
   ]
  },
  {
   "cell_type": "markdown",
   "id": "e184e05b",
   "metadata": {},
   "source": [
    "#### 读取数据"
   ]
  },
  {
   "cell_type": "code",
   "execution_count": null,
   "id": "65062ca6",
   "metadata": {},
   "outputs": [],
   "source": [
    "import pandas as pd\n",
    "from sklearn.model_selection import train_test_split\n",
    "\n",
    "df = pd.read_csv(\"pima-indians-diabetes.csv\", header=None)\n",
    "df.head(5)"
   ]
  },
  {
   "cell_type": "code",
   "execution_count": null,
   "id": "40b37bb3",
   "metadata": {},
   "outputs": [],
   "source": [
    "data = df.values\n",
    "X, y = data[:, :-1], data[:, -1]\n",
    "X_train, X_test, y_train, y_test = train_test_split(X, y, test_size=0.33, shuffle=True, random_state=1)\n",
    "print('Train', X_train.shape, y_train.shape)\n",
    "print('Test', X_test.shape, y_test.shape)"
   ]
  },
  {
   "cell_type": "markdown",
   "id": "fd6eda6a",
   "metadata": {},
   "source": [
    "#### ANOVA F-test特征选择"
   ]
  },
  {
   "cell_type": "markdown",
   "id": "8de3e4e4",
   "metadata": {},
   "source": [
    "方差分析(ANOVA)是方差分析的首字母缩写，是一种参数统计假设检验。重要的是，当一个变量是数字变量而一个是分类变量时，就可以使用方差分析。可汗学院的统计学课程有3节课是专门介绍方差分析的。"
   ]
  },
  {
   "cell_type": "code",
   "execution_count": null,
   "id": "71be58b1",
   "metadata": {},
   "outputs": [],
   "source": [
    "from sklearn.feature_selection import f_classif, SelectKBest\n",
    "\n",
    "fs = SelectKBest(score_func=f_classif, k='all')\n",
    "fs.fit(X_train, y_train)\n",
    "X_train_fs, X_test_fs = fs.transform(X_train), fs.transform(X_test)\n",
    "\n",
    "for idx, score in enumerate(fs.scores_):\n",
    "    print(\"Feature {}: {:>8.3f}\".format(idx, score))"
   ]
  },
  {
   "cell_type": "code",
   "execution_count": null,
   "id": "9f1261c1",
   "metadata": {},
   "outputs": [],
   "source": [
    "import matplotlib.pyplot as plt\n",
    "\n",
    "plt.bar(range(len(fs.scores_)), fs.scores_);"
   ]
  },
  {
   "cell_type": "markdown",
   "id": "bb2bbe47",
   "metadata": {},
   "source": [
    "#### 互信息特征选择"
   ]
  },
  {
   "cell_type": "markdown",
   "id": "a2483c0c",
   "metadata": {},
   "source": [
    "互信息每次选择的结果都不相同，且代码和类别数据完全相同，这里省略。"
   ]
  },
  {
   "cell_type": "markdown",
   "id": "a120e7b9",
   "metadata": {},
   "source": [
    "#### 使用选择的特征建模"
   ]
  },
  {
   "cell_type": "markdown",
   "id": "3bd1a7e4",
   "metadata": {},
   "source": [
    "首先不使用特征选择进行建模："
   ]
  },
  {
   "cell_type": "code",
   "execution_count": null,
   "id": "8eec4926",
   "metadata": {},
   "outputs": [],
   "source": [
    "from sklearn.linear_model import LogisticRegression\n",
    "from sklearn.metrics import accuracy_score\n",
    "\n",
    "model = LogisticRegression(solver='liblinear')\n",
    "model.fit(X_train, y_train)\n",
    "yhat = model.predict(X_test)\n",
    "accuracy = accuracy_score(y_test, yhat)\n",
    "print(\"Accuracy: {:.2f}%\".format(accuracy * 100))"
   ]
  },
  {
   "cell_type": "markdown",
   "id": "817eafba",
   "metadata": {},
   "source": [
    "使用特征选择进行建模："
   ]
  },
  {
   "cell_type": "code",
   "execution_count": null,
   "id": "72cd41da",
   "metadata": {},
   "outputs": [],
   "source": [
    "from sklearn.linear_model import LogisticRegression\n",
    "from sklearn.metrics import accuracy_score\n",
    "from sklearn.feature_selection import f_classif, SelectKBest\n",
    "\n",
    "fs = SelectKBest(score_func=f_classif, k=4)\n",
    "fs.fit(X_train, y_train)\n",
    "X_train_fs, X_test_fs = fs.transform(X_train), fs.transform(X_test)\n",
    "\n",
    "model = LogisticRegression(solver='liblinear')\n",
    "model.fit(X_train_fs, y_train)\n",
    "yhat = model.predict(X_test_fs)\n",
    "accuracy = accuracy_score(y_test, yhat)\n",
    "print(\"Accuracy: {:.2f}%\".format(accuracy * 100))"
   ]
  },
  {
   "cell_type": "markdown",
   "id": "caaf3286",
   "metadata": {},
   "source": [
    "#### 优化特征数量"
   ]
  },
  {
   "cell_type": "markdown",
   "id": "01415b75",
   "metadata": {},
   "source": [
    "组合使用`pipeline`，`GridSearchCV`找出最优的特征数量："
   ]
  },
  {
   "cell_type": "code",
   "execution_count": null,
   "id": "66be954d",
   "metadata": {},
   "outputs": [],
   "source": [
    "from sklearn.model_selection import GridSearchCV, RepeatedStratifiedKFold\n",
    "from sklearn.pipeline import Pipeline\n",
    "from sklearn.feature_selection import f_classif, SelectKBest\n",
    "\n",
    "fs = SelectKBest(score_func=f_classif)  # k参数不设置，因为这是我们需要通过GridSearchCV查找的参数\n",
    "model = LogisticRegression(solver='liblinear')\n",
    "pipeline = Pipeline([('anova', fs), ('lr', model)])\n",
    "\n",
    "cv = RepeatedStratifiedKFold(n_splits=10, n_repeats=3, random_state=1)\n",
    "grid_params = {}\n",
    "grid_params['anova__k'] = [i + 1 for i in range(X_train.shape[1])]\n",
    "search = GridSearchCV(pipeline,\n",
    "                      grid_params,\n",
    "                      scoring='accuracy',\n",
    "                      cv=cv,\n",
    "                      n_jobs=-1)\n",
    "results = search.fit(X_train, y_train)\n",
    "\n",
    "print(\"Best Mean Accuracy: {:.3f}\".format(results.best_score_)) \n",
    "print(\"Best Config: {}\".format(results.best_params_))"
   ]
  },
  {
   "cell_type": "markdown",
   "id": "65684e19",
   "metadata": {},
   "source": [
    "可以使用`cross_val_score`把每一次选择的结果打印出来："
   ]
  },
  {
   "cell_type": "code",
   "execution_count": null,
   "id": "aab7af9d",
   "metadata": {},
   "outputs": [],
   "source": [
    "from sklearn.model_selection import cross_val_score\n",
    "import numpy as np\n",
    "\n",
    "results = []\n",
    "num_features = [i + 1 for i in range(X_train.shape[1])]\n",
    "\n",
    "for k in num_features:\n",
    "    fs = SelectKBest(score_func=f_classif, k=k)\n",
    "    model = LogisticRegression(solver='liblinear')\n",
    "    pipeline = Pipeline([('anova', fs), ('lr', model)])\n",
    "    cv = RepeatedStratifiedKFold(n_splits=10, n_repeats=3, random_state=1)    \n",
    "    scores = cross_val_score(pipeline, X_train, y_train, cv=cv, scoring='accuracy')\n",
    "    results.append(scores)\n",
    "    print(\">{:<3} {:.3f} ({:.3f})\".format(k, np.mean(scores), np.std(scores)))"
   ]
  },
  {
   "cell_type": "markdown",
   "id": "89577d57",
   "metadata": {},
   "source": [
    "画出结果的箱线图："
   ]
  },
  {
   "cell_type": "code",
   "execution_count": null,
   "id": "aac97a46",
   "metadata": {},
   "outputs": [],
   "source": [
    "import matplotlib.pyplot as plt\n",
    "\n",
    "plt.boxplot(results, labels=num_features, showmeans=True);"
   ]
  },
  {
   "cell_type": "markdown",
   "id": "4f06d512",
   "metadata": {},
   "source": [
    "### 回归模型如何选择特征"
   ]
  },
  {
   "cell_type": "markdown",
   "id": "b0195953",
   "metadata": {},
   "source": [
    "#### 回归数据集"
   ]
  },
  {
   "cell_type": "code",
   "execution_count": null,
   "id": "1a2049ce",
   "metadata": {},
   "outputs": [],
   "source": [
    "from sklearn.datasets import make_regression\n",
    "from sklearn.model_selection import train_test_split\n",
    "\n",
    "X, y = make_regression(n_samples=1000, n_features=100, n_informative=10, noise=0.1, random_state=1)\n",
    "X_train, X_test, y_train, y_test = train_test_split(X, y, test_size=0.33, random_state=1)\n",
    "print(\"Train\", X_train.shape, y_train.shape)\n",
    "print(\"Test\", X_test.shape, y_test.shape)"
   ]
  },
  {
   "cell_type": "markdown",
   "id": "852bf20f",
   "metadata": {},
   "source": [
    "#### 相关系数特征选择"
   ]
  },
  {
   "cell_type": "markdown",
   "id": "8f7ad110",
   "metadata": {},
   "source": [
    "sklearn的`f_regression`实际上是根据特征和标签之间的相关性来进行选择，不同于相关系数-1到1，sklearn对结果进行了转换，score越大越好："
   ]
  },
  {
   "cell_type": "code",
   "execution_count": null,
   "id": "6cd4ccee",
   "metadata": {},
   "outputs": [],
   "source": [
    "from sklearn.feature_selection import SelectKBest, f_regression\n",
    "\n",
    "fs = SelectKBest(score_func=f_regression, k='all')\n",
    "fs.fit(X_train, y_train)\n",
    "X_train_fs = fs.transform(X_train)\n",
    "X_test_fs = fs.transform(X_test)\n",
    "\n",
    "# 获取所有特征的分数，并进行排序\n",
    "features = [(k, v) for k, v in enumerate(fs.scores_)]\n",
    "features.sort(key=lambda item: item[1], reverse=True)\n",
    "\n",
    "for idx, score in features[:10]:\n",
    "    print('Feature {:>2}: {:.3f}'.format(idx, score))"
   ]
  },
  {
   "cell_type": "code",
   "execution_count": null,
   "id": "f4a1a511",
   "metadata": {},
   "outputs": [],
   "source": [
    "import matplotlib.pyplot as plt\n",
    "\n",
    "plt.bar([i for i in range(len(fs.scores_))], fs.scores_);"
   ]
  },
  {
   "cell_type": "markdown",
   "id": "9f1a147a",
   "metadata": {},
   "source": [
    "#### 互信息特征选择"
   ]
  },
  {
   "cell_type": "markdown",
   "id": "99b3bf38",
   "metadata": {},
   "source": [
    "互信息每次选择的结果都不相同，还未完全理解，这里省略。"
   ]
  },
  {
   "cell_type": "markdown",
   "id": "b833b1dd",
   "metadata": {},
   "source": [
    "#### 使用选择的特征建模"
   ]
  },
  {
   "cell_type": "code",
   "execution_count": null,
   "id": "19fdffe9",
   "metadata": {},
   "outputs": [],
   "source": [
    "from sklearn.metrics import mean_absolute_error\n",
    "from sklearn.linear_model import LinearRegression\n",
    "\n",
    "model = LinearRegression()\n",
    "model.fit(X_train, y_train)\n",
    "yhat = model.predict(X_test)\n",
    "mae = mean_absolute_error(y_test, yhat)\n",
    "print(\"MAE: {:.3f}\".format(mae))"
   ]
  },
  {
   "cell_type": "code",
   "execution_count": null,
   "id": "2ced9998",
   "metadata": {},
   "outputs": [],
   "source": [
    "from sklearn.feature_selection import SelectKBest, f_regression\n",
    "\n",
    "fs = SelectKBest(score_func=f_regression, k=10)\n",
    "fs.fit(X_train, y_train)\n",
    "X_train_fs = fs.transform(X_train)\n",
    "X_test_fs = fs.transform(X_test)\n",
    "\n",
    "model = LinearRegression()\n",
    "model.fit(X_train_fs, y_train)\n",
    "yhat = model.predict(X_test_fs)\n",
    "mae = mean_absolute_error(y_test, yhat)\n",
    "print(\"MAE: {:.3f}\".format(mae))"
   ]
  },
  {
   "cell_type": "markdown",
   "id": "1ebe2d6d",
   "metadata": {},
   "source": [
    "结果说明，有一些很重要的特征被丢弃了，修改k值再进行尝试："
   ]
  },
  {
   "cell_type": "code",
   "execution_count": null,
   "id": "d3538e3d",
   "metadata": {},
   "outputs": [],
   "source": [
    "from sklearn.feature_selection import SelectKBest, f_regression\n",
    "\n",
    "fs = SelectKBest(score_func=f_regression, k=70)\n",
    "fs.fit(X_train, y_train)\n",
    "X_train_fs = fs.transform(X_train)\n",
    "X_test_fs = fs.transform(X_test)\n",
    "\n",
    "model = LinearRegression()\n",
    "model.fit(X_train_fs, y_train)\n",
    "yhat = model.predict(X_test_fs)\n",
    "mae = mean_absolute_error(y_test, yhat)\n",
    "print(\"MAE: {:.3f}\".format(mae))"
   ]
  },
  {
   "cell_type": "markdown",
   "id": "635f4bed",
   "metadata": {},
   "source": [
    "#### 优化特征数量"
   ]
  },
  {
   "cell_type": "code",
   "execution_count": null,
   "id": "6c89ee56",
   "metadata": {},
   "outputs": [],
   "source": [
    "from sklearn.pipeline import Pipeline\n",
    "from sklearn.model_selection import GridSearchCV, RepeatedKFold\n",
    "from sklearn.datasets import make_regression\n",
    "from sklearn.model_selection import train_test_split\n",
    "from sklearn.linear_model import LinearRegression\n",
    "from sklearn.feature_selection import SelectKBest, f_regression\n",
    "\n",
    "X, y = make_regression(n_samples=1000,\n",
    "                       n_features=100,\n",
    "                       n_informative=10,\n",
    "                       noise=0.1,\n",
    "                       random_state=1)\n",
    "\n",
    "cv = RepeatedKFold(n_splits=10, n_repeats=3, random_state=1)\n",
    "model = LinearRegression()\n",
    "fs = SelectKBest(score_func=f_regression)\n",
    "pipeline = Pipeline([('sel', fs), ('lr', model)])\n",
    "grid = {}\n",
    "grid['sel__k'] = [i for i in range(X.shape[1] - 20, X.shape[1] + 1)]\n",
    "search = GridSearchCV(pipeline,\n",
    "                      grid,\n",
    "                      scoring='neg_mean_absolute_error',\n",
    "                      n_jobs=-1,\n",
    "                      cv=cv)\n",
    "results = search.fit(X, y)"
   ]
  },
  {
   "cell_type": "code",
   "execution_count": null,
   "id": "b78bdce6",
   "metadata": {},
   "outputs": [],
   "source": [
    "print(\"Best MAE: {:.3f}\".format(results.best_score_))\n",
    "print(\"Best Config: {}\".format(results.best_params_))"
   ]
  },
  {
   "cell_type": "markdown",
   "id": "0e38ba34",
   "metadata": {},
   "source": [
    "最终结果和前面的差异较大，100个特征全部有用，还不清楚具体原因："
   ]
  },
  {
   "cell_type": "code",
   "execution_count": null,
   "id": "7fd1d96f",
   "metadata": {},
   "outputs": [],
   "source": [
    "means = results.cv_results_['mean_test_score']\n",
    "params = results.cv_results_['params']\n",
    "for mean, param in zip(means, params):\n",
    "    print(\"{:.3f} with: {}\".format(mean, param))"
   ]
  },
  {
   "cell_type": "markdown",
   "id": "9023cfec",
   "metadata": {},
   "source": [
    "### 使用RFE进行特征选择"
   ]
  },
  {
   "cell_type": "markdown",
   "id": "75619421",
   "metadata": {},
   "source": [
    "RFE是常见的特征选择方法，也叫递归特征消除。它的工作原理是递归删除特征，\n",
    "并在剩余的特征上构建模型。它使用模型准确率来判断哪些特征（或特征组合）对预测结果贡献较大。"
   ]
  },
  {
   "cell_type": "markdown",
   "id": "585094bc",
   "metadata": {},
   "source": [
    "#### 使用RFE进行分类"
   ]
  },
  {
   "cell_type": "code",
   "execution_count": null,
   "id": "97f30d8f",
   "metadata": {},
   "outputs": [],
   "source": [
    "from sklearn.datasets import make_classification\n",
    "\n",
    "X, y = make_classification(n_samples=1000, n_features=10, n_informative=5, n_redundant=5, random_state=1)\n",
    "\n",
    "rfe = RFE(estimator=DecisionTreeClassifier(), n_features_to_select=5)\n",
    "rfe.fit(X, y)\n",
    "rfe.transform(X)\n",
    "rfe.support_"
   ]
  },
  {
   "cell_type": "code",
   "execution_count": null,
   "id": "76727034",
   "metadata": {},
   "outputs": [],
   "source": [
    "import numpy as np\n",
    "from sklearn.model_selection import cross_val_score, RepeatedStratifiedKFold\n",
    "from sklearn.feature_selection import RFE\n",
    "from sklearn.tree import DecisionTreeClassifier\n",
    "from sklearn.pipeline import Pipeline\n",
    "\n",
    "rfe = RFE(estimator=DecisionTreeClassifier(), n_features_to_select=5)\n",
    "model = DecisionTreeClassifier()\n",
    "pipeline = Pipeline(steps=[('s', rfe), ('m', model)])\n",
    "cv = RepeatedStratifiedKFold(n_splits=10, n_repeats=3, random_state=1)\n",
    "n_scores = cross_val_score(pipeline, X, y, scoring='accuracy', cv=cv, n_jobs=-1)\n",
    "print('Accuracy: {:.3f} {:.3f}'.format(np.mean(n_scores), np.std(n_scores)))"
   ]
  },
  {
   "cell_type": "markdown",
   "id": "c6389095",
   "metadata": {},
   "source": [
    "使用RFE结合pipeline构筑模型："
   ]
  },
  {
   "cell_type": "code",
   "execution_count": null,
   "id": "688e61ee",
   "metadata": {},
   "outputs": [],
   "source": [
    "from sklearn.datasets import make_classification\n",
    "from sklearn.feature_selection import RFE\n",
    "from sklearn.tree import DecisionTreeClassifier\n",
    "from sklearn.pipeline import Pipeline\n",
    "\n",
    "X, y = make_classification(n_samples=1000,\n",
    "                           n_features=10,\n",
    "                           n_informative=5,\n",
    "                           n_redundant=5,\n",
    "                           random_state=1)\n",
    "\n",
    "rfe = RFE(estimator=DecisionTreeClassifier(), n_features_to_select=5)\n",
    "model = DecisionTreeClassifier()\n",
    "pipeline = Pipeline(steps=[('s', rfe), ('m', model)])\n",
    "\n",
    "pipeline.fit(X, y)\n",
    "data = [[\n",
    "    2.56999479, -0.13019997, 3.16075093, -4.35936352, -1.61271951, -1.39352057,\n",
    "    -2.48924933, -1.93094078, 3.26130366, 2.05692145\n",
    "]]\n",
    "yhat = pipeline.predict(data)\n",
    "print('Predicted Class: %d' % (yhat))"
   ]
  },
  {
   "cell_type": "markdown",
   "id": "58acd30d",
   "metadata": {},
   "source": [
    "#### 使用RFE进行回归"
   ]
  },
  {
   "cell_type": "code",
   "execution_count": null,
   "id": "967f0107",
   "metadata": {},
   "outputs": [],
   "source": [
    "from sklearn.datasets import make_regression\n",
    "import numpy as np\n",
    "from sklearn.model_selection import cross_val_score, RepeatedKFold # 回归要用ReppeatedKFold\n",
    "from sklearn.feature_selection import RFE\n",
    "from sklearn.tree import DecisionTreeRegressor # 回归使用DecisionTreeRegressor\n",
    "from sklearn.pipeline import Pipeline\n",
    "\n",
    "\n",
    "X, y = make_regression(n_samples=1000, n_features=10, n_informative=5, random_state=1)\n",
    "rfe = RFE(estimator=DecisionTreeRegressor(), n_features_to_select=5)\n",
    "model = DecisionTreeRegressor()\n",
    "pipeline = Pipeline(steps=[('s', rfe), ('m', model)])\n",
    "cv = RepeatedKFold(n_splits=10, n_repeats=3, random_state=1)\n",
    "n_scores = cross_val_score(pipeline, X, y, scoring='neg_mean_absolute_error', cv=cv, n_jobs=-1)\n",
    "print('Accuracy: {:.3f} {:.3f}'.format(np.mean(n_scores), np.std(n_scores)))"
   ]
  },
  {
   "cell_type": "markdown",
   "id": "4b2bd697",
   "metadata": {},
   "source": [
    "同样的，回归RFE和pipeline可以结合起来使用："
   ]
  },
  {
   "cell_type": "code",
   "execution_count": null,
   "id": "1b6fbf30",
   "metadata": {},
   "outputs": [],
   "source": [
    "from sklearn.datasets import make_regression\n",
    "from sklearn.feature_selection import RFE\n",
    "from sklearn.tree import DecisionTreeRegressor\n",
    "from sklearn.pipeline import Pipeline\n",
    "\n",
    "X, y = make_regression(n_samples=1000, n_features=10, n_informative=5, random_state=1)\n",
    "rfe = RFE(estimator=DecisionTreeRegressor(), n_features_to_select=5)\n",
    "model = DecisionTreeRegressor()\n",
    "pipeline = Pipeline(steps=[('s',rfe),('m',model)])\n",
    "pipeline.fit(X, y)\n",
    "data = [[-2.02220122, 0.31563495, 0.82797464, -0.30620401, 0.16003707, -1.44411381, 0.87616892, -0.50446586, 0.23009474, 0.76201118]]\n",
    "yhat = pipeline.predict(data)\n",
    "print('Predicted: %.3f' % (yhat))"
   ]
  },
  {
   "cell_type": "markdown",
   "id": "f153ba5c",
   "metadata": {},
   "source": [
    "#### 选择最佳的特征个数"
   ]
  },
  {
   "cell_type": "markdown",
   "id": "3f7f71ca",
   "metadata": {},
   "source": [
    "如何选择特征的个数："
   ]
  },
  {
   "cell_type": "code",
   "execution_count": null,
   "id": "0f821993",
   "metadata": {},
   "outputs": [],
   "source": [
    "X, y = make_classification(n_samples=1000, n_features=10, n_informative=5, n_redundant=5, random_state=1)\n",
    "\n",
    "models = {}\n",
    "for i in range(2, 10):\n",
    "    rfe = RFE(estimator=DecisionTreeClassifier(), n_features_to_select=i)\n",
    "    model = DecisionTreeClassifier()\n",
    "    models[i] = Pipeline(steps=[('s', rfe), ('m', model)])\n",
    "    \n",
    "results, names = [], []\n",
    "for name, model in models.items():\n",
    "    cv = RepeatedStratifiedKFold(n_splits=10, n_repeats=3, random_state=1)\n",
    "    scores = cross_val_score(model, X, y, scoring='accuracy', cv=cv, n_jobs=-1)\n",
    "    results.append(scores)\n",
    "    names.append(name)\n",
    "    print(\">{} {:.3f} ({:.3f})\".format(name, np.mean(scores), np.std(scores)))\n",
    "    \n",
    "import matplotlib.pyplot as plt\n",
    "\n",
    "plt.boxplot(results, labels=names, showmeans=True);"
   ]
  },
  {
   "cell_type": "markdown",
   "id": "77ebbd86",
   "metadata": {},
   "source": [
    "#### 自动选择最佳特征个数"
   ]
  },
  {
   "cell_type": "markdown",
   "id": "23700c27",
   "metadata": {},
   "source": [
    "实际上sklearn通过RFECV，已经实现了自动选择最佳特征个数的功能，原理就和上面的代码一样。"
   ]
  },
  {
   "cell_type": "code",
   "execution_count": null,
   "id": "c581d7a9",
   "metadata": {},
   "outputs": [],
   "source": [
    "import numpy as np\n",
    "from sklearn.datasets import make_classification\n",
    "from sklearn.model_selection import cross_val_score, RepeatedStratifiedKFold\n",
    "from sklearn.feature_selection import RFECV\n",
    "from sklearn.tree import DecisionTreeClassifier\n",
    "from sklearn.pipeline import Pipeline\n",
    "\n",
    "X, y = make_classification(n_samples=1000, n_features=10, n_informative=5, n_redundant=5, random_state=1)\n",
    "rfe = RFECV(estimator=DecisionTreeClassifier())\n",
    "model = DecisionTreeClassifier()\n",
    "pipeline = Pipeline([('s', rfe), ('m', model)])\n",
    "cv = RepeatedStratifiedKFold(n_splits=10, n_repeats=3, random_state=1)\n",
    "n_scores = cross_val_score(pipeline, X, y, scoring='accuracy', cv=cv, n_jobs=-1)\n",
    "print('Accuracy: {:.3f} ({:3f})'.format(np.mean(n_scores), np.std(n_scores)))"
   ]
  },
  {
   "cell_type": "markdown",
   "id": "a1a762e7",
   "metadata": {},
   "source": [
    "可以通过`RFE`或者`RFECV`的`support_`方法查看哪些特征被选中，`ranking_`方法可以查看所有特征的排名："
   ]
  },
  {
   "cell_type": "code",
   "execution_count": null,
   "id": "a7bb06ad",
   "metadata": {},
   "outputs": [],
   "source": [
    "rfe = RFECV(estimator=DecisionTreeClassifier())\n",
    "rfe.fit(X, y) # 只有先fit才能查看support_和ranking_结果\n",
    "rfe.support_"
   ]
  },
  {
   "cell_type": "code",
   "execution_count": null,
   "id": "6f6d52ab",
   "metadata": {},
   "outputs": [],
   "source": [
    "rfe.ranking_"
   ]
  },
  {
   "cell_type": "markdown",
   "id": "f5de1551",
   "metadata": {},
   "source": [
    "#### 探索基础算法"
   ]
  },
  {
   "cell_type": "markdown",
   "id": "e5b2e22f",
   "metadata": {},
   "source": [
    "我们可以比较一下，几种基础算法中，哪一些用来做特征选择比较好："
   ]
  },
  {
   "cell_type": "code",
   "execution_count": null,
   "id": "c9d1d7cb",
   "metadata": {},
   "outputs": [],
   "source": [
    "import numpy as np\n",
    "import matplotlib.pyplot as plt\n",
    "from sklearn.datasets import make_classification\n",
    "from sklearn.model_selection import cross_val_score, RepeatedStratifiedKFold\n",
    "from sklearn.feature_selection import RFE\n",
    "from sklearn.tree import DecisionTreeClassifier\n",
    "from sklearn.pipeline import Pipeline\n",
    "from sklearn.linear_model import LogisticRegression, Perceptron\n",
    "from sklearn.ensemble import RandomForestClassifier, GradientBoostingClassifier\n",
    "\n",
    "\n",
    "X, y = make_classification(n_samples=1000, n_features=10, n_informative=5, n_redundant=5, random_state=1)\n",
    "models = {}\n",
    "\n",
    "rfe = RFE(estimator=LogisticRegression(), n_features_to_select=5)\n",
    "model = DecisionTreeClassifier()\n",
    "models['lr'] = Pipeline([('s', rfe), ('m', model)])\n",
    "\n",
    "rfe = RFE(estimator=Perceptron(), n_features_to_select=5)\n",
    "model = DecisionTreeClassifier()\n",
    "models['per'] = Pipeline([('s', rfe), ('m', model)])\n",
    "\n",
    "rfe = RFE(estimator=DecisionTreeClassifier(), n_features_to_select=5)\n",
    "model = DecisionTreeClassifier()\n",
    "models['cart'] = Pipeline([('s', rfe), ('m', model)])\n",
    "\n",
    "rfe = RFE(estimator=RandomForestClassifier(), n_features_to_select=5)\n",
    "model = DecisionTreeClassifier()\n",
    "models['rf'] = Pipeline([('s', rfe), ('m', model)])\n",
    "\n",
    "rfe = RFE(estimator=GradientBoostingClassifier(), n_features_to_select=5)\n",
    "model = DecisionTreeClassifier()\n",
    "models['gbm'] = Pipeline([('s', rfe), ('m', model)])\n",
    "\n",
    "for name, model in models.items():\n",
    "    cv = RepeatedStratifiedKFold(n_splits=10, n_repeats=3, random_state=1)\n",
    "    n_scores = cross_val_score(model, X, y, scoring='accuracy', cv=cv, n_jobs=-1)\n",
    "    print('>{:<8}: {:.3f} ({:3f})'.format(name, np.mean(n_scores), np.std(n_scores)))"
   ]
  },
  {
   "cell_type": "markdown",
   "id": "425163ce",
   "metadata": {},
   "source": [
    "### 特征重要性"
   ]
  },
  {
   "cell_type": "markdown",
   "id": "21f28783",
   "metadata": {},
   "source": [
    "#### 特征系数作为重要性"
   ]
  },
  {
   "cell_type": "code",
   "execution_count": null,
   "id": "ddc7f708",
   "metadata": {},
   "outputs": [],
   "source": []
  }
 ],
 "metadata": {
  "kernelspec": {
   "display_name": "Python 3 (ipykernel)",
   "language": "python",
   "name": "python3"
  },
  "language_info": {
   "codemirror_mode": {
    "name": "ipython",
    "version": 3
   },
   "file_extension": ".py",
   "mimetype": "text/x-python",
   "name": "python",
   "nbconvert_exporter": "python",
   "pygments_lexer": "ipython3",
   "version": "3.10.9"
  },
  "toc": {
   "base_numbering": 1,
   "nav_menu": {},
   "number_sections": true,
   "sideBar": true,
   "skip_h1_title": true,
   "title_cell": "Table of Contents",
   "title_sidebar": "数据预处理",
   "toc_cell": false,
   "toc_position": {},
   "toc_section_display": true,
   "toc_window_display": true
  }
 },
 "nbformat": 4,
 "nbformat_minor": 5
}
