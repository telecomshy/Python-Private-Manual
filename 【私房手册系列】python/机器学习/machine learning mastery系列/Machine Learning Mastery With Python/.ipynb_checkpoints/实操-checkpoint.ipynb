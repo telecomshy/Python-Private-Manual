{
 "cells": [
  {
   "cell_type": "markdown",
   "id": "7ee0aa2c",
   "metadata": {},
   "source": [
    "# 构建项目的模板"
   ]
  },
  {
   "cell_type": "markdown",
   "id": "f5a86b82",
   "metadata": {},
   "source": [
    "所有的项目都可以分为以下6个步骤：\n",
    "1. 定义问题\n",
    "2. 总结数据\n",
    "3. 准备数据\n",
    "4. 评估算法\n",
    "5. 改善结果\n",
    "6. 呈现结果"
   ]
  },
  {
   "cell_type": "markdown",
   "id": "ba2105e1",
   "metadata": {},
   "source": [
    "## 机器学习项目模板"
   ]
  },
  {
   "cell_type": "markdown",
   "id": "4fa9b62a",
   "metadata": {},
   "source": [
    "## 模板摘要"
   ]
  },
  {
   "cell_type": "markdown",
   "id": "222a5b90",
   "metadata": {},
   "source": [
    "```python\n",
    "# Python Project Template\n",
    "# 1. Prepare Problem\n",
    "# a) Load libraries\n",
    "# b) Load dataset\n",
    "\n",
    "# 2. Summarize Data\n",
    "# a) Descriptive statistics\n",
    "# b) Data visualizations\n",
    "\n",
    "# 3. Prepare Data\n",
    "# a) Data Cleaning\n",
    "# b) Feature Selection\n",
    "# c) Data Transforms\n",
    "\n",
    "# 4. Evaluate Algorithms\n",
    "# a) Split-out validation dataset\n",
    "# b) Test options and evaluation metric\n",
    "# c) Spot Check Algorithms\n",
    "# d) Compare Algorithms\n",
    "\n",
    "# 5. Improve Accuracy\n",
    "# a) Algorithm Tuning\n",
    "# b) Ensembles\n",
    "\n",
    "# 6. Finalize Model\n",
    "# a) Predictions on validation dataset\n",
    "# b) Create standalone model on entire training dataset\n",
    "# c) Save model for later use\n",
    "```"
   ]
  },
  {
   "cell_type": "markdown",
   "id": "416dcf7f",
   "metadata": {},
   "source": [
    "# 第一个项目"
   ]
  },
  {
   "cell_type": "markdown",
   "id": "672738a8",
   "metadata": {},
   "source": [
    "## 读取数据"
   ]
  },
  {
   "cell_type": "markdown",
   "id": "c63c2670",
   "metadata": {},
   "source": [
    "### 导入库"
   ]
  },
  {
   "cell_type": "markdown",
   "id": "00af8137",
   "metadata": {},
   "source": [
    "有意思的是不能直接`sklearn.datasets`会报错，只能`from sklearn import datasets`："
   ]
  },
  {
   "cell_type": "code",
   "execution_count": 28,
   "id": "870fc689",
   "metadata": {},
   "outputs": [],
   "source": [
    "import pandas as pd\n",
    "from pandas import read_csv\n",
    "from pandas.plotting import scatter_matrix\n",
    "from matplotlib import pyplot\n",
    "from sklearn import datasets\n",
    "from sklearn.model_selection import train_test_split, KFold, cross_val_score\n",
    "from sklearn.metrics import classification_report, confusion_matrix, accuracy_score\n",
    "from sklearn.linear_model import LogisticRegression\n",
    "from sklearn.tree import DecisionTreeClassifier\n",
    "from sklearn.neighbors import KNeighborsClassifier\n",
    "from sklearn.discriminant_analysis import LinearDiscriminantAnalysis\n",
    "from sklearn.naive_bayes import GaussianNB\n",
    "from sklearn.svm import SVC"
   ]
  },
  {
   "cell_type": "markdown",
   "id": "7f7b95f7",
   "metadata": {},
   "source": [
    "### 读取数据集"
   ]
  },
  {
   "cell_type": "code",
   "execution_count": 2,
   "id": "dd590f93",
   "metadata": {},
   "outputs": [],
   "source": [
    "names = ['sepal-length', 'sepal-width', 'petal-length', 'petal-width', 'class']\n",
    "dataset = read_csv('iris.csv',\n",
    "                   skiprows=1,\n",
    "                   header=None,\n",
    "                   names=names,\n",
    "                   index_col=0)"
   ]
  },
  {
   "cell_type": "markdown",
   "id": "c7c60ca1",
   "metadata": {},
   "source": [
    "## 总结数据集"
   ]
  },
  {
   "cell_type": "markdown",
   "id": "d013b965",
   "metadata": {},
   "source": [
    "### 数据集维度"
   ]
  },
  {
   "cell_type": "code",
   "execution_count": 49,
   "id": "4604e374",
   "metadata": {},
   "outputs": [
    {
     "name": "stdout",
     "output_type": "stream",
     "text": [
      "(150, 5)\n"
     ]
    }
   ],
   "source": [
    "print(dataset.shape)"
   ]
  },
  {
   "cell_type": "markdown",
   "id": "9480aa37",
   "metadata": {},
   "source": [
    "### 看看数据本身"
   ]
  },
  {
   "cell_type": "code",
   "execution_count": 50,
   "id": "1132fb9b",
   "metadata": {},
   "outputs": [
    {
     "data": {
      "text/html": [
       "<div>\n",
       "<style scoped>\n",
       "    .dataframe tbody tr th:only-of-type {\n",
       "        vertical-align: middle;\n",
       "    }\n",
       "\n",
       "    .dataframe tbody tr th {\n",
       "        vertical-align: top;\n",
       "    }\n",
       "\n",
       "    .dataframe thead th {\n",
       "        text-align: right;\n",
       "    }\n",
       "</style>\n",
       "<table border=\"1\" class=\"dataframe\">\n",
       "  <thead>\n",
       "    <tr style=\"text-align: right;\">\n",
       "      <th></th>\n",
       "      <th>sepal-length</th>\n",
       "      <th>sepal-width</th>\n",
       "      <th>petal-length</th>\n",
       "      <th>petal-width</th>\n",
       "      <th>class</th>\n",
       "    </tr>\n",
       "  </thead>\n",
       "  <tbody>\n",
       "    <tr>\n",
       "      <th>1</th>\n",
       "      <td>5.1</td>\n",
       "      <td>3.5</td>\n",
       "      <td>1.4</td>\n",
       "      <td>0.2</td>\n",
       "      <td>setosa</td>\n",
       "    </tr>\n",
       "    <tr>\n",
       "      <th>2</th>\n",
       "      <td>4.9</td>\n",
       "      <td>3.0</td>\n",
       "      <td>1.4</td>\n",
       "      <td>0.2</td>\n",
       "      <td>setosa</td>\n",
       "    </tr>\n",
       "    <tr>\n",
       "      <th>3</th>\n",
       "      <td>4.7</td>\n",
       "      <td>3.2</td>\n",
       "      <td>1.3</td>\n",
       "      <td>0.2</td>\n",
       "      <td>setosa</td>\n",
       "    </tr>\n",
       "    <tr>\n",
       "      <th>4</th>\n",
       "      <td>4.6</td>\n",
       "      <td>3.1</td>\n",
       "      <td>1.5</td>\n",
       "      <td>0.2</td>\n",
       "      <td>setosa</td>\n",
       "    </tr>\n",
       "    <tr>\n",
       "      <th>5</th>\n",
       "      <td>5.0</td>\n",
       "      <td>3.6</td>\n",
       "      <td>1.4</td>\n",
       "      <td>0.2</td>\n",
       "      <td>setosa</td>\n",
       "    </tr>\n",
       "    <tr>\n",
       "      <th>6</th>\n",
       "      <td>5.4</td>\n",
       "      <td>3.9</td>\n",
       "      <td>1.7</td>\n",
       "      <td>0.4</td>\n",
       "      <td>setosa</td>\n",
       "    </tr>\n",
       "    <tr>\n",
       "      <th>7</th>\n",
       "      <td>4.6</td>\n",
       "      <td>3.4</td>\n",
       "      <td>1.4</td>\n",
       "      <td>0.3</td>\n",
       "      <td>setosa</td>\n",
       "    </tr>\n",
       "    <tr>\n",
       "      <th>8</th>\n",
       "      <td>5.0</td>\n",
       "      <td>3.4</td>\n",
       "      <td>1.5</td>\n",
       "      <td>0.2</td>\n",
       "      <td>setosa</td>\n",
       "    </tr>\n",
       "    <tr>\n",
       "      <th>9</th>\n",
       "      <td>4.4</td>\n",
       "      <td>2.9</td>\n",
       "      <td>1.4</td>\n",
       "      <td>0.2</td>\n",
       "      <td>setosa</td>\n",
       "    </tr>\n",
       "    <tr>\n",
       "      <th>10</th>\n",
       "      <td>4.9</td>\n",
       "      <td>3.1</td>\n",
       "      <td>1.5</td>\n",
       "      <td>0.1</td>\n",
       "      <td>setosa</td>\n",
       "    </tr>\n",
       "  </tbody>\n",
       "</table>\n",
       "</div>"
      ],
      "text/plain": [
       "    sepal-length  sepal-width  petal-length  petal-width   class\n",
       "1            5.1          3.5           1.4          0.2  setosa\n",
       "2            4.9          3.0           1.4          0.2  setosa\n",
       "3            4.7          3.2           1.3          0.2  setosa\n",
       "4            4.6          3.1           1.5          0.2  setosa\n",
       "5            5.0          3.6           1.4          0.2  setosa\n",
       "6            5.4          3.9           1.7          0.4  setosa\n",
       "7            4.6          3.4           1.4          0.3  setosa\n",
       "8            5.0          3.4           1.5          0.2  setosa\n",
       "9            4.4          2.9           1.4          0.2  setosa\n",
       "10           4.9          3.1           1.5          0.1  setosa"
      ]
     },
     "execution_count": 50,
     "metadata": {},
     "output_type": "execute_result"
    }
   ],
   "source": [
    "dataset.head(10)"
   ]
  },
  {
   "cell_type": "markdown",
   "id": "d42ee91f",
   "metadata": {},
   "source": [
    "### 属性统计"
   ]
  },
  {
   "cell_type": "code",
   "execution_count": 38,
   "id": "d81098d3",
   "metadata": {},
   "outputs": [
    {
     "name": "stdout",
     "output_type": "stream",
     "text": [
      "       sepal-length  sepal-width  petal-length  petal-width\n",
      "count    150.000000   150.000000    150.000000   150.000000\n",
      "mean       5.843333     3.057333      3.758000     1.199333\n",
      "std        0.828066     0.435866      1.765298     0.762238\n",
      "min        4.300000     2.000000      1.000000     0.100000\n",
      "25%        5.100000     2.800000      1.600000     0.300000\n",
      "50%        5.800000     3.000000      4.350000     1.300000\n",
      "75%        6.400000     3.300000      5.100000     1.800000\n",
      "max        7.900000     4.400000      6.900000     2.500000\n"
     ]
    }
   ],
   "source": [
    "print(dataset.describe())"
   ]
  },
  {
   "cell_type": "markdown",
   "id": "23ca5db3",
   "metadata": {},
   "source": [
    "### 类别的分布"
   ]
  },
  {
   "cell_type": "code",
   "execution_count": 62,
   "id": "5d20b2c4",
   "metadata": {},
   "outputs": [
    {
     "data": {
      "text/plain": [
       "class\n",
       "setosa        50\n",
       "versicolor    50\n",
       "virginica     50\n",
       "dtype: int64"
      ]
     },
     "execution_count": 62,
     "metadata": {},
     "output_type": "execute_result"
    }
   ],
   "source": [
    "dataset.groupby('class').size()"
   ]
  },
  {
   "cell_type": "markdown",
   "id": "b8b946ad",
   "metadata": {},
   "source": [
    "## 数据可视化"
   ]
  },
  {
   "cell_type": "markdown",
   "id": "fe695b5a",
   "metadata": {},
   "source": [
    "- 单变量图更好地理解每个属性。\n",
    "- 多元图更好地理解属性之间的关系。"
   ]
  },
  {
   "cell_type": "markdown",
   "id": "44d6dfa6",
   "metadata": {},
   "source": [
    "### 单变量"
   ]
  },
  {
   "cell_type": "code",
   "execution_count": 67,
   "id": "849d0cb5",
   "metadata": {},
   "outputs": [
    {
     "data": {
      "image/png": "[encoded data removed]",
      "text/plain": [
       "<Figure size 576x432 with 4 Axes>"
      ]
     },
     "metadata": {
      "needs_background": "light"
     },
     "output_type": "display_data"
    }
   ],
   "source": [
    "dataset.plot(kind='box',\n",
    "             subplots=True,\n",
    "             layout=(2, 2),\n",
    "             sharex=False,\n",
    "             sharey=False,\n",
    "             figsize=(8, 6))"
   ]
  },
  {
   "cell_type": "code",
   "execution_count": 83,
   "id": "13fd544a",
   "metadata": {},
   "outputs": [
    {
     "data": {
      "image/png": "[encoded data removed]",
      "text/plain": [
       "<Figure size 576x432 with 4 Axes>"
      ]
     },
     "metadata": {
      "needs_background": "light"
     },
     "output_type": "display_data"
    }
   ],
   "source": [
    "dataset.hist(bins=20, figsize=(8, 6));"
   ]
  },
  {
   "cell_type": "markdown",
   "id": "2980f9cc",
   "metadata": {},
   "source": [
    "### 多元图"
   ]
  },
  {
   "cell_type": "code",
   "execution_count": 6,
   "id": "929e229e",
   "metadata": {},
   "outputs": [
    {
     "data": {
      "image/png": "[encoded data removed]",
      "text/plain": [
       "<Figure size 576x576 with 16 Axes>"
      ]
     },
     "metadata": {
      "needs_background": "light"
     },
     "output_type": "display_data"
    }
   ],
   "source": [
    "scatter_matrix(dataset, figsize=(8, 8));"
   ]
  },
  {
   "cell_type": "markdown",
   "id": "e275a514",
   "metadata": {},
   "source": [
    "## 评估某些算法"
   ]
  },
  {
   "cell_type": "markdown",
   "id": "445f1626",
   "metadata": {},
   "source": [
    "### 创建验证集"
   ]
  },
  {
   "cell_type": "code",
   "execution_count": 11,
   "id": "426e88f8",
   "metadata": {},
   "outputs": [],
   "source": [
    "array = dataset.values\n",
    "X = array[:, :-1]\n",
    "Y = array[:, -1]\n",
    "validation_size = 0.2\n",
    "seed = 7\n",
    "X_train, X_validation, Y_train, Y_validation = train_test_split(\n",
    "    X, Y, test_size=validation_size, random_state=7)"
   ]
  },
  {
   "cell_type": "markdown",
   "id": "ec64c813",
   "metadata": {},
   "source": [
    "### 测试各种模型"
   ]
  },
  {
   "cell_type": "code",
   "execution_count": 33,
   "id": "914c1aae",
   "metadata": {},
   "outputs": [
    {
     "name": "stdout",
     "output_type": "stream",
     "text": [
      "LR   : 0.983 (0.033)\n",
      "LDA  : 0.975 (0.038)\n",
      "KNN  : 0.983 (0.033)\n",
      "CART : 0.950 (0.076)\n",
      "NB   : 0.967 (0.041)\n",
      "SVM  : 0.983 (0.033)\n"
     ]
    }
   ],
   "source": [
    "models = {\n",
    "    'LR': LogisticRegression(max_iter=200),\n",
    "    'LDA': LinearDiscriminantAnalysis(),\n",
    "    'KNN': KNeighborsClassifier(),\n",
    "    'CART': DecisionTreeClassifier(),\n",
    "    'NB': GaussianNB(),\n",
    "    'SVM': SVC(),\n",
    "}\n",
    "results = {}\n",
    "for name, model in models.items():\n",
    "    kfold = KFold(n_splits=10, random_state=seed, shuffle=True)\n",
    "    cv_results = cross_val_score(model,\n",
    "                                 X_train,\n",
    "                                 Y_train,\n",
    "                                 cv=kfold,\n",
    "                                 scoring='accuracy')\n",
    "    results[name] = cv_results\n",
    "    print(\"{:<5}: {:>5.3f} ({:.3f})\".format(name, cv_results.mean(),\n",
    "                                            cv_results.std()))"
   ]
  },
  {
   "cell_type": "code",
   "execution_count": 36,
   "id": "74c2882c",
   "metadata": {},
   "outputs": [
    {
     "data": {
      "image/png": "[encoded data removed]",
      "text/plain": [
       "<Figure size 432x288 with 1 Axes>"
      ]
     },
     "metadata": {
      "needs_background": "light"
     },
     "output_type": "display_data"
    }
   ],
   "source": [
    "pd.DataFrame(results).plot(kind='box');"
   ]
  },
  {
   "cell_type": "markdown",
   "id": "d6180c54",
   "metadata": {},
   "source": [
    "## 优化模型"
   ]
  },
  {
   "cell_type": "markdown",
   "id": "95d2f2ec",
   "metadata": {},
   "source": [
    "可见KNN、LR和SVM表现比较好，这3个模型可以尝试进行标准化，书上没有包含数据标准化，以及参数优化，这里尝试添加此两个步骤："
   ]
  },
  {
   "cell_type": "code",
   "execution_count": 77,
   "id": "fde85738",
   "metadata": {},
   "outputs": [
    {
     "data": {
      "text/plain": [
       "0.975"
      ]
     },
     "execution_count": 77,
     "metadata": {},
     "output_type": "execute_result"
    }
   ],
   "source": [
    "from sklearn.pipeline import Pipeline\n",
    "from sklearn.preprocessing import StandardScaler\n",
    "from sklearn.model_selection import GridSearchCV\n",
    "\n",
    "estimators = []\n",
    "estimators.append(('standalize', StandardScaler()))\n",
    "estimators.append(('knn', KNeighborsClassifier()))\n",
    "pipe = Pipeline(estimators)\n",
    "\n",
    "param_grid = {\n",
    "    'knn__n_neighbors': [2, 3, 4, 5, 6, 7, 8, 9],  # 可以将pipe和grid合并在一起，通过双下划线指定向pipe中的哪个步骤传递参数\n",
    "}\n",
    "grid = GridSearchCV(estimator=pipe, param_grid=param_grid)\n",
    "grid.fit(X_train, Y_train)\n",
    "grid.best_score_"
   ]
  },
  {
   "cell_type": "code",
   "execution_count": 78,
   "id": "e798634d",
   "metadata": {},
   "outputs": [
    {
     "data": {
      "text/plain": [
       "{'knn__n_neighbors': 7}"
      ]
     },
     "execution_count": 78,
     "metadata": {},
     "output_type": "execute_result"
    }
   ],
   "source": [
    "grid.best_params_"
   ]
  },
  {
   "cell_type": "markdown",
   "id": "491f0e89",
   "metadata": {},
   "source": [
    "对数据标准化以后，发现准确率反而变低，`n_neighbors`参数变大，模型性能并没有变得更好。"
   ]
  },
  {
   "cell_type": "markdown",
   "id": "970aa6ba",
   "metadata": {},
   "source": [
    "## 做出预测"
   ]
  },
  {
   "cell_type": "code",
   "execution_count": 113,
   "id": "e57e8580",
   "metadata": {},
   "outputs": [
    {
     "name": "stdout",
     "output_type": "stream",
     "text": [
      "0.9\n"
     ]
    }
   ],
   "source": [
    "knn = KNeighborsClassifier(n_neighbors=3)\n",
    "knn.fit(X_train, Y_train)\n",
    "predictions = knn.predict(X_validation)\n",
    "print(accuracy_score(Y_validation, predictions))"
   ]
  },
  {
   "cell_type": "code",
   "execution_count": 114,
   "id": "0b54a0d6",
   "metadata": {},
   "outputs": [
    {
     "name": "stdout",
     "output_type": "stream",
     "text": [
      "[[ 7  0  0]\n",
      " [ 0 11  1]\n",
      " [ 0  2  9]]\n"
     ]
    }
   ],
   "source": [
    "print(confusion_matrix(Y_validation, predictions))"
   ]
  },
  {
   "cell_type": "code",
   "execution_count": 115,
   "id": "a07048b5",
   "metadata": {},
   "outputs": [
    {
     "name": "stdout",
     "output_type": "stream",
     "text": [
      "              precision    recall  f1-score   support\n",
      "\n",
      "      setosa       1.00      1.00      1.00         7\n",
      "  versicolor       0.85      0.92      0.88        12\n",
      "   virginica       0.90      0.82      0.86        11\n",
      "\n",
      "    accuracy                           0.90        30\n",
      "   macro avg       0.92      0.91      0.91        30\n",
      "weighted avg       0.90      0.90      0.90        30\n",
      "\n"
     ]
    }
   ],
   "source": [
    "print(classification_report(Y_validation, predictions))"
   ]
  },
  {
   "cell_type": "markdown",
   "id": "eab502c1",
   "metadata": {},
   "source": [
    "# 回归机器学习案例"
   ]
  },
  {
   "cell_type": "markdown",
   "id": "f88e8dc4",
   "metadata": {},
   "source": [
    "## 读取数据"
   ]
  },
  {
   "cell_type": "markdown",
   "id": "82b3f572",
   "metadata": {},
   "source": [
    "### 读入各种库"
   ]
  },
  {
   "cell_type": "code",
   "execution_count": 123,
   "id": "3cec348a",
   "metadata": {},
   "outputs": [],
   "source": [
    "import numpy\n",
    "from numpy import arange\n",
    "from matplotlib import pyplot\n",
    "from pandas import read_csv, set_option\n",
    "from pandas.plotting import scatter_matrix\n",
    "from sklearn.preprocessing import StandardScaler\n",
    "from sklearn.model_selection import train_test_split, KFold, cross_val_score, GridSearchCV\n",
    "from sklearn.linear_model import LinearRegression, Lasso, ElasticNet\n",
    "from sklearn.tree import DecisionTreeRegressor\n",
    "from sklearn.neighbors import KNeighborsRegressor\n",
    "from sklearn.svm import SVR\n",
    "from sklearn.pipeline import Pipeline\n",
    "from sklearn.ensemble import RandomForestRegressor, GradientBoostingRegressor, ExtraTreesRegressor, AdaBoostRegressor\n",
    "from sklearn.metrics import mean_squared_error"
   ]
  },
  {
   "cell_type": "markdown",
   "id": "3d02bb1d",
   "metadata": {},
   "source": [
    "### 读取数据"
   ]
  },
  {
   "cell_type": "code",
   "execution_count": 130,
   "id": "838b876b",
   "metadata": {},
   "outputs": [],
   "source": [
    "filename = 'housing.data'\n",
    "names = [\n",
    "    'CRIM', 'ZN', 'INDUS', 'CHAS', 'NOX', 'RM', 'AGE', 'DIS', 'RAD', 'TAX',\n",
    "    'PTRATIO', 'B', 'LSTAT', 'MEDV'\n",
    "]\n",
    "dataset = read_csv(filename, delim_whitespace=True, names=names)"
   ]
  },
  {
   "cell_type": "markdown",
   "id": "86f69c13",
   "metadata": {},
   "source": [
    "## 分析数据"
   ]
  },
  {
   "cell_type": "markdown",
   "id": "4ac68100",
   "metadata": {},
   "source": [
    "### 描述性统计"
   ]
  },
  {
   "cell_type": "code",
   "execution_count": null,
   "id": "a06c0764",
   "metadata": {},
   "outputs": [],
   "source": []
  }
 ],
 "metadata": {
  "kernelspec": {
   "display_name": "Python 3",
   "language": "python",
   "name": "python3"
  },
  "language_info": {
   "codemirror_mode": {
    "name": "ipython",
    "version": 3
   },
   "file_extension": ".py",
   "mimetype": "text/x-python",
   "name": "python",
   "nbconvert_exporter": "python",
   "pygments_lexer": "ipython3",
   "version": "3.7.6"
  },
  "toc": {
   "base_numbering": 1,
   "nav_menu": {},
   "number_sections": true,
   "sideBar": true,
   "skip_h1_title": false,
   "title_cell": "Table of Contents",
   "title_sidebar": "实操",
   "toc_cell": false,
   "toc_position": {},
   "toc_section_display": true,
   "toc_window_display": true
  }
 },
 "nbformat": 4,
 "nbformat_minor": 5
}
