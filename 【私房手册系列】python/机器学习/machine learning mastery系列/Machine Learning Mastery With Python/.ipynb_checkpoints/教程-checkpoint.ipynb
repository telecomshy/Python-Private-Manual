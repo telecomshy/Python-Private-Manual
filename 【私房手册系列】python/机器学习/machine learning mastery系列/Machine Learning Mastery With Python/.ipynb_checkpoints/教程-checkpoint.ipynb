{
 "cells": [
  {
   "cell_type": "code",
   "execution_count": 1,
   "id": "0c141aba",
   "metadata": {},
   "outputs": [],
   "source": [
    "import pandas as pd\n",
    "from pandas import DataFrame,Series\n",
    "import matplotlib.pyplot as plt\n",
    "import numpy as np"
   ]
  },
  {
   "cell_type": "markdown",
   "id": "e453b0a5",
   "metadata": {},
   "source": [
    "# 通过描述性统计理解数据"
   ]
  },
  {
   "cell_type": "markdown",
   "id": "cd1b4969",
   "metadata": {},
   "source": [
    "## 查看原始数据 "
   ]
  },
  {
   "cell_type": "code",
   "execution_count": 2,
   "id": "c023db97",
   "metadata": {},
   "outputs": [
    {
     "data": {
      "text/html": [
       "<div>\n",
       "<style scoped>\n",
       "    .dataframe tbody tr th:only-of-type {\n",
       "        vertical-align: middle;\n",
       "    }\n",
       "\n",
       "    .dataframe tbody tr th {\n",
       "        vertical-align: top;\n",
       "    }\n",
       "\n",
       "    .dataframe thead th {\n",
       "        text-align: right;\n",
       "    }\n",
       "</style>\n",
       "<table border=\"1\" class=\"dataframe\">\n",
       "  <thead>\n",
       "    <tr style=\"text-align: right;\">\n",
       "      <th></th>\n",
       "      <th>preg</th>\n",
       "      <th>plas</th>\n",
       "      <th>pres</th>\n",
       "      <th>skin</th>\n",
       "      <th>test</th>\n",
       "      <th>mass</th>\n",
       "      <th>pedi</th>\n",
       "      <th>age</th>\n",
       "      <th>class</th>\n",
       "    </tr>\n",
       "  </thead>\n",
       "  <tbody>\n",
       "    <tr>\n",
       "      <th>0</th>\n",
       "      <td>6</td>\n",
       "      <td>148</td>\n",
       "      <td>72</td>\n",
       "      <td>35</td>\n",
       "      <td>0</td>\n",
       "      <td>33.6</td>\n",
       "      <td>0.627</td>\n",
       "      <td>50</td>\n",
       "      <td>1</td>\n",
       "    </tr>\n",
       "    <tr>\n",
       "      <th>1</th>\n",
       "      <td>1</td>\n",
       "      <td>85</td>\n",
       "      <td>66</td>\n",
       "      <td>29</td>\n",
       "      <td>0</td>\n",
       "      <td>26.6</td>\n",
       "      <td>0.351</td>\n",
       "      <td>31</td>\n",
       "      <td>0</td>\n",
       "    </tr>\n",
       "    <tr>\n",
       "      <th>2</th>\n",
       "      <td>8</td>\n",
       "      <td>183</td>\n",
       "      <td>64</td>\n",
       "      <td>0</td>\n",
       "      <td>0</td>\n",
       "      <td>23.3</td>\n",
       "      <td>0.672</td>\n",
       "      <td>32</td>\n",
       "      <td>1</td>\n",
       "    </tr>\n",
       "    <tr>\n",
       "      <th>3</th>\n",
       "      <td>1</td>\n",
       "      <td>89</td>\n",
       "      <td>66</td>\n",
       "      <td>23</td>\n",
       "      <td>94</td>\n",
       "      <td>28.1</td>\n",
       "      <td>0.167</td>\n",
       "      <td>21</td>\n",
       "      <td>0</td>\n",
       "    </tr>\n",
       "    <tr>\n",
       "      <th>4</th>\n",
       "      <td>0</td>\n",
       "      <td>137</td>\n",
       "      <td>40</td>\n",
       "      <td>35</td>\n",
       "      <td>168</td>\n",
       "      <td>43.1</td>\n",
       "      <td>2.288</td>\n",
       "      <td>33</td>\n",
       "      <td>1</td>\n",
       "    </tr>\n",
       "  </tbody>\n",
       "</table>\n",
       "</div>"
      ],
      "text/plain": [
       "   preg  plas  pres  skin  test  mass   pedi  age  class\n",
       "0     6   148    72    35     0  33.6  0.627   50      1\n",
       "1     1    85    66    29     0  26.6  0.351   31      0\n",
       "2     8   183    64     0     0  23.3  0.672   32      1\n",
       "3     1    89    66    23    94  28.1  0.167   21      0\n",
       "4     0   137    40    35   168  43.1  2.288   33      1"
      ]
     },
     "execution_count": 2,
     "metadata": {},
     "output_type": "execute_result"
    }
   ],
   "source": [
    "names = ['preg', 'plas', 'pres', 'skin', 'test', 'mass', 'pedi', 'age', 'class']\n",
    "data = pd.read_csv('diabetes.csv', names=names, skiprows=1)\n",
    "data.head()"
   ]
  },
  {
   "cell_type": "markdown",
   "id": "4ca6490d",
   "metadata": {},
   "source": [
    "## 观察数据维度"
   ]
  },
  {
   "cell_type": "markdown",
   "id": "37497351",
   "metadata": {},
   "source": [
    "- 太多的数据（行）可能会导致算法花费更多的时间来训练，太少的话，又不足以进行训练。\n",
    "- 过多的特征（列）和一些算法会因为“维度诅咒”导致无法聚焦重点或影响性能。"
   ]
  },
  {
   "cell_type": "code",
   "execution_count": 3,
   "id": "f0d8bf55",
   "metadata": {},
   "outputs": [
    {
     "data": {
      "text/plain": [
       "(768, 9)"
      ]
     },
     "execution_count": 3,
     "metadata": {},
     "output_type": "execute_result"
    }
   ],
   "source": [
    "data.shape"
   ]
  },
  {
   "cell_type": "markdown",
   "id": "daef6e2e",
   "metadata": {},
   "source": [
    "## 属性的数据类型"
   ]
  },
  {
   "cell_type": "markdown",
   "id": "a2844f13",
   "metadata": {},
   "source": [
    "属性的数据类型非常重要，一般来说，需要把字符类型转换成浮点类型或者整数类型。"
   ]
  },
  {
   "cell_type": "code",
   "execution_count": 4,
   "id": "e50624f8",
   "metadata": {},
   "outputs": [
    {
     "data": {
      "text/plain": [
       "preg       int64\n",
       "plas       int64\n",
       "pres       int64\n",
       "skin       int64\n",
       "test       int64\n",
       "mass     float64\n",
       "pedi     float64\n",
       "age        int64\n",
       "class      int64\n",
       "dtype: object"
      ]
     },
     "execution_count": 4,
     "metadata": {},
     "output_type": "execute_result"
    }
   ],
   "source": [
    "data.dtypes"
   ]
  },
  {
   "cell_type": "markdown",
   "id": "eae5b416",
   "metadata": {},
   "source": [
    "## 描述性统计"
   ]
  },
  {
   "cell_type": "markdown",
   "id": "fc3e8521",
   "metadata": {},
   "source": [
    "描述性统计可以很好地了解每个属性的形状。"
   ]
  },
  {
   "cell_type": "code",
   "execution_count": 5,
   "id": "cd11217e",
   "metadata": {},
   "outputs": [
    {
     "data": {
      "text/html": [
       "<div>\n",
       "<style scoped>\n",
       "    .dataframe tbody tr th:only-of-type {\n",
       "        vertical-align: middle;\n",
       "    }\n",
       "\n",
       "    .dataframe tbody tr th {\n",
       "        vertical-align: top;\n",
       "    }\n",
       "\n",
       "    .dataframe thead th {\n",
       "        text-align: right;\n",
       "    }\n",
       "</style>\n",
       "<table border=\"1\" class=\"dataframe\">\n",
       "  <thead>\n",
       "    <tr style=\"text-align: right;\">\n",
       "      <th></th>\n",
       "      <th>preg</th>\n",
       "      <th>plas</th>\n",
       "      <th>pres</th>\n",
       "      <th>skin</th>\n",
       "      <th>test</th>\n",
       "      <th>mass</th>\n",
       "      <th>pedi</th>\n",
       "      <th>age</th>\n",
       "      <th>class</th>\n",
       "    </tr>\n",
       "  </thead>\n",
       "  <tbody>\n",
       "    <tr>\n",
       "      <th>count</th>\n",
       "      <td>768.000</td>\n",
       "      <td>768.000</td>\n",
       "      <td>768.000</td>\n",
       "      <td>768.000</td>\n",
       "      <td>768.000</td>\n",
       "      <td>768.000</td>\n",
       "      <td>768.000</td>\n",
       "      <td>768.000</td>\n",
       "      <td>768.000</td>\n",
       "    </tr>\n",
       "    <tr>\n",
       "      <th>mean</th>\n",
       "      <td>3.845</td>\n",
       "      <td>120.895</td>\n",
       "      <td>69.105</td>\n",
       "      <td>20.536</td>\n",
       "      <td>79.799</td>\n",
       "      <td>31.993</td>\n",
       "      <td>0.472</td>\n",
       "      <td>33.241</td>\n",
       "      <td>0.349</td>\n",
       "    </tr>\n",
       "    <tr>\n",
       "      <th>std</th>\n",
       "      <td>3.370</td>\n",
       "      <td>31.973</td>\n",
       "      <td>19.356</td>\n",
       "      <td>15.952</td>\n",
       "      <td>115.244</td>\n",
       "      <td>7.884</td>\n",
       "      <td>0.331</td>\n",
       "      <td>11.760</td>\n",
       "      <td>0.477</td>\n",
       "    </tr>\n",
       "    <tr>\n",
       "      <th>min</th>\n",
       "      <td>0.000</td>\n",
       "      <td>0.000</td>\n",
       "      <td>0.000</td>\n",
       "      <td>0.000</td>\n",
       "      <td>0.000</td>\n",
       "      <td>0.000</td>\n",
       "      <td>0.078</td>\n",
       "      <td>21.000</td>\n",
       "      <td>0.000</td>\n",
       "    </tr>\n",
       "    <tr>\n",
       "      <th>25%</th>\n",
       "      <td>1.000</td>\n",
       "      <td>99.000</td>\n",
       "      <td>62.000</td>\n",
       "      <td>0.000</td>\n",
       "      <td>0.000</td>\n",
       "      <td>27.300</td>\n",
       "      <td>0.244</td>\n",
       "      <td>24.000</td>\n",
       "      <td>0.000</td>\n",
       "    </tr>\n",
       "    <tr>\n",
       "      <th>50%</th>\n",
       "      <td>3.000</td>\n",
       "      <td>117.000</td>\n",
       "      <td>72.000</td>\n",
       "      <td>23.000</td>\n",
       "      <td>30.500</td>\n",
       "      <td>32.000</td>\n",
       "      <td>0.372</td>\n",
       "      <td>29.000</td>\n",
       "      <td>0.000</td>\n",
       "    </tr>\n",
       "    <tr>\n",
       "      <th>75%</th>\n",
       "      <td>6.000</td>\n",
       "      <td>140.250</td>\n",
       "      <td>80.000</td>\n",
       "      <td>32.000</td>\n",
       "      <td>127.250</td>\n",
       "      <td>36.600</td>\n",
       "      <td>0.626</td>\n",
       "      <td>41.000</td>\n",
       "      <td>1.000</td>\n",
       "    </tr>\n",
       "    <tr>\n",
       "      <th>max</th>\n",
       "      <td>17.000</td>\n",
       "      <td>199.000</td>\n",
       "      <td>122.000</td>\n",
       "      <td>99.000</td>\n",
       "      <td>846.000</td>\n",
       "      <td>67.100</td>\n",
       "      <td>2.420</td>\n",
       "      <td>81.000</td>\n",
       "      <td>1.000</td>\n",
       "    </tr>\n",
       "  </tbody>\n",
       "</table>\n",
       "</div>"
      ],
      "text/plain": [
       "          preg     plas     pres     skin     test     mass     pedi      age  \\\n",
       "count  768.000  768.000  768.000  768.000  768.000  768.000  768.000  768.000   \n",
       "mean     3.845  120.895   69.105   20.536   79.799   31.993    0.472   33.241   \n",
       "std      3.370   31.973   19.356   15.952  115.244    7.884    0.331   11.760   \n",
       "min      0.000    0.000    0.000    0.000    0.000    0.000    0.078   21.000   \n",
       "25%      1.000   99.000   62.000    0.000    0.000   27.300    0.244   24.000   \n",
       "50%      3.000  117.000   72.000   23.000   30.500   32.000    0.372   29.000   \n",
       "75%      6.000  140.250   80.000   32.000  127.250   36.600    0.626   41.000   \n",
       "max     17.000  199.000  122.000   99.000  846.000   67.100    2.420   81.000   \n",
       "\n",
       "         class  \n",
       "count  768.000  \n",
       "mean     0.349  \n",
       "std      0.477  \n",
       "min      0.000  \n",
       "25%      0.000  \n",
       "50%      0.000  \n",
       "75%      1.000  \n",
       "max      1.000  "
      ]
     },
     "execution_count": 5,
     "metadata": {},
     "output_type": "execute_result"
    }
   ],
   "source": [
    "pd.set_option('precision', 3)\n",
    "data.describe()"
   ]
  },
  {
   "cell_type": "markdown",
   "id": "ad884d00",
   "metadata": {},
   "source": [
    "## 类别分布"
   ]
  },
  {
   "cell_type": "markdown",
   "id": "827542bf",
   "metadata": {},
   "source": [
    "在分类问题上，需要知道类别值是否平衡。高度不平衡的问题(一个类比另一个类的观察更多)很常见，此时可能需要在项目的数据准备阶段进行特殊处理。"
   ]
  },
  {
   "cell_type": "code",
   "execution_count": 6,
   "id": "02c0eea4",
   "metadata": {},
   "outputs": [
    {
     "data": {
      "text/plain": [
       "class\n",
       "0    500\n",
       "1    268\n",
       "dtype: int64"
      ]
     },
     "execution_count": 6,
     "metadata": {},
     "output_type": "execute_result"
    }
   ],
   "source": [
    "data.groupby('class').size()"
   ]
  },
  {
   "cell_type": "markdown",
   "id": "a092e82c",
   "metadata": {},
   "source": [
    "## 属性之间的相关性"
   ]
  },
  {
   "cell_type": "markdown",
   "id": "b3f7a914",
   "metadata": {},
   "source": [
    "计算相关性最常用的方法是皮尔逊相关系数，它假定属性的分布为正态分布。如果数据集中有高度相关的属性，一些机器学习算法(如线性和逻辑回归)的性能会很差。"
   ]
  },
  {
   "cell_type": "code",
   "execution_count": 7,
   "id": "5e3f88a1",
   "metadata": {},
   "outputs": [
    {
     "data": {
      "text/html": [
       "<div>\n",
       "<style scoped>\n",
       "    .dataframe tbody tr th:only-of-type {\n",
       "        vertical-align: middle;\n",
       "    }\n",
       "\n",
       "    .dataframe tbody tr th {\n",
       "        vertical-align: top;\n",
       "    }\n",
       "\n",
       "    .dataframe thead th {\n",
       "        text-align: right;\n",
       "    }\n",
       "</style>\n",
       "<table border=\"1\" class=\"dataframe\">\n",
       "  <thead>\n",
       "    <tr style=\"text-align: right;\">\n",
       "      <th></th>\n",
       "      <th>preg</th>\n",
       "      <th>plas</th>\n",
       "      <th>pres</th>\n",
       "      <th>skin</th>\n",
       "      <th>test</th>\n",
       "      <th>mass</th>\n",
       "      <th>pedi</th>\n",
       "      <th>age</th>\n",
       "      <th>class</th>\n",
       "    </tr>\n",
       "  </thead>\n",
       "  <tbody>\n",
       "    <tr>\n",
       "      <th>preg</th>\n",
       "      <td>1.000</td>\n",
       "      <td>0.129</td>\n",
       "      <td>0.141</td>\n",
       "      <td>-0.082</td>\n",
       "      <td>-0.074</td>\n",
       "      <td>0.018</td>\n",
       "      <td>-0.034</td>\n",
       "      <td>0.544</td>\n",
       "      <td>0.222</td>\n",
       "    </tr>\n",
       "    <tr>\n",
       "      <th>plas</th>\n",
       "      <td>0.129</td>\n",
       "      <td>1.000</td>\n",
       "      <td>0.153</td>\n",
       "      <td>0.057</td>\n",
       "      <td>0.331</td>\n",
       "      <td>0.221</td>\n",
       "      <td>0.137</td>\n",
       "      <td>0.264</td>\n",
       "      <td>0.467</td>\n",
       "    </tr>\n",
       "    <tr>\n",
       "      <th>pres</th>\n",
       "      <td>0.141</td>\n",
       "      <td>0.153</td>\n",
       "      <td>1.000</td>\n",
       "      <td>0.207</td>\n",
       "      <td>0.089</td>\n",
       "      <td>0.282</td>\n",
       "      <td>0.041</td>\n",
       "      <td>0.240</td>\n",
       "      <td>0.065</td>\n",
       "    </tr>\n",
       "    <tr>\n",
       "      <th>skin</th>\n",
       "      <td>-0.082</td>\n",
       "      <td>0.057</td>\n",
       "      <td>0.207</td>\n",
       "      <td>1.000</td>\n",
       "      <td>0.437</td>\n",
       "      <td>0.393</td>\n",
       "      <td>0.184</td>\n",
       "      <td>-0.114</td>\n",
       "      <td>0.075</td>\n",
       "    </tr>\n",
       "    <tr>\n",
       "      <th>test</th>\n",
       "      <td>-0.074</td>\n",
       "      <td>0.331</td>\n",
       "      <td>0.089</td>\n",
       "      <td>0.437</td>\n",
       "      <td>1.000</td>\n",
       "      <td>0.198</td>\n",
       "      <td>0.185</td>\n",
       "      <td>-0.042</td>\n",
       "      <td>0.131</td>\n",
       "    </tr>\n",
       "    <tr>\n",
       "      <th>mass</th>\n",
       "      <td>0.018</td>\n",
       "      <td>0.221</td>\n",
       "      <td>0.282</td>\n",
       "      <td>0.393</td>\n",
       "      <td>0.198</td>\n",
       "      <td>1.000</td>\n",
       "      <td>0.141</td>\n",
       "      <td>0.036</td>\n",
       "      <td>0.293</td>\n",
       "    </tr>\n",
       "    <tr>\n",
       "      <th>pedi</th>\n",
       "      <td>-0.034</td>\n",
       "      <td>0.137</td>\n",
       "      <td>0.041</td>\n",
       "      <td>0.184</td>\n",
       "      <td>0.185</td>\n",
       "      <td>0.141</td>\n",
       "      <td>1.000</td>\n",
       "      <td>0.034</td>\n",
       "      <td>0.174</td>\n",
       "    </tr>\n",
       "    <tr>\n",
       "      <th>age</th>\n",
       "      <td>0.544</td>\n",
       "      <td>0.264</td>\n",
       "      <td>0.240</td>\n",
       "      <td>-0.114</td>\n",
       "      <td>-0.042</td>\n",
       "      <td>0.036</td>\n",
       "      <td>0.034</td>\n",
       "      <td>1.000</td>\n",
       "      <td>0.238</td>\n",
       "    </tr>\n",
       "    <tr>\n",
       "      <th>class</th>\n",
       "      <td>0.222</td>\n",
       "      <td>0.467</td>\n",
       "      <td>0.065</td>\n",
       "      <td>0.075</td>\n",
       "      <td>0.131</td>\n",
       "      <td>0.293</td>\n",
       "      <td>0.174</td>\n",
       "      <td>0.238</td>\n",
       "      <td>1.000</td>\n",
       "    </tr>\n",
       "  </tbody>\n",
       "</table>\n",
       "</div>"
      ],
      "text/plain": [
       "        preg   plas   pres   skin   test   mass   pedi    age  class\n",
       "preg   1.000  0.129  0.141 -0.082 -0.074  0.018 -0.034  0.544  0.222\n",
       "plas   0.129  1.000  0.153  0.057  0.331  0.221  0.137  0.264  0.467\n",
       "pres   0.141  0.153  1.000  0.207  0.089  0.282  0.041  0.240  0.065\n",
       "skin  -0.082  0.057  0.207  1.000  0.437  0.393  0.184 -0.114  0.075\n",
       "test  -0.074  0.331  0.089  0.437  1.000  0.198  0.185 -0.042  0.131\n",
       "mass   0.018  0.221  0.282  0.393  0.198  1.000  0.141  0.036  0.293\n",
       "pedi  -0.034  0.137  0.041  0.184  0.185  0.141  1.000  0.034  0.174\n",
       "age    0.544  0.264  0.240 -0.114 -0.042  0.036  0.034  1.000  0.238\n",
       "class  0.222  0.467  0.065  0.075  0.131  0.293  0.174  0.238  1.000"
      ]
     },
     "execution_count": 7,
     "metadata": {},
     "output_type": "execute_result"
    }
   ],
   "source": [
    "data.corr()"
   ]
  },
  {
   "cell_type": "markdown",
   "id": "47b7712d",
   "metadata": {},
   "source": [
    "## 单变量分布的偏度"
   ]
  },
  {
   "cell_type": "markdown",
   "id": "2730f0f3",
   "metadata": {},
   "source": [
    "偏度是指一个假设为高斯(正态或钟形曲线)的分布，在一个方向或另一个方向上移动或压扁。许多机器学习算法都假设一个高斯分布。知道一个属性的偏度可以在数据准备阶段纠正倾斜度，然后提高模型的准确性。"
   ]
  },
  {
   "cell_type": "code",
   "execution_count": 8,
   "id": "12318810",
   "metadata": {},
   "outputs": [
    {
     "data": {
      "text/plain": [
       "preg     0.902\n",
       "plas     0.174\n",
       "pres    -1.844\n",
       "skin     0.109\n",
       "test     2.272\n",
       "mass    -0.429\n",
       "pedi     1.920\n",
       "age      1.130\n",
       "class    0.635\n",
       "dtype: float64"
      ]
     },
     "execution_count": 8,
     "metadata": {},
     "output_type": "execute_result"
    }
   ],
   "source": [
    "data.skew()"
   ]
  },
  {
   "cell_type": "markdown",
   "id": "d1be025a",
   "metadata": {},
   "source": [
    "# 通过可视化理解数据"
   ]
  },
  {
   "cell_type": "markdown",
   "id": "64d230c3",
   "metadata": {},
   "source": [
    "## 单变量作图"
   ]
  },
  {
   "cell_type": "markdown",
   "id": "c425adec",
   "metadata": {},
   "source": [
    "### 直方图"
   ]
  },
  {
   "cell_type": "markdown",
   "id": "973570e9",
   "metadata": {},
   "source": [
    "了解每个属性分布的一个快速方法是查看直方图。直方图将数据分组到各个箱子中，并提供每个箱子中数据的数量。从箱子的形状，可以很快地观察到一个属性是高斯分布，偏态分布，甚至是指数分布。它还可以帮助您看到可能的异常值。"
   ]
  },
  {
   "cell_type": "code",
   "execution_count": 9,
   "id": "e331e797",
   "metadata": {},
   "outputs": [
    {
     "data": {
      "image/png": "[encoded data removed]",
      "text/plain": [
       "<Figure size 720x576 with 9 Axes>"
      ]
     },
     "metadata": {
      "needs_background": "light"
     },
     "output_type": "display_data"
    }
   ],
   "source": [
    "data.hist(figsize=(10, 8)); # 加一个分号可以抑制输出"
   ]
  },
  {
   "cell_type": "markdown",
   "id": "39f7f50c",
   "metadata": {},
   "source": [
    "### 密度图"
   ]
  },
  {
   "cell_type": "markdown",
   "id": "9b981669",
   "metadata": {},
   "source": [
    "密度图就像是直方图箱子上方画了一条曲线。"
   ]
  },
  {
   "cell_type": "code",
   "execution_count": 10,
   "id": "ed505293",
   "metadata": {},
   "outputs": [
    {
     "data": {
      "image/png": "[encoded data removed]",
      "text/plain": [
       "<Figure size 1008x576 with 9 Axes>"
      ]
     },
     "metadata": {
      "needs_background": "light"
     },
     "output_type": "display_data"
    }
   ],
   "source": [
    "axes = data.plot(kind='density', subplots=True, layout=(3, 3), figsize=(14, 8), sharex=False)\n",
    "[axes[i][j].set_ylabel(None) for i in range(3) for j in range(3)]; # 去掉默认的y轴的label标签"
   ]
  },
  {
   "cell_type": "markdown",
   "id": "213da853",
   "metadata": {},
   "source": [
    "### 箱线图"
   ]
  },
  {
   "cell_type": "markdown",
   "id": "7c03f7e8",
   "metadata": {},
   "source": [
    "箱线图用来查看数据分布，查找异常值很有用。箱线图的箱是数据的Q1到Q3的四分位数值，中间有一条线(Q2)。须从箱的边缘向外延伸，表示数据的范围。默认情况下，它们从箱的边缘扩展不超过1.5 * IQR (IQR = Q3 - Q1)，注意：间隔长度<= 1.5 * IQR，结束于间隔内最远的数据点。异常值被绘制成独立的点。\n",
    "\n",
    "要注意，使用`boxplot`方法和使用`plot`方法并传递`kind='box'`参数是有一些区别的。比如`boxplot`没有`subplots`参数，不能画子图，而`plot`方法没有`by`参数，不能根据某一个列进行聚合："
   ]
  },
  {
   "cell_type": "code",
   "execution_count": 11,
   "id": "a2438675",
   "metadata": {},
   "outputs": [
    {
     "data": {
      "image/png": "[encoded data removed]",
      "text/plain": [
       "<Figure size 720x504 with 9 Axes>"
      ]
     },
     "metadata": {
      "needs_background": "light"
     },
     "output_type": "display_data"
    }
   ],
   "source": [
    "data.plot(kind='box', subplots=True, layout=(3, 3), figsize=(10, 7), return_type='dict');"
   ]
  },
  {
   "cell_type": "markdown",
   "id": "3c9fa050",
   "metadata": {},
   "source": [
    "箱线图有个`by`参数值得深入了解一下，比如如下的数据："
   ]
  },
  {
   "cell_type": "code",
   "execution_count": 12,
   "id": "7a6d8212",
   "metadata": {},
   "outputs": [
    {
     "data": {
      "text/html": [
       "<div>\n",
       "<style scoped>\n",
       "    .dataframe tbody tr th:only-of-type {\n",
       "        vertical-align: middle;\n",
       "    }\n",
       "\n",
       "    .dataframe tbody tr th {\n",
       "        vertical-align: top;\n",
       "    }\n",
       "\n",
       "    .dataframe thead th {\n",
       "        text-align: right;\n",
       "    }\n",
       "</style>\n",
       "<table border=\"1\" class=\"dataframe\">\n",
       "  <thead>\n",
       "    <tr style=\"text-align: right;\">\n",
       "      <th></th>\n",
       "      <th>Col1</th>\n",
       "      <th>Col2</th>\n",
       "      <th>X</th>\n",
       "    </tr>\n",
       "  </thead>\n",
       "  <tbody>\n",
       "    <tr>\n",
       "      <th>0</th>\n",
       "      <td>0.201</td>\n",
       "      <td>0.136</td>\n",
       "      <td>A</td>\n",
       "    </tr>\n",
       "    <tr>\n",
       "      <th>1</th>\n",
       "      <td>0.016</td>\n",
       "      <td>-1.971</td>\n",
       "      <td>A</td>\n",
       "    </tr>\n",
       "    <tr>\n",
       "      <th>2</th>\n",
       "      <td>-1.340</td>\n",
       "      <td>0.506</td>\n",
       "      <td>A</td>\n",
       "    </tr>\n",
       "    <tr>\n",
       "      <th>3</th>\n",
       "      <td>1.371</td>\n",
       "      <td>0.844</td>\n",
       "      <td>A</td>\n",
       "    </tr>\n",
       "    <tr>\n",
       "      <th>4</th>\n",
       "      <td>-1.129</td>\n",
       "      <td>-1.440</td>\n",
       "      <td>A</td>\n",
       "    </tr>\n",
       "    <tr>\n",
       "      <th>5</th>\n",
       "      <td>-0.663</td>\n",
       "      <td>0.380</td>\n",
       "      <td>B</td>\n",
       "    </tr>\n",
       "    <tr>\n",
       "      <th>6</th>\n",
       "      <td>2.395</td>\n",
       "      <td>-2.024</td>\n",
       "      <td>B</td>\n",
       "    </tr>\n",
       "    <tr>\n",
       "      <th>7</th>\n",
       "      <td>-0.198</td>\n",
       "      <td>0.713</td>\n",
       "      <td>B</td>\n",
       "    </tr>\n",
       "    <tr>\n",
       "      <th>8</th>\n",
       "      <td>0.711</td>\n",
       "      <td>-1.491</td>\n",
       "      <td>B</td>\n",
       "    </tr>\n",
       "    <tr>\n",
       "      <th>9</th>\n",
       "      <td>-0.398</td>\n",
       "      <td>-0.748</td>\n",
       "      <td>B</td>\n",
       "    </tr>\n",
       "  </tbody>\n",
       "</table>\n",
       "</div>"
      ],
      "text/plain": [
       "    Col1   Col2  X\n",
       "0  0.201  0.136  A\n",
       "1  0.016 -1.971  A\n",
       "2 -1.340  0.506  A\n",
       "3  1.371  0.844  A\n",
       "4 -1.129 -1.440  A\n",
       "5 -0.663  0.380  B\n",
       "6  2.395 -2.024  B\n",
       "7 -0.198  0.713  B\n",
       "8  0.711 -1.491  B\n",
       "9 -0.398 -0.748  B"
      ]
     },
     "execution_count": 12,
     "metadata": {},
     "output_type": "execute_result"
    }
   ],
   "source": [
    "df = pd.DataFrame(np.random.randn(10, 2), columns=['Col1', 'Col2'])\n",
    "df['X'] = pd.Series(['A', 'A', 'A', 'A', 'A', 'B', 'B', 'B', 'B', 'B'])\n",
    "df"
   ]
  },
  {
   "cell_type": "markdown",
   "id": "e649230d",
   "metadata": {},
   "source": [
    "默认情况下，会绘制所有数值类型列的箱线图，每一列都是一个箱线图："
   ]
  },
  {
   "cell_type": "code",
   "execution_count": 13,
   "id": "7c6f281b",
   "metadata": {},
   "outputs": [
    {
     "data": {
      "image/png": "[encoded data removed]",
      "text/plain": [
       "<Figure size 432x288 with 1 Axes>"
      ]
     },
     "metadata": {
      "needs_background": "light"
     },
     "output_type": "display_data"
    }
   ],
   "source": [
    "df.boxplot();"
   ]
  },
  {
   "cell_type": "markdown",
   "id": "c2a7b986",
   "metadata": {},
   "source": [
    "如果想针对列X画箱线图，即对于每一列来说，X为A的画一个箱线图，X为B的画一个箱线图，此时可以使用`by`参数："
   ]
  },
  {
   "cell_type": "code",
   "execution_count": 14,
   "id": "6282f7fc",
   "metadata": {},
   "outputs": [
    {
     "data": {
      "image/png": "[encoded data removed]",
      "text/plain": [
       "<Figure size 432x288 with 2 Axes>"
      ]
     },
     "metadata": {
      "needs_background": "light"
     },
     "output_type": "display_data"
    }
   ],
   "source": [
    "r = df.boxplot(by='X', return_type='dict');"
   ]
  },
  {
   "cell_type": "markdown",
   "id": "d8c8d825",
   "metadata": {},
   "source": [
    "箱线图有一个`return_type`参数，如果设置为`dict`，可以返回一个字典，包含箱线图的所有线段对象。可以利用这个特性获得所有的异常值："
   ]
  },
  {
   "cell_type": "code",
   "execution_count": 15,
   "id": "c05ae7a9",
   "metadata": {},
   "outputs": [
    {
     "data": {
      "text/plain": [
       "Col1    {'whiskers': [Line2D(_line1), Line2D(_line2), ...\n",
       "Col2    {'whiskers': [Line2D(_line1), Line2D(_line2), ...\n",
       "dtype: object"
      ]
     },
     "execution_count": 15,
     "metadata": {},
     "output_type": "execute_result"
    }
   ],
   "source": [
    "r"
   ]
  },
  {
   "cell_type": "code",
   "execution_count": 16,
   "id": "fc29822b",
   "metadata": {},
   "outputs": [
    {
     "data": {
      "text/plain": [
       "array([], dtype=object)"
      ]
     },
     "execution_count": 16,
     "metadata": {},
     "output_type": "execute_result"
    }
   ],
   "source": [
    "r['Col1']['fliers'][0].get_ydata()  # fliers包含上图Col1图B中所有的异常点"
   ]
  },
  {
   "cell_type": "markdown",
   "id": "9e43d870",
   "metadata": {},
   "source": [
    "## 多变量作图"
   ]
  },
  {
   "cell_type": "markdown",
   "id": "afb0bb2d",
   "metadata": {},
   "source": [
    "### 相关矩阵图"
   ]
  },
  {
   "cell_type": "markdown",
   "id": "66ee9649",
   "metadata": {},
   "source": [
    "使用matplotlib绘制相关矩阵图："
   ]
  },
  {
   "cell_type": "code",
   "execution_count": 17,
   "id": "a32c6a74",
   "metadata": {},
   "outputs": [
    {
     "data": {
      "image/png": "[encoded data removed]",
      "text/plain": [
       "<Figure size 576x360 with 2 Axes>"
      ]
     },
     "metadata": {
      "needs_background": "light"
     },
     "output_type": "display_data"
    }
   ],
   "source": [
    "correlations = data.corr()\n",
    "fig = plt.figure(figsize=(8, 5))\n",
    "ax = fig.add_subplot()\n",
    "cax = ax.matshow(correlations, vmin=-1, vmax=1)  # vmin和vmax指颜色的区域范围\n",
    "fig.colorbar(cax)\n",
    "ticks = np.arange(0, 9, 1)\n",
    "ax.set_xticks(ticks)  # ticks是刻度，默认情况下的ticks是-1开始，所以要设置为从0开始\n",
    "ax.set_xticklabels(names)\n",
    "ax.set_yticks(ticks)\n",
    "ax.set_yticklabels(names);"
   ]
  },
  {
   "cell_type": "markdown",
   "id": "3487482c",
   "metadata": {},
   "source": [
    "### 散点图矩阵"
   ]
  },
  {
   "cell_type": "markdown",
   "id": "947e89a7",
   "metadata": {},
   "source": [
    "散点矩阵图相当于把直方图和散点图结合起来，既可以看数据的分布，也可以看属性之间的关系。"
   ]
  },
  {
   "cell_type": "code",
   "execution_count": 18,
   "id": "2d509a28",
   "metadata": {
    "scrolled": false
   },
   "outputs": [
    {
     "data": {
      "image/png": "[encoded data removed]",
      "text/plain": [
       "<Figure size 576x576 with 81 Axes>"
      ]
     },
     "metadata": {
      "needs_background": "light"
     },
     "output_type": "display_data"
    }
   ],
   "source": [
    "from pandas.plotting import scatter_matrix\n",
    "scatter_matrix(data, figsize=(8, 8));"
   ]
  },
  {
   "cell_type": "markdown",
   "id": "9ce2208c",
   "metadata": {},
   "source": [
    "# 为机器学习准备数据"
   ]
  },
  {
   "cell_type": "markdown",
   "id": "0fcd0124",
   "metadata": {},
   "source": [
    "许多机器学习的算法都会对数据结构有一些假设，因此需要提前对数据进行预处理。\n",
    "1. rescale data, 调整数据尺度\n",
    "2. standarlize data, 标准化数据\n",
    "3. normalize data, 规范化数据\n",
    "4. binarize data, 二值化数据"
   ]
  },
  {
   "cell_type": "markdown",
   "id": "46dbfd97",
   "metadata": {},
   "source": [
    "## 数据转换"
   ]
  },
  {
   "cell_type": "markdown",
   "id": "a00356c6",
   "metadata": {},
   "source": [
    "sklean转换数据通常来说提供两种方式的API：\n",
    "1. 先fit，然后再transform：先调用`fit()`函数来为数据准备转换的参数。然后就可以在相同的数据上使用`transform()`函数来为建模做准备，并在将来可能用到的测试或验证数据集或新数据上可以再次使用`transform()`函数。\n",
    "2. 直接调用fit_transform: 相当于`fit`+`transofrm`一步到位，如果需要快速查看转换结果，这很有用。"
   ]
  },
  {
   "cell_type": "markdown",
   "id": "918531a1",
   "metadata": {},
   "source": [
    "## Rescale Data"
   ]
  },
  {
   "cell_type": "markdown",
   "id": "ba88ef4d",
   "metadata": {},
   "source": [
    "通常情况下，把不同特征或者说属性的范围调整到相同的尺寸，比如说0-1，对很多算法很有用，比如说：\n",
    "1. 涉及到梯度下降的算法\n",
    "2. 输入包含权重的算法，比如回归和神经网络\n",
    "3. 涉及到距离度量的算法，比如说k近邻"
   ]
  },
  {
   "cell_type": "code",
   "execution_count": 19,
   "id": "0d44ee56",
   "metadata": {},
   "outputs": [
    {
     "name": "stdout",
     "output_type": "stream",
     "text": [
      "[[0.353 0.744 0.59  0.354 0.    0.501 0.234 0.483]\n",
      " [0.059 0.427 0.541 0.293 0.    0.396 0.117 0.167]\n",
      " [0.471 0.92  0.525 0.    0.    0.347 0.254 0.183]\n",
      " [0.059 0.447 0.541 0.232 0.111 0.419 0.038 0.   ]\n",
      " [0.    0.688 0.328 0.354 0.199 0.642 0.944 0.2  ]]\n"
     ]
    }
   ],
   "source": [
    "from sklearn.preprocessing import MinMaxScaler\n",
    "arr = data.values\n",
    "X = arr[:, :8]\n",
    "Y = arr[:, 8]\n",
    "\n",
    "scaler = MinMaxScaler(feature_range=(0, 1))\n",
    "rescaledX = scaler.fit_transform(X)\n",
    "\n",
    "from numpy import set_printoptions\n",
    "set_printoptions(precision=3)\n",
    "print(rescaledX[:5, :])"
   ]
  },
  {
   "cell_type": "markdown",
   "id": "35d81bad",
   "metadata": {},
   "source": [
    "## Standard Data"
   ]
  },
  {
   "cell_type": "markdown",
   "id": "22d1b5cb",
   "metadata": {},
   "source": [
    "标准化是将数据转换成均值为0，标准差为1的标准正态分布的一种技术，它最适用于输入变量中假定高斯分布的技术，并能更好地处理缩放数据，如线性回归、逻辑回归和线性判别分析。\n",
    "\n",
    "标准化和归一化都对数据进行了缩放，它们之间的优劣如下：\n",
    "- [【机器学习中数据预处理—标准化/归一化】](https://blog.csdn.net/qq_33472765/article/details/85944256)\n",
    "\n",
    "tips：对正态化或者归一化的数据做散点矩阵图或者相关矩阵图，并不影响图像的形状。"
   ]
  },
  {
   "cell_type": "code",
   "execution_count": 20,
   "id": "707ce636",
   "metadata": {},
   "outputs": [
    {
     "name": "stdout",
     "output_type": "stream",
     "text": [
      "[[ 0.64   0.848  0.15   0.907 -0.693  0.204  0.468  1.426]\n",
      " [-0.845 -1.123 -0.161  0.531 -0.693 -0.684 -0.365 -0.191]\n",
      " [ 1.234  1.944 -0.264 -1.288 -0.693 -1.103  0.604 -0.106]\n",
      " [-0.845 -0.998 -0.161  0.155  0.123 -0.494 -0.921 -1.042]\n",
      " [-1.142  0.504 -1.505  0.907  0.766  1.41   5.485 -0.02 ]]\n"
     ]
    }
   ],
   "source": [
    "from sklearn.preprocessing import StandardScaler\n",
    "\n",
    "scaler = StandardScaler().fit(X)\n",
    "rescaledX = scaler.transform(X)\n",
    "np.set_printoptions(precision=3)\n",
    "print(rescaledX[0:5, :])"
   ]
  },
  {
   "cell_type": "markdown",
   "id": "d97aea6b",
   "metadata": {},
   "source": [
    "## Normalize Data"
   ]
  },
  {
   "cell_type": "markdown",
   "id": "be98283e",
   "metadata": {},
   "source": [
    "在scikit-learn中，归一化指的是将每个观察(行)缩放到长度为1(在线性代数中称为单位范数或长度为1的向量)。当使用像神经网络这样的加权输入值的算法和像k-Nearest Neighbors这样使用距离度量的算法时，这种预处理方法对于具有不同尺度属性的稀疏数据集(大量零)，比如文本分类，非常有用。"
   ]
  },
  {
   "cell_type": "code",
   "execution_count": 21,
   "id": "71e78d81",
   "metadata": {},
   "outputs": [
    {
     "name": "stdout",
     "output_type": "stream",
     "text": [
      "[[0.034 0.828 0.403 0.196 0.    0.188 0.004 0.28 ]\n",
      " [0.008 0.716 0.556 0.244 0.    0.224 0.003 0.261]\n",
      " [0.04  0.924 0.323 0.    0.    0.118 0.003 0.162]\n",
      " [0.007 0.588 0.436 0.152 0.622 0.186 0.001 0.139]\n",
      " [0.    0.596 0.174 0.152 0.731 0.188 0.01  0.144]]\n"
     ]
    }
   ],
   "source": [
    "from sklearn.preprocessing import Normalizer\n",
    "\n",
    "scaler = Normalizer().fit(X)\n",
    "normalizedX = scaler.transform(X)\n",
    "np.set_printoptions(precision=3)\n",
    "print(normalizedX[:5, :])"
   ]
  },
  {
   "cell_type": "markdown",
   "id": "61d3ccaf",
   "metadata": {},
   "source": [
    "## Binarize Data"
   ]
  },
  {
   "cell_type": "markdown",
   "id": "9810261d",
   "metadata": {},
   "source": [
    "可以使用二进制阈值转换数据。所有高于阈值的值都标记为1，所有等于或低于阈值的值都标记为0。这就是所谓的数据二进制化或数据阈值化。"
   ]
  },
  {
   "cell_type": "code",
   "execution_count": 22,
   "id": "467070a1",
   "metadata": {},
   "outputs": [
    {
     "name": "stdout",
     "output_type": "stream",
     "text": [
      "[[1. 1. 1. 1. 0. 1. 1. 1.]\n",
      " [1. 1. 1. 1. 0. 1. 1. 1.]\n",
      " [1. 1. 1. 0. 0. 1. 1. 1.]\n",
      " [1. 1. 1. 1. 1. 1. 1. 1.]\n",
      " [0. 1. 1. 1. 1. 1. 1. 1.]]\n"
     ]
    }
   ],
   "source": [
    "from sklearn.preprocessing import Binarizer\n",
    "\n",
    "binalizer = Binarizer(threshold=0).fit(X)\n",
    "binalizedX = binalizer.transform(X)\n",
    "np.set_printoptions(precision=3)\n",
    "print(binalizedX[:5, :])"
   ]
  },
  {
   "cell_type": "markdown",
   "id": "05817896",
   "metadata": {},
   "source": [
    "# 特征选择"
   ]
  },
  {
   "cell_type": "markdown",
   "id": "9bf9dd9f",
   "metadata": {},
   "source": [
    "特征选择主要有如下三个好处：\n",
    "- 减少过拟合:更少的冗余数据意味着更少的机会基于噪音做出决策。\n",
    "- 提高精度:减少误导数据意味着提高建模精度。\n",
    "- 减少训练时间:更少的数据意味着算法训练更快。"
   ]
  },
  {
   "cell_type": "markdown",
   "id": "717c0a6b",
   "metadata": {},
   "source": [
    "## 单变量特征选择"
   ]
  },
  {
   "cell_type": "markdown",
   "id": "4edfaa42",
   "metadata": {},
   "source": [
    "统计测试可以用来选择那些与输出变量有最强关系的特征。scikit-learn库提供了`SelectKBest`类，配合相应的统计测试方法，以选择特定数量的特性："
   ]
  },
  {
   "cell_type": "code",
   "execution_count": 23,
   "id": "59b93f34",
   "metadata": {},
   "outputs": [
    {
     "name": "stdout",
     "output_type": "stream",
     "text": [
      "[ 111.52  1411.887   17.605   53.108 2175.565  127.669    5.393  181.304]\n"
     ]
    }
   ],
   "source": [
    "from sklearn.feature_selection import SelectKBest, chi2\n",
    "\n",
    "test = SelectKBest(score_func=chi2, k=4)\n",
    "fit = test.fit(X, Y)\n",
    "np.set_printoptions(precision=3)\n",
    "print(fit.scores_) # 查看得分,选取得分高的"
   ]
  },
  {
   "cell_type": "code",
   "execution_count": 24,
   "id": "e937226c",
   "metadata": {},
   "outputs": [
    {
     "name": "stdout",
     "output_type": "stream",
     "text": [
      "[4.553e-026 5.487e-309 2.718e-005 3.157e-013 0.000e+000 1.326e-029\n",
      " 2.022e-002 2.516e-041]\n"
     ]
    }
   ],
   "source": [
    "print(fit.pvalues_) # 查看p值，选取p值低的"
   ]
  },
  {
   "cell_type": "markdown",
   "id": "93c5067d",
   "metadata": {},
   "source": [
    "初步理解：卡方得分高，对应的p值低。卡方检验是检验变量之间是否独立的，原假设是独立（联列表卡方检验，期望是假设两者之间独立算出来的，所以原假设是独立，参考私房手册卡方检验的内容），备选假设是不独立，存在相关性。p值小，说明原假设发生的几率非常小，有足够的理由拒绝原假设，选择备用假设。即选择与输出变量有强关系的特征。"
   ]
  },
  {
   "cell_type": "code",
   "execution_count": 25,
   "id": "5c6e5ccc",
   "metadata": {},
   "outputs": [
    {
     "name": "stdout",
     "output_type": "stream",
     "text": [
      "[[148.    0.   33.6  50. ]\n",
      " [ 85.    0.   26.6  31. ]\n",
      " [183.    0.   23.3  32. ]\n",
      " [ 89.   94.   28.1  21. ]\n",
      " [137.  168.   43.1  33. ]]\n"
     ]
    }
   ],
   "source": [
    "features = fit.transform(X)\n",
    "print(features[:5, :])"
   ]
  },
  {
   "cell_type": "markdown",
   "id": "07a0288c",
   "metadata": {},
   "source": [
    "## 回归特征消除"
   ]
  },
  {
   "cell_type": "markdown",
   "id": "950d85fa",
   "metadata": {},
   "source": [
    "递归特性消除(RFE)的工作原理是递归地删除属性，并在保留的属性上构建模型。然后根据模型的准确性来识别哪些属性(以及属性的组合)对预测目标属性贡献最大。"
   ]
  },
  {
   "cell_type": "code",
   "execution_count": 26,
   "id": "0a511920",
   "metadata": {},
   "outputs": [
    {
     "name": "stdout",
     "output_type": "stream",
     "text": [
      "Num Features: 3\n",
      "Selected Features: [ True False False False False  True  True False]\n",
      "Feature Ranking: [1 2 4 6 5 1 1 3]\n"
     ]
    }
   ],
   "source": [
    "from sklearn.feature_selection import RFE\n",
    "from sklearn.linear_model import LogisticRegression\n",
    "\n",
    "model = LogisticRegression(max_iter=200)\n",
    "rfe = RFE(model, n_features_to_select=3)\n",
    "fit = rfe.fit(X, Y)\n",
    "print(f\"Num Features: {fit.n_features_}\")\n",
    "print(f\"Selected Features: {fit.support_}\")\n",
    "print(f\"Feature Ranking: {fit.ranking_}\")"
   ]
  },
  {
   "cell_type": "markdown",
   "id": "4dd83baa",
   "metadata": {},
   "source": [
    "以上如果出现`lbfgs failed to converge`的警告，百度解决的方法如下：\n",
    "- [ConvergenceWarning: lbfgs failed to converge (status=1): STOP: TOTAL NO. of ITERATIONS REACHED LIMIT](https://stackoverflow.com/questions/62658215/convergencewarning-lbfgs-failed-to-converge-status-1-stop-total-no-of-iter)"
   ]
  },
  {
   "cell_type": "markdown",
   "id": "535a1ce4",
   "metadata": {},
   "source": [
    "尝试先标准化然后再使用RFE或者`LogisticRegression(max_iter=1000)`，增加迭代次数，都可以避免报错："
   ]
  },
  {
   "cell_type": "code",
   "execution_count": 27,
   "id": "64faa617",
   "metadata": {},
   "outputs": [
    {
     "name": "stdout",
     "output_type": "stream",
     "text": [
      "Num Features: 3\n",
      "Selected Features: [ True  True False False False  True False False]\n",
      "Feature Ranking: [1 1 3 6 5 1 2 4]\n"
     ]
    }
   ],
   "source": [
    "scaler = StandardScaler().fit(X)\n",
    "rescaledX = scaler.transform(X)\n",
    "\n",
    "model = LogisticRegression()\n",
    "rfe = RFE(model, n_features_to_select=3)\n",
    "fit = rfe.fit(rescaledX, Y)\n",
    "print(f\"Num Features: {fit.n_features_}\")\n",
    "print(f\"Selected Features: {fit.support_}\")\n",
    "print(f\"Feature Ranking: {fit.ranking_}\")"
   ]
  },
  {
   "cell_type": "markdown",
   "id": "390ef279",
   "metadata": {},
   "source": [
    "但是最终选择的特征值和不进行标准化有差异，而且和使用单变量特征选择得到的结果也不同。"
   ]
  },
  {
   "cell_type": "code",
   "execution_count": 28,
   "id": "76a5c05e",
   "metadata": {},
   "outputs": [
    {
     "data": {
      "text/plain": [
       "0    preg\n",
       "1    plas\n",
       "5    mass\n",
       "dtype: object"
      ]
     },
     "execution_count": 28,
     "metadata": {},
     "output_type": "execute_result"
    }
   ],
   "source": [
    "Series(names)[:-1][fit.support_]"
   ]
  },
  {
   "cell_type": "markdown",
   "id": "f9d52aff",
   "metadata": {},
   "source": [
    "## 主成分分析"
   ]
  },
  {
   "cell_type": "markdown",
   "id": "573b2ad7",
   "metadata": {},
   "source": [
    "主成分分析(PCA)使用线性代数将数据集转换为压缩的形式。PCA的一个性质是可以选择转换结果中的维数或主成分的数量。"
   ]
  },
  {
   "cell_type": "code",
   "execution_count": 29,
   "id": "9c23a49d",
   "metadata": {},
   "outputs": [
    {
     "name": "stdout",
     "output_type": "stream",
     "text": [
      "Explained Variance: [0.889 0.062 0.026]\n",
      "[[-2.022e-03  9.781e-02  1.609e-02  6.076e-02  9.931e-01  1.401e-02\n",
      "   5.372e-04 -3.565e-03]\n",
      " [-2.265e-02 -9.722e-01 -1.419e-01  5.786e-02  9.463e-02 -4.697e-02\n",
      "  -8.168e-04 -1.402e-01]\n",
      " [-2.246e-02  1.434e-01 -9.225e-01 -3.070e-01  2.098e-02 -1.324e-01\n",
      "  -6.400e-04 -1.255e-01]]\n"
     ]
    }
   ],
   "source": [
    "from sklearn.decomposition import PCA\n",
    "\n",
    "pca = PCA(n_components=3)\n",
    "fit = pca.fit(X)\n",
    "print(f\"Explained Variance: {fit.explained_variance_ratio_}\")\n",
    "print(fit.components_)"
   ]
  },
  {
   "cell_type": "markdown",
   "id": "d9530861",
   "metadata": {},
   "source": [
    "## 特征重要性"
   ]
  },
  {
   "cell_type": "markdown",
   "id": "4ac2b055",
   "metadata": {},
   "source": [
    "可以使用随机森林和Extra Trees这样的模型来评估特征的重要性："
   ]
  },
  {
   "cell_type": "code",
   "execution_count": 30,
   "id": "300e181b",
   "metadata": {},
   "outputs": [
    {
     "name": "stdout",
     "output_type": "stream",
     "text": [
      "[0.111 0.231 0.097 0.079 0.075 0.144 0.121 0.143]\n"
     ]
    }
   ],
   "source": [
    "from sklearn.ensemble import ExtraTreesClassifier\n",
    "\n",
    "model = ExtraTreesClassifier()\n",
    "model.fit(X, Y)\n",
    "print(model.feature_importances_)"
   ]
  },
  {
   "cell_type": "markdown",
   "id": "562369b4",
   "metadata": {},
   "source": [
    "# 评估机器学习算法的方法"
   ]
  },
  {
   "cell_type": "markdown",
   "id": "6355b0e4",
   "metadata": {},
   "source": [
    "## 训练集和测试集"
   ]
  },
  {
   "cell_type": "markdown",
   "id": "675b13af",
   "metadata": {},
   "source": [
    "注意，`train_test_split`默认会打乱顺序，因此需要`random_state`参数，对于分类标签是有序的原始数据，不需要手动的shuffle。"
   ]
  },
  {
   "cell_type": "code",
   "execution_count": 31,
   "id": "f38bb79c",
   "metadata": {},
   "outputs": [
    {
     "name": "stdout",
     "output_type": "stream",
     "text": [
      "Accuracy: 78.740%\n"
     ]
    }
   ],
   "source": [
    "from sklearn.model_selection import train_test_split\n",
    "from sklearn.linear_model import LogisticRegression\n",
    "\n",
    "test_size = 0.33\n",
    "seed = 7\n",
    "\n",
    "X_train, X_test, Y_train, Y_test = train_test_split(X,\n",
    "                                                    Y,\n",
    "                                                    test_size=test_size,\n",
    "                                                    random_state=seed)\n",
    "model = LogisticRegression(max_iter=200)\n",
    "model.fit(X_train, Y_train)\n",
    "result = model.score(X_test, Y_test)\n",
    "print(\"Accuracy: {:.3f}%\".format(result * 100))"
   ]
  },
  {
   "cell_type": "markdown",
   "id": "5d4723c7",
   "metadata": {},
   "source": [
    "## K-Fold交叉验证"
   ]
  },
  {
   "cell_type": "code",
   "execution_count": 32,
   "id": "b7f0a486",
   "metadata": {},
   "outputs": [
    {
     "name": "stdout",
     "output_type": "stream",
     "text": [
      "Accuracy: 77.216% (4.968%)\n"
     ]
    }
   ],
   "source": [
    "from sklearn.model_selection import KFold, cross_val_score\n",
    "from sklearn.linear_model import LogisticRegression\n",
    "\n",
    "num_folds = 10  # 切成10份，每次取1份做测试集，9份做训练集，相当于循环10次\n",
    "seed = 7\n",
    "kfold = KFold(n_splits=num_folds, random_state=seed, shuffle=True)\n",
    "model = LogisticRegression(max_iter=200)\n",
    "results = cross_val_score(model, X, Y, cv=kfold)\n",
    "print(\"Accuracy: {:.3f}% ({:.3f}%)\".format(results.mean() * 100,\n",
    "                                           results.std() * 100))"
   ]
  },
  {
   "cell_type": "markdown",
   "id": "8c4b38f4",
   "metadata": {},
   "source": [
    "## LOO（Leave One Out）留一交叉验证"
   ]
  },
  {
   "cell_type": "markdown",
   "id": "b87cd55b",
   "metadata": {},
   "source": [
    "在10折交叉验证中，由于随机因素的存在，数据划分结果并不完全一致，因此不能保证每次得到相同的结果，因此它是一种非确定性的方法。与此相反，留一法是确定性的。每次应用留一法到同一分类器及同一数据上，得到的结果都一样。\n",
    "\n",
    "留一法顾名思义，就是每次留1个样本用来测试，n-1个样本用来训练，这样会产生n个模型，训练n次，因此计算量很大，好处是结果是固定的，因此只适合小样本数据集。"
   ]
  },
  {
   "cell_type": "code",
   "execution_count": 33,
   "id": "24f30d46",
   "metadata": {},
   "outputs": [
    {
     "name": "stdout",
     "output_type": "stream",
     "text": [
      "Accuracy: 77.604% (41.689%)\n"
     ]
    }
   ],
   "source": [
    "from sklearn.model_selection import LeaveOneOut, cross_val_score\n",
    "from sklearn.linear_model import LogisticRegression\n",
    "from sklearn.preprocessing import StandardScaler\n",
    "\n",
    "loocv = LeaveOneOut()\n",
    "model = LogisticRegression()\n",
    "scaler = StandardScaler()\n",
    "rescaleX = scaler.fit_transform(X)\n",
    "results = cross_val_score(model, rescaledX, Y, cv=loocv)\n",
    "print(\"Accuracy: {:.3f}% ({:.3f}%)\".format(results.mean() * 100, results.std() * 100))"
   ]
  },
  {
   "cell_type": "markdown",
   "id": "02d94514",
   "metadata": {},
   "source": [
    "## 重复随机Test-Train分割"
   ]
  },
  {
   "cell_type": "markdown",
   "id": "b74700c3",
   "metadata": {},
   "source": [
    "和K-Fold有点类似，但是不是把数据分成K份，而是每次做Test-Train切割："
   ]
  },
  {
   "cell_type": "code",
   "execution_count": 34,
   "id": "ea718254",
   "metadata": {},
   "outputs": [
    {
     "name": "stdout",
     "output_type": "stream",
     "text": [
      "Accuracy: 76.417% (2.430%)\n"
     ]
    }
   ],
   "source": [
    "from sklearn.model_selection import ShuffleSplit, cross_val_score\n",
    "from sklearn.linear_model import LogisticRegression\n",
    "from sklearn.preprocessing import StandardScaler\n",
    "\n",
    "n_splits = 10  # 循环10次，每次都重新分割\n",
    "test_size = 0.33\n",
    "seed = 7\n",
    "\n",
    "kfold = ShuffleSplit(n_splits=n_splits, test_size=test_size, random_state=seed)\n",
    "model = LogisticRegression(max_iter=200)\n",
    "results = cross_val_score(model, rescaledX, Y, cv=kfold)\n",
    "print(\"Accuracy: {:.3f}% ({:.3f}%)\".format(results.mean() * 100, results.std() * 100))"
   ]
  },
  {
   "cell_type": "markdown",
   "id": "6fca4ca8",
   "metadata": {},
   "source": [
    "## 如何选择方法"
   ]
  },
  {
   "cell_type": "markdown",
   "id": "f0281169",
   "metadata": {},
   "source": [
    "- 一般来说，使用k折交叉验证来评估机器学习算法，k值设置为3、5或10。\n",
    "- 当使用较慢的算法时，使用train/test分离可以提高速度。\n",
    "- 另外两种不常见，可以视为前面两种的中间选择。"
   ]
  },
  {
   "cell_type": "markdown",
   "id": "fe3e3a84",
   "metadata": {},
   "source": [
    "# 机器学习算法的度量指标"
   ]
  },
  {
   "cell_type": "markdown",
   "id": "ff478e6b",
   "metadata": {},
   "source": [
    "## 分类指标"
   ]
  },
  {
   "cell_type": "markdown",
   "id": "3cffcf19",
   "metadata": {},
   "source": [
    "### 准确率（accuracy）"
   ]
  },
  {
   "cell_type": "markdown",
   "id": "8b211d18",
   "metadata": {},
   "source": [
    "准确率最好理解，就是正确的数目除以总的数目。这是最常用的，但是也是最容易被误用的。不光要看预测正确的准确率，而且要看预测错误的准确率，因为如果样本不是均衡的，准确率就不能很好的反应模型的性能。比如100个样本，里面实际为1的有99个，模型全部预测为1，则预测正确的准确率是99%，但是预测错误的准确率为100%。"
   ]
  },
  {
   "cell_type": "code",
   "execution_count": 35,
   "id": "23265a79",
   "metadata": {},
   "outputs": [
    {
     "name": "stdout",
     "output_type": "stream",
     "text": [
      "Accuracy: 77.996% (5.009%)\n"
     ]
    }
   ],
   "source": [
    "from sklearn.model_selection import KFold, cross_val_score\n",
    "from sklearn.linear_model import LogisticRegression\n",
    "from sklearn.preprocessing import StandardScaler\n",
    "\n",
    "kfold = KFold(n_splits=10)\n",
    "model = LogisticRegression()\n",
    "scoring = 'accuracy'\n",
    "scaler = StandardScaler()\n",
    "rescaleX = scaler.fit_transform(X)\n",
    "results = cross_val_score(model, rescaleX, Y, cv=kfold, scoring=scoring)\n",
    "print(\"Accuracy: {:.3f}% ({:.3f}%)\".format(results.mean() * 100,\n",
    "                                           results.std() * 100))"
   ]
  },
  {
   "cell_type": "markdown",
   "id": "27a8fc7b",
   "metadata": {},
   "source": [
    "### 对数损失函数"
   ]
  },
  {
   "cell_type": "markdown",
   "id": "a4b77112",
   "metadata": {},
   "source": [
    "- [Understanding binary cross-entropy / log loss: a visual explanation](https://towardsdatascience.com/understanding-binary-cross-entropy-log-loss-a-visual-explanation-a3ac6025181a)"
   ]
  },
  {
   "cell_type": "markdown",
   "id": "a3c6e620",
   "metadata": {},
   "source": [
    "使用对数损失函数来衡量，得分是负数，越接近0越好。"
   ]
  },
  {
   "cell_type": "code",
   "execution_count": 36,
   "id": "e34bac1f",
   "metadata": {},
   "outputs": [
    {
     "name": "stdout",
     "output_type": "stream",
     "text": [
      "Logloss: -0.484 (0.062)\n"
     ]
    }
   ],
   "source": [
    "from sklearn.model_selection import KFold, cross_val_score\n",
    "from sklearn.linear_model import LogisticRegression\n",
    "from sklearn.preprocessing import StandardScaler\n",
    "\n",
    "kfold = KFold(n_splits=10)\n",
    "model = LogisticRegression()\n",
    "scoring = 'neg_log_loss'\n",
    "scaler = StandardScaler()\n",
    "rescaleX = scaler.fit_transform(X)\n",
    "results = cross_val_score(model, rescaleX, Y, cv=kfold, scoring=scoring)\n",
    "print(\"Logloss: {:.3f} ({:.3f})\".format(results.mean(), results.std()))"
   ]
  },
  {
   "cell_type": "markdown",
   "id": "b83f1136",
   "metadata": {},
   "source": [
    "疑问，无法根据得分来直观的判断模型拟合的好坏。"
   ]
  },
  {
   "cell_type": "markdown",
   "id": "4e6a0cad",
   "metadata": {},
   "source": [
    "### ROC曲线下面积"
   ]
  },
  {
   "cell_type": "markdown",
   "id": "3511d9d2",
   "metadata": {},
   "source": [
    "ROC曲线下面积(Area under ROC Curve，简称AUC)是二值分类问题的性能指标。ROC可分为敏感性和特异性，二元分类问题实际上是敏感性和特异性之间的权衡。\n",
    "- 敏感性是真阳性率，也叫召回率。它是来自正(第一个)类的实例的数量是否被预测正确。\n",
    "- 特异性也称为真阴性率。来自负(第二类)类的实例数是否被正确预测。\n",
    "\n",
    "使用auc来衡量，越接近1越好，对二分类来说，0.5意味着类似于随机猜测："
   ]
  },
  {
   "cell_type": "code",
   "execution_count": 37,
   "id": "333bcc21",
   "metadata": {},
   "outputs": [
    {
     "name": "stdout",
     "output_type": "stream",
     "text": [
      "Logloss: 0.828 (0.043)\n"
     ]
    }
   ],
   "source": [
    "from sklearn.model_selection import KFold, cross_val_score\n",
    "from sklearn.linear_model import LogisticRegression\n",
    "from sklearn.preprocessing import StandardScaler\n",
    "\n",
    "scaler = StandardScaler()\n",
    "rescaleX = scaler.fit_transform(X)\n",
    "\n",
    "kfold = KFold(n_splits=10)\n",
    "model = LogisticRegression()\n",
    "scoring = 'roc_auc'\n",
    "results = cross_val_score(model, rescaleX, Y, cv=kfold, scoring=scoring)\n",
    "print(\"Logloss: {:.3f} ({:.3f})\".format(results.mean(), results.std()))"
   ]
  },
  {
   "cell_type": "markdown",
   "id": "a6df34d0",
   "metadata": {},
   "source": [
    "### 混淆矩阵"
   ]
  },
  {
   "cell_type": "markdown",
   "id": "c9752666",
   "metadata": {},
   "source": [
    "- [一文让你彻底理解准确率，精准率，召回率，真正率，假正率，ROC/AUC](https://zhuanlan.zhihu.com/p/46714763)\n",
    "- [Scikit-learn confusion matrix](https://stackoverflow.com/questions/35178590/scikit-learn-confusion-matrix/56565758)\n",
    "\n",
    "注意，sklearn的confusion_matrix的坐标，其横向的是实际值，纵向的是预测值，和上面第一篇文章的例子正好相反，其label是按照升序排序。"
   ]
  },
  {
   "cell_type": "code",
   "execution_count": 38,
   "id": "2ec893f6",
   "metadata": {},
   "outputs": [
    {
     "name": "stdout",
     "output_type": "stream",
     "text": [
      "[[142  20]\n",
      " [ 34  58]]\n"
     ]
    }
   ],
   "source": [
    "from sklearn.model_selection import train_test_split\n",
    "from sklearn.metrics import confusion_matrix\n",
    "\n",
    "test_size = 0.33\n",
    "seed = 7\n",
    "\n",
    "X_train, X_test, Y_train, Y_test = train_test_split(X, Y, test_size=test_size, random_state=seed)\n",
    "model = LogisticRegression(max_iter=200)\n",
    "model.fit(X_train, Y_train)\n",
    "predicted = model.predict(X_test)\n",
    "matrix = confusion_matrix(Y_test, predicted)\n",
    "print(matrix)"
   ]
  },
  {
   "cell_type": "markdown",
   "id": "4d8eb92d",
   "metadata": {},
   "source": [
    "### 分类报告"
   ]
  },
  {
   "cell_type": "markdown",
   "id": "2445c456",
   "metadata": {},
   "source": [
    "- [分类报告中各指标的意义](https://blog.csdn.net/qq_40765537/article/details/105344798)"
   ]
  },
  {
   "cell_type": "code",
   "execution_count": 39,
   "id": "5d6387c9",
   "metadata": {},
   "outputs": [
    {
     "name": "stdout",
     "output_type": "stream",
     "text": [
      "              precision    recall  f1-score   support\n",
      "\n",
      "         0.0       0.81      0.88      0.84       162\n",
      "         1.0       0.74      0.63      0.68        92\n",
      "\n",
      "    accuracy                           0.79       254\n",
      "   macro avg       0.78      0.75      0.76       254\n",
      "weighted avg       0.78      0.79      0.78       254\n",
      "\n"
     ]
    }
   ],
   "source": [
    "from sklearn.model_selection import train_test_split\n",
    "from sklearn.metrics import classification_report\n",
    "\n",
    "test_size = 0.33\n",
    "seed = 7\n",
    "\n",
    "X_train, X_test, Y_train, Y_test = train_test_split(X, Y, test_size=test_size, random_state=seed)\n",
    "model = LogisticRegression(max_iter=200)\n",
    "model.fit(X_train, Y_train)\n",
    "predicted = model.predict(X_test)\n",
    "report = classification_report(Y_test, predicted)\n",
    "print(report)"
   ]
  },
  {
   "cell_type": "markdown",
   "id": "f3ffcea8",
   "metadata": {},
   "source": [
    "## 回归指标"
   ]
  },
  {
   "cell_type": "markdown",
   "id": "440a40e4",
   "metadata": {},
   "source": [
    "### 绝对平均误差"
   ]
  },
  {
   "cell_type": "code",
   "execution_count": 40,
   "id": "9bbb1ecd",
   "metadata": {},
   "outputs": [
    {
     "name": "stdout",
     "output_type": "stream",
     "text": [
      "MAE: -4.005 (2.084)\n"
     ]
    }
   ],
   "source": [
    "from sklearn.model_selection import KFold, cross_val_score\n",
    "from sklearn.linear_model import LinearRegression\n",
    "\n",
    "filename = 'housing.data'\n",
    "names = [\n",
    "    'CRIM', 'ZN', 'INDUS', 'CHAS', 'NOX', 'RM', 'AGE', 'DIS', 'RAD', 'TAX',\n",
    "    'PTRATIO', 'B', 'LSTAT', 'MEDV'\n",
    "]\n",
    "df = pd.read_table(filename, delimiter='\\s+', header=None, names=names)\n",
    "array = df.values\n",
    "X = array[:, 0:13]\n",
    "Y = array[:, 13]\n",
    "kfold = KFold(n_splits=10)\n",
    "model = LinearRegression()\n",
    "scoring = 'neg_mean_absolute_error'\n",
    "results = cross_val_score(model, X, Y, cv=kfold, scoring=scoring)\n",
    "print(\"MAE: {:.3f} ({:.3f})\".format(results.mean(), results.std()))"
   ]
  },
  {
   "cell_type": "markdown",
   "id": "b4c11816",
   "metadata": {},
   "source": [
    "### 均方误差"
   ]
  },
  {
   "cell_type": "code",
   "execution_count": 41,
   "id": "8ec60067",
   "metadata": {},
   "outputs": [
    {
     "name": "stdout",
     "output_type": "stream",
     "text": [
      "MSE: -34.705 (45.574)\n"
     ]
    }
   ],
   "source": [
    "from sklearn.model_selection import KFold, cross_val_score\n",
    "from sklearn.linear_model import LinearRegression\n",
    "\n",
    "kfold = KFold(n_splits=10)\n",
    "model = LinearRegression()\n",
    "scoring = 'neg_mean_squared_error'\n",
    "results = cross_val_score(model, X, Y, cv=kfold, scoring=scoring)\n",
    "print(\"MSE: {:.3f} ({:.3f})\".format(results.mean(), results.std()))"
   ]
  },
  {
   "cell_type": "markdown",
   "id": "75292123",
   "metadata": {},
   "source": [
    "### 决定系数R2"
   ]
  },
  {
   "cell_type": "markdown",
   "id": "748cf56f",
   "metadata": {},
   "source": [
    "决定系数的说明可以查看《Python机器学习私房手册-概率和统计》相关内容，相对于平均绝对误差和均方误差，$R^2$来衡量一个模型的性能更加直观，其值越接近1越好。"
   ]
  },
  {
   "cell_type": "code",
   "execution_count": 42,
   "id": "8670b6e1",
   "metadata": {},
   "outputs": [
    {
     "name": "stdout",
     "output_type": "stream",
     "text": [
      "R^2: 0.203 (0.595)\n"
     ]
    }
   ],
   "source": [
    "from sklearn.model_selection import KFold, cross_val_score\n",
    "from sklearn.linear_model import LinearRegression\n",
    "\n",
    "kfold = KFold(n_splits=10)\n",
    "model = LinearRegression()\n",
    "scoring = 'r2'\n",
    "results = cross_val_score(model, X, Y, cv=kfold, scoring=scoring)\n",
    "print(\"R^2: {:.3f} ({:.3f})\".format(results.mean(), results.std()))"
   ]
  },
  {
   "cell_type": "markdown",
   "id": "d43608e4",
   "metadata": {},
   "source": [
    "# Spot-check分类算法"
   ]
  },
  {
   "cell_type": "markdown",
   "id": "c322a2a9",
   "metadata": {},
   "source": [
    "## 线性方法"
   ]
  },
  {
   "cell_type": "markdown",
   "id": "c980e6c0",
   "metadata": {},
   "source": [
    "### logistic回归"
   ]
  },
  {
   "cell_type": "markdown",
   "id": "23cd04bb",
   "metadata": {},
   "source": [
    "logistic回归假设数据符合正态分布，用来解决二值分类问题："
   ]
  },
  {
   "cell_type": "code",
   "execution_count": 43,
   "id": "f34dfbe6",
   "metadata": {},
   "outputs": [
    {
     "name": "stdout",
     "output_type": "stream",
     "text": [
      "0.7760423786739576\n"
     ]
    }
   ],
   "source": [
    "from sklearn.model_selection import KFold, cross_val_score\n",
    "from sklearn.linear_model import LogisticRegression\n",
    "\n",
    "names = ['preg', 'plas', 'pres', 'skin', 'test', 'mass', 'pedi', 'age', 'class']\n",
    "data = pd.read_csv('diabetes.csv', names=names, skiprows=1)\n",
    "arr = data.values\n",
    "X = arr[:, :8]\n",
    "Y = arr[:, 8]\n",
    "\n",
    "num_folds = 10\n",
    "seed = 7\n",
    "kfold = KFold(n_splits=num_folds)\n",
    "model = LogisticRegression(max_iter=200)\n",
    "results = cross_val_score(model, X, Y, cv=kfold)\n",
    "print(results.mean())"
   ]
  },
  {
   "cell_type": "markdown",
   "id": "b8da5567",
   "metadata": {},
   "source": [
    "### 线性判别分析"
   ]
  },
  {
   "cell_type": "markdown",
   "id": "4203886c",
   "metadata": {},
   "source": [
    "线性判别分析(LDA)是一种用于二分类和多分类的统计技术。它也假设数值输入变量为高斯分布："
   ]
  },
  {
   "cell_type": "code",
   "execution_count": 44,
   "id": "4dbf507c",
   "metadata": {},
   "outputs": [
    {
     "name": "stdout",
     "output_type": "stream",
     "text": [
      "0.773462064251538\n"
     ]
    }
   ],
   "source": [
    "from sklearn.discriminant_analysis import LinearDiscriminantAnalysis\n",
    "\n",
    "kfold = KFold(n_splits=num_folds)\n",
    "model = LinearDiscriminantAnalysis()\n",
    "results = cross_val_score(model, X, Y, cv=kfold)\n",
    "print(results.mean())"
   ]
  },
  {
   "cell_type": "markdown",
   "id": "5737a677",
   "metadata": {},
   "source": [
    "## 非线性方法"
   ]
  },
  {
   "cell_type": "markdown",
   "id": "360302e8",
   "metadata": {},
   "source": [
    "- [通俗易懂的讲解决策树](https://zhuanlan.zhihu.com/p/197476119)"
   ]
  },
  {
   "cell_type": "markdown",
   "id": "ed9e5c73",
   "metadata": {},
   "source": [
    "### K近邻"
   ]
  },
  {
   "cell_type": "code",
   "execution_count": 45,
   "id": "5f729460",
   "metadata": {},
   "outputs": [
    {
     "name": "stdout",
     "output_type": "stream",
     "text": [
      "0.7460526315789474\n"
     ]
    }
   ],
   "source": [
    "from sklearn.neighbors import KNeighborsClassifier\n",
    "from sklearn.preprocessing import StandardScaler\n",
    "\n",
    "scaler = StandardScaler()\n",
    "standard_X = scaler.fit_transform(X)\n",
    "\n",
    "kfold = KFold(n_splits=num_folds)\n",
    "model = KNeighborsClassifier(3)\n",
    "results = cross_val_score(model, standard_X, Y, cv=kfold)\n",
    "print(results.mean())"
   ]
  },
  {
   "cell_type": "markdown",
   "id": "706e00bc",
   "metadata": {},
   "source": [
    "### 朴素贝叶斯"
   ]
  },
  {
   "cell_type": "markdown",
   "id": "f7301f0a",
   "metadata": {},
   "source": [
    "贝叶斯是计算概率，所以是否标准化数据对结果没有任何影响："
   ]
  },
  {
   "cell_type": "code",
   "execution_count": 46,
   "id": "12db5a18",
   "metadata": {},
   "outputs": [
    {
     "name": "stdout",
     "output_type": "stream",
     "text": [
      "0.7551777170198223\n"
     ]
    }
   ],
   "source": [
    "from sklearn.naive_bayes import GaussianNB\n",
    "\n",
    "kfold = KFold(n_splits=num_folds)\n",
    "model = GaussianNB()\n",
    "results = cross_val_score(model, X, Y, cv=kfold)\n",
    "print(results.mean())"
   ]
  },
  {
   "cell_type": "markdown",
   "id": "6af61ff3",
   "metadata": {},
   "source": [
    "### 决策树"
   ]
  },
  {
   "cell_type": "code",
   "execution_count": 47,
   "id": "e9430e29",
   "metadata": {},
   "outputs": [
    {
     "name": "stdout",
     "output_type": "stream",
     "text": [
      "0.6912850307587151\n"
     ]
    }
   ],
   "source": [
    "from sklearn.tree import DecisionTreeClassifier\n",
    "\n",
    "kfold = KFold(n_splits=num_folds)\n",
    "model = DecisionTreeClassifier()\n",
    "results = cross_val_score(model, X, Y, cv=kfold)\n",
    "print(results.mean())"
   ]
  },
  {
   "cell_type": "markdown",
   "id": "17a1905d",
   "metadata": {},
   "source": [
    "### 支持向量机"
   ]
  },
  {
   "cell_type": "code",
   "execution_count": 48,
   "id": "abe99861",
   "metadata": {},
   "outputs": [
    {
     "name": "stdout",
     "output_type": "stream",
     "text": [
      "0.7604237867395763\n"
     ]
    }
   ],
   "source": [
    "from sklearn.svm import SVC\n",
    "\n",
    "kfold = KFold(n_splits=num_folds)\n",
    "model = SVC()\n",
    "results = cross_val_score(model, X, Y, cv=kfold)\n",
    "print(results.mean())"
   ]
  },
  {
   "cell_type": "markdown",
   "id": "13682dc6",
   "metadata": {},
   "source": [
    "# Spot-check回归算法"
   ]
  },
  {
   "cell_type": "markdown",
   "id": "89f64b3f",
   "metadata": {},
   "source": [
    "## 线性方法"
   ]
  },
  {
   "cell_type": "markdown",
   "id": "c1e6bfc3",
   "metadata": {},
   "source": [
    "- [Ridge and Lasso Regression: L1 and L2 Regularization](https://towardsdatascience.com/ridge-and-lasso-regression-a-complete-guide-with-python-scikit-learn-e20e34bcbf0b)\n",
    "- [Regularization in Machine Learning: Connect the dots](https://towardsdatascience.com/regularization-in-machine-learning-connecting-the-dots-c6e030bfaddd)\n",
    "- [Understanding Lasso and Ridge Regression](https://scienceloft.com/technical/understanding-lasso-and-ridge-regression/)"
   ]
  },
  {
   "cell_type": "markdown",
   "id": "ccf4c7d8",
   "metadata": {},
   "source": [
    "### 线性回归"
   ]
  },
  {
   "cell_type": "code",
   "execution_count": 49,
   "id": "32057e63",
   "metadata": {},
   "outputs": [
    {
     "name": "stdout",
     "output_type": "stream",
     "text": [
      "-34.705255944524815\n"
     ]
    }
   ],
   "source": [
    "from sklearn.model_selection import KFold, cross_val_score\n",
    "from sklearn.linear_model import LinearRegression\n",
    "\n",
    "filename = 'housing.data'\n",
    "names = [\n",
    "    'CRIM', 'ZN', 'INDUS', 'CHAS', 'NOX', 'RM', 'AGE', 'DIS', 'RAD', 'TAX',\n",
    "    'PTRATIO', 'B', 'LSTAT', 'MEDV'\n",
    "]\n",
    "df = pd.read_table(filename, delimiter='\\s+', header=None, names=names)\n",
    "array = df.values\n",
    "X = array[:, 0:13]\n",
    "Y = array[:, 13]\n",
    "kfold = KFold(n_splits=10)\n",
    "model = LinearRegression()\n",
    "scoring = 'neg_mean_squared_error'\n",
    "results = cross_val_score(model, X, Y, cv=kfold, scoring=scoring)\n",
    "print(results.mean())"
   ]
  },
  {
   "cell_type": "markdown",
   "id": "a08a87d5",
   "metadata": {},
   "source": [
    "### 岭回归"
   ]
  },
  {
   "cell_type": "code",
   "execution_count": 50,
   "id": "d7b97fc6",
   "metadata": {},
   "outputs": [
    {
     "name": "stdout",
     "output_type": "stream",
     "text": [
      "-34.07824620925927\n"
     ]
    }
   ],
   "source": [
    "from sklearn.linear_model import Ridge\n",
    "\n",
    "kfold = KFold(n_splits=num_folds)\n",
    "model = Ridge()\n",
    "scoring = 'neg_mean_squared_error'\n",
    "results = cross_val_score(model, X, Y, cv=kfold, scoring=scoring)\n",
    "print(results.mean())"
   ]
  },
  {
   "cell_type": "markdown",
   "id": "39af9e9f",
   "metadata": {},
   "source": [
    "### Lasso回归"
   ]
  },
  {
   "cell_type": "code",
   "execution_count": 51,
   "id": "23fd8444",
   "metadata": {},
   "outputs": [
    {
     "name": "stdout",
     "output_type": "stream",
     "text": [
      "-34.46408458830233\n"
     ]
    }
   ],
   "source": [
    "from sklearn.linear_model import Lasso\n",
    "\n",
    "kfold = KFold(n_splits=num_folds)\n",
    "model = Lasso()\n",
    "scoring = 'neg_mean_squared_error'\n",
    "results = cross_val_score(model, X, Y, cv=kfold, scoring=scoring)\n",
    "print(results.mean())"
   ]
  },
  {
   "cell_type": "markdown",
   "id": "91a75911",
   "metadata": {},
   "source": [
    "### ElasticNet回归"
   ]
  },
  {
   "cell_type": "code",
   "execution_count": 52,
   "id": "87a8f5ad",
   "metadata": {},
   "outputs": [
    {
     "name": "stdout",
     "output_type": "stream",
     "text": [
      "-31.164573714249762\n"
     ]
    }
   ],
   "source": [
    "from sklearn.linear_model import ElasticNet\n",
    "\n",
    "kfold = KFold(n_splits=num_folds)\n",
    "model = ElasticNet()\n",
    "scoring = 'neg_mean_squared_error'\n",
    "results = cross_val_score(model, X, Y, cv=kfold, scoring=scoring)\n",
    "print(results.mean())"
   ]
  },
  {
   "cell_type": "markdown",
   "id": "9edcbbe6",
   "metadata": {},
   "source": [
    "## 非线性方法"
   ]
  },
  {
   "cell_type": "markdown",
   "id": "443661a9",
   "metadata": {},
   "source": [
    "### K近邻"
   ]
  },
  {
   "cell_type": "code",
   "execution_count": 53,
   "id": "b1da3985",
   "metadata": {},
   "outputs": [
    {
     "name": "stdout",
     "output_type": "stream",
     "text": [
      "-107.28683898039215\n"
     ]
    }
   ],
   "source": [
    "from sklearn.neighbors import KNeighborsRegressor\n",
    "\n",
    "kfold = KFold(n_splits=num_folds)\n",
    "model = KNeighborsRegressor()\n",
    "scoring = 'neg_mean_squared_error'\n",
    "results = cross_val_score(model, X, Y, cv=kfold, scoring=scoring)\n",
    "print(results.mean())"
   ]
  },
  {
   "cell_type": "markdown",
   "id": "83fcd2fe",
   "metadata": {},
   "source": [
    "### 决策树"
   ]
  },
  {
   "cell_type": "code",
   "execution_count": 54,
   "id": "7e8d6e65",
   "metadata": {},
   "outputs": [
    {
     "name": "stdout",
     "output_type": "stream",
     "text": [
      "-35.87231215686275\n"
     ]
    }
   ],
   "source": [
    "from sklearn.tree import DecisionTreeRegressor\n",
    "\n",
    "kfold = KFold(n_splits=num_folds)\n",
    "model = DecisionTreeRegressor()\n",
    "scoring = 'neg_mean_squared_error'\n",
    "results = cross_val_score(model, X, Y, cv=kfold, scoring=scoring)\n",
    "print(results.mean())"
   ]
  },
  {
   "cell_type": "markdown",
   "id": "7a520f38",
   "metadata": {},
   "source": [
    "### 支持向量机"
   ]
  },
  {
   "cell_type": "code",
   "execution_count": 55,
   "id": "96f80a3f",
   "metadata": {},
   "outputs": [
    {
     "name": "stdout",
     "output_type": "stream",
     "text": [
      "-72.25543311855311\n"
     ]
    }
   ],
   "source": [
    "from sklearn.svm import SVR\n",
    "\n",
    "kfold = KFold(n_splits=num_folds)\n",
    "model = SVR()\n",
    "scoring = 'neg_mean_squared_error'\n",
    "results = cross_val_score(model, X, Y, cv=kfold, scoring=scoring)\n",
    "print(results.mean())"
   ]
  },
  {
   "cell_type": "markdown",
   "id": "61a3ea63",
   "metadata": {},
   "source": [
    "# 比较机器学习算法"
   ]
  },
  {
   "cell_type": "markdown",
   "id": "d1f903c3",
   "metadata": {},
   "source": [
    "## 一致的比较算法"
   ]
  },
  {
   "cell_type": "code",
   "execution_count": 56,
   "id": "6c85bf42",
   "metadata": {},
   "outputs": [
    {
     "name": "stdout",
     "output_type": "stream",
     "text": [
      "LR: 0.772163 (0.049684)\n",
      "LDA: 0.766969 (0.047966)\n",
      "KNN: 0.710988 (0.050792)\n",
      "CART: 0.681118 (0.045420)\n",
      "NB: 0.759142 (0.038960)\n",
      "SVM: 0.760458 (0.034712)\n"
     ]
    },
    {
     "data": {
      "image/png": "[encoded data removed]",
      "text/plain": [
       "<Figure size 432x288 with 1 Axes>"
      ]
     },
     "metadata": {
      "needs_background": "light"
     },
     "output_type": "display_data"
    }
   ],
   "source": [
    "# Compare Algorithms\n",
    "from pandas import read_csv\n",
    "from matplotlib import pyplot\n",
    "from sklearn.model_selection import KFold, cross_val_score\n",
    "from sklearn.linear_model import LogisticRegression\n",
    "from sklearn.tree import DecisionTreeClassifier\n",
    "from sklearn.neighbors import KNeighborsClassifier\n",
    "from sklearn.discriminant_analysis import LinearDiscriminantAnalysis\n",
    "from sklearn.naive_bayes import GaussianNB\n",
    "from sklearn.svm import SVC\n",
    "# load dataset\n",
    "filename = 'diabetes.csv'\n",
    "names = [\n",
    "    'preg', 'plas', 'pres', 'skin', 'test', 'mass', 'pedi', 'age', 'class'\n",
    "]\n",
    "dataframe = read_csv(filename, names=names, skiprows=1)\n",
    "array = dataframe.values\n",
    "X = array[:, 0:8]\n",
    "Y = array[:, 8]\n",
    "# prepare models\n",
    "models = []\n",
    "models.append(('LR', LogisticRegression(max_iter=200)))\n",
    "models.append(('LDA', LinearDiscriminantAnalysis()))\n",
    "models.append(('KNN', KNeighborsClassifier()))\n",
    "models.append(('CART', DecisionTreeClassifier()))\n",
    "models.append(('NB', GaussianNB()))\n",
    "models.append(('SVM', SVC()))\n",
    "# evaluate each model in turn\n",
    "results = []\n",
    "names = []\n",
    "scoring = 'accuracy'\n",
    "for name, model in models:\n",
    "    kfold = KFold(n_splits=10, random_state=7, shuffle=True)\n",
    "    cv_results = cross_val_score(model, X, Y, cv=kfold, scoring=scoring)\n",
    "    results.append(cv_results)\n",
    "    names.append(name)\n",
    "    msg = \"%s: %f (%f)\" % (name, cv_results.mean(), cv_results.std())\n",
    "    print(msg)\n",
    "# boxplot algorithm comparison\n",
    "fig = pyplot.figure()\n",
    "fig.suptitle('Algorithm Comparison')\n",
    "ax = fig.add_subplot(111)\n",
    "ax.boxplot(results)\n",
    "ax.set_xticklabels(names);"
   ]
  },
  {
   "cell_type": "markdown",
   "id": "46b6bd36",
   "metadata": {},
   "source": [
    "# 自动化机器学习工作流和管道"
   ]
  },
  {
   "cell_type": "markdown",
   "id": "84d4af81",
   "metadata": {},
   "source": [
    "## 准备数据和管道建模"
   ]
  },
  {
   "cell_type": "markdown",
   "id": "bcaceb55",
   "metadata": {},
   "source": [
    "数据泄露是一个常见的问题，比如使用kfold进行评估的时候，如果在整个训练集上对数据进行标准化或者归一化，实际上对测试集也进行了标准化。使用sklearn提供的管道工具可以有效避免数据泄露的问题，它只对kfold每折的训练集进行标准化，从而避免了数据泄露："
   ]
  },
  {
   "cell_type": "code",
   "execution_count": 57,
   "id": "09c66969",
   "metadata": {},
   "outputs": [
    {
     "name": "stdout",
     "output_type": "stream",
     "text": [
      "0.7669685577580315\n"
     ]
    }
   ],
   "source": [
    "from sklearn.preprocessing import StandardScaler\n",
    "from sklearn.pipeline import Pipeline\n",
    "from sklearn.discriminant_analysis import LinearDiscriminantAnalysis\n",
    "\n",
    "estimators = []\n",
    "estimators.append(('standardize', StandardScaler()))\n",
    "estimators.append(('lda', LinearDiscriminantAnalysis()))\n",
    "model = Pipeline(estimators)\n",
    "# evaluate pipeline\n",
    "kfold = KFold(n_splits=10, random_state=7, shuffle=True)\n",
    "results = cross_val_score(model, X, Y, cv=kfold)\n",
    "print(results.mean())"
   ]
  },
  {
   "cell_type": "markdown",
   "id": "41f84107",
   "metadata": {},
   "source": [
    "## 特征提取和管道建模"
   ]
  },
  {
   "cell_type": "markdown",
   "id": "6829d5da",
   "metadata": {},
   "source": [
    "特征提取也是容易发生数据泄露的地方，和数据准备一样，特征提取也应该是仅仅针对训练集的数据。管道提供了一个方便的工具，称为FeatureUnion，它允许将多个特征选择和提取过程的结果组合到一个更大的数据集，在这个数据集上对模型进行训练。\n",
    "\n",
    "在下面的例子中，相当于先使用`PCA`对原始数据进行降维，降到2维，然后再使用`select_best`方法从原始数据中选择6个特征，最后把降维后的数据和6个特征值拼接在一起。"
   ]
  },
  {
   "cell_type": "code",
   "execution_count": 58,
   "id": "17245d96",
   "metadata": {},
   "outputs": [
    {
     "name": "stdout",
     "output_type": "stream",
     "text": [
      "0.7721633629528366\n"
     ]
    }
   ],
   "source": [
    "from sklearn.pipeline import FeatureUnion\n",
    "from sklearn.linear_model import LogisticRegression\n",
    "from sklearn.decomposition import PCA\n",
    "from sklearn.feature_selection import SelectKBest\n",
    "\n",
    "features = []\n",
    "features.append(('pca', PCA(n_components=3)))\n",
    "# SelectKBest默认的选择函数是f_classif，适合特征是数值的分类模型。如果是分类特征，应该使用chi2，卡方分布\n",
    "features.append(('select_best', SelectKBest(k=6)))  \n",
    "feature_union = FeatureUnion(features)\n",
    "# create pipeline\n",
    "estimators = []\n",
    "estimators.append(('feature_union', feature_union))\n",
    "estimators.append(('logistic', LogisticRegression(max_iter=200)))\n",
    "model = Pipeline(estimators)\n",
    "# evaluate pipeline\n",
    "kfold = KFold(n_splits=10, random_state=7, shuffle=True)\n",
    "results = cross_val_score(model, X, Y, cv=kfold)\n",
    "print(results.mean())"
   ]
  },
  {
   "cell_type": "markdown",
   "id": "b0df37c3",
   "metadata": {},
   "source": [
    "# 使用集成方法来改善性能"
   ]
  },
  {
   "cell_type": "markdown",
   "id": "35fe21e0",
   "metadata": {},
   "source": [
    "## bagging算法"
   ]
  },
  {
   "cell_type": "markdown",
   "id": "c1002136",
   "metadata": {},
   "source": [
    "### bagged决策树"
   ]
  },
  {
   "cell_type": "markdown",
   "id": "5799036d",
   "metadata": {},
   "source": [
    "bagging适合使用一些方差大的基模型，比如决策树。"
   ]
  },
  {
   "cell_type": "code",
   "execution_count": 93,
   "id": "edf5242e",
   "metadata": {},
   "outputs": [
    {
     "name": "stdout",
     "output_type": "stream",
     "text": [
      "0.7578263841421736\n"
     ]
    }
   ],
   "source": [
    "from sklearn.ensemble import BaggingClassifier\n",
    "from sklearn.tree import DecisionTreeClassifier\n",
    "\n",
    "kfold = KFold(n_splits=10, random_state=7, shuffle=True)\n",
    "cart = DecisionTreeClassifier()\n",
    "num_trees = 100\n",
    "model = BaggingClassifier(base_estimator=cart, n_estimators=num_trees, random_state=7)  # 为啥random_state可以保证每次分数一样？？\n",
    "results = cross_val_score(model, X, Y, cv=kfold)\n",
    "print(results.mean())"
   ]
  },
  {
   "cell_type": "markdown",
   "id": "85dc5b91",
   "metadata": {},
   "source": [
    "### 随机森林"
   ]
  },
  {
   "cell_type": "code",
   "execution_count": 84,
   "id": "56bb7d21",
   "metadata": {},
   "outputs": [
    {
     "name": "stdout",
     "output_type": "stream",
     "text": [
      "0.7695488721804511\n"
     ]
    }
   ],
   "source": [
    "from sklearn.ensemble import RandomForestClassifier\n",
    "\n",
    "kfold = KFold(n_splits=10, random_state=7, shuffle=True)\n",
    "num_trees = 100\n",
    "max_fetures = 3\n",
    "model = RandomForestClassifier(n_estimators=num_trees, max_features=max_fetures)\n",
    "results = cross_val_score(model, X, Y, cv=kfold)\n",
    "print(results.mean())"
   ]
  },
  {
   "cell_type": "markdown",
   "id": "a28c1cc0",
   "metadata": {},
   "source": [
    "### ExtraTrees"
   ]
  },
  {
   "cell_type": "code",
   "execution_count": 90,
   "id": "8d6236ec",
   "metadata": {},
   "outputs": [
    {
     "name": "stdout",
     "output_type": "stream",
     "text": [
      "0.7669002050580997\n"
     ]
    }
   ],
   "source": [
    "from sklearn.ensemble import ExtraTreesClassifier\n",
    "\n",
    "kfold = KFold(n_splits=10, random_state=7, shuffle=True)\n",
    "num_trees = 100\n",
    "max_fetures = 3\n",
    "model = ExtraTreesClassifier(n_estimators=num_trees, max_features=max_fetures)\n",
    "results = cross_val_score(model, X, Y, cv=kfold)\n",
    "print(results.mean())"
   ]
  },
  {
   "cell_type": "markdown",
   "id": "542fdb17",
   "metadata": {},
   "source": [
    "## boosting算法"
   ]
  },
  {
   "cell_type": "markdown",
   "id": "bb9cce9b",
   "metadata": {},
   "source": [
    "### AdaBoost"
   ]
  },
  {
   "cell_type": "code",
   "execution_count": 98,
   "id": "69a1b209",
   "metadata": {},
   "outputs": [
    {
     "name": "stdout",
     "output_type": "stream",
     "text": [
      "0.7578605604921395\n"
     ]
    }
   ],
   "source": [
    "from sklearn.ensemble import AdaBoostClassifier\n",
    "\n",
    "kfold = KFold(n_splits=10, random_state=7, shuffle=True)\n",
    "num_trees = 100\n",
    "model = AdaBoostClassifier(n_estimators=num_trees, random_state=7)\n",
    "results = cross_val_score(model, X, Y, cv=kfold)\n",
    "print(results.mean())"
   ]
  },
  {
   "cell_type": "markdown",
   "id": "c118d80c",
   "metadata": {},
   "source": [
    "### Gradient Boosting"
   ]
  },
  {
   "cell_type": "code",
   "execution_count": 99,
   "id": "13d86d7b",
   "metadata": {},
   "outputs": [
    {
     "name": "stdout",
     "output_type": "stream",
     "text": [
      "0.7591934381408066\n"
     ]
    }
   ],
   "source": [
    "from sklearn.ensemble import GradientBoostingClassifier\n",
    "\n",
    "kfold = KFold(n_splits=10, random_state=7, shuffle=True)\n",
    "num_trees = 100\n",
    "model = GradientBoostingClassifier(n_estimators=num_trees, random_state=7)\n",
    "results = cross_val_score(model, X, Y, cv=kfold)\n",
    "print(results.mean())"
   ]
  },
  {
   "cell_type": "markdown",
   "id": "29e0f6cc",
   "metadata": {},
   "source": [
    "## Voting Ensemble"
   ]
  },
  {
   "cell_type": "code",
   "execution_count": 102,
   "id": "216b7f43",
   "metadata": {},
   "outputs": [
    {
     "name": "stdout",
     "output_type": "stream",
     "text": [
      "0.7682672590567329\n"
     ]
    }
   ],
   "source": [
    "from sklearn.linear_model import LogisticRegression\n",
    "from sklearn.tree import DecisionTreeClassifier\n",
    "from sklearn.svm import SVC\n",
    "from sklearn.ensemble import VotingClassifier\n",
    "\n",
    "kfold = KFold(n_splits=10, random_state=7, shuffle=True)\n",
    "# create the sub models\n",
    "estimators = []\n",
    "model1 = LogisticRegression(max_iter=200)\n",
    "estimators.append(('logistic', model1))\n",
    "model2 = DecisionTreeClassifier()\n",
    "estimators.append(('cart', model2))\n",
    "model3 = SVC()\n",
    "estimators.append(('svm', model3))\n",
    "# create the ensemble model\n",
    "ensemble = VotingClassifier(estimators)\n",
    "results = cross_val_score(ensemble, X, Y, cv=kfold)\n",
    "print(results.mean())"
   ]
  },
  {
   "cell_type": "markdown",
   "id": "56eb4489",
   "metadata": {},
   "source": [
    "# 通过优化算法提升性能"
   ]
  },
  {
   "cell_type": "markdown",
   "id": "b89da61b",
   "metadata": {},
   "source": [
    "## 网格搜索参数调优"
   ]
  },
  {
   "cell_type": "markdown",
   "id": "cde7acfd",
   "metadata": {},
   "source": [
    "`GridSearchCV`还有一个`cv`参数可以传入各种k折验证，得到的结果是k折验证的均值："
   ]
  },
  {
   "cell_type": "code",
   "execution_count": 104,
   "id": "14c2bd12",
   "metadata": {},
   "outputs": [
    {
     "name": "stdout",
     "output_type": "stream",
     "text": [
      "0.27610844129292433\n",
      "1.0\n"
     ]
    }
   ],
   "source": [
    "from sklearn.linear_model import Ridge\n",
    "from sklearn.model_selection import GridSearchCV\n",
    "\n",
    "alphas = np.array([1,0.1,0.01,0.001,0.0001,0])\n",
    "param_grid = dict(alpha=alphas)\n",
    "model = Ridge()\n",
    "grid = GridSearchCV(estimator=model, param_grid=param_grid)  # 还可以传入cv参数\n",
    "grid.fit(X, Y)\n",
    "print(grid.best_score_)\n",
    "print(grid.best_estimator_.alpha)"
   ]
  },
  {
   "cell_type": "markdown",
   "id": "aa226378",
   "metadata": {},
   "source": [
    "## 随机搜索参数调优"
   ]
  },
  {
   "cell_type": "markdown",
   "id": "dac5d7a2",
   "metadata": {},
   "source": [
    "其中scipy中的类似于`uniform`之类的随机函数的用法看这里：\n",
    "\n",
    "- [How does sp_randint work?](https://stackoverflow.com/questions/40005795/how-does-sp-randint-work)"
   ]
  },
  {
   "cell_type": "code",
   "execution_count": 122,
   "id": "8b83df2c",
   "metadata": {},
   "outputs": [
    {
     "name": "stdout",
     "output_type": "stream",
     "text": [
      "0.2761075573402853\n",
      "0.9779895119966027\n"
     ]
    }
   ],
   "source": [
    "from sklearn.model_selection import RandomizedSearchCV\n",
    "from scipy.stats import uniform\n",
    "\n",
    "param_grid = {'alpha': uniform()}\n",
    "model = Ridge()\n",
    "rsearch = RandomizedSearchCV(estimator=model,\n",
    "                             param_distributions=param_grid,\n",
    "                             n_iter=100,\n",
    "                             random_state=7)\n",
    "rsearch.fit(X, Y)\n",
    "print(rsearch.best_score_)\n",
    "print(rsearch.best_estimator_.alpha)"
   ]
  },
  {
   "cell_type": "markdown",
   "id": "512e5a00",
   "metadata": {},
   "source": [
    "# 保存和加载机器学习模型"
   ]
  },
  {
   "cell_type": "markdown",
   "id": "703cb671",
   "metadata": {},
   "source": [
    "## 使用pickle保存载入模型"
   ]
  },
  {
   "cell_type": "code",
   "execution_count": 139,
   "id": "b11b68c5",
   "metadata": {},
   "outputs": [
    {
     "name": "stdout",
     "output_type": "stream",
     "text": [
      "0.7874015748031497\n"
     ]
    }
   ],
   "source": [
    "import pickle\n",
    "\n",
    "X_train, X_test, Y_train, Y_test = train_test_split(X,\n",
    "                                                    Y,\n",
    "                                                    test_size=0.33,\n",
    "                                                    random_state=7)\n",
    "# Fit the model on 33%\n",
    "model = LogisticRegression(max_iter=200)\n",
    "model.fit(X_train, Y_train)\n",
    "\n",
    "# save the model to disk\n",
    "filename = 'finalized_model.sav'\n",
    "pickle.dump(model, open(filename, 'wb'))\n",
    "\n",
    "# some time later...\n",
    "# load the model from disk\n",
    "loaded_model = pickle.load(open(filename, 'rb'))\n",
    "result = loaded_model.score(X_test, Y_test)\n",
    "print(result)"
   ]
  },
  {
   "cell_type": "markdown",
   "id": "43c9c945",
   "metadata": {},
   "source": [
    "## 使用joblib保存载入模型"
   ]
  },
  {
   "cell_type": "markdown",
   "id": "d9e1709a",
   "metadata": {},
   "source": [
    "sklearn中的joblib在0.21版本以后被弃用，现在要单独导入："
   ]
  },
  {
   "cell_type": "code",
   "execution_count": 145,
   "id": "6dbc9de1",
   "metadata": {},
   "outputs": [
    {
     "name": "stdout",
     "output_type": "stream",
     "text": [
      "0.7874015748031497\n"
     ]
    }
   ],
   "source": [
    "import joblib\n",
    "\n",
    "X_train, X_test, Y_train, Y_test = train_test_split(X,\n",
    "                                                    Y,\n",
    "                                                    test_size=0.33,\n",
    "                                                    random_state=7)\n",
    "# Fit the model on 33%\n",
    "model = LogisticRegression(max_iter=200)\n",
    "model.fit(X_train, Y_train)\n",
    "\n",
    "# save the model to disk\n",
    "filename = 'finalized_model.sav'\n",
    "joblib.dump(model, filename)\n",
    "\n",
    "# some time later...\n",
    "# load the model from disk\n",
    "loaded_model = joblib.load(filename)\n",
    "result = loaded_model.score(X_test, Y_test)\n",
    "print(result)"
   ]
  },
  {
   "cell_type": "code",
   "execution_count": null,
   "id": "faeaf902",
   "metadata": {},
   "outputs": [],
   "source": []
  }
 ],
 "metadata": {
  "kernelspec": {
   "display_name": "Python 3 (ipykernel)",
   "language": "python",
   "name": "python3"
  },
  "language_info": {
   "codemirror_mode": {
    "name": "ipython",
    "version": 3
   },
   "file_extension": ".py",
   "mimetype": "text/x-python",
   "name": "python",
   "nbconvert_exporter": "python",
   "pygments_lexer": "ipython3",
   "version": "3.9.7"
  },
  "toc": {
   "base_numbering": 1,
   "nav_menu": {},
   "number_sections": true,
   "sideBar": true,
   "skip_h1_title": false,
   "title_cell": "Table of Contents",
   "title_sidebar": "教程",
   "toc_cell": false,
   "toc_position": {
    "height": "calc(100% - 180px)",
    "left": "10px",
    "top": "150px",
    "width": "240.967px"
   },
   "toc_section_display": true,
   "toc_window_display": true
  }
 },
 "nbformat": 4,
 "nbformat_minor": 5
}
