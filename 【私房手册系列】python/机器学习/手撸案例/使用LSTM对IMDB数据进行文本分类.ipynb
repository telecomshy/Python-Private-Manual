{
 "cells": [
  {
   "cell_type": "markdown",
   "id": "a4346851",
   "metadata": {},
   "source": [
    "# 使用LSTM对IMDB数据进行文本分类"
   ]
  },
  {
   "cell_type": "code",
   "execution_count": 1,
   "id": "5741c2f1",
   "metadata": {},
   "outputs": [],
   "source": [
    "import pandas as pd\n",
    "import numpy as np\n",
    "import matplotlib.pyplot as plt\n",
    "import seaborn as sns\n",
    "from sklearn import metrics\n",
    "from sklearn.preprocessing import LabelEncoder, OneHotEncoder\n",
    "from sklearn.model_selection import train_test_split\n",
    "from keras.models import Sequential, load_model\n",
    "from keras.preprocessing.text import Tokenizer\n",
    "from keras.preprocessing import sequence\n",
    "from keras.callbacks import EarlyStopping\n",
    "from keras.datasets import imdb\n",
    "from keras.layers import Embedding, Dense, LSTM\n",
    "import jieba"
   ]
  },
  {
   "cell_type": "markdown",
   "id": "d5e2e7a6",
   "metadata": {},
   "source": [
    "## 读取数据"
   ]
  },
  {
   "cell_type": "code",
   "execution_count": 2,
   "id": "cc26db32",
   "metadata": {},
   "outputs": [
    {
     "name": "stderr",
     "output_type": "stream",
     "text": [
      "<string>:6: VisibleDeprecationWarning: Creating an ndarray from ragged nested sequences (which is a list-or-tuple of lists-or-tuples-or ndarrays with different lengths or shapes) is deprecated. If you meant to do this, you must specify 'dtype=object' when creating the ndarray\n",
      "D:\\programs\\Anaconda3\\lib\\site-packages\\tensorflow\\python\\keras\\datasets\\imdb.py:159: VisibleDeprecationWarning: Creating an ndarray from ragged nested sequences (which is a list-or-tuple of lists-or-tuples-or ndarrays with different lengths or shapes) is deprecated. If you meant to do this, you must specify 'dtype=object' when creating the ndarray\n",
      "  x_train, y_train = np.array(xs[:idx]), np.array(labels[:idx])\n",
      "D:\\programs\\Anaconda3\\lib\\site-packages\\tensorflow\\python\\keras\\datasets\\imdb.py:160: VisibleDeprecationWarning: Creating an ndarray from ragged nested sequences (which is a list-or-tuple of lists-or-tuples-or ndarrays with different lengths or shapes) is deprecated. If you meant to do this, you must specify 'dtype=object' when creating the ndarray\n",
      "  x_test, y_test = np.array(xs[idx:]), np.array(labels[idx:])\n"
     ]
    }
   ],
   "source": [
    "top_words = 10000\n",
    "(X_train, Y_train), (X_test, Y_test) = imdb.load_data(num_words=top_words)"
   ]
  },
  {
   "cell_type": "markdown",
   "id": "562cb5be",
   "metadata": {},
   "source": [
    "读取数据，`num_words`表示取最常出现的单词个数。imdb数据集一共有88584个单词，意味着只取其中最常见的10000个："
   ]
  },
  {
   "cell_type": "code",
   "execution_count": 3,
   "id": "b0b37546",
   "metadata": {},
   "outputs": [],
   "source": [
    "word_dict = imdb.get_word_index()"
   ]
  },
  {
   "cell_type": "code",
   "execution_count": 4,
   "id": "14be89ce",
   "metadata": {},
   "outputs": [
    {
     "data": {
      "text/plain": [
       "88584"
      ]
     },
     "execution_count": 4,
     "metadata": {},
     "output_type": "execute_result"
    }
   ],
   "source": [
    "len(word_dict)"
   ]
  },
  {
   "cell_type": "markdown",
   "id": "0b5f28f1",
   "metadata": {},
   "source": [
    "此时读取的都是已经处理好的数据，每一个单词对应着一个数字的索引，比如："
   ]
  },
  {
   "cell_type": "code",
   "execution_count": 5,
   "id": "4f3c076c",
   "metadata": {},
   "outputs": [
    {
     "data": {
      "text/plain": [
       "[1, 14, 22, 16, 43, 530, 973, 1622, 1385, 65]"
      ]
     },
     "execution_count": 5,
     "metadata": {},
     "output_type": "execute_result"
    }
   ],
   "source": [
    "X_train[0][:10]"
   ]
  },
  {
   "cell_type": "markdown",
   "id": "e2376937",
   "metadata": {},
   "source": [
    "其中，0、1、2三个数字有特殊意义，分别代表填充、序列开始以及未知单词。如果想根据索引返回单词，可以这样做："
   ]
  },
  {
   "cell_type": "code",
   "execution_count": 6,
   "id": "8b91cda3",
   "metadata": {},
   "outputs": [],
   "source": [
    "# 首先构造{索引：值}的字典\n",
    "reverse_word_index = dict([(value, key) for (key, value) in word_dict.items()])"
   ]
  },
  {
   "cell_type": "code",
   "execution_count": 20,
   "id": "8dc6d9d5",
   "metadata": {},
   "outputs": [
    {
     "data": {
      "text/plain": [
       "\"? this film was just brilliant casting location scenery story direction everyone's really suited the part they played and you could just imagine being there robert ? is an amazing actor and now the same being director ? father came from the same scottish island as myself so i loved the fact there was a real connection with this film the witty remarks throughout the film were great it was just brilliant so much that i bought the film as soon as it was released for ? and would recommend it to everyone to watch and the fly fishing was amazing really cried at the end it was so sad and you know what they say if you cry at a film it must have been good and this definitely was also ? to the two little boy's that played the ? of norman and paul they were just brilliant children are often left out of the ? list i think because the stars that play them all grown up are such a big profile for the whole film but these children are amazing and should be praised for what they have done don't you think the whole story was so lovely because it was true and was someone's life after all that was shared with us all\""
      ]
     },
     "execution_count": 20,
     "metadata": {},
     "output_type": "execute_result"
    }
   ],
   "source": [
    "decode_view = ' '.join(\n",
    "    [reverse_word_index.get(i - 3, '?') for i in X_train[0]])\n",
    "decode_view"
   ]
  },
  {
   "cell_type": "markdown",
   "id": "f9b8135f",
   "metadata": {},
   "source": [
    "`i-3`是因为0、1、2是保留值，`reverse_word_index`字典的索引又是从1开始，`load_data`方法读取出来的整数序列的索引是从4开始，两者索引值相差3才能匹配上，比如第一行评论的第二个单词`this`，其索引是："
   ]
  },
  {
   "cell_type": "code",
   "execution_count": 31,
   "id": "5ba6ea28",
   "metadata": {},
   "outputs": [
    {
     "data": {
      "text/plain": [
       "14"
      ]
     },
     "execution_count": 31,
     "metadata": {},
     "output_type": "execute_result"
    }
   ],
   "source": [
    "X_train[0][1]"
   ]
  },
  {
   "cell_type": "markdown",
   "id": "ad6221ef",
   "metadata": {},
   "source": [
    "所以`get_word_index`方法返回的单词和索引的字典，索引需要减去3："
   ]
  },
  {
   "cell_type": "code",
   "execution_count": 32,
   "id": "7c19297d",
   "metadata": {},
   "outputs": [
    {
     "data": {
      "text/plain": [
       "11"
      ]
     },
     "execution_count": 32,
     "metadata": {},
     "output_type": "execute_result"
    }
   ],
   "source": [
    "word_dict['this']"
   ]
  },
  {
   "cell_type": "code",
   "execution_count": 34,
   "id": "2a55e711",
   "metadata": {
    "scrolled": true
   },
   "outputs": [
    {
     "data": {
      "text/plain": [
       "'this'"
      ]
     },
     "execution_count": 34,
     "metadata": {},
     "output_type": "execute_result"
    }
   ],
   "source": [
    "reverse_word_index[11]"
   ]
  },
  {
   "cell_type": "markdown",
   "id": "3135ce76",
   "metadata": {},
   "source": [
    "此时，每条评论的单词数目不一致，比如第一条评论有218个单词，第二条评论189个单词，如果看成向量，需要所有向量长度一致，才能作为神经网络的输入。"
   ]
  },
  {
   "cell_type": "code",
   "execution_count": 40,
   "id": "915f3acc",
   "metadata": {},
   "outputs": [
    {
     "data": {
      "text/plain": [
       "218"
      ]
     },
     "execution_count": 40,
     "metadata": {},
     "output_type": "execute_result"
    }
   ],
   "source": [
    "len(X_train[0])"
   ]
  },
  {
   "cell_type": "code",
   "execution_count": 41,
   "id": "c04341d8",
   "metadata": {},
   "outputs": [
    {
     "data": {
      "text/plain": [
       "189"
      ]
     },
     "execution_count": 41,
     "metadata": {},
     "output_type": "execute_result"
    }
   ],
   "source": [
    "len(X_train[1])"
   ]
  },
  {
   "cell_type": "markdown",
   "id": "15c6b9ed",
   "metadata": {},
   "source": [
    "因此，对评论构成的列表进行填充，设置列表长度为500，多出的截断，不足的补零。"
   ]
  },
  {
   "cell_type": "code",
   "execution_count": 110,
   "id": "d4e44702",
   "metadata": {},
   "outputs": [],
   "source": [
    "# truncate and pad input sequences\n",
    "max_review_length = 500\n",
    "X_train = sequence.pad_sequences(X_train, maxlen=max_review_length)\n",
    "X_test = sequence.pad_sequences(X_test, maxlen=max_review_length)"
   ]
  },
  {
   "cell_type": "markdown",
   "id": "20d1ae3b",
   "metadata": {},
   "source": [
    "此时所有评论长度一致，可以作为输入："
   ]
  },
  {
   "cell_type": "code",
   "execution_count": 45,
   "id": "4e0ba904",
   "metadata": {},
   "outputs": [
    {
     "data": {
      "text/plain": [
       "500"
      ]
     },
     "execution_count": 45,
     "metadata": {},
     "output_type": "execute_result"
    }
   ],
   "source": [
    "len(X_train[0])"
   ]
  },
  {
   "cell_type": "markdown",
   "id": "29f84f77",
   "metadata": {},
   "source": [
    "也可以采用独热编码来使向量长度一致，原理如下："
   ]
  },
  {
   "cell_type": "code",
   "execution_count": 55,
   "id": "a57c23b4",
   "metadata": {},
   "outputs": [
    {
     "data": {
      "text/plain": [
       "array([[0., 1., 0., 0., 0., 1.],\n",
       "       [0., 0., 1., 1., 1., 0.]])"
      ]
     },
     "execution_count": 55,
     "metadata": {},
     "output_type": "execute_result"
    }
   ],
   "source": [
    "def one_hot(data, dimension=10000):\n",
    "    results = np.zeros((len(data), dimension))\n",
    "    for i, seq in enumerate(data):\n",
    "        results[i, seq] = 1.\n",
    "    return results\n",
    "\n",
    "one_hot([[1, 5], [2, 3, 4]], dimension=6)"
   ]
  },
  {
   "cell_type": "markdown",
   "id": "0c5bde1d",
   "metadata": {},
   "source": [
    "## 训练模型"
   ]
  },
  {
   "cell_type": "markdown",
   "id": "799e280b",
   "metadata": {},
   "source": [
    "首先是Embedding词嵌入层，这一层的作用是将高维的向量压缩到低维，高维的稀疏的整数向量用低维的紧凑的浮点数向量表示，最少接收2个参数分别是标记的个数，和嵌入的维度。\n",
    "\n",
    "Embedding层返回的是形状为(samples, sequence_length, embedding_dimensionality)的三维浮点数张量，因为RNN层或一维卷积层处理的是三维张量而不是二维的，其中第二个`sequence_length`就相当于RNN或者LSTM的时间戳。"
   ]
  },
  {
   "cell_type": "code",
   "execution_count": 124,
   "id": "72c643d7",
   "metadata": {},
   "outputs": [
    {
     "name": "stdout",
     "output_type": "stream",
     "text": [
      "Model: \"sequential_8\"\n",
      "_________________________________________________________________\n",
      "Layer (type)                 Output Shape              Param #   \n",
      "=================================================================\n",
      "embedding_8 (Embedding)      (None, 500, 64)           640000    \n",
      "_________________________________________________________________\n",
      "lstm_8 (LSTM)                (None, 32)                12416     \n",
      "_________________________________________________________________\n",
      "dense_8 (Dense)              (None, 1)                 33        \n",
      "=================================================================\n",
      "Total params: 652,449\n",
      "Trainable params: 652,449\n",
      "Non-trainable params: 0\n",
      "_________________________________________________________________\n",
      "None\n"
     ]
    }
   ],
   "source": [
    "# create the model\n",
    "embedding_vecor_length = 64\n",
    "model = Sequential()\n",
    "\n",
    "# top_words即前面选取的最常用的10000个单词，压缩到64维，每一行向量的长度是500\n",
    "model.add(Embedding(top_words, embedding_vecor_length, input_length=max_review_length))\n",
    "# LSTM输出为32维，其它参数采用keras默认值\n",
    "model.add(LSTM(32))\n",
    "# 最后要添加一个dense层对应着输出，因为输出为2分类，只存在着0、1两个值，因此最后输出的维度为1\n",
    "model.add(Dense(1, activation='sigmoid'))\n",
    "model.compile(loss='binary_crossentropy', optimizer='adam', metrics=['accuracy'])\n",
    "print(model.summary())"
   ]
  },
  {
   "cell_type": "markdown",
   "id": "6232fa3d",
   "metadata": {},
   "source": [
    "`batch_size`指每次使用64个，而不是全部的样本进行训练，一次`epochs`指全部的样本训练完。\n",
    "\n",
    "- [What is batch size in neural network?](https://stats.stackexchange.com/questions/153531/what-is-batch-size-in-neural-network)"
   ]
  },
  {
   "cell_type": "code",
   "execution_count": 125,
   "id": "c8980cbc",
   "metadata": {},
   "outputs": [
    {
     "name": "stdout",
     "output_type": "stream",
     "text": [
      "Epoch 1/8\n",
      "313/313 [==============================] - 47s 149ms/step - loss: 0.4760 - accuracy: 0.7707 - val_loss: 0.3451 - val_accuracy: 0.8538\n",
      "Epoch 2/8\n",
      "313/313 [==============================] - 44s 142ms/step - loss: 0.2665 - accuracy: 0.8971 - val_loss: 0.3194 - val_accuracy: 0.8634\n",
      "Epoch 3/8\n",
      "313/313 [==============================] - 44s 141ms/step - loss: 0.1823 - accuracy: 0.9337 - val_loss: 0.3230 - val_accuracy: 0.8826\n",
      "Epoch 4/8\n",
      "313/313 [==============================] - 43s 136ms/step - loss: 0.1347 - accuracy: 0.9552 - val_loss: 0.4007 - val_accuracy: 0.8350\n",
      "Epoch 5/8\n",
      "313/313 [==============================] - 42s 133ms/step - loss: 0.1642 - accuracy: 0.9384 - val_loss: 0.3753 - val_accuracy: 0.8542\n",
      "Epoch 6/8\n",
      "313/313 [==============================] - 41s 132ms/step - loss: 0.0934 - accuracy: 0.9681 - val_loss: 0.4144 - val_accuracy: 0.8784\n",
      "Epoch 7/8\n",
      "313/313 [==============================] - 41s 132ms/step - loss: 0.0606 - accuracy: 0.9808 - val_loss: 0.4669 - val_accuracy: 0.8546\n",
      "Epoch 8/8\n",
      "313/313 [==============================] - 41s 131ms/step - loss: 0.0495 - accuracy: 0.9854 - val_loss: 0.4979 - val_accuracy: 0.8586\n"
     ]
    }
   ],
   "source": [
    "history = model.fit(X_train, Y_train, epochs=8, batch_size=64, validation_split=0.2)"
   ]
  },
  {
   "cell_type": "markdown",
   "id": "e02374cf",
   "metadata": {},
   "source": [
    "返回的`history`对象包含每一次训练的损失和准确度数据："
   ]
  },
  {
   "cell_type": "code",
   "execution_count": 130,
   "id": "86dbd5fc",
   "metadata": {},
   "outputs": [
    {
     "data": {
      "text/plain": [
       "dict_keys(['loss', 'accuracy', 'val_loss', 'val_accuracy'])"
      ]
     },
     "execution_count": 130,
     "metadata": {},
     "output_type": "execute_result"
    }
   ],
   "source": [
    "hist_dict = history.history\n",
    "hist_dict.keys()"
   ]
  },
  {
   "cell_type": "markdown",
   "id": "75066a67",
   "metadata": {},
   "source": [
    "可以作图查看损失和准确度的变化："
   ]
  },
  {
   "cell_type": "code",
   "execution_count": 161,
   "id": "82bfba58",
   "metadata": {},
   "outputs": [
    {
     "name": "stdout",
     "output_type": "stream",
     "text": [
      "Writing keras_utils.py\n"
     ]
    }
   ],
   "source": [
    "%%writefile 'keras_utils.py'\n",
    "def plot_history(hist_dict, figsize=(10, 4)):\n",
    "    fig = plt.figure(figsize=(10, 4))\n",
    "    ax1 = fig.add_subplot(121)\n",
    "    ax2 = fig.add_subplot(122)\n",
    "\n",
    "    loss_values = hist_dict['loss']\n",
    "    val_loss_values = hist_dict['val_loss']\n",
    "    epochs = range(1, len(loss_values) + 1)  # 获取横坐标\n",
    "    ax1.plot(epochs, loss_values, ':bo', label='Training loss')\n",
    "    ax1.plot(epochs, val_loss_values, ':go', label='Validation loss')\n",
    "    ax1.set_xlabel('Epochs')\n",
    "    ax1.set_ylabel('Loss')\n",
    "    ax1.legend()\n",
    "\n",
    "    acc = hist_dict['accuracy']\n",
    "    val_acc = hist_dict['val_accuracy']\n",
    "    ax2.plot(epochs, acc, ':bo', label='Training acc')\n",
    "    ax2.plot(epochs, val_acc, ':go', label='Validation acc')\n",
    "    ax2.set_xlabel('Epochs')\n",
    "    ax2.set_ylabel('Accuracy')\n",
    "    ax2.legend()"
   ]
  },
  {
   "cell_type": "code",
   "execution_count": 149,
   "id": "af3b069f",
   "metadata": {},
   "outputs": [
    {
     "data": {
      "image/png": "[encoded data removed]",
      "text/plain": [
       "<Figure size 720x288 with 2 Axes>"
      ]
     },
     "metadata": {
      "needs_background": "light"
     },
     "output_type": "display_data"
    }
   ],
   "source": [
    "plot_history(hist_dict)"
   ]
  },
  {
   "cell_type": "markdown",
   "id": "20002c78",
   "metadata": {},
   "source": [
    "可见，模型基本上从第三轮开始就过拟合了。因此，需要对模型进行正则化，LSTM的有两个参数`dropout`和`recurrent_dropout`，分别对应着循环层每一层输入和循环的`dropout`。\n",
    "- [**dropout** 和 **recurrent_dropout** 的区别](https://stackoverflow.com/questions/44924690/keras-the-difference-between-lstm-dropout-and-lstm-recurrent-dropout)\n",
    "\n",
    "添加这两个参数后再进行测试："
   ]
  },
  {
   "cell_type": "code",
   "execution_count": 152,
   "id": "9928b242",
   "metadata": {},
   "outputs": [
    {
     "name": "stdout",
     "output_type": "stream",
     "text": [
      "Epoch 1/5\n",
      "313/313 [==============================] - 112s 358ms/step - loss: 0.4599 - accuracy: 0.7829 - val_loss: 0.3098 - val_accuracy: 0.8712\n",
      "Epoch 2/5\n",
      "313/313 [==============================] - 114s 366ms/step - loss: 0.2541 - accuracy: 0.9033 - val_loss: 0.3044 - val_accuracy: 0.8840\n",
      "Epoch 3/5\n",
      "313/313 [==============================] - 113s 360ms/step - loss: 0.1905 - accuracy: 0.9318 - val_loss: 0.3305 - val_accuracy: 0.8556\n",
      "Epoch 4/5\n",
      "313/313 [==============================] - 113s 360ms/step - loss: 0.1847 - accuracy: 0.9297 - val_loss: 0.3273 - val_accuracy: 0.8750\n",
      "Epoch 5/5\n",
      "313/313 [==============================] - 112s 359ms/step - loss: 0.1231 - accuracy: 0.9562 - val_loss: 0.3960 - val_accuracy: 0.8734\n"
     ]
    }
   ],
   "source": [
    "# create the model\n",
    "embedding_vecor_length = 64\n",
    "model = Sequential()\n",
    "\n",
    "# top_words即前面选取的最常用的10000个单词，压缩到64维，每一行向量的长度是500\n",
    "model.add(Embedding(top_words, embedding_vecor_length, input_length=max_review_length))\n",
    "# LSTM输出为32维，其它参数采用keras默认值\n",
    "model.add(LSTM(32, dropout=0.2, recurrent_dropout=0.2))\n",
    "# 最后要添加一个dense层对应着输出，因为输出为2分类，只存在着0、1两个值，因此最后输出的维度为1\n",
    "model.add(Dense(1, activation='sigmoid'))\n",
    "model.compile(loss='binary_crossentropy', optimizer='adam', metrics=['accuracy'])\n",
    "history = model.fit(X_train, Y_train, epochs=5, batch_size=64, validation_split=0.2)"
   ]
  },
  {
   "cell_type": "code",
   "execution_count": 153,
   "id": "0a007a48",
   "metadata": {},
   "outputs": [
    {
     "data": {
      "image/png": "[encoded data removed]",
      "text/plain": [
       "<Figure size 720x288 with 2 Axes>"
      ]
     },
     "metadata": {
      "needs_background": "light"
     },
     "output_type": "display_data"
    }
   ],
   "source": [
    "hist_dict = history.history\n",
    "plot_history(hist_dict)"
   ]
  },
  {
   "cell_type": "markdown",
   "id": "b2e0ceeb",
   "metadata": {},
   "source": [
    "即使是使用了`dropout`，基本上在第三轮就出现了过拟合，因此训练2轮基本上就可以得到最终的结果。"
   ]
  },
  {
   "cell_type": "markdown",
   "id": "f5b5ec9f",
   "metadata": {},
   "source": [
    "## 评估模型"
   ]
  },
  {
   "cell_type": "markdown",
   "id": "fbb2f308",
   "metadata": {},
   "source": [
    "可以调用模型的`evaluate`方法在验证集上进行评估："
   ]
  },
  {
   "cell_type": "code",
   "execution_count": 154,
   "id": "ae609758",
   "metadata": {},
   "outputs": [
    {
     "name": "stdout",
     "output_type": "stream",
     "text": [
      "Accuracy: 85.92%\n"
     ]
    }
   ],
   "source": [
    "# Final evaluation of the model\n",
    "scores = model.evaluate(X_test, Y_test, verbose=0)\n",
    "print(\"Accuracy: {:.2f}%\".format(scores[1] * 100))"
   ]
  },
  {
   "cell_type": "markdown",
   "id": "45df590a",
   "metadata": {},
   "source": [
    "## 保存模型"
   ]
  },
  {
   "cell_type": "markdown",
   "id": "8b25cc0c",
   "metadata": {},
   "source": [
    "可以直接在模型上调用`save`方法保存模型："
   ]
  },
  {
   "cell_type": "code",
   "execution_count": 155,
   "id": "43f2908d",
   "metadata": {},
   "outputs": [],
   "source": [
    "model.save('imdb_lstm.h5')"
   ]
  },
  {
   "cell_type": "markdown",
   "id": "bb2fa14a",
   "metadata": {},
   "source": [
    "可以通过`load_model`来读取模型："
   ]
  },
  {
   "cell_type": "code",
   "execution_count": 159,
   "id": "2b77ec8b",
   "metadata": {},
   "outputs": [
    {
     "name": "stdout",
     "output_type": "stream",
     "text": [
      "Model: \"sequential_10\"\n",
      "_________________________________________________________________\n",
      "Layer (type)                 Output Shape              Param #   \n",
      "=================================================================\n",
      "embedding_10 (Embedding)     (None, 500, 64)           640000    \n",
      "_________________________________________________________________\n",
      "lstm_10 (LSTM)               (None, 32)                12416     \n",
      "_________________________________________________________________\n",
      "dense_10 (Dense)             (None, 1)                 33        \n",
      "=================================================================\n",
      "Total params: 652,449\n",
      "Trainable params: 652,449\n",
      "Non-trainable params: 0\n",
      "_________________________________________________________________\n"
     ]
    }
   ],
   "source": [
    "model = load_model('imdb_lstm.h5')\n",
    "model.summary()"
   ]
  },
  {
   "cell_type": "markdown",
   "id": "4c9d6199",
   "metadata": {},
   "source": [
    "除此之外，还可以保存为json或者yaml格式。\n",
    "- [How to Save and Load Your Keras Deep Learning Model](https://machinelearningmastery.com/save-load-keras-deep-learning-models/)"
   ]
  },
  {
   "cell_type": "code",
   "execution_count": null,
   "id": "61afb7d2",
   "metadata": {},
   "outputs": [],
   "source": []
  }
 ],
 "metadata": {
  "kernelspec": {
   "display_name": "Python 3",
   "language": "python",
   "name": "python3"
  },
  "language_info": {
   "codemirror_mode": {
    "name": "ipython",
    "version": 3
   },
   "file_extension": ".py",
   "mimetype": "text/x-python",
   "name": "python",
   "nbconvert_exporter": "python",
   "pygments_lexer": "ipython3",
   "version": "3.7.6"
  },
  "toc": {
   "base_numbering": 1,
   "nav_menu": {},
   "number_sections": true,
   "sideBar": true,
   "skip_h1_title": true,
   "title_cell": "Table of Contents",
   "title_sidebar": "使用LSTM对IMDB数据进行文本分类",
   "toc_cell": false,
   "toc_position": {},
   "toc_section_display": true,
   "toc_window_display": true
  }
 },
 "nbformat": 4,
 "nbformat_minor": 5
}
