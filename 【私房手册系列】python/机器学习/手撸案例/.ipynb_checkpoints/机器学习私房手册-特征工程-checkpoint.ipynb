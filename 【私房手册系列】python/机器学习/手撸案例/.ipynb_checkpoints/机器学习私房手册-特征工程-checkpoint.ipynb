{
 "cells": [
  {
   "cell_type": "markdown",
   "id": "fa1fe65a",
   "metadata": {},
   "source": [
    "# 机器学习私房手册-特征工程"
   ]
  },
  {
   "cell_type": "code",
   "execution_count": 2,
   "id": "cc6cbf3f",
   "metadata": {},
   "outputs": [],
   "source": [
    "import numpy\n",
    "import pandas as pd\n",
    "from numpy import arange\n",
    "from matplotlib import pyplot\n",
    "from pandas.plotting import scatter_matrix\n",
    "from sklearn.preprocessing import StandardScaler\n",
    "from sklearn.model_selection import train_test_split, KFold, cross_val_score, GridSearchCV\n",
    "from sklearn.linear_model import LinearRegression, Lasso, ElasticNet\n",
    "from sklearn.tree import DecisionTreeRegressor\n",
    "from sklearn.neighbors import KNeighborsRegressor\n",
    "from sklearn.svm import SVR\n",
    "from sklearn.pipeline import Pipeline\n",
    "from sklearn.ensemble import RandomForestRegressor, GradientBoostingRegressor, ExtraTreesRegressor, AdaBoostRegressor\n",
    "from sklearn.metrics import mean_squared_error"
   ]
  },
  {
   "cell_type": "markdown",
   "id": "88e77951",
   "metadata": {},
   "source": [
    "## 预备知识"
   ]
  },
  {
   "cell_type": "markdown",
   "id": "10e6de68",
   "metadata": {},
   "source": [
    "### 类别数据映射"
   ]
  },
  {
   "cell_type": "markdown",
   "id": "f756380f",
   "metadata": {},
   "source": [
    "类别数据需要映射成数字类型，比如一个`street_name`的特征，其中的选项包含`{'Charleston Road', 'North Shoreline Boulevard', 'Shorebird Way', 'Rengstorff Avenue'}`。我们可以这样映射：\n",
    "```python\n",
    "{ \n",
    "  'Charleston Road': 0,\n",
    "  'North Shoreline Boulevard': 1,\n",
    "  'Shorebird Way': 2,\n",
    "  'Rengstorff Avenue':3\n",
    "}\n",
    "```\n",
    "这里会有一个问题，世界上的每条街道并非都会出现在我们的数据集中，因此可以将所有其他街道分组为一个全部包罗的“其他”类别，这被称为称为 OOV（词汇表外）分桶：\n",
    "```python\n",
    "{ \n",
    "  'Charleston Road': 0,\n",
    "  'North Shoreline Boulevard': 1,\n",
    "  'Shorebird Way': 2,\n",
    "  'Rengstorff Avenue':3,\n",
    "  'OOV':4\n",
    "}\n",
    "```"
   ]
  },
  {
   "cell_type": "code",
   "execution_count": 8,
   "id": "3a7b3a45",
   "metadata": {},
   "outputs": [],
   "source": [
    "from sklearn.preprocessing import LabelEncoder, OrdinalEncoder"
   ]
  },
  {
   "cell_type": "code",
   "execution_count": 11,
   "id": "f161427c",
   "metadata": {},
   "outputs": [],
   "source": [
    "a = ['a', 'b', 'b', 'c', 'a', 'c']"
   ]
  },
  {
   "cell_type": "code",
   "execution_count": 12,
   "id": "1f5f4b52",
   "metadata": {},
   "outputs": [
    {
     "data": {
      "text/plain": [
       "array([0, 1, 1, 2, 0, 2], dtype=int64)"
      ]
     },
     "execution_count": 12,
     "metadata": {},
     "output_type": "execute_result"
    }
   ],
   "source": [
    "LabelEncoder().fit_transform(a)"
   ]
  },
  {
   "cell_type": "code",
   "execution_count": 14,
   "id": "5bdd6664",
   "metadata": {},
   "outputs": [],
   "source": [
    "data = [['red'], ['green'], ['blue']]"
   ]
  },
  {
   "cell_type": "code",
   "execution_count": 15,
   "id": "9e7b4f5a",
   "metadata": {},
   "outputs": [],
   "source": [
    "from sklearn.preprocessing import OneHotEncoder"
   ]
  },
  {
   "cell_type": "code",
   "execution_count": 18,
   "id": "b300258b",
   "metadata": {},
   "outputs": [
    {
     "data": {
      "text/plain": [
       "array([[0., 0., 1.],\n",
       "       [0., 1., 0.],\n",
       "       [1., 0., 0.]])"
      ]
     },
     "execution_count": 18,
     "metadata": {},
     "output_type": "execute_result"
    }
   ],
   "source": [
    "OneHotEncoder(sparse=False).fit_transform(data)"
   ]
  },
  {
   "cell_type": "code",
   "execution_count": 21,
   "id": "1d32d391",
   "metadata": {},
   "outputs": [
    {
     "data": {
      "text/plain": [
       "<3x3 sparse matrix of type '<class 'numpy.float64'>'\n",
       "\twith 3 stored elements in Compressed Sparse Row format>"
      ]
     },
     "execution_count": 21,
     "metadata": {},
     "output_type": "execute_result"
    }
   ],
   "source": [
    "r = OneHotEncoder().fit_transform(data)\n",
    "r"
   ]
  },
  {
   "cell_type": "code",
   "execution_count": null,
   "id": "cfce8868",
   "metadata": {},
   "outputs": [],
   "source": []
  }
 ],
 "metadata": {
  "kernelspec": {
   "display_name": "Python 3",
   "language": "python",
   "name": "python3"
  },
  "language_info": {
   "codemirror_mode": {
    "name": "ipython",
    "version": 3
   },
   "file_extension": ".py",
   "mimetype": "text/x-python",
   "name": "python",
   "nbconvert_exporter": "python",
   "pygments_lexer": "ipython3",
   "version": "3.7.6"
  },
  "toc": {
   "base_numbering": 1,
   "nav_menu": {},
   "number_sections": true,
   "sideBar": true,
   "skip_h1_title": true,
   "title_cell": "Table of Contents",
   "title_sidebar": "机器学习私房手册-特征工程",
   "toc_cell": false,
   "toc_position": {},
   "toc_section_display": true,
   "toc_window_display": true
  }
 },
 "nbformat": 4,
 "nbformat_minor": 5
}
