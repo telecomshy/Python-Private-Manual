{
 "cells": [
  {
   "cell_type": "markdown",
   "metadata": {},
   "source": [
    "# PySpark学习之路"
   ]
  },
  {
   "cell_type": "markdown",
   "metadata": {},
   "source": [
    "主要记录学习《PySpark实战指南》的一些笔记，说实话，这本书感觉不太适合入门，基础知识介绍的不够详细，刚开始看有点云里雾里的感觉。所以，尽可能的把自己学习过程中的疑惑记录下来并进行梳理。  \n",
    "学习PySpark，我觉得最大的障碍就是扑面而来的各种新概念和术语，导致一开始连门都摸不清在哪里。所以最重要的，是先把各种概念给理清楚、弄明白。"
   ]
  },
  {
   "cell_type": "markdown",
   "metadata": {},
   "source": [
    "## PySpark的相关背景知识和各种新名词 "
   ]
  },
  {
   "cell_type": "code",
   "execution_count": 3,
   "metadata": {},
   "outputs": [],
   "source": [
    "d = get_ipython().profile_dir"
   ]
  },
  {
   "cell_type": "code",
   "execution_count": 12,
   "metadata": {},
   "outputs": [
    {
     "data": {
      "text/plain": [
       "<ipykernel.zmqshell.ZMQInteractiveShell at 0x1af87060780>"
      ]
     },
     "execution_count": 12,
     "metadata": {},
     "output_type": "execute_result"
    }
   ],
   "source": [
    "get_ipython()"
   ]
  },
  {
   "cell_type": "code",
   "execution_count": 9,
   "metadata": {},
   "outputs": [],
   "source": [
    "d.check_startup_dir()"
   ]
  },
  {
   "cell_type": "code",
   "execution_count": 5,
   "metadata": {},
   "outputs": [
    {
     "data": {
      "text/plain": [
       "'startup'"
      ]
     },
     "execution_count": 5,
     "metadata": {},
     "output_type": "execute_result"
    }
   ],
   "source": [
    "d.startup_dir_name"
   ]
  },
  {
   "cell_type": "markdown",
   "metadata": {},
   "source": [
    "## 基本的操作"
   ]
  },
  {
   "cell_type": "markdown",
   "metadata": {},
   "source": [
    "### 读取文件"
   ]
  },
  {
   "cell_type": "code",
   "execution_count": null,
   "metadata": {},
   "outputs": [],
   "source": []
  },
  {
   "cell_type": "markdown",
   "metadata": {},
   "source": [
    "[Spark之本地模式与集群模式以及集群3种部署模式的区别](https://blog.csdn.net/learn_tech/article/details/83654290)  \n",
    "[Spark运行模式及原理](https://blog.csdn.net/qq_29726869/article/details/82345546)  \n",
    "[看了之后不再迷糊-Spark多种模式](https://www.jianshu.com/p/65a3476757a5)  \n",
    "[远程访问jupyter](https://blog.csdn.net/simple_the_best/article/details/77005400)  \n",
    "[远程jupyter不能导入pyspark](https://stackoverflow.com/questions/42030183/jupyter-pyspark-no-module-named-pyspark)\n",
    "[Pyspark：例外：在向驱动程序发送端口号之前退出Java网关进程(Pyspark: Exception: Java gateway process exited before sending the driver its port number)](http://www.it1352.com/958914.html)  \n",
    "[RDD分区理解](https://blog.csdn.net/qq_27717921/article/details/82946879)"
   ]
  },
  {
   "cell_type": "code",
   "execution_count": null,
   "metadata": {},
   "outputs": [],
   "source": []
  }
 ],
 "metadata": {
  "kernelspec": {
   "display_name": "Python 3",
   "language": "python",
   "name": "python3"
  },
  "language_info": {
   "codemirror_mode": {
    "name": "ipython",
    "version": 3
   },
   "file_extension": ".py",
   "mimetype": "text/x-python",
   "name": "python",
   "nbconvert_exporter": "python",
   "pygments_lexer": "ipython3",
   "version": "3.7.3"
  },
  "toc": {
   "base_numbering": 1,
   "nav_menu": {},
   "number_sections": true,
   "sideBar": true,
   "skip_h1_title": true,
   "title_cell": "Table of Contents",
   "title_sidebar": "Pyspark学习之路",
   "toc_cell": false,
   "toc_position": {},
   "toc_section_display": true,
   "toc_window_display": false
  },
  "varInspector": {
   "cols": {
    "lenName": 16,
    "lenType": 16,
    "lenVar": 40
   },
   "kernels_config": {
    "python": {
     "delete_cmd_postfix": "",
     "delete_cmd_prefix": "del ",
     "library": "var_list.py",
     "varRefreshCmd": "print(var_dic_list())"
    },
    "r": {
     "delete_cmd_postfix": ") ",
     "delete_cmd_prefix": "rm(",
     "library": "var_list.r",
     "varRefreshCmd": "cat(var_dic_list()) "
    }
   },
   "types_to_exclude": [
    "module",
    "function",
    "builtin_function_or_method",
    "instance",
    "_Feature"
   ],
   "window_display": false
  }
 },
 "nbformat": 4,
 "nbformat_minor": 2
}
