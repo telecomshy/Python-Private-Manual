{
 "cells": [
  {
   "cell_type": "markdown",
   "metadata": {},
   "source": [
    "# 四分位数、箱线图以及离群值"
   ]
  },
  {
   "cell_type": "code",
   "execution_count": 18,
   "metadata": {},
   "outputs": [],
   "source": [
    "import pandas as pd\n",
    "import matplotlib.pyplot as plt\n",
    "%matplotlib inline"
   ]
  },
  {
   "cell_type": "markdown",
   "metadata": {},
   "source": [
    "## IQR(四分位距)定义："
   ]
  },
  {
   "cell_type": "markdown",
   "metadata": {},
   "source": [
    "(IQR)的概念：\n",
    "> 四分位区间[IQR]是数据集中值的中间50%的区间，计算为第75位[上四分位Q3]与第25位百分位[下四分位Q1]的差值。\n",
    "\n",
    "举例说明：  \n"
   ]
  },
  {
   "cell_type": "markdown",
   "metadata": {},
   "source": [
    "## 离群值概念"
   ]
  },
  {
   "cell_type": "markdown",
   "metadata": {},
   "source": [
    "离群值是一个数据点或观察值，其值与被分析数据集中的其他值有很大的不同。识别异常值并使用适当的技术加以考虑是分析的一个重要部分。虽然统计学家们对于如何定义离群值并没有达成绝对的一致意见。但是幸运的是，已经制定了各种经验规则，使异常值的识别更加一致。一种常见的定义是使用上面提到的四分位数范围。  \n",
    "可以认为低于第25分位[Q1]-1.5倍IQR`(Q1-1.5*IQR)`或大于第75分位[Q3]+1.5倍IQR`(Q3+1.5*IQR)`的值为离群值（异常值）。这个1.5的系数是根据经验得来的，因为一般在正态分布数据中，150次观测中就有1次出现了这种极端情况。这个1.5因子可以用更高的值来代替，在正态分布的数据中，根据42.5万个观测值中出现极端值的情况，可以使用3×IQR次的门限。"
   ]
  },
  {
   "cell_type": "markdown",
   "metadata": {},
   "source": [
    "## 利用箱线图观察离群点"
   ]
  },
  {
   "cell_type": "code",
   "execution_count": null,
   "metadata": {},
   "outputs": [],
   "source": []
  },
  {
   "cell_type": "markdown",
   "metadata": {},
   "source": [
    "## 使用python+pandas过滤离群点"
   ]
  },
  {
   "cell_type": "markdown",
   "metadata": {},
   "source": [
    "创建一些随机数据："
   ]
  },
  {
   "cell_type": "code",
   "execution_count": 8,
   "metadata": {},
   "outputs": [],
   "source": [
    "np.random.seed(33454)\n",
    "df = (\n",
    "    # A standard distribution\n",
    "    pd.DataFrame({\n",
    "        'nb': np.random.randint(0, 100, 20)\n",
    "    })\n",
    "    # Adding some outliers\n",
    "    .append(pd.DataFrame({\n",
    "        'nb': np.random.randint(100, 200, 2)\n",
    "    }))\n",
    "    # Reseting the index\n",
    "    .reset_index(drop=True))"
   ]
  },
  {
   "cell_type": "markdown",
   "metadata": {},
   "source": [
    "计算IQR:"
   ]
  },
  {
   "cell_type": "code",
   "execution_count": 10,
   "metadata": {},
   "outputs": [],
   "source": [
    "Q1 = df['nb'].quantile(0.25)\n",
    "Q3 = df['nb'].quantile(0.75)\n",
    "IQR = Q3 - Q1"
   ]
  },
  {
   "cell_type": "markdown",
   "metadata": {},
   "source": [
    "过滤离群点："
   ]
  },
  {
   "cell_type": "code",
   "execution_count": 12,
   "metadata": {},
   "outputs": [],
   "source": [
    "filtered = df.query(\"@Q1-1.5*@IQR <= nb <= @Q3+1.5*@IQR\")"
   ]
  },
  {
   "cell_type": "markdown",
   "metadata": {},
   "source": [
    "做图比较："
   ]
  },
  {
   "cell_type": "code",
   "execution_count": 31,
   "metadata": {},
   "outputs": [
    {
     "data": {
      "image/png": "[encoded data removed]",
      "text/plain": [
       "<Figure size 432x237.6 with 2 Axes>"
      ]
     },
     "metadata": {
      "needs_background": "light"
     },
     "output_type": "display_data"
    }
   ],
   "source": [
    "plt.figure(figsize=(6, 3.3))\n",
    "plt.subplot(1, 2, 1)\n",
    "plt.boxplot(df['nb'], labels=['nb'])\n",
    "plt.subplot(1, 2, 2)\n",
    "plt.boxplot(filtered['nb'], labels=['nb']);"
   ]
  },
  {
   "cell_type": "markdown",
   "metadata": {},
   "source": [
    "## 思考：为什么不用正态分布来判断离群点？"
   ]
  },
  {
   "cell_type": "code",
   "execution_count": null,
   "metadata": {},
   "outputs": [],
   "source": []
  }
 ],
 "metadata": {
  "kernelspec": {
   "display_name": "Python 3",
   "language": "python",
   "name": "python3"
  },
  "language_info": {
   "codemirror_mode": {
    "name": "ipython",
    "version": 3
   },
   "file_extension": ".py",
   "mimetype": "text/x-python",
   "name": "python",
   "nbconvert_exporter": "python",
   "pygments_lexer": "ipython3",
   "version": "3.7.3"
  },
  "toc": {
   "base_numbering": 1,
   "nav_menu": {},
   "number_sections": true,
   "sideBar": true,
   "skip_h1_title": true,
   "title_cell": "Table of Contents",
   "title_sidebar": "四分位数、箱线图以及离群点",
   "toc_cell": false,
   "toc_position": {},
   "toc_section_display": true,
   "toc_window_display": false
  },
  "varInspector": {
   "cols": {
    "lenName": 16,
    "lenType": 16,
    "lenVar": 40
   },
   "kernels_config": {
    "python": {
     "delete_cmd_postfix": "",
     "delete_cmd_prefix": "del ",
     "library": "var_list.py",
     "varRefreshCmd": "print(var_dic_list())"
    },
    "r": {
     "delete_cmd_postfix": ") ",
     "delete_cmd_prefix": "rm(",
     "library": "var_list.r",
     "varRefreshCmd": "cat(var_dic_list()) "
    }
   },
   "types_to_exclude": [
    "module",
    "function",
    "builtin_function_or_method",
    "instance",
    "_Feature"
   ],
   "window_display": false
  }
 },
 "nbformat": 4,
 "nbformat_minor": 2
}
