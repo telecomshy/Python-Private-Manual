{
 "cells": [
  {
   "cell_type": "markdown",
   "metadata": {},
   "source": [
    "# Pyqt5私房手册-安装与配置"
   ]
  },
  {
   "cell_type": "markdown",
   "metadata": {},
   "source": [
    "## 安装与配置"
   ]
  },
  {
   "cell_type": "markdown",
   "metadata": {},
   "source": [
    "如果使用Anaconda，注意不要直接使用pip安装，因为anaconda和spyder都是用pyqt编写的，会引起各种冲突，而且不好还原。建立一个虚拟环境，单独安装：\n",
    "```python\n",
    "pip install pyqt5 -i https://pypi.doubanio.com/simple\n",
    "pip install pyqt5-tools -i https://pypi.doubanio.com/simple\n",
    "\n",
    "```\n",
    "安装完pyqt5-tools以后，建议在pycharm中间配置好开发环境，[pycharm配置pyqt5-tools开发环境的方法步骤](https://www.jb51.net/article/156026.htm)。注意，此时的解释器要配置为虚拟环境的。"
   ]
  },
  {
   "cell_type": "markdown",
   "metadata": {},
   "source": [
    "## 教程收集"
   ]
  },
  {
   "cell_type": "markdown",
   "metadata": {},
   "source": [
    "1. [git上的一个开源中文教程](https://github.com/maicss/PyQt5-Chinese-tutorial/blob/master/hello_world.md)"
   ]
  },
  {
   "cell_type": "markdown",
   "metadata": {},
   "source": []
  }
 ],
 "metadata": {
  "kernelspec": {
   "display_name": "Python 3",
   "language": "python",
   "name": "python3"
  },
  "language_info": {
   "codemirror_mode": {
    "name": "ipython",
    "version": 3
   },
   "file_extension": ".py",
   "mimetype": "text/x-python",
   "name": "python",
   "nbconvert_exporter": "python",
   "pygments_lexer": "ipython3",
   "version": "3.7.6"
  },
  "toc": {
   "base_numbering": 1,
   "nav_menu": {},
   "number_sections": true,
   "sideBar": true,
   "skip_h1_title": true,
   "title_cell": "Table of Contents",
   "title_sidebar": "Pyqt5私房手册-安装与配置",
   "toc_cell": false,
   "toc_position": {},
   "toc_section_display": true,
   "toc_window_display": true
  }
 },
 "nbformat": 4,
 "nbformat_minor": 4
}
