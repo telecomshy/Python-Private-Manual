{
 "cells": [
  {
   "cell_type": "markdown",
   "metadata": {},
   "source": [
    "# PyQt5私房手册-多线程"
   ]
  },
  {
   "cell_type": "markdown",
   "metadata": {},
   "source": [
    "## 深入理解PyQt5的多线程"
   ]
  },
  {
   "cell_type": "markdown",
   "metadata": {},
   "source": [
    "PyQt5的多线程比较复杂，先看以下几篇文章，PyQt5的机制是否一样，还不确定：\n",
    "- [QT之深入理解QThread](https://www.cnblogs.com/findumars/p/5185128.html)\n",
    "- [QThread与多线程](https://blog.csdn.net/Amnes1a/article/details/70171519)\n",
    "- [Qt线程与事件循环的正确用法](https://blog.csdn.net/youlezhe/article/details/60755535)\n",
    "\n",
    "简单来说，有2种方法可以实现多线程。一种是`PyQt4`的时候，使用继承`QThread`的方式，一种是`PyQt5`推荐的，使用一个继承自`QObject`的子类的`moveToThread`方法。看个例子，用2种方法实现延迟3秒出现\"开始\"的`Label`：\n",
    "\n",
    "1. 继承`QThread`的写法：\n",
    "\n",
    "```python\n",
    "class Example(QWidget):\n",
    "\n",
    "    def __init__(self):\n",
    "        super().__init__()\n",
    "        self.setGeometry(300, 300, 300, 200)\n",
    "        self.setWindowTitle('Tooltips')\n",
    "\n",
    "        self.lbl = QLabel(self)\n",
    "        self.lbl.resize(100, 50)\n",
    "        self.lbl.move(50, 50)\n",
    "\n",
    "        self.thread = MyThread()\n",
    "        self.thread.signal.connect(self.set_text)\n",
    "        self.thread.start()\n",
    "\n",
    "    def set_text(self, text):\n",
    "        self.lbl.setText(text)\n",
    "\n",
    "\n",
    "class MyThread(QThread):\n",
    "    signal = pyqtSignal(str)\n",
    "\n",
    "    def run(self):\n",
    "        sleep(3)\n",
    "        self.signal.emit(\"开始\")\n",
    "```\n",
    "\n",
    "\n",
    "2. `moveToThread`的写法\n",
    "\n",
    "```python\n",
    "class Example(QWidget):\n",
    "\n",
    "    def __init__(self):\n",
    "        super().__init__()\n",
    "        self.setGeometry(300, 300, 300, 200)\n",
    "\n",
    "        self.lbl = QLabel(self)\n",
    "        self.lbl.resize(100, 50)\n",
    "        self.lbl.move(50, 50)\n",
    "\n",
    "        self.job = MyJob()\n",
    "        self.thread = QThread()\n",
    "        self.job.moveToThread(self.thread)\n",
    "        self.job.start_work_signal.connect(self.set_text)\n",
    "        self.job.stop_thread_signal.connect(self.stop_thread)\n",
    "        self.thread.started.connect(self.job.start)\n",
    "        self.thread.start()\n",
    "\n",
    "    def set_text(self, text):\n",
    "        self.lbl.setText(text)\n",
    "\n",
    "    def stop_thread(self):\n",
    "        self.thread.quit()\n",
    "\n",
    "\n",
    "class MyJob(QObject):\n",
    "    start_work_signal = pyqtSignal(str)\n",
    "    stop_thread_signal = pyqtSignal()\n",
    "\n",
    "    def start(self):\n",
    "        sleep(3)\n",
    "        self.start_work_signal.emit(\"开始\")\n",
    "        self.stop_thread_signal.emit()\n",
    "```\n",
    "\n",
    "要注意，这里不管是第一种方法的`self.thread`还是第二种方法的`self.job`，都需要设置为实例属性而不能是局部变量，即不能直接使用`thread=QThread()`或者`job=MyJob()`这样的写法。否则会抛出`QThread: Destroyed while thread is still running`错误，或者不起作用，原因都是`connect`并不会增加`thread`或者`QObject`的引用计数，函数执行完毕，局部变量就会被`Python`回收掉。\n",
    "\n",
    "另外，使用第二种`moveToThread`方式，线程不会主动结束，相当于在第一种继承方式的`run`方法中，执行了`self.exec()`，开启了事件循环，因此，如果要线程结束，还需要像例子中那样调用`self.thread.quit()`方法。"
   ]
  },
  {
   "cell_type": "markdown",
   "metadata": {},
   "source": [
    "## 常见错误"
   ]
  },
  {
   "cell_type": "markdown",
   "metadata": {},
   "source": [
    "### `QThread: Destroyed while thread is still running`错误"
   ]
  },
  {
   "cell_type": "markdown",
   "metadata": {},
   "source": [
    "当Python对线程进行垃圾收集时，就会出现这个问题。比如有下面的代码：\n",
    "```python\n",
    "def btn_click(self):\n",
    "    thread = QThread()\n",
    "```\n",
    "就有可能会报错，因为在`btn_click`函数创建了`thread`以后会继续执行，当函数执行完以后，`thread`由于是局部变量，此时`python`会对其进行垃圾回收，而如果线程此时还没有执行完，就会抛出`QThread: Destroyed while thread is still running`错误。\n",
    "\n",
    "解决方法很简单，将局部变量`thread`变成实例属性即可，保存对线程的引用，避免被回收：\n",
    "```python\n",
    "def btn_click(self):\n",
    "    self.thread = QThread()\n",
    "```\n",
    "\n",
    "但还有个问题要注意：\n",
    "\n",
    "如果同时存在多个线程，那么需要将对象存储在一个列表中。当一个线程完成时，需要从列表中清除对象(这样它们就被垃圾收集了)，这样就不会给应用程序带来内存泄漏。"
   ]
  },
  {
   "cell_type": "markdown",
   "metadata": {},
   "source": [
    "### `QObject::connect: Cannot queue arguments of type 'QTextCursor'`错误"
   ]
  },
  {
   "cell_type": "markdown",
   "metadata": {},
   "source": [
    "与其他一些GUI工具包(例如Java Swing)一样，`PyQt`不允许主线程以外的线程访问`QtGui`类。如以下的代码：\n",
    "```python\n",
    "class Worker(QThread):\n",
    "    def run():\n",
    "        self.textbrowser.append(\"text\")\n",
    "```\n",
    "`QTextBrowser`属于`GtGui`类，不能在辅助线程里面访问。解决方法是使用信号和槽进行通信：\n",
    "```python\n",
    "class MyThread(QtCore.QThread):\n",
    "    updated = QtCore.pyqtSignal(str)\n",
    "\n",
    "    def run( self ):\n",
    "        # do some functionality\n",
    "        for i in range(10000):\n",
    "            self.updated.emit(str(i))\n",
    "\n",
    "class Windows(QtGui.QWidget):\n",
    "    def __init__( self, parent = None ):\n",
    "        super(Windows, self).__init__(parent)\n",
    "\n",
    "        self._thread = MyThread(self)\n",
    "        self._thread.updated.connect(self.updateText)\n",
    "\n",
    "        # create a line edit and a button\n",
    "\n",
    "        self._button.clicked.connect(self._thread.start)\n",
    "\n",
    "    def updateText( self, text ):\n",
    "        self.widget.setText(text)\n",
    "```\n",
    "\n",
    "附：[stackovervlow上的讨论](https://stackoverflow.com/questions/2104779/qobject-qplaintextedit-multithreading-issues?r=SearchResults)"
   ]
  },
  {
   "cell_type": "code",
   "execution_count": null,
   "metadata": {},
   "outputs": [],
   "source": []
  }
 ],
 "metadata": {
  "kernelspec": {
   "display_name": "Python 3",
   "language": "python",
   "name": "python3"
  },
  "language_info": {
   "codemirror_mode": {
    "name": "ipython",
    "version": 3
   },
   "file_extension": ".py",
   "mimetype": "text/x-python",
   "name": "python",
   "nbconvert_exporter": "python",
   "pygments_lexer": "ipython3",
   "version": "3.7.4"
  },
  "toc": {
   "base_numbering": 1,
   "nav_menu": {},
   "number_sections": true,
   "sideBar": true,
   "skip_h1_title": true,
   "title_cell": "Table of Contents",
   "title_sidebar": "PyQt5私房手册-多线程",
   "toc_cell": false,
   "toc_position": {},
   "toc_section_display": true,
   "toc_window_display": true
  }
 },
 "nbformat": 4,
 "nbformat_minor": 4
}
