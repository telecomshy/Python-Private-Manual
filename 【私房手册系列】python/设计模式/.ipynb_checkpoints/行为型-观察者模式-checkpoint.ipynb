{
 "cells": [
  {
   "cell_type": "markdown",
   "id": "91d62932",
   "metadata": {},
   "source": [
    "# 行为型-观察者模式"
   ]
  },
  {
   "cell_type": "markdown",
   "id": "24c010a6",
   "metadata": {},
   "source": [
    "我一直觉得如果说创造型和结构型的设计模式属于功能驱动，那么行为型的设计模式可以视为一种编程的艺术。\n",
    "\n",
    "观察者模式是一种发布-订阅模式。"
   ]
  },
  {
   "cell_type": "markdown",
   "id": "8ddee69c",
   "metadata": {},
   "source": [
    "## 实操"
   ]
  },
  {
   "cell_type": "markdown",
   "id": "333e1cac",
   "metadata": {},
   "source": [
    "### 实例1"
   ]
  },
  {
   "cell_type": "code",
   "execution_count": 26,
   "id": "06562b58",
   "metadata": {},
   "outputs": [],
   "source": [
    "from collections import deque\n",
    "\n",
    "\n",
    "class SMSPublisher:\n",
    "    def __init__(self):\n",
    "        self.obs = set()\n",
    "        self.sms = deque()  # 使用双端队列保存sms\n",
    "\n",
    "    def add_observer(self, ob):\n",
    "        self.obs.add(ob)\n",
    "\n",
    "    def remove_observer(self, ob):\n",
    "        self.obs.remove(ob)\n",
    "\n",
    "    def add_sms(self, sms):\n",
    "        self.sms.append(sms)\n",
    "        for ob in self.obs:\n",
    "            ob.notify(self)\n",
    "\n",
    "    def remove_sms(self):\n",
    "        self.sms.popleft()  # 越早进入队列的先删除\n",
    "        for ob in self.obs:\n",
    "            ob.notify(self)\n",
    "\n",
    "\n",
    "class Observer1:\n",
    "    def notify(self, publisher):\n",
    "        print(f\"SMS count is {len(publisher.sms)}\")\n",
    "\n",
    "\n",
    "class Observer2:\n",
    "    def notify(self, publisher):\n",
    "        print(f\"The newest sms is: {publisher.sms[-1]}\")"
   ]
  },
  {
   "cell_type": "code",
   "execution_count": 27,
   "id": "39195179",
   "metadata": {},
   "outputs": [
    {
     "name": "stdout",
     "output_type": "stream",
     "text": [
      "SMS count is 1\n",
      "The newest sms is: hello world!\n"
     ]
    }
   ],
   "source": [
    "publisher = SMSPublisher()\n",
    "publisher.add_observer(Observer1())\n",
    "publisher.add_observer(Observer2())\n",
    "publisher.add_sms('hello world!')"
   ]
  },
  {
   "cell_type": "code",
   "execution_count": 28,
   "id": "3ed5ad1a",
   "metadata": {},
   "outputs": [
    {
     "name": "stdout",
     "output_type": "stream",
     "text": [
      "SMS count is 2\n",
      "The newest sms is: We are family!\n"
     ]
    }
   ],
   "source": [
    "publisher.add_sms('We are family!')"
   ]
  },
  {
   "cell_type": "code",
   "execution_count": 29,
   "id": "ea0659e0",
   "metadata": {},
   "outputs": [
    {
     "name": "stdout",
     "output_type": "stream",
     "text": [
      "SMS count is 1\n",
      "The newest sms is: We are family!\n"
     ]
    }
   ],
   "source": [
    "publisher.remove_sms()"
   ]
  },
  {
   "cell_type": "markdown",
   "id": "c589b9ff",
   "metadata": {},
   "source": [
    "### 实例2"
   ]
  },
  {
   "cell_type": "markdown",
   "id": "0c60e4e6",
   "metadata": {},
   "source": [
    "像上面的例子，我们是通过主题类提供的方法来注册观察者，也可以由观察者来主动注册。比如："
   ]
  },
  {
   "cell_type": "code",
   "execution_count": 32,
   "id": "4039e245",
   "metadata": {},
   "outputs": [],
   "source": [
    "from collections import deque\n",
    "\n",
    "\n",
    "class SMSPublisher:\n",
    "    def __init__(self):\n",
    "        self.obs = set()\n",
    "        self.sms = deque()\n",
    "\n",
    "    def add_observer(self, ob):\n",
    "        self.obs.add(ob)\n",
    "\n",
    "    def remove_observer(self, ob):\n",
    "        self.obs.remove(ob)\n",
    "\n",
    "    def add_sms(self, sms):\n",
    "        self.sms.append(sms)\n",
    "        for ob in self.obs:\n",
    "            ob.notify()  # 如果由观察者主动注册，这里就不需要再将主题类传递给观察者了\n",
    "\n",
    "    def remove_sms(self):\n",
    "        self.sms.popleft()\n",
    "        for ob in self.obs:\n",
    "            ob.notify()  # 如果由观察者主动注册，不需要再将主题类传递给观察者\n",
    "\n",
    "\n",
    "class Observer:\n",
    "    def __init__(self, publisher):\n",
    "        publisher.add_observer(self)  # 由观察者主动注册到主题类上\n",
    "        self.publisher = publisher\n",
    "\n",
    "\n",
    "class Observer1(Observer):\n",
    "    def notify(self):\n",
    "        print(f\"SMS count is {len(self.publisher.sms)}\")\n",
    "\n",
    "\n",
    "class Observer2(Observer):\n",
    "    def notify(self):\n",
    "        print(f\"The newest sms is: {self.publisher.sms[-1]}\")"
   ]
  },
  {
   "cell_type": "code",
   "execution_count": 33,
   "id": "e8001512",
   "metadata": {},
   "outputs": [
    {
     "name": "stdout",
     "output_type": "stream",
     "text": [
      "SMS count is 1\n",
      "The newest sms is: hello world!\n"
     ]
    }
   ],
   "source": [
    "publisher = SMSPublisher()\n",
    "ob1 = Observer1(publisher)\n",
    "ob2 = Observer2(publisher)\n",
    "\n",
    "publisher.add_sms('hello world!')"
   ]
  },
  {
   "cell_type": "code",
   "execution_count": 34,
   "id": "fe34d59e",
   "metadata": {},
   "outputs": [
    {
     "name": "stdout",
     "output_type": "stream",
     "text": [
      "SMS count is 2\n",
      "The newest sms is: We are family!\n"
     ]
    }
   ],
   "source": [
    "publisher.add_sms('We are family!')"
   ]
  },
  {
   "cell_type": "code",
   "execution_count": 35,
   "id": "284870d5",
   "metadata": {
    "scrolled": true
   },
   "outputs": [
    {
     "name": "stdout",
     "output_type": "stream",
     "text": [
      "SMS count is 1\n",
      "The newest sms is: We are family!\n"
     ]
    }
   ],
   "source": [
    "publisher.remove_sms()"
   ]
  },
  {
   "cell_type": "markdown",
   "id": "82f7cac6",
   "metadata": {},
   "source": [
    "以上都是将整个主题实例传递给观察者，相当于将所有数据放开给观察者，也可以选择部分数据传递给观察者。"
   ]
  },
  {
   "cell_type": "markdown",
   "id": "981354f2",
   "metadata": {},
   "source": [
    "## 总结 "
   ]
  },
  {
   "cell_type": "markdown",
   "id": "57699139",
   "metadata": {},
   "source": [
    "代码并不是一成不变的，根据实际情况可以灵活多变，主要是掌握的是设计模式的思想。观察者模式起到的主要作用除了各种教程说的那些，个人觉得还可以将数据和操作进行分离，如果对同一部分数据要进行多种不同的操作，可以考虑观察者模式。"
   ]
  },
  {
   "cell_type": "code",
   "execution_count": null,
   "id": "ae049de8",
   "metadata": {},
   "outputs": [],
   "source": []
  }
 ],
 "metadata": {
  "kernelspec": {
   "display_name": "Python 3",
   "language": "python",
   "name": "python3"
  },
  "language_info": {
   "codemirror_mode": {
    "name": "ipython",
    "version": 3
   },
   "file_extension": ".py",
   "mimetype": "text/x-python",
   "name": "python",
   "nbconvert_exporter": "python",
   "pygments_lexer": "ipython3",
   "version": "3.7.6"
  },
  "toc": {
   "base_numbering": 1,
   "nav_menu": {},
   "number_sections": true,
   "sideBar": true,
   "skip_h1_title": true,
   "title_cell": "Table of Contents",
   "title_sidebar": "行为型-观察者模式",
   "toc_cell": false,
   "toc_position": {},
   "toc_section_display": true,
   "toc_window_display": true
  }
 },
 "nbformat": 4,
 "nbformat_minor": 5
}
