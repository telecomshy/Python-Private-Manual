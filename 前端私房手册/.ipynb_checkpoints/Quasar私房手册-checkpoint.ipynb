{
 "cells": [
  {
   "cell_type": "markdown",
   "metadata": {},
   "source": [
    "# Quasar私房手册"
   ]
  },
  {
   "cell_type": "markdown",
   "metadata": {},
   "source": [
    "## Vue组件"
   ]
  },
  {
   "cell_type": "markdown",
   "metadata": {},
   "source": [
    "### `q-toolbar`工具栏"
   ]
  },
  {
   "cell_type": "markdown",
   "metadata": {},
   "source": [
    "工具栏里面的布局是这样的，`q-toolbar-title`前面的组件全部靠左，当然`q-toolbar-title`也靠左，`q-toolbar-title`后面的组件全部靠右。\n",
    "\n",
    "属性：\n",
    "- `inset`：属性是在`toolbar`里的所有组件前面加上一小段距离，当有2个`toolbar`的时候十分有用。"
   ]
  },
  {
   "cell_type": "markdown",
   "metadata": {},
   "source": [
    "### `q-drawer`侧边栏"
   ]
  },
  {
   "cell_type": "markdown",
   "metadata": {},
   "source": [
    "属性：\n",
    "- `show-if-above`：使用这个属性的时候，默认不管`v-model`的设置为`true`还是`false`，都会设置为`true`，也就是说默认总是会显示侧边栏。\n",
    "- `breakpoint`：当小于这个值的时候，侧边栏会自动的收缩。\n",
    "- `content-class`：属性可以是`str`，`array`或者对象。数组和对象只能以`:content-class`方式传值，比如`:content-class=\"['text-h3', 'bg-grey-3']\"`,`:content-class=\"{'text-h3': true}\"`，其中键是类名，值是条件判断语句。\n",
    "- `content-style`：也`content-class`一样，也可以是字符串、数组和对象。以对象为例，语法是`:content-style=\"{'background': 'yellow'}\"`。\n",
    "\n",
    "动作\n",
    "- `@input`：`v-model`就是`value`+`@input`的语法糖，这里特别提出来，是因为官网关于`@input`的触发只有一句话：当`q-drawer`的显示/隐藏状态发生改变时触发。但是经过多次尝试以后发现，对于通过`value`绑定的变量改变是不会触发`@input`动作的，只有比如当屏幕宽度小于断点，导致侧边栏隐藏，实际的状态和绑定的`value`变量不同时，才会触发`input`动作。"
   ]
  },
  {
   "cell_type": "markdown",
   "metadata": {},
   "source": [
    "### `q-scroll-area`滚动区域"
   ]
  },
  {
   "cell_type": "markdown",
   "metadata": {},
   "source": [
    "属性：\n",
    "- `class`：注意，测试发现`class`需要设置成`fit`或者`full-height`才能正常显示。"
   ]
  },
  {
   "cell_type": "markdown",
   "metadata": {},
   "source": [
    "## 补充网址收集"
   ]
  },
  {
   "cell_type": "markdown",
   "metadata": {},
   "source": [
    "- [Quasar图标名称查询地址](https://material.io/resources/icons/?style=baseline)"
   ]
  },
  {
   "cell_type": "code",
   "execution_count": null,
   "metadata": {},
   "outputs": [],
   "source": []
  }
 ],
 "metadata": {
  "kernelspec": {
   "display_name": "Python 3",
   "language": "python",
   "name": "python3"
  },
  "language_info": {
   "codemirror_mode": {
    "name": "ipython",
    "version": 3
   },
   "file_extension": ".py",
   "mimetype": "text/x-python",
   "name": "python",
   "nbconvert_exporter": "python",
   "pygments_lexer": "ipython3",
   "version": "3.7.4"
  },
  "toc": {
   "base_numbering": 1,
   "nav_menu": {},
   "number_sections": true,
   "sideBar": true,
   "skip_h1_title": true,
   "title_cell": "Table of Contents",
   "title_sidebar": "Quasar私房手册",
   "toc_cell": false,
   "toc_position": {},
   "toc_section_display": true,
   "toc_window_display": true
  }
 },
 "nbformat": 4,
 "nbformat_minor": 4
}
