{
 "cells": [
  {
   "cell_type": "markdown",
   "metadata": {},
   "source": [
    "# Vue.js私房手册"
   ]
  },
  {
   "cell_type": "markdown",
   "metadata": {},
   "source": [
    "## 安装和配置"
   ]
  },
  {
   "cell_type": "markdown",
   "metadata": {},
   "source": [
    "- [windows环境搭建Vue开发环境](https://www.cnblogs.com/zhaomeizi/p/8483597.html)  \n",
    "- [pycharm新建vue项目文件](https://www.jianshu.com/p/75258845c492)"
   ]
  },
  {
   "cell_type": "markdown",
   "metadata": {},
   "source": [
    "## Vue CLI"
   ]
  },
  {
   "cell_type": "markdown",
   "metadata": {},
   "source": [
    "- [Vue-CLI3使用mock](https://www.jianshu.com/p/37fef45c0381)"
   ]
  },
  {
   "cell_type": "markdown",
   "metadata": {},
   "source": [
    "## 问题收集"
   ]
  },
  {
   "cell_type": "markdown",
   "metadata": {},
   "source": [
    "- [webpack@4x打包html里面img后src为“[object Module]”问题？](https://segmentfault.com/a/1190000021360248)\n",
    "- [webpack@4x集成vueload@15x报`vue-loader was used without the corresponding plugin. Make sure to include VueLoaderPlugin in your webpack config.`错误](https://blog.csdn.net/cominglately/article/details/80555210)"
   ]
  },
  {
   "cell_type": "markdown",
   "metadata": {},
   "source": [
    "## 相关教程"
   ]
  },
  {
   "cell_type": "markdown",
   "metadata": {},
   "source": [
    "官方教程：\n",
    "- [Vue官网教程](https://cn.vuejs.org/v2/guide/)\n",
    "- [Vue Router官网教程](https://router.vuejs.org/zh/guide/)\n",
    "- [Vue CLI官网教程](https://cli.vuejs.org/zh/config/)\n",
    "\n",
    "其它收集：\n",
    "- [Vue框架Element UI+Mint UI教程汇总](https://www.jianshu.com/p/6295ee6974c9)\n",
    "- [在pycharm中开发Vue快速入门](https://www.cnblogs.com/lizeqian1994/p/10690157.html)\n",
    "- [Vue实战开发](https://blog.csdn.net/kevinfan2011/category_8319577.html)"
   ]
  },
  {
   "cell_type": "markdown",
   "metadata": {},
   "source": [
    "## 引申阅读"
   ]
  },
  {
   "cell_type": "markdown",
   "metadata": {},
   "source": [
    "- [一口气了解 babel](https://zhuanlan.zhihu.com/p/43249121)"
   ]
  },
  {
   "cell_type": "code",
   "execution_count": null,
   "metadata": {},
   "outputs": [],
   "source": []
  }
 ],
 "metadata": {
  "kernelspec": {
   "display_name": "Python 3",
   "language": "python",
   "name": "python3"
  },
  "language_info": {
   "codemirror_mode": {
    "name": "ipython",
    "version": 3
   },
   "file_extension": ".py",
   "mimetype": "text/x-python",
   "name": "python",
   "nbconvert_exporter": "python",
   "pygments_lexer": "ipython3",
   "version": "3.7.4"
  },
  "toc": {
   "base_numbering": 1,
   "nav_menu": {},
   "number_sections": true,
   "sideBar": true,
   "skip_h1_title": true,
   "title_cell": "Table of Contents",
   "title_sidebar": "Vue.js私房手册",
   "toc_cell": false,
   "toc_position": {},
   "toc_section_display": true,
   "toc_window_display": true
  }
 },
 "nbformat": 4,
 "nbformat_minor": 2
}
