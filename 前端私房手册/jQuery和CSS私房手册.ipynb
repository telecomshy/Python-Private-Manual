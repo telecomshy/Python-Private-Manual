{
 "cells": [
  {
   "cell_type": "markdown",
   "metadata": {},
   "source": [
    "# jQuery和CSS私房手册"
   ]
  },
  {
   "cell_type": "markdown",
   "metadata": {},
   "source": [
    "## jQuery选择器"
   ]
  },
  {
   "cell_type": "markdown",
   "metadata": {},
   "source": [
    "### 过滤器`:last`和`:last_child`的区别"
   ]
  },
  {
   "cell_type": "markdown",
   "metadata": {},
   "source": [
    "容易搞错的是`:first_child`，看下面的例子，对于以下的html：\n",
    "```html\n",
    "<ul class=\"my-list\">\n",
    "   <li>\n",
    "      <a href=\"http://jquery.com\">jQuery website</a>\n",
    "      <ul>\n",
    "         <li><a href=\"#css1\">CSS1</a></li>\n",
    "         <li><a href=\"#css2\">CSS2</a></li>\n",
    "         <li><a href=\"#css3\">CSS3</a></li>\n",
    "         <li>Basic XPath</li>\n",
    "      </ul>\n",
    "   </li>\n",
    "   <li>\n",
    "      jQuery also supports\n",
    "      <ul>\n",
    "         <li>Custom selectors</li>\n",
    "         <li>Form selectors</li>\n",
    "      </ul>\n",
    "   </li>\n",
    "</ul>\n",
    "```\n",
    "- `ul.my-list ul li:last`选择的是`<li><a href=\"#css3\">CSS3</a></li>`\n",
    "- `ul.my-list ul li:last-child`选择的是`<li><a href=\"#css3\">CSS3</a></li>`和`<li>Form selectors</li>`。\n",
    "\n",
    "所以，对于子过滤器，`li`指的就是子元素，`ul`指的是父元素，根据所有子元素的位置进行查找。"
   ]
  },
  {
   "cell_type": "markdown",
   "metadata": {},
   "source": [
    "### `:nth-first-child(Xn+Y)`的n是从0还是从1开始"
   ]
  },
  {
   "cell_type": "markdown",
   "metadata": {},
   "source": [
    "如果是偶数，比如`2n`，`3n`，则从1开始，因此选择的是集合中的`2, 4, 6...`或者`3,6,9...`。如果是奇数，比如`2n+1`,`3n+1`，则从0开始，因此选中的是集合中的`1，3，5...`，或者`1, 4, 7...`"
   ]
  },
  {
   "cell_type": "markdown",
   "metadata": {},
   "source": [
    "## 教程收集"
   ]
  },
  {
   "cell_type": "markdown",
   "metadata": {},
   "source": [
    "- [Flex 布局教程：语法篇](http://www.ruanyifeng.com/blog/2015/07/flex-grammar.html)\n",
    "- [css属性选择器*=,|=,^=,$=,*=的区别](https://www.cnblogs.com/gugege/p/6340422.html)\n",
    "- [`:first-child`和`:first-of-type`的区别](https://www.jianshu.com/p/b6981849ab3b)"
   ]
  },
  {
   "cell_type": "code",
   "execution_count": null,
   "metadata": {},
   "outputs": [],
   "source": []
  }
 ],
 "metadata": {
  "kernelspec": {
   "display_name": "Python 3",
   "language": "python",
   "name": "python3"
  },
  "language_info": {
   "codemirror_mode": {
    "name": "ipython",
    "version": 3
   },
   "file_extension": ".py",
   "mimetype": "text/x-python",
   "name": "python",
   "nbconvert_exporter": "python",
   "pygments_lexer": "ipython3",
   "version": "3.7.4"
  },
  "toc": {
   "base_numbering": 1,
   "nav_menu": {},
   "number_sections": true,
   "sideBar": true,
   "skip_h1_title": true,
   "title_cell": "Table of Contents",
   "title_sidebar": "jQuery和CSS私房手册",
   "toc_cell": false,
   "toc_position": {},
   "toc_section_display": true,
   "toc_window_display": true
  }
 },
 "nbformat": 4,
 "nbformat_minor": 4
}
