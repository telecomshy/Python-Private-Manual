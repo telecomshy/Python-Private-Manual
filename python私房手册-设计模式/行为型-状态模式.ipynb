{
 "cells": [
  {
   "cell_type": "markdown",
   "metadata": {},
   "source": [
    "# 行为型-状态模式"
   ]
  },
  {
   "cell_type": "markdown",
   "metadata": {},
   "source": [
    "## 模式说明"
   ]
  },
  {
   "cell_type": "markdown",
   "metadata": {},
   "source": [
    "对象一个时间处于一个状态，对象会在这些状态中间切换。状态模式有一个上下文类以及不同的状态类，其核心就是将上下文和状态解耦。"
   ]
  },
  {
   "cell_type": "markdown",
   "metadata": {},
   "source": [
    "## 实例"
   ]
  },
  {
   "cell_type": "markdown",
   "metadata": {},
   "source": [
    "### 实例1"
   ]
  },
  {
   "cell_type": "markdown",
   "metadata": {},
   "source": [
    "先来看一个最简单的例子："
   ]
  },
  {
   "cell_type": "code",
   "execution_count": 28,
   "metadata": {},
   "outputs": [],
   "source": [
    "class Computer:\n",
    "    def __init__(self):\n",
    "        self.state = ClosedState()\n",
    "\n",
    "    def do_work(self):\n",
    "        self.state.do_work()\n",
    "\n",
    "\n",
    "class OpenedState:\n",
    "    def do_work(self):\n",
    "        print(\"Opened: do work!\")\n",
    "\n",
    "\n",
    "class ClosedState:\n",
    "    def do_work(self):\n",
    "        print(\"Closed: do work!\")\n",
    "\n",
    "\n",
    "class ReadState:\n",
    "    def do_work(self):\n",
    "        print(\"Reading: do work!\")"
   ]
  },
  {
   "cell_type": "code",
   "execution_count": 29,
   "metadata": {},
   "outputs": [
    {
     "name": "stdout",
     "output_type": "stream",
     "text": [
      "Closed: do work!\n",
      "Opened: do work!\n",
      "Reading: do work!\n"
     ]
    }
   ],
   "source": [
    "computer = Computer()\n",
    "computer.do_work()\n",
    "computer.state = OpenedState()\n",
    "computer.do_work()\n",
    "computer.state = ReadState()\n",
    "computer.do_work()"
   ]
  },
  {
   "cell_type": "markdown",
   "metadata": {},
   "source": [
    "上面的代码将状态和上下文进行了解耦，省略了大量的`if...else`，如果不使用状态模式，那么会是这样："
   ]
  },
  {
   "cell_type": "code",
   "execution_count": 32,
   "metadata": {},
   "outputs": [],
   "source": [
    "class Computer:\n",
    "    def __init__(self):\n",
    "        self.state = \"close\"\n",
    "\n",
    "    def do_work(self):\n",
    "        if self.state == \"close\":\n",
    "            print(\"Closed: do work!\")\n",
    "        elif self.state == \"open\":\n",
    "            print(\"Opend: do work!\")\n",
    "        else:\n",
    "            print(\"Reading: do work!\")"
   ]
  },
  {
   "cell_type": "code",
   "execution_count": 33,
   "metadata": {},
   "outputs": [
    {
     "name": "stdout",
     "output_type": "stream",
     "text": [
      "Closed: do work!\n",
      "Opend: do work!\n",
      "Reading: do work!\n"
     ]
    }
   ],
   "source": [
    "computer = Computer()\n",
    "computer.do_work()\n",
    "computer.state = \"open\"\n",
    "computer.do_work()\n",
    "computer.state = \"read\"\n",
    "computer.do_work()"
   ]
  },
  {
   "cell_type": "markdown",
   "metadata": {},
   "source": [
    "上面的代码中，切换由上下文完成，状态之间的切换没有限制，比如，可以直接从`close`状态切换到`read`状态。如果状态切换存在限制，则上下文中又增加一大堆`if..else`的判断语句。此时可以进一步优化代码，将切换也放到状态类中，每一个状态类只需要管理好自己状态下的切换限制："
   ]
  },
  {
   "cell_type": "code",
   "execution_count": 47,
   "metadata": {},
   "outputs": [],
   "source": [
    "class CloseState:\n",
    "    @staticmethod\n",
    "    def switch(computer, state):\n",
    "        if state != OpenState: # close状态下，只能切换到open状态\n",
    "            raise RuntimeError(\"can only switch to open state\")\n",
    "        computer.state = state\n",
    "    \n",
    "    @staticmethod\n",
    "    def do_work():\n",
    "        print(\"close: do work!\")\n",
    "        \n",
    "\n",
    "class OpenState:\n",
    "    @staticmethod\n",
    "    def switch(computer, state):\n",
    "        if state == OpenState:  # open状态下，可以切换到close或者read，但是不能重复open\n",
    "            raise RuntimeError(\"already open\")\n",
    "        computer.state = state\n",
    "    \n",
    "    @staticmethod\n",
    "    def do_work():\n",
    "        print(\"Open: do work!\")\n",
    "        \n",
    "        \n",
    "class Computer:\n",
    "    def __init__(self):\n",
    "        self.state = CloseState\n",
    "    \n",
    "    def switch(self, state):\n",
    "        self.state.switch(self, state)\n",
    "        \n",
    "    def do_work(self):\n",
    "        self.state.do_work()"
   ]
  },
  {
   "cell_type": "code",
   "execution_count": 49,
   "metadata": {},
   "outputs": [
    {
     "name": "stdout",
     "output_type": "stream",
     "text": [
      "close: do work!\n",
      "can only switch to open state\n",
      "Open: do work!\n"
     ]
    }
   ],
   "source": [
    "computer = Computer()\n",
    "computer.do_work()\n",
    "try:\n",
    "    computer.switch(CloseState)\n",
    "except RuntimeError as e:\n",
    "    print(e)\n",
    "computer.switch(OpenState)\n",
    "computer.do_work()"
   ]
  },
  {
   "cell_type": "markdown",
   "metadata": {},
   "source": [
    "上面的代码，虽然把状态与上下文进行了比较彻底的解耦。但是在状态类的切换函数中，仍然存在很多`if..else`判断语句。《python设计模式第二版》提供了一个比较巧妙的方法："
   ]
  },
  {
   "cell_type": "code",
   "execution_count": 62,
   "metadata": {},
   "outputs": [
    {
     "name": "stdout",
     "output_type": "stream",
     "text": [
      "Close: do work!\n",
      "Open: do work!\n",
      "Can't swith from open to open\n"
     ]
    }
   ],
   "source": [
    "class State:\n",
    "    allowed = []\n",
    "\n",
    "    def switch(self, state):\n",
    "        if state.name not in self.allowed:\n",
    "            raise RuntimeError(f\"Can't swith from {self.name} to {state.name}\")\n",
    "        \"\"\"\n",
    "        注意这里，这种方法并没有像上面的代码一样，将computer实例传递给switch，显式的设置computer的当前状态，而是直接替换掉状态实例的所属类\n",
    "        所以，computer的状态始终是初始化时设置的实例，状态切换，切换的是这个实例所属的类。\n",
    "        由于没有将上下文传递给switch方法，因此无法使用上下文的数据，可以再做修改，将上下文实例作为参数传递给switch\n",
    "        \"\"\"\n",
    "        self.__class__ = state\n",
    "        # 如果上下文实例作为参数传递进来，则可以不用上面的代码，直接设置上下文的state属性\n",
    "        # computer.state = state  # 此时的state为状态类的实例，而不是状态类\n",
    "\n",
    "\n",
    "class OpenState(State):\n",
    "    name = 'open'\n",
    "    allowed = ['close']\n",
    "\n",
    "    @staticmethod\n",
    "    def do_work():\n",
    "        print(\"Open: do work!\")\n",
    "\n",
    "\n",
    "class CloseState(State):\n",
    "    name = 'close'\n",
    "    allowed = ['open']\n",
    "\n",
    "    @staticmethod\n",
    "    def do_work():\n",
    "        print(\"Close: do work!\")\n",
    "\n",
    "\n",
    "class Computer:\n",
    "    def __init__(self):\n",
    "        self.state = CloseState()\n",
    "        \n",
    "    def switch(self, state):\n",
    "        self.state.switch(state)\n",
    "        \n",
    "    def do_work(self):\n",
    "        self.state.do_work()\n",
    "        \n",
    "        \n",
    "computer = Computer()\n",
    "computer.do_work()\n",
    "computer.switch(OpenState)\n",
    "computer.do_work()\n",
    "try:\n",
    "    computer.switch(OpenState)\n",
    "except RuntimeError as e:\n",
    "    print(e)"
   ]
  },
  {
   "cell_type": "markdown",
   "metadata": {},
   "source": [
    "如果状态不是很多的话，还可以借鉴《python cookbook第二版》8.19的方法，不使用`switch`，而是直接把所有状态都设置为上下文的方法，状态切换直接调用相应的方法就好了："
   ]
  },
  {
   "cell_type": "code",
   "execution_count": 54,
   "metadata": {},
   "outputs": [
    {
     "name": "stdout",
     "output_type": "stream",
     "text": [
      "Closed already!\n",
      "open: do work!\n"
     ]
    }
   ],
   "source": [
    "class CloseState:\n",
    "    @staticmethod\n",
    "    def close(computer):\n",
    "        raise RuntimeError(\"Closed already!\")\n",
    "    \n",
    "    @staticmethod\n",
    "    def open(computer):\n",
    "        computer.state = OpenState\n",
    "          \n",
    "\n",
    "class OpenState:\n",
    "    @staticmethod\n",
    "    def open(computer):\n",
    "        raise RuntimeError(\"Opened already!\")\n",
    "    \n",
    "    @staticmethod\n",
    "    def close(computer):\n",
    "        computer.state = CloseState\n",
    "    \n",
    "    @staticmethod\n",
    "    def do_work():\n",
    "        print(\"open: do work!\")\n",
    "        \n",
    "\n",
    "class Computer:\n",
    "    def __init__(self):\n",
    "        self.state = CloseState\n",
    "    \n",
    "    def close(self):\n",
    "        self.state.close(self)\n",
    "        \n",
    "    def open(self):\n",
    "        self.state.open(self)\n",
    "    \n",
    "    def do_work(self):\n",
    "        self.state.do_work()\n",
    "        \n",
    "\n",
    "computer = Computer()\n",
    "try:\n",
    "    computer.close()\n",
    "except RuntimeError as e:\n",
    "    print(e)\n",
    "computer.open()\n",
    "computer.do_work()"
   ]
  },
  {
   "cell_type": "markdown",
   "metadata": {},
   "source": [
    "### 实例2"
   ]
  },
  {
   "cell_type": "markdown",
   "metadata": {},
   "source": [
    "来看一个《python3面对对象编程》第8章的例子。这个例子使用状态模式读取xml文件，是一个实际生产中的例子，有如下的xml文件：\n",
    "```xml\n",
    "<book>\n",
    "    <author>Dusty Phillips</author>\n",
    "    <publisher>Packet Publishing</publisher>\n",
    "    <title>Python 3 Object Oriented Programming</title>\n",
    "    <content>\n",
    "        <chapter>\n",
    "            <number>1</number>\n",
    "            <title>Object Oriented Design</title>\n",
    "        </chapter>\n",
    "        <chapter>\n",
    "            <number>2</number>\n",
    "            <title>Objects In Python</title>\n",
    "        </chapter>\n",
    "    </content>\n",
    "</book>\n",
    "```\n",
    "可以使用状态模式对其进行解析。"
   ]
  },
  {
   "cell_type": "code",
   "execution_count": null,
   "metadata": {},
   "outputs": [],
   "source": []
  },
  {
   "cell_type": "markdown",
   "metadata": {},
   "source": [
    "## 总结"
   ]
  },
  {
   "cell_type": "code",
   "execution_count": null,
   "metadata": {},
   "outputs": [],
   "source": []
  }
 ],
 "metadata": {
  "kernelspec": {
   "display_name": "Python 3",
   "language": "python",
   "name": "python3"
  },
  "language_info": {
   "codemirror_mode": {
    "name": "ipython",
    "version": 3
   },
   "file_extension": ".py",
   "mimetype": "text/x-python",
   "name": "python",
   "nbconvert_exporter": "python",
   "pygments_lexer": "ipython3",
   "version": "3.7.6"
  },
  "toc": {
   "base_numbering": 1,
   "nav_menu": {},
   "number_sections": true,
   "sideBar": true,
   "skip_h1_title": true,
   "title_cell": "Table of Contents",
   "title_sidebar": "行为型-状态模式",
   "toc_cell": false,
   "toc_position": {
    "height": "calc(100% - 180px)",
    "left": "10px",
    "top": "150px",
    "width": "307.2px"
   },
   "toc_section_display": true,
   "toc_window_display": true
  }
 },
 "nbformat": 4,
 "nbformat_minor": 4
}
