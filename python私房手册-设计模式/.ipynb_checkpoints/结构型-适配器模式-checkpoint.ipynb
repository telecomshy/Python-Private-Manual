{
 "cells": [
  {
   "cell_type": "markdown",
   "id": "f1631c9d",
   "metadata": {},
   "source": [
    "# 结构型-适配器模式"
   ]
  },
  {
   "cell_type": "markdown",
   "id": "3be6bb28",
   "metadata": {},
   "source": [
    "## 模式说明"
   ]
  },
  {
   "cell_type": "markdown",
   "id": "78a2d396",
   "metadata": {},
   "source": [
    "适配器模式主要用来提供兼容性的接口，它和外观模式有点像，区别在于，适配器模式对一个现有的接口匹配到另一个，而外观模式试图从一个复杂的系统中抽象出一个简单的接口。"
   ]
  },
  {
   "cell_type": "markdown",
   "id": "1d39afcb",
   "metadata": {},
   "source": [
    "## 实例"
   ]
  },
  {
   "cell_type": "markdown",
   "id": "3036f7f8",
   "metadata": {},
   "source": [
    "### 实例1"
   ]
  },
  {
   "cell_type": "code",
   "execution_count": 27,
   "id": "a7e070aa",
   "metadata": {},
   "outputs": [
    {
     "name": "stdout",
     "output_type": "stream",
     "text": [
      "富贵: 汪汪汪！\n",
      "川普: 嘎嘎嘎！\n"
     ]
    }
   ],
   "source": [
    "# 外部类1,无法修改，只能扩展\n",
    "class Dog:\n",
    "    def __init__(self, name):\n",
    "        self.name = name\n",
    "\n",
    "    def bark(self):\n",
    "        print(f\"{self.name}: 汪汪汪！\")\n",
    "\n",
    "\n",
    "# 外部类2\n",
    "class Duck:\n",
    "    def __init__(self, name):\n",
    "        self.name = name\n",
    "\n",
    "    def chirp(self):\n",
    "        print(f\"{self.name}: 嘎嘎嘎！\")\n",
    "\n",
    "\n",
    "# 现在在我们自己的程序中，提供统一的speak方法\n",
    "class Adapter:\n",
    "    def __init__(self, obj, methods_mapping):\n",
    "        self.obj = obj\n",
    "        self.__dict__.update(methods_mapping)\n",
    "\n",
    "\n",
    "dog = Dog(\"富贵\")\n",
    "duck = Duck(\"川普\")\n",
    "\n",
    "objects = [\n",
    "    Adapter(dog, {\"speak\": dog.bark}),\n",
    "    Adapter(duck, {'speak': duck.chirp})\n",
    "]\n",
    "for obj in objects:\n",
    "    obj.speak()"
   ]
  },
  {
   "cell_type": "markdown",
   "id": "185e0e6c",
   "metadata": {},
   "source": [
    "基本的思路就是做一个适配器和原方法之间的映射。\n",
    "\n",
    "这里有一个细节容易让人困扰，通过`adapter.speak`调用的时候，传递给方法的`self`不应该是`adapter`实例吗？为什么代码可以正确的执行？这是因为`dog.bark`以及`duck.chirp`返回的是一个绑定的方法，也就是说，`bark`方法已经和`dog`这个实例绑定了，比如："
   ]
  },
  {
   "cell_type": "code",
   "execution_count": 26,
   "id": "691cdcd1",
   "metadata": {},
   "outputs": [
    {
     "name": "stdout",
     "output_type": "stream",
     "text": [
      "富贵: 汪汪汪！\n"
     ]
    }
   ],
   "source": [
    "bark = dog.bark\n",
    "bark()"
   ]
  },
  {
   "cell_type": "markdown",
   "id": "d1637f67",
   "metadata": {},
   "source": [
    "当我们调用`adapter.speak`时，返回的是bound method。如果像下面这样写，则会报错："
   ]
  },
  {
   "cell_type": "code",
   "execution_count": 31,
   "id": "506bda60",
   "metadata": {},
   "outputs": [
    {
     "name": "stdout",
     "output_type": "stream",
     "text": [
      "bark() missing 1 required positional argument: 'self'\n"
     ]
    }
   ],
   "source": [
    "adapter = Adapter(dog, {'speak': Dog.bark})\n",
    "try:\n",
    "    adapter.speak()\n",
    "except TypeError as e:\n",
    "    print(e)"
   ]
  },
  {
   "cell_type": "markdown",
   "id": "a860d56b",
   "metadata": {},
   "source": [
    "想象中应该出现的是没有`name`属性，结果提示缺少`self`参数，仔细想想，原因是： \n",
    "更新`__dict__`，其实是添加到`adapter`实例的命名空间，而函数必须是类的属性的时候，才会返回一个绑定方法。所以`adapter.speak`只是简单的在`adapter`的命名空间中查找`speak`对应的值，并不会返回一个绑定方法，而`Dog.bark`也仅仅就是一个函数。所以`adapter.speak()`不会传递`self`。\n",
    "\n",
    "这和javascript的this动态绑定有很大区别，所以容易造成困惑。"
   ]
  },
  {
   "cell_type": "markdown",
   "id": "72cea932",
   "metadata": {},
   "source": [
    "### 实例2"
   ]
  },
  {
   "cell_type": "markdown",
   "id": "eebac269",
   "metadata": {},
   "source": [
    "设计模式是一种思路，代码编写并没有固定的模式，适配器模式的精髓是将一个接口匹配到另一个，比如下面的实例，也是适配器模式："
   ]
  },
  {
   "cell_type": "code",
   "execution_count": 1,
   "id": "1786768d",
   "metadata": {},
   "outputs": [],
   "source": [
    "class AgeCalculator:\n",
    "    def __init__(self, birthday):\n",
    "        self.year, self.month, self.day = (int(x) for x in birthday.split('-'))\n",
    "        \n",
    "    def calculate_age(self, date):\n",
    "        year, month, day = (int(x) for x in date.split('-'))\n",
    "        age = year - self.year\n",
    "        if (month, day) < (self.month, self.day):\n",
    "            age -= 1\n",
    "        return age"
   ]
  },
  {
   "cell_type": "markdown",
   "id": "a2f06284",
   "metadata": {},
   "source": [
    "上面的代码实现了年龄之间的计算，但是它只接受字符串形式的日期，但是在python中，我们更多的使用`datetime`对象，可是如果向`calculate_age`方法传递一个`datetime`对象，显然会报错。因此，我们可以提供一个适配器，实现`datetime`对象的年龄计算。"
   ]
  },
  {
   "cell_type": "code",
   "execution_count": 12,
   "id": "5cd7f3ef",
   "metadata": {},
   "outputs": [],
   "source": [
    "from datetime import datetime\n",
    "\n",
    "class DateAgeCaculator:\n",
    "    @staticmethod\n",
    "    def _str_date(date):\n",
    "        return date.strftime(\"%Y-%m-%d\")\n",
    "        \n",
    "    def __init__(self, birthday):\n",
    "        birthday = self._str_date(birthday)\n",
    "        self.caculator = AgeCalculator(birthday)\n",
    "        \n",
    "    def calculate_age(self, date):\n",
    "        date = self._str_date(date)\n",
    "        return self.caculator.calculate_age(date)"
   ]
  },
  {
   "cell_type": "markdown",
   "id": "690ddf85",
   "metadata": {},
   "source": [
    "我们创建了一个`DateAgeCaculator`的类，对`AgeCalculator`进行了封装，在内部实现了`datetime`类型和字符串之间的转换："
   ]
  },
  {
   "cell_type": "code",
   "execution_count": 14,
   "id": "0ae75516",
   "metadata": {},
   "outputs": [
    {
     "data": {
      "text/plain": [
       "41"
      ]
     },
     "execution_count": 14,
     "metadata": {},
     "output_type": "execute_result"
    }
   ],
   "source": [
    "birthday = datetime(year=1979, month=10, day=2)\n",
    "now = datetime.now()\n",
    "\n",
    "caculator = DateAgeCaculator(birthday)\n",
    "caculator.calculate_age(now)"
   ]
  },
  {
   "cell_type": "markdown",
   "id": "1f5a2cef",
   "metadata": {},
   "source": [
    "## 总结"
   ]
  },
  {
   "cell_type": "markdown",
   "id": "548c93bf",
   "metadata": {},
   "source": [
    "以上两种方法都是适配器模式，都是创建一个新类对原有类进行封装，将一个方法匹配到另一个。区别在于：\n",
    "- 第一种方法是显示的创建原有类的实例，其方法之间的映射关系也是通过参数传递给新类，新类只是简单的在方法名称之间进行了一个映射。\n",
    "- 第二种方法在新类的内部创建原有类实例，而且新类不仅只是方法名进行了映射，还进行了一些额外的操作。"
   ]
  },
  {
   "cell_type": "code",
   "execution_count": null,
   "id": "4b3ea638",
   "metadata": {},
   "outputs": [],
   "source": []
  }
 ],
 "metadata": {
  "kernelspec": {
   "display_name": "Python 3",
   "language": "python",
   "name": "python3"
  },
  "language_info": {
   "codemirror_mode": {
    "name": "ipython",
    "version": 3
   },
   "file_extension": ".py",
   "mimetype": "text/x-python",
   "name": "python",
   "nbconvert_exporter": "python",
   "pygments_lexer": "ipython3",
   "version": "3.7.6"
  },
  "toc": {
   "base_numbering": 1,
   "nav_menu": {},
   "number_sections": true,
   "sideBar": true,
   "skip_h1_title": true,
   "title_cell": "Table of Contents",
   "title_sidebar": "结构型-适配器模式",
   "toc_cell": false,
   "toc_position": {},
   "toc_section_display": true,
   "toc_window_display": true
  }
 },
 "nbformat": 4,
 "nbformat_minor": 5
}
