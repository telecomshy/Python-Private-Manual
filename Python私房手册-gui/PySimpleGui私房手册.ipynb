{
 "cells": [
  {
   "cell_type": "markdown",
   "id": "3bbc0bce",
   "metadata": {},
   "source": [
    "# PySimpleGui私房手册"
   ]
  },
  {
   "cell_type": "markdown",
   "id": "ad8652f9",
   "metadata": {},
   "source": [
    "## 技巧收集"
   ]
  },
  {
   "cell_type": "markdown",
   "id": "1e621a62",
   "metadata": {},
   "source": [
    "### PySimpleGui的key"
   ]
  },
  {
   "cell_type": "code",
   "execution_count": null,
   "id": "07be9618",
   "metadata": {},
   "outputs": [],
   "source": []
  },
  {
   "cell_type": "markdown",
   "id": "f6273beb",
   "metadata": {},
   "source": [
    "### 如何实现拷贝、粘贴、剪切功能"
   ]
  },
  {
   "cell_type": "markdown",
   "id": "b58e981c",
   "metadata": {},
   "source": [
    "代码如下，其中`widget`为PySimpleGui中的element，比如Multiline：\n",
    "```python\n",
    "def _copy(widget):\n",
    "    try:\n",
    "        text = widget.Widget.selection_get()\n",
    "        clipboard.copy(text)\n",
    "    except Exception:\n",
    "        pass\n",
    "\n",
    "\n",
    "def _clear(widget):\n",
    "    widget.update('')\n",
    "\n",
    "\n",
    "def _cut(widget):\n",
    "    try:\n",
    "        text = widget.Widget.selection_get()\n",
    "        clipboard.copy(text)  # 先复制，再剪切\n",
    "        widget.Widget.delete(\"sel.first\", \"sel.last\")\n",
    "    except Exception:\n",
    "        pass\n",
    "\n",
    "\n",
    "def _paste(widget):\n",
    "    try:\n",
    "        widget.Widget.delete(\"sel.first\", \"sel.last\")\n",
    "    except Exception:\n",
    "        pass\n",
    "    text = clipboard.paste()\n",
    "    widget.Widget.insert(\"insert\", text)\n",
    "```\n"
   ]
  },
  {
   "cell_type": "markdown",
   "id": "24e26877",
   "metadata": {},
   "source": [
    "### 如何实现column布局"
   ]
  },
  {
   "cell_type": "code",
   "execution_count": null,
   "id": "8fb9a9cb",
   "metadata": {},
   "outputs": [],
   "source": []
  },
  {
   "cell_type": "markdown",
   "id": "6e48eea7",
   "metadata": {},
   "source": [
    "## 文档教程"
   ]
  },
  {
   "cell_type": "markdown",
   "id": "b5e15f14",
   "metadata": {},
   "source": [
    "- [github官网](https://pysimplegui.readthedocs.io/en/latest/)\n",
    "- [在线例子](https://pysimplegui.trinket.io/demo-programs#/demo-programs/the-basic-pysimplegui-program)"
   ]
  },
  {
   "cell_type": "code",
   "execution_count": null,
   "id": "5fc2f66f",
   "metadata": {},
   "outputs": [],
   "source": []
  }
 ],
 "metadata": {
  "kernelspec": {
   "display_name": "Python 3",
   "language": "python",
   "name": "python3"
  },
  "language_info": {
   "codemirror_mode": {
    "name": "ipython",
    "version": 3
   },
   "file_extension": ".py",
   "mimetype": "text/x-python",
   "name": "python",
   "nbconvert_exporter": "python",
   "pygments_lexer": "ipython3",
   "version": "3.7.6"
  },
  "toc": {
   "base_numbering": 1,
   "nav_menu": {},
   "number_sections": true,
   "sideBar": true,
   "skip_h1_title": true,
   "title_cell": "Table of Contents",
   "title_sidebar": "PySimpleGui私房手册",
   "toc_cell": false,
   "toc_position": {},
   "toc_section_display": true,
   "toc_window_display": true
  }
 },
 "nbformat": 4,
 "nbformat_minor": 5
}
