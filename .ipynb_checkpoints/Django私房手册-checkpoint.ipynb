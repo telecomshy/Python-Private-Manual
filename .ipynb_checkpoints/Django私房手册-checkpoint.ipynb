{
 "cells": [
  {
   "cell_type": "markdown",
   "metadata": {},
   "source": [
    "# Django私房手册"
   ]
  },
  {
   "cell_type": "markdown",
   "metadata": {},
   "source": [
    "## Django的安装、配置和部署"
   ]
  },
  {
   "cell_type": "markdown",
   "metadata": {},
   "source": [
    "### 通过nginx部署Django项目"
   ]
  },
  {
   "cell_type": "markdown",
   "metadata": {},
   "source": [
    "首先安装uwsgi，在线安装命令为`pip install uwsgi`，本地安装在pypi搜索，下载解压缩以后，使用命令`python setup.py install`进行安装，或者直接对压缩包使用pip命令`pip install uwsgi-2.0.18.tar.gz`也可以。\n",
    "\n",
    "安装完后运行uwsgi，看能不能找到命令（是否将uwsgi加入到环境变量），找不到的话创建软链接，比如： \n",
    "`ln -s /usr/local/python3/bin/uwsgi /usr/bin/uwsgi3` \n",
    "此次项目使用centos7.0以及anaconda软件包，默认安装的地址为`/home/noc/anaconda3/bin/uwsgi`，已经添加到环境变量里了。\n",
    "\n",
    "然后在django的项目下，就是有manage.py文件的哪个目录，新建一个xml文件，内容如下：\n",
    "```xml\n",
    "<uwsgi>\n",
    " <socket>127.0.0.1:8997</socket><!-- 内部端口，自定义 -->\n",
    " <chdir>/home/noc/bjw/directionflow</chdir><!-- 项目路径，manage.py文件所在目录 -->\n",
    " <module>directionflow.wsgi</module><!-- 加载指定的python WSGI模块，diango会自动生成一个wsgi.py文件 -->\n",
    " <processes>4</processes> <!-- 进程数 --> \n",
    " <daemonize>uwsgi.log</daemonize><!-- 生成日志文件 -->\n",
    " <py-autoreload>1</py-autoreload><!--修改python文件以后自动重启-->\n",
    "</uwsgi>\n",
    "```\n",
    "文件名应该随意，这里假设是project.xml。这里配置的是uwsgi服务的配置选项，uwsgi可以用命令行参数、xml文件、ini文件、yaml文件等多重方式进行配置，这里采用xml文件进行配置。\n",
    "\n",
    "接下来修改nginx.conf文件，此次项目，配置文件在`/usr/local/nginx/conf/nginx.conf`目录下，在最后加入以下内容：\n",
    "```\n",
    "server {\n",
    " listen 8996; #暴露给外部访问的端口\n",
    " server_name localhost;\n",
    "     charset utf-8;\n",
    " location / {\n",
    "     include uwsgi_params;\n",
    "     uwsgi_pass 127.0.0.1:8997; #外部访问8996就转发到内部8997\n",
    " }\n",
    "}\n",
    "```\n",
    "要注意上面的内容要在conf配置文件最外面也就是默认的大括号内，保存以后进入/usr/local/nginx/sbin/目录执行`./nginx -t`命令看一下配置文件是否正确，如果nginx在环境变量PATH里，可以直接`nginx -t`。如果正确的话重启nginx服务器。如果使用lnmp安装的话，直接执行`lnmp restart`重启整个服务。\n",
    "\n",
    "最后进入django的项目目录，就是之前配置了uwsgi的xml配置文件的目录，执行以下命令启动uwsgi服务：\n",
    "uwsgi -x project.xml\n",
    "如果前面创建了软链接，则是：\n",
    "uwsgi3 -x project.xml\n",
    "如果都没有出错的话，现在就可以正常访问了。\n",
    "\n",
    "要注意的是，如果配置文件中没有配置py-autoreload选项，加入修改了python文件是不会生效的，需要使用`killall uwsgi`命令先杀死所有的uwsgi进程，然后再使用`uwsgi -x project.xml`重新启动uwsgi服务才行。\n",
    "\n",
    "主要参考[文章](https://www.cnblogs.com/levelksk/p/7921066.html)  \n",
    "关于uWSGI，nginx和django之间的关系，可以看这篇文章[uWSGI+django+nginx的工作原理流程与部署历程](https://blog.csdn.net/c465869935/article/details/53242126)"
   ]
  },
  {
   "cell_type": "markdown",
   "metadata": {},
   "source": [
    "## 模型层"
   ]
  },
  {
   "cell_type": "code",
   "execution_count": null,
   "metadata": {},
   "outputs": [],
   "source": []
  },
  {
   "cell_type": "markdown",
   "metadata": {},
   "source": [
    "## 视图层"
   ]
  },
  {
   "cell_type": "markdown",
   "metadata": {},
   "source": [
    "### `Django`跨域`csrf`防御机制"
   ]
  },
  {
   "cell_type": "code",
   "execution_count": null,
   "metadata": {},
   "outputs": [],
   "source": []
  },
  {
   "cell_type": "markdown",
   "metadata": {},
   "source": [
    "### 常见问题"
   ]
  },
  {
   "cell_type": "markdown",
   "metadata": {},
   "source": [
    "#### 浏览器插件模拟`POST`请求时，返回总是为空？"
   ]
  },
  {
   "cell_type": "markdown",
   "metadata": {},
   "source": [
    "一般在模拟`POST`请求时会出现这种情况，在请求的header中，只有设置`Content-Type：application/x-www-form-urlencoded`，注意不需要加引号，Django才会填充`request.POST`。"
   ]
  },
  {
   "cell_type": "markdown",
   "metadata": {},
   "source": [
    "## Django系统配置"
   ]
  },
  {
   "cell_type": "markdown",
   "metadata": {},
   "source": [
    "### 时区配置"
   ]
  },
  {
   "cell_type": "markdown",
   "metadata": {},
   "source": [
    "在`Django`的配置文件`settings.py`中，有两个配置参数是跟时间与时区有关的，分别是`TIME_ZONE`和`USE_TZ`：\n",
    "- 如果`USE_TZ`设置为`True`时，Django会使用系统默认设置的时区，即`America/Chicago`，此时的`TIME_ZONE`不管有没有设置都不起作用。\n",
    "- 如果`USE_TZ`设置为`False`，而`TIME_ZONE`设置为`None`，则Django还是会使用默认的`America/Chicago`时间。若`TIME_ZONE`设置为其它时区的话，则还要分情况，如果是Windows系统，则`TIME_ZONE`设置是没用的，Django会使用本机的时间。如果为其他系统，则使用该时区的时间，比如设置`USE_TZ = False`, `TIME_ZONE = 'Asia/Shanghai'`, 则使用上海的UTC时间。"
   ]
  },
  {
   "cell_type": "markdown",
   "metadata": {},
   "source": [
    "### 常见问题"
   ]
  },
  {
   "cell_type": "markdown",
   "metadata": {},
   "source": [
    "#### 视图函数调用本地函数的时间不正确。"
   ]
  },
  {
   "cell_type": "markdown",
   "metadata": {},
   "source": [
    "视图函数中有获取当前时间语句，代码如下：\n",
    "```Python\n",
    "import datetime\n",
    "now = datetime.datetime.now().strftime(\"%Y-%m-%d %H:%M\")\n",
    "```\n",
    "当函数作为主程序本地运行时，时间正常，但是通过浏览器发送`post`请求调用的时候，时间显示不正确。主要是因为直接运行时时区会使用服务器的配置，而发送`post`请求调用时，时区使用的是`django`的配置，`django`默认使用的是‘UTC’，美国洛杉矶时间。所以导致时间不对，需要修改`django`的配置。"
   ]
  },
  {
   "cell_type": "code",
   "execution_count": null,
   "metadata": {},
   "outputs": [],
   "source": []
  }
 ],
 "metadata": {
  "kernelspec": {
   "display_name": "Python 3",
   "language": "python",
   "name": "python3"
  },
  "language_info": {
   "codemirror_mode": {
    "name": "ipython",
    "version": 3
   },
   "file_extension": ".py",
   "mimetype": "text/x-python",
   "name": "python",
   "nbconvert_exporter": "python",
   "pygments_lexer": "ipython3",
   "version": "3.7.3"
  },
  "toc": {
   "base_numbering": 1,
   "nav_menu": {},
   "number_sections": true,
   "sideBar": true,
   "skip_h1_title": true,
   "title_cell": "Django私房手册",
   "title_sidebar": "Django私房手册",
   "toc_cell": false,
   "toc_position": {},
   "toc_section_display": true,
   "toc_window_display": false
  },
  "varInspector": {
   "cols": {
    "lenName": 16,
    "lenType": 16,
    "lenVar": 40
   },
   "kernels_config": {
    "python": {
     "delete_cmd_postfix": "",
     "delete_cmd_prefix": "del ",
     "library": "var_list.py",
     "varRefreshCmd": "print(var_dic_list())"
    },
    "r": {
     "delete_cmd_postfix": ") ",
     "delete_cmd_prefix": "rm(",
     "library": "var_list.r",
     "varRefreshCmd": "cat(var_dic_list()) "
    }
   },
   "types_to_exclude": [
    "module",
    "function",
    "builtin_function_or_method",
    "instance",
    "_Feature"
   ],
   "window_display": false
  }
 },
 "nbformat": 4,
 "nbformat_minor": 2
}
