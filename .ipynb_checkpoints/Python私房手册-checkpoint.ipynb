{
 "cells": [
  {
   "cell_type": "code",
   "execution_count": 94,
   "metadata": {},
   "outputs": [],
   "source": [
    "from IPython.core.interactiveshell import InteractiveShell\n",
    "InteractiveShell.ast_node_interactivity = 'all'"
   ]
  },
  {
   "cell_type": "markdown",
   "metadata": {},
   "source": [
    "# Python基础"
   ]
  },
  {
   "cell_type": "markdown",
   "metadata": {},
   "source": [
    "## 字典"
   ]
  },
  {
   "cell_type": "markdown",
   "metadata": {},
   "source": [
    "### 根据字典的值查找字典的键"
   ]
  },
  {
   "cell_type": "code",
   "execution_count": 90,
   "metadata": {},
   "outputs": [
    {
     "data": {
      "text/plain": [
       "'a'"
      ]
     },
     "execution_count": 90,
     "metadata": {},
     "output_type": "execute_result"
    }
   ],
   "source": [
    "dic = {'a':'001', 'b':'002', 'c':'001'}\n",
    "list(dic.keys())[list(dic.values()).index(\"001\")]"
   ]
  },
  {
   "cell_type": "markdown",
   "metadata": {},
   "source": [
    "### 字典的键是集合"
   ]
  },
  {
   "cell_type": "code",
   "execution_count": 4,
   "metadata": {},
   "outputs": [
    {
     "data": {
      "text/plain": [
       "{'z'}"
      ]
     },
     "execution_count": 4,
     "metadata": {},
     "output_type": "execute_result"
    }
   ],
   "source": [
    "a = {'x': 1, 'y': 2, 'z': 3}\n",
    "b = {'w': 10, 'x': 11, 'y': 2}\n",
    "a.keys() - b.keys()  # 字典的键可以视为集合进行操作"
   ]
  },
  {
   "cell_type": "markdown",
   "metadata": {},
   "source": [
    "## 列表"
   ]
  },
  {
   "cell_type": "markdown",
   "metadata": {},
   "source": [
    "### 从后往前轮询"
   ]
  },
  {
   "cell_type": "code",
   "execution_count": 45,
   "metadata": {},
   "outputs": [
    {
     "name": "stdout",
     "output_type": "stream",
     "text": [
      "gfe\n"
     ]
    }
   ],
   "source": [
    "a = 'abcdefg'\n",
    "print(a[:3:-1])  #-1表示从后往前"
   ]
  },
  {
   "cell_type": "markdown",
   "metadata": {},
   "source": [
    "## 文件"
   ]
  },
  {
   "cell_type": "markdown",
   "metadata": {},
   "source": [
    "### 文件的writelines()方法"
   ]
  },
  {
   "cell_type": "markdown",
   "metadata": {},
   "source": [
    "f.write的参数是str，f.writelines的参数是可迭代对象"
   ]
  },
  {
   "cell_type": "code",
   "execution_count": 4,
   "metadata": {},
   "outputs": [],
   "source": [
    "s = ['1','2','3']\n",
    "with open('s.txt','w') as f:\n",
    "    f.writelines(s)"
   ]
  },
  {
   "cell_type": "markdown",
   "metadata": {},
   "source": [
    "## 运算符"
   ]
  },
  {
   "cell_type": "markdown",
   "metadata": {},
   "source": [
    "### 利用&判断奇偶"
   ]
  },
  {
   "cell_type": "markdown",
   "metadata": {},
   "source": [
    "[Python运算符](http://www.runoob.com/python/python-operators.html)"
   ]
  },
  {
   "cell_type": "code",
   "execution_count": 109,
   "metadata": {},
   "outputs": [
    {
     "data": {
      "text/plain": [
       "1"
      ]
     },
     "execution_count": 109,
     "metadata": {},
     "output_type": "execute_result"
    },
    {
     "data": {
      "text/plain": [
       "0"
      ]
     },
     "execution_count": 109,
     "metadata": {},
     "output_type": "execute_result"
    },
    {
     "data": {
      "text/plain": [
       "4"
      ]
     },
     "execution_count": 109,
     "metadata": {},
     "output_type": "execute_result"
    }
   ],
   "source": [
    "# &是位运算符，&是按位与，奇数二进制最后一位为1，与1按位与以后最低位为1，其它位为0，因此奇数为1（True），偶数为0（False）\n",
    "def fun(x):\n",
    "    return True if x & 1 else False\n",
    "\n",
    "5 & 1\n",
    "4 & 1\n",
    "sum(filter(fun, range(5)))"
   ]
  },
  {
   "cell_type": "markdown",
   "metadata": {},
   "source": [
    "## 内置函数"
   ]
  },
  {
   "cell_type": "markdown",
   "metadata": {},
   "source": [
    "### round()"
   ]
  },
  {
   "cell_type": "markdown",
   "metadata": {},
   "source": [
    "第2个参数表示经度，-1表示四舍五入到10位："
   ]
  },
  {
   "cell_type": "code",
   "execution_count": 110,
   "metadata": {},
   "outputs": [
    {
     "data": {
      "text/plain": [
       "10"
      ]
     },
     "execution_count": 110,
     "metadata": {},
     "output_type": "execute_result"
    },
    {
     "data": {
      "text/plain": [
       "20"
      ]
     },
     "execution_count": 110,
     "metadata": {},
     "output_type": "execute_result"
    }
   ],
   "source": [
    "round(11, -1)\n",
    "round(16, -1)"
   ]
  },
  {
   "cell_type": "markdown",
   "metadata": {},
   "source": [
    "### eval()"
   ]
  },
  {
   "cell_type": "markdown",
   "metadata": {},
   "source": [
    "eval的第二个参数定义运行的表达式的全局空间，第三个参数定义其本地空间："
   ]
  },
  {
   "cell_type": "code",
   "execution_count": 1,
   "metadata": {},
   "outputs": [
    {
     "data": {
      "text/plain": [
       "6"
      ]
     },
     "execution_count": 1,
     "metadata": {},
     "output_type": "execute_result"
    }
   ],
   "source": [
    "scope = {}\n",
    "scope['x'] = 2\n",
    "scope['y'] = 3\n",
    "eval('x*y', scope)"
   ]
  },
  {
   "cell_type": "markdown",
   "metadata": {},
   "source": [
    "### repr()"
   ]
  },
  {
   "cell_type": "code",
   "execution_count": 100,
   "metadata": {},
   "outputs": [
    {
     "data": {
      "text/plain": [
       "\"'H'\""
      ]
     },
     "execution_count": 100,
     "metadata": {},
     "output_type": "execute_result"
    },
    {
     "name": "stdout",
     "output_type": "stream",
     "text": [
      "'H'\n"
     ]
    }
   ],
   "source": [
    "repr('H')\n",
    "print(repr('H'))"
   ]
  },
  {
   "cell_type": "markdown",
   "metadata": {},
   "source": [
    "## 语句和语法"
   ]
  },
  {
   "cell_type": "markdown",
   "metadata": {},
   "source": [
    "### 括号里的不同行字符串"
   ]
  },
  {
   "cell_type": "code",
   "execution_count": 117,
   "metadata": {},
   "outputs": [
    {
     "data": {
      "text/plain": [
       "str"
      ]
     },
     "execution_count": 117,
     "metadata": {},
     "output_type": "execute_result"
    },
    {
     "data": {
      "text/plain": [
       "True"
      ]
     },
     "execution_count": 117,
     "metadata": {},
     "output_type": "execute_result"
    },
    {
     "name": "stdout",
     "output_type": "stream",
     "text": [
      "ab\n"
     ]
    }
   ],
   "source": [
    "text1 = ('a' \n",
    "         'b')\n",
    "text2 = 'ab'\n",
    "type(text1)\n",
    "text1 == text2\n",
    "print(text1)"
   ]
  },
  {
   "cell_type": "markdown",
   "metadata": {},
   "source": [
    "# 正则表达式"
   ]
  },
  {
   "cell_type": "markdown",
   "metadata": {},
   "source": [
    "## re.S标识符（同re.DOTALL）"
   ]
  },
  {
   "cell_type": "code",
   "execution_count": 4,
   "metadata": {},
   "outputs": [],
   "source": [
    "import re"
   ]
  },
  {
   "cell_type": "code",
   "execution_count": 3,
   "metadata": {},
   "outputs": [
    {
     "data": {
      "text/plain": [
       "True"
      ]
     },
     "execution_count": 3,
     "metadata": {},
     "output_type": "execute_result"
    }
   ],
   "source": [
    "text='123\\n\\tabc'\n",
    "result1 = re.findall('.+', text, re.S) #re.S表示.的作用扩展到整个字符串，包括“\\n”。\n",
    "result2 = re.findall('.+', text, re.DOTALL) #re.DOTALL作用与re.S一样\n",
    "result1 == result2"
   ]
  },
  {
   "cell_type": "markdown",
   "metadata": {},
   "source": [
    "## re.X标识符（同re.VERBOSE）"
   ]
  },
  {
   "cell_type": "code",
   "execution_count": 4,
   "metadata": {},
   "outputs": [
    {
     "data": {
      "text/plain": [
       "['345abc']"
      ]
     },
     "execution_count": 4,
     "metadata": {},
     "output_type": "execute_result"
    }
   ],
   "source": [
    "text = '12345abcd'\n",
    "re.findall('345 abc', text, re.VERBOSE) #re.VERBOSE可以把正则表达式写成多行，并且自动忽略空格"
   ]
  },
  {
   "cell_type": "code",
   "execution_count": 23,
   "metadata": {},
   "outputs": [
    {
     "data": {
      "text/plain": [
       "['345ab']"
      ]
     },
     "execution_count": 23,
     "metadata": {},
     "output_type": "execute_result"
    }
   ],
   "source": [
    "text = '12345abcd'\n",
    "pat = re.compile(\"\"\"\n",
    "345 #方便对复杂的正则表达式进行注释\n",
    "ab  #re.X和re.VERBOSE是一样的\n",
    "\"\"\", re.X)\n",
    "pat.findall(text)"
   ]
  },
  {
   "cell_type": "markdown",
   "metadata": {},
   "source": [
    "## re.subn()函数"
   ]
  },
  {
   "cell_type": "markdown",
   "metadata": {},
   "source": [
    "subn()第三个参数代表替换的次数，其返回的一个元组，包含替换后的字符串和替换次数"
   ]
  },
  {
   "cell_type": "code",
   "execution_count": 119,
   "metadata": {},
   "outputs": [
    {
     "data": {
      "text/plain": [
       "('111', 3)"
      ]
     },
     "execution_count": 119,
     "metadata": {},
     "output_type": "execute_result"
    },
    {
     "data": {
      "text/plain": [
       "('11c', 2)"
      ]
     },
     "execution_count": 119,
     "metadata": {},
     "output_type": "execute_result"
    }
   ],
   "source": [
    "import re\n",
    "re.subn('[a-z]','1','abc') \n",
    "re.subn('[a-z]','1','abc', 2)"
   ]
  },
  {
   "cell_type": "markdown",
   "metadata": {},
   "source": [
    "## re.escape()函数"
   ]
  },
  {
   "cell_type": "markdown",
   "metadata": {},
   "source": [
    "escape可以对字符串中所有可能被解释为正则运算符的字符进行转义"
   ]
  },
  {
   "cell_type": "code",
   "execution_count": 96,
   "metadata": {},
   "outputs": [
    {
     "data": {
      "text/plain": [
       "'hello\\\\ \\\\.python'"
      ]
     },
     "execution_count": 96,
     "metadata": {},
     "output_type": "execute_result"
    },
    {
     "data": {
      "text/plain": [
       "['w.py', 'w.py']"
      ]
     },
     "execution_count": 96,
     "metadata": {},
     "output_type": "execute_result"
    }
   ],
   "source": [
    "re.escape('hello .python') \n",
    "re.findall(re.escape('w.py'),'jw.pyji w.py.f')"
   ]
  },
  {
   "cell_type": "markdown",
   "metadata": {},
   "source": [
    "# 类和对象"
   ]
  },
  {
   "cell_type": "markdown",
   "metadata": {},
   "source": [
    "## staticmethod静态方法"
   ]
  },
  {
   "cell_type": "markdown",
   "metadata": {},
   "source": [
    "要注意的是staticmethod静态方法实际就相当于普通的函数，《流畅的python》对staticmethod的看法是：可有可无，当感觉需要定义一个静态方法的时候，完全可以把它放在模块级别而不放在类的内部。  \n",
    "这里有几点需要注意的是：\n",
    "1. staticmethod可以用实例，也可以用类进行调用。\n",
    "2. 在类的外部和类的内部，调用方式是一样的。"
   ]
  },
  {
   "cell_type": "code",
   "execution_count": 9,
   "metadata": {},
   "outputs": [],
   "source": [
    "class C:\n",
    "    @staticmethod\n",
    "    def sfunc():\n",
    "        print(\"I am staticmethod.\")\n",
    "    \n",
    "    def ifunc(self):\n",
    "        print(\"in func:\")\n",
    "        self.sfunc()\n",
    "        C.sfunc()\n",
    "        print(\"end\")"
   ]
  },
  {
   "cell_type": "code",
   "execution_count": 10,
   "metadata": {},
   "outputs": [
    {
     "name": "stdout",
     "output_type": "stream",
     "text": [
      "in func:\n",
      "I am staticmethod.\n",
      "I am staticmethod.\n",
      "end\n"
     ]
    }
   ],
   "source": [
    "c = C()\n",
    "c.ifunc()"
   ]
  },
  {
   "cell_type": "markdown",
   "metadata": {},
   "source": [
    "# 异常和工具"
   ]
  },
  {
   "cell_type": "code",
   "execution_count": null,
   "metadata": {},
   "outputs": [],
   "source": []
  },
  {
   "cell_type": "markdown",
   "metadata": {},
   "source": [
    "# 模块和包"
   ]
  },
  {
   "cell_type": "markdown",
   "metadata": {},
   "source": [
    "## 包的相对导入"
   ]
  },
  {
   "cell_type": "markdown",
   "metadata": {},
   "source": [
    "包里的文件调用包里其它文件的时候，主文件（就是直接执行的脚本不能放在包里面），包里只能放用来调用（即import）的文件。如以下的文件结构："
   ]
  },
  {
   "cell_type": "raw",
   "metadata": {},
   "source": [
    "------ pkg  \n",
    "  |___ __init__.py  \n",
    "  |___ a.py\n",
    "  |___ c.py\n",
    "  |___ mod  \n",
    "    |_____ __init__.py\n",
    "    |_____ b.py  "
   ]
  },
  {
   "cell_type": "markdown",
   "metadata": {},
   "source": [
    "假设c.py里面有一个函数func,b.py文件通过相对语句导入c.py里面的函数`from ..c import func`，此时如果想要执行b文件（即将b当作直接执行的脚本），不能在b.py的相同文件夹下直接运行b.py。只能在包外，即和pkg相同的文件夹下，以模块方式执行b.py文件。如:`python -m pkg.mod.b`。注意：以模块方式执行的时候，b.py文件的\\_\\_name\\_\\_依然是\\_\\_main\\_\\_，并没有变成了b（模块本身的名称）。  \n",
    "在python3.0中，包里面的文件如果执行绝对导入，按道理会跳过包本身。如在c.py文件中：`import a`，此时只会在`sys.path`的路径下查找a模块，不会在包内（即和c.py相同目录下）查找a模块，但是实际上发现是导入包内的模块。"
   ]
  },
  {
   "cell_type": "markdown",
   "metadata": {},
   "source": [
    "## python -m和直接python有什么区别"
   ]
  },
  {
   "cell_type": "markdown",
   "metadata": {},
   "source": [
    "-m是以模块形式运行文件，但是并不是说像import一样导入一个文件。主要的区别是python xxx.py会把xxx.py文件所在的目录加入sys.path，而python -m xxx.py会把当前工作目录加入sys.path。比如有如下文件结构： "
   ]
  },
  {
   "cell_type": "raw",
   "metadata": {},
   "source": [
    "------- dir0\n",
    "  |____ yyy.py\n",
    "  |____ dir1\n",
    "     |____ xxx.py"
   ]
  },
  {
   "cell_type": "markdown",
   "metadata": {},
   "source": [
    "此时用户在dir0目录下，如果在xxx.py文件中有import yyy语句，如果直接运行python dir1\\xxx.py，会报错，找不到yyy模块，因为xxx.py的所在的dir1目录下没有yyy.py文件，但是python -m dir1.xxx，可以导入yyy模块，因为用户的工作目录是dir0，dir0下有yyy文件。  \n",
    "不管哪种导入，此时xxx.py的模块名都是\\__main__，所以文件内的if \\__name__ == \"\\__main__\"语句依然为真。"
   ]
  },
  {
   "cell_type": "markdown",
   "metadata": {},
   "source": [
    "# 常用模块"
   ]
  },
  {
   "cell_type": "markdown",
   "metadata": {},
   "source": [
    "## time和datetime模块"
   ]
  },
  {
   "cell_type": "markdown",
   "metadata": {},
   "source": [
    "[python time模块和datetime模块详解](https://www.cnblogs.com/tkqasn/p/6001134.html)"
   ]
  },
  {
   "cell_type": "code",
   "execution_count": 120,
   "metadata": {},
   "outputs": [
    {
     "name": "stdout",
     "output_type": "stream",
     "text": [
      "Thursday\n",
      "AM\n"
     ]
    },
    {
     "data": {
      "text/plain": [
       "1538272494.0"
      ]
     },
     "execution_count": 120,
     "metadata": {},
     "output_type": "execute_result"
    },
    {
     "data": {
      "text/plain": [
       "time.struct_time(tm_year=2018, tm_mon=9, tm_mday=30, tm_hour=17, tm_min=54, tm_sec=54, tm_wday=6, tm_yday=273, tm_isdst=0)"
      ]
     },
     "execution_count": 120,
     "metadata": {},
     "output_type": "execute_result"
    }
   ],
   "source": [
    "from time import *\n",
    "print(strftime('%A', gmtime(0))) # %A 本地完整星期名称, gmttime()把timestamp时间戳转成格林威治struct_time时间元组\n",
    "print(strftime('%p', gmtime(0))) # %p 本地am或者pm的相应符\n",
    "mktime(gmtime()) #mktime把struct_time时间元组转成时间戳\n",
    "localtime() #localtime以struct_time元组形式返回当地时间，不带参数返回当前时间"
   ]
  },
  {
   "cell_type": "markdown",
   "metadata": {},
   "source": [
    "---"
   ]
  },
  {
   "cell_type": "code",
   "execution_count": 98,
   "metadata": {},
   "outputs": [
    {
     "data": {
      "text/plain": [
       "1"
      ]
     },
     "execution_count": 98,
     "metadata": {},
     "output_type": "execute_result"
    }
   ],
   "source": [
    "from datetime import timedelta\n",
    "timedelta.resolution.microseconds #timedelta.resolution为2个时间的最小差值 ??具体应用在哪里？"
   ]
  },
  {
   "cell_type": "markdown",
   "metadata": {},
   "source": [
    "## difflib模块"
   ]
  },
  {
   "cell_type": "markdown",
   "metadata": {},
   "source": [
    "[python difflib模块讲解示例](https://blog.csdn.net/lockey23/article/details/77913855)"
   ]
  },
  {
   "cell_type": "code",
   "execution_count": 33,
   "metadata": {},
   "outputs": [
    {
     "data": {
      "text/plain": [
       "['ab', 'abc', 'abcd']"
      ]
     },
     "execution_count": 33,
     "metadata": {},
     "output_type": "execute_result"
    }
   ],
   "source": [
    "from difflib import get_close_matches as gcm\n",
    "content=['a','ab','abc','abcd']\n",
    "gcm('ab', content)"
   ]
  },
  {
   "cell_type": "markdown",
   "metadata": {},
   "source": [
    "## math和cmath模块"
   ]
  },
  {
   "cell_type": "markdown",
   "metadata": {},
   "source": [
    "[python math和cmath模块介绍](https://blog.csdn.net/hdutigerkin/article/details/6694884)"
   ]
  },
  {
   "cell_type": "code",
   "execution_count": 33,
   "metadata": {},
   "outputs": [
    {
     "data": {
      "text/plain": [
       "1j"
      ]
     },
     "execution_count": 33,
     "metadata": {},
     "output_type": "execute_result"
    }
   ],
   "source": [
    "#math模块包含浮点数的数学运算函数，cmath模块运算的是复数\n",
    "import cmath\n",
    "cmath.sqrt(-1)"
   ]
  },
  {
   "cell_type": "code",
   "execution_count": null,
   "metadata": {},
   "outputs": [],
   "source": []
  }
 ],
 "metadata": {
  "kernelspec": {
   "display_name": "Python 3",
   "language": "python",
   "name": "python3"
  },
  "language_info": {
   "codemirror_mode": {
    "name": "ipython",
    "version": 3
   },
   "file_extension": ".py",
   "mimetype": "text/x-python",
   "name": "python",
   "nbconvert_exporter": "python",
   "pygments_lexer": "ipython3",
   "version": "3.7.3"
  },
  "toc": {
   "base_numbering": 1,
   "nav_menu": {
    "height": "272px",
    "width": "204px"
   },
   "number_sections": true,
   "sideBar": true,
   "skip_h1_title": false,
   "title_cell": "Table of Contents",
   "title_sidebar": "Python知识点及算法题库",
   "toc_cell": false,
   "toc_position": {
    "height": "calc(100% - 180px)",
    "left": "10px",
    "top": "150px",
    "width": "273.2px"
   },
   "toc_section_display": true,
   "toc_window_display": false
  },
  "varInspector": {
   "cols": {
    "lenName": 16,
    "lenType": 16,
    "lenVar": 40
   },
   "kernels_config": {
    "python": {
     "delete_cmd_postfix": "",
     "delete_cmd_prefix": "del ",
     "library": "var_list.py",
     "varRefreshCmd": "print(var_dic_list())"
    },
    "r": {
     "delete_cmd_postfix": ") ",
     "delete_cmd_prefix": "rm(",
     "library": "var_list.r",
     "varRefreshCmd": "cat(var_dic_list()) "
    }
   },
   "types_to_exclude": [
    "module",
    "function",
    "builtin_function_or_method",
    "instance",
    "_Feature"
   ],
   "window_display": false
  }
 },
 "nbformat": 4,
 "nbformat_minor": 2
}
