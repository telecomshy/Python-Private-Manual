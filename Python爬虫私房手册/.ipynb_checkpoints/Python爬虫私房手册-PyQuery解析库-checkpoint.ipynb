{
 "cells": [
  {
   "cell_type": "markdown",
   "metadata": {},
   "source": [
    "# Python爬虫私房手册-`PyQuery`解析库"
   ]
  },
  {
   "cell_type": "markdown",
   "metadata": {},
   "source": [
    "## 选择`dom`元素"
   ]
  },
  {
   "cell_type": "code",
   "execution_count": null,
   "metadata": {},
   "outputs": [],
   "source": []
  },
  {
   "cell_type": "markdown",
   "metadata": {},
   "source": [
    "## 问题收集"
   ]
  },
  {
   "cell_type": "markdown",
   "metadata": {},
   "source": [
    "### `pyquery`历遍元素获取属性时抛出`AttributeError`错误？ "
   ]
  },
  {
   "cell_type": "markdown",
   "metadata": {},
   "source": [
    "如果直接对一个`pyquery`对象历遍，会抛出`AttributeError: 'HtmlElement' object has no attribute 'attr'`错误，主要原因是因为`pyquery`是对`lxml`的包装，直接历遍的话，返回的其实是`lxml`的`HtmlElement`对象，因此有以下几种方法：\n",
    "1. 直接使用`lxml`的`ElementTree API`:\n",
    "```python\n",
    "e = pq(url=results_url)\n",
    "for link in e('li.moredetails a'):\n",
    "    print link.attrib['href']\n",
    "```\n",
    "2. 再次使用`pyquery`对`HtmlElement`进行包装：\n",
    "```python\n",
    "print pq(link).attr('href')\n",
    "```\n",
    "或者\n",
    "```python\n",
    "print pq(link).attr['href']\n",
    "```\n",
    "3. 使用`pyquery`的`items()`方法进行历遍，返回的元素直接就是`pyquery`对象：\n",
    "```python\n",
    "e = pq(url=results_url)\n",
    "for link in e('li.moredetails a').items():\n",
    "    print link.attr['href']\n",
    "```"
   ]
  },
  {
   "cell_type": "code",
   "execution_count": null,
   "metadata": {},
   "outputs": [],
   "source": []
  }
 ],
 "metadata": {
  "kernelspec": {
   "display_name": "Python 3",
   "language": "python",
   "name": "python3"
  },
  "language_info": {
   "codemirror_mode": {
    "name": "ipython",
    "version": 3
   },
   "file_extension": ".py",
   "mimetype": "text/x-python",
   "name": "python",
   "nbconvert_exporter": "python",
   "pygments_lexer": "ipython3",
   "version": "3.7.3"
  },
  "toc": {
   "base_numbering": 1,
   "nav_menu": {},
   "number_sections": true,
   "sideBar": true,
   "skip_h1_title": true,
   "title_cell": "Table of Contents",
   "title_sidebar": "Python爬虫私房手册-PyQuery解析库",
   "toc_cell": false,
   "toc_position": {},
   "toc_section_display": true,
   "toc_window_display": true
  }
 },
 "nbformat": 4,
 "nbformat_minor": 2
}
