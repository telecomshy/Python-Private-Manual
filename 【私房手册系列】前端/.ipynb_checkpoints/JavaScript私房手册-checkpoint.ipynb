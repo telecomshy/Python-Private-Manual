{
 "cells": [
  {
   "cell_type": "markdown",
   "metadata": {},
   "source": [
    "# JavaScript私房手册"
   ]
  },
  {
   "cell_type": "markdown",
   "metadata": {},
   "source": [
    "## 语法"
   ]
  },
  {
   "cell_type": "markdown",
   "metadata": {},
   "source": [
    "### 连续赋值"
   ]
  },
  {
   "cell_type": "markdown",
   "metadata": {},
   "source": [
    "先看代码：\n",
    "```javascript\n",
    "var a = {n: 42}\n",
    "var b = a\n",
    "\n",
    "a.x = a = 24\n",
    "\n",
    "console.log(a.x)\n",
    "console.log(b)\n",
    "```\n",
    "输出可能会出乎意料，分别为`undefined`，和`{ n: 42, x: 24 }`。解释如下：\n",
    "1. 连续赋值时，属于右关联，顺序是从右到左，因此，`a=24`先执行，`a`最后等于24，这个容易理解。\n",
    "2. 赋值表达式返回的是等号右边的值，因此`a=24`返回24，此时`a`变量为24。连续赋值还剩下`a.x = 24`。\n",
    "2. 但是注意，此时其实已经不是`a.x`了，因为变量的查找按照从左到右的顺序，`a.x`的`a`引用的是最初的对象`{n: 42}`，因此在赋值的时候，已经是`{n: 42}.x = a = 24`。因此属性`x`实际上是添加到最初的`{n: 42}`的对象中，由于`b`一直引用的是最初的对象，没有发生变化。因此最后`b`为`{ n: 42, x: 24 }`，`a`此时就是为24，没有`a.x`存在，因此是`undefined`。"
   ]
  },
  {
   "cell_type": "markdown",
   "metadata": {},
   "source": [
    "### 语句和表达式"
   ]
  },
  {
   "cell_type": "markdown",
   "metadata": {},
   "source": [
    "表达式相当是语言中的字和词，而语句相当于是句子，个人总结判断语句和表达式的方法为：语句和表达式都会返回值（`undefined`也算），但是表达式返回的值可以赋值给变量，而语句返回的值一般情况下无法赋值给变量，否则会报错。比如：\n",
    "```javascript\n",
    "var a = 42  // 这是一个声明语句，其返回一个undefined，但是无法赋值给变量，b = var a = 42会报错。\n",
    "\n",
    "if(true){\n",
    "    42\n",
    "}  // 代码块也是一个语句，返回42。同样无法赋值给变量，var a = if(true){42}报错。\n",
    "\n",
    "a = 42  // 这是一个表达式，返回等号右边的值，可以赋值给变量, b = a = 42\n",
    "```\n",
    "这个规则也不完全正确，比如`var b = delete o.a`，`delete o.a`是语句，返回`ture`或者`false`，但是可以赋值，没有报错。\n",
    "\n",
    "几个容易出错的表达式：\n",
    "1. `a++`返回`a`，然后才是`a+1`。`++a`正好相反，先`a+1`，然后再返回`a`。\n",
    "```javascript\n",
    "var a = 42\n",
    "var b = a++  // a++返回42，因此b为42，然后a+1，a最终为43\n",
    "```\n",
    "可以加一个逗号,a 这样a++,a就变成了语句，返回最后一个表达式的值，然后加个括号，又变成一个表达式，这样变量`c`就获取`a+1`以后的值，这个例子体现了语句和表达式之间微妙的关系。\n",
    "```javascript\n",
    "var c = (a++, a) \n",
    "```"
   ]
  },
  {
   "cell_type": "markdown",
   "metadata": {},
   "source": [
    "### 加还是不加分号"
   ]
  },
  {
   "cell_type": "markdown",
   "metadata": {},
   "source": [
    "参考以下两篇文章基本上就够了：\n",
    "\n",
    "- [JavaScript 中的自动分号插入（ASI）](https://justjavac.com/javascript/2013/04/22/automatic-semicolon-insertion-in-javascript.html)\n",
    "- [js中return有什么设计错误？](https://www.zhihu.com/question/21076930)"
   ]
  },
  {
   "cell_type": "markdown",
   "metadata": {},
   "source": [
    "### 上下文中的{}"
   ]
  },
  {
   "cell_type": "markdown",
   "metadata": {},
   "source": [
    "`{}`根据上下文不同，会被引擎解读成为对象、代码块、以及对象结构。"
   ]
  },
  {
   "cell_type": "markdown",
   "metadata": {},
   "source": [
    "#### 代码块中的标签"
   ]
  },
  {
   "cell_type": "markdown",
   "metadata": {},
   "source": [
    "```javascript\n",
    "var o = {\n",
    "  a: foo()\n",
    "}\n",
    "\n",
    "{\n",
    "  a: foo()\n",
    "}\n",
    "```\n",
    "上面的代码，第一个`{}`表示一个对象常量，而第二个`{}`，并不是一个未赋值的对象，而是一个代码块。`a: foo()`里的`a`在此是一个标签。这里提一下标签，javascript标签可以接在`continue`或者`break`后面，表示跳出或者继续标签指定的循环或者代码块：\n",
    "```javascript\n",
    "b: for(let i=0;i<3;i++){\n",
    "\tfor(let j=0;j<3;j++){\n",
    "\t\tif(j == 2){\n",
    "\t\t\tconsole.log(i, j)\n",
    "\t\t\tbreak\n",
    "\t\t}\n",
    "\t}\n",
    "}\n",
    "```\n",
    "如果是`break b`输出为`0 2`，直接跳出了外层循环，如果不带`b`标签，则输出为：\n",
    "```javascript\n",
    "0 2\n",
    "1 2\n",
    "2 2\n",
    "```\n",
    "仅仅跳出了里层循环。标签除了接循环语句，还可以接代码块，但是接代码块的时候，只有`break`可以接标签。"
   ]
  },
  {
   "cell_type": "markdown",
   "metadata": {},
   "source": [
    "#### JSONP"
   ]
  },
  {
   "cell_type": "markdown",
   "metadata": {},
   "source": [
    "- [JSONP原理详解](https://blog.csdn.net/hansexploration/article/details/80314948)\n",
    "\n",
    "如果把一个纯json对象放到js文件里面，然后在网页上通过`<script type=\"text/javascript\" src=\"remote.js\"></script>`这样的形式直接来调用，是会直接报错的。因为json对象格式如下：\n",
    "```json\n",
    "{\n",
    "  \"a\": 42,\n",
    "}\n",
    "```\n",
    "javascript读取的时候，会将其当作一个代码块而不是一个对象，因此`\"a\"`会成为一个非法标签而报错。因此只能将json对象作为一个函数的参数，当用作函数的参数时，javascirpt引擎会将其作为一个普通的对象，而对象的键是字符串，因此是合法的。这也是JSONP的原理。"
   ]
  },
  {
   "cell_type": "markdown",
   "metadata": {},
   "source": [
    "#### 代码块还是对象"
   ]
  },
  {
   "cell_type": "markdown",
   "metadata": {},
   "source": [
    "还有一个坑，虽然生产中不会遇到，但是也可以一窥引擎识别代码块还是对象的规则：\n",
    "```javascript\n",
    "[] + {}; // \"[object Object]\"\n",
    "{} + []; // 0\n",
    "```\n",
    "`[] + {}`中，前面有`+`运算符，因此引擎会将`{}`当作对象，根据`+`的规则，此时`[]`和`{}`都会转换成字符串进行拼接。`[]`转换成`\"\"`，`{}`转换成`\"[object Object]\"`。  \n",
    "`{} + []`中，`{}`前面没有任何符号，因此被当作代码块，代码块后面不需要分号结尾，因此没有语法问题。此时这个语句可以看成:\n",
    "```javascript\n",
    "{};\n",
    "+[]\n",
    "```\n",
    "`+[]`显式强制转换成数字，因此最终结果为0。"
   ]
  },
  {
   "cell_type": "markdown",
   "metadata": {},
   "source": [
    "#### else if和可选代码块"
   ]
  },
  {
   "cell_type": "markdown",
   "metadata": {},
   "source": [
    "多条件判断的时候，常常会这样写：\n",
    "```javascript\n",
    "if(a){\n",
    "  //...\n",
    "}else if{\n",
    "  //...\n",
    "}\n",
    "```\n",
    "其实在javascript中，并没有`else if`的语法。语言的规则是：如果`if`或者`else`后面跟着单条语句，则可以省略`{}`,比如：\n",
    "```javascript\n",
    "if (a) doSomething( a );\n",
    "```\n",
    "所以`else if`在引擎中实际上是这样：\n",
    "```javascript\n",
    "if (a) {\n",
    "  // ..\n",
    "}\n",
    "else {\n",
    "   if (b) {\n",
    "     // ..\n",
    "   }\n",
    "   else {\n",
    "     // ..\n",
    "   }\n",
    "}\n",
    "```\n",
    "`else`后面的`if`只不过是一个不带`{}`的单条语句而已。"
   ]
  },
  {
   "cell_type": "markdown",
   "metadata": {},
   "source": [
    "### 运算符优先级"
   ]
  },
  {
   "cell_type": "markdown",
   "metadata": {},
   "source": [
    "#### 运算符优先级"
   ]
  },
  {
   "cell_type": "markdown",
   "metadata": {},
   "source": [
    "- [运算符优先级](https://developer.mozilla.org/zh-CN/docs/Web/JavaScript/Reference/Operators/Operator_Precedence)"
   ]
  },
  {
   "cell_type": "markdown",
   "metadata": {},
   "source": [
    "#### 关联组合"
   ]
  },
  {
   "cell_type": "markdown",
   "metadata": {},
   "source": [
    "先来看代码：`a && b && c`，这里是左关联，意味着从左往右组合，即`(a && b) && c`，注意，关联和执行顺序没有关系。即使是右关联，即`a && (b && c)`，也不是说先执行`c`或者先执行`b`，它只是把`b() && c()`组合成一个整体。执行的时候仍然是从左到右的顺序，先`a`,后`b`，再`c`。\n",
    "```javascript\n",
    "a = function() {\n",
    "\tconsole.log(\"a\");\n",
    "\treturn true\n",
    "}\n",
    "\n",
    "b = function() {\n",
    "\tconsole.log(\"b\");\n",
    "\treturn true\n",
    "}\n",
    "\n",
    "c = function() {\n",
    "\tconsole.log(\"c\");\n",
    "\treturn true\n",
    "}\n",
    "\n",
    "a() && (b() && c())  // 输出为a, b, c\n",
    "```\n",
    "再看一个例子，`?:`三元表达式是右组合，所以`a ? b : c ? d : e`是下面的第一种情况，虽然两种情况输出一样，但是执行有差异：\n",
    "```javascript\n",
    "var a = true, b = false, c = true, d = true, e = false;\n",
    "a ? b : (c ? d : e); // false, 执行 a 和 b\n",
    "(a ? b : c) ? d : e; // false, 执行 a, b 和 e\n",
    "```\n",
    "连续赋值也是右组合，但是值得深入分析一下：\n",
    "```javascript\n",
    "var a, b, c;\n",
    "a = b = c = 42;\n",
    "```\n",
    "因为是右关联，所以它实际上是这样来关联组合：`a = (b = (c = 42))`，看起来似乎执行也是从右到左，但实际上，变量查找（可以理解为执行）仍然是从左到右的顺序，具体例子可以看第一节连续赋值。"
   ]
  },
  {
   "cell_type": "markdown",
   "metadata": {},
   "source": [
    "### try...finally"
   ]
  },
  {
   "cell_type": "markdown",
   "metadata": {},
   "source": [
    "`try...finally`的一些执行顺序需要注意：\n",
    "1. `try...finally`在函数中，并且`try`中包含`return`或者`throw`，一般顺序是`try`先执行->然后是`finally`->最后函数结束，返回`try`中`return`的值或者`throw`的错误。\n",
    "2. 如果`finally`中抛出异常（无论是有意还是无意），函数就会在此处终止。如果此前`try`中已经有`return`设置了返回值，则该值会被丢弃。\n",
    "3. `finally`中的`return`会覆盖`try`和`catch`中`return`的返回值。"
   ]
  },
  {
   "cell_type": "markdown",
   "metadata": {},
   "source": [
    "### switch"
   ]
  },
  {
   "cell_type": "markdown",
   "metadata": {},
   "source": [
    "`switch`存在一些不太为人所知的陷阱,一般情况下，`switch`的格式是这样的：\n",
    "```javascript\n",
    "switch (a) {\n",
    "\tcase 2:\n",
    "\t\t// 执行一些代码\n",
    "\t\tbreak;\n",
    "\tcase 42:\n",
    "\t\t// 执行另外一些代码\n",
    "\t\tbreak;\n",
    "\tdefault:\n",
    "\t\t// 执行缺省代码\n",
    "}\n",
    "```\n",
    "这里，`a`和`case`后面的值进行的是`===`比较，因此如果想要进行`==`比较，需要利用`case`后面可以是表达式的特点，做一点变化：\n",
    "```javascript\n",
    "switch (true) {\n",
    "\tcase a == 2:\n",
    "\t\t// 执行一些代码\n",
    "\t\tbreak;\n",
    "\tcase a == 42:\n",
    "\t\t// 执行另外一些代码\n",
    "\t\tbreak;\n",
    "\tdefault:\n",
    "\t\t// 执行缺省代码\n",
    "}\n",
    "```\n",
    "但是这样的形式会有一个非常容易出错的地方，就是`case`表达式的值和`true`仍然是`===`比较，因此`case`后面的表达式需要显式返回`bool`值，下面这样得不到想要的结果：\n",
    "```javascript\n",
    "var a = \"hello world\";\n",
    "var b = 10;\n",
    "switch (true) {\n",
    "\tcase (a || b == 10):\n",
    "\t\t// 永远执行不到这里\n",
    "\t\tbreak;\n",
    "\tdefault:\n",
    "\t\tconsole.log(\"Oops\");\n",
    "}\n",
    "// Oops\n",
    "```\n",
    "因为`a || b == 10`实际返回的是`\"hello world\"`，和`true`不是严格相等（`a || b == 10`本身也是有问题的，`==`的优先级比`||`高，因此这里执行的是`a || (b == 10)`，按照意图应该写成`a == 10 || b == 10`，这里只是作为例子）。因此，如果返回的不是严格意义的`true`，记住显式的进行类型转换。`!!(a || b == 10)`。\n",
    "\n",
    "另外，`switch`的执行顺序有点奇怪，虽然平时不会这样写代码，但还是可以了解一下：\n",
    "```javascript\n",
    "var a = 10;\n",
    "switch (a) {\n",
    "\tcase 1:\n",
    "\tcase 2:\n",
    "\t\t// 永远执行不到这里\n",
    "\tdefault:\n",
    "\t\tconsole.log(\"default\");\n",
    "\tcase 3:\n",
    "\t\tconsole.log(\"3\");\n",
    "\t\tbreak;\n",
    "\tcase 4:\n",
    "\t\tconsole.log(\"4\")\n",
    "}\n",
    "// default\n",
    "// 3\n",
    "```\n",
    "执行顺序是这样的，首先遍历并找到所有匹配的`case`，如果没有匹配则执行`default`中的代码。因为其中没有`break`，所以继续执行已经遍历过的`case 3`代码块，直到`break`为止。"
   ]
  },
  {
   "cell_type": "markdown",
   "metadata": {},
   "source": [
    "## 基本类型"
   ]
  },
  {
   "cell_type": "markdown",
   "metadata": {},
   "source": [
    "javascript一共7种基本类型，分别是：空值（null）、未定义（undefined）、布尔值（ boolean）、数字（number）、字符串（string）、对象（object）、符号（symbol， ES6 中新增）。\n",
    "\n",
    "基本类型不是对象，但是在调用基本类型的方法的时候，会快速的创建一个对象，然后再销毁。使用`new Number`这样的语法会创建一个显式的对象。不带`new`的`Number`，会对基本类型进行转换，返回的是基本类型不是对象。"
   ]
  },
  {
   "cell_type": "markdown",
   "metadata": {},
   "source": [
    "### 特殊值"
   ]
  },
  {
   "cell_type": "markdown",
   "metadata": {},
   "source": [
    "#### 判断null是null"
   ]
  },
  {
   "cell_type": "markdown",
   "metadata": {},
   "source": [
    "`null`是javascript的内置基本类型，但是很遗憾，也是唯一一个伪装的对象类型，当使用`typeof`关键字查看`null`的类型时，提示为`object`。这是`javascript`的一个bug，历史原因，可能永远也不会修复。那么如何判断一个`null`确实是`null`呢？参考如下代码：\n",
    "```javascript\n",
    "var a = null;\n",
    "(!a && typeof a == 'object') // 因为所有的object都为true，所以a如果是object，则!a强制转换为bool值以后必为假\n",
    "```"
   ]
  },
  {
   "cell_type": "markdown",
   "metadata": {},
   "source": [
    "#### undefined和null"
   ]
  },
  {
   "cell_type": "markdown",
   "metadata": {},
   "source": [
    "`null`是一个关键字，而`undefined`竟然是一个标识符，这也意味着可以对`undefined`进行赋值：\n",
    "```javascript\n",
    "function foo() {\n",
    "    \"use strict\";  // 不管是否严格模式，都是合法的\n",
    "    var undefined = 2;\n",
    "    console.log( undefined ); // 2\n",
    "}\n",
    "foo();\n",
    "```\n",
    "永远不要给`undefined`赋值"
   ]
  },
  {
   "cell_type": "markdown",
   "metadata": {},
   "source": [
    "### 字符串"
   ]
  },
  {
   "cell_type": "markdown",
   "metadata": {},
   "source": [
    "#### 字符串借用Array数组的方法"
   ]
  },
  {
   "cell_type": "markdown",
   "metadata": {},
   "source": [
    "字符串是类数组，它有`length`属性以及`indexOf`,`concat`方法。但是有些数组方法是没有的，不过它可以巧妙的借用这些方法，比如：\n",
    "```javascript\n",
    "Array.prototype.map.call(\"abcd\", x=>x+\"-\").join(\"\") // 输出为a-b-c-d-\n",
    "Array.prototype.join.call(\"abcd\", \"-\" ); // 输出为a-b-c-d\n",
    "```\n",
    "注意一点，只能借用那些返回新的数组的工具函数，在原数组上修改的工具函数会报错，因为字符串是不可变的。比如`reverse`。变通的方法是先转换为数组，然后再用`join`连接：\n",
    "```javascript\n",
    "a = \"abcd\"\n",
    "console.log(a.split(\"\").reverse().join(\"\"))\n",
    "```"
   ]
  },
  {
   "cell_type": "markdown",
   "metadata": {},
   "source": [
    "### 数字"
   ]
  },
  {
   "cell_type": "markdown",
   "metadata": {},
   "source": [
    "#### 数字中的`.`"
   ]
  },
  {
   "cell_type": "markdown",
   "metadata": {},
   "source": [
    "注意，数字中的.会优先被认为是小数点，是数字中的一部分，然后才会被认为是对象属性访问运算符。所以在直接通过数字字面量调用方法的时候，要特别注意，像`42.toFixed(2)`这样的写法会被认为是语法错误，要像下面这样写：\n",
    "```javascript\n",
    "(42.).toFixed(2)  // '42.00'\n",
    "42..toFixed(2)   //'42.00'\n",
    "0.42.toFixed(2)  //'0.42'\n",
    "42 .toFixed(2)   // 中间加一空格也行，不过不建议这样使用\n",
    "```"
   ]
  },
  {
   "cell_type": "markdown",
   "metadata": {},
   "source": [
    "#### 较小数字比较"
   ]
  },
  {
   "cell_type": "markdown",
   "metadata": {},
   "source": [
    "javascript的浮点数都是64位的，对于某些小数并不是那么精确，比如：\n",
    "```javascript\n",
    "0.1 + 0.2 === 0.3  // false\n",
    "```\n",
    "`0.1 + 0.2`在javascript中的计算结果实际是`0.30000000000000004`。解决方案是和设置一个误差值，通常称为\"机器精度\"。然后和这个误差值进行比较。ES6以后，这个\"机器精度\"定义在`Number.EPSILON`中，大小为2^-52。可以编写一个判断两个数字是否相等的辅助函数：\n",
    "```javascript\n",
    "function numbersCloseEnoughToEqual(n1,n2) {\n",
    "    return Math.abs( n1 - n2 ) < Number.EPSILON;\n",
    "}\n",
    "```"
   ]
  },
  {
   "cell_type": "markdown",
   "metadata": {},
   "source": [
    "#### 整数检测"
   ]
  },
  {
   "cell_type": "markdown",
   "metadata": {},
   "source": [
    "可以通过`Number.isInteger`判断是否是整数，注意，`42.000`会被判断是整数：\n",
    "```javascript\n",
    "Number.isInteger(42.000)  // true\n",
    "```"
   ]
  },
  {
   "cell_type": "markdown",
   "metadata": {},
   "source": [
    "#### 特殊的数字"
   ]
  },
  {
   "cell_type": "markdown",
   "metadata": {},
   "source": [
    "`NaN`表示不是一个数字、坏数字、不可用的数字，本身是一个\"Number\"类型，要判断是否是一个`NaN`，ES6可以使用`Number.isNaN`,ES6之前可以构筑辅助函数：\n",
    "```javascript\n",
    "if (!Number.isNaN) {\n",
    "    Number.isNaN = function(n) {\n",
    "        return n !== n;\n",
    "    };\n",
    "}\n",
    "```\n",
    "因为`NaN`是唯一一个不等于自身的值。"
   ]
  },
  {
   "cell_type": "markdown",
   "metadata": {},
   "source": [
    "#### Object.is()"
   ]
  },
  {
   "cell_type": "markdown",
   "metadata": {},
   "source": [
    "`Object.is()`是用来判断2个值是否相等的，和`===`基本一致，唯一区别是`NaN`等于自身，另外`-0`不再认为和`0`相等：\n",
    "```javascript\n",
    "> +0 === 0\n",
    "true\n",
    "> Object.is(+0, 0)\n",
    "true\n",
    "> -0 === 0\n",
    "true\n",
    "> Object.is(-0, 0)\n",
    "false\n",
    "> NaN === NaN\n",
    "false\n",
    "> Object.is(NaN, NaN)\n",
    "true\n",
    "```"
   ]
  },
  {
   "cell_type": "markdown",
   "metadata": {},
   "source": [
    "## 正则表达式"
   ]
  },
  {
   "cell_type": "markdown",
   "metadata": {},
   "source": [
    "### 使用\\p进行unicode属性匹配"
   ]
  },
  {
   "cell_type": "markdown",
   "metadata": {},
   "source": [
    "- [Unicode 属性匹配](https://blog.csdn.net/qiang_zi_/article/details/103072074)"
   ]
  },
  {
   "cell_type": "markdown",
   "metadata": {},
   "source": [
    "## 内置对象"
   ]
  },
  {
   "cell_type": "markdown",
   "metadata": {},
   "source": [
    "内置对象有好几种，一种是对象的子类型，比如`Date`，`Math`，`Array`对象，一种是基本类型的包装对象，比如`String`，`Number`，`Boolean`。"
   ]
  },
  {
   "cell_type": "markdown",
   "metadata": {},
   "source": [
    "### 基本类型的包装对象"
   ]
  },
  {
   "cell_type": "markdown",
   "metadata": {},
   "source": [
    "- [基本类型和基本包装类型的区别](https://www.cnblogs.com/runhua/p/9588769.html)\n",
    "\n",
    "`number`,`string`和`boolean`都有对应的包装对象，对应的内置函数为`Number`，`String`和`Boolean`，有两种方式可以手动创建包装对象。\n",
    "1. 可以通过内置函数来创建其包装对象，比如`new Number(42)`，注意带`new`。\n",
    "2. 也可以直接通过`Object()`来创建包装对象，注意不带`new`。`Object`会根据传入值的基本类型创建相对应的包装对象，比如`Object(42)`。\n",
    "\n",
    "不过注意，不带`new`的`Number`，`String`和`Boolean`函数不创建包装对象，而是进行类型的强制转换，返回的是转换后的基本类型。一般情况下，不需要将一个基本类型手动包装为对象，主要原因有2：\n",
    "1. javascript对基本类型进行了优化。\n",
    "2. 所有的对象都为真，因此在进行真假判断的时候，会产生以外的错误，比如：\n",
    "\n",
    "```javascript\n",
    "zero = new Number(0)\n",
    "\n",
    "if (!zero) {\n",
    "\tconsole.log(\"true\")\n",
    "} else {\n",
    "\tconsole.log(\"false\")  // 输出为false\n",
    "}\n",
    "```\n",
    "那么为什么基本类型也会拥有包装类型的各种属性方法呢？因为当调用一个基本类型的方法或者属性时，javascript引擎会短时的创建一个包装对象，在调用完以后，又销毁这个对象。\n",
    "\n",
    "使用`typeof`类型，分别显示如下：\n",
    "```javascript\n",
    "> a = 42\n",
    "42\n",
    "> typeof a\n",
    "'number'\n",
    "> a = Number('42')\n",
    "42\n",
    "> typeof a\n",
    "'number'\n",
    "> a = new Number('42')\n",
    "[Number: 42]\n",
    "> typeof a\n",
    "'object'\n",
    "```\n",
    "包装类型会显示为`object`，每个包装类型内部都有一个`[[class]]`的属性，指向它的内置构造函数，可以通过`Object.prototype.toString.call`查看：\n",
    "```javascript\n",
    "> Object.prototype.toString.call(a)\n",
    "'[object Number]'\n",
    "```\n",
    "可以通过包装对象的`valueOf`方法获取其包装的基本对象，在需要用到基本类型的时候，javascript引擎会隐性的拆封。"
   ]
  },
  {
   "cell_type": "markdown",
   "metadata": {},
   "source": [
    "### 数组"
   ]
  },
  {
   "cell_type": "markdown",
   "metadata": {},
   "source": [
    "#### 数组也是对象"
   ]
  },
  {
   "cell_type": "markdown",
   "metadata": {},
   "source": [
    "数组也是对象，是`object`的子类型，javascript的数组其实只是对对象的一个包装，只不过键值对中的键是数字而已。你仍然可以给数组添加不是数字的键：\n",
    "```\n",
    "> a = [1, 2, 3]\n",
    "[ 1, 2, 3 ]\n",
    "> a.foo = \"foo\"\n",
    "'foo'\n",
    "> a\n",
    "[ 1, 2, 3, foo: 'foo' ]\n",
    "> a[0]\n",
    "1\n",
    "> a[3]\n",
    "undefined\n",
    "> a[\"foo\"]\n",
    "'foo'\n",
    "```\n",
    "注意，当键是数字字符串的时候，会隐性的将数字字符串转换成数字：\n",
    "```\n",
    "> a\n",
    "[ 1, 2, 3, foo: 'foo' ]\n",
    "> a[\"3\"] = 4\n",
    "4\n",
    "> a\n",
    "[ 1, 2, 3, 4, foo: 'foo' ]\n",
    "> a[3]\n",
    "4\n",
    "```\n",
    "最好是不要在数组里添加字符串类型的键。"
   ]
  },
  {
   "cell_type": "markdown",
   "metadata": {},
   "source": [
    "#### 空数组"
   ]
  },
  {
   "cell_type": "markdown",
   "metadata": {},
   "source": [
    "javascript的数组本质上是一个对象，因此在某些细节上和其它的编程语言大相径庭，如果不牢记这一点，很容易踩坑。比如空数组：\n",
    "```javascript\n",
    "a = Array(3)  // 当Array构造函数只有一个参数时，实际上是创建了一个空数组，然后默默的将这个数组的length属性设置为3。这里加不加new都可以。\n",
    "\n",
    "b = []\n",
    "b.length = 3  // 这种方式创建的空数组和第一种方式实际上是一样的。\n",
    "\n",
    "c = [undefined, undefined, undefined]  // 严格来说，这种方式创建的并不是空数组，它有3个元素，只不过这3个元素值类型都是undefined\n",
    "```\n",
    "a和b在node里显示为：`[ <3 empty items> ]`，c显示为`[ undefined, undefined, undefined ]`，但是不论是`a[0]`还是`c[0]`，显示都是`undefined`。不光是显示上的差别，在具体的行为上，也存在微妙的差异，比如：\n",
    "```\n",
    "> a.map(function(v, i){return i})\n",
    "[ <3 empty items> ]\n",
    "\n",
    "> c.map(function(v, i){return i})\n",
    "[ 0, 1, 2 ]\n",
    "```\n",
    "如果说因为a没有元素，b实际上有三个`undefined`值，上面的代码还能理解，那么下面的代码就让人疑惑了：\n",
    "```\n",
    "> a.join(\"-\")\n",
    "'--'\n",
    "> c.join(\"-\")\n",
    "'--'\n",
    "```\n",
    "两者的输出是完全一样的。这是因为在`join`的内部，根据`length`属性对a进行轮询，而`length`仅仅只是数组的一个属性，和实际的元素个数某些情况下并不对应。我不知道`map`内部机制如何，但是我猜应该是没有根据`length`进行循环。另外，如果使用`Array(null, {length: 3})`或者`Array(null, Array(3))`可以创建`[undefined, undefined, undefined]`的数组而不是一个空数组，具体解释见问题收集。\n",
    "\n",
    "ES6有一个新的数组方法是`Array.of`，可以避免这个问题，单个参数不会产生空数组：\n",
    "```javascript\n",
    "> Array.of(3)\n",
    "[ 3 ]\n",
    "```\n",
    "所以，最后总结就是，尽量使用ES6的新语法创建数组，避免空数组。"
   ]
  },
  {
   "cell_type": "markdown",
   "metadata": {},
   "source": [
    "#### 类数组对象转数组"
   ]
  },
  {
   "cell_type": "markdown",
   "metadata": {},
   "source": [
    "类数组对象是指类似`{\"0\":42, \"1\": 33, length:2}`这样以字符形式的数字为键，并且包含`length`属性的对象，比如DOM元素列表，以及`arguments`都是类数组，这种类数组对象可以通过数组工具函数快速的转换为数组，比如：\n",
    "```javascript\n",
    "o = {\"0\": 24, \"1\":42, length: 2}\n",
    "arr = Array.prototype.slice.call(o)\n",
    "console.log(arr)\n",
    "```\n",
    "输出为:\n",
    "```\n",
    "[24, 42]\n",
    "```\n",
    "注意，需要使用`call`将类数组对象传入工具函数，其次`length`属性不能少，因为在`slice`内部，是根据`length`进行循环，类似执行了下面的代码：\n",
    "```javascript\n",
    "function mySlice(){\n",
    "\tarr = []\n",
    "\tfor(let i=0;i<this.length;i++){\n",
    "\t\tarr.push(this[i])\n",
    "\t}\n",
    "\treturn arr\n",
    "}\n",
    "```\n",
    "ES6提供了`from`方法，可以更便捷的将类数组转换为数组，如`arr = Array.from(o)`。"
   ]
  },
  {
   "cell_type": "markdown",
   "metadata": {},
   "source": [
    "#### 数组转字符串"
   ]
  },
  {
   "cell_type": "markdown",
   "metadata": {},
   "source": [
    "和python不同，使用`String`将数组转为字符串会以`,`连接，比如`String([1, 2, 3])`输出为`1,2,3`。"
   ]
  },
  {
   "cell_type": "markdown",
   "metadata": {},
   "source": [
    "#### 数组的遍历"
   ]
  },
  {
   "cell_type": "markdown",
   "metadata": {},
   "source": [
    "javascript的遍历方法比较多，感觉挺乱的，不象python那么清晰，这里做个总结，梳理一下：\n",
    "1. 传统的循环历遍，这个没啥好说的，只会输出数组的键，对于数组的其它属性，比如`attr`，不会输出。\n",
    "```javascript\n",
    "a = [1, 2, 3]\n",
    "a.attr = \"attr\"\n",
    "for(let i=0;i<a.length;i++){\n",
    "    console.log(a[i])\n",
    "} // 输出1， 2， 3\n",
    "```\n",
    "2. 使用`for...in`进行历遍，注意`for...in`会输出数组所有的键，包括`attr`以及原型链上的所有属性键。\n",
    "```javascript\n",
    "a = [1, 2, 3]\n",
    "a.attr = \"attr\"\n",
    "for(let i in a){\n",
    "    console.log(a[i])\n",
    "}  // 输出1, 2, 3, \"attr\"\n",
    "```\n",
    "3. 使用`for...of`进行历遍，只输出数组的值，推荐用这个：\n",
    "```javascript\n",
    "a = [1, 2, 3]\n",
    "a.attr = \"attr\"\n",
    "for(let i of a){\n",
    "    console.log(i)\n",
    "}  // 输出1, 2, 3\n",
    "```"
   ]
  },
  {
   "cell_type": "markdown",
   "metadata": {},
   "source": [
    "#### 数组常用操作"
   ]
  },
  {
   "cell_type": "markdown",
   "metadata": {},
   "source": [
    "[JavaScript常用数组操作方法](https://blog.csdn.net/weixin_43260760/article/details/84023670)\n",
    "\n",
    "一些注意事项：\n",
    "- `delete`删除以后，数组长度不变，删除元素的位置变为`undefined`。\n",
    "- `sort`是按照字母顺序排序，如果要按照数字大小排序，要提供一个函数参数：\n",
    "```javascript\n",
    "> a = [1, 2, 10, 21]\n",
    "[ 1, 2, 10, 21 ]\n",
    "> a.sort()\n",
    "[ 1, 10, 2, 21 ]\n",
    "> a.sort((a, b)=>a-b)  // 每次传入2个值a、b，a<b应返回一个小于0的数，相等返回0，a>b应返回大于0的数\n",
    "[ 1, 2, 10, 21 ]\n",
    "```\n",
    "- `concat`的某些行为和想象的不一样，它可以添加多个参数，同时，如果是数组的话，会提取数组的每个元素，但是其它的对象都会当成单独的元素。另外，`concat`返回的是一个副本，不改变原数组。"
   ]
  },
  {
   "cell_type": "markdown",
   "metadata": {},
   "source": [
    "### `Date`和`Error`"
   ]
  },
  {
   "cell_type": "markdown",
   "metadata": {},
   "source": [
    "#### `Date`"
   ]
  },
  {
   "cell_type": "markdown",
   "metadata": {},
   "source": [
    "几个常用的`Date`属性和方法：\n",
    "1. `new Date()`返回当前日期和时间，注意不是字符串，为时间日期的`native code`。\n",
    "```javascript\n",
    "> new Date()\n",
    "2020-06-22T02:48:38.895Z\n",
    "```\n",
    "2. `new Date()`返回的原生时间可以通过`toLocalString`方法转换为符合本地规范的字符串。\n",
    "```javascript\n",
    "> new Date().toLocaleString()\n",
    "'2020/6/22 上午10:55:59'\n",
    "```\n",
    "2. `Date()`返回当前日期和时间的字符串形式。\n",
    "```javascript\n",
    "> Date()\n",
    "'Mon Jun 22 2020 10:48:42 GMT+0800 (中国标准时间)'\n",
    "```\n",
    "3. ES5以后`Date.now()`返回当前日期时间的时间戳，也可以使用`new Date().getTime()`。\n",
    "```javascript\n",
    "> Date.now()\n",
    "1592794348208\n",
    "```\n",
    "\n",
    "以上都是在node之中的输出结果，浏览器的输出结果会有差异。以下是一个常用的格式化时间日期的模块：\n",
    "```javascript\n",
    "const formatTime = date => {\n",
    "  const year = date.getFullYear()\n",
    "  const month = date.getMonth() + 1\n",
    "  const day = date.getDate()\n",
    "  const hour = date.getHours()\n",
    "  const minute = date.getMinutes()\n",
    "  const second = date.getSeconds()\n",
    "\n",
    "  return [year, month, day].map(formatNumber).join('/') + ' ' + [hour, minute, second].map(formatNumber).join(':')\n",
    "}\n",
    "\n",
    "const formatNumber = n => {\n",
    "  n = n.toString()\n",
    "  return n[1] ? n : '0' + n\n",
    "}\n",
    "\n",
    "module.exports = {\n",
    "  formatTime: formatTime\n",
    "}\n",
    "```"
   ]
  },
  {
   "cell_type": "markdown",
   "metadata": {},
   "source": [
    "#### `Error`"
   ]
  },
  {
   "cell_type": "markdown",
   "metadata": {},
   "source": [
    "`Error`和`Array`一样，有没有`new`关键字都是创建一个新的`Error`对象。自定义`Error`的话，可参考下文：\n",
    "- [官网](https://developer.mozilla.org/zh-CN/docs/Web/JavaScript/Reference/Global_Objects/Error)\n",
    "- [What's a good way to extend Error in JavaScript?\" discussion on Stackoverflow](https://stackoverflow.com/questions/1382107/whats-a-good-way-to-extend-error-in-javascript)"
   ]
  },
  {
   "cell_type": "markdown",
   "metadata": {},
   "source": [
    "### 内置对象的原型"
   ]
  },
  {
   "cell_type": "markdown",
   "metadata": {},
   "source": [
    "`Function.prototype`是一个空函数，`RegExp.prototype`是一个“空”的正则表达式（无任何匹配），而`Array.prototype`是一个空数组：\n",
    "```javascript\n",
    "> Object.prototype.toString.call(Array.prototype)\n",
    "'[object Array]'\n",
    "> Object.prototype.toString.call(Function.prototype)\n",
    "'[object Function]'\n",
    "> Object.prototype.toString.call(RegExp.prototype)\n",
    "'[object Object]'\n",
    "```\n",
    "可以修改内置对象的原型对象：\n",
    "```javascript\n",
    "Array.isArray( Array.prototype ); // true\n",
    "Array.prototype.push( 1, 2, 3 ); // 3\n",
    "Array.prototype; // [1,2,3]\n",
    "```\n",
    "不过一定记得改回来，不然会出问题，只需要把`Array`原型数组的`length`设置为0即可：\n",
    "```javascript\n",
    "Array.prototype.length = 0;\n",
    "```\n",
    "这些原型可以用来作为函数参数的默认值，比如：\n",
    "```javascript\n",
    "function func(cb, arr=Array.prototype){\n",
    "\ta = arr.map(cb)\n",
    "\treturn a\n",
    "}\n",
    "\n",
    "console.log(func(x=>x+1) // 输出为[]\n",
    "```\n",
    "用原型当默认值有个好处就是原型是运行就创建了的，且只创建一次。上面的例子中，如果使用`[]`作为默认值，则每次调用`func`都会创建一个空数组。不过要注意，只有不改变默认参数的情况下才适合用原型作为默认值，否则会导致前面提到的一系列问题。"
   ]
  },
  {
   "cell_type": "markdown",
   "metadata": {},
   "source": [
    "### Map"
   ]
  },
  {
   "cell_type": "markdown",
   "metadata": {},
   "source": [
    "#### 迭代Map"
   ]
  },
  {
   "cell_type": "markdown",
   "metadata": {},
   "source": [
    "可以通过`Map`对象的`keys()`，`values()`和`entries()`方法对`Map`对象进行迭代，也可以直接使用`for...of`进行迭代，如：\n",
    "```javascript\n",
    "const m = Map()\n",
    "m.set('a', 42)\n",
    "for(let r of m){\n",
    "    console.log(r)\n",
    "}\n",
    "```\n",
    "直接迭代和使用`entries()`进行迭代一样，每一轮返回的是`key`和`val`组成的数组。"
   ]
  },
  {
   "cell_type": "markdown",
   "metadata": {},
   "source": [
    "## 类型转换"
   ]
  },
  {
   "cell_type": "markdown",
   "metadata": {},
   "source": [
    "### JSON字符串化"
   ]
  },
  {
   "cell_type": "markdown",
   "metadata": {},
   "source": [
    "一般情况下，`JSON.stringtify`可以把任意值或者对象字符串化，不过有一些不安全的`JSON`值不符合`JSON`的标准结构，因此会进行处理。\n",
    "1. `undefined`、`function`和`symbol` 会自动将其忽略，如果是在数组中则会返回`null`。\n",
    "```javascript\n",
    "JSON.stringify( undefined ); // undefined\n",
    "JSON.stringify( function(){} ); // undefined\n",
    "JSON.stringify(\n",
    "    [1,undefined,function(){},4]\n",
    "); // \"[1,null,null,4]\"\n",
    "JSON.stringify(\n",
    "    {a:2, b:function(){} }\n",
    "); // \"{\"a\":2}\"\n",
    "```\n",
    "2. 如果对象包含循环引用，则`JOSN.stringify`时会报错。\n",
    "3. 对象如果有`toJSON`方法，会优先调用该方法。注意：该方法是当对象是循环引用，或者不安全时，用来返回一个可以被安全的JSON字符串化的对象，而不是要返回一个JSON字符串。\n",
    "\n",
    "```javascript\n",
    "o = {\n",
    "\to: 24,\n",
    "\ttoJSON(){\n",
    "\t\treturn {o: 42}\n",
    "\t}\n",
    "}\n",
    "\n",
    "console.log(JSON.stringify(o)) //{o: 42}\n",
    "```\n",
    "4. `JSON.stringify`接收一个`replacer`的可选参数，可以是数组也可以是函数。数组的话包含序列化要包含的属性，除此之外的属性被忽略。函数的话，它会对对象本身调用一次，然后对对象中的每个属性各调用一次，每次传递两个参数，键和值。如果要忽略某个键就返回`undefined`，否则返回指定的值。\n",
    "```javascript\n",
    "var a = {\n",
    "    b: 42,\n",
    "    c: \"42\",\n",
    "    d: [1,2,3]\n",
    "};\n",
    "JSON.stringify( a, [\"b\",\"c\"] ); // \"{\"b\":42,\"c\":\"42\"}\"\n",
    "JSON.stringify( a, function(k,v){\n",
    "    if (k !== \"c\") return v;\n",
    "} );\n",
    "// \"{\"b\":42,\"d\":[1,2,3]}\"\n",
    "```\n",
    "如果`replacer`是函数，它的参数`k`在第一次调用时为`undefined`（就是对对象本身调用的那次）。 `if`语句将属性`c`排除掉。由于字符串化是递归的，因\n",
    "此数组`[1,2,3]`中的每个元素都会通过参数`v`传递给`replacer`，即`1,2,3`，参数`k`是它们的索引值，即`0,1,2`。可见，如果是函数，用排除法更简单。\n",
    "5. `JSON.string`还有一个可选参数`space`，用来指定输出的缩进格式。 `space`为正整数时是指定每一级缩进的字符数，它还可以是字符串，此时最前面的十个字符被用于每一级的缩进。"
   ]
  },
  {
   "cell_type": "markdown",
   "metadata": {},
   "source": [
    "### 对象转换为基本类型的内部规则"
   ]
  },
  {
   "cell_type": "markdown",
   "metadata": {},
   "source": [
    "对象（包括数组）会首先被转换为相应的基本类型值，抽象操作`ToPrimitive`会首先检查该值是否有`valueOf()`方法。如果有并且返回基本类型值，就使用该值进行强制类型转换。如果没有就使用`toString()`的返回值（如果存在）来进行强制类型转换。如果`valueOf()`和`toString()`均不返回基本类型值，会产生 `TypeError`错误。\n",
    "\n",
    "注意：使用`Object.create(null)`创建的对象`[[Prototype]]`属性为`null`，没有`valueOf()`和`toString()`方法，因此无法进行强制类型转换。\n",
    "```javascript\n",
    "o = {\n",
    "\tvalueOf(){\n",
    "\t\treturn 42\n",
    "\t}\n",
    "}\n",
    "\n",
    "console.log(o + 3)  // 输出为45\n",
    "```"
   ]
  },
  {
   "cell_type": "markdown",
   "metadata": {},
   "source": [
    "### 类型转换"
   ]
  },
  {
   "cell_type": "markdown",
   "metadata": {},
   "source": [
    "#### 转换为字符串"
   ]
  },
  {
   "cell_type": "markdown",
   "metadata": {},
   "source": [
    "除了使用`String`内置函数进行转换以外，还可以使用`\"\"`空字符串相加来进行转换：\n",
    "```javascript\n",
    "> 42 + \"\"\n",
    "'42'\n",
    "```"
   ]
  },
  {
   "cell_type": "markdown",
   "metadata": {},
   "source": [
    "#### 转换为数字"
   ]
  },
  {
   "cell_type": "markdown",
   "metadata": {},
   "source": [
    "转换为数字有以下一些规则：\n",
    "1. `true`转换为1，`false`和`null`转换为0。 `undefined`转换为`NaN`。\n",
    "2. `[]`和`\"\"`、`\"\\n\"`（或者`\" \"`等其他空格组合）都会被转换为0，特别注意`{}`空对象转换为`NaN`而不是0。\n",
    "3. 字符串和数字`+`的时候，会优先转换成字符串。\n",
    "\n",
    "除了使用`Number`内置函数转换为数字以外，还可以使用`+`，`-`一员运算符号：\n",
    "- `+`运算符可以转换为数字：`+[]`,`+\"42\"`，`+null`。尽量不要将`+`运算符和其它符合一起用，可读性非常差。\n",
    "- `-`运算符不仅转换为数字，还会反转数字的符号位。比如`-\"3.14\"`，结果为`-3.14`。\n",
    "- `+new Date()`可以获取时间戳，但是不建议，最好是使用显示的方法：`new Date().getTime()`，如果是当前时间，还可以直接`Date.now()`。 \n",
    "\n",
    "常见的坑：\n",
    "1. `5 + \"3.14\"`，`5`会优先转化为字符串,所以结果为`53.14`。`5 + +\"3.14\"`可以，它先将`\"3.14\"`转换成数字，注意，`+ +`中间有个空格，否则会报错。"
   ]
  },
  {
   "cell_type": "markdown",
   "metadata": {},
   "source": [
    "#### 奇特的`~`运算符"
   ]
  },
  {
   "cell_type": "markdown",
   "metadata": {},
   "source": [
    "`~`是自位非操作符，平时用的比较少，这里主要利用它的一个特性，就是对数字进行`~`，相当于数字的补码，近似为`~x=-Number(x+1)`。因此当`x`为`-1`时，返回0。而`-1`是一个\"哨位值\"，在很多场合下表示失败，0或者大于0的值表示成功。javascipt的`indexOf`也是这样，因此在`indexOf`判断是否查找成功的时候，可以使用`~`的这个特性：\n",
    "```javascript\n",
    "var s = \"hellow world\"\n",
    "\n",
    "if(~s.indexOf(\"lo\")){\n",
    "\tconsole.log(\"found!\")  // 返回3,~3为-4，为true。如果没有找到则返回-1，~-1为0，则为false。\n",
    "}else{\n",
    "\tconsole.log(\"not found!\")\n",
    "}\n",
    "```\n",
    "直接加`~`就表示找到，这样的写法更直观，且隐藏了底层的细节，前提是了解`~`运算符。"
   ]
  },
  {
   "cell_type": "markdown",
   "metadata": {},
   "source": [
    "#### 数字解析"
   ]
  },
  {
   "cell_type": "markdown",
   "metadata": {},
   "source": [
    "`parseInt`和`parseFloat`用作数字解析，数字解析和转换是不同的，解析是指从字符串里提取出数字，比如：\n",
    "```javascript\n",
    "> parseInt(\"42abc\")\n",
    "42\n",
    "> parseFloat(\"42.33abc\")\n",
    "42.33\n",
    "```\n",
    "注意，解析是从左到右，遇到非数字的字符则停止，左边开始不能是非数字字符。`parseInt`可以指定第二个参数，表示字符串里的数字是几进制，比如：\n",
    "```javascript\n",
    "> parseInt(\"C\", 16)\n",
    "12\n",
    "```\n",
    "最终输出总是10进制。注意：`parseInt(..)`总是先将参数强制类型转换为字符串再进行解析，哪怕是数字也是这样，因此会出现一些奇怪的现象，如：\n",
    "```javascript\n",
    "parseInt( 0.000008 ); // 0 (\"0\" 来自于 \"0.000008\",会先将0.000008转化为字符串)\n",
    "parseInt( 0.0000008 ); // 8 (\"8\" 来自于 \"8e-7\")\n",
    "parseInt( false, 16 ); // 250 (\"fa\" 来自于 \"false\")\n",
    "parseInt( parseInt, 16 ); // 15 (\"f\" 来自于 \"function..\")\n",
    "parseInt( \"0x10\" ); // 16\n",
    "parseInt( \"103\", 2 ); // 2 \n",
    "```"
   ]
  },
  {
   "cell_type": "markdown",
   "metadata": {},
   "source": [
    "#### 转换为布尔值"
   ]
  },
  {
   "cell_type": "markdown",
   "metadata": {},
   "source": [
    "JavaScript中的所有的值分为可以被强制转换为`false`的值和其它，即被强制转换为`true`两类，可以被强制转换为`false`的有：\n",
    "- undefined\n",
    "- null\n",
    "- false\n",
    "- +0、 -0 和 NaN\n",
    "- \"\"\n",
    "\n",
    "其它全部被转换成`true`。注意：\n",
    "1. `[]`,`{}`等等对象或者子对象类型全部是为`true`的。还有一些封装了假值的对象，比如`new Boolean(false)`,`new Number(0)`，这些也都为`true`。\n",
    "```javascript\n",
    "Boolean(new Boolean(false)) // true\n",
    "Boolean(new Number(0)) //true\n",
    "```\n",
    "2. 字符串中只有\"\"为假，其它的都为`true`，数字0为假，\"0\"为真，转换的时候并不会先转换为数字再转换为布尔值。\n",
    "\n",
    "和一般使用`+`对数字进行强制转换一样，一般不常用`Boolean`内置函数进行显式的转换，而是使用`!!`运算符，`!`是取反操作，`!!`则转换为原值。\n",
    "\n",
    "以下几种情况中，会隐式的转换为布尔值：\n",
    "1. if (..) 语句中的条件判断表达式。\n",
    "2. for ( .. ; .. ; .. ) 语句中的条件判断表达式（第二个）。\n",
    "3. while (..) 和 do..while(..) 循环中的条件判断表达式。\n",
    "4. ? : 中的条件判断表达式。\n",
    "5. 逻辑运算符 ||（逻辑或）和 &&（逻辑与）左边的操作数（作为条件判断表达式）。\n",
    "\n",
    "建议始终使用`!!`或者`Boolean`进行转换，更加清晰易读。"
   ]
  },
  {
   "cell_type": "markdown",
   "metadata": {},
   "source": [
    "#### `+`是拼接还是数字加法"
   ]
  },
  {
   "cell_type": "markdown",
   "metadata": {},
   "source": [
    "这个问题其实比较复杂，大致如下：\n",
    "1. 如果有一个操作数是字符串，则进行拼接。\n",
    "2. 如果一个操作数是对象，规范上说，是先进行`toPrimitive`操作，再调用`[[DefaultValue]]`内部属性。个人理解就是先调用`valueOf`然后调用`toString`，如果返回数字则为数字加法，如果返回字符串则进行拼接。\n",
    "\n",
    "```javascript\n",
    "o = {\n",
    "\tvalueOf(){\n",
    "\t\treturn 42\n",
    "\t}\n",
    "}\n",
    "\n",
    "console.log(o + 2)  // 输出\"44\"\n",
    "\n",
    "\n",
    "s = [1, 2] + [3, 4]\n",
    "console.log(s)  // 输出为\"1,23,4\"\n",
    "```\n",
    "注意：通过某些情况下，`+ \"\"`运算符进行隐式转换和`String`显式转换的细微差别，`+`会先调用`valueOf`，而`String`直接调用`toString`：\n",
    "```javascript\n",
    "o = {\n",
    "\tvalueOf(){\n",
    "\t\treturn 42\n",
    "\t},\n",
    "\ttoString(){\n",
    "\t\treturn 2\n",
    "\t}\n",
    "}\n",
    "\n",
    "console.log(o + \"\")  // 输出42\n",
    "console.log(String(o))  // 输出2\n",
    "```\n",
    "注意和`-`减法的区别，因为`-`仅仅只表示数字减法，所以会先转换成字符串，再强制转换成数字，注意，对象的强制转换仍然和`+`的转换规则一样，先调用`valueOf`，再调用`toString`：\n",
    "```javascript\n",
    "o = {\n",
    "\tvalueOf(){\n",
    "\t\treturn \"42\"\n",
    "\t},\n",
    "\ttoString(){\n",
    "\t\treturn \"3\"\n",
    "\t}\n",
    "}\n",
    "\n",
    "console.log(o - 2)  // 输出为40\n",
    "```\n",
    "最后注意一点，布尔值可以直接转换成数字，因此会进行加法计算：\n",
    "```javascript\n",
    "> true + 2\n",
    "3\n",
    "```"
   ]
  },
  {
   "cell_type": "markdown",
   "metadata": {},
   "source": [
    "#### `||`和`&&`"
   ]
  },
  {
   "cell_type": "markdown",
   "metadata": {},
   "source": [
    "javascript中，`||`和`&&`并不一定返回布尔值，而是返回某个操作数的值。`||`常常用做空值合并，比如：\n",
    "```javascript\n",
    "function func(a){\n",
    "\ta = a || \"hello world!\"\n",
    "\tconsole.log(a)\n",
    "}\n",
    "\n",
    "func()  // 输出为\"hello world!\"\n",
    "func(0)  // Oops! 因为a为假值，因此仍然输出\"hello world!\"\n",
    "```\n",
    "但是上面的用法有缺陷，不能为假值。如果上述结果不是想要的，只能通过更加精确的条件限制，比如`typeof a !== 'undefined' ? a : \"hello world!\"`。`&&`又可以看作守护运算符，只有前面的操作数为`true`，才会返回第二个操作数。"
   ]
  },
  {
   "cell_type": "markdown",
   "metadata": {},
   "source": [
    "#### 符号的强制转换"
   ]
  },
  {
   "cell_type": "markdown",
   "metadata": {},
   "source": [
    "ES6新增的`Symbol`符号的转换规则如下：\n",
    "1. 不能转换为数字，显性隐性都会报错。\n",
    "2. 可以转换为布尔值，显性隐性结果都为`true`。\n",
    "3. 允许从符号到字符串的显式强制类型转换，然而隐式强制类型转换会产生错误：\n",
    "```javascript\n",
    "var s1 = Symbol( \"cool\" );\n",
    "String( s1 ); // \"Symbol(cool)\"\n",
    "var s2 = Symbol( \"not cool\" );\n",
    "s2 + \"\"; // TypeError\n",
    "```"
   ]
  },
  {
   "cell_type": "markdown",
   "metadata": {},
   "source": [
    "#### `==`和`===`"
   ]
  },
  {
   "cell_type": "markdown",
   "metadata": {},
   "source": [
    "百度的大部分文章都是这样描述的：“== 检查值是否相等， === 检查值和类型是否相等”。其实这是错误的或者说不够精确，正确的解释应该是：“== 允许在相等比较中进行强制类型转换，而 === 不允许。”  \n",
    "其中，对象比较的话，如果两个对象指向同一个值时即视为相等，不发生强制类型转换，`==`和`===`此时是一样的。\n",
    "\n",
    "`==`的强制转换遵守以下几条规则：\n",
    "1. 如果是字符串和数字比较，先将字符串强制转换为数字再进行比较。\n",
    "2. 如果操作数是布尔值，会将布尔值转换为数字，这一点非常出错：\n",
    "```javascript\n",
    "\"42\" == true  // 输出为false。true转换为1,然后\"42\"转换为42，因此比较的是42 == 1。\n",
    "```\n",
    "3. `null`和`undefined`在`==`中可以互相转换，因此返回`true`，在`===`中不等。\n",
    "4. `null`和`undefined`与其它值比较时，都不会进行强制转换，因此以下都为`false`：\n",
    "```javascript\n",
    "> null == false\n",
    "false\n",
    "> null == 0\n",
    "false\n",
    "> undefined == 0\n",
    "false\n",
    "> undefined == false\n",
    "false\n",
    "```\n",
    "5. 如果一个操作数是对象，另一个是字符串或者数字，则对对象先执行`ToPrimitive`抽象运算。但是注意对象和`null`和`undefined`比较，`null`和`undefined`没有对应的包装对象，`Object(null)`和`Object(undefined)`返回一个常规对象，因此：\n",
    "```javascript\n",
    "var a = null;\n",
    "var b = Object( a ); // b是一个普通对象，不会拆包\n",
    "a == b; // false\n",
    "var c = undefined;\n",
    "var d = Object( c ); // d也是一个普通对象，并不会拆包\n",
    "c == d; // false\n",
    "var e = NaN;\n",
    "var f = Object( e ); // 和new Number( e )一样，因此会拆包，返回NaN，但是NaN不等于自身\n",
    "e == f; // false\n",
    "```\n",
    "\n",
    "下面是一些易错的例子：\n",
    "```javascript\n",
    "\"\" == [null]  // true, [null]会先转换成字符串\"\"，所以实际上是\"\"==\"\"\n",
    "[] == ![]  // true, ![]会先转换成false,false转换成0，[]转换成\"\"，再转换成0\n",
    "0 == \"\\n\"  // true, 数字转换中提到，\"\\n\"会被转换成0\n",
    "\"true\" == true; // false, \"true\"转换成数字为NaN,true会转换成数字为1\n",
    "```\n",
    "\n",
    "总结一下，两条原则：\n",
    "- 如果两边的值中有`true`或者`false`，千万不要使用`==`。\n",
    "- 如果两边的值中有`[]`、`\"\"`或者`0`，尽量不要使用`==`。"
   ]
  },
  {
   "cell_type": "markdown",
   "metadata": {},
   "source": [
    "#### 抽象关系比较"
   ]
  },
  {
   "cell_type": "markdown",
   "metadata": {},
   "source": [
    "抽象关系比较分比较双方都是字符串以及其它两种情况：\n",
    "1. 如果都是字符串，则按字母顺序比较。\n",
    "2. 如果是非字符串，则调用`ToPrimitive`，如果结果出现非字符串，则根据`ToNumber`规则将双方强制类型转换为数字来进行比较。\n",
    "3. 实质上没有`<=`或者`>=`，`<=`或者`>=`先转换成`>`（严格来说，会再转换为`<`）和`<`再取反。\n",
    "\n",
    "看一些例子：\n",
    "```javascript\n",
    "var a = [ 42 ];\n",
    "var b = [ \"43\" ];\n",
    "a < b; // true  全部转为字符串，\"42\"<\"43\"\n",
    "\n",
    "var a = [ 42 ];\n",
    "var b = [ \"043\" ];\n",
    "a < b; // false 转为字符串后，\"42\"<\"043\"，按字母顺序为false\n",
    "\n",
    "var a = { b: 42 };\n",
    "var b = { b: 43 };\n",
    "a < b; // false 转为字符串后，均为\"[object Object]\"，因此为false\n",
    "a == b // false 注意，==两边都是对象的时候，只看对象引用的值是否同一个，是则相等，否则不等，此时不进行转换。\n",
    "a <= b // true a<=b会转换成!(a>b)=>!(b<a)，最终计算的是!(b<a)，b<a为false，所以!(b<a)为true\n",
    "```\n",
    "总结一下：  \n",
    "由于抽象关系比较必定会有隐性的类型转换，为了安全起见，最好进行显式的类型转换：\n",
    "```javascript\n",
    "var a = [ 42 ];\n",
    "var b = \"043\";\n",
    "a < b; // false -- 字符串比较！\n",
    "Number( a ) < Number( b ); // true -- 数字比较！\n",
    "```"
   ]
  },
  {
   "cell_type": "markdown",
   "metadata": {},
   "source": [
    "## 自定义对象"
   ]
  },
  {
   "cell_type": "markdown",
   "metadata": {},
   "source": [
    "### 创建对象"
   ]
  },
  {
   "cell_type": "markdown",
   "metadata": {},
   "source": [
    "- [JS由Number与new Number的区别引发的思考](https://www.cnblogs.com/thinking-better/p/5330120.html)"
   ]
  },
  {
   "cell_type": "markdown",
   "metadata": {},
   "source": [
    "#### 通过new创建一个对象"
   ]
  },
  {
   "cell_type": "markdown",
   "metadata": {},
   "source": [
    "- [new到底做了什么](https://blog.csdn.net/qq_27674439/article/details/99095336)\n",
    "- [new一个函数和直接调用函数的区别](https://www.jianshu.com/p/372caf7afd20)\n",
    "- [javascript中new和Object.create()区别](https://blog.csdn.net/zhaoruda/article/details/81024222)\n",
    "\n",
    "在网上看资料，很多都说，当使用`new`关键字调用一个函数时，这个函数就是一个构造函数。实际上，这种说法是不准确的，javascript不存在什么构造函数，只有构造调用，当使用`new`关键字调用一个函数时，发生了以下几件事：\n",
    "1. 创建（或者说构造）一个全新的对象。\n",
    "2. 这个新对象会被执行`[[ 原型 ]]`连接。\n",
    "3. 这个新对象会绑定到函数调用的`this`。\n",
    "4. 如果函数没有返回其他对象，那么`new`表达式中的函数调用会自动返回这个新对象。"
   ]
  },
  {
   "cell_type": "markdown",
   "metadata": {},
   "source": [
    "#### new一个有返回值的函数"
   ]
  },
  {
   "cell_type": "markdown",
   "metadata": {},
   "source": [
    "当函数返回是普通的数值类型，会忽略，返回一个构造函数的实例，而如果返回的是数组之类的引用类型，则不会忽略，直接返回。如下：\n",
    "\n",
    "如下：\n",
    "```javascript\n",
    "function func1(){\n",
    "    this.name = 'telecomshy'\n",
    "    return 'telecomshy'\n",
    "    }\n",
    "\n",
    "obj = new func1()\n",
    "```\n",
    "此时obj是一个对象{ name: 'telecomshy' }。\n",
    "```javascript\n",
    "function func2(){\n",
    "    this.name = 'telecomshy'\n",
    "    return [1, 2, 3]\n",
    "\n",
    "obj = new func2()\n",
    "```\n",
    "此时obj是返回的数组`[1, 2, 3]`"
   ]
  },
  {
   "cell_type": "markdown",
   "metadata": {},
   "source": [
    "### 判断对象类型"
   ]
  },
  {
   "cell_type": "markdown",
   "metadata": {},
   "source": [
    "- [为什么用Object.prototype.toString.call(obj)检测对象类型?](https://www.cnblogs.com/youhong/p/6209054.html)"
   ]
  },
  {
   "cell_type": "markdown",
   "metadata": {},
   "source": [
    "### 坑爹的对象属性名"
   ]
  },
  {
   "cell_type": "markdown",
   "metadata": {},
   "source": [
    "- [javascript对象属性的命名规则](https://www.cnblogs.com/canger/p/6382944.html?utm_source=itdadao&utm_medium=referral)"
   ]
  },
  {
   "cell_type": "markdown",
   "metadata": {},
   "source": [
    "### 原型和原型链"
   ]
  },
  {
   "cell_type": "markdown",
   "metadata": {},
   "source": [
    "- [深入理解javascript原型链](https://www.cnblogs.com/alichengyin/p/4852616.html)\n",
    "- [原型和原型链](https://blog.csdn.net/zhaoruda/article/details/79381423)\n",
    "- [JavaScript原型链以及Object，Function之间的关系](https://www.cnblogs.com/web-record/p/9661804.html)\n",
    "\n",
    "谈谈自己的理解，先看下图："
   ]
  },
  {
   "attachments": {
    "%E5%9B%BE%E7%89%87.png": {
     "image/png": "[encoded data removed]"
    }
   },
   "cell_type": "markdown",
   "metadata": {},
   "source": [
    "![%E5%9B%BE%E7%89%87.png](attachment:%E5%9B%BE%E7%89%87.png)"
   ]
  },
  {
   "cell_type": "markdown",
   "metadata": {},
   "source": [
    "原型和原型链的关系可以用上图解释，可以这样理解：\n",
    "1. 首先我们把所有的对象想象成产品，所有的函数想象成工厂，产品都是由工厂生产出来的，也就是说，对象都是由函数创建的。\n",
    "2. 其次，工厂必须根据一个原型或者说模板来生产产品，这个模板就是工厂的`prototype`对象，生产出来的产品都有一个`__proto__`属性指向它的模板。所有的`prototype`对象都有一个`constructor`属性指向它所属的工厂。\n",
    "3. 因为工厂本身也是个对象，它也要根据一个模板生产出来，这个模板是谁呢？就是`Function.prototype`对象，上图中`Cat`,`Function`,`Object`都是函数，都是工厂，因此它们都是根据`Function.prototype`这个模板生产出来的，所以它们的`__proto__`属性都指向这个模板，注意：这个模板本身是个函数对象，`typeof Function.prototype`可以看到类型是`[Function]`。\n",
    "4. 所有的`prototype`本身也是一个对象，既然是对象，就有模板，所有`prototype`对象的模板都是`Object.prototype`对象，所有`prototype`对象的`__proto__`属性都指向`Object.prototype`，而`Object.prototype`是最顶层的模板，它再没有模板了，它指向`null`。\n",
    "5. `Function`比较特殊，它的产品是函数，它是生产工厂的工厂，其它所有函数都是由它创建的，因此它既是以`Function.prototype`为模板生产出来的，又根据`Function.prototype`去生产别的工厂，因此它的`prototype`和`__proto__`属性指向的都是`Function.prototype`对象。\n",
    "\n",
    "最后提一句，`javascript`的类其实就是函数，因此在继承的时候，有两条继承链，不光工厂即构造函数要继承，工厂的模板，即函数的`prototype`对象也要继承。"
   ]
  },
  {
   "cell_type": "markdown",
   "metadata": {},
   "source": [
    "### 复制对象"
   ]
  },
  {
   "cell_type": "markdown",
   "metadata": {},
   "source": [
    "复制对象就用`Object.assign()`，需要注意的有2点：\n",
    "1. 复制是浅复制。\n",
    "2. 只会复制属性的值，不会复制属性的描述符。\n",
    "```javascript\n",
    "o1 = {\"a\": [1, 2, 3]}\n",
    "Object.defineProperty(o1, \"a\", {configurable: false})\n",
    "console.log(Object.getOwnPropertyDescriptor(o1, \"a\"))\n",
    "o2 = Object.assign({}, o1)\n",
    "console.log(Object.getOwnPropertyDescriptor(o2, \"a\"))\n",
    "o1.a.push(4)\n",
    "console.log(o1)\n",
    "console.log(o2)\n",
    "```\n",
    "输出为：\n",
    "```javascript\n",
    "{\n",
    "  value: [ 1, 2, 3 ],\n",
    "  writable: true,\n",
    "  enumerable: true,\n",
    "  configurable: false\n",
    "}\n",
    "{\n",
    "  value: [ 1, 2, 3 ],\n",
    "  writable: true,\n",
    "  enumerable: true,\n",
    "  configurable: true\n",
    "}\n",
    "{ a: [ 1, 2, 3, 4 ] }\n",
    "{ a: [ 1, 2, 3, 4 ] }  // 修改原对象的属性a，目标对象也变化\n",
    "```"
   ]
  },
  {
   "cell_type": "markdown",
   "metadata": {},
   "source": [
    "### 冻结对象属性"
   ]
  },
  {
   "cell_type": "markdown",
   "metadata": {},
   "source": [
    "有以下几种方式可以“冻结”对象：\n",
    "1. 将对象属性描述符的`writable`和`configurable`设置为`false`创建一个常量属性。\n",
    "2. 通过`Object.preventExtensions`禁止对象添加新的属性。\n",
    "3. 通过`Object.seal`创建一个“密封”的对象，实际上相当于`Object.preventExtensions`并且将现有对象属性的`configurable`设置为`false`。注意：\n",
    " - 即使对象属性的`configurable`为`false`，但是还是可以将`writable`从`true`设置为`false`，但是不能从`false`改为`true`。\n",
    " - `configurable`是单向的，设置为`false`以后，就不能再更改为`true`。\n",
    " - 设置`configurable`为`false`以后，属性也不能再删除。\n",
    "4. 通过`Object.freeze`创建一个“冻结”的对象，`freeze`是在`seal`的基础上，再将`writable`设置为`false`。"
   ]
  },
  {
   "cell_type": "markdown",
   "metadata": {},
   "source": [
    "### 属性是否存在"
   ]
  },
  {
   "cell_type": "markdown",
   "metadata": {},
   "source": [
    "主要两种方法：\n",
    "1. `in`操作符。\n",
    "2. `obj.hasOwnProperty()`方法。\n",
    "\n",
    "区别是：`in`会检查该属性是否存在于对象的原型链中，`hasOwnProperty`只检查属性是否是`obj`本身的属性。注意一点，`hasOwnProperty`方法是在`Object.prototype`原型链上，但是如果一个对象没有连接到`Object.prototype`，那么就不会有这个方法，此时可以使用`Object.prototype.hasOwnProperty.call(obj, \"attr\")`的方式调用`hasOwnProperty`。"
   ]
  },
  {
   "cell_type": "markdown",
   "metadata": {},
   "source": [
    "### 属性的枚举"
   ]
  },
  {
   "cell_type": "markdown",
   "metadata": {},
   "source": [
    "主要两种方法：\n",
    "1. `Object.keys()`方法\n",
    "2. `Object.getOwnPropertyNames()`方法\n",
    "\n",
    "区别是：`Object.keys()`方法返回一个数组，包含所有可枚举的属性。`Object.getOwnPeropertyName()`返回一个数组，包含所有属性，不论是否可枚举。注意：两者都不包含原型链上的属性。"
   ]
  },
  {
   "cell_type": "markdown",
   "metadata": {},
   "source": [
    "### 对象的遍历"
   ]
  },
  {
   "cell_type": "markdown",
   "metadata": {},
   "source": [
    "对象不能用`for...of`进行遍历，不过可以实用`for...in`,`Object.keys()`, `Object.values()`和`Object.entries()`以及`Object.getOwnPropertyNames()`方法，不过这几个方法有一些细微的差异需要注意：\n",
    "1. `for...in`返回所有可枚举的属性键，包括原型链上的对象，其它几种方法都不包含原型链对象。\n",
    "2. `Object.getOwnPropertyNames`返回对象本身的所有属性，包括不可枚举的。\n",
    "3. `Object.keys`，`Object.values`，`Object.entries`分别以数组形式返回对象本身的键，值和键值对，不包含不可枚举的属性，要注意的是`entries`返回的是嵌套的数组，因此遍历的话，可以实用`of`加数组解构：\n",
    "```javascript\n",
    "o = {a: 42}\n",
    "for(let [k, v] of Object.entries(o)){\n",
    "    console.log(k, v)\n",
    "}  // 输出a 42\n",
    "```\n",
    "可以自定义对象的一个迭代器，这样就可以实用`of`了：\n",
    "```javascript\n",
    "Object.defineProperty(o, Symbol.iterator, {\n",
    "    emunarable: false,\n",
    "    writable: false,\n",
    "    configurable: true\n",
    "    value: function(){\n",
    "        const o = this\n",
    "        let idx = 0\n",
    "        const ks = Object.keys(o)\n",
    "        return {\n",
    "            next: function(){\n",
    "                return {\n",
    "                    value: o[ks[idx++]],\n",
    "                    done: (idx > ks.length)\n",
    "                }\n",
    "            }\n",
    "        }\n",
    "    }\n",
    "})\n",
    "```"
   ]
  },
  {
   "cell_type": "markdown",
   "metadata": {},
   "source": [
    "## 作用域和闭包"
   ]
  },
  {
   "cell_type": "markdown",
   "metadata": {},
   "source": [
    "### 变量查找"
   ]
  },
  {
   "cell_type": "markdown",
   "metadata": {},
   "source": [
    "变量查找分为LHS和RHS，LHS是查找变量引用的容器，即变量指向的一块内存，内存里面有没有值不重要，RHS意味着查找变量引用的值，如下：\n",
    "```javascript\n",
    "function foo(a) {\n",
    "    var b = a;\n",
    "    return a + b;\n",
    "}\n",
    "var c = foo( 2 );\n",
    "```\n",
    "其中查找`c`,参数`a`以及函数内的`b`是LHS引用，函数名`foo`，函数内部`a`以及`return`中的`a`和`b`是RHS引用。\n",
    "\n",
    "注意：\n",
    "1. 函数声明不适用于LHS还是RHS引用，编译器同时声明函数名并且给其赋值。\n",
    "2. 变量的查找规则只对一级标识符有用，比如`foo.a.b`，只对`foo`变量有用，而后面的`a`和`b`的查找，是对象的属性查找规则起作用。"
   ]
  },
  {
   "cell_type": "markdown",
   "metadata": {},
   "source": [
    "### ReferenceError和TypeError的区别"
   ]
  },
  {
   "cell_type": "markdown",
   "metadata": {},
   "source": [
    "LHS和RHS查找的行为是不一样的，当RHS查找未找到变量时，会抛出`ReferenceError`异常，而LHS查找，在非严格模式下，编译器会偷偷的创建一个全局变量，严格模式下，也会抛出`referenceError`异常。\n",
    "\n",
    "当编译器在作用域中查找到变量，但程序对该变量进行的是一些不合理操作，比如对非函数类型的值进行函数调用，或者引用`null`或者`undefined`值的属性，则会抛出`TypeError`异常。所以，`ReferenceError`同作用域判别失败相关， 而`TypeError`则代表作用域判别成功了， 但是对结果的操作是非法或不合理的。\n",
    "```javascript\n",
    "> let a\n",
    "undefined\n",
    "> a.b\n",
    "Uncaught TypeError: Cannot read property 'b' of undefined\n",
    "> a()\n",
    "Uncaught TypeError: a is not a function\n",
    "> b\n",
    "Uncaught ReferenceError: b is not defined\n",
    "```"
   ]
  },
  {
   "cell_type": "markdown",
   "metadata": {},
   "source": [
    "### 欺骗词法"
   ]
  },
  {
   "cell_type": "markdown",
   "metadata": {},
   "source": [
    "先看代码：\n",
    "```javascript\n",
    "function foo(str, a){\n",
    "    eval(str); // 欺骗！\n",
    "    console.log(a, b);\n",
    "}\n",
    "var b = 2;\n",
    "foo( \"var b = 3;\", 1 ); // 1, 3\n",
    "```\n",
    "`eval`会当代码就在那里一样，因此在函数内部声明了变量`b`，屏蔽了全局变量`b`。类似的还有使用`foo = new Function('name', 'console.log(\"hello\" +  name})')`创建函数。这些用法都会带来性能损耗，应尽量避免。\n",
    "\n",
    "另外还有`with`语句：\n",
    "```javascript\n",
    "function func(obj){\n",
    "   with(obj){\n",
    "     a = 42\n",
    "   }\n",
    "}\n",
    "\n",
    "o = {}\n",
    "func(o)\n",
    "o.a\n",
    "console.log(a) //42\n",
    "```\n",
    "可见，变量`a`泄露到全局作用域中，变成了全局变量。因为`with`会根据传入的`obj`传入一个独立的作用域，此时`with`内部的`a`为一个LHS查找，会依次查找`with`根据`obj`创建的作用域，函数内部作用域，全局作用域。如果都没有找到，则在非严格模式下，偷偷创建了一个全局变量。因此，`with`语法也应该尽量避免使用。"
   ]
  },
  {
   "cell_type": "markdown",
   "metadata": {},
   "source": [
    "### 块级绑定"
   ]
  },
  {
   "cell_type": "markdown",
   "metadata": {},
   "source": [
    "1. 使用`let`和`const`只会创建一个全局变量，不会覆盖当前全局对象的同名属性，而使用`var`的话，会先生成一个全局变量，然后自动成为全局对象的属性，如果有同名属性，则会覆盖。（在浏览器环境中，全局对象为Window对象，在node环境中，为一个global的对象）。比如在浏览器中：\n",
    "```javascript\n",
    "let setTimeout = 1\n",
    "console.log(setTimeout)\n",
    "console.log(window.setTimeout)\n",
    "```\n",
    "输出为：\n",
    "```javascript\n",
    "1\n",
    "function setTimeout()\n",
    "```\n",
    "可见，`setTimeout`仍然可以通过全局对象`window`引用，如果是使用`var`进行声明，则`window.setTimeout`也被替换成1。\n",
    "\n",
    "2. `var`可以反复声明同一个变量，每一次会先检查是否存在这个变量，如果存在，则忽略`var`声明，变成简单的赋值。而`let`和`const`不行，不允许重复声明。但是有个奇怪的地方是，如果先使用`let`声明一个变量，再使用`var`声明，同样会报错。目前还不清楚具体的原理：\n",
    "```javascript\n",
    "let v = 42\n",
    "var v = 24\n",
    "```\n",
    "输出为：\n",
    "```\n",
    "SyntaxError: redeclaration of let v\n",
    "```"
   ]
  },
  {
   "cell_type": "markdown",
   "metadata": {},
   "source": [
    "### 块作用域和垃圾回收"
   ]
  },
  {
   "cell_type": "markdown",
   "metadata": {},
   "source": [
    "闭包会不经意之间对垃圾回收产生影响，如下的代码：\n",
    "```javascript\n",
    "function process(data) {\n",
    "// 在这里做点有趣的事情\n",
    "}\n",
    "\n",
    "var someReallyBigData = { .. };\n",
    "process( someReallyBigData );\n",
    "\n",
    "var btn = document.getElementById( \"my_button\" );\n",
    "btn.addEventListener( \"click\", function click(evt) {\n",
    "    console.log(\"button clicked\");\n",
    "}, /*capturingPhase=*/false );\n",
    "```\n",
    "虽然`click`的回调函数并没有用到`someReallyBigData`，但是回调函数产生了一个闭包，导致`someReallyBigData`极有可能不会被垃圾回收--这里`click`回调函数产生的闭包就是全局作用域。\n",
    "\n",
    "使用块作用域可以避免这种情况出现：\n",
    "```javascript\n",
    "function process(data) {\n",
    "// 在这里做点有趣的事情\n",
    "}\n",
    "\n",
    "{\n",
    "    var someReallyBigData = { .. };\n",
    "    process( someReallyBigData );\n",
    "}\n",
    "\n",
    "var btn = document.getElementById( \"my_button\" );\n",
    "btn.addEventListener( \"click\", function click(evt) {\n",
    "    console.log(\"button clicked\");\n",
    "}, /*capturingPhase=*/false );\n",
    "```\n",
    "此时引擎会明确的知道不需要再保留`someReallyBigData`变量。"
   ]
  },
  {
   "cell_type": "markdown",
   "metadata": {},
   "source": [
    "### 循环变量的作用域"
   ]
  },
  {
   "cell_type": "markdown",
   "metadata": {},
   "source": [
    "对于`let`来说，会在每一次循环在块作用域内部创建一个新的变量：\n",
    "```javascript\n",
    "for (let i=0; i<10; i++) {\n",
    "    console.log( i );\n",
    "}\n",
    "\n",
    "console.log( i ); // ReferenceError\n",
    "```\n",
    "与`var`不同，`let`声明的`i`是`for`后面的代码块中的变量，不仅如此，事实上它被绑定到了循环的每一个迭代中，即每一次迭代都会产生一个新的块作用域，实际上形同于如下的代码：\n",
    "```javascript\n",
    "{\n",
    "    let j;\n",
    "    for (j=0; j<10; j++) {\n",
    "        let i = j; // 每个迭代重新绑定！\n",
    "        console.log( i );\n",
    "    }\n",
    "}\n",
    "```"
   ]
  },
  {
   "cell_type": "markdown",
   "metadata": {},
   "source": [
    "### 循环和闭包"
   ]
  },
  {
   "cell_type": "markdown",
   "metadata": {},
   "source": [
    "这个不管是在javascript中还是python中，都是最出名的一个坑，实际上这个坑涉及到对闭包的理解，代码如下：\n",
    "```javascript\n",
    "for (var i = 1; i <= 5; i++) {\n",
    "\tsetTimeout(function timer() {\n",
    "\t\tconsole.log(i);\n",
    "\t}, i * 1000);\n",
    "}\n",
    "```\n",
    "程序连续输出5次6，因为每一次循环`setTimeout`都会将`time`函数放入事件驱动列表中，同时对全局变量`i`重新赋值，当`time`函数调用的时候，此时全局作用域就是一个闭包，`i`是全局变量的`i`为6。  \n",
    "可以像下面这样修改代码，为每一次循环创建一个作用域：\n",
    "```javascript\n",
    "for (var i = 1; i <= 5; i++) {\n",
    "\t(function(j) {\n",
    "\t\tsetTimeout(function timer() {\n",
    "\t\t\tconsole.log(j);\n",
    "\t\t}, j * 1000);\n",
    "\t})(i);\n",
    "}\n",
    "```\n",
    "ES6可以使用`let`关键字将块转换为一个封闭的作用域，同时当`let`在`for`的循环头部的时候，还有个特殊的行为，它会指出变量在循环过程中不止被声明一次， 每次迭代都会声明，也就是没次循环都会创建一个单独的作用域：\n",
    "```javascript\n",
    "for (let i=1; i<=5; i++) {\n",
    "    setTimeout( function timer() {\n",
    "    console.log( i );\n",
    "    }, i*1000 );\n",
    "}\n",
    "```"
   ]
  },
  {
   "cell_type": "markdown",
   "metadata": {},
   "source": [
    "## 关于this"
   ]
  },
  {
   "cell_type": "markdown",
   "metadata": {},
   "source": [
    "- [JavaScript的this原理](http://www.ruanyifeng.com/blog/2018/06/javascript-this.html)"
   ]
  },
  {
   "cell_type": "markdown",
   "metadata": {},
   "source": [
    "### 为什么要使用this"
   ]
  },
  {
   "cell_type": "markdown",
   "metadata": {},
   "source": [
    "一开始理解this，是通过`new function`创建对象这样的面对对象的思维方式去理解，这加大了理解的难度，javascript天生适合委托的设计模式，并不适合面对对象的模式。其实this不是必须的，this只是代表一个对象的引用。思考下面的代码：\n",
    "```javascript\n",
    "function printName(context){\n",
    "\tconsole.log(`my name is ${context.name}`)\n",
    "}\n",
    "\n",
    "obj = {\n",
    "\tname: \"foo\"\n",
    "}\n",
    "\n",
    "printName(obj)\n",
    "```\n",
    "而如果使用this的话，代码可以象下面这样：\n",
    "```javascript\n",
    "function printName(){\n",
    "\tconsole.log(`my name is ${this.name}`)\n",
    "}\n",
    "\n",
    "obj = {\n",
    "\tname: \"foo\",\n",
    "\tprintName: printName\n",
    "}\n",
    "\n",
    "obj.printName()\n",
    "```\n",
    "当函数作为对象的属性，通过一个对象调用函数，则this会和这个对象进行绑定，对象就是这个函数运行时的上下文。也可以通过`call`,`apply`手动的对this进行绑定，如下：\n",
    "```javascript\n",
    "function printName(){\n",
    "\tconsole.log(`my name is ${this.name}`)\n",
    "}\n",
    "\n",
    "obj = {\n",
    "\tname: \"foo\"\n",
    "}\n",
    "\n",
    "printName.call(obj)\n",
    "```\n",
    "this只是一种优雅的方式向函数传递运行时的上下文，也可以说在函数调用时，将引用函数的对象与this进行了动态的绑定。思考以下代码，进一步体会this到底是什么：\n",
    "```javascript\n",
    "function foo(num) {\n",
    "\tconsole.log(\"foo: \" + num);\n",
    "\t// 记录foo被调用的次数\n",
    "\t// 注意，在当前的调用方式下（参见下方代码），this确实指向 foo\n",
    "\tthis.count++;\n",
    "}\n",
    "foo.count = 0;\n",
    "var i;\n",
    "for (i = 0; i < 10; i++) {\n",
    "\tif (i > 5) {\n",
    "\t\t// 使用 call(..)可以确保this指向函数对象foo本身\n",
    "\t\tfoo.call(foo, i);\n",
    "\t}\n",
    "}\n",
    "```"
   ]
  },
  {
   "cell_type": "markdown",
   "metadata": {},
   "source": [
    "### 如何查看调用位置"
   ]
  },
  {
   "cell_type": "markdown",
   "metadata": {},
   "source": [
    "`this`只和运行时的调用位置有关，利用浏览器的开发者工具，在使用`this`的函数的第一行添加断点或者`debugger`，运行的时候可以看到调用堆栈。如下图，虽然函数经过各种引用，但其调用堆栈的上一层即为`(global)`，函数内部的`this`为`Window`全局对象。"
   ]
  },
  {
   "attachments": {
    "%E5%9B%BE%E7%89%87.png": {
     "image/png": "[encoded data removed]"
    }
   },
   "cell_type": "markdown",
   "metadata": {},
   "source": [
    "![%E5%9B%BE%E7%89%87.png](attachment:%E5%9B%BE%E7%89%87.png)"
   ]
  },
  {
   "cell_type": "markdown",
   "metadata": {},
   "source": [
    "### this绑定的四条规则"
   ]
  },
  {
   "cell_type": "markdown",
   "metadata": {},
   "source": [
    "1. 独立函数调用，可以看作无法应用其它任何规则时候的默认规则。注意：只有在非严格模式下，`this`才会和全局对象绑定，如果是在严格模式下，会抛出错误。\n",
    "\n",
    "\n",
    "2. 隐式绑定，即调用位置是否有上下文对象的引用，或者说是否被某个对象拥有或者包含。\n",
    "  - 如果存在对象引用链，只看最后一层的调用位置： \n",
    "    ```javascript\n",
    "    function foo() {\n",
    "        console.log(this.a);\n",
    "    }\n",
    "    var obj2 = {\n",
    "        a: 42,\n",
    "        foo: foo  //调用位置在这里\n",
    "    };\n",
    "    var obj1 = {\n",
    "        a: 2,\n",
    "        obj2: obj2\n",
    "    };\n",
    "    obj1.obj2.foo(); // 42\n",
    "    ```\n",
    "  - 隐式丢失，这是最常见的错误，如： \n",
    "    ```javascript\n",
    "    function foo() {\n",
    "        console.log(this.a);\n",
    "    }\n",
    "    var obj = {\n",
    "        a: 2,\n",
    "        foo: foo\n",
    "    };\n",
    "    var bar = obj.foo; // 函数别名！\n",
    "    var a = \"oops, global\"; // a 是全局对象的属性\n",
    "    bar(); // \"oops, global\"，调用位置在这，可以看到，调用的时候是以独立函数的方式调用，没有上下文\n",
    "    ```\n",
    "另一种常见的丢失发生在传入回调函数时或者说将函数作为参数传递时，如下：\n",
    "    ```javascript\n",
    "    function foo() {\n",
    "        console.log(this.a);\n",
    "    }\n",
    "\n",
    "    function doFoo(fn) {\n",
    "        // fn 其实引用的是 foo\n",
    "        fn(); // <-- 调用位置！\n",
    "    }\n",
    "    var obj = {\n",
    "        a: 2,\n",
    "        foo: foo\n",
    "    };\n",
    "    var a = \"oops, global\"; // a 是全局对象的属性\n",
    "    doFoo(obj.foo); // \"oops, global\"\n",
    "    ```\n",
    "参数传递时一种隐式的赋值，看起来函数通过`obj.foo`引用，但是实际调用位置在`fn()`，是一个独立函数。可以说，只要是函数作为参数进行传递，如果没有显式的绑定，都会发生`this`丢失。\n",
    "\n",
    "\n",
    "3. 利用`call`和`apply`进行显式绑定，这个很好理解，但是无法解决上面提到的隐式`this`丢失的问题，需要一点技巧：\n",
    "    ```javascript\n",
    "    function foo() {\n",
    "        console.log(this.a);\n",
    "    }\n",
    "\n",
    "    var obj = {\n",
    "        a: 2,\n",
    "        foo: foo\n",
    "    };\n",
    "\n",
    "    function baz() {   // 可以提供一个包装函数，在这个函数里面显式绑定，将这个函数作为回调函数传入bar\n",
    "        foo.call(obj)\n",
    "    }\n",
    "\n",
    "    setTimeout(baz, 2000)  // 比如setTimeout，直接传入foo会出现this丢失的情况\n",
    "    setTimeout(foo.bind(obj), 2000)  // 当然最简单的方法就是使用bind函数进行显式的绑定\n",
    "    ```\n",
    "另外，很多三方或者内置函数提供一个上下文参数，就是与回调函数进行绑定的对象。\n",
    "\n",
    "\n",
    "4. `new`绑定，当使用`new`关键字调用一个函数时，会创建一个空对象，并且把这个空对象与`this`进行绑定。"
   ]
  },
  {
   "cell_type": "markdown",
   "metadata": {},
   "source": [
    "### 优先级"
   ]
  },
  {
   "cell_type": "markdown",
   "metadata": {},
   "source": [
    "一般情况下，`this`绑定遵循以下的优先级：\n",
    "1. 函数是否在`new`中调用（`new`绑定）?如果是的话`this`绑定的是新创建的对象。\n",
    "2. 函数是否通过`call`、`apply`（显式绑定）或者硬绑定调用?如果是的话，`this`绑定的是指定的对象。\n",
    "3. 函数是否在某个上下文对象中调用（隐式绑定）?如果是的话，`this`绑定的是那个上下文对象。\n",
    "4. 如果都不是的话，使用默认绑定。如果在严格模式下，就绑定到`undefined`，否则绑定到全局对象。\n",
    "\n",
    "基本上很好理解，但是`new`和显式绑定的优先级还需要深入一下：\n",
    "```javascript\n",
    "function foo(something) {\n",
    "\tthis.a = something;\n",
    "}\n",
    "var obj1 = {};\n",
    "var bar = foo.bind(obj1);\n",
    "bar(2);\n",
    "console.log(obj1.a);  // 2\n",
    "var baz = new bar(3);  // bar中的this已经和obj1绑定，但是new仍然创建了一个新的对象替换了obj1，返回的baz也是一个新的对象\n",
    "console.log(obj1.a);  // 2\n",
    "console.log(baz.a);  // 3\n",
    "console.log(baz === obj1)  // false 可见new返回了一个新的对象\n",
    "```"
   ]
  },
  {
   "cell_type": "markdown",
   "metadata": {},
   "source": [
    "### 软绑定"
   ]
  },
  {
   "cell_type": "markdown",
   "metadata": {},
   "source": [
    "`bind`被称为硬绑定，因为`bind`绑定返回的函数不能再次绑定其它的对象：\n",
    "```javascript\n",
    "o1 = {\n",
    "\tname: \"o1\"\n",
    "}\n",
    "o2 = {\n",
    "\tname: \"o2\"\n",
    "}\n",
    "\n",
    "function func() {\n",
    "\tconsole.log(this.name)\n",
    "}\n",
    "\n",
    "f1 = func.softBind(o1)\n",
    "f1()  // 输出o1\n",
    "\n",
    "f2 = f1.softBind(o2)  // 注意，这里是f1，不是func,func是可以再次绑定的。\n",
    "f2()  // 仍然输出o1\n",
    "```\n",
    "《你不知道的javascript》提供了一个辅助函数，绑定以后返回的函数仍然可以绑定其它上下文：\n",
    "```javascript\n",
    "if (!Function.prototype.softBind) {\n",
    "\tFunction.prototype.softBind = function(obj) {\n",
    "\t\tvar fn = this;\n",
    "\t\tvar curried = [].slice.call(arguments, 1);  //arguments是类数组，不能直接arguments.slice(1)\n",
    "\t\tvar bound = function() {\n",
    "\t\t\treturn fn.apply(\n",
    "           // 注意这里的this，是将bound被调用时获取到的上下文,作为实参传递给apply\n",
    "\t\t\t\t!this || this === (window || global) ? obj : this,\n",
    "\t\t\t\tcurried.concat.apply(curried, arguments)  // 同样因为arguments是类数组，不能curried.concat(arguments)\n",
    "\t\t\t);\n",
    "\t\t};\n",
    "\t\tbound.prototype = Object.create(fn.prototype);\n",
    "\t\treturn bound;\n",
    "\t};\n",
    "}\n",
    "\n",
    "o1 = {\n",
    "\tname: \"o1\"\n",
    "}\n",
    "o2 = {\n",
    "\tname: \"o2\"\n",
    "}\n",
    "o3 = {\n",
    "   name: \"o3\",\n",
    "   func: func.softBind(o1)\n",
    "}\n",
    "\n",
    "function func() {\n",
    "\tconsole.log(this.name)\n",
    "}\n",
    "\n",
    "f1 = func.softBind(o1)\n",
    "f1()  // 输出o1\n",
    "\n",
    "f2 = f1.softBind(o2)\n",
    "f2()  // 输出o2\n",
    "\n",
    "o3.func() // 输出o3\n",
    "```\n",
    "注意该辅助函数在Chrome下通过，但是Firefox报错。ES6下利用`...`运算符稍作修改如下：\n",
    "```javascript\n",
    "if (!Function.prototype.softBind) {\n",
    "\tFunction.prototype.softBind = function(obj, ...curried) {\n",
    "\t\tvar fn = this;\n",
    "\t\tvar bound = function(...args) {\n",
    "\t\t\treturn fn.apply(\n",
    "\t\t\t\t!this || this === (window || global) ? obj : this,\n",
    "\t\t\t\tcurried.concat(args)\n",
    "\t\t\t);\n",
    "\t\t};\n",
    "\t\tbound.prototype = Object.create(fn.prototype);\n",
    "\t\treturn bound;\n",
    "\t};\n",
    "}\n",
    "```"
   ]
  },
  {
   "cell_type": "markdown",
   "metadata": {},
   "source": [
    "### 箭头函数和this"
   ]
  },
  {
   "cell_type": "markdown",
   "metadata": {},
   "source": [
    "箭头函数没有`this`，当在箭头函数中使用`this`，会在外部词法环境中查找`this`，但是之前一直不太理解下面这个例子：\n",
    "```javascript\n",
    "let o = {\n",
    "  a: 42,\n",
    "  sayhi(){\n",
    "    setTimeout(()=>console.log(this.a), 1000)\n",
    "  }\n",
    "}\n",
    "\n",
    "o.sayhi() // 输出42\n",
    "```\n",
    "当初觉得疑惑的是`()=>console.log(this.a)`作为参数传递给`setTimeout`，而词法环境是函数运行时创建的对象，那么它的外部词法环境不应该是`setTimeout`的词法环境吗？为什么是`sayhi`的词法环境呢？\n",
    "\n",
    "错误在于虽然词法环境是函数执行时创建的，但是看一个函数的外部词法环境，是看这个函数是在哪里定义的，定义时它所在的外部环境就是它外部词法环境。比如闭包：\n",
    "```javascript\n",
    "function func() {\n",
    "  const name = 'shy'\n",
    "\n",
    "  function sayhi() { \n",
    "    console.log(name)\n",
    "  }\n",
    "  return sayhi\n",
    "}\n",
    "\n",
    "const sayHi = func()\n",
    "sayHi() // 输出shy\n",
    "```\n",
    "`sayhi`是在`func`内部定义的，`func`的词法环境是当`func`执行的时候才创建，当`func`执行时，`sayhi`被定义，所以`sayhi`的内部属性`[[Environment]]`链接到`func`的词法环境。\n",
    "\n",
    "回到上面的例子，`()=>console.log(this.a)`并不是在`setTimeout`内部定义的，而是在`sayhi`执行时，在`sayhi`的内部定义的，所以它的外部词法环境是`sayhi`的词法环境，比如下面的例子：\n",
    "```javascript\n",
    "function func() {\n",
    "  console.log(\"print is: \" + print)\n",
    "  sayhi(function print() {\n",
    "    console.log('hello world')\n",
    "  })\n",
    "}\n",
    "\n",
    "function sayhi(func) {\n",
    "  func()\n",
    "}\n",
    "\n",
    "func()\n",
    "```\n",
    "输出为:\n",
    "```\n",
    "print is: function print() {\n",
    "    [native code]\n",
    "}\n",
    "hello world\n",
    "```\n",
    "可见，函数`print`是在`func`内部定义的，而不是`sayhi`内部定义的。所以虽然`()=>console.log(this.a)`作为参数传递给`setTimeout`，但是它是在`sayhi`内部定义的，`()=>console.log(this.a)`的外部词法环境是`sayhi`，因此它内部的`this`，就是`sayhi`的`this`。"
   ]
  },
  {
   "cell_type": "markdown",
   "metadata": {},
   "source": [
    "### 一些例子"
   ]
  },
  {
   "cell_type": "markdown",
   "metadata": {},
   "source": [
    "这里收集了一些例子，加强对`this`的理解：\n",
    "\n",
    "例1：\n",
    "```javascript\n",
    "function foo() {\n",
    "\tconsole.log(this.a);\n",
    "}\n",
    "\n",
    "var a = 2;\n",
    "var o = {\n",
    "\ta: 3,\n",
    "\tfoo: foo\n",
    "}\n",
    "var p = {\n",
    "\ta: 4\n",
    "};\n",
    "o.foo(); // 3\n",
    "(p.foo = o.foo)(); // 2,这里发生了this丢失\n",
    "\n",
    "// p.foo = o.foo\n",
    "// p.foo()  //如果先赋值再调用则会返回4，正确绑定到p对象\n",
    "```\n",
    "`(p.foo = o.foo)`是一个表达式，返回的其实是等号右边的值，注意，这里返回的不是`o.foo`，仅仅只是`foo`的引用。因此发生了`this`丢失，`this`实际与全局对象进行了绑定。"
   ]
  },
  {
   "cell_type": "markdown",
   "metadata": {},
   "source": [
    "## 函数"
   ]
  },
  {
   "cell_type": "markdown",
   "metadata": {},
   "source": [
    "- [JavaScript 中 call()、apply()、bind() 的用法](https://www.runoob.com/w3cnote/js-call-apply-bind.html)"
   ]
  },
  {
   "cell_type": "markdown",
   "metadata": {},
   "source": [
    "### 函数声明和函数表达式的区别"
   ]
  },
  {
   "cell_type": "markdown",
   "metadata": {},
   "source": [
    "看如下代码：\n",
    "```javascript\n",
    "(function foo(){ // <-- 添加这一行\n",
    "    var a = 3;\n",
    "    console.log( a ); // 3\n",
    "})(); // <-- 以及这一行\n",
    "console.log( a ); // 2\n",
    "```\n",
    "`(function...`说明这是一个函数表达式而不是一个函数声明，区分是函数声明还是表达式主要看`function`关键字出现在声明中的位置（不仅仅是一行代码， 而是整个声明中的位置）。如果`function`是声明中的第一个词，那么就是一个函数声明，否则就是一个函数表达式。\n",
    "\n",
    "总结一下：\n",
    "1. 函数声明和函数表达式之间最重要的区别是它们的名称标识符将会绑定在何处。对于函数声明来说，函数名称标识符会绑定到上层作用域，这个例子中就是全局作用域。而如果是函数表达式，则函数名称标识符只会绑定到其本身的函数作用域内。\n",
    "2. 函数表达式可以是匿名的，即不需要名称标识符，而函数声明必须要名称标识符，否则会抛出`SyntaxError`语法错误。\n",
    "3. 函数表达式返回函数自身，因此可以直接执行，函数声明返回`undefined`。\n",
    "\n",
    "匿名函数表达式降低了代码的可读性，不能在函数内部引用自身，不利于调试，因此应该始终给函数表达式命名。"
   ]
  },
  {
   "cell_type": "markdown",
   "metadata": {},
   "source": [
    "### 函数声明提升"
   ]
  },
  {
   "cell_type": "markdown",
   "metadata": {},
   "source": [
    "函数声明也会提升，但是要注意，和变量不同的是，函数声明和赋值是同时的，也就是说，定义函数的代码块整体都会提升，而不像变量，只提升标识符，赋值表达式还留在原地。如下：\n",
    "```javascript\n",
    "foo(); // 函数整体提升，输出2\n",
    "\n",
    "function foo() {\n",
    "    var a = 2;\n",
    "    console.log( a ); \n",
    "} \n",
    "```\n",
    "上面的代码其实相当于：\n",
    "```javascript\n",
    "function foo() {\n",
    "    var a = 2;\n",
    "    console.log( a ); \n",
    "} \n",
    "\n",
    "foo(); // 函数整体提升，输出2\n",
    "```\n",
    "但是注意，函数声明会提升，但是函数表达式不会提升：\n",
    "```javascript\n",
    "foo(); // 不是ReferenceError, 而是TypeError!\n",
    "\n",
    "var foo = function bar() {\n",
    "// ...\n",
    "};\n",
    "```\n",
    "这里`foo`标识符提升了，但是提升以后是`undefined`，因此`foo()`会抛出`TypeError`而不是`ReferenceError`。  \n",
    "注意，最新版本的浏览器和node环境中，块中的函数声明会提前，但是定义不会提前：\n",
    "```javascript\n",
    "foo(); // 抛出TypeError错误\n",
    "var a = true;\n",
    "if (a) {\n",
    "\tfunction foo() { console.log(\"a\"); }\n",
    "}\n",
    "else {\n",
    "\tfunction foo() { console.log(\"b\"); }\n",
    "}\n",
    "\n",
    "// foo() 如果放在这里，则会输入'a'\n",
    "```\n",
    "\n",
    "如果有同名的函数和变量，函数会优先提升，思考下面的代码：\n",
    "```javascript\n",
    "foo() // 输出42\n",
    "\n",
    "function foo(){\n",
    "\tconsole.log(42)\n",
    "}\n",
    "\n",
    "var foo\n",
    "\n",
    "foo = function bar(){\n",
    "\tconsole.log(24)\n",
    "}\n",
    "```\n",
    "由于函数比变量优先提升，因此上面的代码相当于：\n",
    "```javascript\n",
    "function foo(){\n",
    "\tconsole.log(42)\n",
    "}\n",
    "\n",
    "//因为foo已经声明，所以var foo会被忽略\n",
    "foo()\n",
    "\n",
    "foo = function bar(){\n",
    "\tconsole.log(24)\n",
    "}\n",
    "```\n",
    "总而言之，同一个作用域不要重复声明，容易出问题。尽量使用`let`和`const`进行声明，重复声明的时候会抛出错误。"
   ]
  },
  {
   "cell_type": "markdown",
   "metadata": {},
   "source": [
    "### 柯里化"
   ]
  },
  {
   "cell_type": "markdown",
   "metadata": {},
   "source": [
    "所谓柯里化就是预先设置函数的一些参数，类似python的`partial`，在javascript中主要依靠`bind`来实现。\n",
    "```javascript\n",
    "function func(a, b){\n",
    "\treturn a + b\n",
    "}\n",
    "\n",
    "f = func.bind(null, 2)  // 因为func内部没有this，所以不需要传入任何上下文\n",
    "console.log(f(3))\n",
    "```\n",
    "需要注意的一点是，如果`func`内部存在`this`，且使用`new`来调用，那么`bind`的第一个参数可以是任意值，`new`总是会创建一个新的对象，替换掉`func`内部的`this`，见关于this优先级一节。\n",
    "\n",
    "还有一个地方要特别注意，第一个参数经常会设置为`null`或者`undefined`。但是要注意，在`bind`内部，如果第一个参数如果是`null`或者`undefined`，此时会把`this`与全局对象绑定。比如：\n",
    "```javascript\n",
    "function func(b){\n",
    "\treturn this.a + b\n",
    "}\n",
    "\n",
    "f = func.bind(null, 2)\n",
    "var a=42\n",
    "\n",
    "console.log(f())  // 输出44\n",
    "```\n",
    "因此，比较安全的方法是使用`Object.create`创建一个真正的空对象，传入`bind`。如下：\n",
    "```javascript\n",
    "function func(b){\n",
    "\treturn this.a + b\n",
    "}\n",
    "\n",
    "ø = Object.create(null)  // ø表示空集，使用alt+0248可以打印\n",
    "f = func.bind(ø, 2)\n",
    "\n",
    "console.log(f())  // 输出为NaN，因为ø.a为undefined,undefined转换为数字为NaN，因此最终结果为NaN\n",
    "```"
   ]
  },
  {
   "cell_type": "markdown",
   "metadata": {},
   "source": [
    "### 箭头函数"
   ]
  },
  {
   "cell_type": "markdown",
   "metadata": {},
   "source": [
    "箭头函数有个比较容易忽视的地方就是加不加大括号的区别，不加大括号，最后默认返回，加大括号，默认不返回，比如：\n",
    "```javascript\n",
    "let r1 = () => 42\n",
    "r1()  // 返回42\n",
    "let r2 = () => {42}\n",
    "r2()  // 不返回任何值\n",
    "```"
   ]
  },
  {
   "cell_type": "markdown",
   "metadata": {},
   "source": [
    "## 解构赋值"
   ]
  },
  {
   "cell_type": "markdown",
   "metadata": {},
   "source": [
    "### 解构赋值表达式和声明语句"
   ]
  },
  {
   "cell_type": "markdown",
   "metadata": {},
   "source": [
    "先看三段代码：\n",
    "```javascript\n",
    "// 代码一\n",
    "let {a, b} = {a: 42, b: 24}\n",
    "\n",
    "//代码二，node和chrome通过，firefox报语法错误\n",
    "let a, b\n",
    "{a, b} = {a: 42, b: 24}\n",
    "//firefox下需要加括号，({a, b} = {a: 42, b: 24})\n",
    "\n",
    "//代码三，与二类似，不过默认使用var声明了a,b变量\n",
    "{a, b} = {a: 42, b: 24}\n",
    "```\n",
    "对于代码一来说，因为使用了`let`关键字，因此是一个声明语句，不返回任何值。而对于代码二来说，是一个解构赋值表达式，对于赋值表达式（有=号就是赋值表达式）来说，返回等号右边的值。因此，可以在函数调用的时候，可以类似这样的写法：`function({a, b}={a:24, b:42})`，此时传入函数的是`{a:24, b:42}`对象，具体见下一节。\n",
    "\n",
    "这里还有个细节就是，对于代码二，由于没有使用`let`，`const`或者`var`关键字进行声明，所以对于`{}`，部分浏览器会认为是一个块语句，而块语句不允许出现在等号左边，因此会报语法错误。需要加上括号，明确表明这是一个赋值表达式才行。"
   ]
  },
  {
   "cell_type": "markdown",
   "metadata": {},
   "source": [
    "### 参数解构和解构赋值"
   ]
  },
  {
   "cell_type": "markdown",
   "metadata": {},
   "source": [
    "函数的解构赋值和参数解构有几个坑，特记录如下：\n",
    "1. 参数解构是在函数定义的时候，看如下的代码：\n",
    "\n",
    "```javascript\n",
    "function func({ name, age } = { name: \"shy\", age: 40 }) {\n",
    "  console.log(`${name}'s age is ${age}`);\n",
    "}\n",
    "\n",
    "func();\n",
    "```\n",
    "输出为：\n",
    "```\n",
    "shy's age is 40\n",
    "```\n",
    "这里,`{ name: \"shy\", age: 40 }`是参数的默认值，参数解构和普通的参数不同，这里相当于如下的代码：\n",
    "```javascript\n",
    "function func(obj={name: \"shy\", age: 40}){\n",
    "    let {name, age}=obj;\n",
    "    console.log(`${name}'s age is ${age}`)\n",
    "```\n",
    "此时,`name`和`age`变量相当于是在函数体内定义的，所以不能在函数体内重新定义：\n",
    "```javascript\n",
    "function func({ name, age } = { name: \"shy\", age: 40 }) {\n",
    "  let name;\n",
    "  console.log(`${name}'s age is ${age}`);\n",
    "}\n",
    "```\n",
    "此时会报错。<font color=\"red\">**重点是参数解构里的变量是定义在函数体内的。**</font>普通的函数参数是可以在函数体内重新定义的（这一点还没明白，普通参数是否有额外的作用域）。\n",
    "2. 而解构赋值是在函数运行的时候定义的，看如下的代码：\n",
    "\n",
    "```javascript\n",
    "let name, age;\n",
    "\n",
    "obj = {name:'shy', age:40}\n",
    "\n",
    "function func(obj){\n",
    "  console.log(`${obj.name}'s age is ${obj.age}`)\n",
    "}\n",
    "\n",
    "func({name, age}=obj)\n",
    "console.log(name)\n",
    "console.log(age)\n",
    "```\n",
    "此时输出为：\n",
    "```\n",
    "shy's age is 40\n",
    "shy\n",
    "40\n",
    "```\n",
    "这里，调用参数时，`{name, age}=obj`其实是一个赋值语句，所有的赋值语句返回等号右边的值，因此这里先将`obj`解构赋值给函数体外的`name`和`age`变量，然后再返回`obj`对象，最后将`obj`对象传入给函数。因此这里的`name`和`age`是函数体外的变量。注意，`name`和`age`必须是已经存在的变量，不能是`func(let {name, age}=obj)`这样的调用方式，函数调用不允许出现`let`关键字，而且`let {name, age}=obj`是声明语句而不是赋值语句，声明语句返回的是`undefined`。所以，<font color=\"red\">**所以，解构赋值的重点是变量是函数体外已经声明的变量，而且传入的是赋值语句右边的值。**</font>\n",
    "\n",
    "最后，思考以下几个参数解构的输出：\n",
    "```javascript\n",
    "function move ({ x = 0, y = 0} = {}) {\n",
    "    return [x, y];\n",
    "}\n",
    "\n",
    "function move ({ x = 0, y = 0}) {\n",
    "    return [x, y];\n",
    "}\n",
    "\n",
    "function move({x, y} = { x: 0, y: 0 }) {\n",
    "    return [x, y];\n",
    "}\n",
    "```"
   ]
  },
  {
   "cell_type": "markdown",
   "metadata": {},
   "source": [
    "## 异步编程"
   ]
  },
  {
   "cell_type": "markdown",
   "metadata": {},
   "source": [
    "### promise.resolve()和promise.reject()"
   ]
  },
  {
   "cell_type": "markdown",
   "metadata": {},
   "source": [
    "如果向两者传入的是值，那么`promise.resolve()`返回的一个已完成的`promise`，`promise.reject`返回一个已拒绝的`promise`。如果传入的是一个`thenable`对象，则两者行为差异很大：\n",
    "1. `promise.resolve`的行为类似`Promise`构造器，但是和构造器不同的是，它不会立即执行，而是返回一个`pending`状态的`promise`，如下：\n",
    "\n",
    "```javascript\n",
    "let thenable = {\n",
    "  // function函数放在循环最后执行\n",
    "  then: function(resolve, reject) {\n",
    "    console.log(\"start\");\n",
    "    resolve(42);\n",
    "    console.log(\"end\");\n",
    "  }\n",
    "};\n",
    "\n",
    "// 返回pending状态的promise\n",
    "let p = Promise.resolve(thenable);\n",
    "\n",
    "// 在function函数之后执行\n",
    "p.then(function(value) {\n",
    "  console.log(value); // 42\n",
    "});\n",
    "\n",
    "console.log(p);\n",
    "```\n",
    "如下，返回的结果是：\n",
    "```javascript\n",
    "Promise { <pending> }\n",
    "start\n",
    "end\n",
    "42\n",
    "```\n",
    "与构造器不同的是，当将`thenable`对象传入`resolve`方法时，会先返回一个`pending`的`promise`，同时将`then`方法放在主循环最后运行，当运行到`resolve`语句时，会将`promise`状态设置为已完成，将已完成对应的回调函数又放在循环最后。\n",
    "\n",
    "而构造器的执行过程如下：\n",
    "```javascript\n",
    "let p = new Promise(function(resolve, reject){\n",
    "  // 立即执行\n",
    "  console.log(\"start\")\n",
    "  resolve(42)\n",
    "  console.log(\"end\")\n",
    "})\n",
    "\n",
    "// 主循环最后执行\n",
    "p.then(function(value){\n",
    "  console.log(value)\n",
    "})\n",
    "\n",
    "console.log(p)\n",
    "```\n",
    "返回结果为：\n",
    "```javascript\n",
    "start\n",
    "end\n",
    "Promise { 42 }\n",
    "42\n",
    "```\n",
    "当创建`promise`的时候，就会运行传入的执行器函数，执行到`resolve`方法时，会将`promise`状态设置为已完成，对应的回调函数放在循环最后执行。\n",
    "\n",
    "所以，当传入`promise.resolve`的是`thenable`对象时，行为与`promise`构造器类似，但是执行的顺序有点差异。\n",
    "\n",
    "2. 对于`promise.reject`而言，不管传入的是什么，都会返回一个拒绝的`promise`，把传入的内容原封不动的传给拒绝状态对应的回调函数。\n",
    "\n",
    "```javascript\n",
    "let thenable = {\n",
    "  then: function(resolve, reject) {\n",
    "    console.log(\"start\");\n",
    "    resolve(42);\n",
    "    console.log(\"end\");\n",
    "  }\n",
    "};\n",
    "let p = Promise.reject(thenable);\n",
    "\n",
    "p.catch(function(value) {\n",
    "  console.log(value); // 42\n",
    "});\n",
    "\n",
    "console.log(p);\n",
    "```\n",
    "返回结果如下：\n",
    "```javascript\n",
    "Promise { <rejected> { then: [Function: then] } }\n",
    "{ then: [Function: then] }\n",
    "```\n",
    "整个对象作为`value`传入回调函数，`then`对象的函数并未执行。"
   ]
  },
  {
   "cell_type": "markdown",
   "metadata": {},
   "source": [
    "### async函数"
   ]
  },
  {
   "cell_type": "markdown",
   "metadata": {},
   "source": [
    "- [理解 JavaScript 的 async/await](https://www.jianshu.com/p/7814f36ecbe4)"
   ]
  },
  {
   "cell_type": "markdown",
   "metadata": {},
   "source": [
    "## 类和继承"
   ]
  },
  {
   "cell_type": "markdown",
   "metadata": {},
   "source": [
    "### 类中的`this`"
   ]
  },
  {
   "cell_type": "markdown",
   "metadata": {},
   "source": [
    "类的静态方法中的`this`和普通方法中的`this`是不一样的：\n",
    "1. 静态方法中的`this`指的是类本身：\n",
    "\n",
    "```javascript\n",
    "class C{\n",
    "  static sf(){\n",
    "    console.log(this)\n",
    "  }\n",
    "}\n",
    "\n",
    "C.sf()\n",
    "```\n",
    "输出为：`[Function: C]`\n",
    "2. 普通方法中的`this`指的是类的实例，也就是类生成的对象：\n",
    "\n",
    "```javascript\n",
    "class C{\n",
    "  constructor(name){\n",
    "    this.name = name\n",
    "  }\n",
    "  func(){\n",
    "    console.log(this)\n",
    "  }\n",
    "}\n",
    "\n",
    "let c = new C(\"telecomshy\")\n",
    "c.func()\n",
    "```\n",
    "输出为：`C { name: 'telecomshy' }`"
   ]
  },
  {
   "cell_type": "markdown",
   "metadata": {},
   "source": [
    "### 类的继承和super"
   ]
  },
  {
   "cell_type": "markdown",
   "metadata": {},
   "source": [
    "首先，ES6的`class`其实只是一个构造函数的语法糖，所谓的`class`其实就是`constructor`构造函数本身，方法都是定义在`constructor`构造函数的`prototype`属性上的。那么如果要继承这个构造函数的话，显然在其子类中，要做两件事：\n",
    "1. 子类的构造函数中要能调用父类的构造函数。\n",
    "2. 子类的`prototype`属性要能引用父类的`prototype`属性。\n",
    "3. 另外还有一点，子类的类方法，也就是子类`constructor`构造函数的属性，要能引用父类的类方法，这一点其实和第一点类似。\n",
    "\n",
    "可见，要完全继承父类，不光需要能在子函数中（这里把子类称为子函数，能帮助理解，因为始终要明确子类，父类都是函数）能调用并执行父类的构造函数，而且子函数的`prototype`对象也要能引用父函数的`prototype`对象，因此，子函数有两条继承链：\n",
    "1. 子函数的`__proto__`属性直接指向父函数，注意，此时，`super`是一个函数，这样通过子函数创建对象的时候，调用父函数。\n",
    "2. 子函数的`prototype`属性对象中的`__proto__`指向父函数的`prototype`对象，注意，此时`super`是一个对象，这样子函数创建的对象才有可能通过这个继承链，调用到父函数`prototype`中的方法。\n",
    "\n",
    "因此，`javascript`的继承，实际上就是执行了下面的代码：\n",
    "```javascript\n",
    "// B 的实例继承 A 的实例\n",
    "Object . setPrototypeOf(B.prototype, A.prototype);\n",
    "// B 的实例继承 A 的静态属性\n",
    "Object.setPrototypeOf(B, A);\n",
    "```\n",
    "`Object.setPrototypeOf`就是把第一个参数的`__proto__`属性，设置为第二个参数。\n",
    "\n",
    "理解以上继承链的关系，`super`关键字就很好理解了：\n",
    "1. 在构造函数和静态方法中，`super`实际上引用的是`__proto__`属性指向的父函数（绑定的时候绑定子函数的this），也就是父类，因为要创建对象或者使用父函数的静态方法，必须引用父函数。\n",
    "2. 在普通方法中，`super`实际上引用的是`prototype.__proto__`属性指向的父函数的`prototype`对象。"
   ]
  },
  {
   "cell_type": "markdown",
   "metadata": {},
   "source": [
    "## 错误处理"
   ]
  },
  {
   "cell_type": "markdown",
   "metadata": {},
   "source": [
    "### 打印错误"
   ]
  },
  {
   "cell_type": "markdown",
   "metadata": {},
   "source": [
    "直接`console.log(error)`和`console.log('${error}')`是不同的。前者会把堆栈的内容打印出来，后者只会打印文本内容。"
   ]
  },
  {
   "cell_type": "markdown",
   "metadata": {},
   "source": [
    "## Javascript和DOM"
   ]
  },
  {
   "cell_type": "markdown",
   "metadata": {},
   "source": [
    "### DOM基本概念"
   ]
  },
  {
   "cell_type": "markdown",
   "metadata": {},
   "source": [
    "1. 整个的页面，注意是html文件而不是浏览器的标签页或者窗口，是一个`document`对象。\n",
    "2. 页面中的所有东西，都是一个个的node对象，包括`document`对象本身，是一个`node`对象，其`nodetype`为9。\n",
    "3. 其中几个主要的页面元素对象，比如`body`,`title`,`head`，可以直接通过`document`的相应属性直接访问，比如`document.head`,`document.body`。DOM树的根节点，即`html`元素对象，通过`document.documentElement`访问。\n",
    "4. `node`节点分不同的类型，主要记住2个，标签节点的`nodetype`为1，可以用`document.ELEMENT_NODE`常量表示，文本节点的`nodetype`为3,也可以用`document.TEXT_NODE`表示。\n",
    "5. 任意字符，比如回车、空格，不管其位置在哪里，是元素节点的子节点也好，元素节点之间也好，都属于文本节点。"
   ]
  },
  {
   "cell_type": "markdown",
   "metadata": {},
   "source": [
    "### 查找节点"
   ]
  },
  {
   "cell_type": "markdown",
   "metadata": {},
   "source": [
    "DOM查找有两种方法，其中`querySelector`和`querySelectorAll`是html5新增的查找方法：\n",
    "1. `querySelector`方法，这种方法根据CSS选择器查找，找到返回的结果总是node节点对象本身，即使是找到多个节点，也只返回第一个节点。\n",
    "2. 可以通过`querySlectorAll`方法根据CSS选择器返回多个节点对象，注意此时返回的是一个`NodeList`对象，可以使用`for...of`方法。但它仍然不是一个真正的数组，要转换成数组，可以用`array.from`方法。\n",
    "3. `getElementsByTagName`系列方式，这种方法返回的结果总是一个`HTMLCollection`的类数组对象，因此还需要通过中括号的方式才能获取到节点。注意:`HTMLCollection`是一个类数组对象，并不能直接使用javascript的`for...of`循环或者直接调用一些数组方法。只能使用`for(let i=0;i<result.length;i++)`这样的方式进行循环。\n",
    "4. 注意，上面的系列方法都是`getElements`，复数开头，返回的是类数组对象，有个例外是`getElementById`，其返回的是节点，因为也不可能有多个相同的`id`。\n",
    "5. `querySelector`和`getElement`方法有个很大的区别是前者是静态的，修改文档不会引起前者内容的变化，而后者是动态变更的，文档被修改，后者内容也跟着变更。\n",
    "\n",
    "另外还有几点要注意：\n",
    "1. 不管是查找子节点还是查找兄弟节点，往往有一个专门的方法只查找元素节点，比如查找子元素节点的`children`方法，查找兄弟节点的`previousElementSiblings`方法。\n",
    "2. 文本节点的`nodeValue`是其文本的内容，`nodeName`为`#text`，元素节点的`nodeValue`是`null`，`nodeName`是其标签的大写。\n",
    "3. 如果是元素节点，可以通过`textContent`直接获取其文本子节点的内容。注意，会获取所有子孙节点的文本内容，包括元素节点之间的空格，回车等等。比如：\n",
    "```html\n",
    "<p>I also wrote a book! Read it\n",
    "  <a href=\"http://eloquentjavascript.net\">here:<span>《javascript编程精解》</span></a>.</p>\n",
    "```\n",
    "javascript代码为：\n",
    "```javascript\n",
    "console.log(document.getElementsByTagName(\"p\")[0].textContent)\n",
    "```\n",
    "输出为：\n",
    "```\n",
    "I also wrote a book! Read it\n",
    "      here:《javascript编程精解》.\n",
    "```\n",
    "4. 不能直接获取到文本节点，只能先获取元素节点，再通过`childNodes`或者`firstChild`等方法获取文本节点。"
   ]
  },
  {
   "cell_type": "markdown",
   "metadata": {},
   "source": [
    "### 修改节点"
   ]
  },
  {
   "cell_type": "markdown",
   "metadata": {},
   "source": [
    "1. `remove`表示从当前父节点中移除，`appendChild`表示添加子节点，并且放在所有子节点的末尾。`insertBefore`表示在子节点之前插入。注意，所有这些方法都是在父节点上调用，不能在祖辈节点上调用，否则会报错。比如：\n",
    "```html\n",
    "<body>\n",
    "    <h1>My home page</h1>\n",
    "    <p>Hello, I am Marijn and this is my home page.</p>\n",
    "    <p>I also wrote a book! Read it\n",
    "      <a id=\"myLink\" href=\"http://eloquentjavascript.net\">here:<span>《javascript编程精解》</span></a>.</p>\n",
    "</body>\n",
    "```\n",
    "如果要将`p2`移动到`p1`之前，只能通过`document.body.insertBefore`调用，不能使用`document`或者`documentElment`调用。\n",
    "2. `replaceChild`表示替换掉子节点，和`insertBefore`一样，接受2个参数，新节点在前，旧节点在后，必须在父节点上调用方法。"
   ]
  },
  {
   "cell_type": "markdown",
   "metadata": {},
   "source": [
    "### 创建节点"
   ]
  },
  {
   "cell_type": "markdown",
   "metadata": {},
   "source": [
    "使用`createTextNode(string)`创建文本节点，`createElement(label)`创建元素节点。"
   ]
  },
  {
   "cell_type": "markdown",
   "metadata": {},
   "source": [
    "### 节点属性"
   ]
  },
  {
   "cell_type": "markdown",
   "metadata": {},
   "source": [
    "1. html中标签内的任何标准属性都可以通过节点对象的同名属性获取，但是html标签中也可以自定义属性，这种子定义属性无法通过节点对象的同名属性获取，只能通过节点对象的`getAttribute`获取。\n",
    "2. 注意`class`属性是javascript的保留字，不能直接通过节点对象的`class`属性获取，而要通过`className`获取，不过如果是使用`getAttribute`或者`setAttribute`，则可以使用`class`。"
   ]
  },
  {
   "cell_type": "markdown",
   "metadata": {},
   "source": [
    "### 节点布局"
   ]
  },
  {
   "cell_type": "markdown",
   "metadata": {},
   "source": [
    "- [详解DOM对象中clientWidth、offsetWidth等属性](https://blog.csdn.net/hu_yewen/article/details/89354192)\n",
    "\n",
    "\n",
    "1. `offsetWidth`和`offsetHeight`给出元素的起始位置。\n",
    "2. `clientWidth`和`clientHeight`提供元素内的空间大小，忽略边框宽度。\n",
    "3. `getBoundingClientRect`方法是获取屏幕中某个元素精确位置的最有效方法。"
   ]
  },
  {
   "cell_type": "markdown",
   "metadata": {},
   "source": [
    "### 样式"
   ]
  },
  {
   "cell_type": "markdown",
   "metadata": {},
   "source": [
    "javascirpt中的样式对象的属性名全部移除了破折号，并且破折号后的第一个字母大写，比如要引用`font-family`样式，javascript中要写成:\n",
    "```javascript\n",
    "const el = document.getElementById('name')\n",
    "console.log(el.style.fontFamily)\n",
    "```"
   ]
  },
  {
   "cell_type": "markdown",
   "metadata": {},
   "source": [
    "## Javascript和事件"
   ]
  },
  {
   "cell_type": "markdown",
   "metadata": {},
   "source": [
    "- [官方所有事件参考](https://developer.mozilla.org/zh-CN/docs/Web/Events)\n",
    "- [深入浅出Javascript事件循环机制(上)](https://zhuanlan.zhihu.com/p/26229293)\n",
    "- [深入浅出JavaScript事件循环机制(下)](https://zhuanlan.zhihu.com/p/26238030)\n",
    "\n",
    "\n",
    "- [The JavaScript Event Loop](https://www.vikingcodeschool.com/falling-in-love-with-javascript/the-javascript-event-loop)\n",
    "- [The JavaScript Event Loop](https://thomashunter.name/posts/2013-04-27-the-javascript-event-loop-presentation)"
   ]
  },
  {
   "cell_type": "markdown",
   "metadata": {},
   "source": [
    "### event.target和event.currentTarget"
   ]
  },
  {
   "cell_type": "markdown",
   "metadata": {},
   "source": [
    "当发生事件传播的时候，`event.target`指触发事件的节点，而`event.currentTarget`指触发回调函数的节点，比如如下的列表：\n",
    "```html\n",
    "<ul>\n",
    "  <li>A</li>\n",
    "  <li>B</li>\n",
    "  <li>C</li>\n",
    "</ul>\n",
    "```\n",
    "以及如下的javascript代码：\n",
    "```javascript\n",
    "const ul = document.querySelector(\"ul\")\n",
    "ul.addEventListener(\"click\", event => {\n",
    "  console.log(event.target.textContent)\n",
    "  console.log(event.currentTarget)\n",
    "})\n",
    "```\n",
    "当点击A的时候，`event.target`指向的节点是第一个`li`节点，而`event.currentTarget`指向的是`ul`节点。其它情况下，`event.target`和`event.currentTarget`指的是同一个节点。"
   ]
  },
  {
   "cell_type": "markdown",
   "metadata": {},
   "source": [
    "### 默认动作"
   ]
  },
  {
   "cell_type": "markdown",
   "metadata": {},
   "source": [
    "大多数事件有相关联的默认动作，比如点击a链接跳转，右键显示菜单，对于大多数类型的事件，JavaScript的事件处理器会在默认行为发生之前调用。这样就可以在事件上调用`event.preventDefault()`来阻止默认的动作，比如禁止右键显示菜单：\n",
    "```javascript\n",
    "window.addEventListener(\"contextmenu\", event=>{\n",
    "  console.log(\"right click is forbidden!\")\n",
    "  event.preventDefault()\n",
    "})\n",
    "```\n",
    "注意：右键菜单是`contextmenu`事件，另外，如果要在整个页面上禁止右键，可以在`window`或者`document`对象上添加`contextmenu`事件，不能在`document.body`上添加事件，因为`document.body`只是整个页面的一部分。"
   ]
  },
  {
   "cell_type": "markdown",
   "metadata": {},
   "source": [
    "## 常用代码片段收集"
   ]
  },
  {
   "cell_type": "markdown",
   "metadata": {},
   "source": [
    "### javascript的any和all"
   ]
  },
  {
   "cell_type": "markdown",
   "metadata": {},
   "source": [
    "javascript可以用`some`和`every`两个数组方法起到python的any和all的作用：\n",
    "- `arr.some`，传入一个函数，检测每个元素，一旦发现有为真的则返回`true`，否则返回`false`:\n",
    "```javascript\n",
    "var ages = [3, 10, 18, 20];\n",
    "ages.some(num => num>=18)\n",
    "```\n",
    "注意：返回是布尔值，空数组不检测。\n",
    "\n",
    "- `arr.every`，顾名思义，所有为真则返回`true`，否则返回`false`\n",
    "```javascript\n",
    "var ages = [3, 10, 18, 20]\n",
    "ages.every(num => num > 18)\n",
    "```"
   ]
  },
  {
   "cell_type": "markdown",
   "metadata": {},
   "source": [
    "## 问题收集"
   ]
  },
  {
   "cell_type": "markdown",
   "metadata": {},
   "source": [
    "### `Array.apply(null, {length: 3}).map(Number.call, Number);`输出为啥是`[0, 1, 2]`？"
   ]
  },
  {
   "cell_type": "markdown",
   "metadata": {},
   "source": [
    "- [stackoverflow原帖](https://stackoverflow.com/questions/18947892/creating-range-in-javascript-strange-syntax/62466002#62466002)\n",
    "\n",
    "好吧，这个问题是在学习`Array.apply(null, {length:3}`时候在`stackoverflow`上发现的，另外对帖子对`call.call`的调用有些想法。这句短短的代码其实涉及很多高级知识，首先这句代码可以分文两个部分：\n",
    "1. `Array.apply(null, {length: 3})`返回一个`[undefined, undefined, undefined]`的数组。\n",
    "2. 执行`[undefined, undefined, undefined].map(Number.call, Number)`\n",
    "\n",
    "具体的解释帖子已经很详细，这里大致解释一下，先来看第一个阶段：\n",
    "1. `apply`的第二个参数其实是个类数组对象，假设这样的代码：`Array.apply(null, arrObj)`，在`apply`内部，会执行类似下面的代码：\n",
    "```javascript\n",
    "arr = []\n",
    "for(var i=0;i<arrObj.length; i++){\n",
    "    arr[i] = arrObj[i]\n",
    "}\n",
    "return arr\n",
    "```\n",
    "因此，你可以这样创建数组：`arr = Array.apply(null, {length:3, 0:42, 1:24})`，结果为：`[ 42, 24, undefined ]`。而如果`arrObj`只有`length`属性，显然就创建了一个包含3个值为`undefined`的数组。\n",
    "\n",
    "\n",
    "2. 再来看第二个阶段，里面又分几个部分。首先看`map`函数，比如有如下代码：\n",
    "```javascript\n",
    "arr.map(cbFunc, thisArg)\n",
    "```\n",
    "在内部执行类似这样的代码：\n",
    "```javascript\n",
    "let newArr = []\n",
    "for(let i;i<arr.length;i++){\n",
    "    let val = cbFunc.call(thisArg, value, index, arr) // 每一轮传递给回调函数其实有3个值，分别是值，键和数组本身。\n",
    "    }\n",
    "return newArr\n",
    "```\n",
    "在内部实际上是执行`cbFunc.call`，而例子中，`cbFunc`为`Number.call`，`thisArg`是`Number`，所以每一轮在内部执行的实际是`Number.call.call(Number, value, index, arr)`。  \n",
    "\n",
    "\n",
    "3. `Number.call.call(Number, value, index, arr)`又返回啥呢？首先任何函数都有`call`属性，`call`在函数的原型链上，实际上就是`Function.prototype.call`。那么`call`内部如何执行不清楚，表现出来的现象类似，在内部会先检查`this`绑定的对象是啥，如果`this`绑定的对象是其自身，比如`Number.call.call`，在内部，`this`是`Number.call`，是其自身，则会将第一个参数作为要执行的函数，第二个参数作为与函数绑定的`thisArg`值，后面的是传入函数的参数。如果绑定的不是自身，比如`Number.call`，此时`this`是`Number`，则把第一个参数作为与`Number`绑定的对象，后面的都是传入函数的参数。如下面的例子：\n",
    "\n",
    "```javascript\n",
    "function log () {\n",
    "    console.log(this, [...arguments]);\n",
    "}\n",
    "\n",
    "Number.call.call(log, \"hello world\", 1, 2, 3, 4, 5)\n",
    "```\n",
    "输出为：\n",
    "```\n",
    "[String: 'Hello World '] [1, 2, 3, 4, 5]\n",
    "```\n",
    "简单来说，现象就是`anyFunc.call.call(someFunc, thisArg, Arg0, Arg1...)`的代码，等同于`someFunc.call(thisArgs, Args0, Args1)`。这个解释在stackoverflow被否了，删了贴，估计是错的。但是`call`链表现出来的行为确实是这样。\n",
    "\n",
    "回到代码，每一轮的`Number.call.call(Number, value, index, arr)`就相当于`Number.call(value, index, arr)`，而`value`是`undefined`，`index`是数组的索引，因此在`map`内部，以第一轮为例，相当于执行了`val = Number.call(undefined, 0, [undefined, undefined, undefined])`，`val`最终计算出为0。 所以，最终的结果为`[0, 1, 2]`。"
   ]
  },
  {
   "cell_type": "markdown",
   "metadata": {},
   "source": [
    "### 生成器的this丢失情况"
   ]
  },
  {
   "cell_type": "markdown",
   "metadata": {},
   "source": [
    "先看代码：\n",
    "```javascript\n",
    "function asyncFunc() {\n",
    "\tsetTimeout(it.next, 2000, 42)\n",
    "}\n",
    "\n",
    "function *gen() {\n",
    "\tdata = yield asyncFunc()\n",
    "\tconsole.log(`get data ${data}`)\n",
    "}\n",
    "\n",
    "var it = gen()\n",
    "it.next()\n",
    "console.log(\"now start\")\n",
    "```\n",
    "程序报错，抛出的错误为`TypeError: Method [Generator].prototype.next called on incompatible receiver #<Timeout>`，这里属于隐性的`this`丢失，`setTimeout(it.next, 2000, 42)`，在`setTimeout`内部，实际上把`it.next`赋值给一个内部变量，假设是这样：\n",
    "```javascript\n",
    "function setTimeout(cb, delay, param){\n",
    "   ...\n",
    "   cb()\n",
    "```\n",
    "可见，当触发`cb()`时，是直接执行生成器`next`关联的函数，生成器的上下文丢失。可以显性的进行绑定：\n",
    "```javascript\n",
    "function asyncFunc(){\n",
    "   setTimeout(it.next.bind(it), 2000, 42)\n",
    "```\n",
    "也可以将`it.next`包装进一个回调函数：\n",
    "```javascript\n",
    "function asyncFunc() {\n",
    "\tsetTimeout(function(val) {\n",
    "\t\tit.next(val)\n",
    "\t}, 2000, 42)\n",
    "}\n",
    "```"
   ]
  },
  {
   "cell_type": "markdown",
   "metadata": {},
   "source": [
    "### 生成器和异步函数组合遇到的问题"
   ]
  },
  {
   "cell_type": "markdown",
   "metadata": {},
   "source": [
    "还是上面类似的代码，不同的是`yeild`后面接一个同步函数，内部调用了`it.next`：\n",
    "```javascript\n",
    "function syncFunc() {\n",
    "\tit.next(42)\n",
    "}\n",
    "\n",
    "function *gen() {\n",
    "\tdata = yield syncFunc()\n",
    "\tconsole.log(`get data ${data}`)\n",
    "}\n",
    "\n",
    "var it = gen()\n",
    "it.next()\n",
    "console.log(\"now start\")\n",
    "```\n",
    "此时抛出错误，提示生成器正在运行。生成器的执行过程应该是这样的：\n",
    "1. 执行生成器，返回一个迭代器。\n",
    "2. 调用迭代器的`next`方法，生成器开始运行，当遇到第一个`yield`的时候，如果此时`yield`后面跟着一个函数，则会执行这个函数，将这个函数返回的结果抛出，然后暂停。等待下一次`next`调用。\n",
    "3. 而此时在`syncFunc()`内部，调用了`it.next()`，而此时的生成器还没有停止，在等待`syncFunc`结束，因此抛出错误。\n",
    "4. 如果`yield`后面的异步函数内部的`it.next()`，并不会在当时就进行调用，也不会阻塞，生成器可以顺利的暂停，等待下一次`next`调用。当异步函数调用`it.next`时，此时的生成器已经是在停止状态，因此不会报错，可以顺利执行。\n",
    "\n",
    "总结一下，生成器和异步函数是天作之合，`yield`后面接着的函数不能在内部同步调用生成器的`next`方法。"
   ]
  },
  {
   "cell_type": "markdown",
   "metadata": {},
   "source": [
    "## 教程收集"
   ]
  },
  {
   "cell_type": "markdown",
   "metadata": {},
   "source": [
    "MDN官方教程,分初、中、高+指南+参考+工具和资源6个部分，其中指南为全面教程，参考为API索引：\n",
    "- [MDN Javascript学习指南 ★★★★](https://developer.mozilla.org/zh-CN/docs/Web/JavaScript)\n",
    "\n",
    "系列教程：\n",
    "- [现代javascript教程 ★★★★★](https://www.bookstack.cn/read/zh.javascript.info/README.md)\n",
    "- [前端基础进阶系列 ★★★](https://www.jianshu.com/p/cd3fee40ef59)\n",
    "- [阮一峰ES6入门 ★★★](https://es6.ruanyifeng.com/#README)\n",
    "\n",
    "其它知识点：\n",
    "- [JavaScript命名规范基础及系统注意事项](https://www.cnblogs.com/longly/p/10023760.html)\n",
    "- [浅谈JavaScript中的Blob对象](https://www.jianshu.com/p/33564726aed8)\n",
    "- [JavaScript FormData的详细介绍及使用](https://blog.csdn.net/liupeifeng3514/article/details/78988001)\n",
    "- [基于CommonJS中的导入和导出](https://blog.51cto.com/11871779/2526416)\n",
    "- [javascript注释说明](https://www.cnblogs.com/chris-oil/p/4067415.html)"
   ]
  },
  {
   "cell_type": "code",
   "execution_count": null,
   "metadata": {},
   "outputs": [],
   "source": []
  }
 ],
 "metadata": {
  "kernelspec": {
   "display_name": "Python 3",
   "language": "python",
   "name": "python3"
  },
  "language_info": {
   "codemirror_mode": {
    "name": "ipython",
    "version": 3
   },
   "file_extension": ".py",
   "mimetype": "text/x-python",
   "name": "python",
   "nbconvert_exporter": "python",
   "pygments_lexer": "ipython3",
   "version": "3.7.6"
  },
  "toc": {
   "base_numbering": 1,
   "nav_menu": {},
   "number_sections": true,
   "sideBar": true,
   "skip_h1_title": true,
   "title_cell": "Table of Contents",
   "title_sidebar": "JavaScript私房手册",
   "toc_cell": false,
   "toc_position": {
    "height": "calc(100% - 180px)",
    "left": "10px",
    "top": "150px",
    "width": "240.6px"
   },
   "toc_section_display": true,
   "toc_window_display": true
  }
 },
 "nbformat": 4,
 "nbformat_minor": 4
}
