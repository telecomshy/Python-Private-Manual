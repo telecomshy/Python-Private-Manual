{
 "cells": [
  {
   "cell_type": "markdown",
   "metadata": {},
   "source": [
    "# node私房手册"
   ]
  },
  {
   "cell_type": "markdown",
   "metadata": {},
   "source": [
    "## 常见问题收集"
   ]
  },
  {
   "cell_type": "markdown",
   "metadata": {},
   "source": [
    "### 使用npm安装依赖包"
   ]
  },
  {
   "cell_type": "markdown",
   "metadata": {},
   "source": [
    "- 使用npm下载依赖包  \n",
    "由于直接使用npm下载比较慢，网上大都推荐使用cnpm，但是cnpm会出现很多诡异的bug，可以直接使用npm指定下载源：\n",
    "```\n",
    "npm install --registry=https://registry.npm.taobao.org\n",
    "```\n",
    "- [install --save 和 --save-dev 的区别](https://www.limitcode.com/detail/59a15b1a69e95702e0780249.html)，另外-D就是--save-dev的缩写，i是install的缩写。\n",
    "```javascript\n",
    "npm install moduleName # 安装模块到项目目录下\n",
    "npm install -g moduleName # -g 的意思是将模块安装到全局，具体安装到磁盘哪个位置，要看 npm config prefix 的位置。\n",
    "npm install -save moduleName # -save 的意思是将模块安装到项目目录下，并在package文件的dependencies节点写入依赖。\n",
    "npm install -save-dev moduleName # -save-dev 的意思是将模块安装到项目目录下，并在package文件的devDependencies节点写入依赖。\n",
    "```\n",
    "\n",
    "- npm install -y，其中-y就是所有选项全部是yes，省略了选择的步骤。\n",
    "- npm install webpack-cli@3，表示安装大版本号是3的版本。\n",
    "- package.json中的script，如果命名为start，可以直接使用npm start运行对应的脚本，如果是别的名字，比如build，则需要使用npm run build来运行。"
   ]
  },
  {
   "cell_type": "markdown",
   "metadata": {},
   "source": [
    "## 教程"
   ]
  },
  {
   "cell_type": "markdown",
   "metadata": {},
   "source": [
    "- [入门webpack，看这篇就够了](https://segmentfault.com/a/1190000006178770)"
   ]
  },
  {
   "cell_type": "code",
   "execution_count": null,
   "metadata": {},
   "outputs": [],
   "source": []
  }
 ],
 "metadata": {
  "kernelspec": {
   "display_name": "Python 3",
   "language": "python",
   "name": "python3"
  },
  "language_info": {
   "codemirror_mode": {
    "name": "ipython",
    "version": 3
   },
   "file_extension": ".py",
   "mimetype": "text/x-python",
   "name": "python",
   "nbconvert_exporter": "python",
   "pygments_lexer": "ipython3",
   "version": "3.7.6"
  },
  "toc": {
   "base_numbering": 1,
   "nav_menu": {},
   "number_sections": true,
   "sideBar": true,
   "skip_h1_title": true,
   "title_cell": "Table of Contents",
   "title_sidebar": "node私房手册",
   "toc_cell": false,
   "toc_position": {},
   "toc_section_display": true,
   "toc_window_display": true
  }
 },
 "nbformat": 4,
 "nbformat_minor": 4
}
