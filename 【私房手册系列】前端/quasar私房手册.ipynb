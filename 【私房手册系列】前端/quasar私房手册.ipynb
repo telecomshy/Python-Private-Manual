{
 "cells": [
  {
   "cell_type": "markdown",
   "metadata": {},
   "source": [
    "# Quasar私房手册"
   ]
  },
  {
   "cell_type": "markdown",
   "metadata": {},
   "source": [
    "## 安装和配置"
   ]
  },
  {
   "cell_type": "markdown",
   "metadata": {},
   "source": [
    "### 使用代理"
   ]
  },
  {
   "cell_type": "markdown",
   "metadata": {},
   "source": [
    "如果npm设置了代理，使用quasar cli命令`quasar create <project name>`创建项目时，会使用代理。通过`npm config get proxy`查看是否设置了代理。npm的代理设置参考：\n",
    "- [npm设置和取消代理的方法](https://blog.csdn.net/yanzi1225627/article/details/80247758)"
   ]
  },
  {
   "cell_type": "markdown",
   "metadata": {},
   "source": [
    "## Quasar CLI"
   ]
  },
  {
   "cell_type": "markdown",
   "metadata": {},
   "source": [
    "### 安装"
   ]
  },
  {
   "cell_type": "markdown",
   "metadata": {},
   "source": [
    "首先安装Quasar CLI，如果使用yarn安装的话注意，`yarn global add @quasar/cli`，安装以后要把yarn全局安装的包路径添加到环境变量中去，否则找不到`quasar cli`。quasar官网提示路径是`%LOCALAPPDATA%\\yarn\\bin`，其中`%LOCALAPPDATA%`是windows的系统变量，是`C:\\Users\\用户名\\AppData\\Local\\`。但是测试发现1.22.4版本的yarn路径已经变了，只能是`C:\\Users\\用户名\\AppData\\Local\\Yarn\\Data\\global\\node_modules\\.bin`。"
   ]
  },
  {
   "cell_type": "markdown",
   "metadata": {},
   "source": [
    "## Vue组件"
   ]
  },
  {
   "cell_type": "markdown",
   "metadata": {},
   "source": [
    "### `q-toolbar`工具栏"
   ]
  },
  {
   "cell_type": "markdown",
   "metadata": {},
   "source": [
    "工具栏里面的布局是这样的，`q-toolbar-title`前面的小组件全部靠左，当然`q-toolbar-title`也靠左，`q-toolbar-title`后面的组件全部靠右。\n",
    "\n",
    "PROPS：\n",
    "- `inset`：属性是在`toolbar`里的所有组件前面加上一小段距离，当有2个`toolbar`的时候十分有用。"
   ]
  },
  {
   "cell_type": "markdown",
   "metadata": {},
   "source": [
    "### `q-drawer`侧边栏"
   ]
  },
  {
   "cell_type": "markdown",
   "metadata": {},
   "source": [
    "PROPS：\n",
    "- `show-if-above`：使用这个属性的时候，默认不管`v-model`的设置为`true`还是`false`，都会设置为`true`，也就是说只要屏幕宽度大于断点，总是会显示侧边栏。\n",
    "- `breakpoint`：当小于这个值的时候，侧边栏会自动的收缩。\n",
    "- `content-class`：属性可以是`str`，`array`或者对象。数组和对象只能以`:content-class`方式传值，比如`:content-class=\"['text-h3', 'bg-grey-3']\"`,`:content-class=\"{'text-h3': true}\"`，其中键是类名，值是条件判断语句。\n",
    "- `content-style`：也`content-class`一样，也可以是字符串、数组和对象。以对象为例，语法是`:content-style=\"{'background': 'yellow'}\"`。\n",
    "- `mini-to-overlay`：当设置这个模式的时候，侧边栏滑动恢复到正常模式的时候，内容页不会跟着滑动，恢复正常的侧边栏会遮盖住一部分内容，如果不设置，侧边栏滑动恢复到正常模式的时候，内容页也跟着滑动，内容页不会被遮盖。与之相似的还有`overlay`属性。\n",
    "\n",
    "EVENT：\n",
    "- `@input:v-model`就是`value`+`@input`的语法糖，这里特别提出来，是因为官网关于`@input`的触发只有一句话：当`q-drawer`的显示/隐藏状态发生改变时触发。但是经过多次尝试以后发现，对于通过`value`绑定的变量改变是不会触发`@input`动作的，只有比如当屏幕宽度小于断点，导致侧边栏隐藏，实际的状态和绑定的`value`变量不同时，才会触发`input`动作。"
   ]
  },
  {
   "cell_type": "markdown",
   "metadata": {},
   "source": [
    "### `q-scroll-area`滚动区域"
   ]
  },
  {
   "cell_type": "markdown",
   "metadata": {},
   "source": [
    "PROPS：\n",
    "- `class`：注意，测试发现`class`需要设置成`fit`或者`full-height`才能正常显示。如果设置为`window-height`，会出现滚动条。"
   ]
  },
  {
   "cell_type": "markdown",
   "metadata": {},
   "source": [
    "### `q-item-label`"
   ]
  },
  {
   "attachments": {
    "%E5%9B%BE%E7%89%87.png": {
     "image/png": "[encoded data removed]"
    }
   },
   "cell_type": "markdown",
   "metadata": {},
   "source": [
    "PROPS:\n",
    "- `caption`：相当于`label`的副标题，效果如图，灰色的小标题就是设置了`caption`的`PROPS`。\n",
    "![%E5%9B%BE%E7%89%87.png](attachment:%E5%9B%BE%E7%89%87.png)"
   ]
  },
  {
   "cell_type": "markdown",
   "metadata": {},
   "source": [
    "## 常见问题"
   ]
  },
  {
   "cell_type": "markdown",
   "metadata": {},
   "source": [
    "### 使用`axios`向后端发送请求提示CORS头缺少'Access-Control-Allow-Origin'？"
   ]
  },
  {
   "cell_type": "markdown",
   "metadata": {},
   "source": [
    "这个主要是由于前后端分离的项目，其域名地址是不同的，为了安全，后端开启了corf验证功能，两个解决办法，一个是前端设置`api`代理，一个是后端进行配置。\n",
    "\n",
    "~~要注意的是，django就算是在视图里面使用了`csrf_except`装饰器，仍然会报错，具体原因还不清楚。（csrf和cors不是一回事。）~~\n",
    "\n",
    "前端设置`api`的方法请查看官网《Quasar CLI》中《API 代理》章节，主要就是把前端路由代理成和后端同源（相同域名）的地址即可。\n",
    "\n",
    "后端的查看django私房手册的网文收集，视图相关中《通过django-cors-headers插件在Django2.0中完美解决跨域请求的问题》一文。"
   ]
  },
  {
   "cell_type": "markdown",
   "metadata": {},
   "source": [
    "## 补充网址收集"
   ]
  },
  {
   "cell_type": "markdown",
   "metadata": {},
   "source": [
    "- [Quasar图标名称查询地址](https://material.io/resources/icons/?style=baseline)"
   ]
  },
  {
   "cell_type": "markdown",
   "metadata": {},
   "source": [
    "## 文章收集"
   ]
  },
  {
   "cell_type": "markdown",
   "metadata": {},
   "source": [
    "- [Webpack-dev-server的proxy用法](https://segmentfault.com/a/1190000016314976)"
   ]
  },
  {
   "cell_type": "code",
   "execution_count": null,
   "metadata": {},
   "outputs": [],
   "source": []
  }
 ],
 "metadata": {
  "kernelspec": {
   "display_name": "Python 3",
   "language": "python",
   "name": "python3"
  },
  "language_info": {
   "codemirror_mode": {
    "name": "ipython",
    "version": 3
   },
   "file_extension": ".py",
   "mimetype": "text/x-python",
   "name": "python",
   "nbconvert_exporter": "python",
   "pygments_lexer": "ipython3",
   "version": "3.7.6"
  },
  "toc": {
   "base_numbering": 1,
   "nav_menu": {},
   "number_sections": true,
   "sideBar": true,
   "skip_h1_title": true,
   "title_cell": "Table of Contents",
   "title_sidebar": "Quasar私房手册",
   "toc_cell": false,
   "toc_position": {},
   "toc_section_display": true,
   "toc_window_display": true
  }
 },
 "nbformat": 4,
 "nbformat_minor": 4
}
