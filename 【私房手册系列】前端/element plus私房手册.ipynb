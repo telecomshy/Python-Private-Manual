{
 "cells": [
  {
   "cell_type": "markdown",
   "id": "3bf0ca07",
   "metadata": {},
   "source": [
    "# Element plus私房手册"
   ]
  },
  {
   "cell_type": "markdown",
   "id": "107d0be1",
   "metadata": {},
   "source": [
    "## 技巧收集"
   ]
  },
  {
   "cell_type": "markdown",
   "id": "6b227977",
   "metadata": {},
   "source": [
    "1.  如果el-menu不设置default-active，则进入页面或者刷新的时候，左边导航的文字不会显示成激活的颜色。"
   ]
  },
  {
   "cell_type": "code",
   "execution_count": null,
   "id": "e10a662a",
   "metadata": {},
   "outputs": [],
   "source": []
  }
 ],
 "metadata": {
  "kernelspec": {
   "display_name": "Python 3",
   "language": "python",
   "name": "python3"
  },
  "language_info": {
   "codemirror_mode": {
    "name": "ipython",
    "version": 3
   },
   "file_extension": ".py",
   "mimetype": "text/x-python",
   "name": "python",
   "nbconvert_exporter": "python",
   "pygments_lexer": "ipython3",
   "version": "3.7.6"
  },
  "toc": {
   "base_numbering": 1,
   "nav_menu": {},
   "number_sections": true,
   "sideBar": true,
   "skip_h1_title": true,
   "title_cell": "Table of Contents",
   "title_sidebar": "Element plus私房手册",
   "toc_cell": false,
   "toc_position": {
    "height": "calc(100% - 180px)",
    "left": "10px",
    "top": "150px",
    "width": "307.2px"
   },
   "toc_section_display": true,
   "toc_window_display": true
  }
 },
 "nbformat": 4,
 "nbformat_minor": 5
}
