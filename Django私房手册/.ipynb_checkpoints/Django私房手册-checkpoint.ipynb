{
 "cells": [
  {
   "cell_type": "markdown",
   "metadata": {},
   "source": [
    "# Django私房手册"
   ]
  },
  {
   "cell_type": "markdown",
   "metadata": {},
   "source": [
    "## 创建Django项目基本步骤"
   ]
  },
  {
   "cell_type": "markdown",
   "metadata": {},
   "source": [
    "### 通用步骤"
   ]
  },
  {
   "cell_type": "markdown",
   "metadata": {},
   "source": [
    "1. 创建项目: `django-admin startproject MyProject`（必须）\n",
    "2. 创建app: `python manage.py myapp`（必须）\n",
    "3. 修改settings.py，注册app（必须）\n",
    "4. 设置语言和时区，settings.py中修改`LANGUAGE_CODE = 'zh-Hans'`，以及`TIME_ZONE = 'Asia/Shanghai'`\n",
    "5. 在app目录下新建static文件夹存放静态文件（必须），或者通过`STATIC_URL`和`STATICFILES_DIRS`配置静态文件的目录（可选）\n",
    "6. 配置模板路径，默认使用根目录下的templates文件夹（可选）\n",
    "7. 配置路由，编写模型，编写视图，编写模板（顺序不固定）"
   ]
  },
  {
   "cell_type": "markdown",
   "metadata": {},
   "source": [
    "### 扩展用户系统步骤"
   ]
  },
  {
   "attachments": {
    "%E5%9B%BE%E7%89%87.png": {
     "image/png": "[encoded data removed]"
    }
   },
   "cell_type": "markdown",
   "metadata": {},
   "source": [
    "有几点要注意：\n",
    "1. 扩展自定义的User模型，四种方法，一般采用继承`AbstractUser`的方法。在自己的`models`文件中继承`AbstractUser`类以后，在`settings`文件中增加配置`AUTH_USER_MODEL=userapp.User`。**<font color='red'>注意：1. 如果确定要扩展，那么在项目最初，第一次进行数据库迁移的时候就进行配置，哪怕不增加任何字段，只是单纯继承`AbstracUser`，后期再增加字段都可以，否则可能出现各种问题。2. 如果自定义的用户模型，注意写法直接是`userapp.user`，而不是userapp.models.user。</font>**\n",
    "\n",
    "2. 自定义的用户模型在后台的管理系统中是看不到的，还需要配置，主要有以下几个地方：\n",
    " - 首先在后台管理系统中等级自定义模型，修改app中的admin.py文件如下：\n",
    " \n",
    "```python\n",
    "from django.contrib import admin\n",
    "\n",
    "from .models import MyUser\n",
    "from django.contrib.auth.admin import UserAdmin\n",
    "\n",
    "\n",
    "@admin.register(MyUser)\n",
    "class MyUserAdmin(UserAdmin):\n",
    "    list_display = ['username', 'email', 'mobile', 'is_staff']\n",
    "    fieldsets = UserAdmin.fieldsets\n",
    "    # 记住fieldsets的具体格式\n",
    "    fieldsets[1][1][\"fields\"] = fieldsets[1][1][\"fields\"] + (\"mobile\",)\n",
    "```\n",
    "其中list_display修改的是进入管理系统以后，选择用户管理->用户，每个用户显示的字段：\n",
    "![%E5%9B%BE%E7%89%87.png](attachment:%E5%9B%BE%E7%89%87.png)"
   ]
  },
  {
   "cell_type": "markdown",
   "metadata": {},
   "source": [
    "`fieldsets`修改的是点击用户名以后，用户的详细信息，其结构如下：\n",
    "```python\n",
    "((None, {'fields': ('username', 'password')}),\n",
    " ('个人信息', {'fields': ('first_name', 'last_name', 'email', 'mobile')}),\n",
    " ('权限', {'fields': ('is_active', 'is_staff', 'is_superuser', 'groups', 'user_permissions')}),\n",
    " ('重要日期', {'fields': ('last_login', 'date_joined')}))\n",
    " ```\n",
    " \n",
    "`fieldsets[1][1][\"fields\"] = fieldsets[1][1][\"fields\"] + (\"mobile\",)`就是给个人信息栏中增加手机的字段。\n",
    "\n",
    " - 最后还需要修改app在管理系统中显示的名字，默认是`app`的名称，在app的`__init__`文件中加入如下代码：\n",
    "\n",
    "```python\n",
    "from django.apps import AppConfig\n",
    "import os\n",
    "\n",
    "# 指定自己的app的配置文件\n",
    "default_app_config = \"mysite.MysiteConfig\"\n",
    "\n",
    "\n",
    "class MysiteConfig(AppConfig):\n",
    "    # name是必须指定的，没法继承，AppConfig里没有name属性，不指定会报错\n",
    "    name = os.path.split(os.path.dirname(__file__))[-1]\n",
    "    verbose_name = \"用户管理\"\n",
    "```\n",
    "其中`name = os.path.split(os.path.dirname(__file__))[-1]`获取的是app文件夹的名称。"
   ]
  },
  {
   "cell_type": "markdown",
   "metadata": {},
   "source": [
    "### 如何关联`django`的`user`作为外键"
   ]
  },
  {
   "cell_type": "markdown",
   "metadata": {},
   "source": [
    "如果自定义的模型要关联用户作为外键，有几种方法：\n",
    "1. 将`User`导入到自己的`models`文件，然后作为`ForeignKey`的第一个参数，内置的`User`位置为`from django.contrib.user.models import User`。\n",
    "2. 使用字符串，直接使用`'auth.User'`作为`ForeignKey`的第一个参数。注意，这里不需要加`models`，即不是`auth.models.User`。\n",
    "3. 导入`settings`文件，使用`settings`的配置，即先`from django.conf import settings`，然后外键的第一个参数为`settings.AUTH_USER_MODEL`。不管有没有扩展`django`的用户模型，都可以用这种方法，因为`settings.AUTH_USER_MODEL`默认为`auth.User`。"
   ]
  },
  {
   "cell_type": "markdown",
   "metadata": {},
   "source": [
    "## 安装配置和部署"
   ]
  },
  {
   "cell_type": "markdown",
   "metadata": {},
   "source": [
    "### 通过nginx+uwsgi部署Django项目"
   ]
  },
  {
   "cell_type": "markdown",
   "metadata": {},
   "source": [
    "首先安装uwsgi，在线安装命令为`pip install uwsgi`，本地安装在pypi搜索，下载解压缩以后，使用命令`python setup.py install`进行安装，或者直接对压缩包使用pip命令`pip install uwsgi-2.0.18.tar.gz`也可以。\n",
    "\n",
    "安装完后运行uwsgi，看能不能找到命令（是否将uwsgi加入到环境变量），找不到的话创建软链接，比如： \n",
    "`ln -s /usr/local/python3/bin/uwsgi /usr/bin/uwsgi3` \n",
    "此次项目使用centos7.0以及anaconda软件包，默认安装的地址为`/home/noc/anaconda3/bin/uwsgi`，已经添加到环境变量里了。有可能会报错，提示有些文件找不到，解决方法如下：\n",
    "```\n",
    "uwsgi: error while loading shared libraries: libssl.so.1.1: cannot open shared object file: No such file or directory\n",
    "sudo ln -s ~/anaconda3/lib/libssl.so.1.1 /lib64/libssl.so.1.1\n",
    "\n",
    "uwsgi: error while loading shared libraries: libcrypto.so.1.1:\n",
    "sudo ln -s ~/anaconda3/lib/libcrypto.so.1.1 /lib64/libcrypto.so.1.1\n",
    "\n",
    "uwsgi: error while loading shared libraries: libicui18n.so.58\n",
    "sudo ln -s ~/anaconda3/lib/libicui18n.so.58 /lib64/libicui18n.so.58\n",
    "sudo ln -s ~/anaconda3/lib/libicuuc.so.58 /lib64/libicuuc.so.58\n",
    "sudo ln -s ~/anaconda3/lib/libicudata.so.58 /lib64/libicudata.so.58\n",
    "```\n",
    "然后在django的项目下，就是有manage.py文件的哪个目录，新建一个xml文件，内容如下：\n",
    "```xml\n",
    "<uwsgi>\n",
    " <socket>127.0.0.1:8997</socket><!-- 内部端口，自定义 -->\n",
    " <chdir>/home/noc/bjw/directionflow</chdir><!-- 项目路径，manage.py文件所在目录 -->\n",
    " <module>directionflow.wsgi</module><!-- 加载指定的python WSGI模块，diango会自动生成一个wsgi.py文件 -->\n",
    " <processes>4</processes> <!-- 进程数 --> \n",
    " <daemonize>uwsgi.log</daemonize><!-- 生成日志文件 -->\n",
    " <py-autoreload>1</py-autoreload><!--修改python文件以后自动重启-->\n",
    "</uwsgi>\n",
    "```\n",
    "文件名应该随意，这里假设是project.xml。这里配置的是uwsgi服务的配置选项，uwsgi可以用命令行参数、xml文件、ini文件、yaml文件等多重方式进行配置，这里采用xml文件进行配置。\n",
    "\n",
    "接下来修改nginx.conf文件，此次项目，配置文件在`/usr/local/nginx/conf/nginx.conf`目录下，在最后加入以下内容：\n",
    "```json\n",
    "server {\n",
    " listen 8996; #暴露给外部访问的端口\n",
    " server_name localhost;\n",
    "     charset utf-8;\n",
    " location / {\n",
    "     include uwsgi_params;\n",
    "     uwsgi_pass 127.0.0.1:8997; #外部访问8996就转发到内部8997\n",
    " }\n",
    "}\n",
    "```\n",
    "有几点要注意：\n",
    "1. 要注意上面的内容要在conf配置文件最外面也就是默认的大括号内，保存以后进入/usr/local/nginx/sbin/目录执行`./nginx -t`命令看一下配置文件是否正确，如果nginx在环境变量PATH里，可以直接`nginx -t`。如果正确的话重启nginx服务器。如果使用lnmp安装的话，直接执行`lnmp restart`重启整个服务。\n",
    "2. `uwsgi`配置文件中`module`配置的`directionflow.wsgi`表示在`chdir`配置的项目路径下，有一个`directionflow`文件夹，里面包含一个`wsgi.py`的文件。\n",
    "3. `daemonize`表示后台启动，并且所有信息写入`uwsgi.log`文件。\n",
    "4. `uwsgi`的配置文件配置的协议和`nginx`的要一致，这里`nginx`配置的是`uwsgi_pass`，`uwsgi`就要配置成`socket`。如果`nginx`为`proxy_pass http://127.0.0.1:5000/`,那么`nginx`就要为`<http>127.0.0.1:5000</http>`。\n",
    "5. `uwsgi`还有几个配置可能有用，\n",
    " - `logdate`：log文件记录时间。\n",
    " - `buffer-size`：设置请求的最大字节数。\n",
    " \n",
    "具体可以参考[这篇文章](https://blog.csdn.net/t8116189520/article/details/88388801)以及`uwsgi`[官方文档](https://uwsgi-docs.readthedocs.io/en/latest/Options.html)。  \n",
    "最后进入django的项目目录，就是之前配置了uwsgi的xml配置文件的目录，执行以下命令启动uwsgi服务：\n",
    "uwsgi -x project.xml\n",
    "如果前面创建了软链接，则是：\n",
    "uwsgi3 -x project.xml\n",
    "如果都没有出错的话，现在就可以正常访问了。\n",
    "\n",
    "要注意的是，如果配置文件中没有配置`py-autoreload`选项，加入修改了python文件是不会生效的，需要使用`killall uwsgi`命令先杀死所有的uwsgi进程，然后再使用`uwsgi -x project.xml`重新启动uwsgi服务才行。\n",
    "\n",
    "主要参考[文章](https://www.cnblogs.com/levelksk/p/7921066.html)  \n",
    "关于uWSGI，nginx和django之间的关系，可以看这篇文章[uWSGI+django+nginx的工作原理流程与部署历程](https://blog.csdn.net/c465869935/article/details/53242126)  \n",
    "nginx的配置的说明，看这篇文章[Nginx 安装与部署配置以及Nginx和uWSGI开机自启](https://www.cnblogs.com/wcwnina/p/8728430.html)。"
   ]
  },
  {
   "cell_type": "markdown",
   "metadata": {},
   "source": [
    "### uwsgi+django部署项目"
   ]
  },
  {
   "cell_type": "markdown",
   "metadata": {},
   "source": [
    "`nginx`主要是可以用来做反向代理和虚拟主机，如果项目没有那么高的要求，可以直接适用`uwsgi`+`django`部署项目，参考以下两篇文章：\n",
    "- [使用uwsgi部署Django应用](https://www.cnblogs.com/keithtt/p/10182869.html)\n",
    "- [How to use Django with uWSGI](https://docs.djangoproject.com/en/dev/howto/deployment/wsgi/uwsgi/#how-to-use-django-with-uwsgi)"
   ]
  },
  {
   "cell_type": "markdown",
   "metadata": {},
   "source": [
    "### 将uwsgi设置为开机启动"
   ]
  },
  {
   "cell_type": "markdown",
   "metadata": {},
   "source": [
    "配置了`uwsgi`以后，`uwsgi`并不会开机启动，每次如果开机，要重新执行`uwsgi -x project.xml`命令。centos可以将可执行程序包装成服务，使用`systemctl`进行管理。基本流程如下：\n",
    "\n",
    "进入服务配置文件目录->编写服务配置文件->使用`systemctl`管理服务。\n",
    "1. 进入服务配置文件目录：\n",
    "在centos 6之前的版本，一般都是在`/etc/rc.d`文件夹里面进行配置。但是这种配置很麻烦，所以6以后，建议使用服务的方式进行配置。一般系统的服务文件放在`/etc/systemd/system/`里面，个人或者三方软件的服务文件放在`/usr/lib/systemd/system`里面（使用`systemctl enable`命令时，其实是创建一个软链接指向`/etc/systemd/system/`目录，系统只会读取这个目录的内容）。要做的就是在这个文件夹里面编写一个`service`后缀的配置文件。\n",
    "2. 编写服务配置文件：\n",
    "`uwsgi`的配置文件内容如下，文件名可以自己定义，以`service`结尾。\n",
    "    ```ini\n",
    "    [Unit]\n",
    "    Description=HTTP Interface Server\n",
    "    After=syslog.target\n",
    "\n",
    "    [Service]\n",
    "    KillSignal=SIGQUIT\n",
    "    ExecStart=/usr/bin/uwsgi --ini /path/uwsgi.ini\n",
    "    Restart=always\n",
    "    Type=notify\n",
    "    NotifyAccess=all\n",
    "    StandardError=syslog\n",
    "\n",
    "    [Install]\n",
    "    WantedBy=multi-user.target\n",
    "    ```\n",
    "注意，如果`uwsgi`配置文件中配置了`daemonize=/path/uwsgi.log`(uwsgi服务以守护进程运行)，会导致`sytemctl`启动时多次重启而导致启动失败需改为 `logto=/path/uwsgi.log`。  \n",
    "具体的`service`配置的写法可以参考这篇文章：\n",
    "[《Centos7之Systemd(Service文件)详解》](https://blog.csdn.net/Mr_Yang__/article/details/84133783)\n",
    "3. 使用`systemctl`管理服务：\n",
    "常用的`systemctl`的命令如下：\n",
    "    - 在开机时启用一个服务：systemctl enable app-run.service  \n",
    "    - 在开机时禁用一个服务：systemctl disable app-run.service\n",
    "    - 启动一个服务：systemctl start app-run.service  \n",
    "    - 关闭一个服务：systemctl stop app-run.service  \n",
    "    - 重启一个服务：systemctl restart app-run.service  \n",
    "    - 显示一个服务的状态：systemctl status app-run.service    \n",
    "    - 查看服务是否开机启动：systemctl is-enabled app-run.service  \n",
    "    - 查看已启动的服务列表：systemctl list-unit-files|grep enabled  \n",
    "    \n",
    "参考文档：[《linux /etc/rc.d/目录的详解》](https://blog.csdn.net/kunkliu/article/details/80834961)"
   ]
  },
  {
   "cell_type": "markdown",
   "metadata": {},
   "source": [
    "### Django时区配置和时间相关字段的存取"
   ]
  },
  {
   "cell_type": "markdown",
   "metadata": {},
   "source": [
    "在`Django`的配置文件`settings.py`中，有两个配置参数是跟时间与时区有关的，分别是`TIME_ZONE`和`USE_TZ`：\n",
    ">以下为网路查到的资料，新版本不一定正确，需要测试： \n",
    ">- 如果`USE_TZ`设置为`True`时，Django会使用系统默认设置的时区，即`America/Chicago`，此时的`TIME_ZONE`不管有没有设置都不起作用。\n",
    ">- 如果`USE_TZ`设置为`False`，而`TIME_ZONE`设置为`None`，则Django还是会使用默认的`America/Chicago`时间。若`TIME_ZONE`设置为其它时区的话，则还要分情况，如果是Windows系统，则`TIME_ZONE`设置是没用的，Django会使用本机的时间。如果为其他系统，则使用该时区的时间，比如设置`USE_TZ = False`, `TIME_ZONE = 'Asia/Shanghai'`, 则使用上海的UTC时间。\n",
    "\n",
    "时间设置的时候，常会遇到以下的错误：\n",
    "```python\n",
    "RuntimeWarning: DateTimeField Customer.updated received a naive datetime (2016-06-19 07:18:21.118000) while time zone support is active\n",
    "```\n",
    "错误里说到`datetime`字段得到一个`naive datetime`，而不是支持`time zone`的`active datetime`，此时是由于`USE_TZ`设置为True，Django会自动根据所设的时区对时间进行转换。如上所说，程序中和数据保存的时间都转UTC时间，只有模版渲染时会把时间转为`TIME_ZONE`所设置的时区的时间。\n",
    "在本地化的项目中，特别是前后端分离的项目，没有用到模板渲染，反而会比较麻烦，比如你写入一个字段的值的时候，如果未提供时区信息，`django`会认为是一个`native datetime`，存入数据库的时候，会直接根据`TIME_ZONE`的设置，将时间转换为`UTC`时间进行保存，而如果直接读取数据库的值，`django`并不会进行转换，导致读取的时间不手动转换的话都是`UTC`时间。\n",
    "\n",
    "`django`关于时间相关的类是`django.utils.timezone`。`timezone.now()`返回当前时间，如果`USE_TZ`为`False`，返回一个`native time`，如果为`True`，返回一个`aware time`。但是注意，它总是返回一个`UTC`时间，需要使用`timezone.localtime()`转换成本地时间，`localtime`接受一个`aware time`时间作为参数，转换到`TIME_ZONE`设置的时区的本地时间。"
   ]
  },
  {
   "cell_type": "markdown",
   "metadata": {},
   "source": [
    "### `STATIC_URL` 和 `STATICFILES_DIRS`设置静态文件夹"
   ]
  },
  {
   "cell_type": "markdown",
   "metadata": {},
   "source": [
    "`STATIC_URL`设置url访问静态文件的根目录，比如设置为`myapp_static`，则访问静态文件的时候url必须为 http://127.0.0.1:8000/myapp_static/， 注意，这个参数只是指定url静态文件根目录，和实际的文件夹的名称无关。此时如果设置了`STATICFILES_DIRS`，则会从设置的文件夹去找静态文件，如果没有设置这个参数，则文件夹必须为`app`下面的`static`文件夹，文件夹不能改名。"
   ]
  },
  {
   "cell_type": "markdown",
   "metadata": {},
   "source": [
    "## URL路由配置"
   ]
  },
  {
   "cell_type": "markdown",
   "metadata": {},
   "source": [
    "### `url`路由配置和`href`属性设置路径的区别"
   ]
  },
  {
   "cell_type": "markdown",
   "metadata": {},
   "source": [
    "`url`路由配置和`a`标签的`href`设置路径是完全不同的，`url`路由配置没有相对路径的概念，默认会在设置的`url`前面自动加斜杠'/'作为根目录，比如：\n",
    "```python\n",
    "path('login/', views.vlogin, name='login')\n",
    "```\n",
    "代表的路径是`http://127.0.0.1/login/`。\n",
    "\n",
    "而`href`属性有相对路径和绝对路径概念，绝对路径不用多说，注意相对路径，如果不加`/`，则说明是在当前路径后面添加，而加了`/`，则说明是在根目录后面添加，比如：\n",
    "```html\n",
    "<a href='register/'>登录</a>\n",
    "```\n",
    "如果当前页面对应的路径为`http://127.0.0.1/login`，则`href`表示的路径为`http://127.0.0.1/login/register/`。\n",
    "```html\n",
    "<a href='/register/'>登录</a>\n",
    "```\n",
    "表示的路径为`http://127.0.0.1/register/`。\n",
    "\n",
    "<font color=\"red\">**小贴士：`redirect`函数的参数`url`和`href`用法一致。**</font>"
   ]
  },
  {
   "cell_type": "markdown",
   "metadata": {},
   "source": [
    "### `url`路由配置后面要不要加`/`"
   ]
  },
  {
   "cell_type": "markdown",
   "metadata": {},
   "source": [
    "路由配置最后是一定要加`/`或者使用`.html`之类的结尾，测试发现，如果路由配置不加`/`，比如：\n",
    "```python\n",
    "path('login', views.vlogin, name='login')\n",
    "```\n",
    "而浏览器访问`http://127.0.0.1/login`的时候，会自动在后面加上`/`，导致无法匹配的结果。\n",
    "\n",
    "<font color=\"red\">**注意：浏览器会自动在最后添加`/`，所以，设置`href`属性的时候可以不加`/`。**</font>"
   ]
  },
  {
   "cell_type": "markdown",
   "metadata": {},
   "source": [
    "## 模板"
   ]
  },
  {
   "cell_type": "markdown",
   "metadata": {},
   "source": [
    "### 如何手动构筑模板"
   ]
  },
  {
   "cell_type": "markdown",
   "metadata": {},
   "source": [
    "`render`函数其实就是利用了`render_to_string`，`context`等函数然后返回一个`HttpResponse`对象：\n",
    "```python\n",
    "html = render_to_string('path/to/your/segment.html', {'objects': objects_list})\n",
    "return HttpResponse(html)\n",
    "```"
   ]
  },
  {
   "cell_type": "markdown",
   "metadata": {},
   "source": [
    "### 模板中的未定义变量"
   ]
  },
  {
   "cell_type": "markdown",
   "metadata": {},
   "source": [
    "在默认情况下，对于模板中的未定义变量，django不会抛出错误而是将其设置为空字符串。\n",
    "- [使用`string_if_valid`设置变量默认值？](http://www.cocoachina.com/articles/95197)"
   ]
  },
  {
   "cell_type": "markdown",
   "metadata": {},
   "source": [
    "### 常用表单字段属性"
   ]
  },
  {
   "cell_type": "markdown",
   "metadata": {},
   "source": [
    "解释几个常用的表单的字段的属性，注意以下的写法都在模板里面使用：\n",
    "- `field.label`：字段对应的label信息，比如`UserCreationForm`的`username`字段，如果设置为中文，对应的是“用户名”。\n",
    "- `field.label_tag`：和`field.label`非常相似，是自动生成的字段的`label`标签，对应的是“用户名：”，比上面多一个引号。\n",
    "- `field.errors`：如果表单出错，即`is_valid()`为否，包含这个字段的错误信息。可以在模板里面循环`{% for err in field.errors %}`。\n",
    "- `field.help_text`：字段的帮助信息。\n",
    "- `form.non_field_errors`：非字段的一些错误信息，目前还没有发现具体的例子。\n",
    "\n",
    "在[【刘江的django教程-表单】](https://www.liujiangblog.com/course/django/152)可以查到对应的例子。另外，在视图中，可以通过`form.errors.as_json()`方法将错误信息转成`json`对象，可以通过`ajax`获取。"
   ]
  },
  {
   "cell_type": "markdown",
   "metadata": {},
   "source": [
    "### Django自带`LoginView`表单"
   ]
  },
  {
   "cell_type": "markdown",
   "metadata": {},
   "source": [
    "django自带了很多通用视图，[【django】自带的验证系统](https://docs.djangoproject.com/zh-hans/2.2/topics/auth/default/)可以查到具体的用法。总的来说，LoginView不是特别好用，它使用的是`AuthenticationForm`，这个模型也有很多槽点，如果要扩展，以下是收集的相关的文档：\n",
    "- [How to extend Django AuthenticationForm](https://stackoverflow.com/questions/56183127/how-to-extend-django-authenticationform)"
   ]
  },
  {
   "cell_type": "markdown",
   "metadata": {},
   "source": [
    "## 探究视图"
   ]
  },
  {
   "cell_type": "markdown",
   "metadata": {},
   "source": [
    "- [官网-基于类的视图](https://docs.djangoproject.com/zh-hans/3.0/topics/class-based-views/intro/)"
   ]
  },
  {
   "cell_type": "markdown",
   "metadata": {},
   "source": [
    "### Django的重定向"
   ]
  },
  {
   "cell_type": "markdown",
   "metadata": {},
   "source": [
    "- [Django 重定向终极指南](https://www.jianshu.com/p/5e322fb5b61c)\n",
    "- [python+Django临时重定向和永久重定向](https://blog.csdn.net/qq_37849776/article/details/89401627)\n",
    "\n",
    "注意，不管是临时还是永久重定向，django返回的都是定向以后的地址。只是客户端之后访问的区别，临时重定向，浏览器之后还会访问原地址，永久重定向，浏览器会记录下来，保存在cookie里，再以后输入原地址，都会直接访问新地址。要想取消的话，只能够在浏览器中删除原网站的cookie。\n",
    "\n",
    "另外,`redirect`只不过是`HttpResponseRedirect`的快捷方式，加上`permanent=True`参数即为永久重定向。"
   ]
  },
  {
   "cell_type": "markdown",
   "metadata": {},
   "source": [
    "### Django中包的导入"
   ]
  },
  {
   "cell_type": "markdown",
   "metadata": {},
   "source": [
    "`django`改变了`python`原始的包导入的规则，`django`有两种导入方式，一种是绝对导入，以项目的根目录为导入的起始目录，如下图：\n",
    "![绝对导入](./pic/1.png)"
   ]
  },
  {
   "cell_type": "markdown",
   "metadata": {},
   "source": [
    "另外一种是相对导入，使用相对导入的方法，类似于`python`包内模块的相对路径导入，如下图：\n",
    "![相对导入](./pic/2.png)"
   ]
  },
  {
   "cell_type": "markdown",
   "metadata": {},
   "source": [
    "注意，`.`永远是表示当前目录，即使`app1`下面还有更深的目录，同级目录下的模块导入都是`from .models import ...`，"
   ]
  },
  {
   "cell_type": "markdown",
   "metadata": {},
   "source": [
    "### Django文件路径的问题"
   ]
  },
  {
   "cell_type": "markdown",
   "metadata": {},
   "source": [
    "`django`更改了默认的文件路径，如果你有如下代码：\n",
    "```python\n",
    "f = open(\"./file.txt\")\n",
    "```\n",
    "`django`会把起始目录定位到项目的根目录，也就是`manage.py`文件所在的目录，上面代码会在根目录下生成`file.txt`文件。如果你的app不在根目录下，而你想在app的同级目录下生成文件，可以使用如下代码：\n",
    "```python\n",
    "file = os.path.join(os.path.dirname(__file__), \"file.txt\")\n",
    "f = open(file)\n",
    "```"
   ]
  },
  {
   "cell_type": "markdown",
   "metadata": {},
   "source": [
    "### 如何通过内置通用视图快速实现用户登录"
   ]
  },
  {
   "cell_type": "markdown",
   "metadata": {},
   "source": [
    "除非需要对通用视图进行扩展，否则都不需要编写自己的视图代码就可以实现用户的验证登录，步骤如下：\n",
    "1. 从`django.contrib.auth.views`导入`LoginView`和`LogoutView`。\n",
    "2. 配置好`urlconf`，通过`template_name`参数指定模板位置，注意，模板里的变量通过`extra_context`参数传递。\n",
    "3. 可以使用`logout_then_login(request, login_url=None)`代替`LogoutView`。\n",
    "4. `LoginView`没有参数可以设置登录成功以后跳转的页面，默认通过`setting`文件的`LOGIN_REDIRECT_URL`参数指定，或者通过`extra_context`参数传递`next`变量给模板，如`extra_context={'next': '/index/'}`。\n",
    "5. 注意，`LogoutView`通过`next_page`参数指定注销后跳转的页面，默认为`LOGOUT_REDIRECT_URL`的配置，而`logout_then_login`通过`login_url`参数指定注销后的跳转页面，默认为`LOGIN_URL`的配置。\n",
    "\n",
    "官方资料里面对于登录授权的页面有点难找，链接是[使用django自带的验证系统](https://docs.djangoproject.com/zh-hans/3.0/topics/auth/default/)。"
   ]
  },
  {
   "cell_type": "markdown",
   "metadata": {},
   "source": [
    "### 内置视图中的`redirect_field_name`字段到底起什么作用"
   ]
  },
  {
   "cell_type": "markdown",
   "metadata": {},
   "source": [
    "官方文档的说明非常简单，只有一句话：\n",
    "> GET 字段包含的登录后跳转 URL 的参数名称。默认是 next。\n",
    "\n",
    "乍一看看简单，但是却不知道到底该怎么用。折腾了一番，有一点心得，总结如下：\n",
    "\n",
    "`redirect_field_name`用在`LoginView`视图和普通的继承了`LoginRequiredMixin`混入类的视图时，起到的作用是不一样的。\n",
    "1. 当在继承`LoginRequiredMixin`的视图中定义了`redirect_field_name`，比如设置为`jump`，当一个未授权的用户访问页面，假设该页面地址为`product`，此时会重定向到指定的url，假设为`/login/`，此时会在重定向的url后面加上一个`get`请求，这个`get`请求的键就是`redirect_field_name`定义的值，假设值为`jump`，此时完整的url就是`http://127.0.0.1:8000/login?jump=/product/`。此时如果重新登录，配置正确的情况下，会根据`jump`的值又跳转到`/product/`页面。即平时常见的，登录以后回到之前浏览的页面。\n",
    "2. 在登录页面中，`redirect_field_name`起到的作用不同，`LoginView`视图会捕获从页面`post`过来的请求，假设`redirect_field_name`定义为`jump`，用户登录以后就会重定向到`request.post['jump']`指定的`url`，因此页面里面需要有一个`field`的`name`是`jump`:`<input type=\"hidden\" name=\"jump\" value=\"{{ jump }}\">`。\n",
    "3. 最后总结一下完整的流程，以上面假设的`url`为例：\n",
    " 1. 未授权用户访问`http://127.0.0.1:8000/product`，此时无法登录，则向网址`http://127.0.0.1:8000/login/?jump=/product/`发起`get`请求。\n",
    " 2. `/login/`对应的模板里面有`<input type=\"hidden\" name=\"jump\" value=\"{{ jump }}\">`代码，此时会被渲染成`<input type=\"hidden\" name=\"jump\" value=\"/product/\">`。\n",
    " 3. 点击登录按钮，此时会向`http://127.0.0.1:8000/login/`发起`post`请求，请求里面包含了`request.post['jump']=product`。由于在`LoginView`中也设置了`redirect_field_name`为`jump`，因此此时登录以后会直接跳转到`http://127.0.0.1:8000/product/`页面。"
   ]
  },
  {
   "cell_type": "markdown",
   "metadata": {},
   "source": [
    "## 模型与数据库"
   ]
  },
  {
   "cell_type": "markdown",
   "metadata": {},
   "source": [
    "- [官网-模型文档](https://docs.djangoproject.com/zh-hans/3.0/topics/db/models/#field-types)\n",
    "- [官网-使用django的验证系统](https://docs.djangoproject.com/zh-hans/2.2/topics/auth/default/)"
   ]
  },
  {
   "cell_type": "markdown",
   "metadata": {},
   "source": [
    "### 建立关联表的注意事项"
   ]
  },
  {
   "cell_type": "markdown",
   "metadata": {},
   "source": [
    "1. Django建立表如果没有设置`primary_key`主键，Django会自动设置一个自动增长的`id`列作为主键。如果设置了主键列，则不会添加`id`列。\n",
    "2. 建立关联表，不需要指定具体的列，只需要指定表就行了，Django会根据主键列进行关联，例如有2张表，`productType`表和`product`为一对多的关系，只需要在`product`的表里面添加一列类型为`ForeignKey`即可，列名可以任意，Django会自动在后面加上`_id`，里面的内容必须属于`productType`的主键列。"
   ]
  },
  {
   "cell_type": "markdown",
   "metadata": {},
   "source": [
    "### 删除模型类的步骤"
   ]
  },
  {
   "cell_type": "markdown",
   "metadata": {},
   "source": [
    "1. 删除模型类的代码。\n",
    "2. 删除`migrations`文件夹下面对应的操作记录文件。\n",
    "3. 删除`django_migrations`表中对应的生成记录。\n",
    "4. 最后删除数据库中的数据表。"
   ]
  },
  {
   "cell_type": "markdown",
   "metadata": {},
   "source": [
    "### 多表查询注意事项"
   ]
  },
  {
   "cell_type": "markdown",
   "metadata": {},
   "source": [
    "#### 主表查次表"
   ]
  },
  {
   "cell_type": "markdown",
   "metadata": {},
   "source": [
    "假设如下两个模型，代码如下：\n",
    "```python\n",
    "class ProductType(models.Model):\n",
    "    type = models.CharField(max_length=20)\n",
    "\n",
    "\n",
    "class Product(models.Model):\n",
    "    name = models.CharField(max_length=50)\n",
    "    type = models.ForeignKey(ProductType, on_delete=models.CASCADE, related_name=\"ps\", related_query_name=\"p\")\n",
    "```\n",
    "把定义了外键的表称为主表，在这里，`Product`是主表，`type`是外键，`ProductType`是次表，如果通过主表查次表，可以通过外键加`__`两个下划线查询：\n",
    "```python\n",
    "Product.objects.values(\"type__type\")\n",
    "```\n",
    "<font color=red size=2>***注意，实际的`Product`表中实际没有`type`这个字段，只有`type_id`，里面保存的是`ProductType`表中对应的主键`id`的值。***</font> \n",
    "\n",
    "搜索也是一样，如果要根据`ProductType`表的`type`字段来过滤，要这样写：\n",
    "```python\n",
    "Product.objects.filter(type__type=\"华为\")\n",
    "```\n",
    "这里其实就是省略了`select_related`方法。可以这样记忆：`__`表示对应，主表的`type`对应的次表的`type`。"
   ]
  },
  {
   "cell_type": "markdown",
   "metadata": {},
   "source": [
    "#### 次表查主表"
   ]
  },
  {
   "cell_type": "markdown",
   "metadata": {},
   "source": [
    "次表查主表麻烦一点，如果查询结果是次表里的字段，查询结果只有一个，则可以通过传递参数实现，如下：\n",
    "```python\n",
    "ProductType.objects.filter(product__name=\"荣耀\")\n",
    "```\n",
    "<font color=\"red\" size=2>***注意：`product`是主表的名称，必须要小写。此时可以使用`related_query_name`进行引用，`Product.objects.filter(p__name=\"荣耀\")`。***</font>\n",
    "\n",
    "如果查询结果是主表里的字段，查询的结果有多个，通过小写的主表名称加`_set`后缀：\n",
    "```python\n",
    "t = ProductType.objects.get(id=1)\n",
    "t.product_set.values(\"name\")\n",
    "```\n",
    "<font color=\"red\" size=2>***注意：此时也使用`related_name`引用，`t.ps.values(\"name\")`，另外，反向查询其实也可以通过主表查次表的方法进行查询。***</font>"
   ]
  },
  {
   "cell_type": "markdown",
   "metadata": {},
   "source": [
    "### `related_name`和`related_query_name`的区别"
   ]
  },
  {
   "cell_type": "markdown",
   "metadata": {},
   "source": [
    "上面的例子已经基本说明了两者之间的区别，总结如下：\n",
    "1. 二者全部定义在主表，即代表\"多\"的字段。\n",
    "2. 两者都是次表用来关联引用主表的。\n",
    "3. `related_name`用作次表实例的属性，用来返回多个主表的实例。\n",
    "4. `related_query_name`用作次表方法的参数，用来返回单个次表的实例。"
   ]
  },
  {
   "cell_type": "markdown",
   "metadata": {},
   "source": [
    "### 给关联字段起别名"
   ]
  },
  {
   "cell_type": "markdown",
   "metadata": {},
   "source": [
    "上面一个问题的搜索语句：\n",
    "```python\n",
    "Wheel.objects.values(\"car__factory\")\n",
    "```\n",
    "返回的结果是是一个字典，`<QuerySet [{'car__factory': '奔驰'}]>`，返回的字典的键中，字段名`car`会在前面，现在想要返回的结果是`<QuerySet [{'factory': '奔驰'}]>`，可以使用`annotate`别名：\n",
    "```python\n",
    "from django.db.models import F\n",
    "\n",
    "Wheel.objects.annotate(factory=F(\"car__facotry\")).values(\"factory\")\n",
    "```\n",
    "另外，`.extra()`方法也可以更改别名，但是在关系型字段中无效，原因暂未知，以后知道了再补充。"
   ]
  },
  {
   "cell_type": "markdown",
   "metadata": {},
   "source": [
    "### 设置Django模型字段默认为`Null`"
   ]
  },
  {
   "cell_type": "markdown",
   "metadata": {},
   "source": [
    "Django默认不能设置字段为`null`,如果要设置，一共有3个选项进行配置，有细微的差别，如下：\n",
    "- `blank=True`，允许啥都不写入，比如`\"\",None`并且保持它为空，主要指前端表单`/admin/etc`中是否需要验证该值，对数据库没有影响。因为模型的字段和表单的字段是不同的，模型的字段里面没有`required`参数，因此当在视图中，将模型字段自动转换成表单字段的时候，这个`blank=True`，就会被转换成表单字段里面的`required=False`。\n",
    "- `null=True`表示数据库允许该字段为`Null`。\n",
    "- `default=None`如果没有给出指定的值，那么该字段在数据库中表示为`Null`，它并不管数据库是否允许`Null`值。\n",
    "\n",
    "根据文档，对于字符串类型的字段，只要设置了`null=True`，如果传入的是空值（比如`Null`或者`\"\"`空字符串），django会统一设置为`Null`，默认是`False`。因此如果想让某字段默认为`Null`，设置`null=True`就好了。"
   ]
  },
  {
   "cell_type": "markdown",
   "metadata": {},
   "source": [
    "### 从表包含多个关联到相同主表的外键"
   ]
  },
  {
   "cell_type": "markdown",
   "metadata": {},
   "source": [
    "有如下的模型：\n",
    "```python\n",
    "from django.db import models\n",
    "\n",
    "\n",
    "class Classes(models.Model):\n",
    "    #这个是班级表，是主表；\n",
    "    c_name=models.CharField(max_length=20)\n",
    "    class Meta:\n",
    "        db_table='classes'\n",
    "        \n",
    "        \n",
    "class Student(models.Model):\n",
    "    #这个是学生表，是从表\n",
    "    s_name=models.CharField(max_length=20)\n",
    "    #从表关联两个主表的外键\n",
    "    classes_one=models.ForeignKey(Classes,on_delete=models.CASCADE)\n",
    "    classes_two=models.ForeignKey(Classes,on_delete=models.CASCADE)\n",
    "    class Meta:\n",
    "        db_table='student'\n",
    "```\n",
    "此时会报`fields.E304`错误，因为在django中，`filter`查询的格式为`表名（类名）__字段（属性）`，因此，如果你现在想根据班级名称来查询Student从表，通常情况下是这样写：\n",
    "```python\n",
    "Students.objects.filter(Classes__c_name=\"class one\")\n",
    "```\n",
    "显然，此时会产生混淆，因为不知道这个`Classes`到底是`classes_one`，还是`classese_two`，所以此时外键需要提供`related_name`参数，如下：\n",
    "```python\n",
    "    #related_name指定外键的关联名称，这个名称是用于将来查询数据使用的。只在根据主表的字段查从表时会用到。\n",
    "    classes_one=models.ForeignKey(Classes,on_delete=models.CASCADE,related_name='cls_one')\n",
    "    classes_two=models.ForeignKey(Classes,on_delete=models.CASCADE,related_name='cls_two')\n",
    "```\n",
    "再进行查询的时候，就可以这样写，这样就不会产生混淆：\n",
    "```python\n",
    "Students.objects.filter(cls_one__c_name=\"class one\")\n",
    "```"
   ]
  },
  {
   "cell_type": "markdown",
   "metadata": {},
   "source": [
    "### Django模型转为json或者字典的方法"
   ]
  },
  {
   "cell_type": "markdown",
   "metadata": {},
   "source": [
    "#### 方法1：利用`JsonResponse`手工构造json对象"
   ]
  },
  {
   "cell_type": "markdown",
   "metadata": {},
   "source": [
    "代码如下：\n",
    "```python\n",
    "from django.http import JsonResponse\n",
    "from mysite.models import Product\n",
    "\n",
    "def get_product(request):\n",
    "    products = Product.objects.all()\n",
    "    d = [{'name': p.name} for p in products]\n",
    "    return JsonResponse(d)\n",
    "```"
   ]
  },
  {
   "cell_type": "markdown",
   "metadata": {},
   "source": [
    "#### 方法2：利用`Serializer`将`queryset`转换为特定对象"
   ]
  },
  {
   "cell_type": "markdown",
   "metadata": {},
   "source": [
    "可以通过`django`的`serialize`函数直接将模型序列化，返回`json`对象：\n",
    "```python\n",
    "from django.core.serializers import serialize\n",
    "\n",
    "json = serialize('json', Product.objects.all(), fields=[\"name\", \"type\"])\n",
    "```\n",
    "注意，`serialize`的函数签名是`serialize(format, queryset, **kwargs)`，可以直接返回的格式，第二个参数只能是`queryset`类型，且直接返回的是json格式的字符串，另外可以通过`fields`参数指定要返回的字段。返回的结果如下：\n",
    "```python\n",
    "'[{\"model\": \"mysite.product\", \"pk\": 1, \"fields\": {\"name\": \"\\\\u8363\\\\u8000\", \"type\": 1}}...]'\n",
    "```"
   ]
  },
  {
   "cell_type": "markdown",
   "metadata": {},
   "source": [
    "#### 方法3：利用`model_to_dict`将模型实例转为字典"
   ]
  },
  {
   "cell_type": "markdown",
   "metadata": {},
   "source": [
    "`serialize`只能转换`queryset`类型，如果是单个的模型实例，可以通过`django`的`model_to_dict`方法转换：\n",
    "```python\n",
    "from django.forms.models import model_to_dict\n",
    "\n",
    "model_to_dict(Product.object.get(id=1), fileds=[\"name\"])\n",
    "```\n",
    "同样可以通过`fields`参数指定要返回的字段，直接返回字典。"
   ]
  },
  {
   "cell_type": "markdown",
   "metadata": {},
   "source": [
    "### 模型`Field`和表单`Field`的区别"
   ]
  },
  {
   "cell_type": "markdown",
   "metadata": {},
   "source": [
    "要注意，模型的`Field`和表单的`Field`是不同的，但是个人觉得要吐槽的是，django没有严格的区分两者，可能是为了复用，但是这样导致了概念不清。在创建`Model`的字段时`Field`时，同样可以设置`validator`,`help_text`,`error_messages`等参数，但是这些参数其实在模型中并没有起到什么作用，只是如果后期使用模型表单`ModelForm`进行扩展时，这些参数可以方便的转换成表单`Field`的属性，可是表单`Field`又有一些属性是模型`Field`不允许的，比如`required`和`label`等参数，因此建议，在创建模型字段的时候，尽量只使用对`Model`模型有意义的参数，后期要转换成表单字段时，再进行添加和修改。\n",
    "- [字段的参数](https://www.liujiangblog.com/course/django/97)"
   ]
  },
  {
   "cell_type": "markdown",
   "metadata": {},
   "source": [
    "## 表单"
   ]
  },
  {
   "cell_type": "markdown",
   "metadata": {},
   "source": [
    "### `AuthenticationForm`的槽点"
   ]
  },
  {
   "cell_type": "markdown",
   "metadata": {},
   "source": [
    "这个表单模型蛮多槽点的，它和其它的登录验证的`Form`有很多不同，它与`LoginView`搭配起来用更好，单独的使用它扩展有很多坑，记录如下：\n",
    "\n",
    "- 实例化的时候，第一个参数是`request`或者`None`，如`form = AuthenticationForm(request, request.POST)`，而不能直接是`request.POST`。\n",
    "- 和其它的`Form`不同，比如`UserCreationForm`，`AuthenticationForm`不需要定义`Meta`类，不是通过`form.username`调用`username`的`field`，而是通过`form.username_field`。\n",
    "- `cleaned_data`方法必须要放在`form.is_valid()`方法后面，否则会报错。\n",
    "- `UserCreationForm`在实例上调用`form.save()`返回新建的用户，`AuthenticationForm`通过`user=form.get_user()`获取用户。"
   ]
  },
  {
   "cell_type": "markdown",
   "metadata": {},
   "source": [
    "### 如何正确的继承`ModelForm`"
   ]
  },
  {
   "cell_type": "markdown",
   "metadata": {},
   "source": [
    "当继承一个`ModelForm`，可以通过定义元类将模型的字段转换成表单的字段，但是模型字段和表单的字段有一些区别，如果要扩展或者修改模型字段，比如添加`required`，`help_text`等参数，有两种方法：\n",
    "1. 在继承`ModelForm`的类中，重新定义同名字段，覆盖模型字段，如：\n",
    "\n",
    "```python\n",
    "from django import forms\n",
    "from django.core.validators import RegexValidator\n",
    "\n",
    "class RegisterForm(UserCreationForm):\n",
    "    mobile = forms.CharField(required=False, label=\"手机号码\", validators=[RegexValidator(r'^\\d{11}$', message='手机号码格式不正确')])\n",
    "\n",
    "    class Meta(UserCreationForm.Meta):\n",
    "        model = User\n",
    "        fields = UserCreationForm.Meta.fields + (\"mobile\",) # 注意：元类中仍然要添加mobile字段\n",
    "```\n",
    "\n",
    "2. 还可以在`__init__`里面为`mobile`添加属性来实现：\n",
    "\n",
    "```python\n",
    "class RegisterForm(UserCreationForm):\n",
    "\n",
    "    class Meta(UserCreationForm.Meta):\n",
    "        model = User\n",
    "        fields = UserCreationForm.Meta.fields + (\"mobile\",)\n",
    "\n",
    "    def __init__(self, *args, **kwargs):\n",
    "        super().__init__(*args, **kwargs)\n",
    "        self.fields['mobile'].required = True\n",
    "        self.fields['mobile'].help_text = \"请输入手机号码\"\n",
    "```"
   ]
  },
  {
   "cell_type": "markdown",
   "metadata": {},
   "source": [
    "### 如何自定义表单`Field`的`error`错误信息"
   ]
  },
  {
   "cell_type": "markdown",
   "metadata": {},
   "source": [
    "`Field`中的错误信息一共有3个层次：\n",
    "1. 第一个是在定义表单或者模型的`field`字段时，添加`validators`是，通过`validator`的`message`参数和`code`参数实现。\n",
    "2. 第二个是在定义表单或者模型的`field`字典时，通过定义`error_messages`参数实现。\n",
    "3. 还可以在继承`ModelForm`时，在`Meta`类中定义`error_messages`来实现。\n",
    "\n",
    "优先级依次提升，后面的如果和前面的重复，则会覆盖前面的定义。`message`，`code`，和`error_messages`参数关系如下：\n",
    "\n",
    "`message`是`validator`的原始错误信息，`code`是一个错误代号，`error_message`是一个字典，键和`code`的值是对应的关系，如果定义了`message`，可以不定义`code`，显示的是`message`的值，如果定义了`code`，当抛出`ValidationError`时，会以`code`为键，分别在`field`的`error_message`，和`ModelForm.Meta`的`error_message`里查找，如果找到，就会以`error_message[code]`的值作为错误信息，此时会忽略在`validators`里`message`定义的错误信息，如果找不到的话仍然会以`message`的值作为错误信息。举个例子如下：\n",
    "```python\n",
    "class RegisterForm(UserCreationForm):\n",
    "    mobile = forms.CharField(required=False, label=\"手机号码\",\n",
    "                     validators=[RegexValidator(r'^\\d{11}$', message='message错误', code='err1')],\n",
    "                     error_messages={'err1': 'field的error_message错误'})\n",
    "\n",
    "    class Meta(UserCreationForm.Meta):\n",
    "        model = User\n",
    "        fields = UserCreationForm.Meta.fields + (\"mobile\", \"department\")\n",
    "        error_messages = {'mobile': {'err1': 'Meta里的error_message错误'}}\n",
    "```\n",
    "这里，当验证未通过的时候，最终抛出的是`Meta里的error_message错误`。"
   ]
  },
  {
   "cell_type": "markdown",
   "metadata": {},
   "source": [
    "## 其它"
   ]
  },
  {
   "cell_type": "markdown",
   "metadata": {},
   "source": [
    "### 深入理解`django`中的`session`"
   ]
  },
  {
   "cell_type": "markdown",
   "metadata": {},
   "source": [
    "`django`中如果进行了登录操作，比如使用`login`函数，此时会在数据库的`django_session`表里面生成一条数据，包含`session_key`，`session_data`和`expire_data`三个字段，其中`session_key`保存的是用来识别用户的`session_id`，`session_data`是和用户相关的一些数据，后期用户在视图里面操作`session`，保存的内容也被序列化以后保存在`session_data`里。最后一个`expire_data`是过期的时间。`django`最后会通过响应的表头，即登录成功以后，返回的`Response`对象的表头，让客户端的`cookie`设置一个`sessionid`的字段，保存的就是`session_key`的内容。\n",
    "\n",
    "当用户再次发出请求，在请求附带的`cookie`中包含`session_id`字段，通过`session_id`表明用户的身份，`django`会在数据库中的`session_key`中查找，来判断用户是否授权，同时获取该用户`session_data`里的内容。`session_data`是一个序列化以后的字典，它包含哪些内容呢？默认的内容如下：\n",
    "```python\n",
    "dict_items([('_auth_user_id', '6'), ('_auth_user_backend', 'django.contrib.auth.backends.ModelBackend'), ('_auth_user_hash', 'db5f967f7e021394ce695f3bb2ad8cd920dbcc88')])\n",
    "```\n",
    "可见，它包含一个用户的id，用户授权对应的后台以及一个用户的hash值。\n",
    "\n",
    "接下来可以在视图里面通过`request.session`象操作字典一样操作`session`，通过`session`保存用户数据，和前端保存在`cookie`，或者象`vue`通过`vuex`保存数据一样，都是为了用户能在页面跳转以后仍然能够获取自己的数据。\n",
    "\n",
    "另外，注意重要的一点，django会将`cookie`中的`sessionid`设置为`httponly`模式，也就是说，无法通过前端的程序去读取`cookie`里的`sessionid`，只能通过视图主动的返回，在视图里，`sessionid`就是`request.session.session_key`的值。"
   ]
  },
  {
   "cell_type": "markdown",
   "metadata": {},
   "source": [
    "## 常见问题"
   ]
  },
  {
   "cell_type": "markdown",
   "metadata": {},
   "source": [
    "### 通过url传递变量时报错"
   ]
  },
  {
   "cell_type": "markdown",
   "metadata": {},
   "source": [
    "当使用`path`传递带变量的`url`，举例如下：\n",
    "```python\n",
    "<year>\n",
    "<int:year>\n",
    "```\n",
    "默认为字符串，如果标明类型，如上面的例子，整型的`year`，**<font color=\"red\">注意：冒号两边不能有空格，负责会报错。</font>**"
   ]
  },
  {
   "cell_type": "markdown",
   "metadata": {},
   "source": [
    "### 视图函数调用本地函数的时间不正确"
   ]
  },
  {
   "cell_type": "markdown",
   "metadata": {},
   "source": [
    "视图函数中有获取当前时间语句，代码如下：\n",
    "```Python\n",
    "import datetime\n",
    "now = datetime.datetime.now().strftime(\"%Y-%m-%d %H:%M\")\n",
    "```\n",
    "当函数作为主程序本地运行时，时间正常，但是通过浏览器发送`post`请求调用的时候，时间显示不正确。主要是因为直接运行时时区会使用服务器的配置，而发送`post`请求调用时，时区使用的是`django`的配置，`django`默认使用的是‘UTC’，美国洛杉矶时间。所以导致时间不对，需要修改`django`的配置。"
   ]
  },
  {
   "cell_type": "markdown",
   "metadata": {},
   "source": [
    "###  浏览器插件模拟POST请求时，返回总是为空"
   ]
  },
  {
   "cell_type": "markdown",
   "metadata": {},
   "source": [
    "一般在模拟`POST`请求时会出现这种情况，在请求的`header`中，只有设置`Content-Type：application/x-www-form-urlencoded`，注意不需要加引号，`Django`才会填充`request.POST`。"
   ]
  },
  {
   "cell_type": "markdown",
   "metadata": {},
   "source": [
    "### 新建项目运行报`Not found favicon.ico`等错误"
   ]
  },
  {
   "cell_type": "markdown",
   "metadata": {},
   "source": [
    "新建项目总是报`Not found favicon.ico`错误，同时还有其它错误，网上很多方法都不太相同，测试以下可行：\n",
    "1. 下载一个`ico`格式的图标，更名为`favicon.ico`，放入`static`文件夹下的任意文件夹内，不过要和下面的设置一致。\n",
    "2. 在模板`head`中加入以下代码：\n",
    "```python\n",
    "{% load staticfiles %}\n",
    "<link REL=\"shortcut icon\" href=\"{% static \"img/favicon.ico\" %}\"/>\n",
    "```\n",
    "注意，要先`load staticfiles`。"
   ]
  },
  {
   "cell_type": "markdown",
   "metadata": {},
   "source": [
    "## 网文收集"
   ]
  },
  {
   "cell_type": "markdown",
   "metadata": {},
   "source": [
    "### 安装和配置"
   ]
  },
  {
   "cell_type": "markdown",
   "metadata": {},
   "source": [
    "- [app如何重命名](https://stackoverflow.com/questions/8408046/how-to-change-the-name-of-a-django-app)\n",
    "- [Django的时区设置问题](https://www.cnblogs.com/sunxiuwen/p/10082027.html)"
   ]
  },
  {
   "cell_type": "markdown",
   "metadata": {},
   "source": [
    "### URL配置"
   ]
  },
  {
   "cell_type": "markdown",
   "metadata": {},
   "source": [
    "- [Django之url使用小技巧、项目类视图](https://blog.csdn.net/allensakaru/article/details/84205415)\n",
    "- [Django应用命名空间与实例命名空间](https://blog.csdn.net/weixin_30613433/article/details/97339917)"
   ]
  },
  {
   "cell_type": "markdown",
   "metadata": {},
   "source": [
    "### 视图相关"
   ]
  },
  {
   "cell_type": "markdown",
   "metadata": {},
   "source": [
    "- [django中级 --- RequestContext](https://www.jianshu.com/p/8dcd635d3af6)\n",
    "- [How to Work With AJAX Request With Django](https://simpleisbetterthancomplex.com/tutorial/2016/08/29/how-to-work-with-ajax-request-with-django.html)\n",
    "- [ajax请求为什么收不到302状态码](https://blog.csdn.net/weixin_34194551/article/details/85589273?depth_1-utm_source=distribute.pc_relevant.none-task&utm_source=distribute.pc_relevant.none-task)\n",
    "- [ajax请求如何异步返回结果](https://stackoverflow.com/questions/50961625/django-render-template-on-ajax-success?r=SearchResults)\n",
    "- [根据用户所属组登录不同的页面](https://stackoverflow.com/questions/16824004/django-conditional-login-redirect)\n",
    "- [Django通过next参数实现登录后跳转回到前一页的3种方法](https://blog.csdn.net/bbwangj/article/details/89172745)\n",
    "- [Django中针对基于类的视图添加 csrf_exempt](https://blog.csdn.net/kongxx/article/details/77322657)  \n",
    "- [Django之CSRF](https://cloud.tencent.com/developer/article/1333811)\n",
    "- [通过django-cors-headers插件在Django2.0中完美解决跨域请求的问题](https://blog.csdn.net/larger5/article/details/81265339)"
   ]
  },
  {
   "cell_type": "markdown",
   "metadata": {},
   "source": [
    "### 模型和表单"
   ]
  },
  {
   "cell_type": "markdown",
   "metadata": {},
   "source": [
    "- [表单无效时获取表单的错误](https://stackoverflow.com/questions/14647723/django-forms-if-not-valid-show-form-with-error-message?r=SearchResults)\n",
    "- [Django Form--自定义字段的规则验证和错误提示](https://www.cnblogs.com/dongmengze/p/9834900.html)\n",
    "- [官方文档-表单和字段的验证](https://docs.djangoproject.com/zh-hans/3.0/ref/forms/validation/)\n",
    "- [如何根据已有数据表生成model类](https://www.cnblogs.com/pythonywy/p/11379373.html)"
   ]
  },
  {
   "cell_type": "markdown",
   "metadata": {},
   "source": [
    "### 其它"
   ]
  },
  {
   "cell_type": "markdown",
   "metadata": {},
   "source": [
    "- [django中'_'下划线的含义](https://stackoverflow.com/questions/2964244/meaning-of-leading-underscore-in-list-of-tuples-used-to-define-choice-fields)\n",
    "- [Django中如何使用sass的方法步骤](https://www.jb51.net/article/164885.htm)"
   ]
  },
  {
   "cell_type": "markdown",
   "metadata": {},
   "source": [
    "### 引申阅读"
   ]
  },
  {
   "cell_type": "markdown",
   "metadata": {},
   "source": [
    "- [永久重定向 Vs 临时重定向](https://www.jianshu.com/p/3eb1878a06e6)\n",
    "- [详解 Cookie，Session，Token](https://www.jianshu.com/p/8b42bbe789a7)\n",
    "- [理解OAuth 2.0](http://www.ruanyifeng.com/blog/2014/05/oauth_2_0.html)\n",
    "- [什么是RESTful API以及Django RestFramework](https://www.jianshu.com/p/e90b26163cc5)"
   ]
  },
  {
   "cell_type": "code",
   "execution_count": null,
   "metadata": {},
   "outputs": [],
   "source": []
  }
 ],
 "metadata": {
  "kernelspec": {
   "display_name": "Python 3",
   "language": "python",
   "name": "python3"
  },
  "language_info": {
   "codemirror_mode": {
    "name": "ipython",
    "version": 3
   },
   "file_extension": ".py",
   "mimetype": "text/x-python",
   "name": "python",
   "nbconvert_exporter": "python",
   "pygments_lexer": "ipython3",
   "version": "3.7.6"
  },
  "toc": {
   "base_numbering": 1,
   "nav_menu": {},
   "number_sections": true,
   "sideBar": true,
   "skip_h1_title": true,
   "title_cell": "Django私房手册-安装配置和部署",
   "title_sidebar": "Django私房手册",
   "toc_cell": false,
   "toc_position": {
    "height": "calc(100% - 180px)",
    "left": "10px",
    "top": "150px",
    "width": "307.2px"
   },
   "toc_section_display": true,
   "toc_window_display": true
  },
  "varInspector": {
   "cols": {
    "lenName": 16,
    "lenType": 16,
    "lenVar": 40
   },
   "kernels_config": {
    "python": {
     "delete_cmd_postfix": "",
     "delete_cmd_prefix": "del ",
     "library": "var_list.py",
     "varRefreshCmd": "print(var_dic_list())"
    },
    "r": {
     "delete_cmd_postfix": ") ",
     "delete_cmd_prefix": "rm(",
     "library": "var_list.r",
     "varRefreshCmd": "cat(var_dic_list()) "
    }
   },
   "types_to_exclude": [
    "module",
    "function",
    "builtin_function_or_method",
    "instance",
    "_Feature"
   ],
   "window_display": false
  }
 },
 "nbformat": 4,
 "nbformat_minor": 2
}
