{
 "cells": [
  {
   "cell_type": "markdown",
   "metadata": {},
   "source": [
    "# CSS私房手册"
   ]
  },
  {
   "cell_type": "markdown",
   "metadata": {},
   "source": [
    "- [MDN CSS入门教程](https://developer.mozilla.org/zh-CN/docs/Web/Guide/CSS/Getting_started)"
   ]
  },
  {
   "cell_type": "markdown",
   "metadata": {},
   "source": [
    "## 层叠和继承"
   ]
  },
  {
   "cell_type": "markdown",
   "metadata": {},
   "source": [
    "- [官方](https://developer.mozilla.org/zh-CN/docs/Learn/CSS/Building_blocks/Cascade_and_inheritance)"
   ]
  },
  {
   "cell_type": "markdown",
   "metadata": {},
   "source": [
    "### 层叠"
   ]
  },
  {
   "cell_type": "markdown",
   "metadata": {},
   "source": [
    "层叠考虑三个方面：\n",
    "1. 资源顺序，如果有超过一条规则，而且都是相同的权重，那么最后面的规则会应用。可以理解为后面的规则覆盖前面的规则，直到最后一个开始设置样式。\n",
    "2. 优先级\n",
    " - 千位： 如果声明在 style 的属性（内联样式）则该位得一分。这样的声明没有选择器，所以它得分总是1000。\n",
    " - 百位： 选择器中包含ID选择器则该位得一分。\n",
    " - 十位： 选择器中包含类选择器、属性选择器或者伪类则该位得一分。\n",
    " - 个位：选择器中包含元素、伪元素选择器则该位得一分。\n",
    " - !important声明可以覆盖所有的优先级计算。\n",
    "3. 重要程度，相互冲突的声明将按以下顺序适用，后一种声明将覆盖前一种声明：\n",
    " - 用户代理样式表中的声明(例如，浏览器的默认样式，在没有设置其他样式时使用)。\n",
    " - 用户样式表中的常规声明(由用户设置的自定义样式)。\n",
    " - 作者样式表中的常规声明(这些是我们web开发人员设置的样式)。\n",
    " - 作者样式表中的!important声明\n",
    " - 用户样式表中的!important声明"
   ]
  },
  {
   "cell_type": "markdown",
   "metadata": {},
   "source": [
    "## 选择器"
   ]
  },
  {
   "cell_type": "markdown",
   "metadata": {},
   "source": [
    "- [官方](https://developer.mozilla.org/zh-CN/docs/Learn/CSS/Building_blocks/Selectors)\n",
    "- [CSS 选择器参考手册](https://www.w3school.com.cn/cssref/css_selectors.asp)"
   ]
  },
  {
   "cell_type": "markdown",
   "metadata": {},
   "source": [
    "### 选择器种类"
   ]
  },
  {
   "cell_type": "markdown",
   "metadata": {},
   "source": [
    "选择器总结：\n",
    "1. 标签选择器\n",
    "2. 属性选择器：包含在`[]`内，id属性为#，class属性为.\n",
    "3. 伪类选择器：跟在`:`后面，常用伪类选择器：\n",
    ">:link  \n",
    ":visited  \n",
    ":active  \n",
    ":hover  \n",
    ":focus  \n",
    ":first-child  \n",
    ":nth-child  \n",
    ":nth-last-child  \n",
    ":nth-of-type  \n",
    ":first-of-type  \n",
    ":last-of-type  \n",
    ":empty  \n",
    ":target  \n",
    ":checked  \n",
    ":enabled  \n",
    ":disabled  \n",
    "\n",
    "4. 关系选择器，可以用*表示任意元素\n",
    " - [CSS选择器之兄弟选择器（~和+）](https://www.cnblogs.com/jf-67/p/8987341.html)\n",
    "\n",
    "|选择器|选择的元素|\n",
    "|:---:|:---:|\n",
    "|A E|元素A的所有子孙元素E|\n",
    "|A > E|元素A的所有子元素E(也就是直系后代)|\n",
    "|E:first-child|元素E的第一个子元素|\n",
    "|B + E|B元素的下一个兄弟元素E|\n",
    "|B ~ E|B元素后面所有的兄弟元素E|"
   ]
  },
  {
   "cell_type": "markdown",
   "metadata": {},
   "source": [
    "### 常见坑"
   ]
  },
  {
   "cell_type": "markdown",
   "metadata": {},
   "source": [
    "#### 空格和>的区别"
   ]
  },
  {
   "cell_type": "markdown",
   "metadata": {},
   "source": [
    "两者都是后代选择器，空格不光包含子还包含孙，而`>`只有一代，只包含子不包含孙。\n",
    "- [CSS后代选择器“空格”和“>”的使用辨析](https://www.cnblogs.com/a7laya/p/8817945.html)"
   ]
  },
  {
   "cell_type": "markdown",
   "metadata": {},
   "source": [
    "#### :first-child 选择器"
   ]
  },
  {
   "cell_type": "markdown",
   "metadata": {},
   "source": [
    "- [CSS:first-child选择器](https://www.cnblogs.com/linqingvoe/p/10921292.html)\n",
    "\n",
    ":first-child和直觉是不一致的，比如`p:first-child`，直觉上，是选取p的第一个子元素，但是是错误的，正确的是，如果p是其父元素的第一个子元素，则匹配成功，否则则匹配不成功。如果想要选取p的第一个子元素，可以这样写：`p :first-child`，中间一个空格，或者`p *:first-child`，是一样的，但是可读性更强。"
   ]
  },
  {
   "cell_type": "markdown",
   "metadata": {},
   "source": [
    "#### + 和 ~ 兄弟选择器"
   ]
  },
  {
   "cell_type": "markdown",
   "metadata": {},
   "source": [
    "- +只能匹配紧挨着且在后面的兄弟节点，比如`h1 + p`则p必须紧跟着h1，且p和h1之间不能有其它的元素。\n",
    "- ~可以匹配后面的所有兄弟节点，不管是不是挨着。"
   ]
  },
  {
   "cell_type": "markdown",
   "metadata": {},
   "source": [
    "#### :last-child选择器"
   ]
  },
  {
   "cell_type": "markdown",
   "metadata": {},
   "source": [
    "如果父元素是body的话，不起作用，必须要是其它的容器。"
   ]
  },
  {
   "cell_type": "markdown",
   "metadata": {},
   "source": [
    "## 基础"
   ]
  },
  {
   "cell_type": "markdown",
   "metadata": {},
   "source": [
    "### body和html"
   ]
  },
  {
   "cell_type": "markdown",
   "metadata": {},
   "source": [
    "1. body和html默认会填满窗口的宽度，但是没有高度，高度完全由容器内容撑开。\n",
    "2. body默认会有一些margin。\n",
    "2. 如果为body设置背景色，会填满整个页面，而不是仅仅填满body容器，但是如果html设置了背景色，则body的背景色只填满自己所占的空间。"
   ]
  },
  {
   "cell_type": "markdown",
   "metadata": {},
   "source": [
    "### 溢出的内容"
   ]
  },
  {
   "cell_type": "markdown",
   "metadata": {},
   "source": [
    "- [官方](https://developer.mozilla.org/zh-CN/docs/Learn/CSS/Building_blocks/Overflowing_content)\n",
    "- [overflow-wrap](https://developer.mozilla.org/zh-CN/docs/Web/CSS/word-wrap)\n",
    "- [真正的能理解CSS中的line-height](https://blog.csdn.net/a2013126370/article/details/82786681)"
   ]
  },
  {
   "cell_type": "markdown",
   "metadata": {},
   "source": [
    "#### overflow"
   ]
  },
  {
   "cell_type": "markdown",
   "metadata": {},
   "source": [
    "- hidden: 溢出的部分隐藏\n",
    "- scroll: 由滚动条控制，但是不管是否溢出都有滚动条\n",
    "- auto: 溢出有滚动条，不溢出则没有\n",
    "\n",
    "scroll总是会显示滚动条，可以用overflow-x，overflow-y单独设置x轴还是y轴。"
   ]
  },
  {
   "cell_type": "markdown",
   "metadata": {},
   "source": [
    "#### 控制换行"
   ]
  },
  {
   "attachments": {
    "%E5%9B%BE%E7%89%87.png": {
     "image/png": "[encoded data removed]"
    }
   },
   "cell_type": "markdown",
   "metadata": {},
   "source": [
    "控制换行主要有2个属性，white-space和overflow-word，先来看white-space，white-space主要是控制空格和换行符的：\n",
    "![%E5%9B%BE%E7%89%87.png](attachment:%E5%9B%BE%E7%89%87.png)\n",
    "\n",
    "对于中文来说，默认溢出会按字换行，不溢出的话会合并空白字符，多个空格保留一个，并且忽略换行符，如果有换行符的话，会忽略换行符旁边的所有空格。\n",
    "- normal:  不保留空白和换行符，自动换行\n",
    "- pre会保留空白和换行符，溢出不换行，简单来说就是原汁原味，输入什么样，显示就是什么样。\n",
    "- nowrap会忽略空白，溢出不换行，忽略换行符，简单来说，和默认基本一样，只是溢出的话不换行。\n",
    "- pre-wrap会保留空白，溢出换行，并且保留换行符。pre-wrap和pre差不多，只是溢出会换行。\n",
    "- pre-line会合并空白字符，溢出换行，不溢出的话会保留换行符。和默认基本一样，只是会保留换行符。\n",
    "\n",
    "以上对英文也适用，因为中文溢出按字换行，因此中文控制主要靠white-space，补充一个小技巧：`white-space:nowrap; overflow:hidden; text-overflow:ellipsis;`不换行，超出部分隐藏且以省略号形式出现。\n",
    "\n",
    "再来看overflow-wrap，overflow-wrap比较简单，默认英文溢出的话，是按照单词进行换行，可以设置overflow-wrap属性为break-word，则按照从单词中间换行。另外还有个word-break属性，也可以在单词中间换行，但是和overflow-wrap有细微的区别：\n",
    "- overflow-wrap: breakword，如果单词太长的话，会先把这个单词另起一行，在中间截断。\n",
    "- word-break: break-all，如果单词太长的话，不会把单词另起一行，直接在中间截断。"
   ]
  },
  {
   "cell_type": "markdown",
   "metadata": {},
   "source": [
    "### 在CSS调整大小"
   ]
  },
  {
   "cell_type": "markdown",
   "metadata": {},
   "source": [
    "- [官方](https://developer.mozilla.org/zh-CN/docs/Learn/CSS/Building_blocks/Sizing_items_in_CSS)\n",
    "\n",
    "使用百分数时，最重要的是要弄清楚它是什么的百分数：\n",
    "1. 如果一个盒子使用百分数，则是其父容器的宽度或者高度的百分比，如果没有父容器，那么则是原来情况下占据的空间的百分比。\n",
    "2. 如果内外边距使用百分数，值都是以同一个内联尺寸进行计算的，一般的网页文字是从左到右，块的方向是从上到下，此时所谓内联尺寸就是指文字方向，即从左到右的宽度。注意，上下边距和左右边距都是以内联尺寸进行计算，因此，如果设置margin为10%，则上下边距和左右边距是一样的。注意：内联尺寸并不是width的值，具体计算公式不明。\n",
    "3. 图片设置为百分数，是以它的容器为参考，假设图片width设置为100%，是指将图片宽度变为100%的容器宽度，如果图片小于容器，图片会拉伸，如果图片大于容器，则会缩小，注意，图片会尽量保持原本的纵横比，因此如果只设置宽或者高，那么会等比例的收缩或者拉伸，如果同时设置了宽和高，两者都按指定百分比收缩或者拉伸，图片可能会变形，此时可以将max-width或者max-height属性设置为100%，则可以保持图片的比例，但是有可能出现“黑边”。"
   ]
  },
  {
   "cell_type": "markdown",
   "metadata": {},
   "source": [
    "#### object-fit"
   ]
  },
  {
   "cell_type": "markdown",
   "metadata": {},
   "source": [
    "- 图片可以通过object-fit属性进行控制，可以设置为cover和contain，和backgroud-size类似。注意和设置max-width和max-height为100%的区别，后者收缩以后会靠近顶部，而后者会居中显示。\n",
    "- 另外，object-fit必须要先设置width和height以后才能生效。"
   ]
  },
  {
   "cell_type": "markdown",
   "metadata": {},
   "source": [
    "### 内外边距"
   ]
  },
  {
   "cell_type": "markdown",
   "metadata": {},
   "source": [
    "#### box-sizing模式"
   ]
  },
  {
   "cell_type": "markdown",
   "metadata": {},
   "source": [
    "- [CSS3使用box-sizing布局](https://www.cnblogs.com/ooooevan/p/5470982.html)\n",
    "\n",
    "简单来说，box-sizing模式，width，height包含border和padding的内容。"
   ]
  },
  {
   "cell_type": "markdown",
   "metadata": {},
   "source": [
    "#### p元素的行间距"
   ]
  },
  {
   "cell_type": "markdown",
   "metadata": {},
   "source": [
    "p元素默认有1.12em的行间距，可以适用margin和inline-height进行修改，但是注意，inline-height不仅仅修改p和p之间的行间距，同时p内部文字如果是多行的话，也会被修改。"
   ]
  },
  {
   "cell_type": "markdown",
   "metadata": {},
   "source": [
    "### 背景与边框"
   ]
  },
  {
   "cell_type": "markdown",
   "metadata": {},
   "source": [
    "- [官方](https://developer.mozilla.org/zh-CN/docs/Learn/CSS/Building_blocks/Backgrounds_and_borders)"
   ]
  },
  {
   "cell_type": "markdown",
   "metadata": {},
   "source": [
    "默认情况下，会尽可能保持原长宽比，大图不会缩小。可以通过`background-size`来调整：\n",
    "- cover: 按比例缩放图片，覆盖整个容器，但有可能图片显示不全。\n",
    "- contain: 按比例缩放图片，直到显示整个图片，但是有可能会产生黑边。\n",
    "- 设置具体的数值或者百分比：完全控制图片大小，图片可能会产生变形或者黑边。"
   ]
  },
  {
   "cell_type": "markdown",
   "metadata": {},
   "source": [
    "### 值与单位"
   ]
  },
  {
   "cell_type": "markdown",
   "metadata": {},
   "source": [
    "#### 常用单位"
   ]
  },
  {
   "attachments": {
    "%E5%9B%BE%E7%89%87.png": {
     "image/png": "[encoded data removed]"
    }
   },
   "cell_type": "markdown",
   "metadata": {},
   "source": [
    "![%E5%9B%BE%E7%89%87.png](attachment:%E5%9B%BE%E7%89%87.png)"
   ]
  },
  {
   "cell_type": "markdown",
   "metadata": {},
   "source": [
    "#### position位置"
   ]
  },
  {
   "cell_type": "markdown",
   "metadata": {},
   "source": [
    "一个典型的位置值由两个值组成，第一个值水平地设置位置，第二个值垂直地设置位置，注意：如果只指定一个轴的值，另一个轴将默认为center。position主要用来设置img或者background-img的位置。"
   ]
  },
  {
   "cell_type": "markdown",
   "metadata": {},
   "source": [
    "### 定位"
   ]
  },
  {
   "cell_type": "markdown",
   "metadata": {},
   "source": [
    "定位有蛮多坑的，这里记录自己遇到的一部分：\n",
    "1. 不管是absolute还是relative，如果不设置top,left或者bottom, right的值，那么并不会发生移动，仍然停留在原位，哪怕只设置了一部分，比如top，未设置left，那么left并不是为0，而是原来的位置。但是注意，如果设置为absolute，则已经脱离了原来的文档流，下面的元素会填补此元素的位置，就好像这个元素不在这里一样，而如果是relative，则不会脱离文档流，虽然元素位置会改变，但是原来的位置仍然会保留，不会被其它元素填充。\n",
    "2. absolute会向上查找position不为static的父容器的左上角作为定位的依据，不会受父容器padding的影响，但是会受边框影响，总是会以父容器左上角边框内侧为定位点。如果所有父容器都没有position属性，则会以html标签外的容器为定位点，注意，html标签外的容器指窗口容器，不是html或者body，html包含在窗口容器内。"
   ]
  },
  {
   "cell_type": "markdown",
   "metadata": {},
   "source": [
    "## 布局"
   ]
  },
  {
   "cell_type": "markdown",
   "metadata": {},
   "source": [
    "文档本身具有默认的布局，通常情况下文字从左到右，块从上到下（可以更改），以下的技术会覆盖默认的布局行为：\n",
    "- display属性：传统的有block, inline或者inline-block。 接着是全新的布局方式，通过设置display的值, 比如Grid和Flexbox。\n",
    "- float属性：浮动，应用 float 值，诸如 left 能够让块级元素互相并排成一行，而不是一个堆叠在另一个上面。\n",
    "- position属性：允许精准设置盒子中的盒子的位置，正常布局流中，默认为static，使用其它值会引起元素不同的布局方式，例如将元素固定到浏览器视口的左上角。\n",
    "- 表格布局：表格的布局方式可以用在非表格内容上，可以使用display: table和相关属性在非表元素上使用。\n",
    "- 多列布局：这个Multi-column layout属性可以让块按列布局，比如报纸的内容就是一列一列排布的。"
   ]
  },
  {
   "cell_type": "markdown",
   "metadata": {},
   "source": [
    "### block、inline、inline-block"
   ]
  },
  {
   "cell_type": "markdown",
   "metadata": {},
   "source": [
    "display可以设置为以下的值，从而改变元素在布局中的默认行为：\n",
    "- inline: \n",
    " 1. 盒子不会产生换行。\n",
    " 2. width 和 height 属性将不起作用。\n",
    " 3. 垂直方向的内边距、外边距以及边框会被应用但是不会把其他处于 inline 状态的盒子推开。\n",
    " 4. 水平方向的内边距、外边距以及边框会被应用而且也会把其他处于 inline 状态的盒子推开。\n",
    "- block: 变成块元素，一个块一行。\n",
    " 1. 盒子会在内联的方向上扩展并占据父容器在该方向上的所有可用空间，在绝大数情况下意味着盒子会和父容器一样宽。\n",
    " 2. 每个盒子都会换行。\n",
    " 3. width 和 height 属性可以发挥作用。\n",
    " 4. 内边距（padding）, 外边距（margin）和边框（border）会将其他元素从当前盒子周围“推开”\n",
    "- inline-block：\n",
    " 1. 不会换行。\n",
    " 2. 设置width 和height 属性会生效。\n",
    " 3. padding, margin, 以及border 会推开其他元素。"
   ]
  },
  {
   "cell_type": "markdown",
   "metadata": {},
   "source": [
    "### float浮动"
   ]
  },
  {
   "cell_type": "markdown",
   "metadata": {},
   "source": [
    "- [CSS浮动(float,clear)通俗讲解](https://www.cnblogs.com/iyangyuan/archive/2013/03/27/2983813.html)"
   ]
  },
  {
   "cell_type": "markdown",
   "metadata": {},
   "source": [
    "### position定位"
   ]
  },
  {
   "cell_type": "markdown",
   "metadata": {},
   "source": [
    "- [绝对定位常见误区：position:absolute相对于谁定位、及当溢出时怎么隐藏](https://www.cnblogs.com/goloving/p/9275776.html)\n",
    "\n",
    "通过设置position属性，调整盒子的位置\n",
    "- relative相对定位: 以盒子在文档流中的原来的位置为参考点定位移动。\n",
    "- absolute绝对定位：绝对定位元素相对的元素是它最近的一个祖先，该祖先满足position的值必须是relative、absolute、fixed，若没有这样的祖先则相对于body进行定位。不过比较奇怪的是，当body设置了宽度的时候，absolute不是以body，而是以整个窗口作为参考进行定位。\n",
    "- fixed固定定位：定位的坐标不会应用于\"容器\"边框来计算元素的位置，而是会应用于视口(viewport)边框。\n",
    "- sticky粘性定位：它将默认的静态定位(static positioning)和固定定位(fixed positioning)相混合。当一个元素被指定了position: sticky时，它会在正常布局流中滚动，直到它出现在了我们给它设定的相对于容器的位置，这时候它就会停止随滚动移动，就像它被应用了position: fixed一样。"
   ]
  },
  {
   "cell_type": "markdown",
   "metadata": {},
   "source": [
    "### flex布局"
   ]
  },
  {
   "cell_type": "markdown",
   "metadata": {},
   "source": [
    "#### flex项的动态尺寸"
   ]
  },
  {
   "cell_type": "markdown",
   "metadata": {},
   "source": [
    "- [关于 Flex 中的 flex-grow、flex-shrink、flex-basis](https://www.jianshu.com/p/ea53c2daff9c)"
   ]
  },
  {
   "cell_type": "markdown",
   "metadata": {},
   "source": [
    "#### flex-grow 和flex的区别"
   ]
  },
  {
   "cell_type": "markdown",
   "metadata": {},
   "source": [
    "- [弹性盒模型中flex-grow和flex的区别](https://www.cnblogs.com/jinyuting/p/13199704.html?utm_source=tuicool&utm_medium=referral)"
   ]
  },
  {
   "cell_type": "markdown",
   "metadata": {},
   "source": [
    "#### 单独让一个元素靠右"
   ]
  },
  {
   "cell_type": "markdown",
   "metadata": {},
   "source": [
    "第一种方法：\n",
    "```\n",
    ".item{\n",
    "   margin-left:auto;\n",
    "}\n",
    "```\n",
    "第二种方法：\n",
    "```\n",
    ".item{\n",
    "   flex: 1;\n",
    "   text-align: right;\n",
    "}\n",
    "```\n",
    "第二种方法好理解，第一种方法会有一些疑问，原因是容器盒子的宽度是等于\"margin-left + border + padding-left + width + padding-right + border + margin-right\"，默认情况下，除了\"width\"其它都为0，盒子的宽度等于元素的宽度，但是当\"margin-left\" 设置了auto的时候，由于\"margin-left\"没有具体的值，那么盒子的宽度会占据剩余的整个空间。"
   ]
  },
  {
   "cell_type": "markdown",
   "metadata": {},
   "source": [
    "### 网格布局"
   ]
  },
  {
   "cell_type": "markdown",
   "metadata": {},
   "source": [
    "- [官方](https://developer.mozilla.org/zh-CN/docs/Web/CSS/CSS_Grid_Layout/Basic_Concepts_of_Grid_Layout)\n",
    "- [Grid 网格布局教程](http://www.ruanyifeng.com/blog/2019/03/grid-layout-tutorial.html)"
   ]
  },
  {
   "cell_type": "markdown",
   "metadata": {},
   "source": [
    "## 过渡和动画"
   ]
  },
  {
   "cell_type": "markdown",
   "metadata": {},
   "source": [
    "- [css3动画简介以及动画库animate.css的使用](http://www.animate.net.cn/1853.html)\n",
    "- [深入理解CSS过渡transition](https://www.cnblogs.com/xiaohuochai/p/5347930.html)\n",
    "- [css的Transform详解](https://www.jianshu.com/p/8a33214a1b26)\n",
    "- [探究CSS3中的transition和transform属性](https://www.jianshu.com/p/80f6051389bd)"
   ]
  },
  {
   "cell_type": "markdown",
   "metadata": {},
   "source": [
    "## SASS"
   ]
  },
  {
   "cell_type": "markdown",
   "metadata": {},
   "source": [
    "- [SASS用法指南](http://www.ruanyifeng.com/blog/2012/06/sass.html)"
   ]
  },
  {
   "cell_type": "markdown",
   "metadata": {},
   "source": [
    "## 常见问题"
   ]
  },
  {
   "cell_type": "markdown",
   "metadata": {},
   "source": [
    "- [对html与body的一些研究与理解](https://www.zhangxinxu.com/wordpress/2009/09/%E5%AF%B9html%E4%B8%8Ebody%E7%9A%84%E4%B8%80%E4%BA%9B%E7%A0%94%E7%A9%B6%E4%B8%8E%E7%90%86%E8%A7%A3/)\n",
    "- [关于html中的设置body宽高的理解](https://www.cnblogs.com/qq1871707128/p/6017125.html)\n",
    "- [Flex 布局教程：语法篇](http://www.ruanyifeng.com/blog/2015/07/flex-grammar.html)\n",
    "- [css属性选择器*=,|=,^=,$=,*=的区别](https://www.cnblogs.com/gugege/p/6340422.html)\n",
    "- [`:first-child`和`:first-of-type`的区别](https://www.jianshu.com/p/b6981849ab3b)"
   ]
  },
  {
   "cell_type": "code",
   "execution_count": null,
   "metadata": {},
   "outputs": [],
   "source": []
  }
 ],
 "metadata": {
  "kernelspec": {
   "display_name": "Python 3",
   "language": "python",
   "name": "python3"
  },
  "language_info": {
   "codemirror_mode": {
    "name": "ipython",
    "version": 3
   },
   "file_extension": ".py",
   "mimetype": "text/x-python",
   "name": "python",
   "nbconvert_exporter": "python",
   "pygments_lexer": "ipython3",
   "version": "3.7.6"
  },
  "toc": {
   "base_numbering": 1,
   "nav_menu": {},
   "number_sections": true,
   "sideBar": true,
   "skip_h1_title": true,
   "title_cell": "Table of Contents",
   "title_sidebar": "CSS私房手册",
   "toc_cell": false,
   "toc_position": {
    "height": "calc(100% - 180px)",
    "left": "10px",
    "top": "150px",
    "width": "307.2px"
   },
   "toc_section_display": true,
   "toc_window_display": true
  }
 },
 "nbformat": 4,
 "nbformat_minor": 4
}
