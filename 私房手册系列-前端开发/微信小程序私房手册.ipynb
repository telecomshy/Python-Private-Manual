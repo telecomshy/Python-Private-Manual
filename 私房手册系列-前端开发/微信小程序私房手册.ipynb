{
 "cells": [
  {
   "cell_type": "markdown",
   "metadata": {},
   "source": [
    "# 微信小程序私房手册"
   ]
  },
  {
   "cell_type": "markdown",
   "metadata": {},
   "source": [
    "- [官方小程序开发指南](https://developers.weixin.qq.com/ebook?action=get_post_info&docid=0008aeea9a8978ab0086a685851c0a)\n",
    "- [微信小程序开发规范文档](https://shimo.im/docs/eJWg56ioSvU0dnYO/read)\n",
    "\n",
    "本文是对官方教程的笔记，添加个人开发过程中遇到的问题及解决方法。"
   ]
  },
  {
   "cell_type": "markdown",
   "metadata": {},
   "source": [
    "## 基础部分"
   ]
  },
  {
   "cell_type": "markdown",
   "metadata": {},
   "source": [
    "### js文件逻辑部分"
   ]
  },
  {
   "cell_type": "markdown",
   "metadata": {},
   "source": [
    "#### data数据为嵌套对象的赋值"
   ]
  },
  {
   "cell_type": "markdown",
   "metadata": {},
   "source": [
    "`data`中的key非常灵活，可以以数据路径的字符串形式给出，假设如下的page.js文件：\n",
    "```javascript\n",
    "Page({\n",
    "  data: {\n",
    "    a: 1, b: 2, c: 3,\n",
    "    d: [1, {text: 'Hello'}, 3, 4]\n",
    "  }\n",
    "})\n",
    "```\n",
    "可以像下面这样修改`d`的值：\n",
    "```javascript\n",
    "this.setData({\"d[0]\": 100}); \n",
    "this.setData({\"d[1].text\": 'Goodbye'}); \n",
    "```\n",
    "原则是每次只设置需要改变的最小单位数据，可以提高小程序的渲染性能。"
   ]
  },
  {
   "cell_type": "markdown",
   "metadata": {},
   "source": [
    "#### form表单时附带其它数据"
   ]
  },
  {
   "cell_type": "markdown",
   "metadata": {},
   "source": [
    "`form`表单提交时，可以在按钮上以`data-[任意名称]`的形式添加一些数据，在`form`表单对应的函数中，通过`e.detail.target.dataset.[任意名称]`获取。"
   ]
  },
  {
   "cell_type": "markdown",
   "metadata": {},
   "source": [
    "### wxml文件视图部分"
   ]
  },
  {
   "cell_type": "markdown",
   "metadata": {},
   "source": [
    "#### `undefined`的变量不会渲染"
   ]
  },
  {
   "cell_type": "markdown",
   "metadata": {},
   "source": [
    "没有被定义的变量的或者是被设置为`undefined`的变量不会被同步到`wxml`中，就是`wxml`如果使用`{{}}`绑定了`data`的属性，但是这个属性在`js`文件中没有定义，最终不会进行渲染。"
   ]
  },
  {
   "cell_type": "markdown",
   "metadata": {},
   "source": [
    "#### 模板注意事项"
   ]
  },
  {
   "cell_type": "markdown",
   "metadata": {},
   "source": [
    "1. 如果要向模板传递多个变量，比如如下的模板：\n",
    "```html\n",
    "<template name=\"msgItem\">\n",
    "  <view>\n",
    "    <text> {{index}}: {{msg}} </text>\n",
    "    <text> Time: {{time}} </text>\n",
    "  </view>\n",
    "</template>\n",
    "```\n",
    "官网是这样进行调用：\n",
    "\n",
    "```html\n",
    "<!--\n",
    "item: {\n",
    "  index: 0,\n",
    "  msg: 'this is a template',\n",
    "  time: '2016-06-18'\n",
    "}\n",
    "-->\n",
    "\n",
    "<template is=\"msgItem\" data=\"{{...item}}\"/>\n",
    "```\n",
    "其中，`item`需要在js文件中定义，为data的属性。也可以直接像对象一样的传值，比如：\n",
    "```html\n",
    "<!--\n",
    "  idx: 0,\n",
    "  message: 'this is a template',\n",
    "  dt: '2016-06-18'\n",
    "-->\n",
    "\n",
    "<template is=\"msgItem\" data=\"{{index: idx, msg:message, time:dt}}\"/>\n",
    "```\n",
    "这样就将模板中的变量与data中的数据进行了双向绑定，如果data数据的key值和模板中的变量名称一致，可以使用ES6的简便写法，省略冒号：\n",
    "```html\n",
    "<!--\n",
    "  index: 0,\n",
    "  msg: 'this is a template,\n",
    "  time: '2016-06-18\n",
    "-->\n",
    "\n",
    "<template is=\"msgItem\" data=\"{{index, msg, time}}\"/>\n",
    "```\n",
    "仔细体会模板中的变量和data数据之间绑定的方式，与组件是不一样的。模板的花括号中是一个对象，其键对应的是模板内部的变量，值对应的是外部data数据，也可以是静态数据，模板通过键值对将内部变量和外部数据进行绑定。而组件中，属性的名称对应组件的内部变量，属性的值是外部data数据或者静态数据，是通过属性与外部数据进行绑定。"
   ]
  },
  {
   "cell_type": "markdown",
   "metadata": {},
   "source": [
    "### wxss样式部分"
   ]
  },
  {
   "cell_type": "markdown",
   "metadata": {},
   "source": [
    "#### :host伪选择器"
   ]
  },
  {
   "cell_type": "markdown",
   "metadata": {},
   "source": [
    "`:host`伪类选择器相当于在组件内部样式规则中选择宿主元素。所谓宿主元素指在组件外部，父元素模板里的`<app-conmpnent/>`元素。一般使用`:host`设置组件的一些默认样式。"
   ]
  },
  {
   "cell_type": "markdown",
   "metadata": {},
   "source": [
    "## 自定义组件"
   ]
  },
  {
   "cell_type": "markdown",
   "metadata": {},
   "source": [
    "### 组件与外部样式交互的方法概括"
   ]
  },
  {
   "cell_type": "markdown",
   "metadata": {},
   "source": [
    "- [官方文档](https://developers.weixin.qq.com/miniprogram/dev/framework/custom-component/wxml-wxss.html)\n",
    "\n",
    "组件有多种方法与外部的样式交互：\n",
    "1. 在`component`的构造器中设置`options`的`styleIsolation`属性，可以设置为`isolated`, `apply-shared`和`shared`。另外有个便捷的设置`addGlobalClass`为`true`，但是优先级比`styleIsolation`低。如果使用`component`构造器构造页面，则样式隔离也有相应的设置。\n",
    "2. 可以在`json`文件中配置`styleIsolation`，这样不用在构造器的`options`中再配置。\n",
    "3. 构造器配置属性`externalClasses:['my-class']`，注意不是在`options`中。`my-class`是外部`class`的别名，对外部来说是一个属性，对内部来说是样式类名。\n",
    "4. 即使开启了样式隔离为`isolated`，在组件内部也可以使用`~`或者`^`来引用外部样式类。"
   ]
  },
  {
   "cell_type": "markdown",
   "metadata": {},
   "source": [
    "### 通过`this.selectComponent`直接获取组件"
   ]
  },
  {
   "cell_type": "markdown",
   "metadata": {},
   "source": [
    "可以在父组件中通过`this.selectComponent()`获取子组件，不过要注意，`selectComponent`的参数是子组件在父组件中的一些标识符，比如如下的子组件：\n",
    "```html\n",
    "<my-view id=\"my-view\"></my-view>\n",
    "```\n",
    "则在父组件的js文件中，可以通过:\n",
    "```javascript\n",
    "child = this.selectComponent(\"#my-view\")\n",
    "```\n",
    "获取到子组件。注意一点，子组件的`properties`里的属性都会合并到`data`属性中去。\n",
    "\n",
    "另外，在子组件中的构造器中，可以使用`export(){}`方法自定义`select`选择器返回的内容，比如子组件的构造器为：\n",
    "```javascript\n",
    "Component({\n",
    "  behaviors: ['wx://component-export'],\n",
    "  export() {\n",
    "    return { myField: 'myValue' }\n",
    "  }\n",
    "})\n",
    "```\n",
    "则当在父组件中`child=this.selectComponent('#my-view')`获取到的结果为`{ myField: 'myValue' }`。"
   ]
  },
  {
   "cell_type": "markdown",
   "metadata": {},
   "source": [
    "## 第三方库的使用"
   ]
  },
  {
   "cell_type": "markdown",
   "metadata": {},
   "source": [
    "### 使用npm"
   ]
  },
  {
   "cell_type": "markdown",
   "metadata": {},
   "source": [
    "- [使用npm包-傻瓜式教程](https://blog.csdn.net/qq_32852047/article/details/90234484)"
   ]
  },
  {
   "cell_type": "markdown",
   "metadata": {},
   "source": [
    "### WxValidate使用"
   ]
  },
  {
   "cell_type": "markdown",
   "metadata": {},
   "source": [
    "- [微信小程序开发之表单验证](https://blog.csdn.net/weixin_41041379/article/details/82017301?utm_medium=distribute.pc_relevant.none-task-blog-BlogCommendFromMachineLearnPai2-3.nonecase&depth_1-utm_source=distribute.pc_relevant.none-task-blog-BlogCommendFromMachineLearnPai2-3.nonecasee)"
   ]
  },
  {
   "cell_type": "markdown",
   "metadata": {},
   "source": [
    "### weui使用"
   ]
  },
  {
   "cell_type": "markdown",
   "metadata": {},
   "source": [
    "从官网下载weui以后，按文档把style文件加加入到项目目录，然后在`app.json`文件中需要`@import \"style/weui.wxss\";`，但是发现style文件夹下只有一个`.less`文件。此时需要将`less`文件编译成`wxss`文件，步骤如下：\n",
    "- 全局安装`wxss-cli`脚手架工具：npm install -g wxss-cli。\n",
    "- 到style文件夹同级目录下，运行命令：`wxss ./style`。"
   ]
  },
  {
   "cell_type": "markdown",
   "metadata": {},
   "source": [
    "## 常见问题"
   ]
  },
  {
   "cell_type": "markdown",
   "metadata": {},
   "source": [
    "### 页面间传参 "
   ]
  },
  {
   "cell_type": "markdown",
   "metadata": {},
   "source": [
    "- [如何在微信小程序的页面间传递数据?](https://blog.csdn.net/bbsyi/article/details/80462262)"
   ]
  },
  {
   "cell_type": "markdown",
   "metadata": {},
   "source": [
    "### 如何将页面占满全屏"
   ]
  },
  {
   "cell_type": "markdown",
   "metadata": {},
   "source": [
    "需要在`wxss`文件中将`page`的`height`为`100%`。"
   ]
  },
  {
   "cell_type": "markdown",
   "metadata": {},
   "source": [
    "### 小程序自动更新"
   ]
  },
  {
   "cell_type": "markdown",
   "metadata": {},
   "source": [
    "- [微信小程序版本自动更新](https://www.jianshu.com/p/4f5e3faaf483)"
   ]
  },
  {
   "cell_type": "code",
   "execution_count": null,
   "metadata": {},
   "outputs": [],
   "source": []
  }
 ],
 "metadata": {
  "kernelspec": {
   "display_name": "Python 3",
   "language": "python",
   "name": "python3"
  },
  "language_info": {
   "codemirror_mode": {
    "name": "ipython",
    "version": 3
   },
   "file_extension": ".py",
   "mimetype": "text/x-python",
   "name": "python",
   "nbconvert_exporter": "python",
   "pygments_lexer": "ipython3",
   "version": "3.7.6"
  },
  "toc": {
   "base_numbering": 1,
   "nav_menu": {},
   "number_sections": true,
   "sideBar": true,
   "skip_h1_title": true,
   "title_cell": "Table of Contents",
   "title_sidebar": "微信小程序私房手册",
   "toc_cell": false,
   "toc_position": {},
   "toc_section_display": true,
   "toc_window_display": true
  }
 },
 "nbformat": 4,
 "nbformat_minor": 4
}
