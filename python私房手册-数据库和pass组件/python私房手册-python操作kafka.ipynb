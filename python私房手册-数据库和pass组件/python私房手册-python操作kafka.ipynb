{
 "cells": [
  {
   "cell_type": "markdown",
   "id": "670089e4",
   "metadata": {},
   "source": [
    "# python私房手册-python操作kafka"
   ]
  },
  {
   "cell_type": "markdown",
   "id": "8f538243",
   "metadata": {},
   "source": [
    "python操作kafka非常简单，安装`kafka-python`,有好几个python包，比如`confluent-kafka`, `PyKafka`，这里以`kafka-python`为例。\n",
    "- [这里是官网](https://kafka-python.readthedocs.io/en/master/index.html)"
   ]
  },
  {
   "cell_type": "markdown",
   "id": "139c722f",
   "metadata": {},
   "source": [
    "## 参考文档"
   ]
  },
  {
   "cell_type": "markdown",
   "id": "e99a80b3",
   "metadata": {},
   "source": [
    "- [partition和消费者的对应关系](https://www.cnblogs.com/sa-dan/p/8080197.html)\n",
    "- [kafka的groupid](https://blog.csdn.net/zgc625238677/article/details/103408123)\n",
    "- [Kafka下的生产消费者模式与订阅发布模式](https://blog.csdn.net/zwgdft/article/details/54633105)"
   ]
  },
  {
   "cell_type": "code",
   "execution_count": null,
   "id": "20c35985",
   "metadata": {},
   "outputs": [],
   "source": []
  }
 ],
 "metadata": {
  "kernelspec": {
   "display_name": "Python 3 (ipykernel)",
   "language": "python",
   "name": "python3"
  },
  "language_info": {
   "codemirror_mode": {
    "name": "ipython",
    "version": 3
   },
   "file_extension": ".py",
   "mimetype": "text/x-python",
   "name": "python",
   "nbconvert_exporter": "python",
   "pygments_lexer": "ipython3",
   "version": "3.10.9"
  },
  "toc": {
   "base_numbering": 1,
   "nav_menu": {},
   "number_sections": true,
   "sideBar": true,
   "skip_h1_title": true,
   "title_cell": "Table of Contents",
   "title_sidebar": "python私房手册-python操作kafka",
   "toc_cell": false,
   "toc_position": {},
   "toc_section_display": true,
   "toc_window_display": true
  }
 },
 "nbformat": 4,
 "nbformat_minor": 5
}
