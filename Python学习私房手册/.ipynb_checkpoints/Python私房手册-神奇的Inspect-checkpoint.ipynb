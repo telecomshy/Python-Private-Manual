{
 "cells": [
  {
   "cell_type": "markdown",
   "metadata": {},
   "source": [
    "# Python私房手册-神奇的`Inspect`"
   ]
  },
  {
   "cell_type": "markdown",
   "metadata": {},
   "source": [
    "`inspect`模块提供了一些有用的函数帮助获取对象的信息，例如模块、类、方法、函数、回溯、帧对象以及代码对象。例如它可以帮助你检查类的内容，获取某个方法的源代码，取得并格式化某个函数的参数列表，或者获取你需要显示的回溯的详细信息。\n",
    "\n",
    "该模块提供了4种主要的功能：类型检查、获取源代码、检查类与函数、检查解释器的调用堆栈。  \n",
    "- 点此查看[官方文档](https://docs.python.org/zh-cn/3.7/library/inspect.html#inspect.Signature.bind_partial)。"
   ]
  },
  {
   "cell_type": "markdown",
   "metadata": {},
   "source": [
    "## 对象类型检查"
   ]
  },
  {
   "cell_type": "markdown",
   "metadata": {},
   "source": [
    "我们有时候需要判断一个对象是一个类，还是一个方法，或者一个函数，此时可以使用`inspect`的各种方法，如："
   ]
  },
  {
   "cell_type": "code",
   "execution_count": 15,
   "metadata": {},
   "outputs": [
    {
     "data": {
      "text/plain": [
       "True"
      ]
     },
     "execution_count": 15,
     "metadata": {},
     "output_type": "execute_result"
    }
   ],
   "source": [
    "import inspect\n",
    "\n",
    "class C:\n",
    "    \"\"\"\n",
    "    C class\n",
    "    \"\"\"\n",
    "    def add(self, a, b):\n",
    "        return a + b\n",
    "\n",
    "inspect.isclass(C)"
   ]
  },
  {
   "cell_type": "markdown",
   "metadata": {},
   "source": [
    "`inspect`的以`is`开头的方法一般都是进行类型检查的方法，具体可以查看官方文档。"
   ]
  },
  {
   "cell_type": "markdown",
   "metadata": {},
   "source": [
    "## 获取对象的成员"
   ]
  },
  {
   "cell_type": "markdown",
   "metadata": {},
   "source": [
    "`getmembers`方法可以获取传入对象的成员，比如："
   ]
  },
  {
   "cell_type": "code",
   "execution_count": 20,
   "metadata": {},
   "outputs": [
    {
     "data": {
      "text/plain": [
       "[('__class__', type),\n",
       " ('__delattr__', <slot wrapper '__delattr__' of 'object' objects>),\n",
       " ('__dict__',\n",
       "  mappingproxy({'__module__': '__main__',\n",
       "                '__doc__': '\\n    C class\\n    ',\n",
       "                'add': <function __main__.C.add(self, a, b)>,\n",
       "                '__dict__': <attribute '__dict__' of 'C' objects>,\n",
       "                '__weakref__': <attribute '__weakref__' of 'C' objects>})),\n",
       " ('__dir__', <method '__dir__' of 'object' objects>),\n",
       " ('__doc__', '\\n    C class\\n    '),\n",
       " ('__eq__', <slot wrapper '__eq__' of 'object' objects>),\n",
       " ('__format__', <method '__format__' of 'object' objects>),\n",
       " ('__ge__', <slot wrapper '__ge__' of 'object' objects>),\n",
       " ('__getattribute__', <slot wrapper '__getattribute__' of 'object' objects>),\n",
       " ('__gt__', <slot wrapper '__gt__' of 'object' objects>),\n",
       " ('__hash__', <slot wrapper '__hash__' of 'object' objects>),\n",
       " ('__init__', <slot wrapper '__init__' of 'object' objects>),\n",
       " ('__init_subclass__', <function C.__init_subclass__>),\n",
       " ('__le__', <slot wrapper '__le__' of 'object' objects>),\n",
       " ('__lt__', <slot wrapper '__lt__' of 'object' objects>),\n",
       " ('__module__', '__main__'),\n",
       " ('__ne__', <slot wrapper '__ne__' of 'object' objects>),\n",
       " ('__new__', <function object.__new__(*args, **kwargs)>),\n",
       " ('__reduce__', <method '__reduce__' of 'object' objects>),\n",
       " ('__reduce_ex__', <method '__reduce_ex__' of 'object' objects>),\n",
       " ('__repr__', <slot wrapper '__repr__' of 'object' objects>),\n",
       " ('__setattr__', <slot wrapper '__setattr__' of 'object' objects>),\n",
       " ('__sizeof__', <method '__sizeof__' of 'object' objects>),\n",
       " ('__str__', <slot wrapper '__str__' of 'object' objects>),\n",
       " ('__subclasshook__', <function C.__subclasshook__>),\n",
       " ('__weakref__', <attribute '__weakref__' of 'C' objects>),\n",
       " ('add', <function __main__.C.add(self, a, b)>)]"
      ]
     },
     "execution_count": 20,
     "metadata": {},
     "output_type": "execute_result"
    }
   ],
   "source": [
    "inspect.getmembers(C)"
   ]
  },
  {
   "cell_type": "markdown",
   "metadata": {},
   "source": [
    "它还可以传入第二个参数，对对象的成员进行过滤，`callable`类型的函数都可以作为第二个参数，`is`开头的方法也可以，这样的比如："
   ]
  },
  {
   "cell_type": "code",
   "execution_count": 24,
   "metadata": {},
   "outputs": [
    {
     "data": {
      "text/plain": [
       "[('add', <function __main__.C.add(self, a, b)>)]"
      ]
     },
     "execution_count": 24,
     "metadata": {},
     "output_type": "execute_result"
    }
   ],
   "source": [
    "inspect.getmembers(C, inspect.isfunction)"
   ]
  },
  {
   "cell_type": "markdown",
   "metadata": {},
   "source": [
    "## 提取源码"
   ]
  },
  {
   "cell_type": "markdown",
   "metadata": {},
   "source": [
    "主要有如下方法：\n",
    "- `getsource`：可以获取对象的源代码。\n",
    "- `getdoc`：获取对象的文档字符串，用`cleandoc()`清理。如果没有提供对象的文档字符串，而对象是类、方法、属性或描述符，则从继承层次结构中检索文档字符串。\n",
    "- `getfile`：返回定义对象的(文本或二进制)文件的名称。如果对象是内置模块、类或函数，则此操作将失败，并带有类型错误。\n",
    "- `getmodule`：尝试猜测对象是在哪个模块中定义的。"
   ]
  },
  {
   "cell_type": "markdown",
   "metadata": {},
   "source": [
    "注意，传入对象时，需要先导入对象。另外，上面某些方法，官方文档提示内置模块、类或者函数会导致失败，但是测试是可以的。但如果对象和`inspect`的代码在同一个文件中，就会失败，比如："
   ]
  },
  {
   "cell_type": "code",
   "execution_count": 49,
   "metadata": {},
   "outputs": [
    {
     "name": "stdout",
     "output_type": "stream",
     "text": [
      "<module '__main__'> is a built-in class\n"
     ]
    }
   ],
   "source": [
    "try:\n",
    "    inspect.getfile(C)\n",
    "except TypeError as e:\n",
    "    print(e)"
   ]
  },
  {
   "cell_type": "markdown",
   "metadata": {},
   "source": [
    "## 使用签名对象内省`callable`对象"
   ]
  },
  {
   "cell_type": "markdown",
   "metadata": {},
   "source": [
    "从字面上看，这个功能比较难理解，主要的应用场景就是函数的参数类型检查，还是通过代码来理解："
   ]
  },
  {
   "cell_type": "code",
   "execution_count": 51,
   "metadata": {},
   "outputs": [],
   "source": [
    "def func(a, b):\n",
    "    return a + b\n",
    "\n",
    "sig = inspect.signature(func)"
   ]
  },
  {
   "cell_type": "markdown",
   "metadata": {},
   "source": [
    "首先通过`inspect.signature(function)`方法获取一个函数的签名，返回一个`signature`对象，可以通过`signature`对象的`parameters`方法获取签名中的参数，返回的是一个有序的包含参数名称和参数对象的映射："
   ]
  },
  {
   "cell_type": "code",
   "execution_count": 58,
   "metadata": {},
   "outputs": [
    {
     "data": {
      "text/plain": [
       "mappingproxy({'a': <Parameter \"a\">, 'b': <Parameter \"b\">})"
      ]
     },
     "execution_count": 58,
     "metadata": {},
     "output_type": "execute_result"
    }
   ],
   "source": [
    "sig.parameters"
   ]
  },
  {
   "cell_type": "markdown",
   "metadata": {},
   "source": [
    "每一个参数，这里称为形参，都是一个`Parameter`对象，可以通过这个对象，可以返回参数的注释、名称、类型等等信息："
   ]
  },
  {
   "cell_type": "code",
   "execution_count": 60,
   "metadata": {},
   "outputs": [
    {
     "data": {
      "text/plain": [
       "inspect._empty"
      ]
     },
     "execution_count": 60,
     "metadata": {},
     "output_type": "execute_result"
    }
   ],
   "source": [
    "a = sig.parameters['a']\n",
    "a.annotation"
   ]
  },
  {
   "cell_type": "code",
   "execution_count": 61,
   "metadata": {},
   "outputs": [
    {
     "data": {
      "text/plain": [
       "'a'"
      ]
     },
     "execution_count": 61,
     "metadata": {},
     "output_type": "execute_result"
    }
   ],
   "source": [
    "a.name"
   ]
  },
  {
   "cell_type": "markdown",
   "metadata": {},
   "source": [
    "可以使用`Signature`的`bind`，或者`bind_partial`方法将参数和实际的值（实参）进行绑定，绑定了以后返回一个`BoundAuguments`对象，它有一个`arguments`属性，返回一个有序字典，包含绑定的所有形参->实参对："
   ]
  },
  {
   "cell_type": "code",
   "execution_count": 97,
   "metadata": {},
   "outputs": [
    {
     "data": {
      "text/plain": [
       "<BoundArguments (a=1, b=2)>"
      ]
     },
     "execution_count": 97,
     "metadata": {},
     "output_type": "execute_result"
    }
   ],
   "source": [
    "ba = sig.bind(1, 2)\n",
    "ba"
   ]
  },
  {
   "cell_type": "code",
   "execution_count": 98,
   "metadata": {},
   "outputs": [
    {
     "data": {
      "text/plain": [
       "OrderedDict([('a', 1), ('b', 2)])"
      ]
     },
     "execution_count": 98,
     "metadata": {},
     "output_type": "execute_result"
    }
   ],
   "source": [
    "ba.arguments"
   ]
  },
  {
   "cell_type": "markdown",
   "metadata": {},
   "source": [
    "整个过程就是这样，举个不怎么恰当的例子加深理解，比如，我们要检查一个函数中有没有`a`这个参数，如果没有则抛出`ValueError`错误，否则将a设置为1："
   ]
  },
  {
   "cell_type": "code",
   "execution_count": 99,
   "metadata": {},
   "outputs": [
    {
     "data": {
      "text/plain": [
       "3"
      ]
     },
     "execution_count": 99,
     "metadata": {},
     "output_type": "execute_result"
    }
   ],
   "source": [
    "import inspect\n",
    "from inspect import signature\n",
    "\n",
    "\n",
    "def check_a(func):\n",
    "    def wrapper(*args, **kwargs):\n",
    "        sig = signature(func)\n",
    "        if 'a' in sig.parameters:\n",
    "            ba = sig.bind(*args, **kwargs)\n",
    "            ba.arguments['a'] = 1\n",
    "            return func(*ba.args, **ba.kwargs)\n",
    "        else:\n",
    "            raise ValueError(\"has no 'a' parameter\")\n",
    "    return wrapper\n",
    "\n",
    "@check_a\n",
    "def func(a, b):\n",
    "    return a + b\n",
    "\n",
    "func(5, 2)"
   ]
  },
  {
   "cell_type": "code",
   "execution_count": 95,
   "metadata": {},
   "outputs": [
    {
     "name": "stdout",
     "output_type": "stream",
     "text": [
      "has no 'a' parameter\n"
     ]
    }
   ],
   "source": [
    "@check_a\n",
    "def func(b, c):\n",
    "    return b + c\n",
    "\n",
    "try:\n",
    "    func(1, 2)\n",
    "except ValueError as e:\n",
    "    print(e)"
   ]
  },
  {
   "cell_type": "markdown",
   "metadata": {},
   "source": [
    "下图简单的梳理了一下它们的关系："
   ]
  },
  {
   "attachments": {
    "%E5%9B%BE%E7%89%87.png": {
     "image/png": "[encoded data removed]"
    }
   },
   "cell_type": "markdown",
   "metadata": {},
   "source": [
    "![%E5%9B%BE%E7%89%87.png](attachment:%E5%9B%BE%E7%89%87.png)"
   ]
  },
  {
   "cell_type": "markdown",
   "metadata": {},
   "source": [
    "下面逐个来看这几个对象的方法和属性："
   ]
  },
  {
   "cell_type": "markdown",
   "metadata": {},
   "source": [
    "### `Signature`对象"
   ]
  },
  {
   "cell_type": "code",
   "execution_count": null,
   "metadata": {},
   "outputs": [],
   "source": []
  },
  {
   "cell_type": "markdown",
   "metadata": {},
   "source": [
    "### `Parameter`对象"
   ]
  },
  {
   "cell_type": "code",
   "execution_count": null,
   "metadata": {},
   "outputs": [],
   "source": []
  },
  {
   "cell_type": "markdown",
   "metadata": {},
   "source": [
    "### `BoundArguments`对象"
   ]
  },
  {
   "cell_type": "code",
   "execution_count": null,
   "metadata": {},
   "outputs": [],
   "source": []
  }
 ],
 "metadata": {
  "kernelspec": {
   "display_name": "Python 3",
   "language": "python",
   "name": "python3"
  },
  "language_info": {
   "codemirror_mode": {
    "name": "ipython",
    "version": 3
   },
   "file_extension": ".py",
   "mimetype": "text/x-python",
   "name": "python",
   "nbconvert_exporter": "python",
   "pygments_lexer": "ipython3",
   "version": "3.7.3"
  },
  "toc": {
   "base_numbering": 1,
   "nav_menu": {},
   "number_sections": true,
   "sideBar": true,
   "skip_h1_title": true,
   "title_cell": "Table of Contents",
   "title_sidebar": "Python私房手册-神奇的Inspect",
   "toc_cell": false,
   "toc_position": {},
   "toc_section_display": true,
   "toc_window_display": false
  },
  "varInspector": {
   "cols": {
    "lenName": 16,
    "lenType": 16,
    "lenVar": 40
   },
   "kernels_config": {
    "python": {
     "delete_cmd_postfix": "",
     "delete_cmd_prefix": "del ",
     "library": "var_list.py",
     "varRefreshCmd": "print(var_dic_list())"
    },
    "r": {
     "delete_cmd_postfix": ") ",
     "delete_cmd_prefix": "rm(",
     "library": "var_list.r",
     "varRefreshCmd": "cat(var_dic_list()) "
    }
   },
   "types_to_exclude": [
    "module",
    "function",
    "builtin_function_or_method",
    "instance",
    "_Feature"
   ],
   "window_display": false
  }
 },
 "nbformat": 4,
 "nbformat_minor": 2
}
