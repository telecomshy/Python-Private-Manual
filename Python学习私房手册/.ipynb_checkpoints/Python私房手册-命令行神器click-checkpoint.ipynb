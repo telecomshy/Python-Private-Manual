{
 "cells": [
  {
   "cell_type": "markdown",
   "metadata": {},
   "source": [
    "# Python私房手册-命令行神器click"
   ]
  },
  {
   "cell_type": "markdown",
   "metadata": {},
   "source": [
    "- [click官网](https://click.palletsprojects.com/)"
   ]
  },
  {
   "cell_type": "markdown",
   "metadata": {},
   "source": [
    "## `click`基础"
   ]
  },
  {
   "attachments": {
    "%E5%9B%BE%E7%89%87.png": {
     "image/png": "[encoded data removed]"
    }
   },
   "cell_type": "markdown",
   "metadata": {},
   "source": [
    "![%E5%9B%BE%E7%89%87.png](attachment:%E5%9B%BE%E7%89%87.png)"
   ]
  },
  {
   "cell_type": "markdown",
   "metadata": {},
   "source": [
    "先从常见的一个`ping`命令来理解`click`的思路，`click`把一个python文件视为一个命令，加入上面的`ping`命令是一个`ping.py`文件，那么看起来是这样的：`D:\\>python ping.py www.baidu.com -n 3`。\n",
    "\n",
    "在文件的内部，通过`@click.command()`装饰器，包装一个函数，这个函数就是该命令（等同于文件）的回调函数，执行`D:\\>python ping.py www.baidu.com -n 3`这条命令的时候，也就是调用这个回调函数，模拟一下就像这样:\n",
    "```python\n",
    "import click\n",
    "\n",
    "@click.command()\n",
    "@click.argument('url')\n",
    "@click.option('-n', type=int)\n",
    "def cli(url, n):\n",
    "    ...\n",
    "    \n",
    "if __name__ == \"__main__\":\n",
    "    cli()\n",
    "```\n",
    "最后，`click`集成了`setuptools`，可以将python文件完全模拟成命令，见后期的高级用法。"
   ]
  },
  {
   "cell_type": "markdown",
   "metadata": {},
   "source": [
    "## 参数和选项的类型"
   ]
  },
  {
   "cell_type": "markdown",
   "metadata": {},
   "source": [
    "选项可以是不同的类型，比如字符串、数字、日期等等。可以通过`type`关键字参数指定类型，如果没有指定，则以`default`的值的类型为准，如果也没有指定，则为默认的字符串类型。"
   ]
  },
  {
   "cell_type": "markdown",
   "metadata": {},
   "source": [
    "### 文件类型"
   ]
  },
  {
   "cell_type": "markdown",
   "metadata": {},
   "source": [
    "`click`可以定义很多参数类型，大部分都比较简单。这里只记录文档描述不是很详细，自己测试过的部分。对于`argument`是文件类型的参数，代码如下：\n",
    "```python\n",
    "import click\n",
    "\n",
    "@click.command()\n",
    "@click.argument('input', type=click.File('rb'))\n",
    "@click.argument('output', type=click.File('wb'))\n",
    "def inout(input, output):\n",
    "    while True:\n",
    "        chunk = input.read(1024)\n",
    "        if not chunk:\n",
    "            break\n",
    "        output.write(chunk)\n",
    "        \n",
    "\n",
    "if __name__ == \"__main__\":\n",
    "    inout()\n",
    "```\n",
    "这里的`input`和`output`是文件包装对象，使用的时候使用绝对路径，相对路径都可以，比如：\n",
    "- `python test.py d:\\poem.txt copypoem.txt`\n",
    "- `python test.py poem.txt copypoem.txt`\n",
    "- `python test.py .\\poem.txt copypoem.txt`\n",
    "\n",
    "注意，不光可以输入文件名，还可以使用`stdin`和`stdout`作为输入或者输出。可以用`-`符号来特指`stdin`或者`stdout`。比如这样:\n",
    "- `python test.py - poem.txt`：表示将屏幕输入的内容输出到poem.txt文件。\n",
    "- `python test.py poem.txt -`：表示将poem.txt文件的内容输出到屏幕。\n",
    "\n",
    "这里引出一个很有意思的小问题，即屏幕输入的时候，怎样才能结束，具体的解释参考《python私房手册-python哪些事》的内置函数一节。在这里，需要连按两次`CTRL+Z`才能结束输入。\n",
    "\n",
    "如果文件名里面有`-`号，比如`D:\\>python test.py poem.txt -copypoem.txt`，想要输出到`-copypoem.txt`文件，此时`click`会认为`-copypoem.txt`是一个选项，会出现提示：\n",
    "```python\n",
    "Usage: test.py [OPTIONS] INPUT OUTPUT\n",
    "Try \"test.py --help\" for help.\n",
    "\n",
    "Error: no such option: -c\n",
    "```\n",
    "解决办法是在文件名前加`--`：`D:\\>python test.py poem.txt --  -copypoem.txt`。当然，如果使用`option`不适用`argument`，就不存在这个问题。除此之外，还可以设置上下文的`ignore_unknown_options`选项为`True`，如下：\n",
    "```python\n",
    "@click.command(context_settings={\"ignore_unknown_options\": True})\n",
    "@click.argument('input', type=click.File('rb'))\n",
    "@click.argument('output', type=click.File('wb'))\n",
    "def inout(input, output):\n",
    "    while True:\n",
    "        chunk = input.read(1024)\n",
    "        if not chunk:\n",
    "            break\n",
    "        output.write(chunk)\n",
    "```"
   ]
  },
  {
   "cell_type": "markdown",
   "metadata": {},
   "source": [
    "### 文件路径类型"
   ]
  },
  {
   "cell_type": "markdown",
   "metadata": {},
   "source": [
    "文件参数传入的直接就是文件的包装对象，比如下面的代码：\n",
    "```python\n",
    "@click.command()\n",
    "@click.argument('file', type=click.File('r')) \n",
    "def hello(file):\n",
    "    click.echo(file)\n",
    "```\n",
    "打印出来是这样：\n",
    "```python\n",
    "<_io.TextIOWrapper name='poem.txt' mode='r' encoding='cp936'>\n",
    "```\n",
    "如果想要传入一个表示路径的字符串，则需要使用文件路径类型，如下：\n",
    "```python\n",
    "@click.command()\n",
    "@click.argument('filename', type=click.Path(exists=True))  # 要求给定路径存在，否则报错\n",
    "def hello(filename):\n",
    "    click.echo(type(filename))\n",
    "    click.echo(click.format_filename(filename))\n",
    "```\n",
    "输出为：\n",
    "```python\n",
    "(base) D:\\>python test.py poem.txt\n",
    "<class 'str'>\n",
    "poem.txt\n",
    "```\n",
    "上面的代码说明它传入的就是一个普通的字符串，那么它和字符串参数有什么区别呢？主要就是它可以代替我们做很多检查，具体的函数签名如下：\n",
    "```\n",
    "class click.Path(exists=False, file_okay=True, dir_okay=True, writable=False, readable=True, resolve_path=False, allow_dash=False, path_type=None)\n",
    "```\n",
    "可见，它可以检查文件或路径是否存在，是否是文件或者文件夹，是否可写，可读等等。如果检查未通过，则抛出错误信息。"
   ]
  },
  {
   "cell_type": "markdown",
   "metadata": {},
   "source": [
    "## 选项"
   ]
  },
  {
   "cell_type": "markdown",
   "metadata": {},
   "source": [
    "### 选项名称和值"
   ]
  },
  {
   "cell_type": "markdown",
   "metadata": {},
   "source": [
    "注意以下几点：\n",
    "1. 选项必须前面带短横线前缀，如果命令后面跟着的字符串不带短横线，`click`会认为这是一个参数而不是选项。\n",
    "2. 定义选项的时候，至少有一个任意带短横线的位置参数，多则不限，同时最多只能有一个不带短横线的位置参数，这个位置参数是作为回调函数的形参的名称，比如：\n",
    "\n",
    "```python\n",
    "@click.option('--string-to-echo', '-s', 'string','--echo')  # 使用的时候，可以通过--string-to-echo,-s,--echo任意一个指定选项的值\n",
    "def echo(string):\n",
    "    click.echo(string)\n",
    "\n",
    "@click.option('-s', 'string', '--echo')  # 位置是任意的，click可以正确的识别\n",
    "def echo(string):\n",
    "    click.echo(string)\n",
    "\n",
    "@click.option('-s', '--echo', 'text')  # text是回调函数的形参的名称\n",
    "def echo(text):\n",
    "    click.echo(text)\n",
    "```\n",
    "对于回调函数的参数的名称，几个规则如下：\n",
    "1. 按照不带短横线的参数，第一个带双短横线前缀的参数，第一个单短横线的参数作为查找的顺序，定义回调函数的参数名称。\n",
    "2. click会对一些特殊的`option`字符串进行转换，再作为回调函数的参数，规则如下：\n",
    " - 最多去掉2个短横线，剩下的全部变成下划线\n",
    " - 全部转成小写字母\n",
    "\n",
    "以下是几个例子：\n",
    "- \"-f\", \"--foo-bar\", the name is foo_bar\n",
    "- \"-x\", the name is x\n",
    "- \"-f\", \"--filename\", \"dest\", the name is dest\n",
    "- \"--CamelCase\", the name is camelcase\n",
    "- \"-f\", \"-fb\", the name is f\n",
    "- \"--f\", \"--foo-bar\", the name is f\n",
    "- \"---f\", the name is _f \n",
    "\n",
    "对于选项的值，如果没有`type`关键字指定了类型，则和`default`关键字参数的值类型一致，否则默认为字符串类型。对于值的指定，有几种方式：\n",
    "1. 对于长选项，可以使用空格和`=`号指定值，如：\n",
    "\n",
    "```\n",
    "(base) D:\\>python test.py --rolls 2d3\n",
    "Rolling a 3-sided dice 2 time(s)\n",
    "\n",
    "(base) D:\\>python test.py --rolls=2d3\n",
    "Rolling a 3-sided dice 2 time(s)\n",
    "```\n",
    "2. 对于短选项，因为只有一个字符，因此可以使用空格或者后面紧跟值即可，如：\n",
    "\n",
    "```\n",
    "(base) D:\\>python test.py -r2d3\n",
    "Rolling a 3-sided dice 2 time(s)\n",
    "\n",
    "(base) D:\\>python test.py -r 2d3\n",
    "Rolling a 3-sided dice 2 time(s)\n",
    "```"
   ]
  },
  {
   "cell_type": "markdown",
   "metadata": {},
   "source": [
    "### 多值选项"
   ]
  },
  {
   "cell_type": "markdown",
   "metadata": {},
   "source": [
    " `nargs`：表示选项接收多个值，传入回调函数的是一个元组。如果`type`已经是元组，比如`type=(str, int)`，则不需要再指定`nargs`。 "
   ]
  },
  {
   "cell_type": "markdown",
   "metadata": {},
   "source": [
    "### 多选项"
   ]
  },
  {
   "cell_type": "markdown",
   "metadata": {},
   "source": [
    "`multiple`：布尔值，表示将相同选项的值全部收集到一起，作为元组传递给回调函数。代码如下：\n",
    "```python\n",
    "@click.command()\n",
    "@click.option('--message', '-m', multiple=True)\n",
    "def commit(message):\n",
    "    click.echo(message)\n",
    "```\n",
    "使用的时候：\n",
    "```python\n",
    "python test.py -m shy -m 40 --message hello,world\n",
    "```"
   ]
  },
  {
   "cell_type": "markdown",
   "metadata": {},
   "source": [
    "### 计数选项"
   ]
  },
  {
   "cell_type": "markdown",
   "metadata": {},
   "source": [
    "`count`：布尔值，计值选项。可以统计选项的个数，比如：\n",
    "```python\n",
    "@click.command()\n",
    "@click.option('-v', '--verbose', count=True)\n",
    "def log(verbose):\n",
    "    click.echo(f'Verbosity: {verbose}')\n",
    "```\n",
    "\n",
    "输出为：\n",
    "```\n",
    "(base) D:\\>python test.py -vvvvv\n",
    "Verbosity: 5\n",
    "\n",
    "(base) D:\\>python test.py --verbose --verbose\n",
    "Verbosity: 2\n",
    "```\n",
    "注意，计值选项后面不跟具体的值。常用的应用场景是可以根据计值选项来控制日志的详细程度。"
   ]
  },
  {
   "cell_type": "markdown",
   "metadata": {},
   "source": [
    "### 布尔选项"
   ]
  },
  {
   "cell_type": "markdown",
   "metadata": {},
   "source": [
    "`is_flag`：布尔值，表示布尔选项，表示该值为`True`或者`False`。比如：\n",
    "```python\n",
    "@click.command()\n",
    "@click.option('--shout', is_flag=True)\n",
    "def log(shout):\n",
    "    click.echo(shout)\n",
    "```\n",
    "调用的时候，后面不跟任何值：\n",
    "\n",
    "```\n",
    "(base) D:\\>python test.py --shout\n",
    "True\n",
    "\n",
    "(base) D:\\>python test.py\n",
    "False\n",
    "```\n",
    "布尔选项还可以通过`/`来定义，比如：\n",
    "```python\n",
    "@click.command()\n",
    "@click.option('--shout/--no-shout', default=False)\n",
    "def log(shout):\n",
    "    click.echo(shout)\n",
    "```\n",
    "注意：windows中不光可以使用短横线，还可以使用`/`作为选项，此时会产生冲突，需要加一个分号。比如：\n",
    "```python\n",
    "@click.command()\n",
    "@click.option('/debug;/no-debug')\n",
    "def log(debug):\n",
    "    click.echo(f'debug={debug}')\n",
    "```"
   ]
  },
  {
   "cell_type": "markdown",
   "metadata": {},
   "source": [
    "### 特性切换选项"
   ]
  },
  {
   "cell_type": "markdown",
   "metadata": {},
   "source": [
    "先看代码：\n",
    "```python\n",
    "import click\n",
    "import sys\n",
    "\n",
    "@click.command()\n",
    "@click.option('--upper', 'transformation', flag_value='upper',\n",
    "              default=True)\n",
    "@click.option('--lower', 'transformation', flag_value='lower')\n",
    "def info(transformation):\n",
    "    click.echo(getattr(sys.platform, transformation)())\n",
    "\n",
    "        \n",
    "if __name__ == \"__main__\":\n",
    "    info()\n",
    "```\n",
    "使用输出为：\n",
    "```\n",
    "(base) D:\\>python test.py --upper\n",
    "WIN32\n",
    "\n",
    "(base) D:\\>python test.py --lower\n",
    "win32\n",
    "```\n",
    "意思是，不同的选项对应同一个回调函数的参数，选项后面不跟任何值，实际的值由`flag_value`关键字参数定义。"
   ]
  },
  {
   "cell_type": "markdown",
   "metadata": {},
   "source": [
    "### 提示选项"
   ]
  },
  {
   "cell_type": "markdown",
   "metadata": {},
   "source": [
    "`prompt`: 布尔值，显示提示，用户的输入作为值传递给回调函数，代码如下：\n",
    "```python\n",
    "@click.command()\n",
    "@click.option('-n', '--NAME', 'name', prompt=True)\n",
    "def hello(name):\n",
    "    click.echo(f'Hello {name}!')\n",
    "```\n",
    "注意，不需要加`--name`，才会出现提示，如果使用`--name=shy`或者`-nshy`直接指定了值，则不会出现提示。\n",
    "```\n",
    "(base) D:\\>python test.py --NAME=shy\n",
    "Hello shy!\n",
    "\n",
    "(base) D:\\>python test.py -nshy\n",
    "Hello shy!\n",
    "\n",
    "(base) D:\\>python test.py\n",
    "Name: shy\n",
    "Hello shy!\n",
    "```\n",
    "注意，如果`prompt`为`True`，则提示为选项的`name`，但是也可以自己指定一个字符串，比如`@click.option('--name', prompt=\"input your name\")`，注意，`click`会自动给字符串加一个冒号。\n",
    "\n",
    "还可以通过`hide_input=True`来隐藏输入，`confirmation_prompt=True`来确认输入，一般用来输入密码：\n",
    "```python\n",
    "@click.command()\n",
    "@click.option('--password', prompt=True, hide_input=True,\n",
    "              confirmation_prompt=True)\n",
    "def encrypt(password):\n",
    "    click.echo(f'Encrypting password to {password}')\n",
    "```\n",
    "当然，也可以直接使用`click.password_option`装饰器快速实现：\n",
    "```python\n",
    "@click.command()\n",
    "@click.password_option()\n",
    "def encrypt(password):\n",
    "    click.echo(f'Encrypting password to {password.encode(\"rot13\")}')\n",
    "```"
   ]
  },
  {
   "cell_type": "markdown",
   "metadata": {},
   "source": [
    "### 范围选项"
   ]
  },
  {
   "cell_type": "markdown",
   "metadata": {},
   "source": [
    "范围选项主要是通过将`type`设置为`click.IntRange`来实现，没什么好说，只有一点注意，可以传入一个`clamp`(夹子）的关键字参数对输入的值进行压缩，如：\n",
    "```python\n",
    "@click.command()\n",
    "@click.option('--count', type=click.IntRange(0, 100, clamp=True))\n",
    "def repeat(count):\n",
    "    click.echo(count)\n",
    "```\n",
    "输出为：\n",
    "```\n",
    "(base) D:\\>python test.py --count 200\n",
    "100\n",
    "\n",
    "(base) D:\\>python test.py --count -5\n",
    "0\n",
    "```\n",
    "设置`clamp`为`True`以后，不会报错，会将超出范围的数值压缩到范围之内。"
   ]
  },
  {
   "cell_type": "markdown",
   "metadata": {},
   "source": [
    "### 选项的回调函数以及优先级提升"
   ]
  },
  {
   "cell_type": "markdown",
   "metadata": {},
   "source": [
    "可以通过`callback`关键字参数接收一个回调函数，该回调函数在选项解析完成以后调用，函数签名如下：\n",
    "```python\n",
    "def callback(ctx, param, value):\n",
    "    pass\n",
    "```\n",
    "其中`ctx`是上下文，`click.Context`的实例。`param`是选项，`click.Option`的实例，`value`是选项的值。注意，回调函数必须要返回一个值传递给命令。\n",
    "\n",
    "示例代码如下：\n",
    "```python\n",
    "def callback(ctx, param, value):\n",
    "    print(ctx.__dict__)\n",
    "    print(param.__dict__)\n",
    "    print(value)\n",
    "    return value\n",
    "      \n",
    "@click.command(context_settings={\"default_map\":{'port': 5000}})\n",
    "@click.option('--port', default=8000, callback=callback)\n",
    "def runserver(port):\n",
    "    click.echo(port)\n",
    "```\n",
    "返回的值如下：\n",
    "```\n",
    "{'parent': None, 'command': <click.core.Command object at 0x000001DE27DE5808>, 'info_name': 'test.py', 'params': {}, 'args': [], 'protected_args': [], 'obj': None, '_meta': {}, 'default_map': {'port': 5000}, 'invoked_subcommand': None, 'terminal_width': None, 'max_content_width': None, 'allow_extra_args': False, 'allow_interspersed_args': True, 'ignore_unknown_options': False, 'help_option_names': ['--help'], 'token_normalize_func': None, 'resilient_parsing': False, 'auto_envvar_prefix': None, 'color': None, '_close_callbacks': [], '_depth': 2}\n",
    "{'name': 'port', 'opts': ['--port'], 'secondary_opts': [], 'type': INT, 'required': False, 'callback': <function callback at 0x000001DE27C69048>, 'nargs': 1, 'multiple': False, 'expose_value': True, 'default': 8000, 'is_eager': False, 'metavar': None, 'envvar': None, 'autocompletion': None, 'prompt': None, 'confirmation_prompt': False, 'hide_input': False, 'hidden': False, 'is_flag': False, 'flag_value': False, 'is_bool_flag': False, 'count': False, 'allow_from_autoenv': True, 'help': None, 'show_default': False, 'show_choices': True, 'show_envvar': False}\n",
    "5000\n",
    "Serving on http://127.0.0.1:5000/\n",
    "```\n",
    "回调一般用作参数验证。\n",
    "\n",
    "有时候，我们希望某一个选项优先处理，可以使用`is_eager`关键字来优先执行某个选项，正常情况下，选项的执行顺序，是调用命令时，选项的添加顺序：\n",
    "```python\n",
    "def print_version(ctx, param, value):\n",
    "    click.echo(\"in version callback\")\n",
    "    \n",
    "def print_name(ctx, param, value):\n",
    "    click.echo(\"in name callback\")\n",
    "    return value\n",
    "\n",
    "@click.command()\n",
    "@click.option('--name', callback=print_name)\n",
    "@click.option('--version', is_flag=True, callback=print_version, expose_value=False)\n",
    "def hello(name):\n",
    "    click.echo(f'Hello {name}')\n",
    "```\n",
    "输出如下：\n",
    "```\n",
    "(base) D:\\>python test.py --name shy --version\n",
    "in name callback\n",
    "in version callback\n",
    "Hello shy\n",
    "```\n",
    "当`name`选项在前时，先执行了`name`选项的回调函数。但是当添加了`is_eager`参数，如下：\n",
    "```python\n",
    "def print_version(ctx, param, value):\n",
    "    click.echo(\"in version callback\")\n",
    "    \n",
    "def print_name(ctx, param, value):\n",
    "    click.echo(\"in name callback\")\n",
    "    return value\n",
    "\n",
    "@click.command()\n",
    "@click.option('--name', callback=print_name)\n",
    "@click.option('--version', is_flag=True, callback=print_version, expose_value=False, is_eager=True)\n",
    "def hello(name):\n",
    "    click.echo(f'Hello {name}')\n",
    "```\n",
    "输出如下：\n",
    "```\n",
    "(base) D:\\>python test.py --name shy --version\n",
    "in version callback\n",
    "in name callback\n",
    "```\n",
    "可见，虽然`name`选项在前，但是`version`选项优先执行。常见的使用场景就是查看版本，当想查看版本时，一般都是显示了版本号就直接退出，而不去执行其它的业务逻辑，代码如下：\n",
    "```python\n",
    "def print_version(ctx, param, value):\n",
    "    if not value or ctx.resilient_parsing:\n",
    "        return\n",
    "    click.echo('Version 1.0')\n",
    "    ctx.exit()\n",
    "\n",
    "@click.command()\n",
    "@click.option('--version', is_flag=True, callback=print_version,\n",
    "              expose_value=False, is_eager=True)\n",
    "def hello():\n",
    "    click.echo('Hello World!')\n",
    "```\n",
    "当然，这只是一个例子，`click`已经提供了`click.version_option`装饰器实现了版本检查的功能。"
   ]
  },
  {
   "cell_type": "markdown",
   "metadata": {},
   "source": [
    "### Yes选项"
   ]
  },
  {
   "cell_type": "markdown",
   "metadata": {},
   "source": [
    "`prompt`和某些关键字参数组合，可以实现一些特殊的选项，比如创建一个Yes选项，即用户输入Yes,则直接进行操作，否则则取消操作：\n",
    "```python\n",
    "def abort_if_false(ctx, param, value):\n",
    "    if not value:\n",
    "        ctx.abort()  # 注意和ctx.exit()的区别，ctx.exit()直接退出，ctx.abort()会出现取消的提示。\n",
    "\n",
    "@click.command()\n",
    "@click.option('--yes', is_flag=True, callback=abort_if_false,\n",
    "              expose_value=False,\n",
    "              prompt='Are you sure you want to drop the db?')\n",
    "def dropdb():\n",
    "    click.echo('Dropped all tables!')\n",
    "```\n",
    "使用如下：\n",
    "```\n",
    "(base) D:\\>python test.py --yes\n",
    "Dropped all tables!\n",
    "\n",
    "(base) D:\\>python test.py\n",
    "Are you sure you want to drop the db? [y/N]: y  # 或者各种yes\n",
    "Dropped all tables!\n",
    "\n",
    "(base) D:\\>python test.py\n",
    "Are you sure you want to drop the db? [y/N]: n  # 或者各种no以及直接回车\n",
    "Aborted!\n",
    "\n",
    "(base) D:\\>python test.py\n",
    "Are you sure you want to drop the db? [y/N]: can't\n",
    "Error: invalid input\n",
    "Are you sure you want to drop the db? [y/N]:\n",
    "```\n",
    "当`is_flag`和`prompt`组合使用的时候，提示会变成`yes`选项，即只能输入yes或者no，其它值会要求重新输入，再加上回调函数，即能实现需求。\n",
    "\n",
    "当然，对于这种常见的需求，`click`提供了便捷的`click.confirmation_option`装饰器：\n",
    "```python\n",
    "@click.command()\n",
    "@click.confirmation_option(prompt='Are you sure you want to drop the db?')\n",
    "def dropdb():\n",
    "    click.echo('Dropped all tables!')\n",
    "```"
   ]
  },
  {
   "cell_type": "markdown",
   "metadata": {},
   "source": [
    "### 可验证的提示选项"
   ]
  },
  {
   "cell_type": "markdown",
   "metadata": {},
   "source": [
    "通过组合`option`的`type`参数和`prompt`参数可以实现简单的验证规则，代码如下：\n",
    "```python\n",
    "import click\n",
    "\n",
    "@click.command()\n",
    "@click.option(\"--dt\", type=click.DateTime(), prompt=\"请输入日期\")\n",
    "def echodt(dt):\n",
    "    click.echo(dt)\n",
    "    \n",
    "if __name__ == \"__main__\":\n",
    "    echodt()\n",
    "```\n",
    "输出为：\n",
    "```python\n",
    "请输入日期: 2020\n",
    "Error: invalid datetime format: 2020. (choose from %Y-%m-%d, %Y-%m-%dT%H:%M:%S, %Y-%m-%d %H:%M:%S)\n",
    "请输入日期: 2020-4-24\n",
    "2020-04-24 00:00:00\n",
    "```"
   ]
  },
  {
   "cell_type": "markdown",
   "metadata": {},
   "source": [
    "### 读取环境变量"
   ]
  },
  {
   "cell_type": "markdown",
   "metadata": {},
   "source": [
    "注意：只有option才能读取环境变量，argument是不行的。通常情况下，我们需要指定选项的值，或者通过提示由用户输入选项的值，比如：\n",
    "```\n",
    "(base) D:\\>python test.py --username shy\n",
    "Hello shy!\n",
    "\n",
    "(base) D:\\>python test.py\n",
    "Username: shy\n",
    "Hello shy!\n",
    "```\n",
    "除此之外，click还可以读取环境变量作为选项的值，有两种方式：\n",
    "1. 自动读取\n",
    "先看下面的例子：\n",
    "\n",
    "```python\n",
    "@click.command()\n",
    "@click.option('--username', required=True)\n",
    "def greet(username):\n",
    "    click.echo('Hello %s!' % username)\n",
    "    \n",
    "if __name__ == '__main__':\n",
    "    greet(auto_envvar_prefix='GREETER')\n",
    "```\n",
    "使用的时候直接输入命令，`username`会自动读取环境变量`GREETER_USERNAME`，如下：\n",
    "```\n",
    "(base) D:\\>set GREETER_USERNAME=shy\n",
    "\n",
    "(base) D:\\>python test.py\n",
    "Hello shy!\n",
    "```\n",
    "自动读取只需要在命令中传入`auto_envvar_prefix`的关键字参数，定义一个环境变量的前缀。`click`会去查找这个环境变量。环境变量的命名规则是：前缀_选项名。如果是命令组，子命令读取环境变量的命名规则为：前缀_子命令名称_子命令选项名。比如一个名为`run-server`的子命令，其中包含一个名为`host`的选项，并且前缀是`WEB`，那么这个变量就是`WEB_RUN_SERVER_HOST`，注意大小写，`click`会全部转成大写。\n",
    "\n",
    "2. 手动设置\n",
    "手动设置很简单，向`option`传入`envvar`关键字参数即可：\n",
    "\n",
    "```python\n",
    "@click.command()\n",
    "@click.option('--username', envvar='USERNAME')\n",
    "def greet(username):\n",
    "    click.echo('Hello %s!' % username)\n",
    "\n",
    "if __name__ == '__main__':\n",
    "    greet()\n",
    "```"
   ]
  },
  {
   "cell_type": "markdown",
   "metadata": {},
   "source": [
    "### 多值的环境变量"
   ]
  },
  {
   "cell_type": "markdown",
   "metadata": {},
   "source": [
    "有一些环境变量，显然是包含多个值的，比如`Path`，又比如`PATHEXT`。`click`在读取这种环境变量的时候，可以自动进行拆分，只需要设置为多选项，即将`Multiple`设置为`True`。默认`windows`下，`click`会对逗号进行拆分，`linux`下，会对冒号进行拆分，然后传入命令函数一个元组：\n",
    "```python\n",
    "@click.command()\n",
    "@click.option('paths', '--path', envvar='PATHEXT', multiple=True, type=click.Path())\n",
    "def perform(paths):\n",
    "    click.echo(paths)\n",
    "```\n",
    "输出如下：\n",
    "```\n",
    "(base) D:\\>set PATHEXT\n",
    "PATHEXT=.COM;.EXE;.BAT;.CMD;.VBS;.VBE;.JS;.JSE;.WSF;.WSH;.MSC\n",
    "\n",
    "(base) D:\\>python test.py\n",
    "('.COM', '.EXE', '.BAT', '.CMD', '.VBS', '.VBE', '.JS', '.JSE', '.WSF', '.WSH', '.MSC')\n",
    "```\n",
    "如果选项的关键字参数`multiple`设置为`True`，或者`nargs`大于1，`click`在内部就会通过` ParamType.split_envvar_value()`方法进行拆分。"
   ]
  },
  {
   "cell_type": "markdown",
   "metadata": {},
   "source": [
    "### 其它一些关键字参数"
   ]
  },
  {
   "cell_type": "markdown",
   "metadata": {},
   "source": [
    "1. `required`：布尔值，定义该选项是否为必须的。\n",
    "\n",
    "\n",
    "2. `default`和`show_default`：定义该选项的默认值，以及是否在帮助文档中显示默认值。注意，`show_default=False`定义的是帮助文档是否显示默认值，如果是`prompt`提示参数，仍然会显示默认值。`default`还可以设置为函数，以实现动态默认值。\n",
    "\n",
    "\n",
    "3. `case_sensitive`：布尔值，一般配合`type=click.choice()`使用，指选项的值是否大小写敏感。\n",
    "\n",
    "\n",
    "4. `expose_value`：布尔值，一般而言，选项的值都会传递给和它对应的命令函数，但是有时候我们并不需要这样，如上面的查看版本的例子。可以设置该值为`False`，就不会再传递给命令函数。"
   ]
  },
  {
   "cell_type": "markdown",
   "metadata": {},
   "source": [
    "## 命令和组"
   ]
  },
  {
   "cell_type": "markdown",
   "metadata": {},
   "source": [
    "- [Python 命令行之旅：深入 click 之子命令篇](https://www.jianshu.com/p/76017cebaf13)"
   ]
  },
  {
   "cell_type": "markdown",
   "metadata": {},
   "source": [
    "### 命令的返回值"
   ]
  },
  {
   "cell_type": "markdown",
   "metadata": {},
   "source": [
    "默认情况下，调用命令不会返回任何值，程序直接退出。但是可以设置关键字参数`standalone_mode`为`False`，此时不会直接退出，而是返回命令回调函数中返回的值。\n",
    "```python\n",
    "@click.command()\n",
    "@click.option(\"--name\")\n",
    "def cli(name):\n",
    "    click.echo(f\"The name is {name}\")\n",
    "    return 42\n",
    "\n",
    "\n",
    "if __name__ == '__main__':\n",
    "    result = cli(standalone_mode=False)\n",
    "    print(result)\n",
    "```\n",
    "输出为：\n",
    "```\n",
    "(base) D:\\>python test.py --name shy\n",
    "The name is shy\n",
    "42\n",
    "```"
   ]
  },
  {
   "cell_type": "markdown",
   "metadata": {},
   "source": [
    "### 组命令的回调调用"
   ]
  },
  {
   "cell_type": "markdown",
   "metadata": {},
   "source": [
    "组命令和普通命令的调用略有不同，普通的命令调用规则是这样的，只要执行命令，则立刻执行相应的回调函数，如果命令后面跟着的是`--help`，则会拦截回调函数，显示帮助说明。  \n",
    "\n",
    "而对于组命令，直接执行命令并不会触发回调函数，而是和添加了`--help`选项一样，显示帮助界面。只有提供了子命令，才会触发子命令的回调函数，同时也会执行主命令里面的代码：\n",
    "```python\n",
    "import click\n",
    "\n",
    "@click.group()\n",
    "@click.option('--debug/--no-debug', default=False)\n",
    "def cli(debug):\n",
    "    click.echo('Debug mode is %s' % ('on' if debug else 'off'))\n",
    "\n",
    "@cli.command()  # @cli, not @click!\n",
    "def sync():\n",
    "    click.echo('Syncing')\n",
    "    \n",
    "if __name__ == \"__main__\":\n",
    "    cli()\n",
    "```\n",
    "直接执行`python test.py`，显示为：\n",
    "```python\n",
    "Usage: test.py [OPTIONS] COMMAND [ARGS]...\n",
    "\n",
    "Options:\n",
    "  --debug / --no-debug\n",
    "  --help                Show this message and exit.\n",
    "\n",
    "Commands:\n",
    "  sync\n",
    "```\n",
    "加了子命令`python test.py --debug`，结果为：\n",
    "```python\n",
    "Debug mode is on\n",
    "Syncing\n",
    "```"
   ]
  },
  {
   "cell_type": "markdown",
   "metadata": {},
   "source": [
    "### 传递上下文"
   ]
  },
  {
   "cell_type": "markdown",
   "metadata": {},
   "source": [
    "每当执行Click命令时，都会创建一个上下文对象，该对象保存此特定调用的状态--因为同一个命令每次调用是不同的--它会记住解析过的参数、创建它的命令、需要在函数结束时清理哪些资源等等，它还可以选择保存应用程序定义的对象。\n",
    "\n",
    "上下文对象构建一个链表（在内部实际上是创建了一个`threading.local()`对象，所有的上下文都保存在对象的`stack`属性中，该属性是一个列表），直到它们到达顶部。每个上下文都链接到父上下文。这允许一个命令在另一个命令下工作，并在其中存储自己的信息，而不必担心改变父命令的状态。\n",
    "\n",
    "当执行click的命令回调时，默认情况下是不会向回调函数传递上下文对象。但是，可以使用`pass_context()`装饰器向命令和子命令显性的传递一个上下文，上下文作为命令的第一个参数，这里要注意的是，上下文默认有一个`obj`属性，为空字典，可以向`cli`命令传递`obj`的关键字参数设置上下文的`obj`属性。\n",
    "```python\n",
    "@click.group()\n",
    "@click.option('--debug/--no-debug', default=False)\n",
    "@click.pass_context\n",
    "def cli(ctx, debug):\n",
    "    # 确保 ctx.obj 存在并且是个 dict。 (以防 `cli()` 指定 obj 为其他类型\n",
    "    ctx.ensure_object(dict)\n",
    "    ctx.obj['DEBUG'] = debug\n",
    "\n",
    "@cli.command()\n",
    "@click.pass_context\n",
    "def sync(ctx):\n",
    "    click.echo('Debug is %s' % (ctx.obj['DEBUG'] and 'on' or 'off'))\n",
    "\n",
    "if __name__ == '__main__':\n",
    "    cli(obj={})  # 这个例子里，可以cli()，因为ctx默认就有一个空的obj属性\n",
    "    # cli(obj={\"a\": 42})  # 可以通过obj关键字传入初始的obj\n",
    "```"
   ]
  },
  {
   "cell_type": "markdown",
   "metadata": {},
   "source": [
    "### 直接执行主命令"
   ]
  },
  {
   "cell_type": "markdown",
   "metadata": {},
   "source": [
    "通过`invoke_without_command`参数可以立即执行主命令，注意一点，当`invoke_without_command=True`时，上下文的`invoked_subcommand`为`None`:\n",
    "```python\n",
    "@click.group(invoke_without_command=True)\n",
    "@click.pass_context\n",
    "def cli(ctx):\n",
    "    if ctx.invoked_subcommand is None:\n",
    "        click.echo('I was invoked without subcommand')\n",
    "    else:\n",
    "        click.echo('I am about to invoke %s' % ctx.invoked_subcommand)\n",
    "\n",
    "@cli.command()\n",
    "def sync():\n",
    "    click.echo('The subcommand')\n",
    "```\n",
    "调用命令的结果如下：\n",
    "```python\n",
    "$ tool\n",
    "I was invoked without subcommand\n",
    "$ tool sync\n",
    "I am about to invoke sync\n",
    "The subcommand\n",
    "```"
   ]
  },
  {
   "cell_type": "markdown",
   "metadata": {},
   "source": [
    "### 自定义命令组/多命令"
   ]
  },
  {
   "cell_type": "markdown",
   "metadata": {},
   "source": [
    "设想以下的场景，我们已经有写好的一些`.py`脚本，现在想把这些脚本作为子命令，那么可以这样做，将这些`.py`放到一个文件夹中，然后在这个文件夹外写一个作为主命令的`py`脚本，就像下面这样：\n",
    "```python\n",
    "import click\n",
    "import os\n",
    "\n",
    "plugin_folder = os.path.join(os.path.dirname(__file__), 'commands')\n",
    "\n",
    "class MyCLI(click.MultiCommand):\n",
    "\n",
    "    def list_commands(self, ctx):\n",
    "        rv = []  # 命令名称列表\n",
    "        for filename in os.listdir(plugin_folder):\n",
    "            if filename.endswith('.py'):\n",
    "                rv.append(filename[:-3])\n",
    "        rv.sort()\n",
    "        return rv\n",
    "\n",
    "    def get_command(self, ctx, name):\n",
    "        ns = {}\n",
    "        fn = os.path.join(plugin_folder, name + '.py')  # 命令对应的 Python 文件\n",
    "        with open(fn) as f:\n",
    "            code = compile(f.read(), fn, 'exec')  # eval, exec的用法参考《python私房手册-python那些事儿》\n",
    "            eval(code, ns, ns)\n",
    "        return ns['cli']\n",
    "\n",
    "cli = MyCLI(help='This tool\\'s subcommands are loaded from a '\n",
    "            'plugin folder dynamically.')\n",
    "\n",
    "# 等价方式是通过 click.command 装饰器，指定 cls=MyCLI\n",
    "# @click.command(cls=MyCLI)\n",
    "# def cli():\n",
    "#     pass\n",
    "\n",
    "if __name__ == '__main__':\n",
    "    cli()\n",
    "```\n",
    "实际上，组命令也是通过`click.MultiCommand`实现的，自定义命令组，只需要继承`MultiCommand`，并且重写`list_commands`和`get_command`方法即可。其中`list_commands`返回一个命令名称的列表，`get_command`根据命令名称返回对应的回调函数。\n",
    "\n",
    "上面的例子，还实现了延迟加载子命令的技术，这样只有在使用的时候才会动态的调用子命令，这样可以随时修改子命令的`py`文件，主命令调用的总是最新的子命令。"
   ]
  },
  {
   "cell_type": "markdown",
   "metadata": {},
   "source": [
    "### 合并命令组"
   ]
  },
  {
   "cell_type": "markdown",
   "metadata": {},
   "source": [
    "这个比较简单，没什么可说的，通过`click.CommandCollection`将各个命令组合并成一个，唯一要注意的是，此时主命令里的代码都不会再执行了。\n",
    "```python\n",
    "import click\n",
    "\n",
    "@click.group()\n",
    "def cli1():\n",
    "    click.echo(\"I am cli1\")\n",
    "\n",
    "@cli1.command()\n",
    "def cmd1():\n",
    "    click.echo(\"I am sub cli1\")\n",
    "\n",
    "@click.group()\n",
    "def cli2():\n",
    "    click.echo(\"I am cli1\")\n",
    "\n",
    "@cli2.command()\n",
    "def cmd2():\n",
    "    click.echo(\"I am sub cli2\")\n",
    "\n",
    "cli = click.CommandCollection(sources=[cli1, cli2])\n",
    "\n",
    "if __name__ == '__main__':\n",
    "    cli()\n",
    "```\n",
    "注意：主命令里的代码都不会再执行：\n",
    "```python\n",
    "(base) D:\\>python test.py cmd1\n",
    "I am sub cli1  # click.echo(\"I am cli1\")未执行\n",
    "```"
   ]
  },
  {
   "cell_type": "markdown",
   "metadata": {},
   "source": [
    "### 链式命令组"
   ]
  },
  {
   "cell_type": "markdown",
   "metadata": {},
   "source": [
    "普通的命令组一次只能执行一个子命令，如果想要串行执行多个子命令，只要向`group()`装饰器传入`chain=True`参数即可，然后就可以定义多个子命令。\n",
    "```python\n",
    "import click\n",
    "\n",
    "@click.group(chain=True)\n",
    "def cli():\n",
    "    pass\n",
    "\n",
    "@cli.command('sdist1')\n",
    "def sdist():\n",
    "    click.echo('sdist1 called')\n",
    "\n",
    "@cli.command('sdist2')\n",
    "def bdist_wheel():\n",
    "    click.echo('sdist1 called')\n",
    "\n",
    "if __name__ == '__main__':\n",
    "    cli()\n",
    "```\n",
    "我稍稍修改了官网的例子，主要是为了展示，当向`cli.command`装饰器传入了一个字符串作为子命令的名称，这个字符串可以和回调函数的函数名不同，调用子命令时，会优先使用名称，如果没有提供，则将回调函数的函数名作为子命令的名称，如下：\n",
    "```python\n",
    "(base) D:\\>python test.py\n",
    "Usage: test.py [OPTIONS] COMMAND1 [ARGS]... [COMMAND2 [ARGS]...]...\n",
    "\n",
    "Options:\n",
    "  --help  Show this message and exit.\n",
    "\n",
    "Commands:\n",
    "  sdist1\n",
    "  sdist2\n",
    "```\n",
    "注意一点，不是只有链式命令组的子命令才能向`cli.command`装饰器传递一个字符串作为子命令的名称，普通命令组的子命令也可以。甚至主命令和普通命令也行，不过没什么用就是了。"
   ]
  },
  {
   "cell_type": "markdown",
   "metadata": {},
   "source": [
    "### 多命令管道"
   ]
  },
  {
   "cell_type": "markdown",
   "metadata": {},
   "source": [
    "链式命令很自然的产生一个问题，就是我如果想将上一个子命令的结果作为下一个子命令的输入怎么办，实现如下：\n",
    "```python\n",
    "@click.group(chain=True)\n",
    "@click.option('-i', '--input', type=click.File('r'))\n",
    "def cli(input):\n",
    "    pass\n",
    "\n",
    "@cli.resultcallback()\n",
    "def process_pipeline(processors, input):\n",
    "    iterator = (x.rstrip('\\r\\n') for x in input)\n",
    "    for processor in processors:\n",
    "        iterator = processor(iterator)\n",
    "    for item in iterator:\n",
    "        click.echo(item)\n",
    "\n",
    "@cli.command('uppercase')\n",
    "def make_uppercase():\n",
    "    def processor(iterator):\n",
    "        for line in iterator:\n",
    "            yield line.upper()\n",
    "    return processor\n",
    "\n",
    "@cli.command('addheart')\n",
    "def make_lowercase():\n",
    "    def processor(iterator):\n",
    "        for line in iterator:\n",
    "            yield line + \"\\u2764\"\n",
    "    return processor\n",
    "```\n",
    "原始的poem.txt文件内容为：\n",
    "```\n",
    "sky is blue,\n",
    "sea is blue,\n",
    "your eyes are blue,\n",
    "I want to fly in the sky,\n",
    "swim in the sea,\n",
    "and deep sleep in your eyes.\n",
    "```\n",
    "执行命令`python test.py --input poem.txt uppercase addheart`的输出为：\n",
    "```\n",
    "SKY IS BLUE,❤\n",
    "SEA IS BLUE,❤\n",
    "YOUR EYES ARE BLUE,❤\n",
    "I WANT TO FLY IN THE SKY,❤\n",
    "SWIM IN THE SEA,❤\n",
    "AND DEEP SLEEP IN YOUR EYES.❤\n",
    "```\n",
    "每个子命令需要返回一个处理函数，组成一个列表传递给`@cli.resultcallback()`装饰的函数，依次对输入进行处理。有意思的是生成器在管道中的使用，`processor(iterator)`并未执行，而是返回的是一个生成器，最终在`for item in iterator`的时候，才推动开始执行。"
   ]
  },
  {
   "cell_type": "markdown",
   "metadata": {},
   "source": [
    "### 覆盖默认值"
   ]
  },
  {
   "cell_type": "markdown",
   "metadata": {},
   "source": [
    "先看官网例子：\n",
    "```python\n",
    "import click\n",
    "\n",
    "@click.group()\n",
    "def cli():\n",
    "    pass\n",
    "\n",
    "@cli.command()\n",
    "@click.option('--port', default=8000)\n",
    "def runserver(port):\n",
    "    click.echo('Serving on http://127.0.0.1:%d/' % port)\n",
    "\n",
    "if __name__ == '__main__':\n",
    "    cli(default_map={\n",
    "        'runserver': {\n",
    "            'port': 5000\n",
    "        }\n",
    "    })\n",
    "```\n",
    "很简单，要注意的是普通命令也可以覆盖默认值，只要不使用嵌套的字典就行了，如下：\n",
    "```python\n",
    "import click\n",
    "\n",
    "@click.command()\n",
    "@click.option('--port', default=8000)\n",
    "def cli(port):\n",
    "    click.echo('Serving on http://127.0.0.1:%d/' % port)\n",
    "\n",
    "if __name__ == '__main__':\n",
    "    cli(default_map={\n",
    "        'port': 5000\n",
    "    })\n",
    "```\n",
    "除了通过将主命令`cli`中的关键字参数作为上下文的内容进行传递，还可以在`click.group`或者`click.command`中直接指定`context_settings`来达到同样的目的：\n",
    "```python\n",
    "CONTEXT_SETTINGS = dict(\n",
    "    default_map={'runserver': {'port': 5000}}\n",
    ")\n",
    "\n",
    "@click.group(context_settings=CONTEXT_SETTINGS)\n",
    "def cli():\n",
    "    pass\n",
    "\n",
    "@cli.command()\n",
    "@click.option('--port', default=8000)\n",
    "def runserver(port):\n",
    "    click.echo('Serving on http://127.0.0.1:%d/' % port)\n",
    "\n",
    "if __name__ == '__main__':\n",
    "    cli()\n",
    "```\n",
    "如果是普通命令，则可以这样：\n",
    "```python\n",
    "import click\n",
    "\n",
    "@click.command(context_settings={\"default_map\":{'port': 5000}})\n",
    "@click.option('--port', default=8000)\n",
    "def runserver(port):\n",
    "    click.echo('Serving on http://127.0.0.1:%d/' % port)\n",
    "\n",
    "if __name__ == '__main__':\n",
    "    runserver()\n",
    "```"
   ]
  },
  {
   "cell_type": "markdown",
   "metadata": {},
   "source": [
    "## 用户输入提示"
   ]
  },
  {
   "cell_type": "markdown",
   "metadata": {},
   "source": [
    "提示一共有两种，一种是前面提到过的选项提示，如果选项设置了`prompt`参数，那么一执行命令脚本，就会出现交互提示。但是，如果不想在一开始就出现提示，就要用到第二种用户提示，用户提示会手动的要求用户进行输入，可以在程序的任何地方出现。"
   ]
  },
  {
   "cell_type": "markdown",
   "metadata": {},
   "source": [
    "### 用户输入提示"
   ]
  },
  {
   "cell_type": "markdown",
   "metadata": {},
   "source": [
    "调用`click.prompt()`方法即可在程序任何地方插入提示，默认情况下，它会将用户输入转换成`unicode`字符，但是也可以通过`type`关键字参数指定要转换的类型：\n",
    "```python\n",
    "value = click.prompt('Please enter a valid integer', type=int)\n",
    "```\n",
    "如果设置了`default`关键字参数，就不用设置`type`，因为会自动转换成和`default`相同的类型。\n",
    "```python\n",
    "value = click.prompt('Please enter a number', default=42.0)\n",
    "```\n",
    "如果两者都设置了，则以`type`设置的为准。"
   ]
  },
  {
   "cell_type": "markdown",
   "metadata": {},
   "source": [
    "### 用户输入确认"
   ]
  },
  {
   "cell_type": "markdown",
   "metadata": {},
   "source": [
    "和`click.confirm_option`装饰器对应的是`click.confirm()`方法，它返回的是一个`bool`值表示`yes`或者`no`，如下：\n",
    "```python\n",
    "if click.confirm('Do you want to continue?'):\n",
    "    click.echo('Well done!')\n",
    "```\n",
    "输出为：\n",
    "```\n",
    "#  会自动在提示后面加上[y/N]:，这是它的默认值，如果设置show_default，则不会显示，输入各种yes,no都是可以的\n",
    "Do you want to continue? [y/N]: yes \n",
    "Well done!\n",
    "```\n",
    "它有一个关键字参数`abort`，如果函数不返回True，可以选择让函数自动中止程序的执行。\n",
    "```python\n",
    "click.confirm('Do you want to continue?', abort=True)\n",
    "```"
   ]
  },
  {
   "cell_type": "markdown",
   "metadata": {},
   "source": [
    "## 定制文档"
   ]
  },
  {
   "cell_type": "markdown",
   "metadata": {},
   "source": [
    "Click可以很方便的为脚本生成文档，不过目前还没有办法定制生成的文档的布局，但是文字都是可以修改的。"
   ]
  },
  {
   "cell_type": "markdown",
   "metadata": {},
   "source": [
    "### 选项和命令的文档"
   ]
  },
  {
   "cell_type": "markdown",
   "metadata": {},
   "source": [
    "命令选项都接受`help`参数，对于命令，如果提供了该函数的docstring，则会自动使用它，例子如下：\n",
    "```python\n",
    "@click.command()\n",
    "@click.option('--count', default=1, help='number of greetings')\n",
    "@click.argument('name')\n",
    "def hello(count, name):\n",
    "    \"\"\"This script prints hello NAME COUNT times.\"\"\"\n",
    "    for x in range(count):\n",
    "        click.echo('Hello %s!' % name)\n",
    "```\n",
    "显示效果看起来是这样：\n",
    "```\n",
    "Usage: hello [OPTIONS] NAME\n",
    "\n",
    "  This script prints hello NAME COUNT times.\n",
    "\n",
    "Options:\n",
    "  --count INTEGER  number of greetings\n",
    "  --help           Show this message and exit.\n",
    "```"
   ]
  },
  {
   "cell_type": "markdown",
   "metadata": {},
   "source": [
    "### arguments的文档"
   ]
  },
  {
   "cell_type": "markdown",
   "metadata": {},
   "source": [
    "`argument()`不接受`help`关键字参数。这是为了遵循`Unix`工具的一般惯例，即只对最需要的东西使用参数。官方的建议是通过`docstring`进行描述，就像下面这样：\n",
    "```python\n",
    "@click.command()\n",
    "@click.argument('filename')\n",
    "def touch(filename):\n",
    "    \"\"\"Print FILENAME.\n",
    "\n",
    "    FILENAME is the name of the file to check.\n",
    "    \"\"\"\n",
    "    click.echo(filename)\n",
    "```\n",
    "显示效果看起来是这样：\n",
    "```\n",
    "Usage: touch [OPTIONS] FILENAME\n",
    "\n",
    "  Print FILENAME.\n",
    "\n",
    "  FILENAME is the name of the file to check.\n",
    "\n",
    "Options:\n",
    "  --help  Show this message and exit.\n",
    "```"
   ]
  },
  {
   "cell_type": "markdown",
   "metadata": {},
   "source": [
    "### 禁止自动换行"
   ]
  },
  {
   "cell_type": "markdown",
   "metadata": {},
   "source": [
    "Click默认行为是根据终端的宽度重新包装文本，比如根据宽度自动换行。在某些情况下，这可能成为一个问题。比如在显示代码示例时，换行非常重要。可以在每个段落的基础上禁用重新包装，方法是添加一行，其中只包含`\\b`转义标记。这一行将从帮助文本中删除，并禁用重新包装。例子如下：\n",
    "```python\n",
    "@click.command()\n",
    "def cli():\n",
    "    \"\"\"First paragraph.\n",
    "\n",
    "    This is\n",
    "    a paragraph\n",
    "    without rewrapping.\n",
    "\n",
    "    \"\"\"\n",
    "```\n",
    "默认的显示是这样：\n",
    "```python\n",
    "Usage: test.py [OPTIONS]\n",
    "\n",
    "  First paragraph.\n",
    "\n",
    "  This is a paragraph without rewrapping.\n",
    "\n",
    "Options:\n",
    "  --help  Show this message and exit.\n",
    "```\n",
    "第二段变成了一行，通过`\\b`禁止重新包装文本以后，这一段就可以原样显示：\n",
    "```python\n",
    "@click.command()\n",
    "def cli():\n",
    "    \"\"\"First paragraph.\n",
    "    \n",
    "    \\b\n",
    "    This is\n",
    "    a paragraph\n",
    "    without rewrapping.\n",
    "    \"\"\"\n",
    "    pass\n",
    "```\n",
    "现在的显示是这样：\n",
    "```\n",
    "Usage: test.py [OPTIONS]\n",
    "\n",
    "  First paragraph.\n",
    "\n",
    "  This is\n",
    "  a paragraph\n",
    "  without rewrapping.\n",
    "\n",
    "Options:\n",
    "  --help  Show this message and exit.\n",
    "```\n",
    "注意：`docstring`中段和段要用空行分隔，不会根据`enter`进行分段的。"
   ]
  },
  {
   "cell_type": "markdown",
   "metadata": {},
   "source": [
    "### 截断帮助文档"
   ]
  },
  {
   "cell_type": "markdown",
   "metadata": {},
   "source": [
    "你的`docstring`中有一些内容并不想显示在Click的帮助文档中，那么可以通过`\\f`标识符进行标识，`\\f`之后的所有内容都不会显示。如下：\n",
    "```python\n",
    "@click.command()\n",
    "@click.pass_context\n",
    "def cli(ctx):\n",
    "    \"\"\"First paragraph.\n",
    "\n",
    "    This is a very long second\n",
    "    paragraph and not correctly\n",
    "    wrapped but it will be rewrapped.\n",
    "    \\f\n",
    "\n",
    "    :param click.core.Context ctx: Click context.\n",
    "    \"\"\"\n",
    "```\n",
    "显示如下：\n",
    "```\n",
    "Usage: cli [OPTIONS]\n",
    "\n",
    "  First paragraph.\n",
    "\n",
    "  This is a very long second paragraph and not correctly wrapped but it will\n",
    "  be rewrapped.\n",
    "\n",
    "Options:\n",
    "  --help  Show this message and exit.\n",
    "```"
   ]
  },
  {
   "cell_type": "markdown",
   "metadata": {},
   "source": [
    "### 改变选项和参数的默认显示"
   ]
  },
  {
   "cell_type": "markdown",
   "metadata": {},
   "source": [
    "默认情况下，帮助文档中，选项会被显示为`[OPTIONS]`，而argument参数会变成大写，比如：\n",
    "```python\n",
    "@click.command()\n",
    "@click.option('--count', default=1, help='number of greetings')\n",
    "@click.argument('name')\n",
    "def hello(count, name):\n",
    "    \"\"\"This script prints hello <name> <int> times.\"\"\"\n",
    "    for x in range(count):\n",
    "        click.echo('Hello %s!' % name)\n",
    "```\n",
    "默认显示为：\n",
    "```\n",
    "Usage: test.py [OPTIONS] NAME\n",
    "\n",
    "  This script prints hello <name> <int> times.\n",
    "\n",
    "Options:\n",
    "  --count INTEGER  number of greetings\n",
    "  --help           Show this message and exit.\n",
    "```\n",
    "可以通过`options_metavar`和`metavar`参数修改默认的显示：\n",
    "```python\n",
    "@click.command(options_metavar='<options>')\n",
    "@click.option('--count', default=1, help='number of greetings', metavar='<int>')\n",
    "@click.argument('name', metavar='<name>')\n",
    "def hello(count, name):\n",
    "    \"\"\"This script prints hello <name> <int> times.\"\"\"\n",
    "    for x in range(count):\n",
    "        click.echo('Hello %s!' % name)\n",
    "```\n",
    "现在看起来是这样：\n",
    "```\n",
    "Usage: hello <options> <name>\n",
    "\n",
    "  This script prints hello <name> <int> times.\n",
    "\n",
    "Options:\n",
    "  --count <int>  number of greetings\n",
    "  --help         Show this message and exit.\n",
    "```"
   ]
  },
  {
   "cell_type": "markdown",
   "metadata": {},
   "source": [
    "### 子命令的帮助文档"
   ]
  },
  {
   "cell_type": "markdown",
   "metadata": {},
   "source": [
    "默认情况下，子命令的说明是其`docstring`的第一句话，如下：\n",
    "```python\n",
    "@click.group()\n",
    "def cli():\n",
    "    \"\"\"A simple command line tool.\"\"\"\n",
    "\n",
    "@cli.command('init')\n",
    "def init():\n",
    "    \"\"\"Initializes the repository. Run at the first.\"\"\"\n",
    "\n",
    "@cli.command('delete')\n",
    "def delete():\n",
    "    \"\"\"Deletes the repository. Use it carefully.\"\"\"\n",
    "```\n",
    "显示如下：\n",
    "```\n",
    "Usage: test.py [OPTIONS] COMMAND [ARGS]...\n",
    "\n",
    "  A simple command line tool.\n",
    "\n",
    "Options:\n",
    "  --help  Show this message and exit.\n",
    "\n",
    "Commands:\n",
    "  delete  Deletes the repository.\n",
    "  init    Initializes the repository.\n",
    "```\n",
    "但是可以通过`short_help`关键字参数覆盖：\n",
    "```python\n",
    "@click.group()\n",
    "def cli():\n",
    "    \"\"\"A simple command line tool.\"\"\"\n",
    "\n",
    "@cli.command('init', short_help='init repo')\n",
    "def init():\n",
    "    \"\"\"Initializes the repository. Run at the first.\"\"\"\n",
    "\n",
    "@cli.command('delete', short_help='del repo')\n",
    "def delete():\n",
    "    \"\"\"Deletes the repository. Use it carefully.\"\"\"\n",
    "```\n",
    "现在显示如下：\n",
    "```\n",
    "Usage: test.py [OPTIONS] COMMAND [ARGS]...\n",
    "\n",
    "  A simple command line tool.\n",
    "\n",
    "Options:\n",
    "  --help  Show this message and exit.\n",
    "\n",
    "Commands:\n",
    "  delete  del repo\n",
    "  init    init repo\n",
    "```\n",
    "不过这里用`help`关键字参数显示效果貌似也是一样的。"
   ]
  },
  {
   "cell_type": "markdown",
   "metadata": {},
   "source": [
    "### 定制帮助选项"
   ]
  },
  {
   "cell_type": "markdown",
   "metadata": {},
   "source": [
    "默认情况下，`--help`选项是自动生成的，不能使用`-h`来打印帮助文档。可以通过修改上下文的`help_option_names`属性进行覆盖，修改上下文通过设置命令的`context_settings`关键字参数实现：\n",
    "```python\n",
    "CONTEXT_SETTINGS = dict(help_option_names=['-h', '--help'])\n",
    "\n",
    "@click.command(context_settings=CONTEXT_SETTINGS)\n",
    "def cli():\n",
    "    pass\n",
    "```\n",
    "现在就可以通过`-h`或者`--help`来打印帮助文档了。注意，`help_option_names`必须是字典，哪怕只有一个选项。"
   ]
  },
  {
   "cell_type": "markdown",
   "metadata": {},
   "source": [
    "## 实用工具"
   ]
  },
  {
   "cell_type": "markdown",
   "metadata": {},
   "source": [
    "除了基本的接口，`click`还提供了很多对编写命令行实用程序有用的附加功能。"
   ]
  },
  {
   "cell_type": "markdown",
   "metadata": {},
   "source": [
    "### `click.echo`"
   ]
  },
  {
   "cell_type": "markdown",
   "metadata": {},
   "source": [
    "和默认的`print`相比，`click.echo`不但为`python2`和`python3`提供了相同的打印接口，是最重要的是，和内置的`print`不同，`click.echo`可以打印Unicode和二进制数据。\n",
    "\n",
    "两点注意：\n",
    "1. `click`打印的二进制数据其实是这个字符的`utf8`编码。实质上就是对字节进行了一个`utf8`的解码。\n",
    "2. 默认会添加一个新行，如果不需要，仅仅只是回车，则需要将`nl`关键字设置为`False`。"
   ]
  },
  {
   "cell_type": "code",
   "execution_count": 3,
   "metadata": {},
   "outputs": [
    {
     "name": "stdout",
     "output_type": "stream",
     "text": [
      "b'\\xe2\\x98\\x83'\n"
     ]
    }
   ],
   "source": [
    "print(b'\\xe2\\x98\\x83')"
   ]
  },
  {
   "cell_type": "code",
   "execution_count": 1,
   "metadata": {},
   "outputs": [
    {
     "name": "stdout",
     "output_type": "stream",
     "text": [
      "☃\n"
     ]
    }
   ],
   "source": [
    "print(b'\\xe2\\x98\\x83'.decode('utf8'))"
   ]
  },
  {
   "cell_type": "code",
   "execution_count": 2,
   "metadata": {},
   "outputs": [
    {
     "name": "stdout",
     "output_type": "stream",
     "text": [
      "☃"
     ]
    }
   ],
   "source": [
    "import click\n",
    "click.echo(b'\\xe2\\x98\\x83', nl=False)"
   ]
  },
  {
   "cell_type": "markdown",
   "metadata": {},
   "source": [
    "### ANSI颜色"
   ]
  },
  {
   "cell_type": "markdown",
   "metadata": {},
   "source": [
    "click的`echo`可以处理ANSI颜色和样式，输出有颜色的字符或者一些闪烁之类的特效。首先需要安装`pip install colorama`，click可以自动检测是否输出到屏幕，比如输出到一个文件，click就会转换成普通的输入。\n",
    "\n",
    "使用非常简单，结合使用`click.echo`和`click.style`即可，如下的例子：\n",
    "```python\n",
    "click.echo(click.style('Hello World!', fg='green'))\n",
    "click.echo(click.style('Some more text', bg='blue', fg='white'))\n",
    "click.echo(click.style('ATTENTION', blink=True, bold=True))\n",
    "```\n",
    "或者使用`click.echo`和`click.style`的结合版本`click.secho`：\n",
    "```python\n",
    "click.secho('Hello World!', fg='green')\n",
    "click.secho('Some more text', bg='blue', fg='white')\n",
    "click.secho('ATTENTION', blink=True, bold=True)\n",
    "```"
   ]
  },
  {
   "cell_type": "markdown",
   "metadata": {},
   "source": [
    "### 翻页支持"
   ]
  },
  {
   "cell_type": "markdown",
   "metadata": {},
   "source": [
    "有时候，输出到屏幕的内容太多，想要实现像`linux`中的那种类似`-- More --`的翻页的功能，使用`click.echo_via_pager()`方法即可。它和`echo`方法很相似，只是：\n",
    "1. 它只能输出到屏幕。\n",
    "2. 内容太多的话会使用分页。\n",
    "\n",
    "比如下面的例子：\n",
    "```python\n",
    "click.echo_via_pager('\\n'.join(f'Line {idx}' for idx in range(200)))\n",
    "```\n",
    "\n",
    "也可以传入一个生成器：\n",
    "```python\n",
    "def _generate_output():\n",
    "    for idx in range(50000):\n",
    "        yield \"Line %d\\n\" % idx\n",
    "        \n",
    "click.echo_via_pager(_generate_output())\n",
    "```"
   ]
  },
  {
   "cell_type": "markdown",
   "metadata": {},
   "source": [
    "### 清屏"
   ]
  },
  {
   "cell_type": "markdown",
   "metadata": {},
   "source": [
    "这个非常简单，使用`click.clear()`方法即可。"
   ]
  },
  {
   "cell_type": "markdown",
   "metadata": {},
   "source": [
    "### 从缓冲区获取字符"
   ]
  },
  {
   "cell_type": "markdown",
   "metadata": {},
   "source": [
    "通常情况下，当通过命令行交互的时候，总是输入一行，然后回车才能交互。在计算机内部，当我们输入字符的时候，系统会把每一个字符存储在一个缓冲区中，当一行输完，按下回车的时候，才会把缓冲区的所有内容送给程序，如果使用`stdin`作为输入，情况又有不同，此时不是以每一行结尾的`enter`作为结束，在windows中，以`Ctrl+Z`作为`EOF`，linux中，以`Ctrl+D`作为结束。\n",
    "\n",
    "但是，如果想输入一个字符就立刻送往程序，不需要回车，可以使用`click.getchar()`函数，它会立即从缓冲区中读取一个字符，并且将其转换成`unicode`字符。因此，也意味着这个函数只能用于从终端来读取数据：\n",
    "```python\n",
    ">>> import click\n",
    ">>> c = click.getchar()\n",
    ">>> c\n",
    "'\\x04'\n",
    ">>> c\n",
    "'\\x04'\n",
    "```\n",
    "注意一点：`click.getchar()`读取的都是原始字符，所有的字符直接输出，例如输入`Ctrl+D`这样的组合键，显示的是`\\x04`。但是`Ctrl+C`和`Ctrl+D`经过了转换，它们分别被转换为键盘中断和文件异常结束。主要是因为，很容易忘记这一点，并创建无法正确退出的脚本。"
   ]
  },
  {
   "cell_type": "markdown",
   "metadata": {},
   "source": [
    "### 等待按键"
   ]
  },
  {
   "cell_type": "markdown",
   "metadata": {},
   "source": [
    "这个功能在windows中使用特别有用，一般情况下，在windows中用鼠标点击脚本执行，cmd界面会一闪而过，甚至都不知道是否执行成功，因为windows会在程序执行完成或者抛出异常的时候直接关闭cmd窗口，此时可以使用`click.pause()`函数暂停程序，直到敲击任何按键，就像下面这样：\n",
    "```python\n",
    ">>> click.pause()\n",
    "Press any key to continue ...\n",
    "```"
   ]
  },
  {
   "cell_type": "markdown",
   "metadata": {},
   "source": [
    "可以传入一个字符串自定义显示的消息，同时，如果脚本并不是以交互的方式进行，那么这个函数会变成NOP（无操作指令），不会影响到程序的运行。"
   ]
  },
  {
   "cell_type": "markdown",
   "metadata": {},
   "source": [
    "### 启动编辑器"
   ]
  },
  {
   "cell_type": "markdown",
   "metadata": {},
   "source": [
    "到目前位置，能够实现的所有的交互都是基于单行或者单个字符，click也可以使用`click.edit()`函数利用系统默认的编辑器实现多行的输入，看看官方的例子：\n",
    "```python\n",
    "import click\n",
    "\n",
    "def get_commit_message():\n",
    "    MARKER = '# Everything below is ignored\\n'\n",
    "    message = click.edit('\\n\\n' + MARKER)\n",
    "    if message is not None:\n",
    "        return message.split(MARKER, 1)[0].rstrip('\\n')\n",
    "```\n",
    "执行该函数以后，windows会自动打开记事本。在记事本输入的内容会作为`click.edit()`函数的返回值，不过注意以下几点：\n",
    "1. 输入内容以后，文件需要保存，否则`click.edit()`返回的结果是None。\n",
    "2. `click.edit()`接受字符串作为第一个参数，字符串的内容会作为初始值显示在记事本上。\n",
    "3. 也可以通过`filename`参数打开已经存在的文件，比如`click.edit(filename='d:\\\\poem.txt')`，但是这种情况下，返回的永远是`None`."
   ]
  },
  {
   "cell_type": "markdown",
   "metadata": {},
   "source": [
    "### 启动应用程序"
   ]
  },
  {
   "cell_type": "markdown",
   "metadata": {},
   "source": [
    "官网这一节的标题是Launching Application，翻译过来是启动应用程序，但是我觉得不是太合适，`click.launch()`函数主要是用来打开一个url，一副图像或者一首歌等等：\n",
    "```python\n",
    "click.launch(\"https://click.palletsprojects.com/\")\n",
    "click.launch(\"D:\\\\programs\\\\Foxmail\\Foxmail.exe\")\n",
    "```\n",
    "注意：\n",
    "当打开失败的时候并不会抛出错误，而是会打印系统返回的错误消息，同时返回1，如果打开成功则返回0。\n",
    "\n",
    "`click.launch()`可以接受一个`locate`关键字参数，此时不会打开文件，而是使用文件管理器定位到文件的目录，比如`click.launch(\"D:\\\\poem.txt\", locate=True\")`,windows下会打开我的电脑并直接定位到D盘并选中poem.txt。不过测试发现，不论是否成功定位，都会返回1。"
   ]
  },
  {
   "cell_type": "markdown",
   "metadata": {},
   "source": [
    "### 打印文件名"
   ]
  },
  {
   "cell_type": "markdown",
   "metadata": {},
   "source": [
    "`click.format_filename()`函数会尽最大努力将文件名转换为Unicode，确保文件名可以显示出来，它可以接受字符串，或者字节。另外还有一个`shorten`的关键字参数，设置为`True`则仅仅只是显示文件名，不打印路径。\n",
    "```python\n",
    ">>> click.echo('Path: %s' % click.format_filename(b'D:\\\\foo.txt', shorten=True))\n",
    "Path: foo.txt\n",
    "    \n",
    ">>> click.echo('Path: %s' % click.format_filename(b'D:\\\\foo.txt'))\n",
    "Path: D:\\foo.txt\n",
    "```"
   ]
  },
  {
   "cell_type": "markdown",
   "metadata": {},
   "source": [
    "### 标准的输入输出流"
   ]
  },
  {
   "cell_type": "markdown",
   "metadata": {},
   "source": [
    "类似python原生的`sys.stdin`和`sys.stdout`，click提供了两个函数`get_text_stream`和`get_binary_stream`分别获取相应文本和二进制数据的流，这两个函数主要是为了python2和python3的兼容性，提供一个统一的接口，比如：\n",
    "```python\n",
    "import click\n",
    "\n",
    "stdin_text = click.get_text_stream('stdin')\n",
    "stdout_binary = click.get_binary_stream('stdout')\n",
    "```"
   ]
  },
  {
   "cell_type": "markdown",
   "metadata": {},
   "source": [
    "### 智能读取文件"
   ]
  },
  {
   "cell_type": "markdown",
   "metadata": {},
   "source": [
    "click的`open_file`函数可以像打开文件一样的使用`stdin/stdout`，只需要用特殊字符`-`来代替文件名，比如：\n",
    "```python\n",
    "with click.open_file('-', 'w') as f:\n",
    "    f.write('Hello World!\\n')\n",
    "```\n",
    "会在屏幕上打印`Hello World!`。\n",
    "再比如：\n",
    "```python\n",
    "with click.open_file('-', 'r') as f:\n",
    "    r = f.read()\n",
    "    \n",
    "print(r)\n",
    "```\n",
    "会允许进行多行输入（windows下`Ctrl+Z`回车结束输入），并将输入的结果打印出来。"
   ]
  },
  {
   "cell_type": "markdown",
   "metadata": {},
   "source": [
    "### 查找应用程序文件夹"
   ]
  },
  {
   "cell_type": "markdown",
   "metadata": {},
   "source": [
    "通常操作系统为应用程序的配置文件提供一个默认的存储位置，而不同的操作系统提供的位置不同。Click提供一个`get_app_dir()`函数，该函数根据操作系统为应用程序的每个用户配置文件返回最合适的位置。比如在windows下：\n",
    "```python\n",
    ">>> click.get_app_dir('myapp')\n",
    "'C:\\\\Users\\\\18907\\\\AppData\\\\Roaming\\\\myapp'\n",
    "```"
   ]
  },
  {
   "cell_type": "markdown",
   "metadata": {},
   "source": [
    "### 显示进度条"
   ]
  },
  {
   "cell_type": "markdown",
   "metadata": {},
   "source": [
    "`click.progressbar()`函数来方便地显示进度条。主要有两种用法：\n",
    "\n",
    "1. 基本的用法很简单，使用`progressbar`以及你要迭代的对象构造出一个`bar`对象，迭代`bar`对象来自动告知进度：\n",
    "\n",
    "```python\n",
    "import time\n",
    "import click\n",
    "\n",
    "all_the_users_to_process = ['a', 'b', 'c']\n",
    "\n",
    "def modify_the_user(user):\n",
    "    time.sleep(0.5)\n",
    "\n",
    "with click.progressbar(all_the_users_to_process) as bar:\n",
    "    for user in bar:\n",
    "        modify_the_user(user)\n",
    "```\n",
    "上面的代码会自动打印一个进度条到终端，并计算剩余时间。剩余时间的计算需要迭代的长度，即可以通过`len()`函数计算出长度。如果没有长度，但是知道长度，可以显式地提供：\n",
    "```python\n",
    "with click.progressbar(all_the_users_to_process, length=number_of_users) as bar:\n",
    "    for user in bar:\n",
    "        modify_the_user(user)\n",
    "```\n",
    "注意，每对`bar`对象循环一次，进度条重新打印一次，因此，不要在`for`循环里面打印别的内容，容易显示混乱。\n",
    "最后，`progressbar`接受一个`label`的标签，显示在进度条最前面作为提示。\n",
    "\n",
    "2. 第二种，可以在进度条的上下文内迭代原始对象，手动的更新`bar`对象，就像下面这样：\n",
    "\n",
    "```python\n",
    "import time\n",
    "import click\n",
    "\n",
    "all_the_users_to_process = ['a', 'b', 'c']\n",
    "\n",
    "def modify_the_user(user):\n",
    "    time.sleep(0.5)\n",
    "\n",
    "with click.progressbar(all_the_users_to_process) as bar:\n",
    "    for user in enumerate(all_the_users_to_process):\n",
    "        modify_the_user(user)\n",
    "        bar.update(1)\n",
    "```"
   ]
  },
  {
   "cell_type": "markdown",
   "metadata": {},
   "source": [
    "## Click的异常处理"
   ]
  },
  {
   "cell_type": "markdown",
   "metadata": {},
   "source": [
    "`click`中，如果要抛出异常，要尽量的抛出`click`定义的异常，因为`click`会对它定义的异常进行拦截，从而有更好的显示。比如：\n",
    "```python\n",
    "@click.command()\n",
    "@click.option('--rolls', default='1d6')\n",
    "def roll(rolls):\n",
    "    raise click.BadParameter(\"error in command\")\n",
    "```\n",
    "此时的输出是，而不是原始的堆栈类型的错误信息：\n",
    "```\n",
    "(base) D:\\>python test.py\n",
    "Usage: test.py [OPTIONS]\n",
    "\n",
    "Error: Invalid value: error in command\n",
    "```"
   ]
  },
  {
   "cell_type": "markdown",
   "metadata": {},
   "source": [
    "### Click的异常"
   ]
  },
  {
   "attachments": {
    "%E5%9B%BE%E7%89%87.png": {
     "image/png": "[encoded data removed]"
    }
   },
   "cell_type": "markdown",
   "metadata": {},
   "source": [
    "Click的根异常为`ClickException`，它有一个`show()`方法，可以向`stderr`或给定的`file`对象打印错误消息，其它的异常都是其子类。另外还有两个继承自`RuntimeError`的异常，分别是`Abort`和`Exit`。整体的解构如下图：\n",
    "![%E5%9B%BE%E7%89%87.png](attachment:%E5%9B%BE%E7%89%87.png)\n",
    "\n",
    "常见的几个异常如下：\n",
    "- `UsageError`：用来通知用户出错了。\n",
    "- `BadParameter`：表示某个特定参数出了问题。\n",
    "- `FileError`：如果Click在打开文件时遇到问题就会抛出`FileError`异常。"
   ]
  },
  {
   "cell_type": "markdown",
   "metadata": {},
   "source": [
    "### 异常处理流程"
   ]
  },
  {
   "cell_type": "markdown",
   "metadata": {},
   "source": [
    "Click的异常处理都在core.py模块中的`BaseCommand.main()`中，在那里它处理所有的`ClickException`子类以及标准的`EOFError`和`KeyboardInterrupt`异常,后两者在内部被翻译成中止`Abort`。\n",
    "\n",
    "异常的处理流程如下：\n",
    "1. 如果发生了错误或`keyboard`终端,则抛出`Abort`异常。\n",
    "2. 如果抛出`ClickException`异常,则调用`ClickException.show()`方法来显示异常消息,然后使用`ClickException.exit_code`码退出程序。\n",
    "3. 如果一个`Abort`中止异常被抛出，则打印`Abort!`到`stderr`,然后使用退出码1退出程序。\n",
    "4. 如果顺利进行,则使用退出码0退出程序。"
   ]
  },
  {
   "cell_type": "markdown",
   "metadata": {},
   "source": [
    "### 如果我不想这么做怎么办"
   ]
  },
  {
   "cell_type": "markdown",
   "metadata": {},
   "source": [
    "如果你想自定义捕捉异常的流程，可以使用手动调用命令的方法，比如：\n",
    "```python\n",
    "import sys\n",
    "\n",
    "# sys.argv是你输入到命令行的列表，比如>(base) D:\\>python test.py --name shy file.txt\n",
    "# 此时sys.argv就是['test.py', '--name', 'shy', 'file.txt']\n",
    "ctx = command.make_context('command-name', sys.argv[1:]) \n",
    "with ctx:\n",
    "    result = command.invoke(ctx)\n",
    "```\n",
    "这样，所有的异常都会像平时一样被抛出，你可以定制自己的异常处理逻辑。其实源码也是这样做的：\n",
    "```python\n",
    "        try:\n",
    "            try:\n",
    "                with self.make_context(prog_name, args, **extra) as ctx:\n",
    "                    rv = self.invoke(ctx)\n",
    "                    if not standalone_mode:\n",
    "                        return rv\n",
    "                    ctx.exit()\n",
    "            except (EOFError, KeyboardInterrupt):\n",
    "                echo(file=sys.stderr)\n",
    "                raise Abort()\n",
    "            except ClickException as e:\n",
    "                if not standalone_mode:\n",
    "                    raise\n",
    "                e.show()\n",
    "                sys.exit(e.exit_code)\n",
    "            except IOError as e:\n",
    "                if e.errno == errno.EPIPE:\n",
    "                    sys.stdout = PacifyFlushWrapper(sys.stdout)\n",
    "                    sys.stderr = PacifyFlushWrapper(sys.stderr)\n",
    "                    sys.exit(1)\n",
    "                else:\n",
    "                    raise\n",
    "        except Exit as e:\n",
    "            if standalone_mode:\n",
    "                sys.exit(e.exit_code)\n",
    "            else:\n",
    "                return e.exit_code\n",
    "        except Abort:\n",
    "            if not standalone_mode:\n",
    "                raise\n",
    "            echo('Aborted!', file=sys.stderr)\n",
    "            sys.exit(1)\n",
    "```\n",
    "仔细分析源码，可以发现，也可以直接使用`Command.main()`方法，只要将`standalone_mode`设置为`False`，那么所有的异常都会被抛出，不过`EOFError, KeyboardInterrupt`会作为`Abort`异常抛出，如下：\n",
    "```python\n",
    "command.main(['command-name', 'args', 'go', 'here'], standalone_mode=False)\n",
    "```"
   ]
  },
  {
   "cell_type": "markdown",
   "metadata": {},
   "source": [
    "## Click内部原理分析"
   ]
  },
  {
   "cell_type": "markdown",
   "metadata": {},
   "source": [
    "### 普通命令的流程"
   ]
  },
  {
   "cell_type": "markdown",
   "metadata": {},
   "source": [
    "先看一段简单代码：\n",
    "```python\n",
    "@click.command()\n",
    "@click.option(\"--name\")\n",
    "def cli(name):\n",
    "    click.echo(name)\n",
    "\n",
    "if __name__ == \"__main__\":\n",
    "    cli()\n",
    "```\n",
    "在内部，大致的流程是这样的：\n",
    "1. `click.option`装饰器在内部创建了`Option`的实例，然后将原函数的`__click_params__`属性设置为这个实例，最后返回原函数。\n",
    "\n",
    "\n",
    "2. 首先在`click.command`装饰器内部，创建并返回一个`click.Command`的实例，将原函数的`__click_params__`属性设置为实例的`params`属性，即`Command`实例的`params`属性保存了所有`option`实例组成的列表，然后删除原函数的`__click_params__`属性，最后将原函数保存为`Command`实例的`callback`属性。\n",
    "\n",
    "\n",
    "3. 执行`cli()`，实际执行的是这个实例的`__call__`方法。`__call__`方法又会调用内部的一个`main`方法，在`main`方法中，通过`Command`的`make_context`方法创建了一个上下文对象，即`click.Context`的实例，`Context`实例和`Command`实例是相互绑定的，`make_context`方法会读取`command`实例的`context_settings`，创建一个`click.Context`的实例，然后通过`Command.parse_args(ctx, args)`解析传递给这个实例的参数（因为`context_setting`可能会改写参数，所以要先创建`Context`实例，再解析参数），具体见步骤4，然后返回`Context`实例，最终通过`Context`实例的`invoke`方法调用原函数。<font color=\"red\">**注意：上下文`Context`对象创建的时间点，并不是在定义的时候创建的，而是延迟到执行`cli()`的时候才在内部创建。**</font>\n",
    "\n",
    "\n",
    "4. `Command`对象调用`parse_args(ctx, args)`方法解析所有的`args`，目前是将选项名和值形成键值对，以便传入回调函数，比如输入命令`python test.py --name shy`。`args`就是`['--name', 'shy']`。解析后的参数放到`ctx`的`params`字典属性中，`ctx.params={'name': 'shy'}`，最后将`ctx.params`以关键字参数的形式传递给命令的回调函数。\n",
    "\n",
    "\n",
    "5. `Context`本身有`__enter__`和`__exit__`特殊函数，同时又提供了一个`scope`方法作为上下文管理器，`scope`方法提供一个`cleanup`的关键字参数，默认是`True`，用来控制是否运行一些例如清理文件句柄的函数。如果手动去运行这些清理函数，那么`scope`上下文管理器和把`Context`实例本身作为上下文管理器是一样的。`Context`实例作为上下文管理器，主要是使用`threading.local()`创建了一个`stack()`的栈（本质是一个列表），并将当前的`Context`上下文`push`到这个栈中去，以便于利用`globals`模块中的`get_current_context()`方法随时取用上下文，这也是`pass_context`装饰器实现的原理。"
   ]
  },
  {
   "cell_type": "code",
   "execution_count": null,
   "metadata": {},
   "outputs": [],
   "source": []
  }
 ],
 "metadata": {
  "kernelspec": {
   "display_name": "Python 3",
   "language": "python",
   "name": "python3"
  },
  "language_info": {
   "codemirror_mode": {
    "name": "ipython",
    "version": 3
   },
   "file_extension": ".py",
   "mimetype": "text/x-python",
   "name": "python",
   "nbconvert_exporter": "python",
   "pygments_lexer": "ipython3",
   "version": "3.7.6"
  },
  "toc": {
   "base_numbering": 1,
   "nav_menu": {},
   "number_sections": true,
   "sideBar": true,
   "skip_h1_title": true,
   "title_cell": "Table of Contents",
   "title_sidebar": "Python私房手册-命令行神器click",
   "toc_cell": false,
   "toc_position": {},
   "toc_section_display": true,
   "toc_window_display": true
  }
 },
 "nbformat": 4,
 "nbformat_minor": 4
}
