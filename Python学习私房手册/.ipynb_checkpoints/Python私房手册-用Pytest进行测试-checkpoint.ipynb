{
 "cells": [
  {
   "cell_type": "markdown",
   "metadata": {},
   "source": [
    "# Python私房手册-用pytest进行测试"
   ]
  },
  {
   "cell_type": "markdown",
   "metadata": {},
   "source": [
    "先简单的描述一下使用`pytest`进行测试的整个过程：首先，我们编写一些专门用来进行测试的代码，这些代码被称为测试用例，代码所在的文件被称为测试文件，测试文件和测试用例都需要遵循`pytest`的命名规则，然后在命令行中直接运行`pytest`，`pytest`会搜索测试文件和测试用例并运行，这个过程被称为测试搜索，最后给出测试结果。  "
   ]
  },
  {
   "cell_type": "markdown",
   "metadata": {},
   "source": [
    "## 编写基本的测试"
   ]
  },
  {
   "cell_type": "markdown",
   "metadata": {},
   "source": [
    "### 使用`assert`声明"
   ]
  },
  {
   "cell_type": "code",
   "execution_count": null,
   "metadata": {},
   "outputs": [],
   "source": []
  },
  {
   "cell_type": "markdown",
   "metadata": {},
   "source": [
    "### 预期异常"
   ]
  },
  {
   "cell_type": "code",
   "execution_count": null,
   "metadata": {},
   "outputs": [],
   "source": []
  },
  {
   "cell_type": "markdown",
   "metadata": {},
   "source": [
    "### 参数化测试"
   ]
  },
  {
   "cell_type": "code",
   "execution_count": null,
   "metadata": {},
   "outputs": [],
   "source": []
  },
  {
   "cell_type": "markdown",
   "metadata": {},
   "source": [
    "## 如何运行测试"
   ]
  },
  {
   "cell_type": "markdown",
   "metadata": {},
   "source": [
    "1. 直接使用`pytest`加命令行选项的方式：  \n",
    "如果不提供任何参数，`pytest`会在当前目录以及子目录下寻找所有测试用例，不过，`pytest`可以选择运行某个目录、文件、类中的测试，还可以根据测试用例的名称或者根据标记来运行测试。\n",
    "2. 使用`python -m pytest`的方式：  \n",
    "这种方式和上一种几乎一样，唯一的区别就是它会把你当前的路径加入到`sys.path`中去。"
   ]
  },
  {
   "cell_type": "markdown",
   "metadata": {},
   "source": [
    "### 单个目录、文件和类"
   ]
  },
  {
   "cell_type": "markdown",
   "metadata": {},
   "source": [
    "- 以目录做为`pytest`的参数即可。如：`pytest tests`。\n",
    "- 路径名加文件名。如：`pytest tests/testfile.py`。\n",
    "- 单个类或方法：在文件名后加上`::`符号和类名或方法名，如：`pytest tests/testfile.py::TestCase`。\n",
    "- 测试类中的方法：同样在类后加上`::`符号和方法名称，如：`pytest tests/testfile.py::TestCase::testfunc`。\n",
    "\n",
    "简单来说，文件级别以上填写完整路径即可，文件内部使用`::`符号区分级别。"
   ]
  },
  {
   "cell_type": "markdown",
   "metadata": {},
   "source": [
    "### 使用`-k`参数根据名称选取子集"
   ]
  },
  {
   "cell_type": "markdown",
   "metadata": {},
   "source": [
    "`-k`选项可以根据名称来选取子集，后面接表达式，表达式中可以包含\"and, or, not\"，如下：\n",
    "```python\n",
    "pytest -k _raise # 选取测试名称中包含_raise字段的所有测试项目\n",
    "pytest -k \"_raise not delete\" # 选取测试名称中包含_raise但是不包含delete字段的所有测试\n",
    "```\n",
    "注意：`-k`如果是单个参数，可以不加引号，加引号的话只能加双引号，单引号不识别。"
   ]
  },
  {
   "cell_type": "markdown",
   "metadata": {},
   "source": [
    "### 使用`-m`参数根据标记选取子集"
   ]
  },
  {
   "cell_type": "markdown",
   "metadata": {},
   "source": [
    "`-m`选项可以根据标记来选取子集，如：\n",
    "```python\n",
    "pytest -m smoke tests\n",
    "```\n",
    "此时只有通过`@pytest.mark.smoke`装饰器标记了的测试用例才会运行。要注意的是，这里`smoke`是自定义的标记，自定义标记需要先注册，有两种方法：\n",
    "1. 在`pytest.init`中配置，格式如下：\n",
    "```ini\n",
    "[pytest]\n",
    "markers = smoke: mark smoke test case\n",
    "```\n",
    "注意格式，也可以写成这样：\n",
    "```ini\n",
    "[pytest]\n",
    "markers = \n",
    "    smoke: mark smoke test case\n",
    "```\n",
    "2. 在`confest.py`文件中注册，格式如下：\n",
    "```python\n",
    "def pytest_configure(config):\n",
    "    config.addinivalue_line(\n",
    "        \"markers\", \"smoke: This is a customized test mark\"\n",
    "    )\n",
    "```\n",
    "点击查看官网关于[如何注册自定义标记](https://docs.pytest.org/en/latest/mark.html)的说明，另外`pytest.ini`和`confest.py`放在包含测试用例的文件夹根目录下。`@pytest.mark`有四个内置的标记，分别是`skip`,`skipif`,`xfail`,`parametrize`，单独分章节学习。"
   ]
  },
  {
   "cell_type": "markdown",
   "metadata": {},
   "source": [
    "### 常用的命令行选项"
   ]
  },
  {
   "cell_type": "markdown",
   "metadata": {},
   "source": [
    "- `--collect-only`：展示哪些测试用例会被运行，仅仅只是展示，并不实际执行测试用例。\n",
    "- `-x`：遇到失败即停止，不再运行剩下的测试用例。\n",
    "- `-r char`：`-r`后面接字符，比如`sxX`，分别表示被跳过，预计失败和预计失败但是通过的测试用例。默认情况下，对于上面几种情况，是没有输出报告的，只有加了`-r`，才会单独的给出报告，另外，可以`-r sxX`，也可以不要空格，直接`-rsxX`。\n",
    "- `--maxfail=num`：允许失败几次再停止。\n",
    "- `-s`：关闭`capsys`，即将`print`输出到`stdout`。\n",
    "- `-v`：输出的信息更详细，和不带`v`最明显的区别是，不带`v`的话，输出结果时，每个测试文件占一行，带`v`，输出结果时，每个测试用例占一行。\n",
    "- `-q`：简化输出信息，和`--tb=line`搭配适用，可以只打印异常的代码位置。\n",
    "- `--lf`：这个选项一开始没太理解，后来才搞懂，它其实分两步，先把所有测试用例运行一遍，然后再把那些出错的再运行一遍，对的就不再运行了，只给出第二遍运行的结果。\n",
    "- `--ff`：这个选项也是运行两遍，第两遍先运行那些错误的测试用例，给出第二遍运行的结果。\n",
    "- `-l`：输出信息还会给出错误的测试用例中的局部变量。\n",
    "- `--tb=style`：配置测试失败是的回溯信息的显示格式，有6种：\n",
    " - `--tb=auto`：默认值，仅打印第一个和最后一个用例的回溯信息。\n",
    " - `--tb=long`：输出最详尽的回溯信息。\n",
    " - `--tb=line`：只告诉我们错误的位置，对于大量测试用例的情况下很有用，可以用它发现失败的共性。\n",
    " - `--tb=short`：仅输出`assert`一行以及系统判别内容（不包含上下文）。\n",
    " - `--tb=no`：屏蔽所有回溯信息。\n",
    " - `--tb=native`：只输出标准库的回溯信息，不显示额外信息。\n",
    "- `--duration=N`：统计测试过程中哪几个阶段是最慢的。`--duration=0`的话会根据耗时从长到短排列。\n",
    "- `--setup-show`：回溯显示整个`fixture`的执行过程。\n",
    "- `--fixtures`：列出所有可用的`fixtures`，包括他们的位置（哪个文件哪一行），以及`docstring`。\n",
    "- `--markers`：查看所有可用的`marker`，包含内置的和自定义的。\n",
    "- `--doctest_modules`：搜索并运行`doctest`测试用例。\n",
    "\n",
    "除了上面列出来的常用的一些，还有很多选项，可以通过`--help`查看，另外，感觉`--lf`和`--ff`两个选项好像用处不大，可能是还没有遇到适用的场景。"
   ]
  },
  {
   "cell_type": "markdown",
   "metadata": {},
   "source": [
    "## 使用`Fixture`满足更多测试需求"
   ]
  },
  {
   "cell_type": "markdown",
   "metadata": {},
   "source": [
    "### 什么是`Fixture`"
   ]
  },
  {
   "cell_type": "markdown",
   "metadata": {},
   "source": [
    "简单来说，`fixture`就是一个函数，`pytest`会先判断测试函数的参数是不是一个`fixture`，如果是，则会在运行测试函数之前先去执行这个`fixture`函数，写`Fixture`很简单，适用`@pytest.fixture()`（注意，有括号）装饰器装饰任何一个函数即可，如下：\n",
    "```python\n",
    "@pytest.fixture()\n",
    "def some_date():\n",
    "    return 42\n",
    "```\n",
    "现在，就有了一个名为`some_data`的`fixture`，你可以在测试函数中使用它：\n",
    "```python\n",
    "def test_some_data(some_data):\n",
    "    assert some_data == 42\n",
    "```\n",
    "这些`fixture`写在哪里呢，可以和测试函数写在一起，也可以单独写到一个名为`conftest.py`的文件中，`pytest`会先判断测试函数的参数是不是一个`fixture`，它会先搜索测试函数所在的模块，如果没找到，再到`conftest.py`这个文件中去查找。"
   ]
  },
  {
   "cell_type": "markdown",
   "metadata": {},
   "source": [
    "### 理解测试用例执行过程"
   ]
  },
  {
   "cell_type": "markdown",
   "metadata": {},
   "source": [
    "了解了什么是`Fixture`，就可以理解一个测试用例的完整的执行过程。一般执行一个测试用例，分为三个阶段：\n",
    "- `SETUP`：此时`pytest`发现测试用例中的参数是一个`fixture`，则开始执行`fixture`函数，执行到`yield`语句的时候就停止。\n",
    "- `CALL`：开始执行测试用例。\n",
    "- `TEARDOWN`：测试用例执行完毕，又回到`fixture`函数中，执行`yield`语句的后续部分。\n",
    "\n",
    "通过`--setup-show`命令行参数可以清楚的看到这个过程，`--durations=num`命令行参数可以告诉你，哪几个阶段耗时最长。"
   ]
  },
  {
   "cell_type": "markdown",
   "metadata": {},
   "source": [
    "### 自定义`Fixture`"
   ]
  },
  {
   "cell_type": "markdown",
   "metadata": {},
   "source": [
    "#### 通过`conftest.py`文件共享`fixture`"
   ]
  },
  {
   "cell_type": "markdown",
   "metadata": {},
   "source": [
    "`fixture`可以单独写在一个名为`conftest.py`文件中，`conftest.py`文件中的所有`fixture`可以供所在目录以及子目录下的所有测试用例使用。要注意一点，尽管`conftest.py`是`python`模块，但是它不能被导入。"
   ]
  },
  {
   "cell_type": "markdown",
   "metadata": {},
   "source": [
    "#### `Fixture`主要使用场景"
   ]
  },
  {
   "cell_type": "markdown",
   "metadata": {},
   "source": [
    "`fixgure`主要有两个使用场景：\n",
    "1. 使用`fixture`执行配置及销毁。\n",
    "比如测试需要用到数据库，那么可以写一个这样的`fixture`：\n",
    "```python\n",
    "@pytest.fixture()\n",
    "def connect_db():\n",
    "    start_db() # 执行数据库连接\n",
    "    yield\n",
    "    stop_db() # 执行数据库断开\n",
    "```\n",
    "这样就不用每个测试用例都写数据库连接和断开的代码。\n",
    "2. 使用`fixture`传递测试数据。\n",
    "如果有多个测试用例都要使用到的数据，此时可以把这些数据放到一个`fixture`里，如：\n",
    "```python\n",
    "@pytest.fixture()\n",
    "def some_data():\n",
    "    return \"some data\"\n",
    "```"
   ]
  },
  {
   "cell_type": "markdown",
   "metadata": {},
   "source": [
    "#### 指定`fixture`的作用范围"
   ]
  },
  {
   "cell_type": "markdown",
   "metadata": {},
   "source": [
    "难道每次执行测试用例的时候，参数包含的`fixture`都会执行一次吗？默认情况下确实是这样，但是，我们可以通过`fixture`的`scope`参数来指定`fixture`的作用范围，一共有4个级别：\n",
    "- `session`级别：当一次会话的时候执行一次，会话可以理解成运行一次`pytest`。\n",
    "- `module`级别： 一个模块执行一次。\n",
    "- `class`级别： 一个类一个级别。\n",
    "- `function`级别： 函数级别，默认级别。\n",
    "\n",
    "这里有几个问题要弄清楚：\n",
    "1. **如果没有向测试用例的参数中传递`fixture`，`fixture`还会运行吗？**  \n",
    "答案是否。不过如果在定义`fixture`时，设置了`autouse=True`，那么，不管有没有传递`fixture`，它也会根据定义时设定的`scope`级别自动运行，比如`session`级别的，每次会话运行一次，`function`级别的，每个测试用例都会运行一次。\n",
    "\n",
    "\n",
    "2. **如果设置了`autouse=True`自动运行，那么在测试用例里使用某个已经运行的`fixture`，还需要通过参数传递给测试用例吗？**  \n",
    "答案是肯定的，虽然`fixture`已经运行了，但是必须通过参数传递给测试用例才能使用，否则会抛出`NameError`。"
   ]
  },
  {
   "cell_type": "markdown",
   "metadata": {},
   "source": [
    "#### 通过`@pytest.mark.usefixtures()`指定要使用的`fixture`"
   ]
  },
  {
   "cell_type": "markdown",
   "metadata": {},
   "source": [
    "如果测试用例是函数，基本上用不上这个装饰器，只有测试用例是类的情况下，才有意义：\n",
    "```python\n",
    "@pytest.fixture()\n",
    "def use_db():\n",
    "    print('start_db')\n",
    "    yield\n",
    "    print('end_db')\n",
    "\n",
    "\n",
    "@pytest.mark.usefixtures('use_db')\n",
    "class TestCase:\n",
    "    def test_something(self):\n",
    "        assert 1\n",
    "```\n",
    "注意，使用`usefixtures`添加`fixture`，只适合用来执行配置和销毁，即没有任何返回值，因为如果要使用`usefixtures`方法添加的`fixture`，仍然要通过传参的方式将`fixture`传递给类中的方法，这样的话就没必要使用`usefixtures`添加`fixture`了。还是上面的例子:\n",
    "```python\n",
    "class TestCase:\n",
    "    def test_something(self, use_db):\n",
    "        assert 1\n",
    "```\n",
    "此时，既然已经将`use_db`传递给`test_something`，就没必要再使用`usefixtures`了，即`usefixtures`只适合指定无返回值，即测试类中的方法不需要使用到的执行配置和销毁的`fixture`。  \n",
    "当然，也可以完全不用`usefixtures`，那么你得这样写：\n",
    "```python\n",
    "@pytest.fixture(scope='class')\n",
    "def use_db():\n",
    "    print('start_db')\n",
    "    yield\n",
    "    print('\\nend_db')\n",
    "\n",
    "\n",
    "class TestCase:\n",
    "    def test_something(self, use_db):\n",
    "        assert 1\n",
    "\n",
    "    def test_other(self):\n",
    "        assert 2\n",
    "```\n",
    "这样的写法很不友好，除非你将`use_db`得`autouse`设置为`True`，但是这样的话每个测试类都会执行`use_db`。所以，如果类级别需要执行配置和销毁的`fixture`，最好就是使用`usefixtures`方法。"
   ]
  },
  {
   "cell_type": "markdown",
   "metadata": {},
   "source": [
    "#### 重命名`fixture`"
   ]
  },
  {
   "cell_type": "markdown",
   "metadata": {},
   "source": [
    "默认情况下，`fixture`的名字就是`fixture`函数的名字，但是有时候，函数名字很长，此时可以通过`name`参数指定一个名称。这个很好理解，只是有个小技巧，可以通过`--fixtures`参数列出所有可用的`fixture`，包含内置的和自定义的，不过此时，只会以更改后的名字进行显示。"
   ]
  },
  {
   "cell_type": "markdown",
   "metadata": {},
   "source": [
    "#### `fixture`的参数化"
   ]
  },
  {
   "cell_type": "markdown",
   "metadata": {},
   "source": [
    "前面使用`@pytest.mark.parametrize()`参数化，可以一次将多个数据以参数形式传递给测试用例，但如果这些数据需要反复使用怎么办？此时可以使用`fixture`的`params`参数对数据进行参数化：\n",
    "```python\n",
    "origin_datas = ('data1', 'data2', 'data3')\n",
    "processed_datas = ('Data1', 'Data2', 'Data3')\n",
    "\n",
    "\n",
    "@pytest.fixture(params=zip(origin_datas, processed_datas))\n",
    "def data(request):\n",
    "    return request.param\n",
    "\n",
    "\n",
    "def test_data(data):\n",
    "    origin_data, processed_data = data\n",
    "    assert origin_data.capitalize() == processed_data\n",
    "```\n",
    "`request`是`pytest`内置的一个`fixture`，其`param`属性代表`params`列表中的一个元素。和普通的参数化一样，可以通过`ids`指定参数名称，注意，`ids`可以指定一个函数，该函数将作用于`params`列表中的每一个元素，生成最终的标识。"
   ]
  },
  {
   "cell_type": "markdown",
   "metadata": {},
   "source": [
    "#### 总结"
   ]
  },
  {
   "cell_type": "markdown",
   "metadata": {},
   "source": [
    "最后对`@pytest.fixture`的几个重要的参数总结一下：\n",
    "- `scope`：指定作用范围。\n",
    "- `name`：重命名`fixture`。\n",
    "- `params`：参数化`fixture`。\n",
    "- `ids`：指定参数化`fixture`的标识。"
   ]
  },
  {
   "cell_type": "markdown",
   "metadata": {},
   "source": [
    "### 内置`Fixture`"
   ]
  },
  {
   "cell_type": "markdown",
   "metadata": {},
   "source": [
    "#### `tmpdir`和`tmpdir_factory`"
   ]
  },
  {
   "cell_type": "markdown",
   "metadata": {},
   "source": [
    "这两个内置的`fixture`负责在测试开始运行前创建临时文件目录或者文件，并在测试后删除。区别是`tmpdir`是函数级别的，`tmpdir_factory`是会话级别的。注意：\n",
    "- `tmpdir`本身是一个`py.path.local`类型的对象，而`tempdir_factory`是`_pytest.tmpdir.TempdirFactory`类型的对象，`tempdir_factory`的`mktemp()`方法返回的才是`py.path.local`对象，`py`是`python`的一个库，`py.path.local`对象是对本地文件系统的一个包装，可以方便的对文件夹和文件进行各种操作，官方文档[点这里](https://py.readthedocs.io/en/latest/path.html)。\n",
    "- 如果要模块级别或者类级别的临时目录，可以使用`tmpdir_factory`自己再创建一个`fixture`。"
   ]
  },
  {
   "cell_type": "markdown",
   "metadata": {},
   "source": [
    "#### `pytestconfig`"
   ]
  },
  {
   "cell_type": "markdown",
   "metadata": {},
   "source": [
    "会话级别的`fixture`，它可以通过命令行参数、选项、配置文件等等来控制`pytest`，这个`fixture`其实是返回一个`_pytest.config.Config`对象，对象的官方文档[点这里](https://docs.pytest.org/en/latest/reference.html?highlight=pytestconfig#_pytest.fixtures.pytestconfig)，主要是写插件时用的多。"
   ]
  },
  {
   "cell_type": "markdown",
   "metadata": {},
   "source": [
    "#### `cache`"
   ]
  },
  {
   "cell_type": "markdown",
   "metadata": {},
   "source": [
    "`cache`是`session`级别的`fixture`，可以理解成类似`cookie`一样的东西。用于在测试会话之间保存一些信息。它有两个方法：\n",
    "```python\n",
    "cache.get(key, default)\n",
    "cache.set(key, value)\n",
    "```\n",
    "分别来读取和设置信息，可以通过`--cache-clear`和`--cache-show`分别清空和显示`cache`，以下几点要注意：\n",
    "1. `--cache-clear`会在每次`session`开始之前清空`cache`，而不是之后，后面接测试用例，因此总会保留一次运行的结果。\n",
    "2. `--cache-show`命令行参数只是用来显示`cache`的内容，不会运行任何测试用例，它后面接的也不是测试用例，而是`cache`里面的`key`。\n",
    "\n",
    "举个例子：\n",
    "```python\n",
    "def test_cache(cache):\n",
    "    nums = cache.get('nums', None)\n",
    "    if nums is None:\n",
    "        cache.set('nums', 1)\n",
    "    else:\n",
    "        nums += 1\n",
    "        cache.set('nums', nums)\n",
    "    assert 1\n",
    "```\n",
    "查看一共运行了几次测试，首先运行测试用例：`pytest --cache-clear test_funcs.py::test_cache`，然后运行`pytest --cache-show nums`查看此时nums的值为1，再运行`pytest test_funcs.py::test_cache`，然后再`pytest --cache-show nums`，此时就变成2了。"
   ]
  },
  {
   "cell_type": "markdown",
   "metadata": {},
   "source": [
    "#### `capsys`"
   ]
  },
  {
   "cell_type": "markdown",
   "metadata": {},
   "source": [
    "有时候想测试`print`出来的值是不是符合预期，此时可以使用`capsys`这个`fixture`。它的`readouterr`方法返回一个元组，分别是`stdout`和`stderr`的内容，举个例子：\n",
    "```python\n",
    "def test_print(capsys):\n",
    "    say_hello()\n",
    "    out, err = capsys.readouterr()\n",
    "    assert out == 'hello world\\n'\n",
    "    assert err == ''\n",
    "\n",
    "    \n",
    "def say_hello():\n",
    "    print('hello world')\n",
    "```\n",
    "注意，`python`的`print`函数会自动在字符串后面加一个换行符`'\\n'`，测试的时候需要加上去。  \n",
    "默认清空下，`pytest`会捕获所有的`stdout`和`stderr`，因此测试用例里面的`print`不会打印任何东西到屏幕。如果你想禁用捕获，有两种方法：\n",
    "1. 使用命令行参数`-s`，这个是会话级别，整个会话期间捕获都会被禁用。\n",
    "2. 使用`capsys.disabled()`上下文管理器，可以临时让输出绕过默认的输出捕获机制。\n",
    "```python\n",
    "def test_always_print(capsys):\n",
    "    with capsys.disabled():\n",
    "        print('always print hello world!')\n",
    "    print('disabled hello world!')\n",
    "```\n",
    "不加`-s`参数的话，可以看到`'always print hello world!'`，但是`'disabled hello world!'`不会显示。"
   ]
  },
  {
   "cell_type": "markdown",
   "metadata": {},
   "source": [
    "#### `monkeypatch`"
   ]
  },
  {
   "cell_type": "markdown",
   "metadata": {},
   "source": [
    "`monkeypatch`是个很有意思的功能，它可以临时修改实例的方法，属性，可以设置环境变量等等，然后在测试完成以后又恢复原样。有以下几个方法，其中，`raising`用于指示在属性或者字典的条目或者环境变量不存在时抛出异常：\n",
    "- `setattr(target, name, value=<notset>, raising=True)`：设置一个属性，举个例子：\n",
    "```python\n",
    "def test_monkey_patch(monkeypatch):\n",
    "    import os\n",
    "    print(os.path.abspath('.'))\n",
    "    monkeypatch.setattr(os.path, \"abspath\", lambda x: \"D:\\\\\")\n",
    "    print(os.path.abspath(\".\"))\n",
    "```\n",
    "可以看到，`os.path.abspath`的返回结果已经变成了\"D:\\\"。默认情况下，`raising=True`,对于`target`不存在的属性会抛出错误，比如，你敲错了，`\"abspath\"`写成`\"abxpath\"`，如果你设置为`raising=False`，注意，此时不会抛出异常，程序会照常执行，而`os.path`此时却多了一个`abxpath`的属性。\n",
    "- `delattr(target, name=<not set>, raising=True)`：删除一个属性。\n",
    "- `setitem(dic, name, value)`：设置字典中的一条记录。\n",
    "- `delitem(dic, name, raising=True)`：删除字典中的一条记录。\n",
    "- `setenv(name, value, prepend=None)`：设置一个环境变量。\n",
    "- `delenv(name, raising=True)`：删除一个环境变量。\n",
    "- `syspath_prepend(path)`：将路径`path`加入`sys.path`并放在最前面。\n",
    "- `chdir(path)`：改变当前的工作目录。"
   ]
  },
  {
   "cell_type": "markdown",
   "metadata": {},
   "source": [
    "#### `doctest_namaspace`"
   ]
  },
  {
   "cell_type": "markdown",
   "metadata": {},
   "source": [
    "这个主要是能够使用`--doctest-modules`运行`doctest`测试用例时，共享一个命名空间。假设有一个模块名为`mymath`：\n",
    "```python\n",
    "import mymath\n",
    "\n",
    "def test_doctest_namespace(doctest_namespace):\n",
    "    doctest_namespace['mm'] = mymath\n",
    "```\n",
    "这样，使用`pytest`加`--doctest_modules`运行`doctest`测试用例的时候，都可以使用`mm`这个变量来表示`mymath`模块。"
   ]
  },
  {
   "cell_type": "markdown",
   "metadata": {},
   "source": [
    "#### `recwarn` "
   ]
  },
  {
   "cell_type": "markdown",
   "metadata": {},
   "source": [
    "用来检查代码里的`warning`消息，就像一个告警的信息列表，每个告警信息都有`category`，`message`，`filename`，`lineno`四个属性。除了使用`recwarn`这个`fixture`，也可以使用`pytest.warns()`上下文管理器：\n",
    "```python\n",
    "def warnfunc():\n",
    "    warnings.warn(\"the func is going to be deprecated!\", DeprecationWarning)\n",
    "\n",
    "   \n",
    "def test_recwarn(recwarn):\n",
    "    warnfunc()\n",
    "    assert len(recwarn) == 1\n",
    "    w = recwarn.pop()\n",
    "    assert w.category == DeprecationWarning\n",
    "    assert str(w.message) == \"the func is going to be deprecated!\"\n",
    "    \n",
    "\n",
    "def test_pytest_warns():\n",
    "    with pytest.warns(None) as warning_list:\n",
    "        warnfunc()\n",
    "    \n",
    "    assert len(warning_list) == 1\n",
    "    w = warning_list.pop()\n",
    "    assert w.category == DeprecationWarning\n",
    "    assert str(w.message) == \"the func is going to be deprecated!\"\n",
    "```\n",
    "其中`pytest.warns`是对`recwarn`的一个包装，一般情况下是这样用的：\n",
    "```python\n",
    "def test_pytest_warns():\n",
    "    with pytest.warns(DeprecationWarning, match=\"deprecated\"):\n",
    "        warnfunc()\n",
    "```\n",
    "它返回的是一个`_pytest.recwarn.WarningsChecker`对象，注意`pyest.warns`的参数，函数签名是`with warns(expected_warning: Exception[, match])`，要注意的是，如果要像上面的例子一样，想返回一个列表，必须传入`None`，否则会报错。"
   ]
  },
  {
   "cell_type": "markdown",
   "metadata": {},
   "source": [
    "#### `request`"
   ]
  },
  {
   "cell_type": "markdown",
   "metadata": {},
   "source": [
    "`request`这个`fixture`不是很好理解，它主要返回函数内省的一些信息，可以用在测试函数或者`fixture`函数上。比如前面提到过的`fixture`参数化，`repuest.param`返回的是传递给`data`这个`fixture`函数的参数。再举个例子：\n",
    "```python\n",
    "@pytest.fixture(scope='module')\n",
    "def r(request):\n",
    "    return request.node.nodeid\n",
    "\n",
    "\n",
    "def test_request(r):\n",
    "    print(r)\n",
    "```\n",
    "`request`表示`r`这个`fixture`函数所在节点的字符串表示。`request`的各种属性点[这里](https://docs.pytest.org/en/latest/reference.html?highlight=pytestconfig#request)"
   ]
  },
  {
   "cell_type": "markdown",
   "metadata": {},
   "source": [
    "## `pytest`的配置"
   ]
  },
  {
   "cell_type": "markdown",
   "metadata": {},
   "source": [
    "如果想增加命令行选项，指定测试目录等等修改`pytest`的默认行为方式，有两种方式：\n",
    "1. 使用`hook`函数，写在`confest.py`文件中。\n",
    "2. 使用`pytest.ini`配置文件，如果同时使用`tox`库，也可以把`pytest`的配置写在`tox.ini`中，另外还有一个`setup.cfg`文件。"
   ]
  },
  {
   "cell_type": "markdown",
   "metadata": {},
   "source": [
    "### 修改`pytest.ini`配置文件"
   ]
  },
  {
   "cell_type": "markdown",
   "metadata": {},
   "source": [
    "#### `pytest.ini`文件放在哪里"
   ]
  },
  {
   "cell_type": "markdown",
   "metadata": {},
   "source": [
    "`pytest`配置文件顺序是：`pytest.ini`，`tox.ini`和`setup.cfg`。它会从所有测试目录的共同目录下开始寻找`pytest.ini`，然后一直到根目录，比如目录结构是这样的：\n",
    "```\n",
    "E:.\n",
    "│  pytest.ini      \n",
    "├─test1\n",
    "│  └─test_in_test1.py          \n",
    "└─test2\n",
    "    └─test_in_test2.py\n",
    "```\n",
    "`pytest.ini`只能放在`test1`和`test2`的共同目录，也就是`E`盘根目录下，不能放在`test1`或者`test2`目录下。如果`E`盘还有上级目录，放在上级目录也可以。"
   ]
  },
  {
   "cell_type": "markdown",
   "metadata": {},
   "source": [
    "#### 添加默认命令行选项"
   ]
  },
  {
   "cell_type": "markdown",
   "metadata": {},
   "source": [
    "可以使用`addopts`选项添加默认的命令行选项：\n",
    "```ini\n",
    "[pytest]\n",
    "addopts = -v --tb=short\n",
    "```\n",
    "这样，每次使用`pytest`运行测试用例的时候，会自动添加`-v --tb=short`选项"
   ]
  },
  {
   "cell_type": "markdown",
   "metadata": {},
   "source": [
    "#### 注册标记"
   ]
  },
  {
   "cell_type": "markdown",
   "metadata": {},
   "source": [
    "可以添加自定义的标记，这样可以使用`pytest -m <marker>`来选择运行使用`@pytest.mark.<marker>`装饰器装饰了的测试用例：\n",
    "```ini\n",
    "[pytest]\n",
    "markers =\n",
    "    smoke: Smoke is a customized marker.\n",
    "    fire: fire is a customized marker.\n",
    "```\n",
    "如果使用了自定义标记，"
   ]
  },
  {
   "cell_type": "markdown",
   "metadata": {},
   "source": [
    "## 坑与问题收集"
   ]
  },
  {
   "cell_type": "markdown",
   "metadata": {},
   "source": [
    "### 如何`monkeypatch`内置函数`datetime.datetime.now()`?"
   ]
  },
  {
   "cell_type": "markdown",
   "metadata": {},
   "source": [
    "#### 问题现象"
   ]
  },
  {
   "cell_type": "markdown",
   "metadata": {},
   "source": [
    "最近遇到这样的一个问题，想要测试的一个函数内部使用了`datetime.datetime.now()`，使用`monkeypatch`报错，代码如下：\n",
    "```python\n",
    "monkeypatch.setattr(datetime.datetime,\"now\", nowfunc)\n",
    "```\n",
    "提示：`TypeError: can't set attributes of built-in/extension type 'datetime.datetime'`。"
   ]
  },
  {
   "cell_type": "markdown",
   "metadata": {},
   "source": [
    "#### 原因及解决方法"
   ]
  },
  {
   "cell_type": "markdown",
   "metadata": {},
   "source": [
    "`pytest`不能对用`C`实现的许多扩展类型的属性进行`monkeypatch`，最简单的方法是建立一个子类，代码如下：\n",
    "```python\n",
    "class patched_datetime(datetime.datetime): \n",
    "    pass\n",
    "\n",
    "monkeypatch.setattr(patched_datetime, \"now\", nowfunc)\n",
    "datetime.datetime = patched_datetime\n",
    "```\n",
    "另外，在`stackoverflow`上有人问了同样的问题，给出的解决方案如下，直接`monkeypatch`了`datetime.datetime`类：\n",
    "```python\n",
    "import datetime\n",
    "import pytest\n",
    "\n",
    "FAKE_TIME = datetime.datetime(2020, 12, 25, 17, 5, 55)\n",
    "\n",
    "@pytest.fixture\n",
    "def patch_datetime_now(monkeypatch):\n",
    "\n",
    "    class mydatetime:\n",
    "        @classmethod\n",
    "        def now(cls):\n",
    "            return FAKE_TIME\n",
    "\n",
    "    monkeypatch.setattr(datetime, 'datetime', mydatetime)\n",
    "\n",
    "\n",
    "def test_patch_datetime(patch_datetime_now):\n",
    "    assert datetime.datetime.now() == FAKE_TIME\n",
    "```"
   ]
  },
  {
   "cell_type": "code",
   "execution_count": null,
   "metadata": {},
   "outputs": [],
   "source": []
  }
 ],
 "metadata": {
  "kernelspec": {
   "display_name": "Python 3",
   "language": "python",
   "name": "python3"
  },
  "language_info": {
   "codemirror_mode": {
    "name": "ipython",
    "version": 3
   },
   "file_extension": ".py",
   "mimetype": "text/x-python",
   "name": "python",
   "nbconvert_exporter": "python",
   "pygments_lexer": "ipython3",
   "version": "3.7.3"
  },
  "toc": {
   "base_numbering": 1,
   "nav_menu": {},
   "number_sections": true,
   "sideBar": true,
   "skip_h1_title": true,
   "title_cell": "Table of Contents",
   "title_sidebar": "Python私房手册-用Pytest进行测试",
   "toc_cell": false,
   "toc_position": {},
   "toc_section_display": true,
   "toc_window_display": false
  },
  "varInspector": {
   "cols": {
    "lenName": 16,
    "lenType": 16,
    "lenVar": 40
   },
   "kernels_config": {
    "python": {
     "delete_cmd_postfix": "",
     "delete_cmd_prefix": "del ",
     "library": "var_list.py",
     "varRefreshCmd": "print(var_dic_list())"
    },
    "r": {
     "delete_cmd_postfix": ") ",
     "delete_cmd_prefix": "rm(",
     "library": "var_list.r",
     "varRefreshCmd": "cat(var_dic_list()) "
    }
   },
   "types_to_exclude": [
    "module",
    "function",
    "builtin_function_or_method",
    "instance",
    "_Feature"
   ],
   "window_display": false
  }
 },
 "nbformat": 4,
 "nbformat_minor": 2
}
