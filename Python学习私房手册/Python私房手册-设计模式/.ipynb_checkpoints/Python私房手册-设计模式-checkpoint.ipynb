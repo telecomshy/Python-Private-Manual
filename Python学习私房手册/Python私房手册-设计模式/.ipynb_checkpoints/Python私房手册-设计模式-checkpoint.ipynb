{
 "cells": [
  {
   "cell_type": "markdown",
   "metadata": {},
   "source": [
    "# Python设计模式私房手册"
   ]
  },
  {
   "cell_type": "markdown",
   "metadata": {},
   "source": [
    "## 简单工厂模式"
   ]
  },
  {
   "cell_type": "markdown",
   "metadata": {},
   "source": [
    "你正在编写一个游戏，游戏有很多英雄角色，你创建了2个英雄，以及他们使用的武器："
   ]
  },
  {
   "cell_type": "code",
   "execution_count": 1,
   "metadata": {},
   "outputs": [
    {
     "name": "stdout",
     "output_type": "stream",
     "text": [
      "Writing heroesV1.py\n"
     ]
    }
   ],
   "source": [
    "%%file heroesV1.py\n",
    "from abc import ABC, abstractmethod\n",
    "\n",
    "\n",
    "class Hero(ABC):\n",
    "    @abstractmethod\n",
    "    def attack(self):\n",
    "        pass\n",
    "\n",
    "    def equip(self, weapon):\n",
    "        self.weapon = weapon\n",
    "\n",
    "\n",
    "class IronMan(Hero):\n",
    "    def attack(self):\n",
    "        print(f\"钢铁侠用{self.weapon}发起攻击！\")\n",
    "\n",
    "\n",
    "class SpiderMan(Hero):\n",
    "    def attack(self):\n",
    "        print(f\"蜘蛛侠用{self.weapon}发起攻击！\")\n",
    "\n",
    "\n",
    "class Weapon(ABC):\n",
    "    @abstractmethod\n",
    "    def __str__(self):\n",
    "        pass\n",
    "\n",
    "\n",
    "class Armour(Weapon):\n",
    "    def __str__(self):\n",
    "        return \"战甲\"\n",
    "\n",
    "\n",
    "class Shooter(Weapon):\n",
    "    def __str__(self):\n",
    "        return \"蛛丝发射器\""
   ]
  },
  {
   "cell_type": "markdown",
   "metadata": {},
   "source": [
    "ok,现在你把这些类打包成一个模块，发给你的同事。现在他需要创建一个英雄，他只能这么写："
   ]
  },
  {
   "cell_type": "code",
   "execution_count": 1,
   "metadata": {},
   "outputs": [
    {
     "name": "stdout",
     "output_type": "stream",
     "text": [
      "Choice your hero:spiderman\n",
      "Choose the weapon:shooter\n",
      "蜘蛛侠用蛛丝发射器发起攻击！\n"
     ]
    }
   ],
   "source": [
    "from heroes import IronMan, Armour, SpiderMan, Shooter\n",
    "\n",
    "hero_map = {'ironman': IronMan, 'spiderman': SpiderMan}\n",
    "weapon_map = {'armour': Armour, 'shooter': Shooter}\n",
    "\n",
    "hero_choice = input(\"Choose your hero:\")\n",
    "hero_choice = hero_choice.lower()\n",
    "hero = hero_map[hero_choice]()\n",
    "\n",
    "weapon_choice = input(\"Choose the weapon:\")\n",
    "weapon_choice = weapon_choice.lower()\n",
    "weapon = weapon_map[weapon_choice]()\n",
    "\n",
    "hero.equip(weapon)\n",
    "hero.attack()"
   ]
  },
  {
   "cell_type": "markdown",
   "metadata": {},
   "source": [
    "同事对你意见很大，现在只有2个英雄，英雄多了怎么办？所有英雄啊，武器啊，我都得`import`。你想想也是，你寻思把判断英雄的活自己干了吧，给同事一个接口就行了，于是你创建了一个简单的工厂："
   ]
  },
  {
   "cell_type": "code",
   "execution_count": 5,
   "metadata": {},
   "outputs": [
    {
     "name": "stdout",
     "output_type": "stream",
     "text": [
      "Overwriting heroesV2.py\n"
     ]
    }
   ],
   "source": [
    "%%file heroesV2.py\n",
    "from abc import ABC, abstractmethod\n",
    "\n",
    "\n",
    "class Hero(ABC):\n",
    "    @abstractmethod\n",
    "    def attack(self):\n",
    "        pass\n",
    "\n",
    "    def equip(self, weapon):\n",
    "        self.weapon = weapon\n",
    "\n",
    "\n",
    "class IronMan(Hero):\n",
    "    def attack(self):\n",
    "        print(f\"钢铁侠用{self.weapon}发起攻击！\")\n",
    "\n",
    "\n",
    "class SpiderMan(Hero):\n",
    "    def attack(self):\n",
    "        print(f\"蜘蛛侠用{self.weapon}发起攻击！\")\n",
    "\n",
    "\n",
    "class Weapon(ABC):\n",
    "    @abstractmethod\n",
    "    def __str__(self):\n",
    "        pass\n",
    "\n",
    "\n",
    "class Armour(Weapon):\n",
    "    def __str__(self):\n",
    "        return \"战甲\"\n",
    "\n",
    "\n",
    "class Shooter(Weapon):\n",
    "    def __str__(self):\n",
    "        return \"蛛丝发射器\"\n",
    "\n",
    "\n",
    "class HeroFactory:\n",
    "    hero_map = {'ironman': IronMan, 'spiderman': SpiderMan}\n",
    "\n",
    "    def create_hero(self, hero_choice):\n",
    "        return self.hero_map[hero_choice.lower()]()\n",
    "\n",
    "\n",
    "class WeaponFactory:\n",
    "    weapon_map = {'armour': Armour, 'shooter': Shooter}\n",
    "\n",
    "    def create_weapon(self, weapon_choice):\n",
    "        return self.weapon_map[weapon_choice.lower()]()"
   ]
  },
  {
   "cell_type": "markdown",
   "metadata": {},
   "source": [
    "提交给同事，同事现在只需要调用工厂类，不需要再`import`一大堆东西还要做判断了，他觉得还不错："
   ]
  },
  {
   "cell_type": "code",
   "execution_count": 1,
   "metadata": {},
   "outputs": [
    {
     "name": "stdout",
     "output_type": "stream",
     "text": [
      "Choose your hero:ironman\n",
      "Choose the weapon:armour\n",
      "钢铁侠用战甲发起攻击！\n"
     ]
    }
   ],
   "source": [
    "from heroesV2 import HeroFactory, WeaponFactory\n",
    "\n",
    "hero_choice = input(\"Choose your hero:\")\n",
    "hf = HeroFactory()\n",
    "hero = hf.create_hero(hero_choice)\n",
    "\n",
    "weapon_choice = input(\"Choose the weapon:\")\n",
    "wf = WeaponFactory()\n",
    "weapon = wf.create_weapon(weapon_choice)\n",
    "\n",
    "hero.equip(weapon)\n",
    "hero.attack()"
   ]
  },
  {
   "cell_type": "markdown",
   "metadata": {},
   "source": [
    "## 抽象工厂模式"
   ]
  },
  {
   "cell_type": "markdown",
   "metadata": {},
   "source": [
    "过了几天，同事又来了，他提出了2个问题：1、他发现英雄和武器都是用户选的，所以很有可能钢铁侠选了蜘蛛侠的武器。2、需要你再增加一个英雄鹰眼。同事走了以后，你试了试，确实是这样："
   ]
  },
  {
   "cell_type": "code",
   "execution_count": 2,
   "metadata": {},
   "outputs": [
    {
     "name": "stdout",
     "output_type": "stream",
     "text": [
      "Choose your hero:ironman\n",
      "Choose the weapon:shooter\n",
      "钢铁侠用蛛丝发射器发起攻击！\n"
     ]
    }
   ],
   "source": [
    "from heroesV2 import HeroFactory, WeaponFactory\n",
    "\n",
    "hero_choice = input(\"Choose your hero:\")\n",
    "hf = HeroFactory()\n",
    "hero = hf.create_hero(hero_choice)\n",
    "\n",
    "weapon_choice = input(\"Choose the weapon:\")\n",
    "wf = WeaponFactory()\n",
    "weapon = wf.create_weapon(weapon_choice)\n",
    "\n",
    "hero.equip(weapon)\n",
    "hero.attack()"
   ]
  },
  {
   "cell_type": "markdown",
   "metadata": {},
   "source": [
    "好吧，一时半会你也不知道怎么改，先来解决第2个问题，增加一个英雄吧，这个简单。你很快增加了鹰眼（`Hawkeye`）和武器(`arrow`）类，但是你发现此时需要修改你的英雄工厂类和武器工厂类，这违反了设计模式的封闭开放原则（对修改封闭，对扩展开放）。  \n",
    "你仔细思考了一下，灵机一动，可以用工厂模式一次解决2个问题："
   ]
  },
  {
   "cell_type": "code",
   "execution_count": 8,
   "metadata": {},
   "outputs": [
    {
     "name": "stdout",
     "output_type": "stream",
     "text": [
      "Overwriting heroesV3.py\n"
     ]
    }
   ],
   "source": [
    "%%file heroesV3.py\n",
    "from abc import ABC, abstractmethod\n",
    "\n",
    "\n",
    "class Hero(ABC):\n",
    "    @abstractmethod\n",
    "    def attack(self):\n",
    "        pass\n",
    "\n",
    "    def equip(self, weapon):\n",
    "        self.weapon = weapon\n",
    "\n",
    "\n",
    "class IronMan(Hero):\n",
    "    def attack(self):\n",
    "        print(f\"钢铁侠用{self.weapon}发起攻击！\")\n",
    "\n",
    "\n",
    "class SpiderMan(Hero):\n",
    "    def attack(self):\n",
    "        print(f\"蜘蛛侠用{self.weapon}发起攻击！\")\n",
    "\n",
    "\n",
    "class Hawkeye(Hero):\n",
    "    def attack(self):\n",
    "        print(f\"鹰眼用{self.weapon}发起攻击！\")\n",
    "\n",
    "\n",
    "class Weapon(ABC):\n",
    "    @abstractmethod\n",
    "    def __str__(self):\n",
    "        pass\n",
    "\n",
    "\n",
    "class Armour(Weapon):\n",
    "    def __str__(self):\n",
    "        return \"战甲\"\n",
    "\n",
    "\n",
    "class Shooter(Weapon):\n",
    "    def __str__(self):\n",
    "        return \"蛛丝发射器\"\n",
    "\n",
    "\n",
    "class Arrow(Weapon):\n",
    "    def __str__(self):\n",
    "        return \"弓箭\"\n",
    "\n",
    "\n",
    "class HeroFactory(ABC):\n",
    "    @abstractmethod\n",
    "    def create_hero(self):\n",
    "        pass\n",
    "    \n",
    "    def create_weapon(self):\n",
    "        pass\n",
    "\n",
    "\n",
    "class IronmanFactory(HeroFactory):\n",
    "    def create_hero(self):\n",
    "        hero = IronMan()\n",
    "        return hero\n",
    "    \n",
    "    def create_weapon(self):\n",
    "        weapon = Armour()\n",
    "        return weapon\n",
    "\n",
    "\n",
    "class SpidermanFactory(HeroFactory):\n",
    "    def create_hero(self):\n",
    "        hero = SpiderMan()\n",
    "        return hero\n",
    "    \n",
    "    def create_weapon(self):\n",
    "        weapon = Shooter()\n",
    "        return weapon\n",
    "\n",
    "\n",
    "class HawkeyeFactory(HeroFactory):\n",
    "    def create_hero(self):\n",
    "        hero = Hawkeye()\n",
    "        return hero\n",
    "    \n",
    "    def create_weapon(self):\n",
    "        weapon = Arrow()\n",
    "        return weapon"
   ]
  },
  {
   "cell_type": "markdown",
   "metadata": {},
   "source": [
    "你试了一下，现在不会再出现英雄和武器不匹配的情况了，如果再要增加新的英雄和新的武器，只要增加新的工厂类就行了："
   ]
  },
  {
   "cell_type": "code",
   "execution_count": 1,
   "metadata": {},
   "outputs": [
    {
     "name": "stdout",
     "output_type": "stream",
     "text": [
      "鹰眼用弓箭发起攻击！\n",
      "蜘蛛侠用蛛丝发射器发起攻击！\n",
      "钢铁侠用战甲发起攻击！\n"
     ]
    }
   ],
   "source": [
    "from heroesV3 import HawkeyeFactory, SpidermanFactory, IronmanFactory\n",
    "\n",
    "for factory in [HawkeyeFactory, SpidermanFactory, IronmanFactory]:\n",
    "    hf = factory()\n",
    "    hero = hf.create_hero()\n",
    "    weapon = hf.create_weapon()\n",
    "    hero.equip(weapon)\n",
    "    hero.attack()"
   ]
  },
  {
   "cell_type": "markdown",
   "metadata": {},
   "source": [
    "你总结了一下简单工厂和工厂模式的区别，简单工厂模式是纵向的，他把同一类别的类放在一个工厂里，而工厂模式是横向的，他把存在对应关系的类放在一个工厂里，他比简单工厂易于扩展，新增类不需要修改原始工厂，增加新的工厂就行了，但是也丧失了一定的灵活性（现在英雄和武器没法单独选了）。  \n",
    "但是，这样一改，同事那边又需要写选择语句了，怎么办？既然简单工厂可以解决纵向问题，那么再一次套用简单工厂的模式不就可以了吗？"
   ]
  },
  {
   "cell_type": "code",
   "execution_count": 5,
   "metadata": {},
   "outputs": [
    {
     "name": "stdout",
     "output_type": "stream",
     "text": [
      "Overwriting heroesV4.py\n"
     ]
    }
   ],
   "source": [
    "%%file heroesV4.py\n",
    "from abc import ABC, abstractmethod\n",
    "\n",
    "\n",
    "class Hero(ABC):\n",
    "    @abstractmethod\n",
    "    def attack(self):\n",
    "        pass\n",
    "\n",
    "    def equip(self, weapon):\n",
    "        self.weapon = weapon\n",
    "\n",
    "\n",
    "class IronMan(Hero):\n",
    "    def attack(self):\n",
    "        print(f\"钢铁侠用{self.weapon}发起攻击！\")\n",
    "\n",
    "\n",
    "class SpiderMan(Hero):\n",
    "    def attack(self):\n",
    "        print(f\"蜘蛛侠用{self.weapon}发起攻击！\")\n",
    "\n",
    "\n",
    "class Hawkeye(Hero):\n",
    "    def attack(self):\n",
    "        print(f\"鹰眼用{self.weapon}发起攻击！\")\n",
    "\n",
    "\n",
    "class Weapon(ABC):\n",
    "    @abstractmethod\n",
    "    def __str__(self):\n",
    "        pass\n",
    "\n",
    "\n",
    "class Armour(Weapon):\n",
    "    def __str__(self):\n",
    "        return \"战甲\"\n",
    "\n",
    "\n",
    "class Shooter(Weapon):\n",
    "    def __str__(self):\n",
    "        return \"蛛丝发射器\"\n",
    "\n",
    "\n",
    "class Arrow(Weapon):\n",
    "    def __str__(self):\n",
    "        return \"弓箭\"\n",
    "\n",
    "\n",
    "class HeroFactory(ABC):\n",
    "    @abstractmethod\n",
    "    def create_hero(self):\n",
    "        pass\n",
    "\n",
    "    def create_weapon(self):\n",
    "        pass\n",
    "\n",
    "\n",
    "class IronmanFactory(HeroFactory):\n",
    "    def create_hero(self):\n",
    "        hero = IronMan()\n",
    "        return hero\n",
    "\n",
    "    def create_weapon(self):\n",
    "        weapon = Armour()\n",
    "        return weapon\n",
    "\n",
    "\n",
    "class SpidermanFactory(HeroFactory):\n",
    "    def create_hero(self):\n",
    "        hero = SpiderMan()\n",
    "        return hero\n",
    "\n",
    "    def create_weapon(self):\n",
    "        weapon = Shooter()\n",
    "        return weapon\n",
    "\n",
    "\n",
    "class HawkeyeFactory(HeroFactory):\n",
    "    def create_hero(self):\n",
    "        hero = Hawkeye()\n",
    "        return hero\n",
    "\n",
    "    def create_weapon(self):\n",
    "        weapon = Arrow()\n",
    "        return weapon\n",
    "\n",
    "\n",
    "class HeroAbstractFactory:\n",
    "    map_ = {\n",
    "        'ironman': IronmanFactory,\n",
    "        'spiderman': SpidermanFactory,\n",
    "        'hawkeye': HawkeyeFactory\n",
    "    }\n",
    "\n",
    "    def get_herofactory(self, choice):\n",
    "        return self.map_[choice.lower()]()"
   ]
  },
  {
   "cell_type": "code",
   "execution_count": 7,
   "metadata": {},
   "outputs": [
    {
     "name": "stdout",
     "output_type": "stream",
     "text": [
      "choose your hero:spiderman\n",
      "蜘蛛侠用蛛丝发射器发起攻击！\n"
     ]
    }
   ],
   "source": [
    "from heroesV4 import HeroAbstractFactory\n",
    "\n",
    "hero_choice = input(\"choose your hero:\")\n",
    "haf = HeroAbstractFactory()\n",
    "herofactory = haf.get_herofactory(hero_choice)\n",
    "hero = herofactory.create_hero()\n",
    "weapon = herofactory.create_weapon()\n",
    "hero.equip(weapon)\n",
    "hero.attack()"
   ]
  },
  {
   "cell_type": "markdown",
   "metadata": {},
   "source": [
    "## 工厂模式"
   ]
  },
  {
   "cell_type": "markdown",
   "metadata": {},
   "source": [
    "现在想把英雄组成一个联盟，比如复仇者联盟和正义联盟，就可以这样做："
   ]
  },
  {
   "cell_type": "code",
   "execution_count": 2,
   "metadata": {},
   "outputs": [],
   "source": [
    "from abc import ABC, abstractmethod\n",
    "\n",
    "\n",
    "class League(ABC):\n",
    "    def __init__(self):\n",
    "        self.members = []\n",
    "        self.create_league()\n",
    "\n",
    "    @abstractmethod\n",
    "    def create_league(self):\n",
    "        pass\n",
    "\n",
    "    def add_hero(self, hero):\n",
    "        self.members.append(hero)\n",
    "\n",
    "    def get_heroes():\n",
    "        return self.members\n",
    "\n",
    "\n",
    "class Avengers(League):\n",
    "    def create_league(self):\n",
    "        self.add_hero(IronMan())\n",
    "        self.add_hero(SpiderMan())\n",
    "        self.add_hero(Hawkeye())"
   ]
  },
  {
   "cell_type": "markdown",
   "metadata": {},
   "source": [
    "## 总结"
   ]
  },
  {
   "cell_type": "markdown",
   "metadata": {},
   "source": [
    "看了一些网上的例子，但是关于抽象工厂和工厂模式的定义好像都不太一样，因此这里是参考《python设计模式第二版》的定义，模仿编写的例子。  \n",
    "一直以来，我都以为这几个工厂模式是按 抽象工厂模式>工厂模式>简单工厂模式 的顺序，越靠前越灵活越高级，适用的场景也相同，但是现在感觉并不是这样，不同的模式适用不同的场景，解决的问题也不同，模式也不是孤立的，而是可以自由组合。  \n",
    "- 简单工厂：主要将判断选择某类的代码放在工厂里封装起来，类和类之间的关系是平等独立的，客户端不需要写选择具体哪个类的代码，只需要调用工厂，向工厂传参就可以了。缺点就是如果新增了类，需要修改工厂代码，违反了封闭开放原则。\n",
    "- 抽象工厂：如果类和类之间有相应的关系，则可以把彼此有关系的类放入一个工厂，这样生产出来的对象就是配对好的。而且新增类也容易扩展，不需要修改工厂类的代码，但是并没有解决多个类的选择问题。\n",
    "- 工厂模式：如果说简单工厂和抽象工厂适用的场景还有一点相似，工厂模式适用的场景就不太一样，如果类和类之间的关系是平等独立的，只需要把几个类简单组合起来，这个模式就比较适用。"
   ]
  },
  {
   "cell_type": "code",
   "execution_count": null,
   "metadata": {},
   "outputs": [],
   "source": []
  }
 ],
 "metadata": {
  "kernelspec": {
   "display_name": "Python 3",
   "language": "python",
   "name": "python3"
  },
  "language_info": {
   "codemirror_mode": {
    "name": "ipython",
    "version": 3
   },
   "file_extension": ".py",
   "mimetype": "text/x-python",
   "name": "python",
   "nbconvert_exporter": "python",
   "pygments_lexer": "ipython3",
   "version": "3.7.3"
  },
  "toc": {
   "base_numbering": 1,
   "nav_menu": {},
   "number_sections": true,
   "sideBar": true,
   "skip_h1_title": true,
   "title_cell": "Table of Contents",
   "title_sidebar": "Python设计模式私房手册",
   "toc_cell": false,
   "toc_position": {},
   "toc_section_display": true,
   "toc_window_display": false
  },
  "varInspector": {
   "cols": {
    "lenName": 16,
    "lenType": 16,
    "lenVar": 40
   },
   "kernels_config": {
    "python": {
     "delete_cmd_postfix": "",
     "delete_cmd_prefix": "del ",
     "library": "var_list.py",
     "varRefreshCmd": "print(var_dic_list())"
    },
    "r": {
     "delete_cmd_postfix": ") ",
     "delete_cmd_prefix": "rm(",
     "library": "var_list.r",
     "varRefreshCmd": "cat(var_dic_list()) "
    }
   },
   "types_to_exclude": [
    "module",
    "function",
    "builtin_function_or_method",
    "instance",
    "_Feature"
   ],
   "window_display": false
  }
 },
 "nbformat": 4,
 "nbformat_minor": 2
}
