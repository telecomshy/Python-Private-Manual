{
 "cells": [
  {
   "cell_type": "markdown",
   "metadata": {},
   "source": [
    "# python私房手册-PyCharm使用技巧 "
   ]
  },
  {
   "cell_type": "markdown",
   "metadata": {},
   "source": [
    "## 教程收集"
   ]
  },
  {
   "cell_type": "markdown",
   "metadata": {},
   "source": [
    "[《你有哪些想要分享的 PyCharm 使用技巧？》](https://www.zhihu.com/question/37787004)\n",
    "\n",
    "[《PyCharm使用技巧》](https://www.evget.com/serializedetail/514)\n",
    "- [代码重构](https://www.evget.com/article/2018/8/13/28321.html)"
   ]
  },
  {
   "cell_type": "markdown",
   "metadata": {},
   "source": [
    "## 需要熟记的快捷键"
   ]
  },
  {
   "cell_type": "markdown",
   "metadata": {},
   "source": [
    "- Shift + Enter：不破坏结构的情况下另起一行。\n",
    "- Ctrl + W 和 Shift + W：扩大/缩小选取，意思是根据内容选取代码，比如选择方法，再按选择类，再按选择整行。\n",
    "- Ctrl + Shift + A：搜索整个IDE，比如想看看这个文件的历史，就键入 history 可以找到 Local history。\n",
    "- Ctrl + J：快速选择模板，在 Setting->Editor->File and Codes Templates，可以看到所有的模板，可以自定义。\n",
    "- Ctrl + F6：修改函数签名。\n",
    "- Shift + F6：修改参数名称，与修改函数签名比较，修改签名更全面。"
   ]
  },
  {
   "cell_type": "markdown",
   "metadata": {},
   "source": [
    "## 设置文档的风格"
   ]
  },
  {
   "cell_type": "markdown",
   "metadata": {},
   "source": [
    "在`File->Settings->Tools->Python Integrated Tools->Docstrings`里可以选择文档的风格，默认是`reStructuredText`，使用比较多的是`Numpy`风格。\n",
    "- [《飘逸的python - 代码即文档docstring》](https://blog.csdn.net/handsomekang/article/details/46830083)。"
   ]
  },
  {
   "cell_type": "markdown",
   "metadata": {},
   "source": [
    "## 使用书签"
   ]
  },
  {
   "cell_type": "markdown",
   "metadata": {},
   "source": [
    "- Ctrl + F11：设置书签\n",
    "- Shift + F11：展示书签\n",
    "- F11：删除书签\n",
    "\n",
    "另外，按了 Ctrl+F11 以后，可以输入数字或者字母，作为快捷键，下一次按 Ctrl+字母/数字 可以快速跳转。"
   ]
  },
  {
   "cell_type": "markdown",
   "metadata": {},
   "source": [
    "## 代码重构"
   ]
  },
  {
   "cell_type": "markdown",
   "metadata": {},
   "source": [
    "PyCharm代码重构功能非常强大，代码重构那篇文章描述比较详细。这里有几点要说明：\n",
    "1. Inline variable重构，内联变量重构，指消除变量，将原来使用变量的地方直接用表达式代替。"
   ]
  },
  {
   "cell_type": "code",
   "execution_count": null,
   "metadata": {},
   "outputs": [],
   "source": []
  }
 ],
 "metadata": {
  "kernelspec": {
   "display_name": "Python 3",
   "language": "python",
   "name": "python3"
  },
  "language_info": {
   "codemirror_mode": {
    "name": "ipython",
    "version": 3
   },
   "file_extension": ".py",
   "mimetype": "text/x-python",
   "name": "python",
   "nbconvert_exporter": "python",
   "pygments_lexer": "ipython3",
   "version": "3.7.4"
  },
  "toc": {
   "base_numbering": 1,
   "nav_menu": {},
   "number_sections": true,
   "sideBar": true,
   "skip_h1_title": true,
   "title_cell": "Table of Contents",
   "title_sidebar": "python私房手册-PyCharm使用技巧",
   "toc_cell": false,
   "toc_position": {},
   "toc_section_display": true,
   "toc_window_display": true
  }
 },
 "nbformat": 4,
 "nbformat_minor": 4
}
