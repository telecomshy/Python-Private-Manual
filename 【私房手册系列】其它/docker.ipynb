{
 "cells": [
  {
   "cell_type": "markdown",
   "id": "5860a31a",
   "metadata": {},
   "source": [
    "# Docker私房手册"
   ]
  },
  {
   "cell_type": "markdown",
   "id": "82e2c9c3",
   "metadata": {},
   "source": [
    "## docker的安装"
   ]
  },
  {
   "cell_type": "code",
   "execution_count": null,
   "id": "f3641641",
   "metadata": {},
   "outputs": [],
   "source": []
  },
  {
   "cell_type": "markdown",
   "id": "6065b2d7",
   "metadata": {},
   "source": [
    "## image镜像"
   ]
  },
  {
   "cell_type": "markdown",
   "id": "19d0d54e",
   "metadata": {},
   "source": [
    "注意所有的镜像名称都可以是全名，id，或者部分id。\n",
    "\n",
    "1. `docker pull 镜像名称`：拉取镜像\n",
    "2. `docker search 镜像名称`：在docker hub上查找镜像\n",
    "3. `docker images`：列出所有本地镜像，或者`docker image ls`，两者是一样的\n",
    "4. `docker inspect 镜像名称`：查看镜像的详细信息\n",
    "5. `docker rmi 镜像名称`：删除镜像，注意，删除镜像是`rmi`，删除容器是`rm`，如果有依赖该镜像的容器在使用，则会报错，可以加`-f`强制删除，但是建议先停止或者移除容器以后再删除镜像。\n",
    "6. `docker save -o 文件名称.tar 镜像名称 镜像名称 ...`：`-o 文件名称.tar`也可以换成`>文件名称.tar`，另外可以把多个镜像保存为一个文件。\n",
    "7. `docker load -i 文件名称.tar`：读入文件，和`save`相反。"
   ]
  },
  {
   "cell_type": "markdown",
   "id": "1241a5c3",
   "metadata": {},
   "source": [
    "## docker容器"
   ]
  },
  {
   "cell_type": "markdown",
   "id": "63030b57",
   "metadata": {},
   "source": [
    "1. `docker create 镜像名称 指令`：创建容器，指令会覆盖镜像原本设置的执行指令，`create`只是创建一个容器，配置容器的文件系统和网络等资源，但是并没有启动\n",
    "2. `docker run 镜像名称`：创建并运行容器，可以通过`-i`和`-t`进入容器。其中`-t`表示分配一个伪终端，`-i`表示开启交互模式，实际上是把当前的stdin嫁接到容器上。这两者一般一起使用。默认容器在前端运行，即如果容器运行的是一个服务器程序，比如`docker run nginx`，则会停止在当前界面。可以使用`-d`参数，让容器在后台运行。\n",
    "3. `docker ps`：列出当前容器，默认列出运行的容器。\n",
    " - `-a`参数列出所有容器。还可以通过`-l`, `-n 数字`, `-f \"key=value\"`进行过滤。\n",
    " - `--name`指定容器的名称。\n",
    "4. `docker start 容器名称 容器名称 ...`：可以启动多个已经停止的容器，另外`-i`可以将终端连接到容器的进程中，`-a`可以将容器进程的输入输出显示到终端中。和`run`不一样，`start`后面不能接指令，且`start`启动的容器，默认在后台运行。\n",
    "5. `docker stop 容器名称 容器名称 ...`：容器会向进程先发送`SIGTERM`信号，指定时间后如果没有结束，再发送`SIGKILL`信号立即结束进程。可以通过`-t 时间`，来指定等待的时间。\n",
    "6. `docker kill 容器名称 ...`：直接发送`SIGKILL`信号给进程，另外还可以通过`-s 信号`来自定义发送给进程的信号。"
   ]
  },
  {
   "cell_type": "code",
   "execution_count": null,
   "id": "2d9851eb",
   "metadata": {},
   "outputs": [],
   "source": []
  }
 ],
 "metadata": {
  "kernelspec": {
   "display_name": "Python 3 (ipykernel)",
   "language": "python",
   "name": "python3"
  },
  "language_info": {
   "codemirror_mode": {
    "name": "ipython",
    "version": 3
   },
   "file_extension": ".py",
   "mimetype": "text/x-python",
   "name": "python",
   "nbconvert_exporter": "python",
   "pygments_lexer": "ipython3",
   "version": "3.9.7"
  },
  "toc": {
   "base_numbering": 1,
   "nav_menu": {},
   "number_sections": true,
   "sideBar": true,
   "skip_h1_title": true,
   "title_cell": "Table of Contents",
   "title_sidebar": "Docker私房手册",
   "toc_cell": false,
   "toc_position": {},
   "toc_section_display": true,
   "toc_window_display": true
  }
 },
 "nbformat": 4,
 "nbformat_minor": 5
}
