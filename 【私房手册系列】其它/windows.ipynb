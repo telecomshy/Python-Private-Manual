{
 "cells": [
  {
   "cell_type": "markdown",
   "id": "2a84daf6",
   "metadata": {},
   "source": [
    "# windows&software私房手册"
   ]
  },
  {
   "cell_type": "markdown",
   "id": "470e5b42",
   "metadata": {},
   "source": [
    "## windows"
   ]
  },
  {
   "cell_type": "markdown",
   "id": "f5238791",
   "metadata": {},
   "source": [
    "- [Win10微软账户登录不上解决方法](http://www.lotpc.com/dngz/9078.html)"
   ]
  },
  {
   "cell_type": "markdown",
   "id": "326cfe0d",
   "metadata": {},
   "source": [
    "## 软件"
   ]
  },
  {
   "cell_type": "markdown",
   "id": "6d36d272",
   "metadata": {},
   "source": [
    "### webstorm过期怎么办"
   ]
  },
  {
   "attachments": {},
   "cell_type": "markdown",
   "id": "0e982b06",
   "metadata": {},
   "source": [
    "安装了eval reset的插件，但是由于长期不登陆，无法正常登陆，此时可以按照以下的步骤：\n",
    "1. 首先进入C:\\Users\\admin\\AppData\\Roaming\\JetBrains\\WebStorm2021.2\\\n",
    "2. 删除eval文件夹\n",
    "3. 删除options里的other.xml文件\n",
    "4. 删除注册表条目HKEY_CURRENT_USER\\Software\\JavaSoft\\Prefs\\jetbrains\\idea\n",
    "\n",
    "然后就可以重新登陆，按照[激活方法](https://zhile.io/2020/11/18/jetbrains-eval-reset-da33a93d.html)的文件里"
   ]
  },
  {
   "cell_type": "code",
   "execution_count": null,
   "id": "1447aaa7",
   "metadata": {},
   "outputs": [],
   "source": []
  }
 ],
 "metadata": {
  "kernelspec": {
   "display_name": "Python 3",
   "language": "python",
   "name": "python3"
  },
  "language_info": {
   "codemirror_mode": {
    "name": "ipython",
    "version": 3
   },
   "file_extension": ".py",
   "mimetype": "text/x-python",
   "name": "python",
   "nbconvert_exporter": "python",
   "pygments_lexer": "ipython3",
   "version": "3.8.8"
  },
  "toc": {
   "base_numbering": 1,
   "nav_menu": {},
   "number_sections": true,
   "sideBar": true,
   "skip_h1_title": true,
   "title_cell": "Table of Contents",
   "title_sidebar": "windows&software私房手册",
   "toc_cell": false,
   "toc_position": {},
   "toc_section_display": true,
   "toc_window_display": true
  }
 },
 "nbformat": 4,
 "nbformat_minor": 5
}
