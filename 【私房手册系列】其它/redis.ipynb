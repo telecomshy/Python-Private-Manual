{
 "cells": [
  {
   "cell_type": "markdown",
   "metadata": {},
   "source": [
    "# Redis私房手册"
   ]
  },
  {
   "cell_type": "markdown",
   "source": [
    "以下内容全部基于redis6.2.6,centos7版本，如果有新的版本，造成内容不同，会额外声明。"
   ],
   "metadata": {
    "collapsed": false
   }
  },
  {
   "cell_type": "markdown",
   "metadata": {},
   "source": [
    "## 安装"
   ]
  },
  {
   "cell_type": "markdown",
   "metadata": {},
   "source": [
    "### windows安装"
   ]
  },
  {
   "cell_type": "markdown",
   "metadata": {},
   "source": [
    "官网只有Linux版本下载，windows到 https://github.com/MSOpenTech/redis/releases 下载。  \n",
    "可视化管理软件Redis Desktop Manager0.94版本以后就收费了，百度盘里保存了0.93版本。"
   ]
  },
  {
   "cell_type": "markdown",
   "metadata": {},
   "source": [
    "### Centos安装"
   ]
  },
  {
   "cell_type": "markdown",
   "source": [
    "安装redis很简单，在linux下依次运行以下几个命令：\n",
    "\n",
    "```shell\n",
    "$ yum install gcc gcc-c++ -y  # 需要先安装gcc编译库，-y表示自动选择，所有安装选项全部选择y\n",
    "$ wget http://download.redis.io/releases/redis-6.2.6.tar.gz  #这里指定你的版本\n",
    "$ tar xzf redis-6.2.6.tar.gz  # 解压缩\n",
    "$ ln -s redis-6.2.6 redis  # 创建软链接，这一步不是必需的，但是后期升级什么的比较简单，直接修改软连接就行了\n",
    "$ make  # 开始编译\n",
    "$ make install  # 把一些执行文件放到/usr/bin文件夹中，这样就可以直接运行指令了\n",
    "```\n",
    "\n",
    "但是安装完成以后有几点要注意，直接运行redis-server会报错，我的出现以下几个错误：\n",
    "1. `Warning: no config file specified, using the default config. In order to specify a config file use redis-server /path/to/redis.conf`:这个是因为没有使用配置文件启动，直接`redis-server /path/to/redis.conf`使用配置文件即可。\n",
    "2. `WARNING: The TCP backlog setting of 511 cannot be enforced because /proc/sys/net/core/somaxconn is set to the lower value of 128.`: 这个是因为linux系统默认的连接数太少了，默认才128，最少512以上，`net.core.somaxconn = 1024`添加到`/etc/sysctl.conf`中，然后执行`sysctl -p`生效配置即可。\n",
    "3. `WARNING overcommit_memory is set to 0! Background save may fail under low memory condition. To fix this issue add 'vm.overcommit_memory = 1' to /etc/sysctl.conf and then reboot or run the command 'sysctl vm.overcommit_memory=1' for this to take effect.`：`overcommit_memory`是linux内核分配的一种策略，解释如下：\n",
    " - overcommit_memory=0， 表示内核将检查是否有足够的可用内存供应用进程使用；如果有足够的可用内存，内存申请允许；否则，内存申请失败，并把错误返回给应用进程。\n",
    " - overcommit_memory=1， 表示内核允许分配所有的物理内存，而不管当前的内存状态如何。\n",
    " - overcommit_memory=2， 表示内核允许分配超过所有物理内存和交换空间总和的内存\n",
    " \n",
    " 只需要将`vm.overcommit_memory = 1`添加到`/etc/sysctl.conf`中，然后执行`sysctl -p`生效配置。\n",
    "\n",
    "还有一些常见问题如下：\n",
    "1. **redis desktop manager无法连接redis服务器？**   \n",
    "安装完以后，如果直接桌面客户端连接，有可能失败，连接不上。这是因为`redis`配置文件默认只运行本机连接，需要修改配置文件，修改第75行的`bind 127.0.0.1`改为`0.0.0.0`，允许所有ip。\n",
    "2. **如何设置密码？**   \n",
    "如果要设置一个密码，有两种方式，一种是临时性的，不需要重启redis，在redis-cli中，输入：`config set requirepass yourpass`，再使用redis-cli查询，会提示需要密码，直接输入`auth yourpass`即可。但是redis重启以后，就失效了。如果要永久有效，可以配置文件，在901行，修改`requirepass yourpass`即可。\n",
    "3. **如何后台启动redis？**  \n",
    "默认情况下，启动redis以后不会返回命令行，此时可以修改配置，257行`daemonize no`修改为`yes`。"
   ],
   "metadata": {
    "collapsed": false
   }
  },
  {
   "cell_type": "markdown",
   "metadata": {},
   "source": [
    "## 配置和命令行工具"
   ]
  },
  {
   "cell_type": "markdown",
   "metadata": {},
   "source": [
    "### windows下的配置"
   ]
  },
  {
   "cell_type": "markdown",
   "metadata": {},
   "source": [
    "安装以后自动在windows的后台作为一个服务运行，默认的端口为6397。配置文件是安装目录下的`redis.windows-service.conf`文件，注意：还有一个`redis.windows.conf`，需要修改的是`redis.windows-service.conf`文件而不是`redis.windows.conf`。几个常见的配置如下：\n",
    "- 修改密码：`requirepass <password>`\n",
    "- 设置最大内存：`maxmemory <bytes>`，注意可以用简写，比如限制100m，可以写成`maxmemory 100mb`。单位格式配置文档一开头就有写。\n",
    "\n",
    "修改以后要重启服务。很奇怪的是，隔天开机以后服务就消失了。只好又手工配置，手工启动有两种方式：\n",
    "1. 把`redis`作为一个程序运行，可以把它理解成一个服务器。\n",
    "    - 在`dos`界面输入`redis-server.exe d:\\programs\\redis\\redis.windows-service.conf`，注意如果没有配置环境变量的话，`redis-server.exe`前面要加路径。或者进入`redis`的安装目录，可以不用路径。此时界面会被阻塞，意思是光标会卡着不动，表示服务器开始运行，此时`redis`可以登录。也可以不加配置文件，直接`redis-server.exe`，此时会以默认配置启动，但是发现这个默认配置即不是`redis.windows.conf`，也不是`redis.windows-service.conf`。\n",
    "\n",
    "\n",
    "2. 把`redis`作为一个服务来运行，可以理解成一个后台程序，可以随着`windows`启动而启动。\n",
    "    - 在`dos`界面输入`redis-server.exe --service-install d:\\programs\\redis\\redis.windows-service.conf`，等一下会提示安装完成，安装完成以后可以在windows的服务列表里面看到的，然后再用`redis-server.exe --service-start`启动服务，使用`redis-server.exe --service-stop`关闭服务。删除服务可以使用`redis-server.exe --service-uninstall`命令。注意，这种方式是非阻塞的，运行了命令不会卡着不动。\n",
    "\n",
    "没有搞明白的是，配置文件可以自己指定，使用`redis.windows.conf`或者`redis.windows-service.conf`都可以，如果不指定，则使用默认配置，而默认配置这两者都不是，因此没明白这两个文件有什么区别。"
   ]
  },
  {
   "cell_type": "markdown",
   "metadata": {},
   "source": [
    "### 命令行工具"
   ]
  },
  {
   "cell_type": "markdown",
   "metadata": {},
   "source": [
    "在`dos`界面下运行`redis-cli.exe`可以进入`redis`的命令行界面，前提是`redis`作为服务器或者服务已经运行起来了，这里记录几个常用的命令：\n",
    "- `info`：查看`redis`的信息，包括cpu，内存什么的占用。\n",
    "- `auth`：**<font color='red'>注意：</font>**不管有没有设置密码，`redis-cli`都可以登录，这个和`mysql`一开始就需要输入密码登录不一样。但是设置了密码的话，登录以后不能进行任何操作，需要再输入`auth`命令，输入密码以后才行。\n",
    "- `config get requirepass`：获取当前数据库密码。\n",
    "\n",
    "输入命令开头的字母，使用`tab`键可以切换命令。"
   ]
  },
  {
   "cell_type": "markdown",
   "metadata": {},
   "source": [
    "## Redis数据类型"
   ]
  },
  {
   "cell_type": "markdown",
   "metadata": {},
   "source": [
    "### 有序集合 "
   ]
  },
  {
   "cell_type": "markdown",
   "metadata": {},
   "source": [
    "[这篇文章比较全面](https://www.cnblogs.com/huchong/p/9656882.html#_label6)，这里只列举学习过程中遇到的容易出错的知识点："
   ]
  },
  {
   "cell_type": "markdown",
   "metadata": {},
   "source": [
    "#### 添加元素`zadd`"
   ]
  },
  {
   "cell_type": "markdown",
   "metadata": {},
   "source": [
    "`redis3.3.8`版本下，按一些书上写法`rcdb.zadd(key, score, name)`添加新的元素报错，正确的应该这样`rcdb.zadd(key, {name:score})`，完整的函数签名是：`zadd(name, mapping, nx=False, xx=False, ch=False, incr=False)`，其中：\n",
    "- `nx`：只新增`name`，`name`存在，`score`不同，不会更新`score`。\n",
    "- `xx`：只更新`score`，`name`存在，`score`不同，则更新`score`，`name`不存在，也不会插入新的`name`。\n",
    "- `ch`：修改返回结果为发生变化的元素数量，默认情况是返回新增`name`数量。\n",
    "- `incr`：这个模式下,`mapping`只能是单个的`{name：amount}`对，注意此时是`amount`，即`score`的增量，返回的也是新的`score`。\n",
    "\n",
    "注意默认行为是(`nx`和`xx`都是`False`)，如果`name`存在，`score`不同，更新`score`，如果`name`不存在，则插入新的`name`。"
   ]
  },
  {
   "cell_type": "markdown",
   "metadata": {},
   "source": [
    "#### 查看`name`是否存在`zscore` "
   ]
  },
  {
   "cell_type": "markdown",
   "metadata": {},
   "source": [
    "注意，是查看`name`而不是`key`是否存在，查看`key`是否存在，可以直接用`exists`方法。`zscore`返回`name`的`score`，如果不存在，则返回`None`。"
   ]
  },
  {
   "cell_type": "markdown",
   "metadata": {},
   "source": [
    "#### 选取方法"
   ]
  },
  {
   "cell_type": "markdown",
   "metadata": {},
   "source": [
    "主要有`zrange`,`zrevrange`，`zrangebyscore`，`zrevrangebyscore`，`zrangebylex`，`zrevrangebylex`。可以这样理解：\n",
    "- 所有方法先按照`score`值从小到大排序，不包含`rev`是前往后选取，包含`rev`是从后往前选取。\n",
    "- 只有`range`是按照位置，`byscore`是按照分数，`bylex`是按照`name`值的字典顺序，语法有点奇怪，[点这里](https://blog.csdn.net/qq_37058039/article/details/80108014)。\n",
    "- `zrange`有个`desc`参数，设置为`True`以后就是从大到小，和`zrevrange`一样。\n",
    "- `bylex`主要是针对`score`分数一样的情况，如果不一样，可能会返回不正确的结果，另外，参数`min`和`max`要加上`[`或者`(`，分别表示包含和不包含`，也可以用`+`和`-`代替，注意：`python`里不能用`+`和`-`代替。"
   ]
  },
  {
   "cell_type": "markdown",
   "metadata": {},
   "source": [
    "#### 返回排名"
   ]
  },
  {
   "cell_type": "markdown",
   "metadata": {},
   "source": [
    "`zrank`和`zrevrank`先按照`score`从小到大排序，然后分别返回从前到后和从后到前的`name`值的排名。"
   ]
  },
  {
   "cell_type": "markdown",
   "metadata": {},
   "source": [
    "## API文档"
   ]
  },
  {
   "cell_type": "markdown",
   "metadata": {},
   "source": [
    "- [中文官方教程](https://www.redis.net.cn/order/)。\n",
    "- [API 命令](https://redis.io/commands)查询。\n",
    "- `python`的`redis`库增加了[几个指令](https://pypi.org/project/redis/)"
   ]
  },
  {
   "cell_type": "markdown",
   "metadata": {},
   "source": [
    "## 常见问题收集"
   ]
  },
  {
   "cell_type": "markdown",
   "metadata": {},
   "source": [
    "### `redis`里插入数据后再读出来时所有键与值都是`byte`类型的，怎么办？"
   ]
  },
  {
   "cell_type": "markdown",
   "metadata": {},
   "source": [
    "连接`redis`的时候，有个参数为`decode_responses`，默认为`False`，设置为`True`即可自动转换。"
   ]
  },
  {
   "cell_type": "markdown",
   "metadata": {},
   "source": [
    "## 教程收集"
   ]
  },
  {
   "cell_type": "markdown",
   "metadata": {},
   "source": [
    "- [超强、超详细Redis入门教程](https://blog.csdn.net/liqingtx/article/details/60330555)"
   ]
  },
  {
   "cell_type": "code",
   "execution_count": null,
   "metadata": {},
   "outputs": [],
   "source": []
  }
 ],
 "metadata": {
  "kernelspec": {
   "display_name": "Python 3",
   "language": "python",
   "name": "python3"
  },
  "language_info": {
   "codemirror_mode": {
    "name": "ipython",
    "version": 3
   },
   "file_extension": ".py",
   "mimetype": "text/x-python",
   "name": "python",
   "nbconvert_exporter": "python",
   "pygments_lexer": "ipython3",
   "version": "3.7.6"
  },
  "toc": {
   "base_numbering": 1,
   "nav_menu": {},
   "number_sections": true,
   "sideBar": true,
   "skip_h1_title": true,
   "title_cell": "Table of Contents",
   "title_sidebar": "Redis私房手册",
   "toc_cell": false,
   "toc_position": {},
   "toc_section_display": true,
   "toc_window_display": true
  }
 },
 "nbformat": 4,
 "nbformat_minor": 2
}
