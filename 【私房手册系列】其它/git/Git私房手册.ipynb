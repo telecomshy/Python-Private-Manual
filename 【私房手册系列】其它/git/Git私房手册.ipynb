{
 "cells": [
  {
   "cell_type": "markdown",
   "metadata": {},
   "source": [
    "# Git私房手册"
   ]
  },
  {
   "cell_type": "markdown",
   "metadata": {},
   "source": [
    "网上的教程很多，有很多都写的很好。但是在使用的过程中，难免会遇到各种各样的问题，因此把自己遇到的问题都记录下来，尽量记录的详细一点，免得时间一长忘记了，又要到处查，浪费时间却总是在解决重复的问题。"
   ]
  },
  {
   "cell_type": "markdown",
   "metadata": {},
   "source": [
    "## 基本流程"
   ]
  },
  {
   "cell_type": "markdown",
   "metadata": {},
   "source": [
    "1. 到github上注册账号，创建仓库。\n",
    "2. 本地安装git软件。\n",
    "3. 使用Git Bash生成证书  \n",
    "```\n",
    "ssh-kengen.ext -t rsa\n",
    "cd ~/.ssh\n",
    "$ls\n",
    "id_rsa id_rsa.pub\n",
    "```\n",
    "4. 把公钥id_rsa.pub的内容放置到github上  \n",
    "打开github。点击用户图像-->Settings-->SSH and GPG keys-->New SSH\n",
    "5. 配置git。（是否一定需要？）\n",
    "```\n",
    "git config --global user.email \"you@example.com\"\n",
    "git config --global user.name \"Your Name\"\n",
    "```\n",
    "6. 克隆仓库代码，配置邮箱和用户名  \n",
    "此时就创建了与远程库关联的本地库。进入本地库（clone以后会生成和远程库同名的文件夹），可以看到蓝色master字样，说明创建成功。\n",
    "```\n",
    "git clone git@github.com:telecomshy/Python-Private-Manual.git\n",
    "```\n",
    "7. 使用`git add 文件名`命令将修改的文件加入暂存区。\n",
    "8. 使用`git commit -m 注释`命令本地提交文件。\n",
    "9. 使用`git push`将本地修改推送至远程仓库。"
   ]
  },
  {
   "cell_type": "markdown",
   "metadata": {},
   "source": [
    "小知识：~号在linux代表用户的根目录，其实就是\\\\$HOME的缩写，可以echo \\$HOME查看。windows下\\\\$HOME目录就是c:\\windows\\administrator。"
   ]
  },
  {
   "cell_type": "markdown",
   "metadata": {},
   "source": [
    "## 上传本地文件"
   ]
  },
  {
   "cell_type": "markdown",
   "metadata": {},
   "source": [
    "`git add`上传本地项目所有变化的命令三种有`git add -A`、`git add -u`、`git add .`，区别如下：\n",
    "- `git add -A`： 提交所有变化\n",
    "- `git add -u`：提交被修改(modified)和被删除(deleted)文件，不包括新文件(new)\n",
    "- `git add .`：提交新文件(new)和被修改(modified)文件，不包括被删除(deleted)文件"
   ]
  },
  {
   "cell_type": "markdown",
   "metadata": {},
   "source": [
    "## 如何使用代理"
   ]
  },
  {
   "cell_type": "markdown",
   "metadata": {},
   "source": [
    "有时候本地连接远程很慢，此时可以使用代理，命令如下：\n",
    "1. http代理：\n",
    "```shell\n",
    "git config --global https.proxy http://127.0.0.1:10800\n",
    "git config --global https.proxy https://127.0.0.1:10800\n",
    "```\n",
    "2. socks5代理：\n",
    "```shell\n",
    "git config --global http.proxy 'socks5://127.0.0.1:10800'\n",
    "git config --global https.proxy 'socks5://127.0.0.1:10800'\n",
    "```\n",
    "\n",
    "取消代理的命令如下：\n",
    "```shell\n",
    "git config --global --unset http.proxy\n",
    "git config --global --unset https.proxy\n",
    "```\n",
    "\n",
    "也可以写入编辑文件.gitconfig，在文件添加：\n",
    "```ini\n",
    "[http]\n",
    "proxy = socks5://127.0.0.1:10800\n",
    "\n",
    "[https]\n",
    "proxy = socks5://127.0.0.1:10800\n",
    "```\n",
    "然后就可以直接使用git命令重新下载。"
   ]
  },
  {
   "cell_type": "markdown",
   "metadata": {},
   "source": [
    "## 如何将远程仓库和本地仓库关联？"
   ]
  },
  {
   "cell_type": "markdown",
   "metadata": {},
   "source": [
    "有两种情况，1种是先建远程，直接关联本地，1种是已有本地的仓库，再建远程仓库，最后将两者关联。\n",
    "1. 先说第一种，先建立远程仓库，不要建本地仓库，建立远程仓库之后，在本地的git bash下，找一个文件夹，假设就在D:盘根目录下，输入  \n",
    "`$git clone git@github.com:telecomshy/Python-Private-Manual.git`  \n",
    "此时会在D盘下，自动新建一个`Python-Private-Manual`的文件夹，`$cd Python-Private-Manual`进入这个文件夹，你会发现上面的一串提示字符串后面多了一个蓝色的`(master)`字样，说明你已经在一个git仓库中。接下来就可以进行任何常规操作。"
   ]
  },
  {
   "cell_type": "markdown",
   "metadata": {},
   "source": [
    "## 常用git命令"
   ]
  },
  {
   "cell_type": "markdown",
   "metadata": {},
   "source": [
    "`git status`： 查看git状态"
   ]
  },
  {
   "cell_type": "markdown",
   "metadata": {},
   "source": [
    "## 常见错误"
   ]
  },
  {
   "cell_type": "markdown",
   "metadata": {},
   "source": [
    "### `unable to auto-detect email address`"
   ]
  },
  {
   "cell_type": "markdown",
   "metadata": {},
   "source": [
    "找到工程目录的.git文件夹，打开之后找到config文件，在最后边加上一句话：\n",
    "```ini\n",
    "[user]\n",
    "\temail = email address\n",
    "\tname = your name\n",
    "```\n",
    "email address和your name随便写上就行。"
   ]
  },
  {
   "cell_type": "code",
   "execution_count": null,
   "metadata": {},
   "outputs": [],
   "source": []
  }
 ],
 "metadata": {
  "kernelspec": {
   "display_name": "Python 3",
   "language": "python",
   "name": "python3"
  },
  "language_info": {
   "codemirror_mode": {
    "name": "ipython",
    "version": 3
   },
   "file_extension": ".py",
   "mimetype": "text/x-python",
   "name": "python",
   "nbconvert_exporter": "python",
   "pygments_lexer": "ipython3",
   "version": "3.7.6"
  },
  "toc": {
   "base_numbering": 1,
   "nav_menu": {},
   "number_sections": true,
   "sideBar": true,
   "skip_h1_title": true,
   "title_cell": "Table of Contents",
   "title_sidebar": "Git私房手册",
   "toc_cell": false,
   "toc_position": {},
   "toc_section_display": true,
   "toc_window_display": true
  },
  "varInspector": {
   "cols": {
    "lenName": 16,
    "lenType": 16,
    "lenVar": 40
   },
   "kernels_config": {
    "python": {
     "delete_cmd_postfix": "",
     "delete_cmd_prefix": "del ",
     "library": "var_list.py",
     "varRefreshCmd": "print(var_dic_list())"
    },
    "r": {
     "delete_cmd_postfix": ") ",
     "delete_cmd_prefix": "rm(",
     "library": "var_list.r",
     "varRefreshCmd": "cat(var_dic_list()) "
    }
   },
   "types_to_exclude": [
    "module",
    "function",
    "builtin_function_or_method",
    "instance",
    "_Feature"
   ],
   "window_display": false
  }
 },
 "nbformat": 4,
 "nbformat_minor": 2
}
