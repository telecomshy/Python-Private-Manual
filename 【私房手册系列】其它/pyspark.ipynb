{
 "cells": [
  {
   "cell_type": "markdown",
   "source": [
    "# pyspark"
   ],
   "metadata": {
    "collapsed": false
   },
   "id": "ce2d80776d07f1f"
  },
  {
   "cell_type": "markdown",
   "source": [
    "- [How to Get Started with PySpark](https://towardsdatascience.com/how-to-get-started-with-pyspark-1adc142456ec)"
   ],
   "metadata": {
    "collapsed": false
   },
   "id": "e602dde481e2c737"
  },
  {
   "cell_type": "code",
   "execution_count": null,
   "outputs": [],
   "source": [],
   "metadata": {
    "collapsed": false
   },
   "id": "bb5a3dd4b46bdad8"
  }
 ],
 "metadata": {
  "kernelspec": {
   "display_name": "Python 3",
   "language": "python",
   "name": "python3"
  },
  "language_info": {
   "codemirror_mode": {
    "name": "ipython",
    "version": 2
   },
   "file_extension": ".py",
   "mimetype": "text/x-python",
   "name": "python",
   "nbconvert_exporter": "python",
   "pygments_lexer": "ipython2",
   "version": "2.7.6"
  }
 },
 "nbformat": 4,
 "nbformat_minor": 5
}
