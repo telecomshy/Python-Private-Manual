{
 "cells": [
  {
   "cell_type": "markdown",
   "id": "113031d1",
   "metadata": {},
   "source": [
    "# SQL私房手册"
   ]
  },
  {
   "cell_type": "markdown",
   "id": "731ac8ff",
   "metadata": {},
   "source": [
    "## 使用技巧"
   ]
  },
  {
   "cell_type": "markdown",
   "id": "4834fde3",
   "metadata": {},
   "source": [
    "### 使用navicat对数据库定时自动备份"
   ]
  },
  {
   "cell_type": "markdown",
   "id": "76706d72",
   "metadata": {},
   "source": [
    "- [使用Navicat进行数据库定时自动备份](https://www.cnblogs.com/atomy/p/13655268.html)"
   ]
  },
  {
   "cell_type": "markdown",
   "id": "c1779223",
   "metadata": {},
   "source": [
    "### 如何修改表使用的数据库引擎"
   ]
  },
  {
   "cell_type": "markdown",
   "id": "2c7f8c7f",
   "metadata": {},
   "source": [
    "cli可以使用命令：\n",
    "```\n",
    "alter table tabname ENGINE=InnoDB\n",
    "```\n",
    "如果使用navicat，可以选中表 右键-设计表-选项-引擎 进行修改。另外，还可以分析表以及整理表碎片空间，在此一并记录：\n",
    "```\n",
    "alter table tabname ENGINE=InnoDB;\n",
    "analyze table tablename;\n",
    "optimize table tabname;\n",
    "```"
   ]
  },
  {
   "cell_type": "markdown",
   "id": "3819ea5b",
   "metadata": {},
   "source": [
    "### pymysql和sqlite3占位符"
   ]
  },
  {
   "cell_type": "markdown",
   "id": "6d3a53e3",
   "metadata": {},
   "source": [
    "pymysql和sqlite3的占位符写法是不一样的，sqlite3的位置占位符为`?`，名称占位符为`:`，比如："
   ]
  },
  {
   "cell_type": "markdown",
   "id": "98e8f713",
   "metadata": {},
   "source": [
    "```python\n",
    "# 位置占位符\n",
    "cursor.execute(\"insert into ip_errlog (alarmid, dt) values (?, ?)\", (alarmid, dt))\n",
    "# 名称占位符\n",
    "cursor.execute(\"insert into ip_errlog (alarmid, dt) values (:alarmid, :dt)\", {\"alarmid\": 1312133, \"dt\": \"2021-07-27: 17:05:00\"})\n",
    "```"
   ]
  },
  {
   "cell_type": "markdown",
   "id": "f1e799fa",
   "metadata": {},
   "source": [
    "pymysql的位置占位符为`%s`，名称占位符为`%(alarmid)s`，比如："
   ]
  },
  {
   "cell_type": "markdown",
   "id": "0808a515",
   "metadata": {},
   "source": [
    "```python\n",
    "# 位置占位符\n",
    "cursor.execute(\"insert into ip_errlog (alarmid, dt) values (%s, %s)\", (alarmid, dt))\n",
    "# 名称占位符\n",
    "cursor.execute(\"insert into ip_errlog (alarmid, dt) values (%(alarmid)s, %(dt)s\", {\"alarmid\": 1312133, \"dt\": \"2021-07-27: 17:05:00\"})\n",
    "```"
   ]
  },
  {
   "cell_type": "markdown",
   "id": "4cb636f2",
   "metadata": {},
   "source": [
    "## 故障处理"
   ]
  },
  {
   "cell_type": "markdown",
   "id": "3cf7ec2e",
   "metadata": {},
   "source": [
    "### xampp的mysql无法正常启动"
   ]
  },
  {
   "cell_type": "markdown",
   "id": "357b39cc",
   "metadata": {},
   "source": [
    "尝试了更换端口无果，无法正常启动，始终报错。最后发现用`xampp/mysql/backup/mysql/db.MAI`文件覆盖`xampp/mysql/data/mysql/db.MAI`文件以后可以启动，但是所有数据库丢失。使用`mysqlcheck`和`myisamchk`都无法修复，只能重新建表进行覆盖。\n",
    "\n",
    "查阅资料发现，`MAI`文件是`Aria`引擎的索引文件，`MAD`是`Aria`引擎的数据文件，`myisamchk`用于离线修复`MyISAM`引擎的文件，`mysqlcheck`在线检查`MyISAM`和`InnoDB`引擎的文件，离线修复`Aria`引擎文件需要使用`aria_chk`命令。附：\n",
    "- [官网地址](https://mariadb.com/kb/en/aria_chk/)\n",
    "\n",
    "由于原数据库全部被覆盖，因此无法尝试修复，只能留待下次再尝试。"
   ]
  },
  {
   "cell_type": "code",
   "execution_count": null,
   "id": "1d682b5a",
   "metadata": {},
   "outputs": [],
   "source": []
  }
 ],
 "metadata": {
  "kernelspec": {
   "display_name": "Python 3",
   "language": "python",
   "name": "python3"
  },
  "language_info": {
   "codemirror_mode": {
    "name": "ipython",
    "version": 3
   },
   "file_extension": ".py",
   "mimetype": "text/x-python",
   "name": "python",
   "nbconvert_exporter": "python",
   "pygments_lexer": "ipython3",
   "version": "3.7.6"
  },
  "toc": {
   "base_numbering": 1,
   "nav_menu": {},
   "number_sections": true,
   "sideBar": true,
   "skip_h1_title": true,
   "title_cell": "Table of Contents",
   "title_sidebar": "SQL私房手册",
   "toc_cell": false,
   "toc_position": {},
   "toc_section_display": true,
   "toc_window_display": true
  }
 },
 "nbformat": 4,
 "nbformat_minor": 5
}
