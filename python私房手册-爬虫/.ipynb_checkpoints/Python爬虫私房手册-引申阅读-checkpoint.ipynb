{
 "cells": [
  {
   "cell_type": "markdown",
   "metadata": {},
   "source": [
    "# Python爬虫私房手册-引申阅读"
   ]
  },
  {
   "cell_type": "markdown",
   "metadata": {},
   "source": [
    "## SSL加密"
   ]
  },
  {
   "cell_type": "markdown",
   "metadata": {},
   "source": [
    "- [公钥，私钥，SSL，对称加密、非对称加密初探](https://www.cnblogs.com/JuneWang/p/3793910.html)\n",
    "- [公钥与私钥，HTTPS详解](https://blog.csdn.net/u011123724/article/details/80586173)\n",
    "- [什么是SSL证书](https://blog.csdn.net/weixin_39986856/article/details/82384633)\n",
    "- [浅谈HTTPS抓包原理，为什么Charles能够抓取HTTPS报文？](https://zhuanlan.zhihu.com/p/67199487)"
   ]
  },
  {
   "cell_type": "code",
   "execution_count": null,
   "metadata": {},
   "outputs": [],
   "source": []
  }
 ],
 "metadata": {
  "kernelspec": {
   "display_name": "Python 3",
   "language": "python",
   "name": "python3"
  },
  "language_info": {
   "codemirror_mode": {
    "name": "ipython",
    "version": 3
   },
   "file_extension": ".py",
   "mimetype": "text/x-python",
   "name": "python",
   "nbconvert_exporter": "python",
   "pygments_lexer": "ipython3",
   "version": "3.7.6"
  },
  "toc": {
   "base_numbering": 1,
   "nav_menu": {},
   "number_sections": true,
   "sideBar": true,
   "skip_h1_title": true,
   "title_cell": "Table of Contents",
   "title_sidebar": "Python爬虫私房手册-引申阅读",
   "toc_cell": false,
   "toc_position": {},
   "toc_section_display": true,
   "toc_window_display": true
  }
 },
 "nbformat": 4,
 "nbformat_minor": 4
}
