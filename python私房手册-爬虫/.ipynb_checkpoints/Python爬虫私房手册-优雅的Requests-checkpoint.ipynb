{
 "cells": [
  {
   "cell_type": "markdown",
   "metadata": {},
   "source": [
    "# Python爬虫私房手册-优雅的Requests"
   ]
  },
  {
   "cell_type": "markdown",
   "metadata": {},
   "source": [
    "本文基于Requests库的2.22版本，主要基于[《官网快速上手中文教程》](http://cn.python-requests.org/en/latest/user/quickstart.html#id2)并加入学习过程中自己的理解。"
   ]
  },
  {
   "cell_type": "code",
   "execution_count": null,
   "metadata": {},
   "outputs": [],
   "source": []
  },
  {
   "cell_type": "markdown",
   "metadata": {},
   "source": [
    "## 问题收集"
   ]
  },
  {
   "cell_type": "markdown",
   "metadata": {},
   "source": [
    "### 为什么使用`json.dumps()` `post`数据却没有响应？"
   ]
  },
  {
   "cell_type": "markdown",
   "metadata": {},
   "source": [
    "当`post`的数据为`json`格式时，网上很多代码大概是下面这样的：\n",
    "```python\n",
    "import json\n",
    "\n",
    "data = {'key1': 'value1', 'key2': 'value2'}\n",
    "url = \"http://www.test.com\"\n",
    "request.post(url, data=json.dumps(data))\n",
    "```\n",
    "此时总是无法获得想要的结果，主要原因是`requests`默认`Content-Type`为`application/x-www-form-urlencoded`，此时需要在表头注明`Content-Type`注明为`application/json`，如下：\n",
    "```python\n",
    "headers = {'Content-Type': 'application/x-www-form-urlencoded'}\n",
    "request.post(url, data=json.dumps(data), headers=headers)\n",
    "```\n",
    "或者直接使用`json`参数传参：\n",
    "```python\n",
    "request.post(url, json=data)\n",
    "```\n",
    "此时，requests会自动将`Content-Type`设置为`application/json`。\n",
    "\n",
    "**相关知识点：**\n",
    "- [post请求四种传送正文的方式](https://www.cnblogs.com/insane-Mr-Li/p/9145152.html)\n",
    "- [post提交数据之-Content-Type的理解](https://www.cnblogs.com/tugenhua0707/p/8975121.html)"
   ]
  },
  {
   "cell_type": "markdown",
   "metadata": {},
   "source": [
    "### `response`的`text`和`content`属性有什么区别？"
   ]
  },
  {
   "cell_type": "markdown",
   "metadata": {},
   "source": [
    "`requests`的`response`对象有`text`和`content`两个属性，两者返回的内容是一样的，主要区别是`text`返回的是字符串，`content`返回的是字节码。所以要根据不同的场合选择不同的方法。"
   ]
  },
  {
   "cell_type": "code",
   "execution_count": null,
   "metadata": {},
   "outputs": [],
   "source": []
  }
 ],
 "metadata": {
  "kernelspec": {
   "display_name": "Python 3",
   "language": "python",
   "name": "python3"
  },
  "language_info": {
   "codemirror_mode": {
    "name": "ipython",
    "version": 3
   },
   "file_extension": ".py",
   "mimetype": "text/x-python",
   "name": "python",
   "nbconvert_exporter": "python",
   "pygments_lexer": "ipython3",
   "version": "3.7.3"
  },
  "toc": {
   "base_numbering": 1,
   "nav_menu": {},
   "number_sections": true,
   "sideBar": true,
   "skip_h1_title": true,
   "title_cell": "Table of Contents",
   "title_sidebar": "Python爬虫私房手册-优雅的Requests",
   "toc_cell": false,
   "toc_position": {},
   "toc_section_display": true,
   "toc_window_display": false
  }
 },
 "nbformat": 4,
 "nbformat_minor": 2
}
