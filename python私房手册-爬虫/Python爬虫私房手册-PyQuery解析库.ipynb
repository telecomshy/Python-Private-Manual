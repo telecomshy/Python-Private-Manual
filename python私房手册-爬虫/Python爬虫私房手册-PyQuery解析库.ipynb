{
 "cells": [
  {
   "cell_type": "markdown",
   "metadata": {},
   "source": [
    "# Python爬虫私房手册-`PyQuery`解析库"
   ]
  },
  {
   "cell_type": "markdown",
   "metadata": {},
   "source": [
    "## 选择`dom`元素"
   ]
  },
  {
   "cell_type": "code",
   "execution_count": null,
   "metadata": {},
   "outputs": [],
   "source": []
  },
  {
   "cell_type": "markdown",
   "metadata": {},
   "source": [
    "## 问题收集"
   ]
  },
  {
   "cell_type": "markdown",
   "metadata": {},
   "source": [
    "### `pyquery`历遍元素获取属性时抛出`AttributeError`错误？ "
   ]
  },
  {
   "cell_type": "markdown",
   "metadata": {},
   "source": [
    "如果直接对一个`pyquery`对象历遍，会抛出`AttributeError: 'HtmlElement' object has no attribute 'attr'`错误，主要原因是因为`pyquery`是对`lxml`的包装，直接历遍的话，返回的其实是`lxml`的`HtmlElement`对象，因此有以下几种方法：\n",
    "1. 直接使用`lxml`的`ElementTree API`:\n",
    "```python\n",
    "e = pq(url=results_url)\n",
    "for link in e('li.moredetails a'):\n",
    "    print link.attrib['href']\n",
    "```\n",
    "2. 再次使用`pyquery`对`HtmlElement`进行包装：\n",
    "```python\n",
    "print pq(link).attr('href')\n",
    "```\n",
    "或者\n",
    "```python\n",
    "print pq(link).attr['href']\n",
    "```\n",
    "3. 使用`pyquery`的`items()`方法进行历遍，返回的元素直接就是`pyquery`对象：\n",
    "```python\n",
    "e = pq(url=results_url)\n",
    "for link in e('li.moredetails a').items():\n",
    "    print link.attr['href']\n",
    "```"
   ]
  },
  {
   "cell_type": "markdown",
   "metadata": {},
   "source": [
    "### `pyquery`不识别大写的标签怎么办？"
   ]
  },
  {
   "cell_type": "markdown",
   "metadata": {},
   "source": [
    "`pyquery`默认使用`lxml`进行解析，`lxml`不能识别大写的标签，可以传入`parser`参数，强制性的使用`html`解析：\n",
    "```python\n",
    "html = PyQuery('http://www.sina.com.cn',parser='html`)\n",
    "```\n",
    "但是使用`html`解析貌似有个问题，就是`encoding`参数变得无效，如果网页是`gbk`编码，则中文无法识别。\n",
    "\n",
    "最简单的办法是直接读取文件为字符串，使用`lower`全部转换为小写，然后再使用`PyQuery`读取字符串。"
   ]
  },
  {
   "cell_type": "markdown",
   "metadata": {},
   "source": [
    "### 如何读取直接子节点？"
   ]
  },
  {
   "cell_type": "markdown",
   "metadata": {},
   "source": [
    "一般情况下，只需要调用`PyQuery`对象的`children`方法即可，但是使用中发现，对`pq`构造函数返回的`PyQuery`对象使用`children`方法获取直接子节点无效，比如："
   ]
  },
  {
   "cell_type": "code",
   "execution_count": 14,
   "metadata": {},
   "outputs": [
    {
     "name": "stdout",
     "output_type": "stream",
     "text": [
      "\n"
     ]
    }
   ],
   "source": [
    "from pyquery import PyQuery as pq\n",
    "\n",
    "text = \"\"\"\n",
    "    <html>\n",
    "    <body>\n",
    "    <ul>\n",
    "        <li><a href=\"ne/dc_ne_preface_cli.html\">前 言</a>\n",
    "            <ul>\n",
    "                <li><a href=\"vrp/dc_vrp_cli_cfg_0001.html\">命令行概述</a></li>\n",
    "            </ul>\n",
    "        </li>\n",
    "    </ul>\n",
    "    </body>\n",
    "    </html>\n",
    "    \"\"\"\n",
    "\n",
    "doc = pq(text)\n",
    "ul = doc.children('ul')  # children方法无效\n",
    "print(ul) # ul为空"
   ]
  },
  {
   "cell_type": "markdown",
   "metadata": {},
   "source": [
    "如果直接传入元素标签，则总是把所有子孙节点全部找出来："
   ]
  },
  {
   "cell_type": "code",
   "execution_count": 19,
   "metadata": {},
   "outputs": [
    {
     "name": "stdout",
     "output_type": "stream",
     "text": [
      "<ul>\n",
      "        <li><a href=\"ne/dc_ne_preface_cli.html\">前 言</a>\n",
      "            <ul>\n",
      "                <li><a href=\"vrp/dc_vrp_cli_cfg_0001.html\">命令行概述</a></li>\n",
      "            </ul>\n",
      "        </li>\n",
      "    </ul>\n",
      "    <ul>\n",
      "                <li><a href=\"vrp/dc_vrp_cli_cfg_0001.html\">命令行概述</a></li>\n",
      "            </ul>\n",
      "        \n"
     ]
    }
   ],
   "source": [
    "uls = doc('ul')\n",
    "print(uls)"
   ]
  },
  {
   "cell_type": "markdown",
   "metadata": {},
   "source": [
    "此时如果要只获取直接子节点，目前发现的方法只有通过向`doc`传递css选择器实现："
   ]
  },
  {
   "cell_type": "code",
   "execution_count": 18,
   "metadata": {},
   "outputs": [
    {
     "name": "stdout",
     "output_type": "stream",
     "text": [
      "<ul>\n",
      "        <li><a href=\"ne/dc_ne_preface_cli.html\">前 言</a>\n",
      "            <ul>\n",
      "                <li><a href=\"vrp/dc_vrp_cli_cfg_0001.html\">命令行概述</a></li>\n",
      "            </ul>\n",
      "        </li>\n",
      "    </ul>\n",
      "    \n"
     ]
    }
   ],
   "source": [
    "ul = doc('body > ul')\n",
    "print(ul)"
   ]
  },
  {
   "cell_type": "code",
   "execution_count": null,
   "metadata": {},
   "outputs": [],
   "source": []
  }
 ],
 "metadata": {
  "kernelspec": {
   "display_name": "Python 3",
   "language": "python",
   "name": "python3"
  },
  "language_info": {
   "codemirror_mode": {
    "name": "ipython",
    "version": 3
   },
   "file_extension": ".py",
   "mimetype": "text/x-python",
   "name": "python",
   "nbconvert_exporter": "python",
   "pygments_lexer": "ipython3",
   "version": "3.7.6"
  },
  "toc": {
   "base_numbering": 1,
   "nav_menu": {},
   "number_sections": true,
   "sideBar": true,
   "skip_h1_title": true,
   "title_cell": "Table of Contents",
   "title_sidebar": "Python爬虫私房手册-PyQuery解析库",
   "toc_cell": false,
   "toc_position": {},
   "toc_section_display": true,
   "toc_window_display": true
  }
 },
 "nbformat": 4,
 "nbformat_minor": 2
}
