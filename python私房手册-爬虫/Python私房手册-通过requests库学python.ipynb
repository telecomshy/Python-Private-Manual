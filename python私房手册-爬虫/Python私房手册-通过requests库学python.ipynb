{
 "cells": [
  {
   "cell_type": "markdown",
   "metadata": {},
   "source": [
    "# Python私房手册-通过requests库学python"
   ]
  },
  {
   "cell_type": "markdown",
   "metadata": {},
   "source": [
    "## 参考文档"
   ]
  },
  {
   "cell_type": "markdown",
   "metadata": {},
   "source": [
    "- [《urllib3官方文档》](https://urllib3.readthedocs.io/en/latest/reference/index.html#urllib3.filepost.encode_multipart_formdata)"
   ]
  },
  {
   "cell_type": "markdown",
   "metadata": {},
   "source": [
    "## `requests`结构"
   ]
  },
  {
   "cell_type": "markdown",
   "metadata": {},
   "source": [
    "`requests`所有文件及说明如下：\n",
    "- `__init__`：所有导入内容的入口\n",
    "- `__version__`：统一版本\n",
    "- `_internal_utils`：内部使用的工具函数\n",
    "- `adapters`：\n",
    "- `api`：为客户端提供统一的`api`接口\n",
    "- `auth`：\n",
    "- `certs`：\n",
    "- `compat`：为内部程序提供py2，py3兼容性接口\n",
    "- `cookies`：\n",
    "- `exceptions`：自定义异常类\n",
    "- `help`：帮助文件\n",
    "- `hooks`：提供`default_hooks`和`dispatch_hook`两个钩子函数\n",
    "- `models`：主要模块，提供`request`和`response`两个类的定义\n",
    "- `packages`：\n",
    "- `sessions`：主要模块\n",
    "- `status_codes`：各种状态码\n",
    "- `structures`：专用的数据结构类文件，提供`LookupDict`和`CaseInsensitiveDict`两个类似字典的容器类\n",
    "- `utils`：通用的工具函数"
   ]
  },
  {
   "cell_type": "markdown",
   "metadata": {},
   "source": [
    "## `models.py`"
   ]
  },
  {
   "cell_type": "markdown",
   "metadata": {},
   "source": [
    "### `RequestEncodingMixin(object)`混合类"
   ]
  },
  {
   "cell_type": "markdown",
   "metadata": {},
   "source": [
    "- `path_url`特性：利用`urllib.parse.urlsplit`解析`url`，引申阅读：[《urlsplit和urlparse的区别》](https://blog.csdn.net/mouday/article/details/85613666)\n",
    "- `_encode_params`静态方法：利用`urllib.parse.urlencode`解析参数，和`urllib.parse.urlencode`区别见附录代码片段1。\n",
    "- `_encode_files`静态方法：利用`urllib3.fields.RequestField`和`urllib3.filepost.encode_multipart_formdata`构建`content-type`是`multipart/form-data`格式的`Post`请求。见以下引申阅读及附录代码片段2。\n",
    " - [《POST之multipart/form-data请求》](https://www.jianshu.com/p/0023bb7afddb)\n",
    " - [《Python Requests库 form-data 上传文件操作》](https://www.cnblogs.com/milesma/p/12023405.html)\n",
    " - [《Python requests post 提交form-data表单》](https://blog.csdn.net/Chihwei_Hsu/article/details/81943008)\n",
    " - [《深入解析 multipart/form-data》](https://blog.csdn.net/wyn126/article/details/96451357)\n",
    " - [《HTTP Content-type 对照表》](http://tools.jb51.net/table/http_content_type)"
   ]
  },
  {
   "cell_type": "markdown",
   "metadata": {},
   "source": [
    "附录代码片段1："
   ]
  },
  {
   "cell_type": "code",
   "execution_count": 31,
   "metadata": {},
   "outputs": [],
   "source": [
    "from urllib.parse import urlencode\n",
    "from requests.models import RequestEncodingMixin"
   ]
  },
  {
   "cell_type": "code",
   "execution_count": 29,
   "metadata": {},
   "outputs": [
    {
     "data": {
      "text/plain": [
       "'a=1&b=%5B2%2C+3%5D'"
      ]
     },
     "execution_count": 29,
     "metadata": {},
     "output_type": "execute_result"
    }
   ],
   "source": [
    "urlencode({\"a\": 1, \"b\": [2, 3]})"
   ]
  },
  {
   "cell_type": "code",
   "execution_count": 32,
   "metadata": {},
   "outputs": [
    {
     "data": {
      "text/plain": [
       "'a=1&b=2&b=3'"
      ]
     },
     "execution_count": 32,
     "metadata": {},
     "output_type": "execute_result"
    }
   ],
   "source": [
    "RequestEncodingMixin._encode_params({\"a\": 1, \"b\": [2, 3]})"
   ]
  },
  {
   "cell_type": "markdown",
   "metadata": {},
   "source": [
    "附录代码片段2：\n",
    "- 注意：源码中`fn`,`fp`,`ft`,`fh`分别指文件名，文件内容，文件类型和文件头，在文件头里加`boundary`无效，`requests`自动生成。"
   ]
  },
  {
   "cell_type": "code",
   "execution_count": 88,
   "metadata": {},
   "outputs": [
    {
     "name": "stdout",
     "output_type": "stream",
     "text": [
      "--28edfeef402bcdbc097b26c35ada4d9a\r\n",
      "Content-Disposition: form-data; name=\"data\"\r\n",
      "\r\n",
      "42\r\n",
      "--28edfeef402bcdbc097b26c35ada4d9a\r\n",
      "Content-Disposition: form-data; name=\"file\"; filename=\"log.txt\"\r\n",
      "Content-Type: text/plain\r\n",
      "Connection: keep-alive\r\n",
      "\r\n",
      "this is a demo\r\n",
      "--28edfeef402bcdbc097b26c35ada4d9a--\r\n",
      "\n"
     ]
    }
   ],
   "source": [
    "file = {'file': ('log.txt', open(\"request_log.txt\"), \"text/plain\", {\"Connection\": \"keep-alive\"})}\n",
    "data = {'data': 42}\n",
    "\n",
    "body, content_type = RequestEncodingMixin._encode_files(files=file, data=data)\n",
    "\n",
    "print(body.decode(\"utf8\"))"
   ]
  },
  {
   "cell_type": "markdown",
   "metadata": {},
   "source": [
    "### `Request(RequestHooksMixin)`类"
   ]
  },
  {
   "cell_type": "code",
   "execution_count": null,
   "metadata": {},
   "outputs": [],
   "source": []
  },
  {
   "cell_type": "markdown",
   "metadata": {},
   "source": [
    "## 技巧收集"
   ]
  },
  {
   "cell_type": "markdown",
   "metadata": {},
   "source": [
    "### 如何处理即可以是单个又可以迭代的参数？"
   ]
  },
  {
   "cell_type": "markdown",
   "metadata": {},
   "source": [
    "以`hooks.py`的`dispatch_hook`函数为例：\n",
    "```python\n",
    "def dispatch_hook(key, hooks, hook_data, **kwargs):\n",
    "    \"\"\"Dispatches a hook dictionary on a given piece of data.\"\"\"\n",
    "    hooks = hooks or {}\n",
    "    hooks = hooks.get(key)\n",
    "    if hooks:\n",
    "        if hasattr(hooks, '__call__'):\n",
    "            hooks = [hooks]\n",
    "        for hook in hooks:\n",
    "            _hook_data = hook(hook_data, **kwargs)\n",
    "            if _hook_data is not None:\n",
    "                hook_data = _hook_data\n",
    "    return hook_data\n",
    "```\n",
    "\n",
    "1. 对`hooks`参数的处理，注意与设置默认值`hooks=None`的区别。\n",
    "2. `hooks`可以为可调用对象，也可以为数组，此时先判断是否为可调用对象，如果是，则设置为数组，接下来统一循环处理即可。"
   ]
  },
  {
   "cell_type": "code",
   "execution_count": null,
   "metadata": {},
   "outputs": [],
   "source": []
  }
 ],
 "metadata": {
  "kernelspec": {
   "display_name": "Python 3",
   "language": "python",
   "name": "python3"
  },
  "language_info": {
   "codemirror_mode": {
    "name": "ipython",
    "version": 3
   },
   "file_extension": ".py",
   "mimetype": "text/x-python",
   "name": "python",
   "nbconvert_exporter": "python",
   "pygments_lexer": "ipython3",
   "version": "3.7.4"
  },
  "toc": {
   "base_numbering": 1,
   "nav_menu": {},
   "number_sections": true,
   "sideBar": true,
   "skip_h1_title": true,
   "title_cell": "Table of Contents",
   "title_sidebar": "Python私房手册-通过requests库学python",
   "toc_cell": false,
   "toc_position": {},
   "toc_section_display": true,
   "toc_window_display": false
  }
 },
 "nbformat": 4,
 "nbformat_minor": 4
}
