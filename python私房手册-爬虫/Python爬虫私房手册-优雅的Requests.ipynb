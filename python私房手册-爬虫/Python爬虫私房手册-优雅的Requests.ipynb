{
 "cells": [
  {
   "cell_type": "markdown",
   "metadata": {},
   "source": [
    "# Python爬虫私房手册-优雅的Requests"
   ]
  },
  {
   "cell_type": "markdown",
   "metadata": {},
   "source": [
    "本文基于Requests库的2.22版本，主要基于[《官网快速上手中文教程》](http://cn.python-requests.org/en/latest/user/quickstart.html#id2)并加入学习过程中自己的理解。"
   ]
  },
  {
   "cell_type": "markdown",
   "metadata": {},
   "source": [
    "## `request`请求"
   ]
  },
  {
   "cell_type": "markdown",
   "metadata": {},
   "source": [
    "### 连接超时和读取超时"
   ]
  },
  {
   "cell_type": "markdown",
   "metadata": {},
   "source": [
    "网络请求不可避免会遇上请求超时的情况，在`requests`中，如果不设置超时程序可能会永远失去响应，超时可分为连接超时和读取超时。\n",
    "- 连接超时：指客户端到远端机器端口连接时，等待的秒数，错误信息显示`connect timeout`。这个就算不设置，也有个默认的连接超时时间，大概是21秒左右。"
   ]
  },
  {
   "cell_type": "code",
   "execution_count": 4,
   "metadata": {},
   "outputs": [
    {
     "name": "stdout",
     "output_type": "stream",
     "text": [
      "<class 'requests.exceptions.ConnectTimeout'>\n",
      "2\n"
     ]
    }
   ],
   "source": [
    "from datetime import datetime\n",
    "import requests\n",
    "\n",
    "url = 'http://www.google.com.hk'\n",
    "\n",
    "t1 = datetime.now()\n",
    "try:\n",
    "    html = requests.get(url, timeout=2).text\n",
    "    print('success')\n",
    "except requests.exceptions.RequestException as e:\n",
    "    print(e.__class__)\n",
    "t2 = datetime.now()\n",
    "\n",
    "print((t2 - t1).seconds)"
   ]
  },
  {
   "cell_type": "markdown",
   "metadata": {},
   "source": [
    "- 读取超时：注意`timeout`仅对连接过程有效，与响应体的下载无关。`timeout`并不是整个下载响应的时间限制，而是指连接上目标服务器以后，如果服务器在`timeout`秒内没有应答，将会引发一个异常（更精确地说，是在`timeout`秒内没有从基础套接字上接收到任何字节的数据时）。读取超时的错误提示一般是`read time out`。\n",
    "\n",
    "如果在`requests`中，传入一个单一的指，将会用作`connect`和`read`二者的`timeout`。如果要分别制定，就传入一个元组：\n",
    "```python\n",
    "r = requests.get('https://github.com', timeout=(5, 30))\n",
    "```"
   ]
  },
  {
   "cell_type": "markdown",
   "metadata": {},
   "source": [
    "### 超时重试机制"
   ]
  },
  {
   "cell_type": "markdown",
   "metadata": {},
   "source": [
    "如果想要超时重连，不需要自己再写计数器之类的代码，`requests`已经封装好了，只需要挂载一个传输适配器。传输适配器提供了一个机制，可以为`HTTP`服务定义交互方法。尤其是它允许你应用服务前的配置。  \n",
    "\n",
    "如下，重试3次，加上第一次一共是4次，耗时20秒："
   ]
  },
  {
   "cell_type": "code",
   "execution_count": 2,
   "metadata": {},
   "outputs": [
    {
     "name": "stdout",
     "output_type": "stream",
     "text": [
      "HTTPConnectionPool(host='www.google.com.hk', port=80): Max retries exceeded with url: / (Caused by ConnectTimeoutError(<urllib3.connection.HTTPConnection object at 0x000002B0040A5748>, 'Connection to www.google.com.hk timed out. (connect timeout=5)'))\n",
      "20\n"
     ]
    }
   ],
   "source": [
    "from datetime import datetime\n",
    "import requests\n",
    "from requests.adapters import HTTPAdapter\n",
    "\n",
    "s = requests.Session()\n",
    "s.mount('http://', HTTPAdapter(max_retries=3))\n",
    "s.mount('https://', HTTPAdapter(max_retries=3))\n",
    "\n",
    "t1 = datetime.now()\n",
    "try:\n",
    "    r = s.get('http://www.google.com.hk', timeout=5)\n",
    "except requests.exceptions.RequestException as e:\n",
    "    print(e)\n",
    "t2 = datetime.now()\n",
    "\n",
    "print((t2 - t1).seconds)"
   ]
  },
  {
   "cell_type": "markdown",
   "metadata": {},
   "source": [
    "## `response`响应"
   ]
  },
  {
   "cell_type": "code",
   "execution_count": null,
   "metadata": {},
   "outputs": [],
   "source": []
  },
  {
   "cell_type": "markdown",
   "metadata": {},
   "source": [
    "## 异常"
   ]
  },
  {
   "cell_type": "markdown",
   "metadata": {},
   "source": [
    "异常要注意的有以下几点：\n",
    "1. 所有的异常都继承自`requests.exceptions.RequestException`。\n",
    "2. 注意，有没有设置`timeout`参数，抛出的异常会不同，如果没有设置`timeout`参数，抛出的是`ConnectionError`异常，即使是因为超时而导致的连接失败抛出的异常也是`ConnectionError`，如果设置了`timeout`参数，连接超时抛出的是`ConnectionTimeout`异常。\n",
    "3. 如果`timeout`分别设置了连接超时和读取超时，即`timeout`是一个元组，则分别抛出`ConnectionTimeout`和`ReadTimeout`异常，两者都继承自`Timeout`异常，其中`ConnectionTimeout`是多继承：\n",
    "```python\n",
    "class ConnectTimeout(ConnectionError, Timeout)\n",
    "```\n",
    "4. 如果 HTTP 请求返回了不成功的状态码， `Response.raise_for_status()`会抛出一个`HTTPError`异常。\n",
    "\n",
    "异常可以参考[这篇文章](https://www.jianshu.com/p/f712a5a46e95)以及源码。"
   ]
  },
  {
   "cell_type": "markdown",
   "metadata": {},
   "source": [
    "## 常见问题"
   ]
  },
  {
   "cell_type": "markdown",
   "metadata": {},
   "source": [
    "### 为什么使用`json.dumps()` `post`数据却没有响应？"
   ]
  },
  {
   "cell_type": "markdown",
   "metadata": {},
   "source": [
    "当`post`的数据为`json`格式时，网上很多代码大概是下面这样的：\n",
    "```python\n",
    "import json\n",
    "\n",
    "data = {'key1': 'value1', 'key2': 'value2'}\n",
    "url = \"http://www.test.com\"\n",
    "request.post(url, data=json.dumps(data))\n",
    "```\n",
    "此时总是无法获得想要的结果，主要原因是`requests`默认`Content-Type`为`application/x-www-form-urlencoded`，此时需要在表头注明`Content-Type`注明为`application/json`，如下：\n",
    "```python\n",
    "headers = {'Content-Type': 'application/x-www-form-urlencoded'}\n",
    "request.post(url, data=json.dumps(data), headers=headers)\n",
    "```\n",
    "或者直接使用`json`参数传参：\n",
    "```python\n",
    "request.post(url, json=data)\n",
    "```\n",
    "此时，requests会自动将`Content-Type`设置为`application/json`。\n",
    "\n",
    "**相关知识点：**\n",
    "- [post请求四种传送正文的方式](https://www.cnblogs.com/insane-Mr-Li/p/9145152.html)\n",
    "- [post提交数据之-Content-Type的理解](https://www.cnblogs.com/tugenhua0707/p/8975121.html)"
   ]
  },
  {
   "cell_type": "markdown",
   "metadata": {},
   "source": [
    "## 教程收集"
   ]
  },
  {
   "cell_type": "markdown",
   "metadata": {},
   "source": [
    "1. [Python爬虫之requests使用指南](https://blog.csdn.net/weixin_43750377/article/details/103603834) \n",
    "2. [requests官方文档](https://cn.python-requests.org/zh_CN/latest/user/advanced.html#advanced)"
   ]
  },
  {
   "cell_type": "code",
   "execution_count": null,
   "metadata": {},
   "outputs": [],
   "source": []
  }
 ],
 "metadata": {
  "kernelspec": {
   "display_name": "Python 3",
   "language": "python",
   "name": "python3"
  },
  "language_info": {
   "codemirror_mode": {
    "name": "ipython",
    "version": 3
   },
   "file_extension": ".py",
   "mimetype": "text/x-python",
   "name": "python",
   "nbconvert_exporter": "python",
   "pygments_lexer": "ipython3",
   "version": "3.7.6"
  },
  "toc": {
   "base_numbering": 1,
   "nav_menu": {},
   "number_sections": true,
   "sideBar": true,
   "skip_h1_title": true,
   "title_cell": "Table of Contents",
   "title_sidebar": "Python爬虫私房手册-优雅的Requests",
   "toc_cell": false,
   "toc_position": {},
   "toc_section_display": true,
   "toc_window_display": true
  }
 },
 "nbformat": 4,
 "nbformat_minor": 2
}
