{
 "cells": [
  {
   "cell_type": "markdown",
   "metadata": {},
   "source": [
    "# Linux私房手册-常见场景问题收集"
   ]
  },
  {
   "cell_type": "markdown",
   "metadata": {},
   "source": [
    "所有测试，代码使用的环境是CentOS7.0，不同版本的Linux可能会略有不同。"
   ]
  },
  {
   "cell_type": "markdown",
   "metadata": {},
   "source": [
    "## Linux常用Shell命令"
   ]
  },
  {
   "cell_type": "markdown",
   "metadata": {},
   "source": [
    "### `find`命令"
   ]
  },
  {
   "cell_type": "markdown",
   "metadata": {},
   "source": [
    "#### 讲解"
   ]
  },
  {
   "cell_type": "markdown",
   "metadata": {},
   "source": [
    "讲解比较全面，但是不够细致：\n",
    "- [find常用参数详解](https://www.cnblogs.com/yinzhengjie/p/6207318.html)\n",
    "\n",
    "主要讲解查找文件的5种方式，例子较多：\n",
    "- [Linux中find命令用法大全](https://www.cnblogs.com/Ido-911/p/9638612.html)"
   ]
  },
  {
   "cell_type": "markdown",
   "metadata": {},
   "source": [
    "#### 例子"
   ]
  },
  {
   "cell_type": "markdown",
   "metadata": {},
   "source": [
    "1. 搜索名字为`index.html`的文件并且改名为`index.html.2019-09-23`的样式:\n",
    "```\n",
    "find /etc/ /tmp/ /root/ -name \"index.html\" -exec mv {} {}.`date +%F` \\;\n",
    "```\n",
    "2. 搜索30天以前的文件并且删除：\n",
    "```\n",
    "find /tmp/ -atime +30 -exec rm -rf {} \\;\n",
    "```\n",
    "\n",
    "其中`{}`表示搜索出来的结果，`\\;`不知道具体的意思，但是需要加在命令的后面。"
   ]
  },
  {
   "cell_type": "markdown",
   "metadata": {},
   "source": [
    "### `date`命令"
   ]
  },
  {
   "cell_type": "markdown",
   "metadata": {},
   "source": [
    "#### 讲解"
   ]
  },
  {
   "cell_type": "markdown",
   "metadata": {},
   "source": [
    "`date`命令用来显示系统时间，后面可以加参数进行格式化：\n",
    "- [Linux下date命令](https://blog.csdn.net/jk110333/article/details/8590746)"
   ]
  },
  {
   "cell_type": "markdown",
   "metadata": {},
   "source": [
    "#### 例子"
   ]
  },
  {
   "cell_type": "markdown",
   "metadata": {},
   "source": [
    "1. `date \"+%Y-%m-%d\"`，输出`2013-02-19`。\n",
    "2. `date \"+Y-%-m-%d\"`，输出`2013-2-19`，其中`%-m`表示月份前面不补0。\n",
    "3. `date -d tomorrow`，输出`2019-9-23`。"
   ]
  },
  {
   "cell_type": "markdown",
   "metadata": {},
   "source": [
    "### `touch`命令"
   ]
  },
  {
   "cell_type": "markdown",
   "metadata": {},
   "source": [
    "#### 讲解"
   ]
  },
  {
   "cell_type": "markdown",
   "metadata": {},
   "source": [
    "`touch`命令用于创建空白文件，并且设置文件的时间：\n",
    "- [touch命令](https://www.cnblogs.com/joe-four/p/cnblogs_joe_four_06.html)"
   ]
  },
  {
   "cell_type": "markdown",
   "metadata": {},
   "source": [
    "#### 例子"
   ]
  },
  {
   "cell_type": "markdown",
   "metadata": {},
   "source": [
    "1. 修改文件test.txt的时间和anaconda-ks.cfg时间相同：\n",
    "```\n",
    "touch -r  test.txt  /home/anaconda-ks.cfg\n",
    "```\n",
    "2. 修改 anaconda-ks.cfg的读取修改时间为\"2020-01-01 03:00:01\"：\n",
    "```\n",
    "touch -d \"2020-01-01 03:00:01\" anaconda-ks.cfg\n",
    "```"
   ]
  },
  {
   "cell_type": "markdown",
   "metadata": {},
   "source": [
    "## 配置服务器`sftp`服务"
   ]
  },
  {
   "cell_type": "markdown",
   "metadata": {},
   "source": [
    "### 说明 "
   ]
  },
  {
   "cell_type": "markdown",
   "metadata": {},
   "source": [
    "[Linux（CentOS）上配置 SFTP](https://www.cnblogs.com/whatmiss/p/7068772.html)"
   ]
  },
  {
   "cell_type": "markdown",
   "metadata": {},
   "source": [
    "### 注意事项"
   ]
  },
  {
   "cell_type": "markdown",
   "metadata": {},
   "source": [
    "这里有几个坑需要注意：\n",
    "1. 网上几乎所有的教程都会说要向下面这样修改`sshd_confg`配置文件：\n",
    "```\n",
    "Match User sftpuser #这行用来匹配用户\n",
    "ChrootDirectory /datas/www  #用chroot将用户的根目录指定到/datas/www ，这样用户就只能在/datas/www下活动\n",
    "AllowTcpForwarding no\n",
    "ForceCommand internal-sftp #指定sftp命令\n",
    "```\n",
    "\n",
    "但是，在`Red Hat Enterprise Linux Server release 7.0`版本下，`Match User sftpuser`后面的几行要缩进一个`tab`制表符，不然不生效。\n",
    "2. 不能连接，总是有如下的错误：\n",
    "```\n",
    "> Write failed: Broken pipe     \n",
    "> Couldn't read packet: Connection reset by peer\n",
    "```\n",
    "这个是因为从设置的用户的`ftp`根目录向上一直到系统根目录，所有的文件夹的目录拥有者必须是`root`，组可以不是`root`，且所有文件夹的权限必须是755或者750，即不可以具有群组写入权限。如果要有写权限怎么办？目前能想到的是在用户根目录下新建其它用户的目录，并赋予写权限，但此时根目录仍然没有写权限，还没有查到相应得解决方案。"
   ]
  },
  {
   "cell_type": "markdown",
   "metadata": {},
   "source": [
    "## 配置`Crontab`定时计划"
   ]
  },
  {
   "cell_type": "markdown",
   "metadata": {},
   "source": [
    "### 说明"
   ]
  },
  {
   "cell_type": "markdown",
   "metadata": {},
   "source": [
    "[Linux-Centos用crontab定时运行python脚本详细步骤](https://www.cnblogs.com/qq874455953/p/9589207.html)"
   ]
  },
  {
   "cell_type": "markdown",
   "metadata": {},
   "source": [
    "### 注意事项 "
   ]
  },
  {
   "cell_type": "markdown",
   "metadata": {},
   "source": [
    "1. `crontab`默认的路径是当前用户的`home`目录，因此如果脚本不在当前用户的`home`目录的话，不管是`crontab`命令本身，还是要执行的脚本里面的路径，都需要使用绝对路径。比如，脚本经常会这样写：\n",
    "```python\n",
    "f.open(\"test.txt\", 'w')\n",
    "f.close()\n",
    "```\n",
    "表示在脚本的当前目录下打开一个\"test.txt\"的文件，此时很可能失效，因为系统会在当前登录用户的`home`目录下生成\"test.txt\"，而不是在和脚本文件相同的目录下。"
   ]
  },
  {
   "cell_type": "code",
   "execution_count": null,
   "metadata": {},
   "outputs": [],
   "source": []
  }
 ],
 "metadata": {
  "kernelspec": {
   "display_name": "Python 3",
   "language": "python",
   "name": "python3"
  },
  "language_info": {
   "codemirror_mode": {
    "name": "ipython",
    "version": 3
   },
   "file_extension": ".py",
   "mimetype": "text/x-python",
   "name": "python",
   "nbconvert_exporter": "python",
   "pygments_lexer": "ipython3",
   "version": "3.7.3"
  },
  "toc": {
   "base_numbering": 1,
   "nav_menu": {},
   "number_sections": true,
   "sideBar": true,
   "skip_h1_title": true,
   "title_cell": "Table of Contents",
   "title_sidebar": "Linux私房手册--常见场景问题收集",
   "toc_cell": false,
   "toc_position": {},
   "toc_section_display": true,
   "toc_window_display": true
  }
 },
 "nbformat": 4,
 "nbformat_minor": 2
}
