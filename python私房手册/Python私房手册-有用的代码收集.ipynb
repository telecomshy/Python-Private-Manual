{
 "cells": [
  {
   "cell_type": "markdown",
   "id": "62839350",
   "metadata": {},
   "source": [
    "# Python私房手册-有用的代码收集"
   ]
  },
  {
   "cell_type": "markdown",
   "id": "13f73de1",
   "metadata": {},
   "source": [
    "## 获取一个随机的端口"
   ]
  },
  {
   "cell_type": "markdown",
   "id": "7a345adb",
   "metadata": {},
   "source": [
    "```python\n",
    "def get_rand_local_port():\n",
    "    \"\"\"\n",
    "    获取随机的端口\n",
    "    :return: 返回一个随机的10000到20000之间的端口\n",
    "    \"\"\"\n",
    "    ostype = platform.system()\n",
    "    if ostype == \"Linux\":\n",
    "        # linux服务器下使用\n",
    "        pscmd = \"netstat -ntl |grep -v Active| grep -v Proto|awk '{print $4}'|awk -F: '{print $NF}'\"\n",
    "        procs = os.popen(pscmd).read()\n",
    "        procarr = procs.split(\"\\n\")\n",
    "        while True:\n",
    "            localport = random.randint(10000, 20000)\n",
    "            if str(localport) not in procarr:\n",
    "                return localport\n",
    "    else:\n",
    "        # 其它操作系统随意返回一个10000到20000之间的端口\n",
    "        return random.randint(10000, 20000)\n",
    "```"
   ]
  },
  {
   "cell_type": "code",
   "execution_count": null,
   "id": "eb9a1a7a",
   "metadata": {},
   "outputs": [],
   "source": []
  }
 ],
 "metadata": {
  "kernelspec": {
   "display_name": "python38",
   "language": "python",
   "name": "python38"
  },
  "language_info": {
   "codemirror_mode": {
    "name": "ipython",
    "version": 3
   },
   "file_extension": ".py",
   "mimetype": "text/x-python",
   "name": "python",
   "nbconvert_exporter": "python",
   "pygments_lexer": "ipython3",
   "version": "3.7.6"
  },
  "toc": {
   "base_numbering": 1,
   "nav_menu": {},
   "number_sections": true,
   "sideBar": true,
   "skip_h1_title": true,
   "title_cell": "Table of Contents",
   "title_sidebar": "Python私房手册-有用的代码收集",
   "toc_cell": false,
   "toc_position": {},
   "toc_section_display": true,
   "toc_window_display": true
  }
 },
 "nbformat": 4,
 "nbformat_minor": 5
}
